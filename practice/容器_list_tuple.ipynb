{
 "cells": [
  {
   "cell_type": "code",
   "execution_count": 3,
   "metadata": {},
   "outputs": [
    {
     "name": "stdout",
     "output_type": "stream",
     "text": [
      "['國文（二）', '體育（二）', '民法總則（二）', '刑法總則（二）', '中國思想與人物', 19]\n"
     ]
    }
   ],
   "source": [
    "cls = [\"國文（二）\", \"體育（二）\", \"民法總則（二）\", \"刑法總則（二）\", \"中國思想與人物\", 19]\n",
    "print(cls)"
   ]
  },
  {
   "cell_type": "code",
   "execution_count": 4,
   "metadata": {},
   "outputs": [
    {
     "name": "stdout",
     "output_type": "stream",
     "text": [
      "['國文（二）', '體育（二）', '宋艾', '刑法總則（二）', '中國思想與人物', 19]\n"
     ]
    }
   ],
   "source": [
    "cls[2] = \"宋艾\"\n",
    "print(cls)"
   ]
  }
 ],
 "metadata": {
  "kernelspec": {
   "display_name": "Python 3",
   "language": "python",
   "name": "python3"
  },
  "language_info": {
   "codemirror_mode": {
    "name": "ipython",
    "version": 3
   },
   "file_extension": ".py",
   "mimetype": "text/x-python",
   "name": "python",
   "nbconvert_exporter": "python",
   "pygments_lexer": "ipython3",
   "version": "3.8.5"
  }
 },
 "nbformat": 4,
 "nbformat_minor": 4
}
