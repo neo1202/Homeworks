{
 "cells": [
  {
   "cell_type": "code",
   "execution_count": 4,
   "metadata": {},
   "outputs": [
    {
     "name": "stdout",
     "output_type": "stream",
     "text": [
      "輸入一個整數5\n",
      "1,5\n"
     ]
    }
   ],
   "source": [
    "nlist = []\n",
    "num = int(input(\"輸入一個整數\"))\n",
    "for i in range(1, num+1):\n",
    "    if(num%i == 0):\n",
    "        nlist.append(i)\n",
    "print(*nlist, sep=',')"
   ]
  }
 ],
 "metadata": {
  "kernelspec": {
   "display_name": "Python 3",
   "language": "python",
   "name": "python3"
  },
  "language_info": {
   "codemirror_mode": {
    "name": "ipython",
    "version": 3
   },
   "file_extension": ".py",
   "mimetype": "text/x-python",
   "name": "python",
   "nbconvert_exporter": "python",
   "pygments_lexer": "ipython3",
   "version": "3.8.5"
  }
 },
 "nbformat": 4,
 "nbformat_minor": 4
}
