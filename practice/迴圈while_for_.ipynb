{
 "cells": [
  {
   "cell_type": "markdown",
   "metadata": {},
   "source": [
    "### 綜合練習一，找因數"
   ]
  },
  {
   "cell_type": "code",
   "execution_count": 9,
   "metadata": {},
   "outputs": [
    {
     "name": "stdout",
     "output_type": "stream",
     "text": [
      "輸入一個整數: 16\n",
      "1,2,4,8,16\n"
     ]
    }
   ],
   "source": [
    "nlist = []\n",
    "num = int(input(\"輸入一個整數: \"))\n",
    "for i in range(1, num+1):\n",
    "    if(num%i == 0):\n",
    "        nlist.append(i)\n",
    "print(*nlist, sep=',')"
   ]
  },
  {
   "cell_type": "markdown",
   "metadata": {},
   "source": [
    "### 綜合練習二，找平方根"
   ]
  },
  {
   "cell_type": "code",
   "execution_count": 11,
   "metadata": {},
   "outputs": [
    {
     "name": "stdout",
     "output_type": "stream",
     "text": [
      "輸入一個整數: 16\n",
      "整數平方根為: 4\n",
      "程式結束\n"
     ]
    }
   ],
   "source": [
    "import math\n",
    "num = int(input(\"輸入一個整數: \"))\n",
    "for i in range(1,math.ceil(math.sqrt(num)+1)):\n",
    "    if(i**2 == num):\n",
    "        print(\"整數平方根為:\", i)\n",
    "        break;\n",
    "else:\n",
    "    print(\"沒有整數平方根\")\n",
    "print(\"程式結束\")"
   ]
  },
  {
   "cell_type": "code",
   "execution_count": null,
   "metadata": {},
   "outputs": [],
   "source": []
  }
 ],
 "metadata": {
  "kernelspec": {
   "display_name": "Python 3",
   "language": "python",
   "name": "python3"
  },
  "language_info": {
   "codemirror_mode": {
    "name": "ipython",
    "version": 3
   },
   "file_extension": ".py",
   "mimetype": "text/x-python",
   "name": "python",
   "nbconvert_exporter": "python",
   "pygments_lexer": "ipython3",
   "version": "3.8.5"
  }
 },
 "nbformat": 4,
 "nbformat_minor": 4
}
