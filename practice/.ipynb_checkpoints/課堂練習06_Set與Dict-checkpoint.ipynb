{
 "cells": [
  {
   "cell_type": "code",
   "execution_count": 3,
   "metadata": {},
   "outputs": [
    {
     "name": "stdout",
     "output_type": "stream",
     "text": [
      "輸入key: neo\n",
      "輸入value: 33\n",
      "輸入key: eee\n",
      "輸入value: 444\n",
      "輸入key: ff\n",
      "輸入value: 765\n"
     ]
    },
    {
     "data": {
      "text/plain": [
       "{'neo': '33', 'eee': '444', 'ff': '765'}"
      ]
     },
     "execution_count": 3,
     "metadata": {},
     "output_type": "execute_result"
    }
   ],
   "source": [
    "mydict = {}\n",
    "for i in range(3):\n",
    "    key = input(\"輸入key: \")\n",
    "    value = input(\"輸入value: \")\n",
    "    mydict[key] = value\n",
    "mydict"
   ]
  },
  {
   "cell_type": "code",
   "execution_count": 4,
   "metadata": {},
   "outputs": [
    {
     "name": "stdout",
     "output_type": "stream",
     "text": [
      "搜尋？neo\n",
      "True\n"
     ]
    }
   ],
   "source": [
    "search = input(\"搜尋？\")\n",
    "print(search in mydict)"
   ]
  },
  {
   "cell_type": "code",
   "execution_count": 5,
   "metadata": {},
   "outputs": [
    {
     "name": "stdout",
     "output_type": "stream",
     "text": [
      "33\n"
     ]
    }
   ],
   "source": [
    "#加分\n",
    "if(search in mydict):\n",
    "    print(mydict[search])"
   ]
  }
 ],
 "metadata": {
  "kernelspec": {
   "display_name": "Python 3",
   "language": "python",
   "name": "python3"
  },
  "language_info": {
   "codemirror_mode": {
    "name": "ipython",
    "version": 3
   },
   "file_extension": ".py",
   "mimetype": "text/x-python",
   "name": "python",
   "nbconvert_exporter": "python",
   "pygments_lexer": "ipython3",
   "version": "3.8.5"
  }
 },
 "nbformat": 4,
 "nbformat_minor": 4
}
