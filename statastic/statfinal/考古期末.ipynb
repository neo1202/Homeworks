{
 "cells": [
  {
   "cell_type": "code",
   "execution_count": 9,
   "metadata": {},
   "outputs": [],
   "source": [
    "from matplotlib import pyplot as plt\n",
    "%matplotlib inline\n",
    "\n",
    "import pandas as pd\n",
    "import numpy as np\n",
    "import scipy.stats as stats\n",
    "import statsmodels.api as sm\n",
    "import statsmodels.stats.api as sms\n",
    "import statsmodels.formula.api as smf\n",
    "import statsmodels.stats.multicomp as smm\n",
    "import statsmodels"
   ]
  },
  {
   "cell_type": "markdown",
   "metadata": {},
   "source": [
    "## Question 1\n",
    "阿茲罕默症 (Alzheimer's Disease)為老年人常見疾病。目前台灣老年人口中，年紀滿65歲但未達75歲者有1457.2千人，滿75歲但未達85歲者有1093千人。年紀滿85歲者有761.8千人。為了瞭解各年齡層患阿茲罕默症之比率與總數，衛生單位進行了一個調查。調查的方法為針對三個老年的年齡層，\\[65, 75)、\\[75, 85)、 [85,$\\infty$)，各自隨機抽樣，並查詢被抽到的個體是否患有阿茲罕默症。調查結果在ds_a.xls。其中年紀的編碼(Age category)為 1 = \\[65, 75), 2 = \\[75, 85), 3 = [85,$\\infty$)。而阿茲罕默症的編碼為 1 = no, 2 = yes。\n",
    "* (3\\%) A: 年紀滿65歲但未達75歲者患阿茲罕默症的比率以及95\\% Confidence Interval。\n",
    "* (3\\%) D: 估計年紀滿65歲但未達75歲者患阿茲罕默症的總數之均數以及95\\% Confidence Interval。\n",
    "* (5\\%) G: 估計年滿65歲者患阿茲罕默症的總數之均數以及95\\% Confidence Interval。提示: 直接將前三題的Confidence Interval上、下邊界各自相加會得到錯誤的結果。"
   ]
  },
  {
   "cell_type": "code",
   "execution_count": 70,
   "metadata": {},
   "outputs": [
    {
     "name": "stdout",
     "output_type": "stream",
     "text": [
      "      Alzheimers  Age category\n",
      "1549           1             1\n",
      "1550           1             3\n",
      "1551           1             1\n",
      "1552           1             2\n",
      "1553           1             2\n"
     ]
    },
    {
     "data": {
      "text/plain": [
       "Alzheimers      0\n",
       "Age category    0\n",
       "dtype: int64"
      ]
     },
     "execution_count": 70,
     "metadata": {},
     "output_type": "execute_result"
    }
   ],
   "source": [
    "q1_df1 = pd.read_excel('ds_a.xlsx')\n",
    "tmp1 = q1_df1.value_counts()\n",
    "tmp1 = tmp1.reset_index()\n",
    "print(df1.tail())\n",
    "q1_df1.isna().sum()"
   ]
  },
  {
   "cell_type": "code",
   "execution_count": 71,
   "metadata": {},
   "outputs": [
    {
     "name": "stdout",
     "output_type": "stream",
     "text": [
      "---\n",
      "az_prob = 0.0205, age_n = 829\n",
      " NP = 17.0000, N(1-P) = 812.0000\n",
      "z critical value = 1.9600\n",
      "[LCL, UCL] = [0.0109, 0.0302]\n",
      "Estimated mean for the total is 29.8823\n",
      "Estimated Total [LCL, UCL] = [15.8238, 43.9407]\n",
      "---\n",
      "az_prob = 0.1909, age_n = 503\n",
      " NP = 96.0000, N(1-P) = 407.0000\n",
      "z critical value = 1.9600\n",
      "[LCL, UCL] = [0.1565, 0.2252]\n",
      "Estimated mean for the total is 208.6044\n",
      "Estimated Total [LCL, UCL] = [171.0683, 246.1405]\n",
      "---\n",
      "az_prob = 0.4189, age_n = 222\n",
      " NP = 93.0000, N(1-P) = 129.0000\n",
      "z critical value = 1.9600\n",
      "[LCL, UCL] = [0.3540, 0.4838]\n",
      "Estimated mean for the total is 319.1324\n",
      "Estimated Total [LCL, UCL] = [269.6904, 368.5744]\n"
     ]
    }
   ],
   "source": [
    "# unit: thousand persons\n",
    "age_population =[1457.2, 1093, 761.8]\n",
    "alpha = 0.05\n",
    "# total\n",
    "total_mean = []\n",
    "total_var = []\n",
    "for i, age in enumerate([1, 2, 3]):\n",
    "    q1_tmpindex = q1_df1['Age category'] == age\n",
    "    q1_alz = q1_df1[q1_tmpindex]['Alzheimers'] == 2\n",
    "    az_prob = q1_alz.mean()\n",
    "    age_n = q1_alz.shape[0]\n",
    "    print(f\"---\\naz_prob = {az_prob:.4f}, age_n = {age_n}\")\n",
    "    np = age_n * az_prob\n",
    "    n1p = age_n * (1 - az_prob)\n",
    "    print(f\" NP = {np:.4f}, N(1-P) = {n1p:.4f}\") #看有沒有合格\n",
    "    \n",
    "    zcv=stats.norm.ppf(1-alpha/2)\n",
    "    print(f\"z critical value = {zcv:.4f}\")\n",
    "    phead_sd = (az_prob * (1 - az_prob) / age_n) ** 0.5 #sample平均標準差\n",
    "    \n",
    "    lcl = az_prob - zcv * phead_sd\n",
    "    ucl = az_prob + zcv * phead_sd\n",
    "    print(f\"[LCL, UCL] = [{lcl:.4f}, {ucl:.4f}]\")\n",
    "    \n",
    "    pop_mean = az_prob * age_population[i]\n",
    "    pop_lcl = lcl * age_population[i]\n",
    "    pop_ucl = ucl * age_population[i]\n",
    "    print(f\"Estimated mean for the total is {pop_mean:.4f}\")\n",
    "    print(f\"Estimated Total [LCL, UCL] = [{pop_lcl:.4f}, {pop_ucl:.4f}]\")\n",
    "    \n",
    "    \n",
    "    total_mean.append(az_prob * age_population[i])\n",
    "    pop_var = (phead_sd * age_population[i]) ** 2 #總人口數這樣算\n",
    "    total_var.append(pop_var)"
   ]
  },
  {
   "cell_type": "markdown",
   "metadata": {},
   "source": [
    "A. The proportion for age group [65, 75) is 0.0205, and the 95% CI is [0.0109, 0.0302]. <br>\n",
    "D. The mean of the estimated total for age group [65, 75) is 29.8823 thousand persons, and the 95\\% CI is [15.8238, 43.9407] thousand persons."
   ]
  },
  {
   "cell_type": "code",
   "execution_count": 72,
   "metadata": {},
   "outputs": [
    {
     "name": "stdout",
     "output_type": "stream",
     "text": [
      "The Mean for X1+X2+X3 = 557.6190739824087\n",
      "The Std Dev. for X1+X2+X3 = 32.474231383007286\n",
      "Three age CI: [493.9708 621.2674]\n"
     ]
    }
   ],
   "source": [
    "mean_agesum = sum(total_mean)\n",
    "std_agesum = sum(total_var) ** 0.5\n",
    "print(f\"The Mean for X1+X2+X3 = {mean_agesum}\")\n",
    "print(f\"The Std Dev. for X1+X2+X3 = {std_agesum}\")\n",
    "lcl2 = mean_agesum - zcv * std_agesum\n",
    "ucl2 = mean_agesum + zcv * std_agesum\n",
    "print(f\"Three age CI: [{lcl2:.4f} {ucl2:.4f}]\")"
   ]
  },
  {
   "cell_type": "markdown",
   "metadata": {},
   "source": [
    "## Question 2\n",
    "(data column = CHILDS) The total fertility rate (TFR) of a population is the average number of children that would be born to a woman over her lifetime. The TFR needed to maintain current population levels is 2.08 children per woman. To understand the trend of future population, an institution conducted a survey and asked a random sample of women the Number of Children they Plan to Have (NCPH). We are interested in knowing whether the mean of NCPH is less than 2.08 children. \n",
    "\n",
    "* (3\\%) A. Write down the hypothesis for this question.\n",
    "* (3\\%) B. What is the sample mean, standard deviation, and sample size (excluding missing values) of the survey for NCPH?\n",
    "* (3\\%) C. What is the rejection region for the hypothesis test?\n",
    "* (3\\%) D. What is the t-value for the hypothesis test?\n",
    "* (3\\%) E. What is the p-value for the hypothesis test? What is your conclusion to the hypothesis test?\n",
    "* (3\\%) F. What is the 95% Confidence Interval for the population mean of NCPH?"
   ]
  },
  {
   "cell_type": "markdown",
   "metadata": {},
   "source": [
    "#A\n",
    "Hypothesis Testing.\n",
    "Let μ denote the population mean for the number of children women plan to have.\n",
    "H0: μ>=2.08\n",
    "H1: μ<2.08"
   ]
  },
  {
   "cell_type": "code",
   "execution_count": 73,
   "metadata": {},
   "outputs": [
    {
     "name": "stdout",
     "output_type": "stream",
     "text": [
      " Number of missing values = 8\n"
     ]
    },
    {
     "data": {
      "image/png": "[encoded data removed]",
      "text/plain": [
       "<Figure size 432x288 with 1 Axes>"
      ]
     },
     "metadata": {
      "needs_background": "light"
     },
     "output_type": "display_data"
    }
   ],
   "source": [
    "q2_df1 = pd.read_excel('ds_b.xlsx')\n",
    "_ = plt.hist(q2_df1.CHILDS, bins = \"auto\")\n",
    "ismiss = q2_df1.CHILDS.isna()\n",
    "print(f\" Number of missing values = {ismiss.sum()}\")\n",
    "q2_df1 = q2_df1[~ismiss] #移除na"
   ]
  },
  {
   "cell_type": "code",
   "execution_count": 74,
   "metadata": {},
   "outputs": [
    {
     "name": "stdout",
     "output_type": "stream",
     "text": [
      "Sample mean = 1.8209\n",
      "Sample std dev = 1.6230\n",
      "Sample size = 2530\n"
     ]
    }
   ],
   "source": [
    "m1 = q2_df1.CHILDS.mean()\n",
    "std1 = q2_df1.CHILDS.std()\n",
    "nobs = q2_df1.CHILDS.shape[0]\n",
    "print(f\"Sample mean = {m1:.4f}\")\n",
    "print(f\"Sample std dev = {std1:.4f}\")\n",
    "print(f\"Sample size = {nobs}\")"
   ]
  },
  {
   "cell_type": "code",
   "execution_count": 75,
   "metadata": {},
   "outputs": [
    {
     "name": "stdout",
     "output_type": "stream",
     "text": [
      "The critical value is 2.0269\n"
     ]
    }
   ],
   "source": [
    "# rejection region\n",
    "alpha = 0.05\n",
    "m0 = 2.08\n",
    "tcv = stats.t.ppf(1 - alpha, df = nobs - 1)\n",
    "rej_cv = m0 - tcv * std1 / (nobs ** 0.5)\n",
    "print(f\"The critical value is {rej_cv:.4f}\")"
   ]
  },
  {
   "cell_type": "code",
   "execution_count": 76,
   "metadata": {},
   "outputs": [
    {
     "name": "stdout",
     "output_type": "stream",
     "text": [
      "The t-value for our hypothesis is -8.0283\n",
      "The p-value for our hypothesis is 0.0000\n"
     ]
    }
   ],
   "source": [
    "stderr = std1 / (nobs ** 0.5)\n",
    "tvalue = (m1 - m0) / stderr\n",
    "print(f\"The t-value for our hypothesis is {tvalue:.4f}\")\n",
    "pvalue = stats.t.cdf(tvalue, df = nobs - 1)\n",
    "print(f\"The p-value for our hypothesis is {pvalue:.4f}\")"
   ]
  },
  {
   "cell_type": "markdown",
   "metadata": {},
   "source": [
    "Since the p-value < 0.05, we can reject the null hypothesis at a 95% confidence level. Thus we have evidence to support that the TFR is less than 2.08."
   ]
  },
  {
   "cell_type": "code",
   "execution_count": 77,
   "metadata": {},
   "outputs": [
    {
     "name": "stdout",
     "output_type": "stream",
     "text": [
      "95% CI = [1.7577, 1.8842]\n"
     ]
    }
   ],
   "source": [
    "tcv2 = stats.t.ppf(1 - alpha/2, df = nobs - 1)\n",
    "lcl = m1 - tcv2 * stderr\n",
    "ucl = m1 + tcv2 * stderr #stderr為除以n過的標準差\n",
    "print(f\"95% CI = [{lcl:.4f}, {ucl:.4f}]\")"
   ]
  },
  {
   "cell_type": "markdown",
   "metadata": {},
   "source": [
    "## Question 3\n",
    "One important factor in inventory control is the variance of the daily demand for the product. A management scientist has developed the optimal order quantity and reorder point, assuming that the variance is equal to 250. The company has recently experienced some inventory problems, which induced the operations manager to doubt the assumption. To examine the problem, the manager took a sample of 25 days and recorded the demand. \n",
    "* (10%) A. Do these data provide sufficient evidence at the 5% significant level to infer that the management scientist's assumption about the variance is wrong? You should report the Chi-squared statistics, the Chi-squared test critical value, and the p-value. \n",
    "* (3%) B. What is the required condition for the statistical procedure in Part A?\n",
    "* (3%) C. Does it appear that the required condition is not satisfied?"
   ]
  },
  {
   "cell_type": "code",
   "execution_count": 80,
   "metadata": {},
   "outputs": [
    {
     "name": "stdout",
     "output_type": "stream",
     "text": [
      "Sample mean = 201.6000\n",
      "Sample std dev = 16.4494\n",
      "Sample size = 25\n"
     ]
    }
   ],
   "source": [
    "q3_df1 = pd.read_excel('ds_c.xlsx')\n",
    "m3 = q3_df1.Demand.mean()\n",
    "std3 = q3_df1.Demand.std()\n",
    "nobs3 = q3_df1.Demand.shape[0]\n",
    "print(f\"Sample mean = {m3:.4f}\")\n",
    "print(f\"Sample std dev = {std3:.4f}\")\n",
    "print(f\"Sample size = {nobs3}\")"
   ]
  },
  {
   "cell_type": "markdown",
   "metadata": {},
   "source": [
    "Hypothesis Testing\n",
    "We use σ2 to denote the demand variance.\n",
    "H0: σ2=250\n",
    "H1: σ2≠250"
   ]
  },
  {
   "cell_type": "code",
   "execution_count": 81,
   "metadata": {},
   "outputs": [
    {
     "name": "stdout",
     "output_type": "stream",
     "text": [
      "The Chi-squared Statistic is 25.9760\n",
      "The rejection region is Chi-squared statistics < 12.4012 or\n",
      "     Chi-squared statistics > 39.3641\n",
      "The p-value is 0.7088\n"
     ]
    }
   ],
   "source": [
    "# Chi-squared statistics\n",
    "# the Null hypothesis\n",
    "var0 = 250\n",
    "alpha = 0.05\n",
    "chi2_value = (nobs3 - 1) * std3 ** 2 / var0 #n-1乘以樣本標準差平方除以題目給的標準差平方\n",
    "chi2_lcv = stats.chi2.ppf(alpha / 2 , df = nobs3 - 1)\n",
    "chi2_ucv = stats.chi2.ppf(1 - alpha / 2, df = nobs3 - 1)\n",
    "p_value3 = stats.chi2.cdf(chi2_value, df = nobs3 - 1)\n",
    "if p_value3 > 0.5:\n",
    "    p_value3 = 1 - p_value3\n",
    "# two-tailed test\n",
    "p_value3 = p_value3 * 2\n",
    "\n",
    "print(f\"The Chi-squared Statistic is {chi2_value:.4f}\")\n",
    "print(f\"The rejection region is \"\\\n",
    "      f\"Chi-squared statistics < {chi2_lcv:.4f} or\\n     Chi-squared statistics > {chi2_ucv:.4f}\")\n",
    "\n",
    "print(f\"The p-value is {p_value3:.4f}\")"
   ]
  },
  {
   "cell_type": "markdown",
   "metadata": {},
   "source": [
    "Since the p-value = 0.7088 > 0.05, we do not have enough evidence to reject the null hypothesis. That is, we cannot reject the hypothesis that the population variance is 250."
   ]
  },
  {
   "cell_type": "markdown",
   "metadata": {},
   "source": [
    "chisquare時 The demand is required to be normally distributed.<br>\n",
    "_ = plt.hist(q3_df1.Demand, bins = \"auto\")"
   ]
  },
  {
   "cell_type": "markdown",
   "metadata": {},
   "source": [
    "## Question 4\n",
    "(22% data file = ds_d.xlsx) In an attempt to reduce the number of person-hours lost as a result of industrial accidents, a large production plant installed new safety equipment. In a test of the effectiveness of the equipment, a random sample of 50 departments was chosen. The number of person-hours lost in the month before and the month after installing the safety equipment was recorded. The percentage change was calculated and recorded. \n",
    "\n",
    "* (5%) A. Can we infer at the 5% significant level that the new safety equipment is effective?\n",
    "* (6%) B. The manager is concerned that the test was not sensitive enough to detect small but important changes. In particular, he worries that if the true reduction in time lost to accidents is actually 2% (i.e., $\\mu = -2$), then the firm may miss the opportunity to install very effective equipment based on z tests. Assume that the population standard deviation of the percentage change is 5.0, find the probability that the test will fail to conclude that such equipment is effective using a sample size of 50. \n",
    "* (5%) C. Discuss ways to decrease this probability in the previous question. \n",
    "* (6%) D. Plot the probability that the test can successfully conclude that such equipment is effective for $-5 \\le \\mu < 0$. "
   ]
  },
  {
   "cell_type": "markdown",
   "metadata": {},
   "source": [
    "The goal is to test the mean of reduced person-hours lost as a result of industrial accident. Let μ denote the population mean of this random variable. We write our hypotheses as:\n",
    "H0: μ>=0 H1: μ<0"
   ]
  },
  {
   "cell_type": "code",
   "execution_count": 86,
   "metadata": {},
   "outputs": [
    {
     "name": "stdout",
     "output_type": "stream",
     "text": [
      "Sample mean = -1.2000\n",
      "Sample std dev = 5.0629\n",
      "Sample size = 50\n"
     ]
    }
   ],
   "source": [
    "q4_df1 = pd.read_excel('ds_d.xlsx')\n",
    "m4 = q4_df1.Change_percent.mean()\n",
    "std4 = q4_df1.Change_percent.std()\n",
    "nobs4 = q4_df1.Change_percent.shape[0]\n",
    "print(f\"Sample mean = {m4:.4f}\")\n",
    "print(f\"Sample std dev = {std4:.4f}\")\n",
    "print(f\"Sample size = {nobs4}\")"
   ]
  },
  {
   "cell_type": "code",
   "execution_count": 87,
   "metadata": {},
   "outputs": [
    {
     "name": "stdout",
     "output_type": "stream",
     "text": [
      "t-value = -1.6760\n",
      "The p-value = 0.0501\n"
     ]
    }
   ],
   "source": [
    "t_value4 = (m4 - 0) / (std4 / (nobs4 ** 0.5)) #剪掉h0平均數後除以sample標準差/根號sample數\n",
    "print(f\"t-value = {t_value4:.4f}\")\n",
    "p_value4 = stats.t.cdf(t_value4, df = nobs4 - 1)\n",
    "print(f\"The p-value = {p_value4:.4f}\")\n",
    "#The p-value = 0.0501 > 0.05. Thus we cannot reject the null hypothesis. \n",
    "#That is, we do not have evidence that the safety equipment is effective at 5% significant level"
   ]
  },
  {
   "cell_type": "code",
   "execution_count": 89,
   "metadata": {},
   "outputs": [
    {
     "name": "stdout",
     "output_type": "stream",
     "text": [
      "The critical value for z-value is 1.6449\n",
      "Std. Dev. of x_bar is 0.7071\n"
     ]
    }
   ],
   "source": [
    "#if using z-test, with population sigma = 5\n",
    "alpha4 = .05\n",
    "zcv = stats.norm.ppf(1 - alpha4)\n",
    "print(f\"The critical value for z-value is {zcv:.4f}\")\n",
    "sigma4 = 5.0 #假設標準差為五的z檢定\n",
    "nobs4 = 50\n",
    "xbar_sd = sigma4 / nobs4 ** 0.5\n",
    "print(f\"Std. Dev. of x_bar is {xbar_sd:.4f}\")"
   ]
  },
  {
   "cell_type": "code",
   "execution_count": 90,
   "metadata": {},
   "outputs": [
    {
     "name": "stdout",
     "output_type": "stream",
     "text": [
      "The critical value of x_bar is -1.1631\n",
      "z_rf1 = 1.1836\n",
      "beta = 0.1183\n"
     ]
    }
   ],
   "source": [
    "mu4_0 = 0\n",
    "xbar_cv = mu4_0 - zcv * xbar_sd\n",
    "print(f\"The critical value of x_bar is {xbar_cv:.4f}\") #找到拒絕的數值xc\n",
    "#Type II error: β = Prob(xbar>-1.1631|μ =-2 )\n",
    "mu1 = -2\n",
    "z_rf1 = (xbar_cv - mu1) / (sigma4 / nobs4 ** 0.5)\n",
    "print(f\"z_rf1 = {z_rf1:.4f}\")\n",
    "beta = 1 - stats.norm.cdf(z_rf1)\n",
    "print(f\"beta = {beta:.4f}\")\n",
    "#β can be decreased by increasing α and/or increasing the sample size."
   ]
  },
  {
   "cell_type": "code",
   "execution_count": 93,
   "metadata": {},
   "outputs": [
    {
     "name": "stdout",
     "output_type": "stream",
     "text": [
      "mu = -5.0000, Power = 1.0000\n",
      "mu = -4.6000, Power = 1.0000\n",
      "mu = -4.1000, Power = 1.0000\n",
      "mu = -3.1000, Power = 0.9969\n",
      "mu = -2.1000, Power = 0.9074\n",
      "mu = -1.1000, Power = 0.4645\n",
      "mu = -0.1000, Power = 0.0664\n"
     ]
    },
    {
     "data": {
      "image/png": "[encoded data removed]",
      "text/plain": [
       "<Figure size 432x288 with 1 Axes>"
      ]
     },
     "metadata": {
      "needs_background": "light"
     },
     "output_type": "display_data"
    }
   ],
   "source": [
    "import numpy as np\n",
    "mu1_all = np.arange(-5, 0, 0.1)\n",
    "power_all = []\n",
    "for mu1 in mu1_all:\n",
    "    z_rf1 = (xbar_cv - mu1) / (sigma4 / nobs4 ** 0.5)\n",
    "    powertmp = stats.norm.cdf(z_rf1) #實際拒絕他的機率\n",
    "    power_all.append(powertmp)       #beta為1-此power\n",
    "_ = plt.plot(mu1_all, power_all)\n",
    "_ = plt.ylabel(\"Power\")\n",
    "# show a few values\n",
    "idx1 = [0, 4, 9, 19, 29, 39, 49]\n",
    "for i in idx1:\n",
    "    amu = mu1_all[i]\n",
    "    pw1 = power_all[i]\n",
    "    print(f\"mu = {amu:.4f}, Power = {pw1:.4f}\")"
   ]
  },
  {
   "cell_type": "markdown",
   "metadata": {},
   "source": [
    "Self-selected samples are samples generated by sending out invitations to the target population and let individuals to determine whether they are going to participate.\n",
    "\n",
    "Self-selected samples are always biased because only individuals who are more interested in the issues involved in the invitation are motivated to participate.\n",
    "\n",
    "Examples include (1) the survey conducted on the Internet, (2) survey called by a Radio or TV show."
   ]
  },
  {
   "cell_type": "markdown",
   "metadata": {},
   "source": [
    "Sampling error refers to differences between the sample and the population that exists only because of the observations that happended to be selected for the sample. Sampling error is an error that we expect to occur when we make a statement about a population that is based only on the observations contained in a sample taken from the population."
   ]
  },
  {
   "cell_type": "markdown",
   "metadata": {},
   "source": [
    "An unbiased estimator of a population parameter is an estimator whose expected value is equal to that parameter.\n",
    "\n",
    "An estimator is consistent if the difference between the estimator and the parameter grows smaller as the sample size grows larger."
   ]
  }
 ],
 "metadata": {
  "kernelspec": {
   "display_name": "Python 3",
   "language": "python",
   "name": "python3"
  },
  "language_info": {
   "codemirror_mode": {
    "name": "ipython",
    "version": 3
   },
   "file_extension": ".py",
   "mimetype": "text/x-python",
   "name": "python",
   "nbconvert_exporter": "python",
   "pygments_lexer": "ipython3",
   "version": "3.8.5"
  }
 },
 "nbformat": 4,
 "nbformat_minor": 4
}
