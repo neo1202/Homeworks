{
 "cells": [
  {
   "cell_type": "code",
   "execution_count": 99,
   "metadata": {},
   "outputs": [],
   "source": [
    "import gurobipy as gp \n",
    "from gurobipy import *\n",
    "import pandas as pd\n",
    "import numpy as np"
   ]
  },
  {
   "cell_type": "code",
   "execution_count": 116,
   "metadata": {},
   "outputs": [
    {
     "data": {
      "text/plain": [
       "array([0., 0., 0., 0.])"
      ]
     },
     "metadata": {},
     "output_type": "display_data"
    },
    {
     "data": {
      "text/plain": [
       "array([   0.,    0.,    0.,    0., 1000.])"
      ]
     },
     "metadata": {},
     "output_type": "display_data"
    },
    {
     "name": "stdout",
     "output_type": "stream",
     "text": [
      "10 1 [8. 0. 0. 0.] [15.  0.  0.  0.]\n",
      "20 2 [8. 4. 0. 0.] [15. 14.  0.  0.]\n",
      "3 3 [8. 4. 7. 0.] [15. 14. 12.  0.]\n",
      "19 4 [8. 4. 7. 6.] [15. 14. 12. 12.]\n",
      "14 3 [ 8.  4. 14.  6.] [15. 14. 22. 12.]\n",
      "25 4 [ 8.  4. 14. 13.] [15. 14. 22. 22.]\n",
      "11 2 [ 8. 14. 14. 13.] [15. 23. 22. 22.]\n",
      "23 5 [ 8. 14. 14. 13.] [15. 23. 22. 22.]\n",
      "2 1 [14. 14. 14. 13.] [23. 23. 22. 22.]\n",
      "13 5 [14. 14. 14. 13.] [23. 23. 22. 22.]\n",
      "22 5 [14. 14. 14. 13.] [23. 23. 22. 22.]\n",
      "24 5 [14. 14. 14. 13.] [23. 23. 22. 22.]\n",
      "8 5 [14. 14. 14. 13.] [23. 23. 22. 22.]\n",
      "18 5 [14. 14. 14. 13.] [23. 23. 22. 22.]\n",
      "5 5 [14. 14. 14. 13.] [23. 23. 22. 22.]\n",
      "6 4 [14. 14. 14. 15.] [23. 23. 22. 28.]\n",
      "9 5 [14. 14. 14. 15.] [23. 23. 22. 28.]\n",
      "1 5 [14. 14. 14. 15.] [23. 23. 22. 28.]\n",
      "12 5 [14. 14. 14. 15.] [23. 23. 22. 28.]\n",
      "16 5 [14. 14. 14. 15.] [23. 23. 22. 28.]\n",
      "21 5 [14. 14. 14. 15.] [23. 23. 22. 28.]\n",
      "4 5 [14. 14. 14. 15.] [23. 23. 22. 28.]\n",
      "7 5 [14. 14. 14. 15.] [23. 23. 22. 28.]\n",
      "17 5 [14. 14. 14. 15.] [23. 23. 22. 28.]\n",
      "15 3 [14. 14. 15. 15.] [23. 23. 23. 28.]\n"
     ]
    },
    {
     "data": {
      "text/plain": [
       "array([23., 23., 23., 28.])"
      ]
     },
     "metadata": {},
     "output_type": "display_data"
    },
    {
     "data": {
      "text/plain": [
       "[[10, 2], [20, 11], [3, 14, 15], [19, 25, 6]]"
      ]
     },
     "metadata": {},
     "output_type": "display_data"
    },
    {
     "data": {
      "text/plain": [
       "array([14., 14., 15., 15.])"
      ]
     },
     "metadata": {},
     "output_type": "display_data"
    },
    {
     "data": {
      "text/plain": [
       "23.0"
      ]
     },
     "execution_count": 116,
     "metadata": {},
     "output_type": "execute_result"
    }
   ],
   "source": [
    "#highest benefit first\n",
    "I = 4\n",
    "J = 25\n",
    "K = 15\n",
    "b = np.array([5,8,12,4,6,6,3,7,6,15,9,5,8,10,1,5,3,7,12,14,5,8,9,8,10])\n",
    "p = np.array([3,6,7,5,4,2,6,3,5,8,10,2,4,7,1,5,8,3,6,4,12,4,8,4,7])\n",
    "indexes = np.arange(J)#都是0~24台機器\n",
    "tup = list(zip(indexes, b))\n",
    "tup = sorted(tup, key = lambda s: s[1], reverse = True)\n",
    "bene = np.zeros(I+1) #多一格給底下用\n",
    "b = [] #製造機器存了誰\n",
    "accu_p = np.zeros(I)\n",
    "for i in range(I):\n",
    "    b.append([])\n",
    "    #display(b)\n",
    "display(accu_p)\n",
    "bene[I] = 1000\n",
    "display(bene)\n",
    "for i, j in tup: #先找目前最少 index-1&benefit\n",
    "    #這步得直接找到人選\n",
    "    smallest = I #原本第I+1台 不存在的 \n",
    "    for k in range(0,I):\n",
    "        if(bene[k]<bene[smallest] and accu_p[k] + p[i] <= K):\n",
    "            smallest = k\n",
    "    if(smallest != I):\n",
    "        bene[smallest]+=j\n",
    "        b[smallest].append(i+1) #確切的job給誰\n",
    "        accu_p[smallest] += p[i]\n",
    "    print(i+1, smallest+1, accu_p, bene[0:I])\n",
    "display(bene[0:I])\n",
    "display(b)\n",
    "display(accu_p)"
   ]
  },
  {
   "cell_type": "code",
   "execution_count": 109,
   "metadata": {},
   "outputs": [
    {
     "name": "stdout",
     "output_type": "stream",
     "text": [
      "Gurobi Optimizer version 9.5.1 build v9.5.1rc2 (mac64[x86])\n",
      "Thread count: 4 physical cores, 8 logical processors, using up to 8 threads\n",
      "Optimize a model with 134 rows, 101 columns and 405 nonzeros\n",
      "Model fingerprint: 0xcae02e26\n",
      "Coefficient statistics:\n",
      "  Matrix range     [1e+00, 2e+01]\n",
      "  Objective range  [1e+00, 1e+00]\n",
      "  Bounds range     [0e+00, 0e+00]\n",
      "  RHS range        [1e+00, 2e+01]\n",
      "Presolve removed 101 rows and 0 columns\n",
      "Presolve time: 0.01s\n",
      "Presolved: 33 rows, 101 columns, 304 nonzeros\n",
      "\n",
      "Iteration    Objective       Primal Inf.    Dual Inf.      Time\n",
      "       0    8.0000000e+30   4.000000e+30   8.000000e+00      0s\n",
      "      46    3.0392857e+01   0.000000e+00   0.000000e+00      0s\n",
      "\n",
      "Solved in 46 iterations and 0.01 seconds (0.00 work units)\n",
      "Optimal objective  3.039285714e+01\n",
      "w = 30.39\n",
      "a[0,0] = 0.00\n",
      "a[0,1] = 0.00\n",
      "a[0,2] = 0.00\n",
      "a[0,3] = 0.00\n",
      "a[0,4] = 0.25\n",
      "a[0,5] = 1.00\n",
      "a[0,6] = 0.00\n",
      "a[0,7] = 1.00\n",
      "a[0,8] = 0.00\n",
      "a[0,9] = 0.00\n",
      "a[0,10] = 0.00\n",
      "a[0,11] = 1.00\n",
      "a[0,12] = 0.00\n",
      "a[0,13] = 0.86\n",
      "a[0,14] = 0.00\n",
      "a[0,15] = 0.00\n",
      "a[0,16] = 0.00\n",
      "a[0,17] = 0.33\n",
      "a[0,18] = 0.00\n",
      "a[0,19] = 0.00\n",
      "a[0,20] = 0.00\n",
      "a[0,21] = 0.00\n",
      "a[0,22] = 0.00\n",
      "a[0,23] = 0.00\n",
      "a[0,24] = 0.00\n",
      "a[1,0] = 1.00\n",
      "a[1,1] = 0.00\n",
      "a[1,2] = 0.00\n",
      "a[1,3] = 0.00\n",
      "a[1,4] = 0.75\n",
      "a[1,5] = 0.00\n",
      "a[1,6] = 0.00\n",
      "a[1,7] = 0.00\n",
      "a[1,8] = 0.00\n",
      "a[1,9] = 0.00\n",
      "a[1,10] = 0.00\n",
      "a[1,11] = 0.00\n",
      "a[1,12] = 0.48\n",
      "a[1,13] = 0.00\n",
      "a[1,14] = 0.00\n",
      "a[1,15] = 0.00\n",
      "a[1,16] = 0.00\n",
      "a[1,17] = 0.00\n",
      "a[1,18] = 0.19\n",
      "a[1,19] = 0.48\n",
      "a[1,20] = 0.00\n",
      "a[1,21] = 1.00\n",
      "a[1,22] = 0.00\n",
      "a[1,23] = 0.00\n",
      "a[1,24] = 0.00\n",
      "a[2,0] = 0.00\n",
      "a[2,1] = 0.00\n",
      "a[2,2] = 1.00\n",
      "a[2,3] = 0.00\n",
      "a[2,4] = 0.00\n",
      "a[2,5] = 0.00\n",
      "a[2,6] = 0.00\n",
      "a[2,7] = 0.00\n",
      "a[2,8] = 0.00\n",
      "a[2,9] = 0.00\n",
      "a[2,10] = 0.00\n",
      "a[2,11] = 0.00\n",
      "a[2,12] = 0.00\n",
      "a[2,13] = 0.00\n",
      "a[2,14] = 0.00\n",
      "a[2,15] = 0.00\n",
      "a[2,16] = 0.00\n",
      "a[2,17] = 0.67\n",
      "a[2,18] = 0.81\n",
      "a[2,19] = 0.29\n",
      "a[2,20] = 0.00\n",
      "a[2,21] = 0.00\n",
      "a[2,22] = 0.00\n",
      "a[2,23] = 0.00\n",
      "a[2,24] = 0.00\n",
      "a[3,0] = 0.00\n",
      "a[3,1] = 0.00\n",
      "a[3,2] = 0.00\n",
      "a[3,3] = 0.00\n",
      "a[3,4] = 0.00\n",
      "a[3,5] = 0.00\n",
      "a[3,6] = 0.00\n",
      "a[3,7] = 0.00\n",
      "a[3,8] = 0.00\n",
      "a[3,9] = 1.00\n",
      "a[3,10] = 0.00\n",
      "a[3,11] = 0.00\n",
      "a[3,12] = 0.52\n",
      "a[3,13] = 0.00\n",
      "a[3,14] = 0.00\n",
      "a[3,15] = 0.00\n",
      "a[3,16] = 0.00\n",
      "a[3,17] = 0.00\n",
      "a[3,18] = 0.00\n",
      "a[3,19] = 0.23\n",
      "a[3,20] = 0.00\n",
      "a[3,21] = 0.00\n",
      "a[3,22] = 0.00\n",
      "a[3,23] = 1.00\n",
      "a[3,24] = 0.00\n",
      "\n",
      "\n",
      "objective value(max w) = 30.39\n"
     ]
    }
   ],
   "source": [
    "I = 4\n",
    "J = 25\n",
    "K = 15\n",
    "b = np.array([5,8,12,4,6,6,3,7,6,15,9,5,8,10,1,5,3,7,12,14,5,8,9,8,10])\n",
    "p = np.array([3,6,7,5,4,2,6,3,5,8,10,2,4,7,1,5,8,3,6,4,12,4,8,4,7])\n",
    "p1 = Model(\"p1\")\n",
    "a = []\n",
    "w = p1.addVar(    lb = 0, vtype = GRB.CONTINUOUS, name = 'w')\n",
    "a = p1.addVars(I, J, lb = 0, vtype = GRB.CONTINUOUS, name = 'a')\n",
    "#a = p1.addVars(I, J, lb = 0, vtype = GRB.BINARY, name = 'a') 正常版本\n",
    "p1.setObjective(w , GRB.MAXIMIZE) \n",
    "p1.addConstrs( (w    <= quicksum(a[i, j]*b[j] for j in range(J))for i in range(I)), \"w <= aij*bj\")\n",
    "p1.addConstrs((quicksum(a[i, j] for i in range(I)) <= 1 for j in range(J)), \"aij\")  \n",
    "p1.addConstrs((quicksum(a[i, j]*p[j] for j in range(J)) <= K for i in range(I)), \"aij*pj <= K\")\n",
    "p1.addConstr(  (w    >= 0), \"w >= 0\" )\n",
    "p1.addConstrs(    (   (a[i, j] >=0) for i in range(I) for j in range (J)   ), \"aij >= 0\" )\n",
    "p1.optimize()\n",
    "\n",
    "for var in p1.getVars():\n",
    "    print(var.varName, '= %.2f' %var.x)\n",
    "print(\"\\n\")\n",
    "print(\"objective value(max w) = %.2f\" %p1.objVal)"
   ]
  },
  {
   "cell_type": "code",
   "execution_count": 98,
   "metadata": {},
   "outputs": [
    {
     "data": {
      "text/plain": [
       "array([0., 0., 0.])"
      ]
     },
     "metadata": {},
     "output_type": "display_data"
    },
    {
     "data": {
      "text/plain": [
       "array([   0.,    0.,    0., 1000.])"
      ]
     },
     "metadata": {},
     "output_type": "display_data"
    },
    {
     "name": "stdout",
     "output_type": "stream",
     "text": [
      "8 1 [12.  0.  0.] [9. 0. 0.]\n",
      "2 2 [12.  6.  0.] [9. 8. 0.]\n",
      "10 3 [12.  6.  6.] [9. 8. 8.]\n",
      "6 2 [12. 14.  6.] [ 9. 15.  8.]\n",
      "4 3 [12. 14. 10.] [ 9. 15. 14.]\n",
      "7 3 [12. 14. 15.] [ 9. 15. 20.]\n",
      "1 1 [15. 14. 15.] [14. 15. 20.]\n",
      "9 4 [15. 14. 15.] [14. 15. 20.]\n",
      "3 4 [15. 14. 15.] [14. 15. 20.]\n",
      "5 2 [15. 15. 15.] [14. 18. 20.]\n"
     ]
    },
    {
     "data": {
      "text/plain": [
       "array([14., 18., 20.])"
      ]
     },
     "metadata": {},
     "output_type": "display_data"
    },
    {
     "data": {
      "text/plain": [
       "[[8, 1], [2, 6, 5], [10, 4, 7]]"
      ]
     },
     "metadata": {},
     "output_type": "display_data"
    },
    {
     "data": {
      "text/plain": [
       "array([15., 15., 15.])"
      ]
     },
     "metadata": {},
     "output_type": "display_data"
    }
   ],
   "source": [
    "#範例測資\n",
    "I = 3\n",
    "J = 10\n",
    "K = 15\n",
    "b = np.array([5, 8, 4, 6, 3, 7, 6, 9, 5, 8])\n",
    "p = np.array([3, 6, 5, 4, 1, 8, 5, 12,7, 6])\n",
    "indexes = np.arange(J)#都是0~24台機器\n",
    "tup = list(zip(indexes, b))\n",
    "tup = sorted(tup, key = lambda s: s[1], reverse = True)\n",
    "bene = np.zeros(I+1) #多一格給底下用\n",
    "b = [] #製造機器存了誰\n",
    "accu_p = np.zeros(I)\n",
    "for i in range(I):\n",
    "    b.append([])\n",
    "    #display(b)\n",
    "display(accu_p)\n",
    "bene[I] = 1000\n",
    "display(bene)\n",
    "for i, j in tup: #先找目前最少 index-1&benefit\n",
    "    #這步得直接找到人選\n",
    "    smallest = I #原本第I+1台 不存在的 \n",
    "    for k in range(0,I):\n",
    "        if(bene[k]<bene[smallest] and accu_p[k] + p[i] <= K):\n",
    "            smallest = k\n",
    "    if(smallest != I):\n",
    "        bene[smallest]+=j\n",
    "        b[smallest].append(i+1) #確切的job給誰\n",
    "        accu_p[smallest] += p[i]\n",
    "    print(i+1, smallest+1, accu_p, bene[0:I])\n",
    "display(bene[0:I])\n",
    "display(b)\n",
    "display(accu_p)"
   ]
  },
  {
   "cell_type": "code",
   "execution_count": 115,
   "metadata": {},
   "outputs": [
    {
     "data": {
      "text/plain": [
       "[(19, 3.5),\n",
       " (5, 3.0),\n",
       " (11, 2.5),\n",
       " (7, 2.3333333333333335),\n",
       " (17, 2.3333333333333335),\n",
       " (12, 2.0),\n",
       " (18, 2.0),\n",
       " (21, 2.0),\n",
       " (23, 2.0),\n",
       " (9, 1.875),\n",
       " (2, 1.7142857142857142),\n",
       " (0, 1.6666666666666667),\n",
       " (4, 1.5),\n",
       " (13, 1.4285714285714286),\n",
       " (24, 1.4285714285714286),\n",
       " (1, 1.3333333333333333),\n",
       " (8, 1.2),\n",
       " (22, 1.125),\n",
       " (14, 1.0),\n",
       " (15, 1.0),\n",
       " (10, 0.9),\n",
       " (3, 0.8),\n",
       " (6, 0.5),\n",
       " (20, 0.4166666666666667),\n",
       " (16, 0.375)]"
      ]
     },
     "metadata": {},
     "output_type": "display_data"
    },
    {
     "data": {
      "text/plain": [
       "array([0., 0., 0., 0.])"
      ]
     },
     "metadata": {},
     "output_type": "display_data"
    },
    {
     "data": {
      "text/plain": [
       "array([   0.,    0.,    0.,    0., 1000.])"
      ]
     },
     "metadata": {},
     "output_type": "display_data"
    },
    {
     "name": "stdout",
     "output_type": "stream",
     "text": [
      "20 1 [4. 0. 0. 0.] [14.  0.  0.  0.]\n",
      "6 2 [4. 2. 0. 0.] [14.  6.  0.  0.]\n",
      "12 3 [4. 2. 2. 0.] [14.  6.  5.  0.]\n",
      "8 4 [4. 2. 2. 3.] [14.  6.  5.  7.]\n",
      "18 3 [4. 2. 5. 3.] [14.  6. 12.  7.]\n",
      "13 2 [4. 6. 5. 3.] [14. 14. 12.  7.]\n",
      "19 4 [4. 6. 5. 9.] [14. 14. 12. 19.]\n",
      "22 3 [4. 6. 9. 9.] [14. 14. 20. 19.]\n",
      "24 1 [8. 6. 9. 9.] [22. 14. 20. 19.]\n",
      "10 2 [ 8. 14.  9.  9.] [22. 29. 20. 19.]\n",
      "3 1 [15. 14.  9.  9.] [34. 29. 20. 19.]\n",
      "1 4 [15. 14.  9. 12.] [34. 29. 20. 24.]\n",
      "5 3 [15. 14. 13. 12.] [34. 29. 26. 24.]\n",
      "14 5 [15. 14. 13. 12.] [34. 29. 26. 24.]\n",
      "25 5 [15. 14. 13. 12.] [34. 29. 26. 24.]\n",
      "2 5 [15. 14. 13. 12.] [34. 29. 26. 24.]\n",
      "9 5 [15. 14. 13. 12.] [34. 29. 26. 24.]\n",
      "23 5 [15. 14. 13. 12.] [34. 29. 26. 24.]\n",
      "15 4 [15. 14. 13. 13.] [34. 29. 26. 25.]\n",
      "16 5 [15. 14. 13. 13.] [34. 29. 26. 25.]\n",
      "11 5 [15. 14. 13. 13.] [34. 29. 26. 25.]\n",
      "4 5 [15. 14. 13. 13.] [34. 29. 26. 25.]\n",
      "7 5 [15. 14. 13. 13.] [34. 29. 26. 25.]\n",
      "21 5 [15. 14. 13. 13.] [34. 29. 26. 25.]\n",
      "17 5 [15. 14. 13. 13.] [34. 29. 26. 25.]\n"
     ]
    },
    {
     "data": {
      "text/plain": [
       "array([34., 29., 26., 25.])"
      ]
     },
     "metadata": {},
     "output_type": "display_data"
    },
    {
     "data": {
      "text/plain": [
       "[[20, 24, 3], [6, 13, 10], [12, 18, 22, 5], [8, 19, 1, 15]]"
      ]
     },
     "metadata": {},
     "output_type": "display_data"
    },
    {
     "data": {
      "text/plain": [
       "array([15., 14., 13., 13.])"
      ]
     },
     "metadata": {},
     "output_type": "display_data"
    }
   ],
   "source": [
    "#highest ratio first\n",
    "I = 4\n",
    "J = 25\n",
    "K = 15\n",
    "b = np.array([5,8,12,4,6,6,3,7,6,15,9,5,8,10,1,5,3,7,12,14,5,8,9,8,10])\n",
    "p = np.array([3,6,7,5,4,2,6,3,5,8,10,2,4,7,1,5,8,3,6,4,12,4,8,4,7])\n",
    "ratio = b/p\n",
    "indexes = np.arange(J)#都是0~24台機器\n",
    "tup = list(zip(indexes, ratio))\n",
    "tup = sorted(tup, key = lambda s: s[1], reverse = True)\n",
    "display(tup)\n",
    "bene = np.zeros(I+1) #多一格給底下用\n",
    "save = [] #製造機器存了誰\n",
    "accu_p = np.zeros(I)\n",
    "for i in range(I):\n",
    "    save.append([])\n",
    "    #display(b)\n",
    "display(accu_p)\n",
    "bene[I] = 1000\n",
    "display(bene)\n",
    "for i, j in tup: #先找目前最少 index-1&benefit\n",
    "    smallest = I #原本第I+1台 不存在的 \n",
    "    for k in range(0,I):\n",
    "        if(bene[k]<bene[smallest] and accu_p[k] + p[i] <= K):\n",
    "            smallest = k\n",
    "    if(smallest != I):\n",
    "        bene[smallest] += b[i]\n",
    "        save[smallest].append(i+1) #確切的job給誰\n",
    "        accu_p[smallest] += p[i]\n",
    "    print(i+1, smallest+1, accu_p, bene[0:I])\n",
    "display(bene[0:I])\n",
    "display(save)\n",
    "display(accu_p)"
   ]
  },
  {
   "cell_type": "code",
   "execution_count": null,
   "metadata": {},
   "outputs": [],
   "source": []
  }
 ],
 "metadata": {
  "kernelspec": {
   "display_name": "Python 3",
   "language": "python",
   "name": "python3"
  },
  "language_info": {
   "codemirror_mode": {
    "name": "ipython",
    "version": 3
   },
   "file_extension": ".py",
   "mimetype": "text/x-python",
   "name": "python",
   "nbconvert_exporter": "python",
   "pygments_lexer": "ipython3",
   "version": "3.8.5"
  }
 },
 "nbformat": 4,
 "nbformat_minor": 4
}
