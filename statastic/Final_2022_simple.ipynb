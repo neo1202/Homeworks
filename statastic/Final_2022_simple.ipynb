{
 "cells": [
  {
   "cell_type": "code",
   "execution_count": 1,
   "metadata": {
    "tags": []
   },
   "outputs": [],
   "source": [
    "#載入所需函示庫\n",
    "from matplotlib import pyplot as plt\n",
    "%matplotlib inline\n",
    "# 設定圖形大小; DPI越大圖越大\n",
    "plt.rcParams[\"figure.dpi\"] = 80\n",
    "import seaborn as sns\n",
    "import pandas as pd\n",
    "import numpy as np\n",
    "import math\n",
    "import statistics\n",
    "import scipy.stats as stats\n",
    "import statsmodels.api as sm\n",
    "import statsmodels.stats.api as sms\n",
    "import statsmodels.formula.api as smf\n",
    "import statsmodels.stats.multicomp as smm\n",
    "import statsmodels.stats.outliers_influence as sso\n",
    "import statsmodels\n",
    "import warnings\n",
    "warnings.filterwarnings(\"ignore\")\n",
    "\n",
    "def c_of_c_test(r, n, a):\n",
    "    t_value = r * ((n-2)/(1 - r**2)) ** 0.5\n",
    "    t_critical = stats.t.ppf(1 - a/2, n - 2)\n",
    "    pval = stats.t.sf(np.abs(t_value), n - 2)*2\n",
    "    print('r = ', r)\n",
    "    print('t_critical = ', t_critical)\n",
    "    print('t = ', t_value)\n",
    "    print('p_value = ', pval)\n",
    "    return t_value\n",
    "\n",
    "def CI_simple_regression(df,x, y, x1, a):\n",
    "    x_new = np.array([1, x1])\n",
    "    X2 = sm.add_constant(x)\n",
    "    olsmod = sm.OLS(y, X2)\n",
    "    result_reg = olsmod.fit()\n",
    "    #point prediction value\n",
    "    y_head = np.dot(df.params, x_new)\n",
    "    print(\"y_head = \", y_head)\n",
    "    (t_minus, t_plus) = stats.t.interval(alpha = (1.0 - a), df = result_reg.df_resid )\n",
    "    cov_mat1 = np.cov(y, x)\n",
    "    x_bar = x.mean()\n",
    "    core1 = (1 / result_reg.nobs + \n",
    "         (x1 - x_bar) ** 2 / (result_reg.nobs - 1) /    cov_mat1[1,1] ) ** 0.5\n",
    "    lower_bound = y_head + t_minus * (result_reg.mse_resid ** 0.5) * core1\n",
    "    upper_bound = y_head + t_plus * (result_reg.mse_resid ** 0.5) * core1\n",
    "    half_interval = t_plus * (result_reg.mse_resid ** 0.5) * core1\n",
    "    CI = np.array([lower_bound, upper_bound])\n",
    "    print(f\"{100*(1-a)}%% confidence interval for mean: [%0.4f, %0.4f]\" % (lower_bound, upper_bound))\n",
    "    print(\"    or %0.4f  +- %0.4f\" % (y_head, half_interval))\n",
    "    return CI\n",
    "\n",
    "def PI_simple_regression(df,x, y, x1, a):\n",
    "    x_new = np.array([1, x1])\n",
    "    print(\"make prediction at new x = \", x1)\n",
    "    X2 = sm.add_constant(x)\n",
    "    olsmod = sm.OLS(y, X2)\n",
    "    result_reg = olsmod.fit()\n",
    "    y_head = np.dot(df.params, x_new)\n",
    "    print(\"y_head = \", y_head)\n",
    "    (t_minus, t_plus) = stats.t.interval(alpha = (1.0 - a), df = result_reg.df_resid )\n",
    "    cov_mat1 = np.cov(y, x)\n",
    "    x_bar = x.mean()\n",
    "    core2 = (1 + 1 / result_reg.nobs + \n",
    "         (x1 - x_bar) ** 2 / (result_reg.nobs - 1) / cov_mat1[1,1] ) ** 0.5\n",
    "    lower_bound = y_head + t_minus * (result_reg.mse_resid ** 0.5) * core2\n",
    "    upper_bound = y_head + t_plus * (result_reg.mse_resid ** 0.5) * core2\n",
    "    half_interval = t_plus * (result_reg.mse_resid ** 0.5) * core2\n",
    "    PI = np.array([lower_bound, upper_bound])\n",
    "    print(f\"{100*(1-a)}%% prediction interval: [%0.4f, %0.4f]\" % (lower_bound, upper_bound))\n",
    "    print(\"    or %0.4f  +- %0.4f\" % (y_head, half_interval))\n",
    "    return PI\n",
    "\n",
    "def Chi_Square_for_Normality(SD, N, a): \n",
    "    m = np.mean(SD)\n",
    "    s = np.std(SD)   \n",
    "    prob_bins = np.zeros((N + 1))\n",
    "    z_bins = np.zeros((N + 1))\n",
    "    z_bins[0] = -4\n",
    "    z_bins[N] = 4\n",
    "    for i in range(0, N+1):\n",
    "        prob_bins[i] = i/N\n",
    "    for j in range(1, N):\n",
    "        z_bins[j] = m + stats.norm.isf(1 - prob_bins[j]) * s \n",
    "    counts, bins = np.histogram(SD, bins=z_bins)\n",
    "    nobs = counts.sum()\n",
    "    prob_e = np.zeros((N))\n",
    "    for i in range(1, N+1):\n",
    "        prob_e[i - 1] = prob_bins[i] - prob_bins[i - 1]\n",
    "    freq_e = nobs * prob_e\n",
    "    freq_o = counts\n",
    "    if np.sum(freq_e < 5) > 0:\n",
    "        print(\"Rule of five is not met. \")\n",
    "        chi_pval = -99999 # Invalid\n",
    "    else:\n",
    "        chi_stat, pval = stats.chisquare(freq_o, freq_e) \n",
    "        chi_pval = stats.chi2.sf(chi_stat, N - 3)\n",
    "        print(\"Chi-squared test: statistics = %0.4f, p-value = %0.4f\" % (chi_stat, chi_pval))\n",
    "    df = N - 3\n",
    "    crit_value = stats.chi2.ppf(1 - a, df)\n",
    "    print(\"Critical value = %0.4f (defree of freedom = %d)\" % (crit_value, df))\n",
    "    return chi_pval\n",
    "\n",
    "\n",
    "def runsTest(l, l_median): \n",
    "    runs, n1, n2 = 1, 0, 0\n",
    "    if(l[0]) >= l_median:\n",
    "        n1 += 1   \n",
    "    else:\n",
    "        n2 += 1     \n",
    "    # Checking for start of new run \n",
    "    for i in range(1,len(l)): \n",
    "        # no. of runs \n",
    "        if (l[i] >= l_median and l[i-1] < l_median) or (l[i] < l_median and l[i-1] >= l_median):\n",
    "            runs += 1  \n",
    "            # print(i, runs)\n",
    "        # no. of positive values \n",
    "        if(l[i]) >= l_median: \n",
    "            n1 += 1   \n",
    "        # no. of negative values \n",
    "        else: \n",
    "            n2 += 1   \n",
    "    runs_exp = ((2*n1*n2)/(n1+n2)) + 1\n",
    "    stan_dev = math.sqrt((2*n1*n2*(2*n1*n2-n1-n2))/(((n1+n2)**2)*(n1+n2-1))) \n",
    "    z = (runs-runs_exp)/stan_dev\n",
    "    pval_z = stats.norm.sf(abs(z)) * 2\n",
    "    print('runs = ', runs)\n",
    "    print('n1 = ', n1)\n",
    "    print('n2 = ', n2)\n",
    "    print('runs_exp = ', runs_exp)\n",
    "    print('stan_dev = ', stan_dev)\n",
    "    print('z = ', z)\n",
    "    print('pval_z = ', pval_z)\n",
    "    return pval_z\n",
    "\n",
    "def CI_PI_regression(xdata, yval, x1, a):\n",
    "    print(\"make CI and PI prediction at mean of x = \", x1)\n",
    "    X_data_T = xdata.T\n",
    "    X_data2 = sm.add_constant(X_data_T)\n",
    "    olsmod = sm.OLS(yval, X_data2)\n",
    "    result_reg = olsmod.fit()\n",
    "    y_head = np.dot(result_reg.params, x1)\n",
    "    print(\"y_head = \", y_head)\n",
    "    (t_minus, t_plus) = stats.t.interval(alpha = (1.0 - a), df = result_reg.df_resid )\n",
    "    core1 = (result_reg.mse_resid * np.matmul(x1, np.linalg.solve(np.matmul(X_data2.T, X_data2), x1))) ** 0.5\n",
    "    lower_bound = y_head +  t_minus * core1\n",
    "    upper_bound = y_head +  t_plus * core1\n",
    "    print(\"confidence interval of mean = [%0.4f, %0.4f] \" % (lower_bound, upper_bound))\n",
    "    core2 = (result_reg.mse_resid * (1 + np.matmul(x1, np.linalg.solve(np.matmul(X_data2.T, X_data2), x1)))) ** 0.5\n",
    "    lower_bound2 = y_head +  t_minus * core2\n",
    "    upper_bound2 = y_head +  t_plus * core2\n",
    "    print(\"Prediction interval = [%0.4f, %0.4f] \" % (lower_bound2, upper_bound2))\n",
    "    CI_PI = np.array([lower_bound, upper_bound, lower_bound2, upper_bound2])\n",
    "    return CI_PI\n",
    "\n",
    "def Durbin_Watson_test(x):\n",
    "    x_square_sum = np.vdot(x, x)\n",
    "    print(\"x_square_sum = \", x_square_sum)\n",
    "    size = x.size\n",
    "    print(\"size = \", size)\n",
    "    x_d = np.zeros((size))\n",
    "    print(\"x_d = \", x_d)\n",
    "    l_size = size - 1\n",
    "    for i in range(l_size):\n",
    "        x_d[i + 1] = x[i + 1] - x[i]\n",
    "    print(\"x_d = \", x_d)\n",
    "    d = np.vdot(x_d, x_d) / x_square_sum\n",
    "    print(\"d = \", d)\n",
    "    return(d)\n",
    "\n",
    "def value_to_int(x):\n",
    "    if type(x) == float or type(x) == int:\n",
    "        return x\n",
    "    if 'K' in x:\n",
    "        if len(x) > 1:\n",
    "            return int(float(x.replace('K', '')) * 1000)\n",
    "        return 1000\n",
    "    if 'M' in x:\n",
    "        if len(x) > 1:\n",
    "            return int(float(x.replace('M', '')) * 1000000)\n",
    "        return 1000000\n",
    "    if 'B' in x:\n",
    "        return int(float(x.replace('B', '')) * 1000000000)\n",
    "    if ' ' in x:\n",
    "        return int(float(x.replace(' ','')))\n",
    "    return int(x)\n"
   ]
  },
  {
   "cell_type": "code",
   "execution_count": 2,
   "metadata": {
    "scrolled": true
   },
   "outputs": [
    {
     "data": {
      "text/html": [
       "<div>\n",
       "<style scoped>\n",
       "    .dataframe tbody tr th:only-of-type {\n",
       "        vertical-align: middle;\n",
       "    }\n",
       "\n",
       "    .dataframe tbody tr th {\n",
       "        vertical-align: top;\n",
       "    }\n",
       "\n",
       "    .dataframe thead th {\n",
       "        text-align: right;\n",
       "    }\n",
       "</style>\n",
       "<table border=\"1\" class=\"dataframe\">\n",
       "  <thead>\n",
       "    <tr style=\"text-align: right;\">\n",
       "      <th></th>\n",
       "      <th>Unnamed: 0</th>\n",
       "      <th>Website</th>\n",
       "      <th>Trustworthiness</th>\n",
       "      <th>Avg_Daily_Visitors</th>\n",
       "      <th>Child_Safety</th>\n",
       "      <th>Avg_Daily_Pageviews</th>\n",
       "      <th>Privacy</th>\n",
       "      <th>Facebook_likes</th>\n",
       "      <th>Twitter_mentions</th>\n",
       "      <th>Google_pluses</th>\n",
       "      <th>LinkedIn_mentions</th>\n",
       "      <th>Pinterest_pins</th>\n",
       "      <th>StumbleUpon_views</th>\n",
       "      <th>Traffic_Rank</th>\n",
       "      <th>Location</th>\n",
       "      <th>Hosted_by</th>\n",
       "      <th>country</th>\n",
       "    </tr>\n",
       "  </thead>\n",
       "  <tbody>\n",
       "    <tr>\n",
       "      <th>0</th>\n",
       "      <td>0</td>\n",
       "      <td>www.google.com.af</td>\n",
       "      <td>Excellent</td>\n",
       "      <td>NaN</td>\n",
       "      <td>Excellent</td>\n",
       "      <td>NaN</td>\n",
       "      <td>Excellent</td>\n",
       "      <td>9</td>\n",
       "      <td>1</td>\n",
       "      <td>37</td>\n",
       "      <td>7</td>\n",
       "      <td>-</td>\n",
       "      <td>7</td>\n",
       "      <td>954</td>\n",
       "      <td>United States</td>\n",
       "      <td>Google Inc.</td>\n",
       "      <td>Afghanistan</td>\n",
       "    </tr>\n",
       "    <tr>\n",
       "      <th>1</th>\n",
       "      <td>1</td>\n",
       "      <td>www.google.com</td>\n",
       "      <td>Excellent</td>\n",
       "      <td>515 007 350</td>\n",
       "      <td>Excellent</td>\n",
       "      <td>4 192 159 833</td>\n",
       "      <td>Excellent</td>\n",
       "      <td>94.2K</td>\n",
       "      <td>11.2K</td>\n",
       "      <td>11.7M</td>\n",
       "      <td>1.67K</td>\n",
       "      <td>10.8K</td>\n",
       "      <td>246K</td>\n",
       "      <td>1</td>\n",
       "      <td>United States</td>\n",
       "      <td>Google Inc.</td>\n",
       "      <td>Afghanistan</td>\n",
       "    </tr>\n",
       "    <tr>\n",
       "      <th>2</th>\n",
       "      <td>2</td>\n",
       "      <td>www.youtube.com</td>\n",
       "      <td>Excellent</td>\n",
       "      <td>506 457 282</td>\n",
       "      <td>Excellent</td>\n",
       "      <td>2 679 159 025</td>\n",
       "      <td>Excellent</td>\n",
       "      <td>13.5K</td>\n",
       "      <td>16.5K</td>\n",
       "      <td>19.3M</td>\n",
       "      <td>60K</td>\n",
       "      <td>47</td>\n",
       "      <td>329K</td>\n",
       "      <td>2</td>\n",
       "      <td>United States</td>\n",
       "      <td>Google Inc.</td>\n",
       "      <td>Afghanistan</td>\n",
       "    </tr>\n",
       "    <tr>\n",
       "      <th>3</th>\n",
       "      <td>3</td>\n",
       "      <td>www.facebook.com</td>\n",
       "      <td>Excellent</td>\n",
       "      <td>270 071 255</td>\n",
       "      <td>Good</td>\n",
       "      <td>1 082 985 733</td>\n",
       "      <td>Excellent</td>\n",
       "      <td>5.87M</td>\n",
       "      <td>64.4K</td>\n",
       "      <td>127K</td>\n",
       "      <td>6.23K</td>\n",
       "      <td>4.15K</td>\n",
       "      <td>23.1K</td>\n",
       "      <td>3</td>\n",
       "      <td>Ireland</td>\n",
       "      <td>Facebook</td>\n",
       "      <td>Afghanistan</td>\n",
       "    </tr>\n",
       "    <tr>\n",
       "      <th>4</th>\n",
       "      <td>4</td>\n",
       "      <td>www.yahoo.com</td>\n",
       "      <td>Excellent</td>\n",
       "      <td>99 572 035</td>\n",
       "      <td>Excellent</td>\n",
       "      <td>383 352 336</td>\n",
       "      <td>Excellent</td>\n",
       "      <td>17.2K</td>\n",
       "      <td>1.11K</td>\n",
       "      <td>798K</td>\n",
       "      <td>7.5K</td>\n",
       "      <td>433</td>\n",
       "      <td>68.9K</td>\n",
       "      <td>6</td>\n",
       "      <td>United States</td>\n",
       "      <td>Yahoo! Inc.</td>\n",
       "      <td>Afghanistan</td>\n",
       "    </tr>\n",
       "    <tr>\n",
       "      <th>...</th>\n",
       "      <td>...</td>\n",
       "      <td>...</td>\n",
       "      <td>...</td>\n",
       "      <td>...</td>\n",
       "      <td>...</td>\n",
       "      <td>...</td>\n",
       "      <td>...</td>\n",
       "      <td>...</td>\n",
       "      <td>...</td>\n",
       "      <td>...</td>\n",
       "      <td>...</td>\n",
       "      <td>...</td>\n",
       "      <td>...</td>\n",
       "      <td>...</td>\n",
       "      <td>...</td>\n",
       "      <td>...</td>\n",
       "      <td>...</td>\n",
       "    </tr>\n",
       "    <tr>\n",
       "      <th>3396</th>\n",
       "      <td>3396</td>\n",
       "      <td>www.propertybook.co.zw</td>\n",
       "      <td>Unknown</td>\n",
       "      <td>505</td>\n",
       "      <td>Unknown</td>\n",
       "      <td>1 009</td>\n",
       "      <td>Unknown</td>\n",
       "      <td>2</td>\n",
       "      <td>-</td>\n",
       "      <td>-</td>\n",
       "      <td>86</td>\n",
       "      <td>-</td>\n",
       "      <td>1</td>\n",
       "      <td>438 021</td>\n",
       "      <td>United States</td>\n",
       "      <td>CloudFlare, Inc.</td>\n",
       "      <td>Zimbabwe</td>\n",
       "    </tr>\n",
       "    <tr>\n",
       "      <th>3397</th>\n",
       "      <td>3397</td>\n",
       "      <td>www.dailynews.co.zw</td>\n",
       "      <td>Unknown</td>\n",
       "      <td>11 902</td>\n",
       "      <td>Unknown</td>\n",
       "      <td>28 566</td>\n",
       "      <td>Unknown</td>\n",
       "      <td>-</td>\n",
       "      <td>27</td>\n",
       "      <td>42</td>\n",
       "      <td>5</td>\n",
       "      <td>-</td>\n",
       "      <td>-</td>\n",
       "      <td>85 166</td>\n",
       "      <td>Ireland</td>\n",
       "      <td>Amazon.com, Inc.</td>\n",
       "      <td>Zimbabwe</td>\n",
       "    </tr>\n",
       "    <tr>\n",
       "      <th>3398</th>\n",
       "      <td>3398</td>\n",
       "      <td>www.newsdzezimbabwe.co.uk</td>\n",
       "      <td>Unknown</td>\n",
       "      <td>11 862</td>\n",
       "      <td>Unknown</td>\n",
       "      <td>51 010</td>\n",
       "      <td>Unknown</td>\n",
       "      <td>-</td>\n",
       "      <td>15</td>\n",
       "      <td>3</td>\n",
       "      <td>-</td>\n",
       "      <td>-</td>\n",
       "      <td>-</td>\n",
       "      <td>77 934</td>\n",
       "      <td>United States</td>\n",
       "      <td>Google Inc.</td>\n",
       "      <td>Zimbabwe</td>\n",
       "    </tr>\n",
       "    <tr>\n",
       "      <th>3399</th>\n",
       "      <td>3399</td>\n",
       "      <td>www.nehandaradio.com</td>\n",
       "      <td>Unknown</td>\n",
       "      <td>9 946</td>\n",
       "      <td>Unknown</td>\n",
       "      <td>19 894</td>\n",
       "      <td>Unknown</td>\n",
       "      <td>3</td>\n",
       "      <td>256</td>\n",
       "      <td>214</td>\n",
       "      <td>4</td>\n",
       "      <td>-</td>\n",
       "      <td>1</td>\n",
       "      <td>58 327</td>\n",
       "      <td>United States</td>\n",
       "      <td>CloudFlare, Inc.</td>\n",
       "      <td>Zimbabwe</td>\n",
       "    </tr>\n",
       "    <tr>\n",
       "      <th>3400</th>\n",
       "      <td>3400</td>\n",
       "      <td>www.emailaccessonline.com</td>\n",
       "      <td>Poor</td>\n",
       "      <td>1 331 630</td>\n",
       "      <td>Unknown</td>\n",
       "      <td>1 717 804</td>\n",
       "      <td>Poor</td>\n",
       "      <td>-</td>\n",
       "      <td>-</td>\n",
       "      <td>4</td>\n",
       "      <td>-</td>\n",
       "      <td>-</td>\n",
       "      <td>-</td>\n",
       "      <td>1 098</td>\n",
       "      <td>United States</td>\n",
       "      <td>Amazon Technologies Inc.</td>\n",
       "      <td>Zimbabwe</td>\n",
       "    </tr>\n",
       "  </tbody>\n",
       "</table>\n",
       "<p>3401 rows × 17 columns</p>\n",
       "</div>"
      ],
      "text/plain": [
       "      Unnamed: 0                    Website Trustworthiness  \\\n",
       "0              0          www.google.com.af       Excellent   \n",
       "1              1             www.google.com       Excellent   \n",
       "2              2            www.youtube.com       Excellent   \n",
       "3              3           www.facebook.com       Excellent   \n",
       "4              4              www.yahoo.com       Excellent   \n",
       "...          ...                        ...             ...   \n",
       "3396        3396     www.propertybook.co.zw         Unknown   \n",
       "3397        3397        www.dailynews.co.zw         Unknown   \n",
       "3398        3398  www.newsdzezimbabwe.co.uk         Unknown   \n",
       "3399        3399       www.nehandaradio.com         Unknown   \n",
       "3400        3400  www.emailaccessonline.com            Poor   \n",
       "\n",
       "     Avg_Daily_Visitors Child_Safety Avg_Daily_Pageviews    Privacy  \\\n",
       "0                   NaN    Excellent                 NaN  Excellent   \n",
       "1           515 007 350    Excellent       4 192 159 833  Excellent   \n",
       "2           506 457 282    Excellent       2 679 159 025  Excellent   \n",
       "3           270 071 255         Good       1 082 985 733  Excellent   \n",
       "4            99 572 035    Excellent         383 352 336  Excellent   \n",
       "...                 ...          ...                 ...        ...   \n",
       "3396                505      Unknown               1 009    Unknown   \n",
       "3397             11 902      Unknown              28 566    Unknown   \n",
       "3398             11 862      Unknown              51 010    Unknown   \n",
       "3399              9 946      Unknown              19 894    Unknown   \n",
       "3400          1 331 630      Unknown           1 717 804       Poor   \n",
       "\n",
       "     Facebook_likes Twitter_mentions Google_pluses LinkedIn_mentions  \\\n",
       "0                 9                1            37                 7   \n",
       "1             94.2K            11.2K         11.7M             1.67K   \n",
       "2             13.5K            16.5K         19.3M               60K   \n",
       "3             5.87M            64.4K          127K             6.23K   \n",
       "4             17.2K            1.11K          798K              7.5K   \n",
       "...             ...              ...           ...               ...   \n",
       "3396              2                -             -                86   \n",
       "3397              -               27            42                 5   \n",
       "3398              -               15             3                 -   \n",
       "3399              3              256           214                 4   \n",
       "3400              -                -             4                 -   \n",
       "\n",
       "     Pinterest_pins StumbleUpon_views Traffic_Rank       Location  \\\n",
       "0                 -                 7          954  United States   \n",
       "1             10.8K              246K            1  United States   \n",
       "2                47              329K            2  United States   \n",
       "3             4.15K             23.1K            3        Ireland   \n",
       "4               433             68.9K            6  United States   \n",
       "...             ...               ...          ...            ...   \n",
       "3396              -                 1      438 021  United States   \n",
       "3397              -                 -       85 166        Ireland   \n",
       "3398              -                 -       77 934  United States   \n",
       "3399              -                 1       58 327  United States   \n",
       "3400              -                 -        1 098  United States   \n",
       "\n",
       "                     Hosted_by      country  \n",
       "0                  Google Inc.  Afghanistan  \n",
       "1                  Google Inc.  Afghanistan  \n",
       "2                  Google Inc.  Afghanistan  \n",
       "3                     Facebook  Afghanistan  \n",
       "4                  Yahoo! Inc.  Afghanistan  \n",
       "...                        ...          ...  \n",
       "3396          CloudFlare, Inc.     Zimbabwe  \n",
       "3397          Amazon.com, Inc.     Zimbabwe  \n",
       "3398               Google Inc.     Zimbabwe  \n",
       "3399          CloudFlare, Inc.     Zimbabwe  \n",
       "3400  Amazon Technologies Inc.     Zimbabwe  \n",
       "\n",
       "[3401 rows x 17 columns]"
      ]
     },
     "metadata": {},
     "output_type": "display_data"
    }
   ],
   "source": [
    "df = pd.read_excel('/Users/huangrongzun/Desktop/output.xlsx')\n",
    "display(df)"
   ]
  },
  {
   "cell_type": "markdown",
   "metadata": {},
   "source": [
    "## FB_visitors"
   ]
  },
  {
   "cell_type": "code",
   "execution_count": 3,
   "metadata": {},
   "outputs": [
    {
     "data": {
      "text/html": [
       "<div>\n",
       "<style scoped>\n",
       "    .dataframe tbody tr th:only-of-type {\n",
       "        vertical-align: middle;\n",
       "    }\n",
       "\n",
       "    .dataframe tbody tr th {\n",
       "        vertical-align: top;\n",
       "    }\n",
       "\n",
       "    .dataframe thead th {\n",
       "        text-align: right;\n",
       "    }\n",
       "</style>\n",
       "<table border=\"1\" class=\"dataframe\">\n",
       "  <thead>\n",
       "    <tr style=\"text-align: right;\">\n",
       "      <th></th>\n",
       "      <th>Avg_Daily_Visitors</th>\n",
       "      <th>Facebook_likes</th>\n",
       "    </tr>\n",
       "  </thead>\n",
       "  <tbody>\n",
       "    <tr>\n",
       "      <th>1</th>\n",
       "      <td>515007350</td>\n",
       "      <td>94200</td>\n",
       "    </tr>\n",
       "    <tr>\n",
       "      <th>2</th>\n",
       "      <td>506457282</td>\n",
       "      <td>13500</td>\n",
       "    </tr>\n",
       "    <tr>\n",
       "      <th>3</th>\n",
       "      <td>270071255</td>\n",
       "      <td>5870000</td>\n",
       "    </tr>\n",
       "    <tr>\n",
       "      <th>4</th>\n",
       "      <td>99572035</td>\n",
       "      <td>17200</td>\n",
       "    </tr>\n",
       "    <tr>\n",
       "      <th>5</th>\n",
       "      <td>9282040</td>\n",
       "      <td>9</td>\n",
       "    </tr>\n",
       "    <tr>\n",
       "      <th>...</th>\n",
       "      <td>...</td>\n",
       "      <td>...</td>\n",
       "    </tr>\n",
       "    <tr>\n",
       "      <th>1522</th>\n",
       "      <td>23379</td>\n",
       "      <td>13</td>\n",
       "    </tr>\n",
       "    <tr>\n",
       "      <th>1523</th>\n",
       "      <td>12242</td>\n",
       "      <td>2</td>\n",
       "    </tr>\n",
       "    <tr>\n",
       "      <th>1524</th>\n",
       "      <td>9493</td>\n",
       "      <td>1</td>\n",
       "    </tr>\n",
       "    <tr>\n",
       "      <th>1525</th>\n",
       "      <td>505</td>\n",
       "      <td>2</td>\n",
       "    </tr>\n",
       "    <tr>\n",
       "      <th>1526</th>\n",
       "      <td>9946</td>\n",
       "      <td>3</td>\n",
       "    </tr>\n",
       "  </tbody>\n",
       "</table>\n",
       "<p>1483 rows × 2 columns</p>\n",
       "</div>"
      ],
      "text/plain": [
       "      Avg_Daily_Visitors  Facebook_likes\n",
       "1              515007350           94200\n",
       "2              506457282           13500\n",
       "3              270071255         5870000\n",
       "4               99572035           17200\n",
       "5                9282040               9\n",
       "...                  ...             ...\n",
       "1522               23379              13\n",
       "1523               12242               2\n",
       "1524                9493               1\n",
       "1525                 505               2\n",
       "1526                9946               3\n",
       "\n",
       "[1483 rows x 2 columns]"
      ]
     },
     "metadata": {},
     "output_type": "display_data"
    }
   ],
   "source": [
    "fb = df[df[\"Facebook_likes\"].str.contains(\"-\")==False]\n",
    "fb = fb[['Avg_Daily_Visitors','Facebook_likes']]\n",
    "fb.reset_index(inplace = True, drop = True)\n",
    "fb.dropna(inplace=True)\n",
    "fb['Facebook_likes'] = fb['Facebook_likes'].apply(value_to_int)\n",
    "fb['Avg_Daily_Visitors'] = fb['Avg_Daily_Visitors'].apply(value_to_int)\n",
    "display(fb)"
   ]
  },
  {
   "cell_type": "code",
   "execution_count": 4,
   "metadata": {},
   "outputs": [
    {
     "data": {
      "image/png": "[encoded data removed]",
      "text/plain": [
       "<Figure size 480x320 with 1 Axes>"
      ]
     },
     "metadata": {
      "needs_background": "light"
     },
     "output_type": "display_data"
    }
   ],
   "source": [
    "# draw plot\n",
    "_ = sns.regplot(x='Facebook_likes', y= 'Avg_Daily_Visitors', data = fb, color = 'b', ci = None)\n",
    "plt.title('Scatter Plot for Fb likes & Avg Daily Visitors ')\n",
    "plt.xlabel('FB likes')\n",
    "plt.ylabel('Avg Daily Visitors')\n",
    "plt.show()"
   ]
  },
  {
   "cell_type": "code",
   "execution_count": 5,
   "metadata": {},
   "outputs": [
    {
     "name": "stdout",
     "output_type": "stream",
     "text": [
      "                            OLS Regression Results                            \n",
      "==============================================================================\n",
      "Dep. Variable:     Avg_Daily_Visitors   R-squared:                       0.112\n",
      "Model:                            OLS   Adj. R-squared:                  0.112\n",
      "Method:                 Least Squares   F-statistic:                     187.5\n",
      "Date:                Tue, 10 May 2022   Prob (F-statistic):           2.79e-40\n",
      "Time:                        00:26:39   Log-Likelihood:                -27051.\n",
      "No. Observations:                1483   AIC:                         5.411e+04\n",
      "Df Residuals:                    1481   BIC:                         5.412e+04\n",
      "Df Model:                           1                                         \n",
      "Covariance Type:            nonrobust                                         \n",
      "==================================================================================\n",
      "                     coef    std err          t      P>|t|      [0.025      0.975]\n",
      "----------------------------------------------------------------------------------\n",
      "Intercept       2.628e+06   5.26e+05      4.999      0.000     1.6e+06    3.66e+06\n",
      "Facebook_likes    47.1452      3.443     13.694      0.000      40.392      53.898\n",
      "==============================================================================\n",
      "Omnibus:                     3428.398   Durbin-Watson:                   0.617\n",
      "Prob(Omnibus):                  0.000   Jarque-Bera (JB):         17249281.736\n",
      "Skew:                          21.601   Prob(JB):                         0.00\n",
      "Kurtosis:                     529.579   Cond. No.                     1.53e+05\n",
      "==============================================================================\n",
      "\n",
      "Notes:\n",
      "[1] Standard Errors assume that the covariance matrix of the errors is correctly specified.\n",
      "[2] The condition number is large, 1.53e+05. This might indicate that there are\n",
      "strong multicollinearity or other numerical problems.\n",
      "\n",
      "Estimated model: y = 2627993.1225 + 47.1452 x\n",
      "The coefficients are 2627993.1225 and 47.1452\n"
     ]
    }
   ],
   "source": [
    "# Fit regression model \n",
    "fb_result = smf.ols('Avg_Daily_Visitors~ Facebook_likes', data=fb).fit()\n",
    "# Inspect the results\n",
    "print(fb_result.summary())\n",
    "\n",
    "b1 = fb_result.params[1]\n",
    "b0 = fb_result.params[0]\n",
    "\n",
    "print(f\"\\nEstimated model: y = {b0:.4f} + {b1:.4f} x\")\n",
    "print(f\"The coefficients are {b0:.4f} and {b1:.4f}\")"
   ]
  },
  {
   "cell_type": "markdown",
   "metadata": {},
   "source": [
    "###    Standardized Residuals\n",
    "\n",
    "把殘差值標準化"
   ]
  },
  {
   "cell_type": "code",
   "execution_count": 6,
   "metadata": {},
   "outputs": [
    {
     "name": "stdout",
     "output_type": "stream",
     "text": [
      "Standardized Residuals \n",
      "\n",
      "[25.11668068 24.87919637 -7.83999886 ... -0.12946789 -0.12991461\n",
      " -0.12945015]\n",
      "mu =  -0.004974648439182249\n",
      "sigma =  1.0201488268013152\n"
     ]
    }
   ],
   "source": [
    "# studentized residual\n",
    "print(\"Standardized Residuals \\n\")\n",
    "st1, data1, ss3 = sso.summary_table(fb_result, alpha=0.05)\n",
    "SD = data1[:, 10]\n",
    "mu = np.mean(SD)\n",
    "sigma = np.std(SD)\n",
    "print(SD)\n",
    "print('mu = ', mu)\n",
    "print('sigma = ', sigma)\n"
   ]
  },
  {
   "cell_type": "markdown",
   "metadata": {},
   "source": [
    "### Normal test\n",
    "\n",
    "#### H0: Errors are normally distributed <br>\n",
    "#### H1: Errors are not normally distributed."
   ]
  },
  {
   "cell_type": "markdown",
   "metadata": {},
   "source": [
    "### QQ-plot and Histogram"
   ]
  },
  {
   "cell_type": "code",
   "execution_count": 7,
   "metadata": {},
   "outputs": [
    {
     "data": {
      "image/png": "[encoded data removed]",
      "text/plain": [
       "<Figure size 480x320 with 1 Axes>"
      ]
     },
     "metadata": {
      "needs_background": "light"
     },
     "output_type": "display_data"
    },
    {
     "data": {
      "image/png": "[encoded data removed]",
      "text/plain": [
       "<Figure size 480x320 with 1 Axes>"
      ]
     },
     "metadata": {
      "needs_background": "light"
     },
     "output_type": "display_data"
    }
   ],
   "source": [
    "counts, bins, patches = plt.hist(SD, 6, density=False, facecolor='g', alpha=0.75)\n",
    "plt.xlabel('Avg Daily Visitors')\n",
    "plt.ylabel('Frequency')\n",
    "plt.title('Histogram of Standard Residuals Avg Daily Visitors & Fb likes')\n",
    "plt.grid(True)\n",
    "bin_centers = [np.mean(k) for k in zip(bins[:-1], bins[1:])]\n",
    "plt.show()\n",
    "fig = sm.qqplot(SD, stats.norm, fit=True, line='45')"
   ]
  },
  {
   "cell_type": "markdown",
   "metadata": {},
   "source": [
    "#### Shapiro Test"
   ]
  },
  {
   "cell_type": "code",
   "execution_count": 8,
   "metadata": {
    "tags": []
   },
   "outputs": [
    {
     "name": "stdout",
     "output_type": "stream",
     "text": [
      "Shapiro Test\n",
      "Statistics=0.098, p=0.000\n"
     ]
    }
   ],
   "source": [
    "print('Shapiro Test')\n",
    "stat, p = stats.shapiro(SD)\n",
    "print('Statistics=%.3f, p=%.3f' % (stat, p))"
   ]
  },
  {
   "cell_type": "markdown",
   "metadata": {},
   "source": [
    "Since pvalue is smaller than alpha(0.05), H0 is rejected. Errors are not normally distributed."
   ]
  },
  {
   "cell_type": "markdown",
   "metadata": {},
   "source": [
    "### Chi test"
   ]
  },
  {
   "cell_type": "code",
   "execution_count": 9,
   "metadata": {},
   "outputs": [
    {
     "name": "stdout",
     "output_type": "stream",
     "text": [
      "Chi-squared test: statistics = 5436.5559, p-value = 0.0000\n",
      "Critical value = 7.8147 (defree of freedom = 3)\n",
      "0.0\n"
     ]
    }
   ],
   "source": [
    "chi2_pval = Chi_Square_for_Normality(SD, 6, 0.05) \n",
    "print(chi2_pval)"
   ]
  },
  {
   "cell_type": "markdown",
   "metadata": {},
   "source": [
    "### H0: Homoscedasticity <br>\n",
    "### H1: Heteroscedasticity"
   ]
  },
  {
   "cell_type": "code",
   "execution_count": 10,
   "metadata": {},
   "outputs": [
    {
     "data": {
      "image/png": "[encoded data removed]",
      "text/plain": [
       "<Figure size 480x320 with 1 Axes>"
      ]
     },
     "metadata": {
      "needs_background": "light"
     },
     "output_type": "display_data"
    }
   ],
   "source": [
    "\n",
    "y_pre = data1[:, 2]\n",
    "plt.plot(y_pre, SD, 'o', color = 'gray')\n",
    "plt.axhline(y=0, color = 'blue')\n",
    "plt.axhline(y=2, color = 'red')\n",
    "plt.axhline(y=-2, color = 'red')\n",
    "plt.title('Standardized Residual Plot')\n",
    "plt.xlabel('Odometer')\n",
    "plt.ylabel('Standardized Residual')\n",
    "plt.show()"
   ]
  },
  {
   "cell_type": "markdown",
   "metadata": {},
   "source": [
    "The result seems to be Homoscedasticity. The spread of data points doesn't change much."
   ]
  },
  {
   "cell_type": "markdown",
   "metadata": {},
   "source": [
    "### Runs test\n",
    "\n",
    "測試independence <br>\n",
    "\n",
    "#### H0: Randomness exists \n",
    "#### H1: Randomness does not exist."
   ]
  },
  {
   "cell_type": "code",
   "execution_count": 11,
   "metadata": {},
   "outputs": [
    {
     "name": "stdout",
     "output_type": "stream",
     "text": [
      "runs =  442\n",
      "n1 =  742\n",
      "n2 =  741\n",
      "runs_exp =  742.4996628455833\n",
      "stan_dev =  19.248363414968605\n",
      "z =  -15.61169936202981\n",
      "pval_z =  6.060110054023209e-55\n",
      "p_value for Z-statistic=  6.060110054023209e-55\n"
     ]
    }
   ],
   "source": [
    "SD_median = statistics.median(SD)\n",
    "Z_pval = runsTest(SD, SD_median) \n",
    "  \n",
    "print('p_value for Z-statistic= ', Z_pval)"
   ]
  },
  {
   "cell_type": "markdown",
   "metadata": {},
   "source": [
    "Since pvalue is smaller than alpha(0.05), H0 is rejected. Randomness doen't exist."
   ]
  },
  {
   "cell_type": "markdown",
   "metadata": {},
   "source": [
    "## Outliers\n",
    "\n",
    "當error >2 or <-2 ,可以當成outliers"
   ]
  },
  {
   "cell_type": "code",
   "execution_count": 12,
   "metadata": {
    "scrolled": true
   },
   "outputs": [
    {
     "name": "stdout",
     "output_type": "stream",
     "text": [
      "Outliers by SD = \n",
      "\n",
      "0      25.116681\n",
      "1      24.879196\n",
      "2      -7.839999\n",
      "3       4.753084\n",
      "5       5.748741\n",
      "12      2.235249\n",
      "14      3.071482\n",
      "20      2.278956\n",
      "80      2.250919\n",
      "112     2.866942\n",
      "193     3.175641\n",
      "373     5.624399\n",
      "374     3.800599\n",
      "375     3.020082\n",
      "376     2.757912\n",
      "377     2.192857\n",
      "387     2.153594\n",
      "Name: SD, dtype: float64\n"
     ]
    }
   ],
   "source": [
    "fb_c = pd.DataFrame(SD,columns = ['SD'])\n",
    "filter = (fb_c['SD'] < -2) | (fb_c['SD'] > 2)\n",
    "print(\"Outliers by SD = \\n\")\n",
    "print(fb_c['SD'].loc[filter])"
   ]
  },
  {
   "cell_type": "markdown",
   "metadata": {},
   "source": [
    "### Influential Observation\n",
    "\n",
    "足以大幅影響回歸線斜率的點"
   ]
  },
  {
   "cell_type": "code",
   "execution_count": 13,
   "metadata": {},
   "outputs": [
    {
     "name": "stdout",
     "output_type": "stream",
     "text": [
      "\n",
      "Influential Observations \n",
      "\n",
      "[9.03595271e-04 6.76298160e-04 9.96563195e-01 ... 6.75094771e-04\n",
      " 6.75094470e-04 6.75094168e-04]\n",
      "Influential Observations by hi = \n",
      "\n",
      "2    0.996563\n",
      "Name: hi, dtype: float64\n"
     ]
    }
   ],
   "source": [
    "print(\"\\nInfluential Observations \\n\")\n",
    "x_data = fb['Facebook_likes'].values\n",
    "y_data = fb['Avg_Daily_Visitors'].values\n",
    "cov_mat1 = np.cov(y_data, x_data)\n",
    "x_data_bar = x_data.mean()\n",
    "data_nobs = len(x_data)\n",
    "h_val = 1 / data_nobs + (x_data - x_data_bar) ** 2 / (data_nobs - 1) / cov_mat1[1,1]\n",
    "print(h_val)\n",
    "fb_h = pd.DataFrame(h_val,columns = ['hi'])\n",
    "filter = (fb_h['hi'] > 6 / data_nobs )\n",
    "print(\"Influential Observations by hi = \\n\")\n",
    "print(fb_h['hi'].loc[filter])"
   ]
  },
  {
   "cell_type": "markdown",
   "metadata": {},
   "source": [
    "### Stdandard errors\n"
   ]
  },
  {
   "cell_type": "code",
   "execution_count": 14,
   "metadata": {},
   "outputs": [
    {
     "name": "stdout",
     "output_type": "stream",
     "text": [
      "MSE:  409345482822249.5\n",
      "Standard errors:  20232288.126216706\n"
     ]
    }
   ],
   "source": [
    "s2_e = fb_result.mse_resid\n",
    "print('MSE: ', s2_e)\n",
    "s_e = fb_result.mse_resid ** 0.5\n",
    "print('Standard errors: ', s_e)"
   ]
  },
  {
   "cell_type": "markdown",
   "metadata": {},
   "source": [
    "### Coefficient of correlation (and determination)\n"
   ]
  },
  {
   "cell_type": "code",
   "execution_count": 15,
   "metadata": {},
   "outputs": [
    {
     "name": "stdout",
     "output_type": "stream",
     "text": [
      "SSR =  6.062406600597516e+17\n",
      "R2 =  0.11239419506359272\n"
     ]
    }
   ],
   "source": [
    "SSR = fb_result.ssr\n",
    "# SST = SSR + SSE\n",
    "R2 = fb_result.rsquared\n",
    "print(\"SSR = \", SSR)\n",
    "print(\"R2 = \", R2)"
   ]
  },
  {
   "cell_type": "markdown",
   "metadata": {},
   "source": [
    "### Testing Coefficient of correlation\n",
    "H0: r = 0 <br>\n",
    "H1: r $\\neq$ 0."
   ]
  },
  {
   "cell_type": "code",
   "execution_count": 16,
   "metadata": {
    "scrolled": false
   },
   "outputs": [
    {
     "name": "stdout",
     "output_type": "stream",
     "text": [
      "r =  0.3352524348361896\n",
      "t_critical =  1.961567075831078\n",
      "t =  13.69428629373287\n",
      "p_value =  2.792181599860039e-40\n"
     ]
    }
   ],
   "source": [
    "cor_mat = np.corrcoef(fb[['Avg_Daily_Visitors', 'Facebook_likes']].values, rowvar = False)\n",
    "n = fb['Avg_Daily_Visitors'].shape[0]\n",
    "# print(n)\n",
    "r_t_value = c_of_c_test(cor_mat[1,0], n,0.05)"
   ]
  },
  {
   "cell_type": "markdown",
   "metadata": {},
   "source": [
    "## Twitter_visitors"
   ]
  },
  {
   "cell_type": "code",
   "execution_count": 17,
   "metadata": {},
   "outputs": [
    {
     "data": {
      "text/html": [
       "<div>\n",
       "<style scoped>\n",
       "    .dataframe tbody tr th:only-of-type {\n",
       "        vertical-align: middle;\n",
       "    }\n",
       "\n",
       "    .dataframe tbody tr th {\n",
       "        vertical-align: top;\n",
       "    }\n",
       "\n",
       "    .dataframe thead th {\n",
       "        text-align: right;\n",
       "    }\n",
       "</style>\n",
       "<table border=\"1\" class=\"dataframe\">\n",
       "  <thead>\n",
       "    <tr style=\"text-align: right;\">\n",
       "      <th></th>\n",
       "      <th>Avg_Daily_Visitors</th>\n",
       "      <th>Twitter_mentions</th>\n",
       "    </tr>\n",
       "  </thead>\n",
       "  <tbody>\n",
       "    <tr>\n",
       "      <th>1</th>\n",
       "      <td>515007350</td>\n",
       "      <td>11200</td>\n",
       "    </tr>\n",
       "    <tr>\n",
       "      <th>2</th>\n",
       "      <td>506457282</td>\n",
       "      <td>16500</td>\n",
       "    </tr>\n",
       "    <tr>\n",
       "      <th>3</th>\n",
       "      <td>270071255</td>\n",
       "      <td>64400</td>\n",
       "    </tr>\n",
       "    <tr>\n",
       "      <th>4</th>\n",
       "      <td>99572035</td>\n",
       "      <td>1110</td>\n",
       "    </tr>\n",
       "    <tr>\n",
       "      <th>5</th>\n",
       "      <td>100388</td>\n",
       "      <td>12</td>\n",
       "    </tr>\n",
       "    <tr>\n",
       "      <th>...</th>\n",
       "      <td>...</td>\n",
       "      <td>...</td>\n",
       "    </tr>\n",
       "    <tr>\n",
       "      <th>2178</th>\n",
       "      <td>4498</td>\n",
       "      <td>85</td>\n",
       "    </tr>\n",
       "    <tr>\n",
       "      <th>2179</th>\n",
       "      <td>9493</td>\n",
       "      <td>3</td>\n",
       "    </tr>\n",
       "    <tr>\n",
       "      <th>2180</th>\n",
       "      <td>11902</td>\n",
       "      <td>27</td>\n",
       "    </tr>\n",
       "    <tr>\n",
       "      <th>2181</th>\n",
       "      <td>11862</td>\n",
       "      <td>15</td>\n",
       "    </tr>\n",
       "    <tr>\n",
       "      <th>2182</th>\n",
       "      <td>9946</td>\n",
       "      <td>256</td>\n",
       "    </tr>\n",
       "  </tbody>\n",
       "</table>\n",
       "<p>2093 rows × 2 columns</p>\n",
       "</div>"
      ],
      "text/plain": [
       "      Avg_Daily_Visitors  Twitter_mentions\n",
       "1              515007350             11200\n",
       "2              506457282             16500\n",
       "3              270071255             64400\n",
       "4               99572035              1110\n",
       "5                 100388                12\n",
       "...                  ...               ...\n",
       "2178                4498                85\n",
       "2179                9493                 3\n",
       "2180               11902                27\n",
       "2181               11862                15\n",
       "2182                9946               256\n",
       "\n",
       "[2093 rows x 2 columns]"
      ]
     },
     "metadata": {},
     "output_type": "display_data"
    }
   ],
   "source": [
    "fb = df[df[\"Twitter_mentions\"].str.contains(\"-\")==False]\n",
    "fb = fb[['Avg_Daily_Visitors','Twitter_mentions']]\n",
    "fb.reset_index(inplace = True, drop = True)\n",
    "fb.dropna(inplace=True)\n",
    "fb['Twitter_mentions'] = fb['Twitter_mentions'].apply(value_to_int)\n",
    "fb['Avg_Daily_Visitors'] = fb['Avg_Daily_Visitors'].apply(value_to_int)\n",
    "display(fb)"
   ]
  },
  {
   "cell_type": "code",
   "execution_count": 18,
   "metadata": {},
   "outputs": [
    {
     "data": {
      "image/png": "[encoded data removed]",
      "text/plain": [
       "<Figure size 480x320 with 1 Axes>"
      ]
     },
     "metadata": {
      "needs_background": "light"
     },
     "output_type": "display_data"
    }
   ],
   "source": [
    "# draw plot\n",
    "_ = sns.regplot(x='Twitter_mentions', y= 'Avg_Daily_Visitors', data = fb, color = 'b', ci = None)\n",
    "plt.title('Scatter Plot for Twitter Mentions & Avg Daily Visitors ')\n",
    "plt.xlabel('Twitter Mentions')\n",
    "plt.ylabel('Avg Daily Visitors')\n",
    "plt.show()"
   ]
  },
  {
   "cell_type": "code",
   "execution_count": 19,
   "metadata": {},
   "outputs": [
    {
     "name": "stdout",
     "output_type": "stream",
     "text": [
      "                            OLS Regression Results                            \n",
      "==============================================================================\n",
      "Dep. Variable:     Avg_Daily_Visitors   R-squared:                       0.004\n",
      "Model:                            OLS   Adj. R-squared:                  0.003\n",
      "Method:                 Least Squares   F-statistic:                     7.437\n",
      "Date:                Tue, 10 May 2022   Prob (F-statistic):            0.00644\n",
      "Time:                        00:26:40   Log-Likelihood:                -37960.\n",
      "No. Observations:                2093   AIC:                         7.592e+04\n",
      "Df Residuals:                    2091   BIC:                         7.594e+04\n",
      "Df Model:                           1                                         \n",
      "Covariance Type:            nonrobust                                         \n",
      "====================================================================================\n",
      "                       coef    std err          t      P>|t|      [0.025      0.975]\n",
      "------------------------------------------------------------------------------------\n",
      "Intercept         2.233e+06   3.99e+05      5.600      0.000    1.45e+06    3.02e+06\n",
      "Twitter_mentions     1.3277      0.487      2.727      0.006       0.373       2.282\n",
      "==============================================================================\n",
      "Omnibus:                     4919.898   Durbin-Watson:                   0.270\n",
      "Prob(Omnibus):                  0.000   Jarque-Bera (JB):         31853282.550\n",
      "Skew:                          22.840   Prob(JB):                         0.00\n",
      "Kurtosis:                     605.634   Cond. No.                     8.20e+05\n",
      "==============================================================================\n",
      "\n",
      "Notes:\n",
      "[1] Standard Errors assume that the covariance matrix of the errors is correctly specified.\n",
      "[2] The condition number is large, 8.2e+05. This might indicate that there are\n",
      "strong multicollinearity or other numerical problems.\n",
      "\n",
      "Estimated model: y = 2233290.2183 + 1.3277 x\n",
      "The coefficients are 2233290.2183 and 1.3277\n"
     ]
    }
   ],
   "source": [
    "# Fit regression model \n",
    "fb_result = smf.ols('Avg_Daily_Visitors~ Twitter_mentions', data=fb).fit()\n",
    "# Inspect the results\n",
    "print(fb_result.summary())\n",
    "\n",
    "b1 = fb_result.params[1]\n",
    "b0 = fb_result.params[0]\n",
    "\n",
    "print(f\"\\nEstimated model: y = {b0:.4f} + {b1:.4f} x\")\n",
    "print(f\"The coefficients are {b0:.4f} and {b1:.4f}\")"
   ]
  },
  {
   "cell_type": "markdown",
   "metadata": {},
   "source": [
    "###    Standardized Residuals\n",
    "\n",
    "把殘差值標準化"
   ]
  },
  {
   "cell_type": "code",
   "execution_count": 20,
   "metadata": {},
   "outputs": [
    {
     "name": "stdout",
     "output_type": "stream",
     "text": [
      "Standardized Residuals \n",
      "\n",
      "[28.14642406 27.67670388 14.69749093 ... -0.12193865 -0.12193997\n",
      " -0.1220627 ]\n",
      "mu =  -0.0007860089522594601\n",
      "sigma =  1.0025123942414245\n"
     ]
    }
   ],
   "source": [
    "# studentized residual\n",
    "print(\"Standardized Residuals \\n\")\n",
    "st1, data1, ss3 = sso.summary_table(fb_result, alpha=0.05)\n",
    "SD = data1[:, 10]\n",
    "mu = np.mean(SD)\n",
    "sigma = np.std(SD)\n",
    "print(SD)\n",
    "print('mu = ', mu)\n",
    "print('sigma = ', sigma)\n"
   ]
  },
  {
   "cell_type": "markdown",
   "metadata": {},
   "source": [
    "### Normal test\n",
    "\n",
    "#### H0: Errors are normally distributed <br>\n",
    "#### H1: Errors are not normally distributed."
   ]
  },
  {
   "cell_type": "markdown",
   "metadata": {},
   "source": [
    "### QQ-plot and Histogram"
   ]
  },
  {
   "cell_type": "code",
   "execution_count": 21,
   "metadata": {},
   "outputs": [
    {
     "data": {
      "image/png": "[encoded data removed]",
      "text/plain": [
       "<Figure size 480x320 with 1 Axes>"
      ]
     },
     "metadata": {
      "needs_background": "light"
     },
     "output_type": "display_data"
    },
    {
     "data": {
      "image/png": "[encoded data removed]",
      "text/plain": [
       "<Figure size 480x320 with 1 Axes>"
      ]
     },
     "metadata": {
      "needs_background": "light"
     },
     "output_type": "display_data"
    }
   ],
   "source": [
    "counts, bins, patches = plt.hist(SD, 6, density=False, facecolor='g', alpha=0.75)\n",
    "plt.xlabel('Avg Daily Visitors')\n",
    "plt.ylabel('Frequency')\n",
    "plt.title('Histogram of Standard Residuals Avg Daily Visitors & Twitter Mentions')\n",
    "plt.grid(True)\n",
    "bin_centers = [np.mean(k) for k in zip(bins[:-1], bins[1:])]\n",
    "plt.show()\n",
    "fig = sm.qqplot(SD, stats.norm, fit=True, line='45')"
   ]
  },
  {
   "cell_type": "markdown",
   "metadata": {},
   "source": [
    "#### Shapiro Test"
   ]
  },
  {
   "cell_type": "code",
   "execution_count": 22,
   "metadata": {
    "tags": []
   },
   "outputs": [
    {
     "name": "stdout",
     "output_type": "stream",
     "text": [
      "Shapiro Test\n",
      "Statistics=0.086, p=0.000\n"
     ]
    }
   ],
   "source": [
    "print('Shapiro Test')\n",
    "stat, p = stats.shapiro(SD)\n",
    "print('Statistics=%.3f, p=%.3f' % (stat, p))"
   ]
  },
  {
   "cell_type": "markdown",
   "metadata": {},
   "source": [
    "Since pvalue is smaller than alpha(0.05), H0 is rejected. Errors are not normally distributed."
   ]
  },
  {
   "cell_type": "markdown",
   "metadata": {},
   "source": [
    "### Chi test"
   ]
  },
  {
   "cell_type": "code",
   "execution_count": 23,
   "metadata": {},
   "outputs": [
    {
     "name": "stdout",
     "output_type": "stream",
     "text": [
      "Chi-squared test: statistics = 7942.6059, p-value = 0.0000\n",
      "Critical value = 7.8147 (defree of freedom = 3)\n",
      "0.0\n"
     ]
    }
   ],
   "source": [
    "chi2_pval = Chi_Square_for_Normality(SD, 6, 0.05) \n",
    "print(chi2_pval)"
   ]
  },
  {
   "cell_type": "markdown",
   "metadata": {},
   "source": [
    "### H0: Homoscedasticity <br>\n",
    "### H1: Heteroscedasticity"
   ]
  },
  {
   "cell_type": "code",
   "execution_count": 24,
   "metadata": {},
   "outputs": [
    {
     "data": {
      "image/png": "[encoded data removed]",
      "text/plain": [
       "<Figure size 480x320 with 1 Axes>"
      ]
     },
     "metadata": {
      "needs_background": "light"
     },
     "output_type": "display_data"
    }
   ],
   "source": [
    "\n",
    "y_pre = data1[:, 2]\n",
    "plt.plot(y_pre, SD, 'o', color = 'gray')\n",
    "plt.axhline(y=0, color = 'blue')\n",
    "plt.axhline(y=2, color = 'red')\n",
    "plt.axhline(y=-2, color = 'red')\n",
    "plt.title('Standardized Residual Plot')\n",
    "plt.xlabel('Odometer')\n",
    "plt.ylabel('Standardized Residual')\n",
    "plt.show()"
   ]
  },
  {
   "cell_type": "markdown",
   "metadata": {},
   "source": [
    "The result seems to be Homoscedasticity. The spread of data points doesn't change much."
   ]
  },
  {
   "cell_type": "markdown",
   "metadata": {},
   "source": [
    "### Runs test\n",
    "\n",
    "測試independence <br>\n",
    "\n",
    "#### H0: Randomness exists \n",
    "#### H1: Randomness does not exist."
   ]
  },
  {
   "cell_type": "code",
   "execution_count": 25,
   "metadata": {},
   "outputs": [
    {
     "name": "stdout",
     "output_type": "stream",
     "text": [
      "runs =  548\n",
      "n1 =  1047\n",
      "n2 =  1046\n",
      "runs_exp =  1047.4997611084568\n",
      "stan_dev =  22.86918541631109\n",
      "z =  -21.84160703652332\n",
      "pval_z =  9.341132406932905e-106\n",
      "p_value for Z-statistic=  9.341132406932905e-106\n"
     ]
    }
   ],
   "source": [
    "SD_median = statistics.median(SD)\n",
    "Z_pval = runsTest(SD, SD_median) \n",
    "  \n",
    "print('p_value for Z-statistic= ', Z_pval)"
   ]
  },
  {
   "cell_type": "markdown",
   "metadata": {},
   "source": [
    "Since pvalue is smaller than alpha(0.05), H0 is rejected. Randomness doen't exist."
   ]
  },
  {
   "cell_type": "markdown",
   "metadata": {},
   "source": [
    "## Outliers\n",
    "\n",
    "當error >2 or <-2 ,可以當成outliers"
   ]
  },
  {
   "cell_type": "code",
   "execution_count": 26,
   "metadata": {},
   "outputs": [
    {
     "name": "stdout",
     "output_type": "stream",
     "text": [
      "Outliers by SD = \n",
      "\n",
      "0      28.146424\n",
      "1      27.676704\n",
      "2      14.697491\n",
      "3       5.343048\n",
      "6       6.405242\n",
      "7       2.982939\n",
      "15      2.271674\n",
      "17      2.634069\n",
      "26      2.121063\n",
      "101     2.426297\n",
      "138     3.203974\n",
      "174    -3.754120\n",
      "249     3.551589\n",
      "490     6.248147\n",
      "491     4.241324\n",
      "492     3.374521\n",
      "493     3.083591\n",
      "494     3.301556\n",
      "495     2.456279\n",
      "496     2.007526\n",
      "497     2.061965\n",
      "512     2.414264\n",
      "Name: SD, dtype: float64\n"
     ]
    }
   ],
   "source": [
    "fb_c = pd.DataFrame(SD,columns = ['SD'])\n",
    "filter = (fb_c['SD'] < -2) | (fb_c['SD'] > 2)\n",
    "print(\"Outliers by SD = \\n\")\n",
    "print(fb_c['SD'].loc[filter])"
   ]
  },
  {
   "cell_type": "markdown",
   "metadata": {},
   "source": [
    "### Influential Observation\n",
    "\n",
    "足以大幅影響回歸線斜率的點"
   ]
  },
  {
   "cell_type": "code",
   "execution_count": 27,
   "metadata": {},
   "outputs": [
    {
     "name": "stdout",
     "output_type": "stream",
     "text": [
      "\n",
      "Influential Observations \n",
      "\n",
      "[0.0004784  0.0004782  0.00047819 ... 0.00047896 0.00047896 0.00047895]\n",
      "Influential Observations by hi = \n",
      "\n",
      "15      0.008107\n",
      "17      0.125970\n",
      "26      0.029435\n",
      "93      0.003534\n",
      "174     0.743298\n",
      "394     0.003962\n",
      "1061    0.081580\n",
      "Name: hi, dtype: float64\n"
     ]
    }
   ],
   "source": [
    "print(\"\\nInfluential Observations \\n\")\n",
    "x_data = fb['Twitter_mentions'].values\n",
    "y_data = fb['Avg_Daily_Visitors'].values\n",
    "cov_mat1 = np.cov(y_data, x_data)\n",
    "x_data_bar = x_data.mean()\n",
    "data_nobs = len(x_data)\n",
    "h_val = 1 / data_nobs + (x_data - x_data_bar) ** 2 / (data_nobs - 1) / cov_mat1[1,1]\n",
    "print(h_val)\n",
    "fb_h = pd.DataFrame(h_val,columns = ['hi'])\n",
    "filter = (fb_h['hi'] > 6 / data_nobs )\n",
    "print(\"Influential Observations by hi = \\n\")\n",
    "print(fb_h['hi'].loc[filter])"
   ]
  },
  {
   "cell_type": "markdown",
   "metadata": {},
   "source": [
    "### Stdandard errors\n"
   ]
  },
  {
   "cell_type": "code",
   "execution_count": 28,
   "metadata": {},
   "outputs": [
    {
     "name": "stdout",
     "output_type": "stream",
     "text": [
      "MSE:  332038367110351.6\n",
      "Standard errors:  18221919.962241948\n"
     ]
    }
   ],
   "source": [
    "s2_e = fb_result.mse_resid\n",
    "print('MSE: ', s2_e)\n",
    "s_e = fb_result.mse_resid ** 0.5\n",
    "print('Standard errors: ', s_e)"
   ]
  },
  {
   "cell_type": "markdown",
   "metadata": {},
   "source": [
    "### Coefficient of correlation (and determination)\n"
   ]
  },
  {
   "cell_type": "code",
   "execution_count": 29,
   "metadata": {},
   "outputs": [
    {
     "name": "stdout",
     "output_type": "stream",
     "text": [
      "SSR =  6.942922256277453e+17\n",
      "R2 =  0.003544254781160383\n"
     ]
    }
   ],
   "source": [
    "SSR = fb_result.ssr\n",
    "# SST = SSR + SSE\n",
    "R2 = fb_result.rsquared\n",
    "print(\"SSR = \", SSR)\n",
    "print(\"R2 = \", R2)"
   ]
  },
  {
   "cell_type": "markdown",
   "metadata": {},
   "source": [
    "### Testing Coefficient of correlation\n",
    "H0: r = 0 <br>\n",
    "H1: r $\\neq$ 0."
   ]
  },
  {
   "cell_type": "code",
   "execution_count": 30,
   "metadata": {
    "scrolled": false
   },
   "outputs": [
    {
     "name": "stdout",
     "output_type": "stream",
     "text": [
      "r =  0.059533644111215055\n",
      "t_critical =  1.961099145538133\n",
      "t =  2.727159103626286\n",
      "p_value =  0.006441588363287954\n"
     ]
    }
   ],
   "source": [
    "cor_mat = np.corrcoef(fb[['Avg_Daily_Visitors', 'Twitter_mentions']].values, rowvar = False)\n",
    "n = fb['Avg_Daily_Visitors'].shape[0]\n",
    "# print(n)\n",
    "r_t_value = c_of_c_test(cor_mat[1,0], n,0.05)"
   ]
  },
  {
   "cell_type": "markdown",
   "metadata": {},
   "source": [
    "## Google_visitors"
   ]
  },
  {
   "cell_type": "code",
   "execution_count": 31,
   "metadata": {},
   "outputs": [
    {
     "data": {
      "text/html": [
       "<div>\n",
       "<style scoped>\n",
       "    .dataframe tbody tr th:only-of-type {\n",
       "        vertical-align: middle;\n",
       "    }\n",
       "\n",
       "    .dataframe tbody tr th {\n",
       "        vertical-align: top;\n",
       "    }\n",
       "\n",
       "    .dataframe thead th {\n",
       "        text-align: right;\n",
       "    }\n",
       "</style>\n",
       "<table border=\"1\" class=\"dataframe\">\n",
       "  <thead>\n",
       "    <tr style=\"text-align: right;\">\n",
       "      <th></th>\n",
       "      <th>Avg_Daily_Visitors</th>\n",
       "      <th>Google_pluses</th>\n",
       "    </tr>\n",
       "  </thead>\n",
       "  <tbody>\n",
       "    <tr>\n",
       "      <th>1</th>\n",
       "      <td>515007350</td>\n",
       "      <td>11700000</td>\n",
       "    </tr>\n",
       "    <tr>\n",
       "      <th>2</th>\n",
       "      <td>506457282</td>\n",
       "      <td>19300000</td>\n",
       "    </tr>\n",
       "    <tr>\n",
       "      <th>3</th>\n",
       "      <td>270071255</td>\n",
       "      <td>127000</td>\n",
       "    </tr>\n",
       "    <tr>\n",
       "      <th>4</th>\n",
       "      <td>99572035</td>\n",
       "      <td>798000</td>\n",
       "    </tr>\n",
       "    <tr>\n",
       "      <th>5</th>\n",
       "      <td>100388</td>\n",
       "      <td>12</td>\n",
       "    </tr>\n",
       "    <tr>\n",
       "      <th>...</th>\n",
       "      <td>...</td>\n",
       "      <td>...</td>\n",
       "    </tr>\n",
       "    <tr>\n",
       "      <th>2913</th>\n",
       "      <td>9493</td>\n",
       "      <td>7</td>\n",
       "    </tr>\n",
       "    <tr>\n",
       "      <th>2914</th>\n",
       "      <td>11902</td>\n",
       "      <td>42</td>\n",
       "    </tr>\n",
       "    <tr>\n",
       "      <th>2915</th>\n",
       "      <td>11862</td>\n",
       "      <td>3</td>\n",
       "    </tr>\n",
       "    <tr>\n",
       "      <th>2916</th>\n",
       "      <td>9946</td>\n",
       "      <td>214</td>\n",
       "    </tr>\n",
       "    <tr>\n",
       "      <th>2917</th>\n",
       "      <td>1331630</td>\n",
       "      <td>4</td>\n",
       "    </tr>\n",
       "  </tbody>\n",
       "</table>\n",
       "<p>2807 rows × 2 columns</p>\n",
       "</div>"
      ],
      "text/plain": [
       "      Avg_Daily_Visitors  Google_pluses\n",
       "1              515007350       11700000\n",
       "2              506457282       19300000\n",
       "3              270071255         127000\n",
       "4               99572035         798000\n",
       "5                 100388             12\n",
       "...                  ...            ...\n",
       "2913                9493              7\n",
       "2914               11902             42\n",
       "2915               11862              3\n",
       "2916                9946            214\n",
       "2917             1331630              4\n",
       "\n",
       "[2807 rows x 2 columns]"
      ]
     },
     "metadata": {},
     "output_type": "display_data"
    }
   ],
   "source": [
    "fb = df[df[\"Google_pluses\"].str.contains(\"-\")==False]\n",
    "fb = fb[['Avg_Daily_Visitors','Google_pluses']]\n",
    "fb.reset_index(inplace = True, drop = True)\n",
    "fb.dropna(inplace=True)\n",
    "fb['Google_pluses'] = fb['Google_pluses'].apply(value_to_int)\n",
    "fb['Avg_Daily_Visitors'] = fb['Avg_Daily_Visitors'].apply(value_to_int)\n",
    "display(fb)"
   ]
  },
  {
   "cell_type": "code",
   "execution_count": 32,
   "metadata": {},
   "outputs": [
    {
     "data": {
      "image/png": "[encoded data removed]",
      "text/plain": [
       "<Figure size 480x320 with 1 Axes>"
      ]
     },
     "metadata": {
      "needs_background": "light"
     },
     "output_type": "display_data"
    }
   ],
   "source": [
    "# draw plot\n",
    "_ = sns.regplot(x='Google_pluses', y= 'Avg_Daily_Visitors', data = fb, color = 'b', ci = None)\n",
    "plt.title('Scatter Plot for Google Pluses & Avg Daily Visitors ')\n",
    "plt.xlabel('Google Pluses')\n",
    "plt.ylabel('Avg Daily Visitors')\n",
    "plt.show()"
   ]
  },
  {
   "cell_type": "code",
   "execution_count": 33,
   "metadata": {},
   "outputs": [
    {
     "name": "stdout",
     "output_type": "stream",
     "text": [
      "                            OLS Regression Results                            \n",
      "==============================================================================\n",
      "Dep. Variable:     Avg_Daily_Visitors   R-squared:                       0.111\n",
      "Model:                            OLS   Adj. R-squared:                  0.111\n",
      "Method:                 Least Squares   F-statistic:                     351.6\n",
      "Date:                Tue, 10 May 2022   Prob (F-statistic):           5.34e-74\n",
      "Time:                        00:26:41   Log-Likelihood:                -50344.\n",
      "No. Observations:                2807   AIC:                         1.007e+05\n",
      "Df Residuals:                    2805   BIC:                         1.007e+05\n",
      "Df Model:                           1                                         \n",
      "Covariance Type:            nonrobust                                         \n",
      "=================================================================================\n",
      "                    coef    std err          t      P>|t|      [0.025      0.975]\n",
      "---------------------------------------------------------------------------------\n",
      "Intercept      1.108e+06   2.84e+05      3.904      0.000    5.52e+05    1.67e+06\n",
      "Google_pluses     4.7046      0.251     18.750      0.000       4.213       5.197\n",
      "==============================================================================\n",
      "Omnibus:                     6295.951   Durbin-Watson:                   0.477\n",
      "Prob(Omnibus):                  0.000   Jarque-Bera (JB):         38904506.083\n",
      "Skew:                          20.571   Prob(JB):                         0.00\n",
      "Kurtosis:                     578.276   Cond. No.                     1.14e+06\n",
      "==============================================================================\n",
      "\n",
      "Notes:\n",
      "[1] Standard Errors assume that the covariance matrix of the errors is correctly specified.\n",
      "[2] The condition number is large, 1.14e+06. This might indicate that there are\n",
      "strong multicollinearity or other numerical problems.\n",
      "\n",
      "Estimated model: y = 1108366.1993 + 4.7046 x\n",
      "The coefficients are 1108366.1993 and 4.7046\n"
     ]
    }
   ],
   "source": [
    "# Fit regression model \n",
    "fb_result = smf.ols('Avg_Daily_Visitors~ Google_pluses', data=fb).fit()\n",
    "# Inspect the results\n",
    "print(fb_result.summary())\n",
    "\n",
    "b1 = fb_result.params[1]\n",
    "b0 = fb_result.params[0]\n",
    "\n",
    "print(f\"\\nEstimated model: y = {b0:.4f} + {b1:.4f} x\")\n",
    "print(f\"The coefficients are {b0:.4f} and {b1:.4f}\")"
   ]
  },
  {
   "cell_type": "markdown",
   "metadata": {},
   "source": [
    "###    Standardized Residuals\n",
    "\n",
    "把殘差值標準化"
   ]
  },
  {
   "cell_type": "code",
   "execution_count": 34,
   "metadata": {},
   "outputs": [
    {
     "name": "stdout",
     "output_type": "stream",
     "text": [
      "Standardized Residuals \n",
      "\n",
      "[ 3.14063369e+01  2.94030976e+01  1.80176393e+01 ... -7.36187946e-02\n",
      " -7.38140783e-02  1.49883739e-02]\n",
      "mu =  0.0002596916018651531\n",
      "sigma =  1.0240730696409976\n"
     ]
    }
   ],
   "source": [
    "# studentized residual\n",
    "print(\"Standardized Residuals \\n\")\n",
    "st1, data1, ss3 = sso.summary_table(fb_result, alpha=0.05)\n",
    "SD = data1[:, 10]\n",
    "mu = np.mean(SD)\n",
    "sigma = np.std(SD)\n",
    "print(SD)\n",
    "print('mu = ', mu)\n",
    "print('sigma = ', sigma)\n"
   ]
  },
  {
   "cell_type": "markdown",
   "metadata": {},
   "source": [
    "### Normal test\n",
    "\n",
    "#### H0: Errors are normally distributed <br>\n",
    "#### H1: Errors are not normally distributed."
   ]
  },
  {
   "cell_type": "markdown",
   "metadata": {},
   "source": [
    "### QQ-plot and Histogram"
   ]
  },
  {
   "cell_type": "code",
   "execution_count": 35,
   "metadata": {},
   "outputs": [
    {
     "data": {
      "image/png": "[encoded data removed]",
      "text/plain": [
       "<Figure size 480x320 with 1 Axes>"
      ]
     },
     "metadata": {
      "needs_background": "light"
     },
     "output_type": "display_data"
    },
    {
     "data": {
      "image/png": "[encoded data removed]",
      "text/plain": [
       "<Figure size 480x320 with 1 Axes>"
      ]
     },
     "metadata": {
      "needs_background": "light"
     },
     "output_type": "display_data"
    }
   ],
   "source": [
    "counts, bins, patches = plt.hist(SD, 6, density=False, facecolor='g', alpha=0.75)\n",
    "plt.xlabel('Avg Daily Visitors')\n",
    "plt.ylabel('Frequency')\n",
    "plt.title('Histogram of Standard Residuals Avg Daily Visitors & Google Pluses')\n",
    "plt.grid(True)\n",
    "bin_centers = [np.mean(k) for k in zip(bins[:-1], bins[1:])]\n",
    "plt.show()\n",
    "fig = sm.qqplot(SD, stats.norm, fit=True, line='45')"
   ]
  },
  {
   "cell_type": "markdown",
   "metadata": {},
   "source": [
    "#### Shapiro Test"
   ]
  },
  {
   "cell_type": "code",
   "execution_count": 36,
   "metadata": {
    "tags": []
   },
   "outputs": [
    {
     "name": "stdout",
     "output_type": "stream",
     "text": [
      "Shapiro Test\n",
      "Statistics=0.125, p=0.000\n"
     ]
    }
   ],
   "source": [
    "print('Shapiro Test')\n",
    "stat, p = stats.shapiro(SD)\n",
    "print('Statistics=%.3f, p=%.3f' % (stat, p))"
   ]
  },
  {
   "cell_type": "markdown",
   "metadata": {},
   "source": [
    "Since pvalue is smaller than alpha(0.05), H0 is rejected. Errors are not normally distributed."
   ]
  },
  {
   "cell_type": "markdown",
   "metadata": {},
   "source": [
    "### Chi test"
   ]
  },
  {
   "cell_type": "code",
   "execution_count": 37,
   "metadata": {},
   "outputs": [
    {
     "name": "stdout",
     "output_type": "stream",
     "text": [
      "Chi-squared test: statistics = 9778.1956, p-value = 0.0000\n",
      "Critical value = 7.8147 (defree of freedom = 3)\n",
      "0.0\n"
     ]
    }
   ],
   "source": [
    "chi2_pval = Chi_Square_for_Normality(SD, 6, 0.05) \n",
    "print(chi2_pval)"
   ]
  },
  {
   "cell_type": "markdown",
   "metadata": {},
   "source": [
    "### H0: Homoscedasticity <br>\n",
    "### H1: Heteroscedasticity"
   ]
  },
  {
   "cell_type": "code",
   "execution_count": 38,
   "metadata": {},
   "outputs": [
    {
     "data": {
      "image/png": "[encoded data removed]",
      "text/plain": [
       "<Figure size 480x320 with 1 Axes>"
      ]
     },
     "metadata": {
      "needs_background": "light"
     },
     "output_type": "display_data"
    }
   ],
   "source": [
    "\n",
    "y_pre = data1[:, 2]\n",
    "plt.plot(y_pre, SD, 'o', color = 'gray')\n",
    "plt.axhline(y=0, color = 'blue')\n",
    "plt.axhline(y=2, color = 'red')\n",
    "plt.axhline(y=-2, color = 'red')\n",
    "plt.title('Standardized Residual Plot')\n",
    "plt.xlabel('Odometer')\n",
    "plt.ylabel('Standardized Residual')\n",
    "plt.show()"
   ]
  },
  {
   "cell_type": "markdown",
   "metadata": {},
   "source": [
    "The result seems to be Homoscedasticity. The spread of data points doesn't change much."
   ]
  },
  {
   "cell_type": "markdown",
   "metadata": {},
   "source": [
    "### Runs test\n",
    "\n",
    "測試independence <br>\n",
    "\n",
    "#### H0: Randomness exists \n",
    "#### H1: Randomness does not exist."
   ]
  },
  {
   "cell_type": "code",
   "execution_count": 39,
   "metadata": {},
   "outputs": [
    {
     "name": "stdout",
     "output_type": "stream",
     "text": [
      "runs =  853\n",
      "n1 =  1404\n",
      "n2 =  1403\n",
      "runs_exp =  1404.4998218738867\n",
      "stan_dev =  26.4858402316993\n",
      "z =  -20.822440105707123\n",
      "pval_z =  2.7102667971082293e-96\n",
      "p_value for Z-statistic=  2.7102667971082293e-96\n"
     ]
    }
   ],
   "source": [
    "SD_median = statistics.median(SD)\n",
    "Z_pval = runsTest(SD, SD_median) \n",
    "  \n",
    "print('p_value for Z-statistic= ', Z_pval)"
   ]
  },
  {
   "cell_type": "markdown",
   "metadata": {},
   "source": [
    "Since pvalue is smaller than alpha(0.05), H0 is rejected. Randomness doen't exist."
   ]
  },
  {
   "cell_type": "markdown",
   "metadata": {},
   "source": [
    "## Outliers\n",
    "\n",
    "當error >2 or <-2 ,可以當成outliers"
   ]
  },
  {
   "cell_type": "code",
   "execution_count": 40,
   "metadata": {},
   "outputs": [
    {
     "name": "stdout",
     "output_type": "stream",
     "text": [
      "Outliers by SD = \n",
      "\n",
      "0       31.406337\n",
      "1       29.403098\n",
      "2       18.017639\n",
      "3        6.359014\n",
      "6        7.869984\n",
      "8        3.716753\n",
      "18       2.699968\n",
      "21       4.252379\n",
      "30       3.169833\n",
      "127      3.147828\n",
      "170      3.936999\n",
      "301     -2.382327\n",
      "318      3.410139\n",
      "628     -3.815258\n",
      "643      7.736819\n",
      "644      5.262742\n",
      "645      4.202921\n",
      "646      3.846906\n",
      "647      4.113719\n",
      "648      3.079443\n",
      "649      2.531009\n",
      "650      2.597480\n",
      "651      2.490514\n",
      "668      2.882206\n",
      "745     -3.839883\n",
      "980     -3.833809\n",
      "1094    -2.287701\n",
      "1171    -3.476166\n",
      "1224    -3.830960\n",
      "1267    -3.620386\n",
      "1282    -3.533729\n",
      "1655    -3.842012\n",
      "1811    -3.722204\n",
      "1829    -3.776041\n",
      "2177    -3.834956\n",
      "2264    -3.842528\n",
      "2271    -3.837705\n",
      "2351    -3.840814\n",
      "2378    -3.830944\n",
      "2405    -3.801386\n",
      "2484    -3.834625\n",
      "2505    -3.766724\n",
      "2653    -3.841994\n",
      "Name: SD, dtype: float64\n"
     ]
    }
   ],
   "source": [
    "fb_c = pd.DataFrame(SD,columns = ['SD'])\n",
    "filter = (fb_c['SD'] < -2) | (fb_c['SD'] > 2)\n",
    "print(\"Outliers by SD = \\n\")\n",
    "print(fb_c['SD'].loc[filter])"
   ]
  },
  {
   "cell_type": "markdown",
   "metadata": {},
   "source": [
    "### Influential Observation\n",
    "\n",
    "足以大幅影響回歸線斜率的點"
   ]
  },
  {
   "cell_type": "code",
   "execution_count": 41,
   "metadata": {},
   "outputs": [
    {
     "name": "stdout",
     "output_type": "stream",
     "text": [
      "\n",
      "Influential Observations \n",
      "\n",
      "[0.03815619 0.10431389 0.0003565  ... 0.00036319 0.00036317 0.00036319]\n",
      "Influential Observations by hi = \n",
      "\n",
      "0       0.038156\n",
      "1       0.104314\n",
      "114     0.010109\n",
      "116     0.007289\n",
      "133     0.003681\n",
      "219     0.007658\n",
      "221     0.004525\n",
      "226     0.002748\n",
      "301     0.022291\n",
      "318     0.003001\n",
      "628     0.038156\n",
      "745     0.038156\n",
      "855     0.005156\n",
      "980     0.038156\n",
      "1094    0.015117\n",
      "1141    0.005513\n",
      "1171    0.038156\n",
      "1224    0.038156\n",
      "1267    0.038156\n",
      "1282    0.038156\n",
      "1452    0.004790\n",
      "1655    0.038156\n",
      "1811    0.038156\n",
      "1829    0.036858\n",
      "2177    0.038156\n",
      "2264    0.038156\n",
      "2271    0.038156\n",
      "2351    0.038156\n",
      "2378    0.038156\n",
      "2405    0.038156\n",
      "2484    0.038156\n",
      "2505    0.038156\n",
      "2643    0.005156\n",
      "2653    0.038156\n",
      "2687    0.004768\n",
      "2699    0.003878\n",
      "Name: hi, dtype: float64\n"
     ]
    }
   ],
   "source": [
    "print(\"\\nInfluential Observations \\n\")\n",
    "x_data = fb['Google_pluses'].values\n",
    "y_data = fb['Avg_Daily_Visitors'].values\n",
    "cov_mat1 = np.cov(y_data, x_data)\n",
    "x_data_bar = x_data.mean()\n",
    "data_nobs = len(x_data)\n",
    "h_val = 1 / data_nobs + (x_data - x_data_bar) ** 2 / (data_nobs - 1) / cov_mat1[1,1]\n",
    "print(h_val)\n",
    "fb_h = pd.DataFrame(h_val,columns = ['hi'])\n",
    "filter = (fb_h['hi'] > 6 / data_nobs )\n",
    "print(\"Influential Observations by hi = \\n\")\n",
    "print(fb_h['hi'].loc[filter])"
   ]
  },
  {
   "cell_type": "markdown",
   "metadata": {},
   "source": [
    "### Stdandard errors\n"
   ]
  },
  {
   "cell_type": "code",
   "execution_count": 42,
   "metadata": {},
   "outputs": [
    {
     "name": "stdout",
     "output_type": "stream",
     "text": [
      "MSE:  221928018086114.38\n",
      "Standard errors:  14897248.675044475\n"
     ]
    }
   ],
   "source": [
    "s2_e = fb_result.mse_resid\n",
    "print('MSE: ', s2_e)\n",
    "s_e = fb_result.mse_resid ** 0.5\n",
    "print('Standard errors: ', s_e)"
   ]
  },
  {
   "cell_type": "markdown",
   "metadata": {},
   "source": [
    "### Coefficient of correlation (and determination)\n"
   ]
  },
  {
   "cell_type": "code",
   "execution_count": 43,
   "metadata": {},
   "outputs": [
    {
     "name": "stdout",
     "output_type": "stream",
     "text": [
      "SSR =  6.225080907315508e+17\n",
      "R2 =  0.11137979078205251\n"
     ]
    }
   ],
   "source": [
    "SSR = fb_result.ssr\n",
    "# SST = SSR + SSE\n",
    "R2 = fb_result.rsquared\n",
    "print(\"SSR = \", SSR)\n",
    "print(\"R2 = \", R2)"
   ]
  },
  {
   "cell_type": "markdown",
   "metadata": {},
   "source": [
    "### Testing Coefficient of correlation\n",
    "H0: r = 0 <br>\n",
    "H1: r $\\neq$ 0."
   ]
  },
  {
   "cell_type": "code",
   "execution_count": 44,
   "metadata": {
    "scrolled": true
   },
   "outputs": [
    {
     "name": "stdout",
     "output_type": "stream",
     "text": [
      "r =  0.33373610949678895\n",
      "t_critical =  1.9608100728800097\n",
      "t =  18.750443253956465\n",
      "p_value =  5.34264884642155e-74\n"
     ]
    }
   ],
   "source": [
    "cor_mat = np.corrcoef(fb[['Avg_Daily_Visitors', 'Google_pluses']].values, rowvar = False)\n",
    "n = fb['Avg_Daily_Visitors'].shape[0]\n",
    "# print(n)\n",
    "r_t_value = c_of_c_test(cor_mat[1,0], n,0.05)"
   ]
  },
  {
   "cell_type": "markdown",
   "metadata": {},
   "source": [
    "## LinkedIn_visitors"
   ]
  },
  {
   "cell_type": "code",
   "execution_count": 45,
   "metadata": {},
   "outputs": [
    {
     "data": {
      "text/html": [
       "<div>\n",
       "<style scoped>\n",
       "    .dataframe tbody tr th:only-of-type {\n",
       "        vertical-align: middle;\n",
       "    }\n",
       "\n",
       "    .dataframe tbody tr th {\n",
       "        vertical-align: top;\n",
       "    }\n",
       "\n",
       "    .dataframe thead th {\n",
       "        text-align: right;\n",
       "    }\n",
       "</style>\n",
       "<table border=\"1\" class=\"dataframe\">\n",
       "  <thead>\n",
       "    <tr style=\"text-align: right;\">\n",
       "      <th></th>\n",
       "      <th>Avg_Daily_Visitors</th>\n",
       "      <th>LinkedIn_mentions</th>\n",
       "    </tr>\n",
       "  </thead>\n",
       "  <tbody>\n",
       "    <tr>\n",
       "      <th>1</th>\n",
       "      <td>515007350</td>\n",
       "      <td>1670</td>\n",
       "    </tr>\n",
       "    <tr>\n",
       "      <th>2</th>\n",
       "      <td>506457282</td>\n",
       "      <td>60000</td>\n",
       "    </tr>\n",
       "    <tr>\n",
       "      <th>3</th>\n",
       "      <td>270071255</td>\n",
       "      <td>6230</td>\n",
       "    </tr>\n",
       "    <tr>\n",
       "      <th>4</th>\n",
       "      <td>99572035</td>\n",
       "      <td>7500</td>\n",
       "    </tr>\n",
       "    <tr>\n",
       "      <th>5</th>\n",
       "      <td>100388</td>\n",
       "      <td>146</td>\n",
       "    </tr>\n",
       "    <tr>\n",
       "      <th>...</th>\n",
       "      <td>...</td>\n",
       "      <td>...</td>\n",
       "    </tr>\n",
       "    <tr>\n",
       "      <th>2161</th>\n",
       "      <td>4498</td>\n",
       "      <td>17</td>\n",
       "    </tr>\n",
       "    <tr>\n",
       "      <th>2162</th>\n",
       "      <td>9493</td>\n",
       "      <td>1</td>\n",
       "    </tr>\n",
       "    <tr>\n",
       "      <th>2163</th>\n",
       "      <td>505</td>\n",
       "      <td>86</td>\n",
       "    </tr>\n",
       "    <tr>\n",
       "      <th>2164</th>\n",
       "      <td>11902</td>\n",
       "      <td>5</td>\n",
       "    </tr>\n",
       "    <tr>\n",
       "      <th>2165</th>\n",
       "      <td>9946</td>\n",
       "      <td>4</td>\n",
       "    </tr>\n",
       "  </tbody>\n",
       "</table>\n",
       "<p>2081 rows × 2 columns</p>\n",
       "</div>"
      ],
      "text/plain": [
       "      Avg_Daily_Visitors  LinkedIn_mentions\n",
       "1              515007350               1670\n",
       "2              506457282              60000\n",
       "3              270071255               6230\n",
       "4               99572035               7500\n",
       "5                 100388                146\n",
       "...                  ...                ...\n",
       "2161                4498                 17\n",
       "2162                9493                  1\n",
       "2163                 505                 86\n",
       "2164               11902                  5\n",
       "2165                9946                  4\n",
       "\n",
       "[2081 rows x 2 columns]"
      ]
     },
     "metadata": {},
     "output_type": "display_data"
    }
   ],
   "source": [
    "fb = df[df[\"LinkedIn_mentions\"].str.contains(\"-\")==False]\n",
    "fb = fb[['Avg_Daily_Visitors','LinkedIn_mentions']]\n",
    "fb.reset_index(inplace = True, drop = True)\n",
    "fb.dropna(inplace=True)\n",
    "fb['LinkedIn_mentions'] = fb['LinkedIn_mentions'].apply(value_to_int)\n",
    "fb['Avg_Daily_Visitors'] = fb['Avg_Daily_Visitors'].apply(value_to_int)\n",
    "display(fb)"
   ]
  },
  {
   "cell_type": "code",
   "execution_count": 46,
   "metadata": {},
   "outputs": [
    {
     "data": {
      "image/png": "[encoded data removed]",
      "text/plain": [
       "<Figure size 480x320 with 1 Axes>"
      ]
     },
     "metadata": {
      "needs_background": "light"
     },
     "output_type": "display_data"
    }
   ],
   "source": [
    "# draw plot\n",
    "_ = sns.regplot(x='LinkedIn_mentions', y= 'Avg_Daily_Visitors', data = fb, color = 'b', ci = None)\n",
    "plt.title('Scatter Plot for LinkedIn Mentions & Avg Daily Visitors ')\n",
    "plt.xlabel('LinkedIn Mentions')\n",
    "plt.ylabel('Avg Daily Visitors')\n",
    "plt.show()"
   ]
  },
  {
   "cell_type": "code",
   "execution_count": 47,
   "metadata": {},
   "outputs": [
    {
     "name": "stdout",
     "output_type": "stream",
     "text": [
      "                            OLS Regression Results                            \n",
      "==============================================================================\n",
      "Dep. Variable:     Avg_Daily_Visitors   R-squared:                       0.046\n",
      "Model:                            OLS   Adj. R-squared:                  0.046\n",
      "Method:                 Least Squares   F-statistic:                     100.7\n",
      "Date:                Tue, 10 May 2022   Prob (F-statistic):           3.63e-23\n",
      "Time:                        00:26:41   Log-Likelihood:                -37700.\n",
      "No. Observations:                2081   AIC:                         7.540e+04\n",
      "Df Residuals:                    2079   BIC:                         7.542e+04\n",
      "Df Model:                           1                                         \n",
      "Covariance Type:            nonrobust                                         \n",
      "=====================================================================================\n",
      "                        coef    std err          t      P>|t|      [0.025      0.975]\n",
      "-------------------------------------------------------------------------------------\n",
      "Intercept          1.977e+06   3.93e+05      5.027      0.000    1.21e+06    2.75e+06\n",
      "LinkedIn_mentions   590.5473     58.860     10.033      0.000     475.117     705.977\n",
      "==============================================================================\n",
      "Omnibus:                     4819.213   Durbin-Watson:                   0.330\n",
      "Prob(Omnibus):                  0.000   Jarque-Bera (JB):         29150430.647\n",
      "Skew:                          22.024   Prob(JB):                         0.00\n",
      "Kurtosis:                     581.143   Cond. No.                     6.71e+03\n",
      "==============================================================================\n",
      "\n",
      "Notes:\n",
      "[1] Standard Errors assume that the covariance matrix of the errors is correctly specified.\n",
      "[2] The condition number is large, 6.71e+03. This might indicate that there are\n",
      "strong multicollinearity or other numerical problems.\n",
      "\n",
      "Estimated model: y = 1977213.4519 + 590.5473 x\n",
      "The coefficients are 1977213.4519 and 590.5473\n"
     ]
    }
   ],
   "source": [
    "# Fit regression model \n",
    "fb_result = smf.ols('Avg_Daily_Visitors~ LinkedIn_mentions', data=fb).fit()\n",
    "# Inspect the results\n",
    "print(fb_result.summary())\n",
    "\n",
    "b1 = fb_result.params[1]\n",
    "b0 = fb_result.params[0]\n",
    "\n",
    "print(f\"\\nEstimated model: y = {b0:.4f} + {b1:.4f} x\")\n",
    "print(f\"The coefficients are {b0:.4f} and {b1:.4f}\")"
   ]
  },
  {
   "cell_type": "markdown",
   "metadata": {},
   "source": [
    "###    Standardized Residuals\n",
    "\n",
    "把殘差值標準化"
   ]
  },
  {
   "cell_type": "code",
   "execution_count": 48,
   "metadata": {},
   "outputs": [
    {
     "name": "stdout",
     "output_type": "stream",
     "text": [
      "Standardized Residuals \n",
      "\n",
      "[28.68194636 26.79123922 14.81352446 ... -0.11356895 -0.1102512\n",
      " -0.11032769]\n",
      "mu =  -0.001578935697333089\n",
      "sigma =  1.0202305472729278\n"
     ]
    }
   ],
   "source": [
    "# studentized residual\n",
    "print(\"Standardized Residuals \\n\")\n",
    "st1, data1, ss3 = sso.summary_table(fb_result, alpha=0.05)\n",
    "SD = data1[:, 10]\n",
    "mu = np.mean(SD)\n",
    "sigma = np.std(SD)\n",
    "print(SD)\n",
    "print('mu = ', mu)\n",
    "print('sigma = ', sigma)\n"
   ]
  },
  {
   "cell_type": "markdown",
   "metadata": {},
   "source": [
    "### Normal test\n",
    "\n",
    "#### H0: Errors are normally distributed <br>\n",
    "#### H1: Errors are not normally distributed."
   ]
  },
  {
   "cell_type": "markdown",
   "metadata": {},
   "source": [
    "### QQ-plot and Histogram"
   ]
  },
  {
   "cell_type": "code",
   "execution_count": 49,
   "metadata": {},
   "outputs": [
    {
     "data": {
      "image/png": "[encoded data removed]",
      "text/plain": [
       "<Figure size 480x320 with 1 Axes>"
      ]
     },
     "metadata": {
      "needs_background": "light"
     },
     "output_type": "display_data"
    },
    {
     "data": {
      "image/png": "[encoded data removed]",
      "text/plain": [
       "<Figure size 480x320 with 1 Axes>"
      ]
     },
     "metadata": {
      "needs_background": "light"
     },
     "output_type": "display_data"
    }
   ],
   "source": [
    "counts, bins, patches = plt.hist(SD, 6, density=False, facecolor='g', alpha=0.75)\n",
    "plt.xlabel('Avg Daily Visitors')\n",
    "plt.ylabel('Frequency')\n",
    "plt.title('Histogram of Standard Residuals Avg Daily Visitors & LinkedIn Mentions')\n",
    "plt.grid(True)\n",
    "bin_centers = [np.mean(k) for k in zip(bins[:-1], bins[1:])]\n",
    "plt.show()\n",
    "fig = sm.qqplot(SD, stats.norm, fit=True, line='45')"
   ]
  },
  {
   "cell_type": "markdown",
   "metadata": {},
   "source": [
    "#### Shapiro Test"
   ]
  },
  {
   "cell_type": "code",
   "execution_count": 50,
   "metadata": {
    "tags": []
   },
   "outputs": [
    {
     "name": "stdout",
     "output_type": "stream",
     "text": [
      "Shapiro Test\n",
      "Statistics=0.095, p=0.000\n"
     ]
    }
   ],
   "source": [
    "print('Shapiro Test')\n",
    "stat, p = stats.shapiro(SD)\n",
    "print('Statistics=%.3f, p=%.3f' % (stat, p))"
   ]
  },
  {
   "cell_type": "markdown",
   "metadata": {},
   "source": [
    "Since pvalue is smaller than alpha(0.05), H0 is rejected. Errors are not normally distributed."
   ]
  },
  {
   "cell_type": "markdown",
   "metadata": {},
   "source": [
    "### Chi test"
   ]
  },
  {
   "cell_type": "code",
   "execution_count": 51,
   "metadata": {},
   "outputs": [
    {
     "name": "stdout",
     "output_type": "stream",
     "text": [
      "Chi-squared test: statistics = 7653.4978, p-value = 0.0000\n",
      "Critical value = 7.8147 (defree of freedom = 3)\n",
      "0.0\n"
     ]
    }
   ],
   "source": [
    "chi2_pval = Chi_Square_for_Normality(SD, 6, 0.05) \n",
    "print(chi2_pval)"
   ]
  },
  {
   "cell_type": "markdown",
   "metadata": {},
   "source": [
    "### H0: Homoscedasticity <br>\n",
    "### H1: Heteroscedasticity"
   ]
  },
  {
   "cell_type": "code",
   "execution_count": 52,
   "metadata": {},
   "outputs": [
    {
     "data": {
      "image/png": "[encoded data removed]",
      "text/plain": [
       "<Figure size 480x320 with 1 Axes>"
      ]
     },
     "metadata": {
      "needs_background": "light"
     },
     "output_type": "display_data"
    }
   ],
   "source": [
    "\n",
    "y_pre = data1[:, 2]\n",
    "plt.plot(y_pre, SD, 'o', color = 'gray')\n",
    "plt.axhline(y=0, color = 'blue')\n",
    "plt.axhline(y=2, color = 'red')\n",
    "plt.axhline(y=-2, color = 'red')\n",
    "plt.title('Standardized Residual Plot')\n",
    "plt.xlabel('Odometer')\n",
    "plt.ylabel('Standardized Residual')\n",
    "plt.show()"
   ]
  },
  {
   "cell_type": "markdown",
   "metadata": {},
   "source": [
    "The result seems to be Homoscedasticity. The spread of data points doesn't change much."
   ]
  },
  {
   "cell_type": "markdown",
   "metadata": {},
   "source": [
    "### Runs test\n",
    "\n",
    "測試independence <br>\n",
    "\n",
    "#### H0: Randomness exists \n",
    "#### H1: Randomness does not exist."
   ]
  },
  {
   "cell_type": "code",
   "execution_count": 53,
   "metadata": {},
   "outputs": [
    {
     "name": "stdout",
     "output_type": "stream",
     "text": [
      "runs =  654\n",
      "n1 =  1041\n",
      "n2 =  1040\n",
      "runs_exp =  1041.4997597308986\n",
      "stan_dev =  22.80350059834276\n",
      "z =  -16.992994477306702\n",
      "pval_z =  9.25417027417523e-65\n",
      "p_value for Z-statistic=  9.25417027417523e-65\n"
     ]
    }
   ],
   "source": [
    "SD_median = statistics.median(SD)\n",
    "Z_pval = runsTest(SD, SD_median) \n",
    "  \n",
    "print('p_value for Z-statistic= ', Z_pval)"
   ]
  },
  {
   "cell_type": "markdown",
   "metadata": {},
   "source": [
    "Since pvalue is smaller than alpha(0.05), H0 is rejected. Randomness doen't exist."
   ]
  },
  {
   "cell_type": "markdown",
   "metadata": {},
   "source": [
    "## Outliers\n",
    "\n",
    "當error >2 or <-2 ,可以當成outliers"
   ]
  },
  {
   "cell_type": "code",
   "execution_count": 54,
   "metadata": {},
   "outputs": [
    {
     "name": "stdout",
     "output_type": "stream",
     "text": [
      "Outliers by SD = \n",
      "\n",
      "0       28.681946\n",
      "1       26.791239\n",
      "2       14.813524\n",
      "3        5.219944\n",
      "6        6.509539\n",
      "19      -9.784611\n",
      "20       3.452500\n",
      "139      3.072688\n",
      "242      3.415673\n",
      "492      6.232175\n",
      "493      4.279569\n",
      "494      3.445274\n",
      "495      3.150498\n",
      "496      3.368562\n",
      "497      2.518562\n",
      "498      2.027386\n",
      "499      2.117552\n",
      "500      2.016221\n",
      "514      2.442243\n",
      "1073    -2.611472\n",
      "Name: SD, dtype: float64\n"
     ]
    }
   ],
   "source": [
    "fb_c = pd.DataFrame(SD,columns = ['SD'])\n",
    "filter = (fb_c['SD'] < -2) | (fb_c['SD'] > 2)\n",
    "print(\"Outliers by SD = \\n\")\n",
    "print(fb_c['SD'].loc[filter])"
   ]
  },
  {
   "cell_type": "markdown",
   "metadata": {},
   "source": [
    "### Influential Observation\n",
    "\n",
    "足以大幅影響回歸線斜率的點"
   ]
  },
  {
   "cell_type": "code",
   "execution_count": 55,
   "metadata": {},
   "outputs": [
    {
     "name": "stdout",
     "output_type": "stream",
     "text": [
      "\n",
      "Influential Observations \n",
      "\n",
      "[0.00049181 0.03874921 0.00081865 ... 0.00048401 0.00048508 0.00048509]\n",
      "Influential Observations by hi = \n",
      "\n",
      "1       0.038749\n",
      "8       0.070448\n",
      "17      0.005113\n",
      "19      0.602273\n",
      "28      0.135188\n",
      "115     0.039137\n",
      "397     0.010954\n",
      "1073    0.069579\n",
      "1683    0.003244\n",
      "Name: hi, dtype: float64\n"
     ]
    }
   ],
   "source": [
    "print(\"\\nInfluential Observations \\n\")\n",
    "x_data = fb['LinkedIn_mentions'].values\n",
    "y_data = fb['Avg_Daily_Visitors'].values\n",
    "cov_mat1 = np.cov(y_data, x_data)\n",
    "x_data_bar = x_data.mean()\n",
    "data_nobs = len(x_data)\n",
    "h_val = 1 / data_nobs + (x_data - x_data_bar) ** 2 / (data_nobs - 1) / cov_mat1[1,1]\n",
    "print(h_val)\n",
    "fb_h = pd.DataFrame(h_val,columns = ['hi'])\n",
    "filter = (fb_h['hi'] > 6 / data_nobs )\n",
    "print(\"Influential Observations by hi = \\n\")\n",
    "print(fb_h['hi'].loc[filter])"
   ]
  },
  {
   "cell_type": "markdown",
   "metadata": {},
   "source": [
    "### Stdandard errors\n"
   ]
  },
  {
   "cell_type": "code",
   "execution_count": 56,
   "metadata": {},
   "outputs": [
    {
     "name": "stdout",
     "output_type": "stream",
     "text": [
      "MSE:  318867925054691.3\n",
      "Standard errors:  17856873.3280687\n"
     ]
    }
   ],
   "source": [
    "s2_e = fb_result.mse_resid\n",
    "print('MSE: ', s2_e)\n",
    "s_e = fb_result.mse_resid ** 0.5\n",
    "print('Standard errors: ', s_e)"
   ]
  },
  {
   "cell_type": "markdown",
   "metadata": {},
   "source": [
    "### Coefficient of correlation (and determination)\n"
   ]
  },
  {
   "cell_type": "code",
   "execution_count": 57,
   "metadata": {},
   "outputs": [
    {
     "name": "stdout",
     "output_type": "stream",
     "text": [
      "SSR =  6.629264161887032e+17\n",
      "R2 =  0.046183328819074276\n"
     ]
    }
   ],
   "source": [
    "SSR = fb_result.ssr\n",
    "# SST = SSR + SSE\n",
    "R2 = fb_result.rsquared\n",
    "print(\"SSR = \", SSR)\n",
    "print(\"R2 = \", R2)"
   ]
  },
  {
   "cell_type": "markdown",
   "metadata": {},
   "source": [
    "### Testing Coefficient of correlation\n",
    "H0: r = 0 <br>\n",
    "H1: r $\\neq$ 0."
   ]
  },
  {
   "cell_type": "code",
   "execution_count": 58,
   "metadata": {
    "scrolled": true
   },
   "outputs": [
    {
     "name": "stdout",
     "output_type": "stream",
     "text": [
      "r =  0.21490306842638102\n",
      "t_critical =  1.961105701444812\n",
      "t =  10.033152344522858\n",
      "p_value =  3.6331439365153586e-23\n"
     ]
    }
   ],
   "source": [
    "cor_mat = np.corrcoef(fb[['Avg_Daily_Visitors', 'LinkedIn_mentions']].values, rowvar = False)\n",
    "n = fb['Avg_Daily_Visitors'].shape[0]\n",
    "# print(n)\n",
    "r_t_value = c_of_c_test(cor_mat[1,0], n,0.05)"
   ]
  },
  {
   "cell_type": "markdown",
   "metadata": {},
   "source": [
    "## Pinterest_visitors"
   ]
  },
  {
   "cell_type": "code",
   "execution_count": 59,
   "metadata": {},
   "outputs": [
    {
     "data": {
      "text/html": [
       "<div>\n",
       "<style scoped>\n",
       "    .dataframe tbody tr th:only-of-type {\n",
       "        vertical-align: middle;\n",
       "    }\n",
       "\n",
       "    .dataframe tbody tr th {\n",
       "        vertical-align: top;\n",
       "    }\n",
       "\n",
       "    .dataframe thead th {\n",
       "        text-align: right;\n",
       "    }\n",
       "</style>\n",
       "<table border=\"1\" class=\"dataframe\">\n",
       "  <thead>\n",
       "    <tr style=\"text-align: right;\">\n",
       "      <th></th>\n",
       "      <th>Avg_Daily_Visitors</th>\n",
       "      <th>Pinterest_pins</th>\n",
       "    </tr>\n",
       "  </thead>\n",
       "  <tbody>\n",
       "    <tr>\n",
       "      <th>0</th>\n",
       "      <td>515007350</td>\n",
       "      <td>10800</td>\n",
       "    </tr>\n",
       "    <tr>\n",
       "      <th>1</th>\n",
       "      <td>506457282</td>\n",
       "      <td>47</td>\n",
       "    </tr>\n",
       "    <tr>\n",
       "      <th>2</th>\n",
       "      <td>270071255</td>\n",
       "      <td>4150</td>\n",
       "    </tr>\n",
       "    <tr>\n",
       "      <th>3</th>\n",
       "      <td>99572035</td>\n",
       "      <td>433</td>\n",
       "    </tr>\n",
       "    <tr>\n",
       "      <th>4</th>\n",
       "      <td>9282040</td>\n",
       "      <td>16</td>\n",
       "    </tr>\n",
       "    <tr>\n",
       "      <th>...</th>\n",
       "      <td>...</td>\n",
       "      <td>...</td>\n",
       "    </tr>\n",
       "    <tr>\n",
       "      <th>256</th>\n",
       "      <td>285043</td>\n",
       "      <td>1</td>\n",
       "    </tr>\n",
       "    <tr>\n",
       "      <th>257</th>\n",
       "      <td>287088</td>\n",
       "      <td>1</td>\n",
       "    </tr>\n",
       "    <tr>\n",
       "      <th>258</th>\n",
       "      <td>277267</td>\n",
       "      <td>5</td>\n",
       "    </tr>\n",
       "    <tr>\n",
       "      <th>259</th>\n",
       "      <td>229928</td>\n",
       "      <td>5</td>\n",
       "    </tr>\n",
       "    <tr>\n",
       "      <th>260</th>\n",
       "      <td>201512</td>\n",
       "      <td>20</td>\n",
       "    </tr>\n",
       "  </tbody>\n",
       "</table>\n",
       "<p>260 rows × 2 columns</p>\n",
       "</div>"
      ],
      "text/plain": [
       "     Avg_Daily_Visitors  Pinterest_pins\n",
       "0             515007350           10800\n",
       "1             506457282              47\n",
       "2             270071255            4150\n",
       "3              99572035             433\n",
       "4               9282040              16\n",
       "..                  ...             ...\n",
       "256              285043               1\n",
       "257              287088               1\n",
       "258              277267               5\n",
       "259              229928               5\n",
       "260              201512              20\n",
       "\n",
       "[260 rows x 2 columns]"
      ]
     },
     "metadata": {},
     "output_type": "display_data"
    }
   ],
   "source": [
    "fb = df[df[\"Pinterest_pins\"].str.contains(\"-\")==False]\n",
    "fb = fb[['Avg_Daily_Visitors','Pinterest_pins']]\n",
    "fb.reset_index(inplace = True, drop = True)\n",
    "fb.dropna(inplace=True)\n",
    "fb['Pinterest_pins'] = fb['Pinterest_pins'].apply(value_to_int)\n",
    "fb['Avg_Daily_Visitors'] = fb['Avg_Daily_Visitors'].apply(value_to_int)\n",
    "display(fb)"
   ]
  },
  {
   "cell_type": "code",
   "execution_count": 60,
   "metadata": {},
   "outputs": [
    {
     "data": {
      "image/png": "[encoded data removed]",
      "text/plain": [
       "<Figure size 480x320 with 1 Axes>"
      ]
     },
     "metadata": {
      "needs_background": "light"
     },
     "output_type": "display_data"
    }
   ],
   "source": [
    "# draw plot\n",
    "_ = sns.regplot(x='Pinterest_pins', y= 'Avg_Daily_Visitors', data = fb, color = 'b', ci = None)\n",
    "plt.title('Scatter Plot for Pinterest Pins & Avg Daily Visitors ')\n",
    "plt.xlabel('Pinterest Pins')\n",
    "plt.ylabel('Avg Daily Visitors')\n",
    "plt.show()"
   ]
  },
  {
   "cell_type": "code",
   "execution_count": 61,
   "metadata": {},
   "outputs": [
    {
     "name": "stdout",
     "output_type": "stream",
     "text": [
      "                            OLS Regression Results                            \n",
      "==============================================================================\n",
      "Dep. Variable:     Avg_Daily_Visitors   R-squared:                       0.001\n",
      "Model:                            OLS   Adj. R-squared:                 -0.002\n",
      "Method:                 Least Squares   F-statistic:                    0.3644\n",
      "Date:                Tue, 10 May 2022   Prob (F-statistic):              0.547\n",
      "Time:                        00:26:42   Log-Likelihood:                -4974.5\n",
      "No. Observations:                 260   AIC:                             9953.\n",
      "Df Residuals:                     258   BIC:                             9960.\n",
      "Df Model:                           1                                         \n",
      "Covariance Type:            nonrobust                                         \n",
      "==================================================================================\n",
      "                     coef    std err          t      P>|t|      [0.025      0.975]\n",
      "----------------------------------------------------------------------------------\n",
      "Intercept       1.076e+07   3.08e+06      3.495      0.001     4.7e+06    1.68e+07\n",
      "Pinterest_pins   102.7314    170.182      0.604      0.547    -232.391     437.854\n",
      "==============================================================================\n",
      "Omnibus:                      426.856   Durbin-Watson:                   0.265\n",
      "Prob(Omnibus):                  0.000   Jarque-Bera (JB):            74421.088\n",
      "Skew:                           8.660   Prob(JB):                         0.00\n",
      "Kurtosis:                      84.053   Cond. No.                     1.82e+04\n",
      "==============================================================================\n",
      "\n",
      "Notes:\n",
      "[1] Standard Errors assume that the covariance matrix of the errors is correctly specified.\n",
      "[2] The condition number is large, 1.82e+04. This might indicate that there are\n",
      "strong multicollinearity or other numerical problems.\n",
      "\n",
      "Estimated model: y = 10764841.4388 + 102.7314 x\n",
      "The coefficients are 10764841.4388 and 102.7314\n"
     ]
    }
   ],
   "source": [
    "# Fit regression model \n",
    "fb_result = smf.ols('Avg_Daily_Visitors~ Pinterest_pins', data=fb).fit()\n",
    "# Inspect the results\n",
    "print(fb_result.summary())\n",
    "\n",
    "b1 = fb_result.params[1]\n",
    "b0 = fb_result.params[0]\n",
    "\n",
    "print(f\"\\nEstimated model: y = {b0:.4f} + {b1:.4f} x\")\n",
    "print(f\"The coefficients are {b0:.4f} and {b1:.4f}\")"
   ]
  },
  {
   "cell_type": "markdown",
   "metadata": {},
   "source": [
    "###    Standardized Residuals\n",
    "\n",
    "把殘差值標準化"
   ]
  },
  {
   "cell_type": "code",
   "execution_count": 62,
   "metadata": {},
   "outputs": [
    {
     "name": "stdout",
     "output_type": "stream",
     "text": [
      "Standardized Residuals \n",
      "\n",
      "[ 1.01870991e+01  1.00312090e+01  5.23912099e+00  1.79627756e+00\n",
      " -3.00406679e-02  2.18874984e+00 -1.63035278e-01  2.35409849e-01\n",
      " -4.39617702e-02  7.50497124e-01  4.12641218e-01  1.09143891e+00\n",
      " -1.99731798e-01  3.19745905e-01  2.82687409e-01  1.08532684e-01\n",
      "  7.69901629e-01 -1.20410414e-01  2.35747495e-01  8.28281316e-02\n",
      " -9.45584307e-02 -7.37348290e-02  2.48595176e-01 -1.73912962e-01\n",
      "  1.59460707e-01  3.31672186e-01  2.17812271e-01 -1.76301858e-01\n",
      " -7.41811623e-02 -1.85881836e-01 -1.43395671e-01 -1.76152589e-01\n",
      " -1.25838704e-01 -8.26265696e-02 -1.97791335e-01 -7.85434709e-02\n",
      " -9.61153200e-02 -6.93015559e-02 -1.98810226e-01 -2.02232231e-01\n",
      " -2.10758904e-01  1.00770398e+00 -3.37162433e+00  8.46238683e-02\n",
      " -1.64244040e-01  1.39834121e-01 -1.45009788e-01 -6.21313293e-03\n",
      " -2.04006404e-01 -1.70851085e-01 -3.41784191e-03  9.42349717e-02\n",
      "  2.46914704e-01 -1.90761861e-01 -1.99336595e-01  1.16747756e-01\n",
      " -2.05972325e-01 -2.04441103e-01 -2.10741947e-01  3.91557423e-01\n",
      " -1.13320417e-01 -1.59239737e-01 -5.39279612e-02 -1.38185924e-01\n",
      " -1.97074088e-01 -2.08838213e-01 -2.13873050e-01 -9.84341611e-02\n",
      " -2.07621254e-01 -1.82646005e-01 -1.14997948e-01 -1.27346872e-01\n",
      " -1.55038606e-01 -2.13999268e-01 -2.13913103e-01 -2.10100618e-01\n",
      " -1.30912698e-01  5.52746784e-02 -3.09747532e-02 -2.11482711e-01\n",
      " -2.07474900e-01 -1.29205357e-01 -1.45210460e-01 -2.10321695e-01\n",
      " -2.10691737e-01 -2.14196417e-01 -1.78335732e-01 -8.89883630e-02\n",
      " -1.96239928e-01 -2.09741045e-01 -2.16287665e-01 -1.73557561e-01\n",
      " -2.16392148e-01  1.21642310e-01 -1.79021911e-01 -1.95160589e-01\n",
      " -1.95856524e-01 -2.03824867e-01 -1.10919821e-01 -2.14360599e-01\n",
      " -1.36353486e-01 -2.04300725e-01 -2.12398717e-01 -2.12026348e-01\n",
      " -2.13169168e-01  2.13772749e+00  1.07146579e+00  9.64159248e-01\n",
      " -2.16642567e-01 -1.43425478e-01 -1.95050015e-01 -2.09001586e-01\n",
      " -2.13704355e-01 -1.53997268e-01 -1.68394476e-01  9.42528447e-02\n",
      " -2.13383133e-01  9.75069333e-03 -7.55677255e-02 -1.78163313e-01\n",
      " -2.11047911e-01 -2.13141555e-01 -2.14196740e-01 -2.14281322e-01\n",
      " -2.15183855e-01 -2.04616760e-01 -1.72745591e-01 -2.05596533e-01\n",
      " -2.15969560e-01 -2.16915670e-01 -2.06922511e-01 -2.14746943e-01\n",
      " -2.05388092e-01 -1.75044513e-01 -2.10594741e-01 -2.10391333e-01\n",
      " -2.14189981e-01 -1.75412826e-01 -1.79965529e-01 -1.98462818e-01\n",
      " -1.65964588e-01 -1.85950891e-01 -2.17519655e-01 -1.86894758e-01\n",
      " -1.78201848e-01 -1.90983268e-01 -2.13123513e-01 -8.30002997e-02\n",
      " -1.01482365e-02 -2.02699445e-01 -1.66290752e-01 -1.81485820e-01\n",
      " -2.14080562e-01 -2.10931849e-01 -2.12696644e-01 -2.12838806e-01\n",
      " -2.15442755e-01 -2.15912330e-01 -2.16503310e-01 -2.16615863e-01\n",
      " -2.17723327e-01 -1.52795641e-01 -1.60168508e-01 -1.93356787e-01\n",
      " -2.06244399e-01 -2.15146452e-01 -2.14724885e-01 -2.14642439e-01\n",
      " -1.90168452e-01 -2.15688752e-01 -2.12404514e-01 -1.27274105e-01\n",
      " -2.11188474e-01 -2.15151844e-01 -2.15891061e-01 -2.16000340e-01\n",
      " -2.15804185e-01 -1.71561167e-01 -1.89551811e-01 -1.97338579e-01\n",
      "  2.32778969e-01 -1.35199504e-01 -2.09098460e-01 -2.03372793e-01\n",
      " -2.14383447e-01 -1.97409160e-01 -2.16072647e-01 -1.97833893e-01\n",
      " -2.16522879e-01 -2.08204087e-01 -2.11832131e-01 -2.10824006e-01\n",
      " -2.12686237e-01 -2.16646122e-01 -2.00747613e-01 -2.12842331e-01\n",
      " -2.15173275e-01 -2.11080400e-01 -1.86816548e-01 -2.13691223e-01\n",
      " -1.99411296e-01 -2.14738860e-01 -1.53855938e-01 -1.71242862e-01\n",
      " -1.77753540e-01 -1.95449938e-01 -1.98221506e-01 -2.10719808e-01\n",
      " -2.08198097e-01 -2.11250431e-01 -2.11164007e-01 -2.15981227e-01\n",
      " -1.94118114e-01 -1.41952179e-01 -2.13551565e-01 -1.91300318e-01\n",
      " -1.91955027e-01 -1.85176173e-01 -2.09736916e-01 -2.16174985e-01\n",
      " -2.17667988e-01 -2.15347376e-01 -8.09799211e-02 -1.43719328e-01\n",
      " -1.84751501e-01 -2.04757346e-01 -2.02284307e-01 -2.03519653e-01\n",
      " -2.02284307e-01 -1.88908761e-01 -2.05028119e-01 -2.13755134e-01\n",
      " -2.14186136e-01 -8.01149456e-02 -2.15226559e-01 -2.14494629e-01\n",
      " -1.95103715e-01 -2.03955153e-01 -2.06713533e-01 -1.23648190e-01\n",
      " -1.99562385e-01 -2.09666350e-01 -2.13871127e-01 -2.10230213e-01\n",
      " -1.52082005e-01 -1.51472103e-01 -1.26467294e-01 -1.29496994e-01\n",
      " -2.15087898e-01 -1.97483126e-01 -1.96043005e-01 -2.06132581e-01\n",
      " -2.06893355e-01 -2.09804259e-01 -2.10280859e-01 -2.12081471e-01\n",
      " -2.12040086e-01 -2.12247135e-01 -2.13205133e-01 -2.13811318e-01]\n",
      "mu =  -0.011157136989802911\n",
      "sigma =  1.0194819639776327\n"
     ]
    }
   ],
   "source": [
    "# studentized residual\n",
    "print(\"Standardized Residuals \\n\")\n",
    "st1, data1, ss3 = sso.summary_table(fb_result, alpha=0.05)\n",
    "SD = data1[:, 10]\n",
    "mu = np.mean(SD)\n",
    "sigma = np.std(SD)\n",
    "print(SD)\n",
    "print('mu = ', mu)\n",
    "print('sigma = ', sigma)\n"
   ]
  },
  {
   "cell_type": "markdown",
   "metadata": {},
   "source": [
    "### Normal test\n",
    "\n",
    "#### H0: Errors are normally distributed <br>\n",
    "#### H1: Errors are not normally distributed."
   ]
  },
  {
   "cell_type": "markdown",
   "metadata": {},
   "source": [
    "### QQ-plot and Histogram"
   ]
  },
  {
   "cell_type": "code",
   "execution_count": 63,
   "metadata": {},
   "outputs": [
    {
     "data": {
      "image/png": "[encoded data removed]",
      "text/plain": [
       "<Figure size 480x320 with 1 Axes>"
      ]
     },
     "metadata": {
      "needs_background": "light"
     },
     "output_type": "display_data"
    },
    {
     "data": {
      "image/png": "[encoded data removed]",
      "text/plain": [
       "<Figure size 480x320 with 1 Axes>"
      ]
     },
     "metadata": {
      "needs_background": "light"
     },
     "output_type": "display_data"
    }
   ],
   "source": [
    "counts, bins, patches = plt.hist(SD, 6, density=False, facecolor='g', alpha=0.75)\n",
    "plt.xlabel('Avg Daily Visitors')\n",
    "plt.ylabel('Frequency')\n",
    "plt.title('Histogram of Standard Residuals Avg Daily Visitors & Pinterest Pins')\n",
    "plt.grid(True)\n",
    "bin_centers = [np.mean(k) for k in zip(bins[:-1], bins[1:])]\n",
    "plt.show()\n",
    "fig = sm.qqplot(SD, stats.norm, fit=True, line='45')"
   ]
  },
  {
   "cell_type": "markdown",
   "metadata": {},
   "source": [
    "#### Shapiro Test"
   ]
  },
  {
   "cell_type": "code",
   "execution_count": 64,
   "metadata": {
    "tags": []
   },
   "outputs": [
    {
     "name": "stdout",
     "output_type": "stream",
     "text": [
      "Shapiro Test\n",
      "Statistics=0.220, p=0.000\n"
     ]
    }
   ],
   "source": [
    "print('Shapiro Test')\n",
    "stat, p = stats.shapiro(SD)\n",
    "print('Statistics=%.3f, p=%.3f' % (stat, p))"
   ]
  },
  {
   "cell_type": "markdown",
   "metadata": {},
   "source": [
    "Since pvalue is smaller than alpha(0.05), H0 is rejected. Errors are not normally distributed."
   ]
  },
  {
   "cell_type": "markdown",
   "metadata": {},
   "source": [
    "### Chi test"
   ]
  },
  {
   "cell_type": "code",
   "execution_count": 65,
   "metadata": {},
   "outputs": [
    {
     "name": "stdout",
     "output_type": "stream",
     "text": [
      "Chi-squared test: statistics = 909.2646, p-value = 0.0000\n",
      "Critical value = 7.8147 (defree of freedom = 3)\n",
      "8.658939836979966e-197\n"
     ]
    }
   ],
   "source": [
    "chi2_pval = Chi_Square_for_Normality(SD, 6, 0.05) \n",
    "print(chi2_pval)"
   ]
  },
  {
   "cell_type": "markdown",
   "metadata": {},
   "source": [
    "### H0: Homoscedasticity <br>\n",
    "### H1: Heteroscedasticity"
   ]
  },
  {
   "cell_type": "code",
   "execution_count": 66,
   "metadata": {},
   "outputs": [
    {
     "data": {
      "image/png": "[encoded data removed]",
      "text/plain": [
       "<Figure size 480x320 with 1 Axes>"
      ]
     },
     "metadata": {
      "needs_background": "light"
     },
     "output_type": "display_data"
    }
   ],
   "source": [
    "\n",
    "y_pre = data1[:, 2]\n",
    "plt.plot(y_pre, SD, 'o', color = 'gray')\n",
    "plt.axhline(y=0, color = 'blue')\n",
    "plt.axhline(y=2, color = 'red')\n",
    "plt.axhline(y=-2, color = 'red')\n",
    "plt.title('Standardized Residual Plot')\n",
    "plt.xlabel('Odometer')\n",
    "plt.ylabel('Standardized Residual')\n",
    "plt.show()"
   ]
  },
  {
   "cell_type": "markdown",
   "metadata": {},
   "source": [
    "The result seems to be Homoscedasticity. The spread of data points doesn't change much."
   ]
  },
  {
   "cell_type": "markdown",
   "metadata": {},
   "source": [
    "### Runs test\n",
    "\n",
    "測試independence <br>\n",
    "\n",
    "#### H0: Randomness exists \n",
    "#### H1: Randomness does not exist."
   ]
  },
  {
   "cell_type": "code",
   "execution_count": 67,
   "metadata": {},
   "outputs": [
    {
     "name": "stdout",
     "output_type": "stream",
     "text": [
      "runs =  86\n",
      "n1 =  130\n",
      "n2 =  130\n",
      "runs_exp =  131.0\n",
      "stan_dev =  8.04667849171537\n",
      "z =  -5.5923695778737414\n",
      "pval_z =  2.239913984596874e-08\n",
      "p_value for Z-statistic=  2.239913984596874e-08\n"
     ]
    }
   ],
   "source": [
    "SD_median = statistics.median(SD)\n",
    "Z_pval = runsTest(SD, SD_median) \n",
    "  \n",
    "print('p_value for Z-statistic= ', Z_pval)"
   ]
  },
  {
   "cell_type": "markdown",
   "metadata": {},
   "source": [
    "Since pvalue is smaller than alpha(0.05), H0 is rejected. Randomness doen't exist."
   ]
  },
  {
   "cell_type": "markdown",
   "metadata": {},
   "source": [
    "## Outliers\n",
    "\n",
    "當error >2 or <-2 ,可以當成outliers"
   ]
  },
  {
   "cell_type": "code",
   "execution_count": 68,
   "metadata": {},
   "outputs": [
    {
     "name": "stdout",
     "output_type": "stream",
     "text": [
      "Outliers by SD = \n",
      "\n",
      "0      10.187099\n",
      "1      10.031209\n",
      "2       5.239121\n",
      "5       2.188750\n",
      "42     -3.371624\n",
      "105     2.137727\n",
      "Name: SD, dtype: float64\n"
     ]
    }
   ],
   "source": [
    "fb_c = pd.DataFrame(SD,columns = ['SD'])\n",
    "filter = (fb_c['SD'] < -2) | (fb_c['SD'] > 2)\n",
    "print(\"Outliers by SD = \\n\")\n",
    "print(fb_c['SD'].loc[filter])"
   ]
  },
  {
   "cell_type": "markdown",
   "metadata": {},
   "source": [
    "### Influential Observation\n",
    "\n",
    "足以大幅影響回歸線斜率的點"
   ]
  },
  {
   "cell_type": "code",
   "execution_count": 69,
   "metadata": {},
   "outputs": [
    {
     "name": "stdout",
     "output_type": "stream",
     "text": [
      "\n",
      "Influential Observations \n",
      "\n",
      "[0.00488826 0.00386805 0.00393496 0.0038574  0.00386906 0.00386942\n",
      " 0.00386952 0.00386764 0.00386956 0.00386841 0.00386919 0.00385308\n",
      " 0.00386956 0.00386867 0.00386877 0.00386952 0.0038661  0.00386956\n",
      " 0.00386466 0.00386949 0.00386956 0.00386956 0.00386952 0.00386956\n",
      " 0.00386949 0.00386629 0.00386956 0.00386933 0.00386949 0.00386956\n",
      " 0.0038688  0.00386916 0.00386949 0.00386926 0.00386933 0.00386952\n",
      " 0.00386936 0.00386956 0.00386956 0.00386946 0.00386956 0.00385544\n",
      " 0.98105174 0.01717813 0.00386956 0.00386825 0.0038687  0.00386952\n",
      " 0.00386952 0.0038689  0.00386114 0.00385195 0.00386669 0.00386956\n",
      " 0.00386942 0.00386789 0.00386952 0.00386956 0.00386949 0.00386949\n",
      " 0.00386949 0.00386946 0.00386295 0.00386726 0.00386952 0.00386956\n",
      " 0.00386956 0.00386949 0.00386796 0.00386956 0.00386952 0.00386952\n",
      " 0.00386956 0.00386956 0.00386751 0.00386949 0.00402693 0.00386939\n",
      " 0.00386767 0.00386952 0.00386952 0.00386936 0.00386956 0.00386952\n",
      " 0.00386956 0.00386956 0.00386956 0.00386896 0.00386956 0.00386956\n",
      " 0.00386956 0.00386956 0.00386956 0.00386767 0.00386949 0.00386956\n",
      " 0.00386919 0.00386956 0.00386919 0.00386956 0.00386956 0.00386815\n",
      " 0.00386952 0.00386949 0.00386956 0.00386906 0.00386952 0.00386939\n",
      " 0.00386936 0.00386956 0.00386956 0.00386956 0.00386956 0.00386946\n",
      " 0.00386929 0.00386939 0.00386956 0.00386919 0.00386942 0.00386956\n",
      " 0.00386919 0.00386952 0.00386956 0.00386952 0.00386939 0.00386956\n",
      " 0.00386361 0.00386956 0.00386956 0.00386952 0.00386952 0.00386956\n",
      " 0.00386956 0.00386956 0.00386956 0.00386946 0.00386956 0.00386956\n",
      " 0.00386952 0.00386956 0.00386956 0.00386942 0.00386942 0.00386933\n",
      " 0.00386949 0.00386946 0.00386926 0.00386952 0.00386825 0.00386939\n",
      " 0.00386844 0.00386956 0.00386949 0.00386956 0.003869   0.00386936\n",
      " 0.00386913 0.00386956 0.00386956 0.00386939 0.00386952 0.00386956\n",
      " 0.00386919 0.00386956 0.00386956 0.00386952 0.00386956 0.00386956\n",
      " 0.00386956 0.00386956 0.00386956 0.00386946 0.00386956 0.00386956\n",
      " 0.00386956 0.00386956 0.00386949 0.00386949 0.00386956 0.00386942\n",
      " 0.00386956 0.00385749 0.00386956 0.00386956 0.00386926 0.00386956\n",
      " 0.00386956 0.00386956 0.00386956 0.00386956 0.00386956 0.00386956\n",
      " 0.00386942 0.00386956 0.00386956 0.00386952 0.00386956 0.00386952\n",
      " 0.00385106 0.00386919 0.00386952 0.00386952 0.00386939 0.00386926\n",
      " 0.00386926 0.00386956 0.00386946 0.00386949 0.00386956 0.00386952\n",
      " 0.00386956 0.00386952 0.00386952 0.00386936 0.00386956 0.00386952\n",
      " 0.00386923 0.00386956 0.00386956 0.00386956 0.00386956 0.00386949\n",
      " 0.00386923 0.00386942 0.00386933 0.00386956 0.00386956 0.00386956\n",
      " 0.00386956 0.00386956 0.00386949 0.00386942 0.00386956 0.0038687\n",
      " 0.00386956 0.00386956 0.00386952 0.00386956 0.00386956 0.00386903\n",
      " 0.00386952 0.00386956 0.00386956 0.00386956 0.00386956 0.00386956\n",
      " 0.00622571 0.00386946 0.00386949 0.00386956 0.00386926 0.00386952\n",
      " 0.00386939 0.00386601 0.00386946 0.00386956 0.00386956 0.00386942\n",
      " 0.00386942 0.00386893]\n",
      "Influential Observations by hi = \n",
      "\n",
      "42    0.981052\n",
      "Name: hi, dtype: float64\n"
     ]
    }
   ],
   "source": [
    "print(\"\\nInfluential Observations \\n\")\n",
    "x_data = fb['Pinterest_pins'].values\n",
    "y_data = fb['Avg_Daily_Visitors'].values\n",
    "cov_mat1 = np.cov(y_data, x_data)\n",
    "x_data_bar = x_data.mean()\n",
    "data_nobs = len(x_data)\n",
    "h_val = 1 / data_nobs + (x_data - x_data_bar) ** 2 / (data_nobs - 1) / cov_mat1[1,1]\n",
    "print(h_val)\n",
    "fb_h = pd.DataFrame(h_val,columns = ['hi'])\n",
    "filter = (fb_h['hi'] > 6 / data_nobs )\n",
    "print(\"Influential Observations by hi = \\n\")\n",
    "print(fb_h['hi'].loc[filter])"
   ]
  },
  {
   "cell_type": "markdown",
   "metadata": {},
   "source": [
    "### Stdandard errors\n"
   ]
  },
  {
   "cell_type": "code",
   "execution_count": 70,
   "metadata": {},
   "outputs": [
    {
     "name": "stdout",
     "output_type": "stream",
     "text": [
      "MSE:  2451278795070161.5\n",
      "Standard errors:  49510390.77880684\n"
     ]
    }
   ],
   "source": [
    "s2_e = fb_result.mse_resid\n",
    "print('MSE: ', s2_e)\n",
    "s_e = fb_result.mse_resid ** 0.5\n",
    "print('Standard errors: ', s_e)"
   ]
  },
  {
   "cell_type": "markdown",
   "metadata": {},
   "source": [
    "### Coefficient of correlation (and determination)\n"
   ]
  },
  {
   "cell_type": "code",
   "execution_count": 71,
   "metadata": {},
   "outputs": [
    {
     "name": "stdout",
     "output_type": "stream",
     "text": [
      "SSR =  6.324299291281016e+17\n",
      "R2 =  0.0014104157002340356\n"
     ]
    }
   ],
   "source": [
    "SSR = fb_result.ssr\n",
    "# SST = SSR + SSE\n",
    "R2 = fb_result.rsquared\n",
    "print(\"SSR = \", SSR)\n",
    "print(\"R2 = \", R2)"
   ]
  },
  {
   "cell_type": "markdown",
   "metadata": {},
   "source": [
    "### Testing Coefficient of correlation\n",
    "H0: r = 0 <br>\n",
    "H1: r $\\neq$ 0."
   ]
  },
  {
   "cell_type": "code",
   "execution_count": 72,
   "metadata": {
    "scrolled": true
   },
   "outputs": [
    {
     "name": "stdout",
     "output_type": "stream",
     "text": [
      "r =  0.037555501597423484\n",
      "t_critical =  1.9692013862332611\n",
      "t =  0.6036565313529881\n",
      "p_value =  0.5466023844288298\n"
     ]
    }
   ],
   "source": [
    "cor_mat = np.corrcoef(fb[['Avg_Daily_Visitors', 'Pinterest_pins']].values, rowvar = False)\n",
    "n = fb['Avg_Daily_Visitors'].shape[0]\n",
    "# print(n)\n",
    "r_t_value = c_of_c_test(cor_mat[1,0], n,0.05)"
   ]
  },
  {
   "cell_type": "markdown",
   "metadata": {},
   "source": [
    "## StumbleUpon_visitors"
   ]
  },
  {
   "cell_type": "code",
   "execution_count": 73,
   "metadata": {},
   "outputs": [
    {
     "data": {
      "text/html": [
       "<div>\n",
       "<style scoped>\n",
       "    .dataframe tbody tr th:only-of-type {\n",
       "        vertical-align: middle;\n",
       "    }\n",
       "\n",
       "    .dataframe tbody tr th {\n",
       "        vertical-align: top;\n",
       "    }\n",
       "\n",
       "    .dataframe thead th {\n",
       "        text-align: right;\n",
       "    }\n",
       "</style>\n",
       "<table border=\"1\" class=\"dataframe\">\n",
       "  <thead>\n",
       "    <tr style=\"text-align: right;\">\n",
       "      <th></th>\n",
       "      <th>Avg_Daily_Visitors</th>\n",
       "      <th>StumbleUpon_views</th>\n",
       "    </tr>\n",
       "  </thead>\n",
       "  <tbody>\n",
       "    <tr>\n",
       "      <th>1</th>\n",
       "      <td>515007350</td>\n",
       "      <td>246000</td>\n",
       "    </tr>\n",
       "    <tr>\n",
       "      <th>2</th>\n",
       "      <td>506457282</td>\n",
       "      <td>329000</td>\n",
       "    </tr>\n",
       "    <tr>\n",
       "      <th>3</th>\n",
       "      <td>270071255</td>\n",
       "      <td>23100</td>\n",
       "    </tr>\n",
       "    <tr>\n",
       "      <th>4</th>\n",
       "      <td>99572035</td>\n",
       "      <td>68900</td>\n",
       "    </tr>\n",
       "    <tr>\n",
       "      <th>5</th>\n",
       "      <td>100388</td>\n",
       "      <td>8</td>\n",
       "    </tr>\n",
       "    <tr>\n",
       "      <th>...</th>\n",
       "      <td>...</td>\n",
       "      <td>...</td>\n",
       "    </tr>\n",
       "    <tr>\n",
       "      <th>1734</th>\n",
       "      <td>23379</td>\n",
       "      <td>216</td>\n",
       "    </tr>\n",
       "    <tr>\n",
       "      <th>1735</th>\n",
       "      <td>12242</td>\n",
       "      <td>1</td>\n",
       "    </tr>\n",
       "    <tr>\n",
       "      <th>1736</th>\n",
       "      <td>2465</td>\n",
       "      <td>1</td>\n",
       "    </tr>\n",
       "    <tr>\n",
       "      <th>1737</th>\n",
       "      <td>505</td>\n",
       "      <td>1</td>\n",
       "    </tr>\n",
       "    <tr>\n",
       "      <th>1738</th>\n",
       "      <td>9946</td>\n",
       "      <td>1</td>\n",
       "    </tr>\n",
       "  </tbody>\n",
       "</table>\n",
       "<p>1685 rows × 2 columns</p>\n",
       "</div>"
      ],
      "text/plain": [
       "      Avg_Daily_Visitors  StumbleUpon_views\n",
       "1              515007350             246000\n",
       "2              506457282             329000\n",
       "3              270071255              23100\n",
       "4               99572035              68900\n",
       "5                 100388                  8\n",
       "...                  ...                ...\n",
       "1734               23379                216\n",
       "1735               12242                  1\n",
       "1736                2465                  1\n",
       "1737                 505                  1\n",
       "1738                9946                  1\n",
       "\n",
       "[1685 rows x 2 columns]"
      ]
     },
     "metadata": {},
     "output_type": "display_data"
    }
   ],
   "source": [
    "fb = df[df[\"StumbleUpon_views\"].str.contains(\"-\")==False]\n",
    "fb = fb[['Avg_Daily_Visitors','StumbleUpon_views']]\n",
    "fb.reset_index(inplace = True, drop = True)\n",
    "fb.dropna(inplace=True)\n",
    "fb['StumbleUpon_views'] = fb['StumbleUpon_views'].apply(value_to_int)\n",
    "fb['Avg_Daily_Visitors'] = fb['Avg_Daily_Visitors'].apply(value_to_int)\n",
    "display(fb)"
   ]
  },
  {
   "cell_type": "code",
   "execution_count": 74,
   "metadata": {},
   "outputs": [
    {
     "data": {
      "image/png": "[encoded data removed]",
      "text/plain": [
       "<Figure size 480x320 with 1 Axes>"
      ]
     },
     "metadata": {
      "needs_background": "light"
     },
     "output_type": "display_data"
    }
   ],
   "source": [
    "# draw plot\n",
    "_ = sns.regplot(x='StumbleUpon_views', y= 'Avg_Daily_Visitors', data = fb, color = 'b', ci = None)\n",
    "plt.title('Scatter Plot for Stumble Upon Views & Avg Daily Visitors ')\n",
    "plt.xlabel('Stumble Upon Views')\n",
    "plt.ylabel('Avg Daily Visitors')\n",
    "plt.show()"
   ]
  },
  {
   "cell_type": "code",
   "execution_count": 75,
   "metadata": {},
   "outputs": [
    {
     "name": "stdout",
     "output_type": "stream",
     "text": [
      "                            OLS Regression Results                            \n",
      "==============================================================================\n",
      "Dep. Variable:     Avg_Daily_Visitors   R-squared:                       0.038\n",
      "Model:                            OLS   Adj. R-squared:                  0.037\n",
      "Method:                 Least Squares   F-statistic:                     66.31\n",
      "Date:                Tue, 10 May 2022   Prob (F-statistic):           7.44e-16\n",
      "Time:                        00:26:43   Log-Likelihood:                -30710.\n",
      "No. Observations:                1685   AIC:                         6.142e+04\n",
      "Df Residuals:                    1683   BIC:                         6.144e+04\n",
      "Df Model:                           1                                         \n",
      "Covariance Type:            nonrobust                                         \n",
      "=====================================================================================\n",
      "                        coef    std err          t      P>|t|      [0.025      0.975]\n",
      "-------------------------------------------------------------------------------------\n",
      "Intercept          2.406e+06   4.89e+05      4.924      0.000    1.45e+06    3.36e+06\n",
      "StumbleUpon_views    76.2520      9.364      8.143      0.000      57.885      94.619\n",
      "==============================================================================\n",
      "Omnibus:                     3682.373   Durbin-Watson:                   0.351\n",
      "Prob(Omnibus):                  0.000   Jarque-Bera (JB):         13821004.271\n",
      "Skew:                          19.101   Prob(JB):                         0.00\n",
      "Kurtosis:                     445.038   Cond. No.                     5.25e+04\n",
      "==============================================================================\n",
      "\n",
      "Notes:\n",
      "[1] Standard Errors assume that the covariance matrix of the errors is correctly specified.\n",
      "[2] The condition number is large, 5.25e+04. This might indicate that there are\n",
      "strong multicollinearity or other numerical problems.\n",
      "\n",
      "Estimated model: y = 2406048.1750 + 76.2520 x\n",
      "The coefficients are 2406048.1750 and 76.2520\n"
     ]
    }
   ],
   "source": [
    "# Fit regression model \n",
    "fb_result = smf.ols('Avg_Daily_Visitors~ StumbleUpon_views', data=fb).fit()\n",
    "# Inspect the results\n",
    "print(fb_result.summary())\n",
    "\n",
    "b1 = fb_result.params[1]\n",
    "b0 = fb_result.params[0]\n",
    "\n",
    "print(f\"\\nEstimated model: y = {b0:.4f} + {b1:.4f} x\")\n",
    "print(f\"The coefficients are {b0:.4f} and {b1:.4f}\")"
   ]
  },
  {
   "cell_type": "markdown",
   "metadata": {},
   "source": [
    "###    Standardized Residuals\n",
    "\n",
    "把殘差值標準化"
   ]
  },
  {
   "cell_type": "code",
   "execution_count": 76,
   "metadata": {},
   "outputs": [
    {
     "name": "stdout",
     "output_type": "stream",
     "text": [
      "Standardized Residuals \n",
      "\n",
      "[24.95683386 24.33251506 13.35236047 ... -0.12069642 -0.12079484\n",
      " -0.12032077]\n",
      "mu =  -0.0009899751110864646\n",
      "sigma =  1.0124167142041616\n"
     ]
    }
   ],
   "source": [
    "# studentized residual\n",
    "print(\"Standardized Residuals \\n\")\n",
    "st1, data1, ss3 = sso.summary_table(fb_result, alpha=0.05)\n",
    "SD = data1[:, 10]\n",
    "mu = np.mean(SD)\n",
    "sigma = np.std(SD)\n",
    "print(SD)\n",
    "print('mu = ', mu)\n",
    "print('sigma = ', sigma)\n"
   ]
  },
  {
   "cell_type": "markdown",
   "metadata": {},
   "source": [
    "### Normal test\n",
    "\n",
    "#### H0: Errors are normally distributed <br>\n",
    "#### H1: Errors are not normally distributed."
   ]
  },
  {
   "cell_type": "markdown",
   "metadata": {},
   "source": [
    "### QQ-plot and Histogram"
   ]
  },
  {
   "cell_type": "code",
   "execution_count": 77,
   "metadata": {},
   "outputs": [
    {
     "data": {
      "image/png": "[encoded data removed]",
      "text/plain": [
       "<Figure size 480x320 with 1 Axes>"
      ]
     },
     "metadata": {
      "needs_background": "light"
     },
     "output_type": "display_data"
    },
    {
     "data": {
      "image/png": "[encoded data removed]",
      "text/plain": [
       "<Figure size 480x320 with 1 Axes>"
      ]
     },
     "metadata": {
      "needs_background": "light"
     },
     "output_type": "display_data"
    }
   ],
   "source": [
    "counts, bins, patches = plt.hist(SD, 6, density=False, facecolor='g', alpha=0.75)\n",
    "plt.xlabel('Avg Daily Visitors')\n",
    "plt.ylabel('Frequency')\n",
    "plt.title('Histogram of Standard Residuals Avg Daily Visitors & Stumble Upon Views')\n",
    "plt.grid(True)\n",
    "bin_centers = [np.mean(k) for k in zip(bins[:-1], bins[1:])]\n",
    "plt.show()\n",
    "fig = sm.qqplot(SD, stats.norm, fit=True, line='45')"
   ]
  },
  {
   "cell_type": "markdown",
   "metadata": {},
   "source": [
    "#### Shapiro Test"
   ]
  },
  {
   "cell_type": "code",
   "execution_count": 78,
   "metadata": {
    "tags": []
   },
   "outputs": [
    {
     "name": "stdout",
     "output_type": "stream",
     "text": [
      "Shapiro Test\n",
      "Statistics=0.120, p=0.000\n"
     ]
    }
   ],
   "source": [
    "print('Shapiro Test')\n",
    "stat, p = stats.shapiro(SD)\n",
    "print('Statistics=%.3f, p=%.3f' % (stat, p))"
   ]
  },
  {
   "cell_type": "markdown",
   "metadata": {},
   "source": [
    "Since pvalue is smaller than alpha(0.05), H0 is rejected. Errors are not normally distributed."
   ]
  },
  {
   "cell_type": "markdown",
   "metadata": {},
   "source": [
    "### Chi test"
   ]
  },
  {
   "cell_type": "code",
   "execution_count": 79,
   "metadata": {},
   "outputs": [
    {
     "name": "stdout",
     "output_type": "stream",
     "text": [
      "Chi-squared test: statistics = 6016.5173, p-value = 0.0000\n",
      "Critical value = 7.8147 (defree of freedom = 3)\n",
      "0.0\n"
     ]
    }
   ],
   "source": [
    "chi2_pval = Chi_Square_for_Normality(SD, 6, 0.05) \n",
    "print(chi2_pval)"
   ]
  },
  {
   "cell_type": "markdown",
   "metadata": {},
   "source": [
    "### H0: Homoscedasticity <br>\n",
    "### H1: Heteroscedasticity"
   ]
  },
  {
   "cell_type": "code",
   "execution_count": 80,
   "metadata": {},
   "outputs": [
    {
     "data": {
      "image/png": "[encoded data removed]",
      "text/plain": [
       "<Figure size 480x320 with 1 Axes>"
      ]
     },
     "metadata": {
      "needs_background": "light"
     },
     "output_type": "display_data"
    }
   ],
   "source": [
    "\n",
    "y_pre = data1[:, 2]\n",
    "plt.plot(y_pre, SD, 'o', color = 'gray')\n",
    "plt.axhline(y=0, color = 'blue')\n",
    "plt.axhline(y=2, color = 'red')\n",
    "plt.axhline(y=-2, color = 'red')\n",
    "plt.title('Standardized Residual Plot')\n",
    "plt.xlabel('Odometer')\n",
    "plt.ylabel('Standardized Residual')\n",
    "plt.show()"
   ]
  },
  {
   "cell_type": "markdown",
   "metadata": {},
   "source": [
    "The result seems to be Homoscedasticity. The spread of data points doesn't change much."
   ]
  },
  {
   "cell_type": "markdown",
   "metadata": {},
   "source": [
    "### Runs test\n",
    "\n",
    "測試independence <br>\n",
    "\n",
    "#### H0: Randomness exists \n",
    "#### H1: Randomness does not exist."
   ]
  },
  {
   "cell_type": "code",
   "execution_count": 81,
   "metadata": {},
   "outputs": [
    {
     "name": "stdout",
     "output_type": "stream",
     "text": [
      "runs =  508\n",
      "n1 =  843\n",
      "n2 =  842\n",
      "runs_exp =  843.4997032640949\n",
      "stan_dev =  20.51827368001729\n",
      "z =  -16.351263683105927\n",
      "pval_z =  4.2605197022162514e-60\n",
      "p_value for Z-statistic=  4.2605197022162514e-60\n"
     ]
    }
   ],
   "source": [
    "SD_median = statistics.median(SD)\n",
    "Z_pval = runsTest(SD, SD_median) \n",
    "  \n",
    "print('p_value for Z-statistic= ', Z_pval)"
   ]
  },
  {
   "cell_type": "markdown",
   "metadata": {},
   "source": [
    "Since pvalue is smaller than alpha(0.05), H0 is rejected. Randomness doen't exist."
   ]
  },
  {
   "cell_type": "markdown",
   "metadata": {},
   "source": [
    "## Outliers\n",
    "\n",
    "當error >2 or <-2 ,可以當成outliers"
   ]
  },
  {
   "cell_type": "code",
   "execution_count": 82,
   "metadata": {},
   "outputs": [
    {
     "name": "stdout",
     "output_type": "stream",
     "text": [
      "Outliers by SD = \n",
      "\n",
      "0      24.956834\n",
      "1      24.332515\n",
      "2      13.352360\n",
      "3       4.617239\n",
      "6       5.850635\n",
      "8       2.706106\n",
      "16      2.280604\n",
      "19      3.032945\n",
      "27      2.312015\n",
      "86      2.298082\n",
      "118     2.132312\n",
      "129    -6.770892\n",
      "145    -2.418438\n",
      "203     3.054772\n",
      "396    -3.439031\n",
      "411     5.721265\n",
      "412     3.870934\n",
      "413     3.078174\n",
      "414     2.811600\n",
      "415     3.011525\n",
      "416     2.237347\n",
      "432     2.198189\n",
      "Name: SD, dtype: float64\n"
     ]
    }
   ],
   "source": [
    "fb_c = pd.DataFrame(SD,columns = ['SD'])\n",
    "filter = (fb_c['SD'] < -2) | (fb_c['SD'] > 2)\n",
    "print(\"Outliers by SD = \\n\")\n",
    "print(fb_c['SD'].loc[filter])"
   ]
  },
  {
   "cell_type": "markdown",
   "metadata": {},
   "source": [
    "### Influential Observation\n",
    "\n",
    "足以大幅影響回歸線斜率的點"
   ]
  },
  {
   "cell_type": "code",
   "execution_count": 83,
   "metadata": {},
   "outputs": [
    {
     "name": "stdout",
     "output_type": "stream",
     "text": [
      "\n",
      "Influential Observations \n",
      "\n",
      "[0.01330962 0.02363128 0.00065725 ... 0.00060172 0.00060172 0.00060172]\n",
      "Influential Observations by hi = \n",
      "\n",
      "0       0.013310\n",
      "1       0.023631\n",
      "104     0.034012\n",
      "118     0.009689\n",
      "129     0.405636\n",
      "135     0.005042\n",
      "145     0.079849\n",
      "159     0.100942\n",
      "186     0.028111\n",
      "260     0.008477\n",
      "318     0.009511\n",
      "388     0.013630\n",
      "396     0.143038\n",
      "573     0.023774\n",
      "754     0.016451\n",
      "954     0.048556\n",
      "1638    0.003931\n",
      "Name: hi, dtype: float64\n"
     ]
    }
   ],
   "source": [
    "print(\"\\nInfluential Observations \\n\")\n",
    "x_data = fb['StumbleUpon_views'].values\n",
    "y_data = fb['Avg_Daily_Visitors'].values\n",
    "cov_mat1 = np.cov(y_data, x_data)\n",
    "x_data_bar = x_data.mean()\n",
    "data_nobs = len(x_data)\n",
    "h_val = 1 / data_nobs + (x_data - x_data_bar) ** 2 / (data_nobs - 1) / cov_mat1[1,1]\n",
    "print(h_val)\n",
    "fb_h = pd.DataFrame(h_val,columns = ['hi'])\n",
    "filter = (fb_h['hi'] > 6 / data_nobs )\n",
    "print(\"Influential Observations by hi = \\n\")\n",
    "print(fb_h['hi'].loc[filter])"
   ]
  },
  {
   "cell_type": "markdown",
   "metadata": {},
   "source": [
    "### Stdandard errors\n"
   ]
  },
  {
   "cell_type": "code",
   "execution_count": 84,
   "metadata": {},
   "outputs": [
    {
     "name": "stdout",
     "output_type": "stream",
     "text": [
      "MSE:  396842774727684.7\n",
      "Standard errors:  19920912.999350324\n"
     ]
    }
   ],
   "source": [
    "s2_e = fb_result.mse_resid\n",
    "print('MSE: ', s2_e)\n",
    "s_e = fb_result.mse_resid ** 0.5\n",
    "print('Standard errors: ', s_e)"
   ]
  },
  {
   "cell_type": "markdown",
   "metadata": {},
   "source": [
    "### Coefficient of correlation (and determination)\n"
   ]
  },
  {
   "cell_type": "code",
   "execution_count": 85,
   "metadata": {},
   "outputs": [
    {
     "name": "stdout",
     "output_type": "stream",
     "text": [
      "SSR =  6.678863898666934e+17\n",
      "R2 =  0.03790387848830268\n"
     ]
    }
   ],
   "source": [
    "SSR = fb_result.ssr\n",
    "# SST = SSR + SSE\n",
    "R2 = fb_result.rsquared\n",
    "print(\"SSR = \", SSR)\n",
    "print(\"R2 = \", R2)"
   ]
  },
  {
   "cell_type": "markdown",
   "metadata": {},
   "source": [
    "### Testing Coefficient of correlation\n",
    "H0: r = 0 <br>\n",
    "H1: r $\\neq$ 0."
   ]
  },
  {
   "cell_type": "code",
   "execution_count": 86,
   "metadata": {
    "scrolled": true
   },
   "outputs": [
    {
     "name": "stdout",
     "output_type": "stream",
     "text": [
      "r =  0.19468918431259344\n",
      "t_critical =  1.9613745307057746\n",
      "t =  8.142816567846422\n",
      "p_value =  7.439031659338334e-16\n"
     ]
    }
   ],
   "source": [
    "cor_mat = np.corrcoef(fb[['Avg_Daily_Visitors', 'StumbleUpon_views']].values, rowvar = False)\n",
    "n = fb['Avg_Daily_Visitors'].shape[0]\n",
    "# print(n)\n",
    "r_t_value = c_of_c_test(cor_mat[1,0], n,0.05)"
   ]
  }
 ],
 "metadata": {
  "kernelspec": {
   "display_name": "Python 3",
   "language": "python",
   "name": "python3"
  },
  "language_info": {
   "codemirror_mode": {
    "name": "ipython",
    "version": 3
   },
   "file_extension": ".py",
   "mimetype": "text/x-python",
   "name": "python",
   "nbconvert_exporter": "python",
   "pygments_lexer": "ipython3",
   "version": "3.8.5"
  }
 },
 "nbformat": 4,
 "nbformat_minor": 5
}
