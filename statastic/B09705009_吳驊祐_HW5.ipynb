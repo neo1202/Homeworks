{
 "cells": [
  {
   "cell_type": "markdown",
   "metadata": {},
   "source": [
    "# 第五次作業"
   ]
  },
  {
   "cell_type": "code",
   "execution_count": 1,
   "metadata": {},
   "outputs": [],
   "source": [
    "# 15.13, 15.19, 15.38, 15.43, 15.80, 15.85"
   ]
  },
  {
   "cell_type": "code",
   "execution_count": 2,
   "metadata": {},
   "outputs": [],
   "source": [
    "import pandas as pd\n",
    "import numpy as np\n",
    "import scipy.stats as stats\n",
    "import statsmodels.api as sm\n",
    "import statsmodels.stats.api as sms\n",
    "import statsmodels.formula.api as smf\n",
    "import statsmodels.stats.multicomp as smm\n",
    "import statsmodels\n",
    "import scipy\n",
    "from matplotlib import pyplot as plt\n",
    "%matplotlib inline\n",
    "# 設定圖形大小; DPI越大圖越大\n",
    "plt.rcParams[\"figure.dpi\"] = 120"
   ]
  },
  {
   "cell_type": "markdown",
   "metadata": {},
   "source": [
    "<div style=\"background-color:#D9D9D9;\"><font size=\"5\"> 15.13</font></div>"
   ]
  },
  {
   "cell_type": "markdown",
   "metadata": {},
   "source": [
    "H0 : pi = ai forall types <br>\n",
    "H1 : At least 1 pi & ai differs"
   ]
  },
  {
   "cell_type": "code",
   "execution_count": 3,
   "metadata": {},
   "outputs": [
    {
     "data": {
      "text/plain": [
       "[36, 58, 74, 29]"
      ]
     },
     "execution_count": 3,
     "metadata": {},
     "output_type": "execute_result"
    }
   ],
   "source": [
    "df = pd.read_excel('Xr15-13.xlsx')\n",
    "alpha = 0.05\n",
    "nobs = df.shape[0]\n",
    "df_v = df.value_counts()\n",
    "df_v = pd.DataFrame(df_v, columns=['A'])\n",
    "df_v = df_v.sort_values('Car type')\n",
    "df_use= df_v.to_numpy()\n",
    "df_use = df_use.reshape(1,-1)\n",
    "prob_e = np.array([0.15, 0.25, 0.40, 0.20])\n",
    "freq_e = nobs * prob_e\n",
    "freq_o = df_use\n",
    "freq_o = [i for k in freq_o for i in k]\n",
    "freq_o"
   ]
  },
  {
   "cell_type": "code",
   "execution_count": 4,
   "metadata": {},
   "outputs": [
    {
     "name": "stdout",
     "output_type": "stream",
     "text": [
      "Chi-squared test: statistics = 6.0000, p-value = 0.1116\n",
      "Critical value = 7.8147 (defree of freedom = 3)\n"
     ]
    }
   ],
   "source": [
    "if np.sum(freq_e < 5) > 0:\n",
    "    print(\"Rule of five is not met. \")\n",
    "else:\n",
    "    stat, pvalue = stats.chisquare(freq_o, freq_e)\n",
    "    print(\"Chi-squared test: statistics = %0.4f, p-value = %0.4f\" % (stat, pvalue))\n",
    "\n",
    "    df = len(freq_o)-1\n",
    "    crit_value = stats.chi2.ppf(1 - alpha, df)\n",
    "    print(\"Critical value = %0.4f (defree of freedom = %d)\" % (crit_value, df))"
   ]
  },
  {
   "attachments": {},
   "cell_type": "markdown",
   "metadata": {},
   "source": [
    "Since 0.1116 > 0.05, there is no sufficient evidence at 5% significance level to reject the null hypothesis. Thus, we can't infer that certain sizes of cars's rate of car accident is different from expected percentage of accidents."
   ]
  },
  {
   "cell_type": "markdown",
   "metadata": {},
   "source": [
    "<div style=\"background-color:#D9D9D9;\"><font size=\"5\"> 15.19</font></div>"
   ]
  },
  {
   "cell_type": "markdown",
   "metadata": {},
   "source": [
    "H0 : pi = ai forall types <br>\n",
    "H1 : At least 1 pi & ai differs"
   ]
  },
  {
   "cell_type": "code",
   "execution_count": 5,
   "metadata": {},
   "outputs": [
    {
     "name": "stdout",
     "output_type": "stream",
     "text": [
      "[ 30.216  37.77   84.353 212.771 266.908 219.066 100.72   71.763  74.281\n",
      "  61.691  61.691  35.252]\n"
     ]
    }
   ],
   "source": [
    "df = pd.read_excel('Xr15-19.xlsx')\n",
    "alpha = 0.05\n",
    "#nobs = df.shape[0]\n",
    "df_v = np.array([26, 2, 13, 185, 414, 184, 122, 44, 24, 57, 95, 93])\n",
    "nobs = df_v.sum()\n",
    "prob_e = np.array([24, 30, 67, 169, 212, 174, 80, 57, 59, 49, 49, 28])*0.001\n",
    "freq_e = nobs * prob_e\n",
    "freq_o = df_v\n",
    "print(freq_e)"
   ]
  },
  {
   "cell_type": "code",
   "execution_count": 6,
   "metadata": {},
   "outputs": [
    {
     "name": "stdout",
     "output_type": "stream",
     "text": [
      "Chi-squared test: statistics = 347.3334, p-value = 0.0000\n",
      "Critical value = 19.6751 (defree of freedom = 11)\n"
     ]
    }
   ],
   "source": [
    "if np.sum(freq_e < 5) > 0:\n",
    "    print(\"Rule of five is not met. \")\n",
    "else:\n",
    "    stat, pvalue = stats.chisquare(freq_o, freq_e)\n",
    "    print(\"Chi-squared test: statistics = %0.4f, p-value = %0.4f\" % (stat, pvalue))\n",
    "    df = 12-1\n",
    "    crit_value = stats.chi2.ppf(1 - alpha, df)\n",
    "    print(\"Critical value = %0.4f (defree of freedom = %d)\" % (crit_value, df))"
   ]
  },
  {
   "cell_type": "markdown",
   "metadata": {},
   "source": [
    "Since p < 0.05, there is sufficient evidence at 5% significance level to reject the null hypothesis. Thus, we can infer that the tornadoes percentage have changed."
   ]
  },
  {
   "cell_type": "markdown",
   "metadata": {},
   "source": [
    "<div style=\"background-color:#D9D9D9;\"><font size=\"5\"> 15.38</font></div>"
   ]
  },
  {
   "attachments": {},
   "cell_type": "markdown",
   "metadata": {},
   "source": [
    "H0: The first criterion (quit smoke or not) is independent of the second criterion (education).<br>\n",
    "H1: two variables are dependent."
   ]
  },
  {
   "cell_type": "code",
   "execution_count": 7,
   "metadata": {},
   "outputs": [
    {
     "name": "stdout",
     "output_type": "stream",
     "text": [
      "Contingency Table:\n"
     ]
    },
    {
     "data": {
      "text/html": [
       "<div>\n",
       "<style scoped>\n",
       "    .dataframe tbody tr th:only-of-type {\n",
       "        vertical-align: middle;\n",
       "    }\n",
       "\n",
       "    .dataframe tbody tr th {\n",
       "        vertical-align: top;\n",
       "    }\n",
       "\n",
       "    .dataframe thead th {\n",
       "        text-align: right;\n",
       "    }\n",
       "</style>\n",
       "<table border=\"1\" class=\"dataframe\">\n",
       "  <thead>\n",
       "    <tr style=\"text-align: right;\">\n",
       "      <th>Smoker</th>\n",
       "      <th>1</th>\n",
       "      <th>2</th>\n",
       "    </tr>\n",
       "    <tr>\n",
       "      <th>Education</th>\n",
       "      <th></th>\n",
       "      <th></th>\n",
       "    </tr>\n",
       "  </thead>\n",
       "  <tbody>\n",
       "    <tr>\n",
       "      <th>1</th>\n",
       "      <td>34</td>\n",
       "      <td>23</td>\n",
       "    </tr>\n",
       "    <tr>\n",
       "      <th>2</th>\n",
       "      <td>251</td>\n",
       "      <td>212</td>\n",
       "    </tr>\n",
       "    <tr>\n",
       "      <th>3</th>\n",
       "      <td>159</td>\n",
       "      <td>248</td>\n",
       "    </tr>\n",
       "    <tr>\n",
       "      <th>4</th>\n",
       "      <td>16</td>\n",
       "      <td>57</td>\n",
       "    </tr>\n",
       "  </tbody>\n",
       "</table>\n",
       "</div>"
      ],
      "text/plain": [
       "Smoker       1    2\n",
       "Education          \n",
       "1           34   23\n",
       "2          251  212\n",
       "3          159  248\n",
       "4           16   57"
      ]
     },
     "metadata": {},
     "output_type": "display_data"
    }
   ],
   "source": [
    "df = pd.read_excel('Xr15-38.xlsx')\n",
    "cont1 = pd.crosstab(df[\"Education\"], df[\"Smoker\"])\n",
    "print(\"Contingency Table:\")\n",
    "display(cont1)"
   ]
  },
  {
   "cell_type": "code",
   "execution_count": 8,
   "metadata": {},
   "outputs": [
    {
     "name": "stdout",
     "output_type": "stream",
     "text": [
      "Chi-squared Statistics = 41.7645\n",
      "Degree of freedom = 3.0000\n",
      "p-value = 0.0000\n",
      "Expected Frequency:\n",
      "[[ 26.22  30.78]\n",
      " [212.98 250.02]\n",
      " [187.22 219.78]\n",
      " [ 33.58  39.42]]\n",
      "all the Expected Frequency is above 5\n"
     ]
    }
   ],
   "source": [
    "chi2, p, dof, ex = stats.chi2_contingency(cont1, correction=False)\n",
    "print(\"Chi-squared Statistics = %0.4f\" % chi2)\n",
    "print(\"Degree of freedom = %0.4f\" % dof)\n",
    "print(\"p-value = %0.4f\" % p)\n",
    "print(\"Expected Frequency:\")\n",
    "print(ex)\n",
    "print(\"all the Expected Frequency is above 5\")"
   ]
  },
  {
   "cell_type": "markdown",
   "metadata": {},
   "source": [
    "Since the p-value is smaller than 0.05, we can reject the null hypothesis, the two factors are dependent.<br>\n",
    "there is sufficient evidence to show that the amount of education is a factor in determining whether a smoker will quit."
   ]
  },
  {
   "cell_type": "markdown",
   "metadata": {},
   "source": [
    "<div style=\"background-color:#D9D9D9;\"><font size=\"5\"> 15.43</font></div>"
   ]
  },
  {
   "cell_type": "markdown",
   "metadata": {},
   "source": [
    "H0: The first criterion (weapon used) is independent of the second criterion (year).<br>\n",
    "H1: two variables are dependent."
   ]
  },
  {
   "cell_type": "code",
   "execution_count": 9,
   "metadata": {},
   "outputs": [
    {
     "data": {
      "text/html": [
       "<div>\n",
       "<style scoped>\n",
       "    .dataframe tbody tr th:only-of-type {\n",
       "        vertical-align: middle;\n",
       "    }\n",
       "\n",
       "    .dataframe tbody tr th {\n",
       "        vertical-align: top;\n",
       "    }\n",
       "\n",
       "    .dataframe thead th {\n",
       "        text-align: right;\n",
       "    }\n",
       "</style>\n",
       "<table border=\"1\" class=\"dataframe\">\n",
       "  <thead>\n",
       "    <tr style=\"text-align: right;\">\n",
       "      <th></th>\n",
       "      <th>Year 2000</th>\n",
       "      <th>Year 2005</th>\n",
       "      <th>Year 2010</th>\n",
       "    </tr>\n",
       "  </thead>\n",
       "  <tbody>\n",
       "    <tr>\n",
       "      <th>1.0</th>\n",
       "      <td>161</td>\n",
       "      <td>175</td>\n",
       "      <td>131</td>\n",
       "    </tr>\n",
       "    <tr>\n",
       "      <th>4.0</th>\n",
       "      <td>159</td>\n",
       "      <td>166</td>\n",
       "      <td>126</td>\n",
       "    </tr>\n",
       "    <tr>\n",
       "      <th>3.0</th>\n",
       "      <td>53</td>\n",
       "      <td>39</td>\n",
       "      <td>27</td>\n",
       "    </tr>\n",
       "    <tr>\n",
       "      <th>2.0</th>\n",
       "      <td>36</td>\n",
       "      <td>37</td>\n",
       "      <td>24</td>\n",
       "    </tr>\n",
       "  </tbody>\n",
       "</table>\n",
       "</div>"
      ],
      "text/plain": [
       "     Year 2000  Year 2005  Year 2010\n",
       "1.0        161        175        131\n",
       "4.0        159        166        126\n",
       "3.0         53         39         27\n",
       "2.0         36         37         24"
      ]
     },
     "execution_count": 9,
     "metadata": {},
     "output_type": "execute_result"
    }
   ],
   "source": [
    "df = pd.read_excel('Xr15-43.xlsx')\n",
    "df1 = pd.DataFrame(df['Year 2000'].value_counts())\n",
    "df2 = pd.DataFrame(df['Year 2005'].value_counts())\n",
    "df3 = pd.DataFrame(df['Year 2010'].value_counts())\n",
    "res = pd.merge(df1,df2, left_index=True, right_index=True, how='outer')\n",
    "res = pd.merge(res,df3, left_index=True, right_index=True, how='outer')\n",
    "res"
   ]
  },
  {
   "cell_type": "code",
   "execution_count": 10,
   "metadata": {},
   "outputs": [
    {
     "name": "stdout",
     "output_type": "stream",
     "text": [
      "Chi-squared Statistics = 4.7588\n",
      "Degree of freedom = 6.0000\n",
      "p-value = 0.5751\n",
      "Expected Frequency:\n",
      "[[168.4329806  171.72751323 126.83950617]\n",
      " [162.6622575  165.84391534 122.49382716]\n",
      " [ 42.91975309  43.75925926  32.32098765]\n",
      " [ 34.98500882  35.66931217  26.34567901]]\n",
      "all the Expected Frequency is above 5\n"
     ]
    }
   ],
   "source": [
    "chi2, p, dof, ex = stats.chi2_contingency(res, correction=False)\n",
    "print(\"Chi-squared Statistics = %0.4f\" % chi2)\n",
    "print(\"Degree of freedom = %0.4f\" % dof)\n",
    "print(\"p-value = %0.4f\" % p)\n",
    "print(\"Expected Frequency:\")\n",
    "print(ex)\n",
    "print(\"all the Expected Frequency is above 5\")"
   ]
  },
  {
   "cell_type": "markdown",
   "metadata": {},
   "source": [
    "Since the p-value is larger than 0.05, we can't reject the null hypothesis, there isn't enough evidence to show that the difference of the year is a factor in determining use of weapons in robberies."
   ]
  },
  {
   "cell_type": "markdown",
   "metadata": {},
   "source": [
    "<div style=\"background-color:#D9D9D9;\"><font size=\"5\"> 15.80</font></div>"
   ]
  },
  {
   "cell_type": "markdown",
   "metadata": {},
   "source": [
    "H0 : the data are normally distributed<br>\n",
    "H1 : it is not"
   ]
  },
  {
   "cell_type": "code",
   "execution_count": 11,
   "metadata": {},
   "outputs": [
    {
     "name": "stdout",
     "output_type": "stream",
     "text": [
      "[ 7.9327627 17.0672373 17.0672373  7.9327627] all above 5\n",
      "Since 9.870083556749014 > 4.605170185988092 \n",
      " we reject H0 in favor of H1 under 0.1 significance level,\n",
      "the data are not normal.\n"
     ]
    }
   ],
   "source": [
    "alpha = 0.1\n",
    "p1 = stats.norm.cdf(-1)\n",
    "p2 = stats.norm.cdf(0)-p1\n",
    "p3 = stats.norm.cdf(1) - stats.norm.cdf(0)\n",
    "p4 = 1-stats.norm.cdf(1)\n",
    "e = np.array([p1, p2, p3, p4])*50\n",
    "f = np.array([6, 27, 14, 3])\n",
    "print(e,\"all above 5\")\n",
    "sum_all = 0\n",
    "for i in range(e.shape[0]):\n",
    "    #print(e[i],f[i])\n",
    "    sum_all += ((e[i]-f[i])**2)/e[i]\n",
    "sum_all\n",
    "crit_value = stats.chi2.ppf(1 - alpha, 4-1-1)\n",
    "print(\"Since\",sum_all,\">\",crit_value, \"\\n we reject H0 in favor of H1 under 0.1 significance level,\\nthe data are not normal.\")"
   ]
  },
  {
   "cell_type": "markdown",
   "metadata": {},
   "source": [
    "<div style=\"background-color:#D9D9D9;\"><font size=\"5\"> 15.85</font></div>"
   ]
  },
  {
   "cell_type": "code",
   "execution_count": 12,
   "metadata": {},
   "outputs": [
    {
     "name": "stdout",
     "output_type": "stream",
     "text": [
      "Method 1 : 8.89 0.43063260959249733\n"
     ]
    }
   ],
   "source": [
    "df = pd.read_excel('Xr13-115.xlsx')\n",
    "df1 = df['Method 1']\n",
    "d_mean = df1.mean()\n",
    "d_std = df1.std()\n",
    "print(\"Method 1 :\",d_mean, d_std)"
   ]
  },
  {
   "attachments": {},
   "cell_type": "markdown",
   "metadata": {},
   "source": [
    "Method 1<br>\n",
    "H0 : the data follows a normal distribution with mean 8.89 and standard deviation 0.43<br>\n",
    "H1 : it doesn't <br>\n",
    "We divide to 2 groups"
   ]
  },
  {
   "cell_type": "code",
   "execution_count": 13,
   "metadata": {},
   "outputs": [
    {
     "name": "stdout",
     "output_type": "stream",
     "text": [
      "but when computing critical value, notice that the dataframe is 2-2-1<0, can't apply the test\n",
      "so is the method 2, the experiment design is inappropriate.\n"
     ]
    }
   ],
   "source": [
    "df1 = df1.sort_values()\n",
    "df1\n",
    "#sort to 2 groups:8.89 as thr boundary\n",
    "fi = [5,5]\n",
    "ei = [5,5]\n",
    "chi2 = 0\n",
    "print(\"but when computing critical value, notice that the dataframe is 2-2-1<0, can't apply the test\")\n",
    "print(\"so is the method 2, the experiment design is inappropriate.\")"
   ]
  }
 ],
 "metadata": {
  "kernelspec": {
   "display_name": "Python 3",
   "language": "python",
   "name": "python3"
  },
  "language_info": {
   "codemirror_mode": {
    "name": "ipython",
    "version": 3
   },
   "file_extension": ".py",
   "mimetype": "text/x-python",
   "name": "python",
   "nbconvert_exporter": "python",
   "pygments_lexer": "ipython3",
   "version": "3.8.5"
  }
 },
 "nbformat": 4,
 "nbformat_minor": 4
}
