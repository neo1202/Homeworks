{
 "cells": [
  {
   "cell_type": "code",
   "execution_count": 2,
   "metadata": {
    "tags": []
   },
   "outputs": [],
   "source": [
    "#載入所需函示庫\n",
    "from matplotlib import pyplot as plt\n",
    "%matplotlib inline\n",
    "# 設定圖形大小; DPI越大圖越大\n",
    "plt.rcParams[\"figure.dpi\"] = 80\n",
    "import seaborn as sns\n",
    "import pandas as pd\n",
    "import numpy as np\n",
    "import math\n",
    "import statistics\n",
    "import scipy.stats as stats\n",
    "import statsmodels.api as sm\n",
    "import statsmodels.stats.api as sms\n",
    "import statsmodels.formula.api as smf\n",
    "import statsmodels.stats.multicomp as smm\n",
    "import statsmodels.stats.outliers_influence as sso\n",
    "import statsmodels\n",
    "import warnings\n",
    "warnings.filterwarnings(\"ignore\")\n",
    "\n",
    "def c_of_c_test(r, n, a):\n",
    "    t_value = r * ((n-2)/(1 - r**2)) ** 0.5\n",
    "    t_critical = stats.t.ppf(1 - a/2, n - 2)\n",
    "    pval = stats.t.sf(np.abs(t_value), n - 2)*2\n",
    "    print('r = ', r)\n",
    "    print('t_critical = ', t_critical)\n",
    "    print('t = ', t_value)\n",
    "    print('p_value = ', pval)\n",
    "    return t_value\n",
    "\n",
    "def CI_simple_regression(df,x, y, x1, a):\n",
    "    x_new = np.array([1, x1])\n",
    "    X2 = sm.add_constant(x)\n",
    "    olsmod = sm.OLS(y, X2)\n",
    "    result_reg = olsmod.fit()\n",
    "    #point prediction value\n",
    "    y_head = np.dot(df.params, x_new)\n",
    "    print(\"y_head = \", y_head)\n",
    "    (t_minus, t_plus) = stats.t.interval(alpha = (1.0 - a), df = result_reg.df_resid )\n",
    "    cov_mat1 = np.cov(y, x)\n",
    "    x_bar = x.mean()\n",
    "    core1 = (1 / result_reg.nobs + \n",
    "         (x1 - x_bar) ** 2 / (result_reg.nobs - 1) /    cov_mat1[1,1] ) ** 0.5\n",
    "    lower_bound = y_head + t_minus * (result_reg.mse_resid ** 0.5) * core1\n",
    "    upper_bound = y_head + t_plus * (result_reg.mse_resid ** 0.5) * core1\n",
    "    half_interval = t_plus * (result_reg.mse_resid ** 0.5) * core1\n",
    "    CI = np.array([lower_bound, upper_bound])\n",
    "    print(f\"{100*(1-a)}%% confidence interval for mean: [%0.4f, %0.4f]\" % (lower_bound, upper_bound))\n",
    "    print(\"    or %0.4f  +- %0.4f\" % (y_head, half_interval))\n",
    "    return CI\n",
    "\n",
    "def PI_simple_regression(df,x, y, x1, a):\n",
    "    x_new = np.array([1, x1])\n",
    "    print(\"make prediction at new x = \", x1)\n",
    "    X2 = sm.add_constant(x)\n",
    "    olsmod = sm.OLS(y, X2)\n",
    "    result_reg = olsmod.fit()\n",
    "    y_head = np.dot(df.params, x_new)\n",
    "    print(\"y_head = \", y_head)\n",
    "    (t_minus, t_plus) = stats.t.interval(alpha = (1.0 - a), df = result_reg.df_resid )\n",
    "    cov_mat1 = np.cov(y, x)\n",
    "    x_bar = x.mean()\n",
    "    core2 = (1 + 1 / result_reg.nobs + \n",
    "         (x1 - x_bar) ** 2 / (result_reg.nobs - 1) / cov_mat1[1,1] ) ** 0.5\n",
    "    lower_bound = y_head + t_minus * (result_reg.mse_resid ** 0.5) * core2\n",
    "    upper_bound = y_head + t_plus * (result_reg.mse_resid ** 0.5) * core2\n",
    "    half_interval = t_plus * (result_reg.mse_resid ** 0.5) * core2\n",
    "    PI = np.array([lower_bound, upper_bound])\n",
    "    print(f\"{100*(1-a)}%% prediction interval: [%0.4f, %0.4f]\" % (lower_bound, upper_bound))\n",
    "    print(\"    or %0.4f  +- %0.4f\" % (y_head, half_interval))\n",
    "    return PI\n",
    "\n",
    "def Chi_Square_for_Normality(SD, N, a): \n",
    "    m = np.mean(SD)\n",
    "    s = np.std(SD)   \n",
    "    prob_bins = np.zeros((N + 1))\n",
    "    z_bins = np.zeros((N + 1))\n",
    "    z_bins[0] = -4\n",
    "    z_bins[N] = 4\n",
    "    for i in range(0, N+1):\n",
    "        prob_bins[i] = i/N\n",
    "    for j in range(1, N):\n",
    "        z_bins[j] = m + stats.norm.isf(1 - prob_bins[j]) * s \n",
    "    counts, bins = np.histogram(SD, bins=z_bins)\n",
    "    nobs = counts.sum()\n",
    "    prob_e = np.zeros((N))\n",
    "    for i in range(1, N+1):\n",
    "        prob_e[i - 1] = prob_bins[i] - prob_bins[i - 1]\n",
    "    freq_e = nobs * prob_e\n",
    "    freq_o = counts\n",
    "    if np.sum(freq_e < 5) > 0:\n",
    "        print(\"Rule of five is not met. \")\n",
    "        chi_pval = -99999 # Invalid\n",
    "    else:\n",
    "        chi_stat, pval = stats.chisquare(freq_o, freq_e) \n",
    "        chi_pval = stats.chi2.sf(chi_stat, N - 3)\n",
    "        print(\"Chi-squared test: statistics = %0.4f, p-value = %0.4f\" % (chi_stat, chi_pval))\n",
    "    df = N - 3\n",
    "    crit_value = stats.chi2.ppf(1 - a, df)\n",
    "    print(\"Critical value = %0.4f (defree of freedom = %d)\" % (crit_value, df))\n",
    "    return chi_pval\n",
    "\n",
    "\n",
    "def runsTest(l, l_median): \n",
    "    runs, n1, n2 = 1, 0, 0\n",
    "    if(l[0]) >= l_median:\n",
    "        n1 += 1   \n",
    "    else:\n",
    "        n2 += 1     \n",
    "    # Checking for start of new run \n",
    "    for i in range(1,len(l)): \n",
    "        # no. of runs \n",
    "        if (l[i] >= l_median and l[i-1] < l_median) or (l[i] < l_median and l[i-1] >= l_median):\n",
    "            runs += 1  \n",
    "            # print(i, runs)\n",
    "        # no. of positive values \n",
    "        if(l[i]) >= l_median: \n",
    "            n1 += 1   \n",
    "        # no. of negative values \n",
    "        else: \n",
    "            n2 += 1   \n",
    "    runs_exp = ((2*n1*n2)/(n1+n2)) + 1\n",
    "    stan_dev = math.sqrt((2*n1*n2*(2*n1*n2-n1-n2))/(((n1+n2)**2)*(n1+n2-1))) \n",
    "    z = (runs-runs_exp)/stan_dev\n",
    "    pval_z = stats.norm.sf(abs(z)) * 2\n",
    "    print('runs = ', runs)\n",
    "    print('n1 = ', n1)\n",
    "    print('n2 = ', n2)\n",
    "    print('runs_exp = ', runs_exp)\n",
    "    print('stan_dev = ', stan_dev)\n",
    "    print('z = ', z)\n",
    "    print('pval_z = ', pval_z)\n",
    "    return pval_z\n",
    "\n",
    "def CI_PI_regression(xdata, yval, x1, a):\n",
    "    print(\"make CI and PI prediction at mean of x = \", x1)\n",
    "    X_data_T = xdata.T\n",
    "    X_data2 = sm.add_constant(X_data_T)\n",
    "    olsmod = sm.OLS(yval, X_data2)\n",
    "    result_reg = olsmod.fit()\n",
    "    y_head = np.dot(result_reg.params, x1)\n",
    "    print(\"y_head = \", y_head)\n",
    "    (t_minus, t_plus) = stats.t.interval(alpha = (1.0 - a), df = result_reg.df_resid )\n",
    "    core1 = (result_reg.mse_resid * np.matmul(x1, np.linalg.solve(np.matmul(X_data2.T, X_data2), x1))) ** 0.5\n",
    "    lower_bound = y_head +  t_minus * core1\n",
    "    upper_bound = y_head +  t_plus * core1\n",
    "    print(\"confidence interval of mean = [%0.4f, %0.4f] \" % (lower_bound, upper_bound))\n",
    "    core2 = (result_reg.mse_resid * (1 + np.matmul(x1, np.linalg.solve(np.matmul(X_data2.T, X_data2), x1)))) ** 0.5\n",
    "    lower_bound2 = y_head +  t_minus * core2\n",
    "    upper_bound2 = y_head +  t_plus * core2\n",
    "    print(\"Prediction interval = [%0.4f, %0.4f] \" % (lower_bound2, upper_bound2))\n",
    "    CI_PI = np.array([lower_bound, upper_bound, lower_bound2, upper_bound2])\n",
    "    return CI_PI\n",
    "\n",
    "def Durbin_Watson_test(x):\n",
    "    x_square_sum = np.vdot(x, x)\n",
    "    print(\"x_square_sum = \", x_square_sum)\n",
    "    size = x.size\n",
    "    print(\"size = \", size)\n",
    "    x_d = np.zeros((size))\n",
    "    print(\"x_d = \", x_d)\n",
    "    l_size = size - 1\n",
    "    for i in range(l_size):\n",
    "        x_d[i + 1] = x[i + 1] - x[i]\n",
    "    print(\"x_d = \", x_d)\n",
    "    d = np.vdot(x_d, x_d) / x_square_sum\n",
    "    print(\"d = \", d)\n",
    "    return(d)\n",
    "\n",
    "def value_to_int(x):\n",
    "    if type(x) == float or type(x) == int:\n",
    "        return x\n",
    "    if 'K' in x:\n",
    "        if len(x) > 1:\n",
    "            return int(float(x.replace('K', '')) * 1000)\n",
    "        return 1000\n",
    "    if 'M' in x:\n",
    "        if len(x) > 1:\n",
    "            return int(float(x.replace('M', '')) * 1000000)\n",
    "        return 1000000\n",
    "    if 'B' in x:\n",
    "        return int(float(x.replace('B', '')) * 1000000000)\n",
    "    if ' ' in x:\n",
    "        return int(float(x.replace(' ','')))\n",
    "    return int(x)\n"
   ]
  },
  {
   "cell_type": "code",
   "execution_count": 107,
   "metadata": {
    "scrolled": true
   },
   "outputs": [
    {
     "data": {
      "text/html": [
       "<div>\n",
       "<style scoped>\n",
       "    .dataframe tbody tr th:only-of-type {\n",
       "        vertical-align: middle;\n",
       "    }\n",
       "\n",
       "    .dataframe tbody tr th {\n",
       "        vertical-align: top;\n",
       "    }\n",
       "\n",
       "    .dataframe thead th {\n",
       "        text-align: right;\n",
       "    }\n",
       "</style>\n",
       "<table border=\"1\" class=\"dataframe\">\n",
       "  <thead>\n",
       "    <tr style=\"text-align: right;\">\n",
       "      <th></th>\n",
       "      <th>Unnamed: 0</th>\n",
       "      <th>Website</th>\n",
       "      <th>Trustworthiness</th>\n",
       "      <th>Avg_Daily_Visitors</th>\n",
       "      <th>Child_Safety</th>\n",
       "      <th>Avg_Daily_Pageviews</th>\n",
       "      <th>Privacy</th>\n",
       "      <th>Facebook_likes</th>\n",
       "      <th>Twitter_mentions</th>\n",
       "      <th>Google_pluses</th>\n",
       "      <th>LinkedIn_mentions</th>\n",
       "      <th>Pinterest_pins</th>\n",
       "      <th>StumbleUpon_views</th>\n",
       "      <th>Traffic_Rank</th>\n",
       "      <th>Location</th>\n",
       "      <th>Hosted_by</th>\n",
       "      <th>country</th>\n",
       "    </tr>\n",
       "  </thead>\n",
       "  <tbody>\n",
       "    <tr>\n",
       "      <th>0</th>\n",
       "      <td>0</td>\n",
       "      <td>www.google.com.af</td>\n",
       "      <td>Excellent</td>\n",
       "      <td>NaN</td>\n",
       "      <td>Excellent</td>\n",
       "      <td>NaN</td>\n",
       "      <td>Excellent</td>\n",
       "      <td>9</td>\n",
       "      <td>1</td>\n",
       "      <td>37</td>\n",
       "      <td>7</td>\n",
       "      <td>-</td>\n",
       "      <td>7</td>\n",
       "      <td>954</td>\n",
       "      <td>United States</td>\n",
       "      <td>Google Inc.</td>\n",
       "      <td>Afghanistan</td>\n",
       "    </tr>\n",
       "    <tr>\n",
       "      <th>1</th>\n",
       "      <td>1</td>\n",
       "      <td>www.google.com</td>\n",
       "      <td>Excellent</td>\n",
       "      <td>515 007 350</td>\n",
       "      <td>Excellent</td>\n",
       "      <td>4 192 159 833</td>\n",
       "      <td>Excellent</td>\n",
       "      <td>94.2K</td>\n",
       "      <td>11.2K</td>\n",
       "      <td>11.7M</td>\n",
       "      <td>1.67K</td>\n",
       "      <td>10.8K</td>\n",
       "      <td>246K</td>\n",
       "      <td>1</td>\n",
       "      <td>United States</td>\n",
       "      <td>Google Inc.</td>\n",
       "      <td>Afghanistan</td>\n",
       "    </tr>\n",
       "    <tr>\n",
       "      <th>2</th>\n",
       "      <td>2</td>\n",
       "      <td>www.youtube.com</td>\n",
       "      <td>Excellent</td>\n",
       "      <td>506 457 282</td>\n",
       "      <td>Excellent</td>\n",
       "      <td>2 679 159 025</td>\n",
       "      <td>Excellent</td>\n",
       "      <td>13.5K</td>\n",
       "      <td>16.5K</td>\n",
       "      <td>19.3M</td>\n",
       "      <td>60K</td>\n",
       "      <td>47</td>\n",
       "      <td>329K</td>\n",
       "      <td>2</td>\n",
       "      <td>United States</td>\n",
       "      <td>Google Inc.</td>\n",
       "      <td>Afghanistan</td>\n",
       "    </tr>\n",
       "    <tr>\n",
       "      <th>3</th>\n",
       "      <td>3</td>\n",
       "      <td>www.facebook.com</td>\n",
       "      <td>Excellent</td>\n",
       "      <td>270 071 255</td>\n",
       "      <td>Good</td>\n",
       "      <td>1 082 985 733</td>\n",
       "      <td>Excellent</td>\n",
       "      <td>5.87M</td>\n",
       "      <td>64.4K</td>\n",
       "      <td>127K</td>\n",
       "      <td>6.23K</td>\n",
       "      <td>4.15K</td>\n",
       "      <td>23.1K</td>\n",
       "      <td>3</td>\n",
       "      <td>Ireland</td>\n",
       "      <td>Facebook</td>\n",
       "      <td>Afghanistan</td>\n",
       "    </tr>\n",
       "    <tr>\n",
       "      <th>4</th>\n",
       "      <td>4</td>\n",
       "      <td>www.yahoo.com</td>\n",
       "      <td>Excellent</td>\n",
       "      <td>99 572 035</td>\n",
       "      <td>Excellent</td>\n",
       "      <td>383 352 336</td>\n",
       "      <td>Excellent</td>\n",
       "      <td>17.2K</td>\n",
       "      <td>1.11K</td>\n",
       "      <td>798K</td>\n",
       "      <td>7.5K</td>\n",
       "      <td>433</td>\n",
       "      <td>68.9K</td>\n",
       "      <td>6</td>\n",
       "      <td>United States</td>\n",
       "      <td>Yahoo! Inc.</td>\n",
       "      <td>Afghanistan</td>\n",
       "    </tr>\n",
       "    <tr>\n",
       "      <th>...</th>\n",
       "      <td>...</td>\n",
       "      <td>...</td>\n",
       "      <td>...</td>\n",
       "      <td>...</td>\n",
       "      <td>...</td>\n",
       "      <td>...</td>\n",
       "      <td>...</td>\n",
       "      <td>...</td>\n",
       "      <td>...</td>\n",
       "      <td>...</td>\n",
       "      <td>...</td>\n",
       "      <td>...</td>\n",
       "      <td>...</td>\n",
       "      <td>...</td>\n",
       "      <td>...</td>\n",
       "      <td>...</td>\n",
       "      <td>...</td>\n",
       "    </tr>\n",
       "    <tr>\n",
       "      <th>3396</th>\n",
       "      <td>3396</td>\n",
       "      <td>www.propertybook.co.zw</td>\n",
       "      <td>Unknown</td>\n",
       "      <td>505</td>\n",
       "      <td>Unknown</td>\n",
       "      <td>1 009</td>\n",
       "      <td>Unknown</td>\n",
       "      <td>2</td>\n",
       "      <td>-</td>\n",
       "      <td>-</td>\n",
       "      <td>86</td>\n",
       "      <td>-</td>\n",
       "      <td>1</td>\n",
       "      <td>438 021</td>\n",
       "      <td>United States</td>\n",
       "      <td>CloudFlare, Inc.</td>\n",
       "      <td>Zimbabwe</td>\n",
       "    </tr>\n",
       "    <tr>\n",
       "      <th>3397</th>\n",
       "      <td>3397</td>\n",
       "      <td>www.dailynews.co.zw</td>\n",
       "      <td>Unknown</td>\n",
       "      <td>11 902</td>\n",
       "      <td>Unknown</td>\n",
       "      <td>28 566</td>\n",
       "      <td>Unknown</td>\n",
       "      <td>-</td>\n",
       "      <td>27</td>\n",
       "      <td>42</td>\n",
       "      <td>5</td>\n",
       "      <td>-</td>\n",
       "      <td>-</td>\n",
       "      <td>85 166</td>\n",
       "      <td>Ireland</td>\n",
       "      <td>Amazon.com, Inc.</td>\n",
       "      <td>Zimbabwe</td>\n",
       "    </tr>\n",
       "    <tr>\n",
       "      <th>3398</th>\n",
       "      <td>3398</td>\n",
       "      <td>www.newsdzezimbabwe.co.uk</td>\n",
       "      <td>Unknown</td>\n",
       "      <td>11 862</td>\n",
       "      <td>Unknown</td>\n",
       "      <td>51 010</td>\n",
       "      <td>Unknown</td>\n",
       "      <td>-</td>\n",
       "      <td>15</td>\n",
       "      <td>3</td>\n",
       "      <td>-</td>\n",
       "      <td>-</td>\n",
       "      <td>-</td>\n",
       "      <td>77 934</td>\n",
       "      <td>United States</td>\n",
       "      <td>Google Inc.</td>\n",
       "      <td>Zimbabwe</td>\n",
       "    </tr>\n",
       "    <tr>\n",
       "      <th>3399</th>\n",
       "      <td>3399</td>\n",
       "      <td>www.nehandaradio.com</td>\n",
       "      <td>Unknown</td>\n",
       "      <td>9 946</td>\n",
       "      <td>Unknown</td>\n",
       "      <td>19 894</td>\n",
       "      <td>Unknown</td>\n",
       "      <td>3</td>\n",
       "      <td>256</td>\n",
       "      <td>214</td>\n",
       "      <td>4</td>\n",
       "      <td>-</td>\n",
       "      <td>1</td>\n",
       "      <td>58 327</td>\n",
       "      <td>United States</td>\n",
       "      <td>CloudFlare, Inc.</td>\n",
       "      <td>Zimbabwe</td>\n",
       "    </tr>\n",
       "    <tr>\n",
       "      <th>3400</th>\n",
       "      <td>3400</td>\n",
       "      <td>www.emailaccessonline.com</td>\n",
       "      <td>Poor</td>\n",
       "      <td>1 331 630</td>\n",
       "      <td>Unknown</td>\n",
       "      <td>1 717 804</td>\n",
       "      <td>Poor</td>\n",
       "      <td>-</td>\n",
       "      <td>-</td>\n",
       "      <td>4</td>\n",
       "      <td>-</td>\n",
       "      <td>-</td>\n",
       "      <td>-</td>\n",
       "      <td>1 098</td>\n",
       "      <td>United States</td>\n",
       "      <td>Amazon Technologies Inc.</td>\n",
       "      <td>Zimbabwe</td>\n",
       "    </tr>\n",
       "  </tbody>\n",
       "</table>\n",
       "<p>3401 rows × 17 columns</p>\n",
       "</div>"
      ],
      "text/plain": [
       "      Unnamed: 0                    Website Trustworthiness  \\\n",
       "0              0          www.google.com.af       Excellent   \n",
       "1              1             www.google.com       Excellent   \n",
       "2              2            www.youtube.com       Excellent   \n",
       "3              3           www.facebook.com       Excellent   \n",
       "4              4              www.yahoo.com       Excellent   \n",
       "...          ...                        ...             ...   \n",
       "3396        3396     www.propertybook.co.zw         Unknown   \n",
       "3397        3397        www.dailynews.co.zw         Unknown   \n",
       "3398        3398  www.newsdzezimbabwe.co.uk         Unknown   \n",
       "3399        3399       www.nehandaradio.com         Unknown   \n",
       "3400        3400  www.emailaccessonline.com            Poor   \n",
       "\n",
       "     Avg_Daily_Visitors Child_Safety Avg_Daily_Pageviews    Privacy  \\\n",
       "0                   NaN    Excellent                 NaN  Excellent   \n",
       "1           515 007 350    Excellent       4 192 159 833  Excellent   \n",
       "2           506 457 282    Excellent       2 679 159 025  Excellent   \n",
       "3           270 071 255         Good       1 082 985 733  Excellent   \n",
       "4            99 572 035    Excellent         383 352 336  Excellent   \n",
       "...                 ...          ...                 ...        ...   \n",
       "3396                505      Unknown               1 009    Unknown   \n",
       "3397             11 902      Unknown              28 566    Unknown   \n",
       "3398             11 862      Unknown              51 010    Unknown   \n",
       "3399              9 946      Unknown              19 894    Unknown   \n",
       "3400          1 331 630      Unknown           1 717 804       Poor   \n",
       "\n",
       "     Facebook_likes Twitter_mentions Google_pluses LinkedIn_mentions  \\\n",
       "0                 9                1            37                 7   \n",
       "1             94.2K            11.2K         11.7M             1.67K   \n",
       "2             13.5K            16.5K         19.3M               60K   \n",
       "3             5.87M            64.4K          127K             6.23K   \n",
       "4             17.2K            1.11K          798K              7.5K   \n",
       "...             ...              ...           ...               ...   \n",
       "3396              2                -             -                86   \n",
       "3397              -               27            42                 5   \n",
       "3398              -               15             3                 -   \n",
       "3399              3              256           214                 4   \n",
       "3400              -                -             4                 -   \n",
       "\n",
       "     Pinterest_pins StumbleUpon_views Traffic_Rank       Location  \\\n",
       "0                 -                 7          954  United States   \n",
       "1             10.8K              246K            1  United States   \n",
       "2                47              329K            2  United States   \n",
       "3             4.15K             23.1K            3        Ireland   \n",
       "4               433             68.9K            6  United States   \n",
       "...             ...               ...          ...            ...   \n",
       "3396              -                 1      438 021  United States   \n",
       "3397              -                 -       85 166        Ireland   \n",
       "3398              -                 -       77 934  United States   \n",
       "3399              -                 1       58 327  United States   \n",
       "3400              -                 -        1 098  United States   \n",
       "\n",
       "                     Hosted_by      country  \n",
       "0                  Google Inc.  Afghanistan  \n",
       "1                  Google Inc.  Afghanistan  \n",
       "2                  Google Inc.  Afghanistan  \n",
       "3                     Facebook  Afghanistan  \n",
       "4                  Yahoo! Inc.  Afghanistan  \n",
       "...                        ...          ...  \n",
       "3396          CloudFlare, Inc.     Zimbabwe  \n",
       "3397          Amazon.com, Inc.     Zimbabwe  \n",
       "3398               Google Inc.     Zimbabwe  \n",
       "3399          CloudFlare, Inc.     Zimbabwe  \n",
       "3400  Amazon Technologies Inc.     Zimbabwe  \n",
       "\n",
       "[3401 rows x 17 columns]"
      ]
     },
     "metadata": {},
     "output_type": "display_data"
    }
   ],
   "source": [
    "df = pd.read_excel('output.xlsx')\n",
    "display(df)"
   ]
  },
  {
   "cell_type": "markdown",
   "metadata": {},
   "source": [
    "## FB_pageviews"
   ]
  },
  {
   "cell_type": "code",
   "execution_count": 108,
   "metadata": {},
   "outputs": [
    {
     "data": {
      "text/html": [
       "<div>\n",
       "<style scoped>\n",
       "    .dataframe tbody tr th:only-of-type {\n",
       "        vertical-align: middle;\n",
       "    }\n",
       "\n",
       "    .dataframe tbody tr th {\n",
       "        vertical-align: top;\n",
       "    }\n",
       "\n",
       "    .dataframe thead th {\n",
       "        text-align: right;\n",
       "    }\n",
       "</style>\n",
       "<table border=\"1\" class=\"dataframe\">\n",
       "  <thead>\n",
       "    <tr style=\"text-align: right;\">\n",
       "      <th></th>\n",
       "      <th>Avg_Daily_Pageviews</th>\n",
       "      <th>Facebook_likes</th>\n",
       "      <th>Website</th>\n",
       "    </tr>\n",
       "  </thead>\n",
       "  <tbody>\n",
       "    <tr>\n",
       "      <th>0</th>\n",
       "      <td>4192159833</td>\n",
       "      <td>94200</td>\n",
       "      <td>www.google.com</td>\n",
       "    </tr>\n",
       "    <tr>\n",
       "      <th>1</th>\n",
       "      <td>2679159025</td>\n",
       "      <td>13500</td>\n",
       "      <td>www.youtube.com</td>\n",
       "    </tr>\n",
       "    <tr>\n",
       "      <th>2</th>\n",
       "      <td>1082985733</td>\n",
       "      <td>5870000</td>\n",
       "      <td>www.facebook.com</td>\n",
       "    </tr>\n",
       "    <tr>\n",
       "      <th>3</th>\n",
       "      <td>383352336</td>\n",
       "      <td>17200</td>\n",
       "      <td>www.yahoo.com</td>\n",
       "    </tr>\n",
       "    <tr>\n",
       "      <th>4</th>\n",
       "      <td>24690228</td>\n",
       "      <td>9</td>\n",
       "      <td>www.bbc.com</td>\n",
       "    </tr>\n",
       "    <tr>\n",
       "      <th>...</th>\n",
       "      <td>...</td>\n",
       "      <td>...</td>\n",
       "      <td>...</td>\n",
       "    </tr>\n",
       "    <tr>\n",
       "      <th>1478</th>\n",
       "      <td>56111</td>\n",
       "      <td>13</td>\n",
       "      <td>www.newsday.co.zw</td>\n",
       "    </tr>\n",
       "    <tr>\n",
       "      <th>1479</th>\n",
       "      <td>61213</td>\n",
       "      <td>2</td>\n",
       "      <td>www.iharare.com</td>\n",
       "    </tr>\n",
       "    <tr>\n",
       "      <th>1480</th>\n",
       "      <td>34177</td>\n",
       "      <td>1</td>\n",
       "      <td>www.chronicle.co.zw</td>\n",
       "    </tr>\n",
       "    <tr>\n",
       "      <th>1481</th>\n",
       "      <td>1009</td>\n",
       "      <td>2</td>\n",
       "      <td>www.propertybook.co.zw</td>\n",
       "    </tr>\n",
       "    <tr>\n",
       "      <th>1482</th>\n",
       "      <td>19894</td>\n",
       "      <td>3</td>\n",
       "      <td>www.nehandaradio.com</td>\n",
       "    </tr>\n",
       "  </tbody>\n",
       "</table>\n",
       "<p>1483 rows × 3 columns</p>\n",
       "</div>"
      ],
      "text/plain": [
       "      Avg_Daily_Pageviews  Facebook_likes                 Website\n",
       "0              4192159833           94200          www.google.com\n",
       "1              2679159025           13500         www.youtube.com\n",
       "2              1082985733         5870000        www.facebook.com\n",
       "3               383352336           17200           www.yahoo.com\n",
       "4                24690228               9             www.bbc.com\n",
       "...                   ...             ...                     ...\n",
       "1478                56111              13       www.newsday.co.zw\n",
       "1479                61213               2         www.iharare.com\n",
       "1480                34177               1     www.chronicle.co.zw\n",
       "1481                 1009               2  www.propertybook.co.zw\n",
       "1482                19894               3    www.nehandaradio.com\n",
       "\n",
       "[1483 rows x 3 columns]"
      ]
     },
     "metadata": {},
     "output_type": "display_data"
    }
   ],
   "source": [
    "fb = df[df[\"Facebook_likes\"].str.contains(\"-\")==False]\n",
    "fb = fb[['Avg_Daily_Pageviews','Facebook_likes','Website']]\n",
    "fb['Facebook_likes'] = fb['Facebook_likes'].apply(value_to_int)\n",
    "fb.dropna(inplace=True)\n",
    "#fb.sort_values(by=['Facebook_likes'], ascending=False, inplace=True)\n",
    "fb.reset_index(inplace = True, drop = True)\n",
    "fb['Avg_Daily_Pageviews'] = fb['Avg_Daily_Pageviews'].apply(value_to_int)\n",
    "#pd.set_option(\"max_rows\", None)\n",
    "#fb=fb[17:]\n",
    "display(fb)"
   ]
  },
  {
   "cell_type": "code",
   "execution_count": 14,
   "metadata": {},
   "outputs": [
    {
     "data": {
      "image/png": "[encoded data removed]",
      "text/plain": [
       "<Figure size 480x320 with 1 Axes>"
      ]
     },
     "metadata": {
      "needs_background": "light"
     },
     "output_type": "display_data"
    }
   ],
   "source": [
    "# draw plot\n",
    "_ = sns.regplot(x='Facebook_likes', y= 'Avg_Daily_Pageviews', data = fb, color = 'b', ci = None)\n",
    "plt.title('Scatter Plot for Fb likes & Avg Daily Pageviews ')\n",
    "plt.xlabel('FB likes')\n",
    "plt.ylabel('Avg Daily Pageviews')\n",
    "plt.show()"
   ]
  },
  {
   "cell_type": "code",
   "execution_count": 15,
   "metadata": {},
   "outputs": [
    {
     "name": "stdout",
     "output_type": "stream",
     "text": [
      "                             OLS Regression Results                            \n",
      "===============================================================================\n",
      "Dep. Variable:     Avg_Daily_Pageviews   R-squared:                       0.045\n",
      "Model:                             OLS   Adj. R-squared:                  0.045\n",
      "Method:                  Least Squares   F-statistic:                     70.14\n",
      "Date:                 Sun, 15 May 2022   Prob (F-statistic):           1.26e-16\n",
      "Time:                         16:32:22   Log-Likelihood:                -29879.\n",
      "No. Observations:                 1483   AIC:                         5.976e+04\n",
      "Df Residuals:                     1481   BIC:                         5.977e+04\n",
      "Df Model:                            1                                         \n",
      "Covariance Type:             nonrobust                                         \n",
      "==================================================================================\n",
      "                     coef    std err          t      P>|t|      [0.025      0.975]\n",
      "----------------------------------------------------------------------------------\n",
      "Intercept       1.479e+07   3.54e+06      4.182      0.000    7.85e+06    2.17e+07\n",
      "Facebook_likes   193.9979     23.164      8.375      0.000     148.561     239.435\n",
      "==============================================================================\n",
      "Omnibus:                     3628.689   Durbin-Watson:                   0.512\n",
      "Prob(Omnibus):                  0.000   Jarque-Bera (JB):         29251767.911\n",
      "Skew:                          24.647   Prob(JB):                         0.00\n",
      "Kurtosis:                     689.268   Cond. No.                     1.53e+05\n",
      "==============================================================================\n",
      "\n",
      "Notes:\n",
      "[1] Standard Errors assume that the covariance matrix of the errors is correctly specified.\n",
      "[2] The condition number is large, 1.53e+05. This might indicate that there are\n",
      "strong multicollinearity or other numerical problems.\n",
      "\n",
      "Estimated model: y = 14793070.7011 + 193.9979 x\n",
      "The coefficients are 14793070.7011 and 193.9979\n"
     ]
    }
   ],
   "source": [
    "# Fit regression model \n",
    "fb_result = smf.ols('Avg_Daily_Pageviews~ Facebook_likes', data=fb).fit()\n",
    "# Inspect the results\n",
    "print(fb_result.summary())\n",
    "\n",
    "b1 = fb_result.params[1]\n",
    "b0 = fb_result.params[0]\n",
    "\n",
    "print(f\"\\nEstimated model: y = {b0:.4f} + {b1:.4f} x\")\n",
    "print(f\"The coefficients are {b0:.4f} and {b1:.4f}\")"
   ]
  },
  {
   "cell_type": "markdown",
   "metadata": {},
   "source": [
    "###    Standardized Residuals\n",
    "\n",
    "把殘差值標準化"
   ]
  },
  {
   "cell_type": "code",
   "execution_count": 49,
   "metadata": {},
   "outputs": [
    {
     "name": "stdout",
     "output_type": "stream",
     "text": [
      "Standardized Residuals \n",
      "\n",
      "[-4.23453228 -3.32288152 -0.2743621  ... -0.08741999  0.03225947\n",
      " -0.06945767]\n",
      "mu =  -7.279293009893724e-05\n",
      "sigma =  1.0156243106353369\n"
     ]
    }
   ],
   "source": [
    "# studentized residual\n",
    "print(\"Standardized Residuals \\n\")\n",
    "st1, data1, ss3 = sso.summary_table(fb_result, alpha=0.05)\n",
    "SD = data1[:, 10]\n",
    "mu = np.mean(SD)\n",
    "sigma = np.std(SD)\n",
    "print(SD)\n",
    "print('mu = ', mu)\n",
    "print('sigma = ', sigma)\n"
   ]
  },
  {
   "cell_type": "markdown",
   "metadata": {},
   "source": [
    "### Normal test\n",
    "\n",
    "#### H0: Errors are normally distributed <br>\n",
    "#### H1: Errors are not normally distributed."
   ]
  },
  {
   "cell_type": "markdown",
   "metadata": {},
   "source": [
    "### QQ-plot and Histogram"
   ]
  },
  {
   "cell_type": "code",
   "execution_count": 50,
   "metadata": {},
   "outputs": [
    {
     "data": {
      "image/png": "[encoded data removed]",
      "text/plain": [
       "<Figure size 480x320 with 1 Axes>"
      ]
     },
     "metadata": {
      "needs_background": "light"
     },
     "output_type": "display_data"
    },
    {
     "data": {
      "image/png": "[encoded data removed]",
      "text/plain": [
       "<Figure size 480x320 with 1 Axes>"
      ]
     },
     "metadata": {
      "needs_background": "light"
     },
     "output_type": "display_data"
    }
   ],
   "source": [
    "counts, bins, patches = plt.hist(SD, 6, density=False, facecolor='g', alpha=0.75)\n",
    "plt.xlabel('Avg Daily Pageviews')\n",
    "plt.ylabel('Frequency')\n",
    "plt.title('Histogram of Standard Residuals Avg Daily Pageviews & Fb likes')\n",
    "plt.grid(True)\n",
    "bin_centers = [np.mean(k) for k in zip(bins[:-1], bins[1:])]\n",
    "plt.show()\n",
    "fig = sm.qqplot(SD, stats.norm, fit=True, line='45')"
   ]
  },
  {
   "cell_type": "markdown",
   "metadata": {},
   "source": [
    "#### Shapiro Test"
   ]
  },
  {
   "cell_type": "code",
   "execution_count": 51,
   "metadata": {
    "tags": []
   },
   "outputs": [
    {
     "name": "stdout",
     "output_type": "stream",
     "text": [
      "Shapiro Test\n",
      "Statistics=0.163, p=0.000\n"
     ]
    }
   ],
   "source": [
    "print('Shapiro Test')\n",
    "stat, p = stats.shapiro(SD)\n",
    "print('Statistics=%.3f, p=%.3f' % (stat, p))"
   ]
  },
  {
   "cell_type": "markdown",
   "metadata": {},
   "source": [
    "Since pvalue is smaller than alpha(0.05), H0 is rejected. Errors are not normally distributed."
   ]
  },
  {
   "cell_type": "markdown",
   "metadata": {},
   "source": [
    "### Chi test"
   ]
  },
  {
   "cell_type": "code",
   "execution_count": 52,
   "metadata": {},
   "outputs": [
    {
     "name": "stdout",
     "output_type": "stream",
     "text": [
      "Chi-squared test: statistics = 4646.3374, p-value = 0.0000\n",
      "Critical value = 7.8147 (defree of freedom = 3)\n",
      "0.0\n"
     ]
    }
   ],
   "source": [
    "chi2_pval = Chi_Square_for_Normality(SD, 6, 0.05) \n",
    "print(chi2_pval)"
   ]
  },
  {
   "cell_type": "markdown",
   "metadata": {},
   "source": [
    "### H0: Homoscedasticity <br>\n",
    "### H1: Heteroscedasticity"
   ]
  },
  {
   "cell_type": "code",
   "execution_count": 53,
   "metadata": {},
   "outputs": [
    {
     "data": {
      "image/png": "[encoded data removed]",
      "text/plain": [
       "<Figure size 480x320 with 1 Axes>"
      ]
     },
     "metadata": {
      "needs_background": "light"
     },
     "output_type": "display_data"
    }
   ],
   "source": [
    "\n",
    "y_pre = data1[:, 2]\n",
    "plt.plot(y_pre, SD, 'o', color = 'gray')\n",
    "plt.axhline(y=0, color = 'blue')\n",
    "plt.axhline(y=2, color = 'red')\n",
    "plt.axhline(y=-2, color = 'red')\n",
    "plt.title('Standardized Residual Plot')\n",
    "plt.xlabel('Pageviews')\n",
    "plt.ylabel('Standardized Residual')\n",
    "plt.show()"
   ]
  },
  {
   "cell_type": "markdown",
   "metadata": {},
   "source": [
    "The result seems to be Homoscedasticity. The spread of data points doesn't change much."
   ]
  },
  {
   "cell_type": "markdown",
   "metadata": {},
   "source": [
    "### Runs test\n",
    "\n",
    "測試independence <br>\n",
    "\n",
    "#### H0: Randomness exists \n",
    "#### H1: Randomness does not exist."
   ]
  },
  {
   "cell_type": "code",
   "execution_count": 54,
   "metadata": {},
   "outputs": [
    {
     "name": "stdout",
     "output_type": "stream",
     "text": [
      "runs =  668\n",
      "n1 =  733\n",
      "n2 =  733\n",
      "runs_exp =  734.0\n",
      "stan_dev =  19.137654750557495\n",
      "z =  -3.448698435636549\n",
      "pval_z =  0.0005632954101045788\n",
      "p_value for Z-statistic=  0.0005632954101045788\n"
     ]
    }
   ],
   "source": [
    "SD_median = statistics.median(SD)\n",
    "Z_pval = runsTest(SD, SD_median) \n",
    "  \n",
    "print('p_value for Z-statistic= ', Z_pval)"
   ]
  },
  {
   "cell_type": "markdown",
   "metadata": {},
   "source": [
    "Since pvalue is smaller than alpha(0.05), H0 is rejected. Randomness doen't exist."
   ]
  },
  {
   "cell_type": "markdown",
   "metadata": {},
   "source": [
    "## Outliers\n",
    "\n",
    "當error >2 or <-2 ,可以當成outliers"
   ]
  },
  {
   "cell_type": "code",
   "execution_count": 55,
   "metadata": {
    "scrolled": true
   },
   "outputs": [
    {
     "name": "stdout",
     "output_type": "stream",
     "text": [
      "Outliers by SD = \n",
      "\n",
      "0       -4.234532\n",
      "1       -3.322882\n",
      "3        2.077920\n",
      "4       -2.712810\n",
      "5       31.761171\n",
      "6       -2.044192\n",
      "27       2.464893\n",
      "34       2.028627\n",
      "66       4.547171\n",
      "82       6.488887\n",
      "88       2.494382\n",
      "162      5.669484\n",
      "194      4.772354\n",
      "208      2.802030\n",
      "227      9.065810\n",
      "248      2.432257\n",
      "431      3.802947\n",
      "610      2.210936\n",
      "611      3.029385\n",
      "632      7.973511\n",
      "751      2.412966\n",
      "753      3.116132\n",
      "1152     2.139694\n",
      "Name: SD, dtype: float64\n"
     ]
    }
   ],
   "source": [
    "fb_c = pd.DataFrame(SD,columns = ['SD'])\n",
    "filter = (fb_c['SD'] < -2) | (fb_c['SD'] > 2)\n",
    "print(\"Outliers by SD = \\n\")\n",
    "print(fb_c['SD'].loc[filter])"
   ]
  },
  {
   "cell_type": "markdown",
   "metadata": {},
   "source": [
    "### Influential Observation\n",
    "\n",
    "足以大幅影響回歸線斜率的點"
   ]
  },
  {
   "cell_type": "code",
   "execution_count": 56,
   "metadata": {},
   "outputs": [
    {
     "name": "stdout",
     "output_type": "stream",
     "text": [
      "\n",
      "Influential Observations \n",
      "\n",
      "[0.1446569  0.09354478 0.06888408 ... 0.00072473 0.00072473 0.00072473]\n",
      "Influential Observations by hi = \n",
      "\n",
      "0     0.144657\n",
      "1     0.093545\n",
      "2     0.068884\n",
      "3     0.068884\n",
      "4     0.062536\n",
      "5     0.042122\n",
      "6     0.035445\n",
      "7     0.034294\n",
      "8     0.030418\n",
      "9     0.027285\n",
      "10    0.024807\n",
      "11    0.022588\n",
      "12    0.020171\n",
      "13    0.019057\n",
      "14    0.018347\n",
      "15    0.018223\n",
      "16    0.018018\n",
      "17    0.016574\n",
      "18    0.015722\n",
      "19    0.014705\n",
      "20    0.013802\n",
      "21    0.009873\n",
      "22    0.009635\n",
      "23    0.009577\n",
      "24    0.009228\n",
      "25    0.008089\n",
      "26    0.006982\n",
      "27    0.006450\n",
      "28    0.005696\n",
      "29    0.005139\n",
      "30    0.004995\n",
      "31    0.004714\n",
      "32    0.004518\n",
      "33    0.004518\n",
      "34    0.004291\n",
      "35    0.004291\n",
      "36    0.004198\n",
      "37    0.004124\n",
      "Name: hi, dtype: float64\n"
     ]
    }
   ],
   "source": [
    "print(\"\\nInfluential Observations \\n\")\n",
    "x_data = fb['Facebook_likes'].values\n",
    "y_data = fb['Avg_Daily_Pageviews'].values\n",
    "cov_mat1 = np.cov(y_data, x_data)\n",
    "x_data_bar = x_data.mean()\n",
    "data_nobs = len(x_data)\n",
    "h_val = 1 / data_nobs + (x_data - x_data_bar) ** 2 / (data_nobs - 1) / cov_mat1[1,1]\n",
    "print(h_val)\n",
    "fb_h = pd.DataFrame(h_val,columns = ['hi'])\n",
    "filter = (fb_h['hi'] > 6 / data_nobs )\n",
    "print(\"Influential Observations by hi = \\n\")\n",
    "print(fb_h['hi'].loc[filter])"
   ]
  },
  {
   "cell_type": "markdown",
   "metadata": {},
   "source": [
    "### Stdandard errors\n"
   ]
  },
  {
   "cell_type": "code",
   "execution_count": 44,
   "metadata": {},
   "outputs": [
    {
     "name": "stdout",
     "output_type": "stream",
     "text": [
      "MSE:  1.7564598563166072e+16\n",
      "Standard errors:  132531500.26754421\n"
     ]
    }
   ],
   "source": [
    "s2_e = fb_result.mse_resid\n",
    "print('MSE: ', s2_e)\n",
    "s_e = fb_result.mse_resid ** 0.5\n",
    "print('Standard errors: ', s_e)"
   ]
  },
  {
   "cell_type": "markdown",
   "metadata": {},
   "source": [
    "### Coefficient of correlation (and determination)\n"
   ]
  },
  {
   "cell_type": "code",
   "execution_count": 45,
   "metadata": {},
   "outputs": [
    {
     "name": "stdout",
     "output_type": "stream",
     "text": [
      "SSR =  2.5995605873485787e+19\n",
      "R2 =  0.058303141155683136\n"
     ]
    }
   ],
   "source": [
    "SSR = fb_result.ssr\n",
    "# SST = SSR + SSE\n",
    "R2 = fb_result.rsquared\n",
    "print(\"SSR = \", SSR)\n",
    "print(\"R2 = \", R2)"
   ]
  },
  {
   "cell_type": "markdown",
   "metadata": {},
   "source": [
    "### Testing Coefficient of correlation\n",
    "H0: r = 0 <br>\n",
    "H1: r $\\neq$ 0."
   ]
  },
  {
   "cell_type": "code",
   "execution_count": 32,
   "metadata": {
    "scrolled": false
   },
   "outputs": [
    {
     "name": "stdout",
     "output_type": "stream",
     "text": [
      "r =  0.21264984909255957\n",
      "t_critical =  1.961567075831078\n",
      "t =  8.37511814215767\n",
      "p_value =  1.262885740338516e-16\n"
     ]
    }
   ],
   "source": [
    "cor_mat = np.corrcoef(fb[['Avg_Daily_Pageviews', 'Facebook_likes']].values, rowvar = False)\n",
    "n = fb['Avg_Daily_Pageviews'].shape[0]\n",
    "# print(n)\n",
    "r_t_value = c_of_c_test(cor_mat[1,0], n,0.05)"
   ]
  },
  {
   "cell_type": "markdown",
   "metadata": {},
   "source": [
    "## Twitter_visitors"
   ]
  },
  {
   "cell_type": "code",
   "execution_count": 20,
   "metadata": {},
   "outputs": [
    {
     "data": {
      "text/html": [
       "<div>\n",
       "<style scoped>\n",
       "    .dataframe tbody tr th:only-of-type {\n",
       "        vertical-align: middle;\n",
       "    }\n",
       "\n",
       "    .dataframe tbody tr th {\n",
       "        vertical-align: top;\n",
       "    }\n",
       "\n",
       "    .dataframe thead th {\n",
       "        text-align: right;\n",
       "    }\n",
       "</style>\n",
       "<table border=\"1\" class=\"dataframe\">\n",
       "  <thead>\n",
       "    <tr style=\"text-align: right;\">\n",
       "      <th></th>\n",
       "      <th>Avg_Daily_Pageviews</th>\n",
       "      <th>Twitter_mentions</th>\n",
       "    </tr>\n",
       "  </thead>\n",
       "  <tbody>\n",
       "    <tr>\n",
       "      <th>1</th>\n",
       "      <td>4192159833</td>\n",
       "      <td>11200</td>\n",
       "    </tr>\n",
       "    <tr>\n",
       "      <th>2</th>\n",
       "      <td>2679159025</td>\n",
       "      <td>16500</td>\n",
       "    </tr>\n",
       "    <tr>\n",
       "      <th>3</th>\n",
       "      <td>1082985733</td>\n",
       "      <td>64400</td>\n",
       "    </tr>\n",
       "    <tr>\n",
       "      <th>4</th>\n",
       "      <td>383352336</td>\n",
       "      <td>1110</td>\n",
       "    </tr>\n",
       "    <tr>\n",
       "      <th>5</th>\n",
       "      <td>712760</td>\n",
       "      <td>12</td>\n",
       "    </tr>\n",
       "    <tr>\n",
       "      <th>...</th>\n",
       "      <td>...</td>\n",
       "      <td>...</td>\n",
       "    </tr>\n",
       "    <tr>\n",
       "      <th>2178</th>\n",
       "      <td>41390</td>\n",
       "      <td>85</td>\n",
       "    </tr>\n",
       "    <tr>\n",
       "      <th>2179</th>\n",
       "      <td>34177</td>\n",
       "      <td>3</td>\n",
       "    </tr>\n",
       "    <tr>\n",
       "      <th>2180</th>\n",
       "      <td>28566</td>\n",
       "      <td>27</td>\n",
       "    </tr>\n",
       "    <tr>\n",
       "      <th>2181</th>\n",
       "      <td>51010</td>\n",
       "      <td>15</td>\n",
       "    </tr>\n",
       "    <tr>\n",
       "      <th>2182</th>\n",
       "      <td>19894</td>\n",
       "      <td>256</td>\n",
       "    </tr>\n",
       "  </tbody>\n",
       "</table>\n",
       "<p>2093 rows × 2 columns</p>\n",
       "</div>"
      ],
      "text/plain": [
       "      Avg_Daily_Pageviews  Twitter_mentions\n",
       "1              4192159833             11200\n",
       "2              2679159025             16500\n",
       "3              1082985733             64400\n",
       "4               383352336              1110\n",
       "5                  712760                12\n",
       "...                   ...               ...\n",
       "2178                41390                85\n",
       "2179                34177                 3\n",
       "2180                28566                27\n",
       "2181                51010                15\n",
       "2182                19894               256\n",
       "\n",
       "[2093 rows x 2 columns]"
      ]
     },
     "metadata": {},
     "output_type": "display_data"
    }
   ],
   "source": [
    "fb = df[df[\"Twitter_mentions\"].str.contains(\"-\")==False]\n",
    "fb = fb[['Avg_Daily_Pageviews','Twitter_mentions']]\n",
    "fb.reset_index(inplace = True, drop = True)\n",
    "fb.dropna(inplace=True)\n",
    "fb['Twitter_mentions'] = fb['Twitter_mentions'].apply(value_to_int)\n",
    "fb['Avg_Daily_Pageviews'] = fb['Avg_Daily_Pageviews'].apply(value_to_int)\n",
    "display(fb)"
   ]
  },
  {
   "cell_type": "code",
   "execution_count": 21,
   "metadata": {},
   "outputs": [
    {
     "data": {
      "image/png": "[encoded data removed]",
      "text/plain": [
       "<Figure size 480x320 with 1 Axes>"
      ]
     },
     "metadata": {
      "needs_background": "light"
     },
     "output_type": "display_data"
    }
   ],
   "source": [
    "# draw plot\n",
    "_ = sns.regplot(x='Twitter_mentions', y= 'Avg_Daily_Pageviews', data = fb, color = 'b', ci = None)\n",
    "plt.title('Scatter Plot for Twitter Mentions & Avg Daily Pageviews ')\n",
    "plt.xlabel('Twitter Mentions')\n",
    "plt.ylabel('Avg Daily Pageviews')\n",
    "plt.show()"
   ]
  },
  {
   "cell_type": "code",
   "execution_count": 22,
   "metadata": {},
   "outputs": [
    {
     "name": "stdout",
     "output_type": "stream",
     "text": [
      "                             OLS Regression Results                            \n",
      "===============================================================================\n",
      "Dep. Variable:     Avg_Daily_Pageviews   R-squared:                       0.002\n",
      "Model:                             OLS   Adj. R-squared:                  0.001\n",
      "Method:                  Least Squares   F-statistic:                     3.141\n",
      "Date:                 Tue, 10 May 2022   Prob (F-statistic):             0.0765\n",
      "Time:                         01:39:04   Log-Likelihood:                -41861.\n",
      "No. Observations:                 2093   AIC:                         8.373e+04\n",
      "Df Residuals:                     2091   BIC:                         8.374e+04\n",
      "Df Model:                            1                                         \n",
      "Covariance Type:             nonrobust                                         \n",
      "====================================================================================\n",
      "                       coef    std err          t      P>|t|      [0.025      0.975]\n",
      "------------------------------------------------------------------------------------\n",
      "Intercept          1.17e+07   2.57e+06      4.550      0.000    6.66e+06    1.67e+07\n",
      "Twitter_mentions     5.5638      3.139      1.772      0.076      -0.592      11.720\n",
      "==============================================================================\n",
      "Omnibus:                     5348.829   Durbin-Watson:                   0.331\n",
      "Prob(Omnibus):                  0.000   Jarque-Bera (JB):         70302079.639\n",
      "Skew:                          27.870   Prob(JB):                         0.00\n",
      "Kurtosis:                     899.121   Cond. No.                     8.20e+05\n",
      "==============================================================================\n",
      "\n",
      "Notes:\n",
      "[1] Standard Errors assume that the covariance matrix of the errors is correctly specified.\n",
      "[2] The condition number is large, 8.2e+05. This might indicate that there are\n",
      "strong multicollinearity or other numerical problems.\n",
      "\n",
      "Estimated model: y = 11700977.8644 + 5.5638 x\n",
      "The coefficients are 11700977.8644 and 5.5638\n"
     ]
    }
   ],
   "source": [
    "# Fit regression model \n",
    "fb_result = smf.ols('Avg_Daily_Pageviews~ Twitter_mentions', data=fb).fit()\n",
    "# Inspect the results\n",
    "print(fb_result.summary())\n",
    "\n",
    "b1 = fb_result.params[1]\n",
    "b0 = fb_result.params[0]\n",
    "\n",
    "print(f\"\\nEstimated model: y = {b0:.4f} + {b1:.4f} x\")\n",
    "print(f\"The coefficients are {b0:.4f} and {b1:.4f}\")"
   ]
  },
  {
   "cell_type": "markdown",
   "metadata": {},
   "source": [
    "###    Standardized Residuals\n",
    "\n",
    "把殘差值標準化"
   ]
  },
  {
   "cell_type": "code",
   "execution_count": 23,
   "metadata": {},
   "outputs": [
    {
     "name": "stdout",
     "output_type": "stream",
     "text": [
      "Standardized Residuals \n",
      "\n",
      "[35.58668298 22.70662756  9.11653128 ... -0.09936567 -0.09917404\n",
      " -0.09945033]\n",
      "mu =  -0.0006101790414824634\n",
      "sigma =  1.0013331415824611\n"
     ]
    }
   ],
   "source": [
    "# studentized residual\n",
    "print(\"Standardized Residuals \\n\")\n",
    "st1, data1, ss3 = sso.summary_table(fb_result, alpha=0.05)\n",
    "SD = data1[:, 10]\n",
    "mu = np.mean(SD)\n",
    "sigma = np.std(SD)\n",
    "print(SD)\n",
    "print('mu = ', mu)\n",
    "print('sigma = ', sigma)\n"
   ]
  },
  {
   "cell_type": "markdown",
   "metadata": {},
   "source": [
    "### Normal test\n",
    "\n",
    "#### H0: Errors are normally distributed <br>\n",
    "#### H1: Errors are not normally distributed."
   ]
  },
  {
   "cell_type": "markdown",
   "metadata": {},
   "source": [
    "### QQ-plot and Histogram"
   ]
  },
  {
   "cell_type": "code",
   "execution_count": 24,
   "metadata": {},
   "outputs": [
    {
     "data": {
      "image/png": "[encoded data removed]",
      "text/plain": [
       "<Figure size 480x320 with 1 Axes>"
      ]
     },
     "metadata": {
      "needs_background": "light"
     },
     "output_type": "display_data"
    },
    {
     "data": {
      "image/png": "[encoded data removed]",
      "text/plain": [
       "<Figure size 480x320 with 1 Axes>"
      ]
     },
     "metadata": {
      "needs_background": "light"
     },
     "output_type": "display_data"
    }
   ],
   "source": [
    "counts, bins, patches = plt.hist(SD, 6, density=False, facecolor='g', alpha=0.75)\n",
    "plt.xlabel('Avg Daily Pageviews')\n",
    "plt.ylabel('Frequency')\n",
    "plt.title('Histogram of Standard Residuals Avg Daily Pageviews & Twitter Mentions')\n",
    "plt.grid(True)\n",
    "bin_centers = [np.mean(k) for k in zip(bins[:-1], bins[1:])]\n",
    "plt.show()\n",
    "fig = sm.qqplot(SD, stats.norm, fit=True, line='45')"
   ]
  },
  {
   "cell_type": "markdown",
   "metadata": {},
   "source": [
    "#### Shapiro Test"
   ]
  },
  {
   "cell_type": "code",
   "execution_count": 25,
   "metadata": {
    "tags": []
   },
   "outputs": [
    {
     "name": "stdout",
     "output_type": "stream",
     "text": [
      "Shapiro Test\n",
      "Statistics=0.063, p=0.000\n"
     ]
    }
   ],
   "source": [
    "print('Shapiro Test')\n",
    "stat, p = stats.shapiro(SD)\n",
    "print('Statistics=%.3f, p=%.3f' % (stat, p))"
   ]
  },
  {
   "cell_type": "markdown",
   "metadata": {},
   "source": [
    "Since pvalue is smaller than alpha(0.05), H0 is rejected. Errors are not normally distributed."
   ]
  },
  {
   "cell_type": "markdown",
   "metadata": {},
   "source": [
    "### Chi test"
   ]
  },
  {
   "cell_type": "code",
   "execution_count": 26,
   "metadata": {},
   "outputs": [
    {
     "name": "stdout",
     "output_type": "stream",
     "text": [
      "Chi-squared test: statistics = 8171.9276, p-value = 0.0000\n",
      "Critical value = 7.8147 (defree of freedom = 3)\n",
      "0.0\n"
     ]
    }
   ],
   "source": [
    "chi2_pval = Chi_Square_for_Normality(SD, 6, 0.05) \n",
    "print(chi2_pval)"
   ]
  },
  {
   "cell_type": "markdown",
   "metadata": {},
   "source": [
    "### H0: Homoscedasticity <br>\n",
    "### H1: Heteroscedasticity"
   ]
  },
  {
   "cell_type": "code",
   "execution_count": 27,
   "metadata": {},
   "outputs": [
    {
     "data": {
      "image/png": "[encoded data removed]",
      "text/plain": [
       "<Figure size 480x320 with 1 Axes>"
      ]
     },
     "metadata": {
      "needs_background": "light"
     },
     "output_type": "display_data"
    }
   ],
   "source": [
    "\n",
    "y_pre = data1[:, 2]\n",
    "plt.plot(y_pre, SD, 'o', color = 'gray')\n",
    "plt.axhline(y=0, color = 'blue')\n",
    "plt.axhline(y=2, color = 'red')\n",
    "plt.axhline(y=-2, color = 'red')\n",
    "plt.title('Standardized Residual Plot')\n",
    "plt.xlabel('Pageviews')\n",
    "plt.ylabel('Standardized Residual')\n",
    "plt.show()"
   ]
  },
  {
   "cell_type": "markdown",
   "metadata": {},
   "source": [
    "The result seems to be Homoscedasticity. The spread of data points doesn't change much."
   ]
  },
  {
   "cell_type": "markdown",
   "metadata": {},
   "source": [
    "### Runs test\n",
    "\n",
    "測試independence <br>\n",
    "\n",
    "#### H0: Randomness exists \n",
    "#### H1: Randomness does not exist."
   ]
  },
  {
   "cell_type": "code",
   "execution_count": 28,
   "metadata": {},
   "outputs": [
    {
     "name": "stdout",
     "output_type": "stream",
     "text": [
      "runs =  576\n",
      "n1 =  1047\n",
      "n2 =  1046\n",
      "runs_exp =  1047.4997611084568\n",
      "stan_dev =  22.86918541631109\n",
      "z =  -20.61725210256798\n",
      "pval_z =  1.9216768858845797e-94\n",
      "p_value for Z-statistic=  1.9216768858845797e-94\n"
     ]
    }
   ],
   "source": [
    "SD_median = statistics.median(SD)\n",
    "Z_pval = runsTest(SD, SD_median) \n",
    "  \n",
    "print('p_value for Z-statistic= ', Z_pval)"
   ]
  },
  {
   "cell_type": "markdown",
   "metadata": {},
   "source": [
    "Since pvalue is smaller than alpha(0.05), H0 is rejected. Randomness doen't exist."
   ]
  },
  {
   "cell_type": "markdown",
   "metadata": {},
   "source": [
    "## Outliers\n",
    "\n",
    "當error >2 or <-2 ,可以當成outliers"
   ]
  },
  {
   "cell_type": "code",
   "execution_count": 29,
   "metadata": {},
   "outputs": [
    {
     "name": "stdout",
     "output_type": "stream",
     "text": [
      "Outliers by SD = \n",
      "\n",
      "0      35.586683\n",
      "1      22.706628\n",
      "2       9.116531\n",
      "3       3.163724\n",
      "6       3.281628\n",
      "26      3.040741\n",
      "84      2.208246\n",
      "138     5.426236\n",
      "174    -2.872730\n",
      "249     4.584161\n",
      "490     6.200231\n",
      "491     2.573605\n",
      "492     2.096857\n",
      "493     2.038437\n",
      "512     3.913272\n",
      "Name: SD, dtype: float64\n"
     ]
    }
   ],
   "source": [
    "fb_c = pd.DataFrame(SD,columns = ['SD'])\n",
    "filter = (fb_c['SD'] < -2) | (fb_c['SD'] > 2)\n",
    "print(\"Outliers by SD = \\n\")\n",
    "print(fb_c['SD'].loc[filter])"
   ]
  },
  {
   "cell_type": "markdown",
   "metadata": {},
   "source": [
    "### Influential Observation\n",
    "\n",
    "足以大幅影響回歸線斜率的點"
   ]
  },
  {
   "cell_type": "code",
   "execution_count": 31,
   "metadata": {},
   "outputs": [
    {
     "name": "stdout",
     "output_type": "stream",
     "text": [
      "\n",
      "Influential Observations \n",
      "\n",
      "[0.0004784  0.0004782  0.00047819 ... 0.00047896 0.00047896 0.00047895]\n",
      "Influential Observations by hi = \n",
      "\n",
      "15      0.008107\n",
      "17      0.125970\n",
      "26      0.029435\n",
      "93      0.003534\n",
      "174     0.743298\n",
      "394     0.003962\n",
      "1061    0.081580\n",
      "Name: hi, dtype: float64\n"
     ]
    }
   ],
   "source": [
    "print(\"\\nInfluential Observations \\n\")\n",
    "x_data = fb['Twitter_mentions'].values\n",
    "y_data = fb['Avg_Daily_Pageviews'].values\n",
    "cov_mat1 = np.cov(y_data, x_data)\n",
    "x_data_bar = x_data.mean()\n",
    "data_nobs = len(x_data)\n",
    "h_val = 1 / data_nobs + (x_data - x_data_bar) ** 2 / (data_nobs - 1) / cov_mat1[1,1]\n",
    "print(h_val)\n",
    "fb_h = pd.DataFrame(h_val,columns = ['hi'])\n",
    "filter = (fb_h['hi'] > 6 / data_nobs )\n",
    "print(\"Influential Observations by hi = \\n\")\n",
    "print(fb_h['hi'].loc[filter])"
   ]
  },
  {
   "cell_type": "markdown",
   "metadata": {},
   "source": [
    "### Stdandard errors\n"
   ]
  },
  {
   "cell_type": "code",
   "execution_count": 32,
   "metadata": {},
   "outputs": [
    {
     "name": "stdout",
     "output_type": "stream",
     "text": [
      "MSE:  1.3805996447682924e+16\n",
      "Standard errors:  117498921.04901612\n"
     ]
    }
   ],
   "source": [
    "s2_e = fb_result.mse_resid\n",
    "print('MSE: ', s2_e)\n",
    "s_e = fb_result.mse_resid ** 0.5\n",
    "print('Standard errors: ', s_e)"
   ]
  },
  {
   "cell_type": "markdown",
   "metadata": {},
   "source": [
    "### Coefficient of correlation (and determination)\n"
   ]
  },
  {
   "cell_type": "code",
   "execution_count": 33,
   "metadata": {},
   "outputs": [
    {
     "name": "stdout",
     "output_type": "stream",
     "text": [
      "SSR =  2.8868338572104995e+19\n",
      "R2 =  0.0015000192497816034\n"
     ]
    }
   ],
   "source": [
    "SSR = fb_result.ssr\n",
    "# SST = SSR + SSE\n",
    "R2 = fb_result.rsquared\n",
    "print(\"SSR = \", SSR)\n",
    "print(\"R2 = \", R2)"
   ]
  },
  {
   "cell_type": "markdown",
   "metadata": {},
   "source": [
    "### Testing Coefficient of correlation\n",
    "H0: r = 0 <br>\n",
    "H1: r $\\neq$ 0."
   ]
  },
  {
   "cell_type": "code",
   "execution_count": 35,
   "metadata": {
    "scrolled": false
   },
   "outputs": [
    {
     "name": "stdout",
     "output_type": "stream",
     "text": [
      "r =  0.038730081974894234\n",
      "t_critical =  1.961099145538133\n",
      "t =  1.7723578053112499\n",
      "p_value =  0.07648076264124146\n"
     ]
    }
   ],
   "source": [
    "cor_mat = np.corrcoef(fb[['Avg_Daily_Pageviews', 'Twitter_mentions']].values, rowvar = False)\n",
    "n = fb['Avg_Daily_Pageviews'].shape[0]\n",
    "# print(n)\n",
    "r_t_value = c_of_c_test(cor_mat[1,0], n,0.05)"
   ]
  },
  {
   "cell_type": "markdown",
   "metadata": {},
   "source": [
    "## Google_visitors"
   ]
  },
  {
   "cell_type": "code",
   "execution_count": 106,
   "metadata": {},
   "outputs": [
    {
     "data": {
      "text/html": [
       "<div>\n",
       "<style scoped>\n",
       "    .dataframe tbody tr th:only-of-type {\n",
       "        vertical-align: middle;\n",
       "    }\n",
       "\n",
       "    .dataframe tbody tr th {\n",
       "        vertical-align: top;\n",
       "    }\n",
       "\n",
       "    .dataframe thead th {\n",
       "        text-align: right;\n",
       "    }\n",
       "</style>\n",
       "<table border=\"1\" class=\"dataframe\">\n",
       "  <thead>\n",
       "    <tr style=\"text-align: right;\">\n",
       "      <th></th>\n",
       "      <th>Avg_Daily_Pageviews</th>\n",
       "      <th>Google_pluses</th>\n",
       "      <th>Website</th>\n",
       "    </tr>\n",
       "  </thead>\n",
       "  <tbody>\n",
       "    <tr>\n",
       "      <th>0</th>\n",
       "      <td>2.679159e+09</td>\n",
       "      <td>19300000</td>\n",
       "      <td>www.youtube.com</td>\n",
       "    </tr>\n",
       "    <tr>\n",
       "      <th>1</th>\n",
       "      <td>4.192160e+09</td>\n",
       "      <td>11700000</td>\n",
       "      <td>www.google.com</td>\n",
       "    </tr>\n",
       "    <tr>\n",
       "      <th>2</th>\n",
       "      <td>3.240750e+05</td>\n",
       "      <td>11700000</td>\n",
       "      <td>www.blogspot.co.za</td>\n",
       "    </tr>\n",
       "    <tr>\n",
       "      <th>3</th>\n",
       "      <td>6.631300e+04</td>\n",
       "      <td>11700000</td>\n",
       "      <td>www.blogspot.si</td>\n",
       "    </tr>\n",
       "    <tr>\n",
       "      <th>4</th>\n",
       "      <td>1.571130e+05</td>\n",
       "      <td>11700000</td>\n",
       "      <td>www.blogspot.rs</td>\n",
       "    </tr>\n",
       "    <tr>\n",
       "      <th>...</th>\n",
       "      <td>...</td>\n",
       "      <td>...</td>\n",
       "      <td>...</td>\n",
       "    </tr>\n",
       "    <tr>\n",
       "      <th>2802</th>\n",
       "      <td>1.512693e+06</td>\n",
       "      <td>1</td>\n",
       "      <td>www.unisa.ac.za</td>\n",
       "    </tr>\n",
       "    <tr>\n",
       "      <th>2803</th>\n",
       "      <td>1.815970e+05</td>\n",
       "      <td>1</td>\n",
       "      <td>www.boxden.com</td>\n",
       "    </tr>\n",
       "    <tr>\n",
       "      <th>2804</th>\n",
       "      <td>3.604824e+06</td>\n",
       "      <td>1</td>\n",
       "      <td>www.thevideo.me</td>\n",
       "    </tr>\n",
       "    <tr>\n",
       "      <th>2805</th>\n",
       "      <td>5.047000e+03</td>\n",
       "      <td>1</td>\n",
       "      <td>www.puntlandpost.net</td>\n",
       "    </tr>\n",
       "    <tr>\n",
       "      <th>2806</th>\n",
       "      <td>3.785700e+04</td>\n",
       "      <td>1</td>\n",
       "      <td>www.essevir.mr</td>\n",
       "    </tr>\n",
       "  </tbody>\n",
       "</table>\n",
       "<p>2807 rows × 3 columns</p>\n",
       "</div>"
      ],
      "text/plain": [
       "      Avg_Daily_Pageviews  Google_pluses               Website\n",
       "0            2.679159e+09       19300000       www.youtube.com\n",
       "1            4.192160e+09       11700000        www.google.com\n",
       "2            3.240750e+05       11700000    www.blogspot.co.za\n",
       "3            6.631300e+04       11700000       www.blogspot.si\n",
       "4            1.571130e+05       11700000       www.blogspot.rs\n",
       "...                   ...            ...                   ...\n",
       "2802         1.512693e+06              1       www.unisa.ac.za\n",
       "2803         1.815970e+05              1        www.boxden.com\n",
       "2804         3.604824e+06              1       www.thevideo.me\n",
       "2805         5.047000e+03              1  www.puntlandpost.net\n",
       "2806         3.785700e+04              1        www.essevir.mr\n",
       "\n",
       "[2807 rows x 3 columns]"
      ]
     },
     "metadata": {},
     "output_type": "display_data"
    }
   ],
   "source": [
    "fb = df[df[\"Google_pluses\"].str.contains(\"-\")==False]\n",
    "fb = fb[['Avg_Daily_Pageviews','Google_pluses','Website']]\n",
    "fb['Google_pluses'] = fb['Google_pluses'].apply(value_to_int)\n",
    "fb['Avg_Daily_Pageviews'] = fb['Avg_Daily_Pageviews'].apply(value_to_int)\n",
    "fb.dropna(inplace=True)\n",
    "fb.sort_values(by=['Google_pluses'], ascending = False, inplace=True)\n",
    "fb.reset_index(inplace = True, drop = True)\n",
    "#fb\n",
    "display(fb)"
   ]
  },
  {
   "cell_type": "code",
   "execution_count": 96,
   "metadata": {},
   "outputs": [
    {
     "data": {
      "image/png": "[encoded data removed]",
      "text/plain": [
       "<Figure size 480x320 with 1 Axes>"
      ]
     },
     "metadata": {
      "needs_background": "light"
     },
     "output_type": "display_data"
    }
   ],
   "source": [
    "# draw plot\n",
    "_ = sns.regplot(x='Google_pluses', y= 'Avg_Daily_Pageviews', data = fb, color = 'b', ci = None)\n",
    "#plt.plot(x=fb['Google_pluses'],y=fb['Avg_Daily_Pageviews'].mean())\n",
    "plt.axhline(y=fb['Avg_Daily_Pageviews'].mean(), color='r', linestyle='-')\n",
    "plt.title('Scatter Plot for Google Pluses & Avg Daily Pageviews ')\n",
    "plt.xlabel('Google Pluses')\n",
    "plt.ylabel('Avg Daily Pageviews')\n",
    "plt.show()"
   ]
  },
  {
   "cell_type": "code",
   "execution_count": 97,
   "metadata": {},
   "outputs": [
    {
     "name": "stdout",
     "output_type": "stream",
     "text": [
      "                             OLS Regression Results                            \n",
      "===============================================================================\n",
      "Dep. Variable:     Avg_Daily_Pageviews   R-squared:                       0.011\n",
      "Model:                             OLS   Adj. R-squared:                  0.011\n",
      "Method:                  Least Squares   F-statistic:                     20.63\n",
      "Date:                 Mon, 16 May 2022   Prob (F-statistic):           5.94e-06\n",
      "Time:                         15:51:10   Log-Likelihood:                -32043.\n",
      "No. Observations:                 1807   AIC:                         6.409e+04\n",
      "Df Residuals:                     1805   BIC:                         6.410e+04\n",
      "Df Model:                            1                                         \n",
      "Covariance Type:             nonrobust                                         \n",
      "=================================================================================\n",
      "                    coef    std err          t      P>|t|      [0.025      0.975]\n",
      "---------------------------------------------------------------------------------\n",
      "Intercept      1.145e+06   3.51e+05      3.265      0.001    4.57e+05    1.83e+06\n",
      "Google_pluses  6535.6689   1438.914      4.542      0.000    3713.556    9357.781\n",
      "==============================================================================\n",
      "Omnibus:                     3540.685   Durbin-Watson:                   2.028\n",
      "Prob(Omnibus):                  0.000   Jarque-Bera (JB):          5517003.872\n",
      "Skew:                          15.217   Prob(JB):                         0.00\n",
      "Kurtosis:                     271.977   Cond. No.                         298.\n",
      "==============================================================================\n",
      "\n",
      "Notes:\n",
      "[1] Standard Errors assume that the covariance matrix of the errors is correctly specified.\n",
      "\n",
      "Estimated model: y = 1144749.7385 + 6535.6689 x\n",
      "The coefficients are 1144749.7385 and 6535.6689\n"
     ]
    }
   ],
   "source": [
    "# Fit regression model \n",
    "fb_result = smf.ols('Avg_Daily_Pageviews~ Google_pluses', data=fb).fit()\n",
    "# Inspect the results\n",
    "print(fb_result.summary())\n",
    "\n",
    "b1 = fb_result.params[1]\n",
    "b0 = fb_result.params[0]\n",
    "\n",
    "print(f\"\\nEstimated model: y = {b0:.4f} + {b1:.4f} x\")\n",
    "print(f\"The coefficients are {b0:.4f} and {b1:.4f}\")"
   ]
  },
  {
   "cell_type": "markdown",
   "metadata": {},
   "source": [
    "###    Standardized Residuals\n",
    "\n",
    "把殘差值標準化"
   ]
  },
  {
   "cell_type": "code",
   "execution_count": 98,
   "metadata": {},
   "outputs": [
    {
     "name": "stdout",
     "output_type": "stream",
     "text": [
      "Standardized Residuals \n",
      "\n",
      "[ 0.38342584 -0.08380648 -0.25259468 ...  0.2017184  -0.09423833\n",
      " -0.09154085]\n",
      "mu =  -1.6760314916551765e-05\n",
      "sigma =  1.0003631786280356\n"
     ]
    }
   ],
   "source": [
    "# studentized residual\n",
    "print(\"Standardized Residuals \\n\")\n",
    "st1, data1, ss3 = sso.summary_table(fb_result, alpha=0.05)\n",
    "SD = data1[:, 10]\n",
    "mu = np.mean(SD)\n",
    "sigma = np.std(SD)\n",
    "print(SD)\n",
    "print('mu = ', mu)\n",
    "print('sigma = ', sigma)\n"
   ]
  },
  {
   "cell_type": "markdown",
   "metadata": {},
   "source": [
    "The result seems to be Homoscedasticity. The spread of data points doesn't change much."
   ]
  },
  {
   "cell_type": "markdown",
   "metadata": {},
   "source": [
    "### Runs test\n",
    "\n",
    "測試independence <br>\n",
    "\n",
    "#### H0: Randomness exists \n",
    "#### H1: Randomness does not exist."
   ]
  },
  {
   "cell_type": "code",
   "execution_count": 99,
   "metadata": {},
   "outputs": [
    {
     "name": "stdout",
     "output_type": "stream",
     "text": [
      "runs =  657\n",
      "n1 =  904\n",
      "n2 =  903\n",
      "runs_exp =  904.4997232982845\n",
      "stan_dev =  21.24851959245309\n",
      "z =  -11.647857264662797\n",
      "pval_z =  2.353009861328476e-31\n",
      "p_value for Z-statistic=  2.353009861328476e-31\n"
     ]
    }
   ],
   "source": [
    "SD_median = statistics.median(SD)\n",
    "Z_pval = runsTest(SD, SD_median) \n",
    "  \n",
    "print('p_value for Z-statistic= ', Z_pval)"
   ]
  },
  {
   "cell_type": "markdown",
   "metadata": {},
   "source": [
    "Since pvalue is smaller than alpha(0.05), H0 is rejected. Randomness doen't exist."
   ]
  },
  {
   "cell_type": "markdown",
   "metadata": {},
   "source": [
    "## Outliers\n",
    "\n",
    "當error >2 or <-2 ,可以當成outliers"
   ]
  },
  {
   "cell_type": "code",
   "execution_count": 100,
   "metadata": {},
   "outputs": [
    {
     "name": "stdout",
     "output_type": "stream",
     "text": [
      "Outliers by SD = \n",
      "\n",
      "93       3.497290\n",
      "113     20.275388\n",
      "139     16.199390\n",
      "205     20.895935\n",
      "209      2.997714\n",
      "241      2.936527\n",
      "343      2.149431\n",
      "425     11.837985\n",
      "448      2.044216\n",
      "487     12.280162\n",
      "532      5.686640\n",
      "589      3.209435\n",
      "648      5.246117\n",
      "757      3.197899\n",
      "863      3.138677\n",
      "983     11.685018\n",
      "1068     3.178061\n",
      "1285     3.991047\n",
      "1461     2.185201\n",
      "1546     2.349435\n",
      "Name: SD, dtype: float64\n"
     ]
    },
    {
     "data": {
      "text/plain": [
       "Int64Index([  93,  113,  139,  205,  209,  241,  343,  425,  448,  487,  532,\n",
       "             589,  648,  757,  863,  983, 1068, 1285, 1461, 1546],\n",
       "           dtype='int64')"
      ]
     },
     "execution_count": 100,
     "metadata": {},
     "output_type": "execute_result"
    }
   ],
   "source": [
    "fb_c = pd.DataFrame(SD,columns = ['SD'])\n",
    "filter = (fb_c['SD'] < -2) | (fb_c['SD'] > 2)\n",
    "print(\"Outliers by SD = \\n\")\n",
    "print(fb_c['SD'].loc[filter])\n",
    "out_index = fb_c['SD'].loc[filter].index\n",
    "out_index"
   ]
  },
  {
   "cell_type": "markdown",
   "metadata": {},
   "source": [
    "### Influential Observation\n",
    "\n",
    "足以大幅影響回歸線斜率的點"
   ]
  },
  {
   "cell_type": "code",
   "execution_count": 101,
   "metadata": {},
   "outputs": [
    {
     "name": "stdout",
     "output_type": "stream",
     "text": [
      "\n",
      "Influential Observations \n",
      "\n",
      "[0.00693045 0.00685513 0.00679893 ... 0.00082628 0.00082628 0.00082628]\n",
      "Influential Observations by hi = \n",
      "\n",
      "0      0.006930\n",
      "1      0.006855\n",
      "2      0.006799\n",
      "3      0.006780\n",
      "4      0.006780\n",
      "         ...   \n",
      "100    0.003414\n",
      "101    0.003414\n",
      "102    0.003402\n",
      "103    0.003376\n",
      "104    0.003351\n",
      "Name: hi, Length: 105, dtype: float64\n"
     ]
    },
    {
     "data": {
      "text/plain": [
       "Int64Index([  0,   1,   2,   3,   4,   5,   6,   7,   8,   9,\n",
       "            ...\n",
       "             95,  96,  97,  98,  99, 100, 101, 102, 103, 104],\n",
       "           dtype='int64', length=105)"
      ]
     },
     "execution_count": 101,
     "metadata": {},
     "output_type": "execute_result"
    }
   ],
   "source": [
    "print(\"\\nInfluential Observations \\n\")\n",
    "x_data = fb['Google_pluses'].values\n",
    "y_data = fb['Avg_Daily_Pageviews'].values\n",
    "cov_mat1 = np.cov(y_data, x_data)\n",
    "x_data_bar = x_data.mean()\n",
    "data_nobs = len(x_data)\n",
    "h_val = 1 / data_nobs + (x_data - x_data_bar) ** 2 / (data_nobs - 1) / cov_mat1[1,1]\n",
    "print(h_val)\n",
    "fb_h = pd.DataFrame(h_val,columns = ['hi'])\n",
    "filter = (fb_h['hi'] > 6 / data_nobs )\n",
    "print(\"Influential Observations by hi = \\n\")\n",
    "print(fb_h['hi'].loc[filter])\n",
    "influ_index = fb_h['hi'].loc[filter].index\n",
    "influ_index"
   ]
  },
  {
   "cell_type": "markdown",
   "metadata": {},
   "source": [
    "### Stdandard errors\n"
   ]
  },
  {
   "cell_type": "code",
   "execution_count": 102,
   "metadata": {},
   "outputs": [
    {
     "name": "stdout",
     "output_type": "stream",
     "text": [
      "MSE:  148065451360549.44\n",
      "Standard errors:  12168214.797600733\n"
     ]
    }
   ],
   "source": [
    "s2_e = fb_result.mse_resid\n",
    "print('MSE: ', s2_e)\n",
    "s_e = fb_result.mse_resid ** 0.5\n",
    "print('Standard errors: ', s_e)"
   ]
  },
  {
   "cell_type": "markdown",
   "metadata": {},
   "source": [
    "### Coefficient of correlation (and determination)\n"
   ]
  },
  {
   "cell_type": "code",
   "execution_count": 103,
   "metadata": {},
   "outputs": [
    {
     "name": "stdout",
     "output_type": "stream",
     "text": [
      "SSR =  2.672581397057917e+17\n",
      "R2 =  0.011300491557948211\n"
     ]
    }
   ],
   "source": [
    "SSR = fb_result.ssr\n",
    "# SST = SSR + SSE\n",
    "R2 = fb_result.rsquared\n",
    "print(\"SSR = \", SSR)\n",
    "print(\"R2 = \", R2)"
   ]
  },
  {
   "cell_type": "markdown",
   "metadata": {},
   "source": [
    "### Testing Coefficient of correlation\n",
    "H0: r = 0 <br>\n",
    "H1: r $\\neq$ 0."
   ]
  },
  {
   "cell_type": "code",
   "execution_count": 104,
   "metadata": {
    "scrolled": true
   },
   "outputs": [
    {
     "name": "stdout",
     "output_type": "stream",
     "text": [
      "r =  0.10630377019630344\n",
      "t_critical =  1.9612791289866973\n",
      "t =  4.542083476252226\n",
      "p_value =  5.9387599509752996e-06\n"
     ]
    }
   ],
   "source": [
    "cor_mat = np.corrcoef(fb[['Avg_Daily_Pageviews', 'Google_pluses']].values, rowvar = False)\n",
    "n = fb['Avg_Daily_Pageviews'].shape[0]\n",
    "# print(n)\n",
    "r_t_value = c_of_c_test(cor_mat[1,0], n,0.05)"
   ]
  },
  {
   "cell_type": "code",
   "execution_count": 105,
   "metadata": {},
   "outputs": [
    {
     "ename": "KeyError",
     "evalue": "'[93] not found in axis'",
     "output_type": "error",
     "traceback": [
      "\u001b[0;31m---------------------------------------------------------------------------\u001b[0m",
      "\u001b[0;31mKeyError\u001b[0m                                  Traceback (most recent call last)",
      "\u001b[0;32m<ipython-input-105-e30b67faefd0>\u001b[0m in \u001b[0;36m<module>\u001b[0;34m\u001b[0m\n\u001b[1;32m      1\u001b[0m \u001b[0;31m#new fb\u001b[0m\u001b[0;34m\u001b[0m\u001b[0;34m\u001b[0m\u001b[0;34m\u001b[0m\u001b[0m\n\u001b[1;32m      2\u001b[0m \u001b[0mcross\u001b[0m \u001b[0;34m=\u001b[0m \u001b[0mlist\u001b[0m\u001b[0;34m(\u001b[0m\u001b[0mset\u001b[0m\u001b[0;34m(\u001b[0m\u001b[0minflu_index\u001b[0m\u001b[0;34m)\u001b[0m\u001b[0;34m.\u001b[0m\u001b[0mintersection\u001b[0m\u001b[0;34m(\u001b[0m\u001b[0mout_index\u001b[0m\u001b[0;34m)\u001b[0m\u001b[0;34m)\u001b[0m\u001b[0;34m\u001b[0m\u001b[0;34m\u001b[0m\u001b[0m\n\u001b[0;32m----> 3\u001b[0;31m \u001b[0mfb\u001b[0m\u001b[0;34m.\u001b[0m\u001b[0mdrop\u001b[0m\u001b[0;34m(\u001b[0m\u001b[0mcross\u001b[0m\u001b[0;34m,\u001b[0m \u001b[0maxis\u001b[0m\u001b[0;34m=\u001b[0m\u001b[0;36m0\u001b[0m\u001b[0;34m,\u001b[0m \u001b[0minplace\u001b[0m\u001b[0;34m=\u001b[0m\u001b[0;32mTrue\u001b[0m\u001b[0;34m)\u001b[0m\u001b[0;34m\u001b[0m\u001b[0;34m\u001b[0m\u001b[0m\n\u001b[0m\u001b[1;32m      4\u001b[0m \u001b[0mdisplay\u001b[0m\u001b[0;34m(\u001b[0m\u001b[0mfb\u001b[0m\u001b[0;34m)\u001b[0m\u001b[0;34m\u001b[0m\u001b[0;34m\u001b[0m\u001b[0m\n\u001b[1;32m      5\u001b[0m \u001b[0;31m# draw plot\u001b[0m\u001b[0;34m\u001b[0m\u001b[0;34m\u001b[0m\u001b[0;34m\u001b[0m\u001b[0m\n",
      "\u001b[0;32m/opt/anaconda3/lib/python3.8/site-packages/pandas/core/frame.py\u001b[0m in \u001b[0;36mdrop\u001b[0;34m(self, labels, axis, index, columns, level, inplace, errors)\u001b[0m\n\u001b[1;32m   4161\u001b[0m                 \u001b[0mweight\u001b[0m  \u001b[0;36m1.0\u001b[0m     \u001b[0;36m0.8\u001b[0m\u001b[0;34m\u001b[0m\u001b[0;34m\u001b[0m\u001b[0m\n\u001b[1;32m   4162\u001b[0m         \"\"\"\n\u001b[0;32m-> 4163\u001b[0;31m         return super().drop(\n\u001b[0m\u001b[1;32m   4164\u001b[0m             \u001b[0mlabels\u001b[0m\u001b[0;34m=\u001b[0m\u001b[0mlabels\u001b[0m\u001b[0;34m,\u001b[0m\u001b[0;34m\u001b[0m\u001b[0;34m\u001b[0m\u001b[0m\n\u001b[1;32m   4165\u001b[0m             \u001b[0maxis\u001b[0m\u001b[0;34m=\u001b[0m\u001b[0maxis\u001b[0m\u001b[0;34m,\u001b[0m\u001b[0;34m\u001b[0m\u001b[0;34m\u001b[0m\u001b[0m\n",
      "\u001b[0;32m/opt/anaconda3/lib/python3.8/site-packages/pandas/core/generic.py\u001b[0m in \u001b[0;36mdrop\u001b[0;34m(self, labels, axis, index, columns, level, inplace, errors)\u001b[0m\n\u001b[1;32m   3885\u001b[0m         \u001b[0;32mfor\u001b[0m \u001b[0maxis\u001b[0m\u001b[0;34m,\u001b[0m \u001b[0mlabels\u001b[0m \u001b[0;32min\u001b[0m \u001b[0maxes\u001b[0m\u001b[0;34m.\u001b[0m\u001b[0mitems\u001b[0m\u001b[0;34m(\u001b[0m\u001b[0;34m)\u001b[0m\u001b[0;34m:\u001b[0m\u001b[0;34m\u001b[0m\u001b[0;34m\u001b[0m\u001b[0m\n\u001b[1;32m   3886\u001b[0m             \u001b[0;32mif\u001b[0m \u001b[0mlabels\u001b[0m \u001b[0;32mis\u001b[0m \u001b[0;32mnot\u001b[0m \u001b[0;32mNone\u001b[0m\u001b[0;34m:\u001b[0m\u001b[0;34m\u001b[0m\u001b[0;34m\u001b[0m\u001b[0m\n\u001b[0;32m-> 3887\u001b[0;31m                 \u001b[0mobj\u001b[0m \u001b[0;34m=\u001b[0m \u001b[0mobj\u001b[0m\u001b[0;34m.\u001b[0m\u001b[0m_drop_axis\u001b[0m\u001b[0;34m(\u001b[0m\u001b[0mlabels\u001b[0m\u001b[0;34m,\u001b[0m \u001b[0maxis\u001b[0m\u001b[0;34m,\u001b[0m \u001b[0mlevel\u001b[0m\u001b[0;34m=\u001b[0m\u001b[0mlevel\u001b[0m\u001b[0;34m,\u001b[0m \u001b[0merrors\u001b[0m\u001b[0;34m=\u001b[0m\u001b[0merrors\u001b[0m\u001b[0;34m)\u001b[0m\u001b[0;34m\u001b[0m\u001b[0;34m\u001b[0m\u001b[0m\n\u001b[0m\u001b[1;32m   3888\u001b[0m \u001b[0;34m\u001b[0m\u001b[0m\n\u001b[1;32m   3889\u001b[0m         \u001b[0;32mif\u001b[0m \u001b[0minplace\u001b[0m\u001b[0;34m:\u001b[0m\u001b[0;34m\u001b[0m\u001b[0;34m\u001b[0m\u001b[0m\n",
      "\u001b[0;32m/opt/anaconda3/lib/python3.8/site-packages/pandas/core/generic.py\u001b[0m in \u001b[0;36m_drop_axis\u001b[0;34m(self, labels, axis, level, errors)\u001b[0m\n\u001b[1;32m   3919\u001b[0m                 \u001b[0mnew_axis\u001b[0m \u001b[0;34m=\u001b[0m \u001b[0maxis\u001b[0m\u001b[0;34m.\u001b[0m\u001b[0mdrop\u001b[0m\u001b[0;34m(\u001b[0m\u001b[0mlabels\u001b[0m\u001b[0;34m,\u001b[0m \u001b[0mlevel\u001b[0m\u001b[0;34m=\u001b[0m\u001b[0mlevel\u001b[0m\u001b[0;34m,\u001b[0m \u001b[0merrors\u001b[0m\u001b[0;34m=\u001b[0m\u001b[0merrors\u001b[0m\u001b[0;34m)\u001b[0m\u001b[0;34m\u001b[0m\u001b[0;34m\u001b[0m\u001b[0m\n\u001b[1;32m   3920\u001b[0m             \u001b[0;32melse\u001b[0m\u001b[0;34m:\u001b[0m\u001b[0;34m\u001b[0m\u001b[0;34m\u001b[0m\u001b[0m\n\u001b[0;32m-> 3921\u001b[0;31m                 \u001b[0mnew_axis\u001b[0m \u001b[0;34m=\u001b[0m \u001b[0maxis\u001b[0m\u001b[0;34m.\u001b[0m\u001b[0mdrop\u001b[0m\u001b[0;34m(\u001b[0m\u001b[0mlabels\u001b[0m\u001b[0;34m,\u001b[0m \u001b[0merrors\u001b[0m\u001b[0;34m=\u001b[0m\u001b[0merrors\u001b[0m\u001b[0;34m)\u001b[0m\u001b[0;34m\u001b[0m\u001b[0;34m\u001b[0m\u001b[0m\n\u001b[0m\u001b[1;32m   3922\u001b[0m             \u001b[0mresult\u001b[0m \u001b[0;34m=\u001b[0m \u001b[0mself\u001b[0m\u001b[0;34m.\u001b[0m\u001b[0mreindex\u001b[0m\u001b[0;34m(\u001b[0m\u001b[0;34m**\u001b[0m\u001b[0;34m{\u001b[0m\u001b[0maxis_name\u001b[0m\u001b[0;34m:\u001b[0m \u001b[0mnew_axis\u001b[0m\u001b[0;34m}\u001b[0m\u001b[0;34m)\u001b[0m\u001b[0;34m\u001b[0m\u001b[0;34m\u001b[0m\u001b[0m\n\u001b[1;32m   3923\u001b[0m \u001b[0;34m\u001b[0m\u001b[0m\n",
      "\u001b[0;32m/opt/anaconda3/lib/python3.8/site-packages/pandas/core/indexes/base.py\u001b[0m in \u001b[0;36mdrop\u001b[0;34m(self, labels, errors)\u001b[0m\n\u001b[1;32m   5280\u001b[0m         \u001b[0;32mif\u001b[0m \u001b[0mmask\u001b[0m\u001b[0;34m.\u001b[0m\u001b[0many\u001b[0m\u001b[0;34m(\u001b[0m\u001b[0;34m)\u001b[0m\u001b[0;34m:\u001b[0m\u001b[0;34m\u001b[0m\u001b[0;34m\u001b[0m\u001b[0m\n\u001b[1;32m   5281\u001b[0m             \u001b[0;32mif\u001b[0m \u001b[0merrors\u001b[0m \u001b[0;34m!=\u001b[0m \u001b[0;34m\"ignore\"\u001b[0m\u001b[0;34m:\u001b[0m\u001b[0;34m\u001b[0m\u001b[0;34m\u001b[0m\u001b[0m\n\u001b[0;32m-> 5282\u001b[0;31m                 \u001b[0;32mraise\u001b[0m \u001b[0mKeyError\u001b[0m\u001b[0;34m(\u001b[0m\u001b[0;34mf\"{labels[mask]} not found in axis\"\u001b[0m\u001b[0;34m)\u001b[0m\u001b[0;34m\u001b[0m\u001b[0;34m\u001b[0m\u001b[0m\n\u001b[0m\u001b[1;32m   5283\u001b[0m             \u001b[0mindexer\u001b[0m \u001b[0;34m=\u001b[0m \u001b[0mindexer\u001b[0m\u001b[0;34m[\u001b[0m\u001b[0;34m~\u001b[0m\u001b[0mmask\u001b[0m\u001b[0;34m]\u001b[0m\u001b[0;34m\u001b[0m\u001b[0;34m\u001b[0m\u001b[0m\n\u001b[1;32m   5284\u001b[0m         \u001b[0;32mreturn\u001b[0m \u001b[0mself\u001b[0m\u001b[0;34m.\u001b[0m\u001b[0mdelete\u001b[0m\u001b[0;34m(\u001b[0m\u001b[0mindexer\u001b[0m\u001b[0;34m)\u001b[0m\u001b[0;34m\u001b[0m\u001b[0;34m\u001b[0m\u001b[0m\n",
      "\u001b[0;31mKeyError\u001b[0m: '[93] not found in axis'"
     ]
    }
   ],
   "source": [
    "#new fb\n",
    "cross = list(set(influ_index).intersection(out_index))\n",
    "fb.drop(cross, axis=0, inplace=True)\n",
    "display(fb)\n",
    "# draw plot\n",
    "_ = sns.regplot(x='Google_pluses', y= 'Avg_Daily_Pageviews', data = fb, color = 'b', ci = None)\n",
    "plt.title('Scatter Plot for Google Pluses & Avg Daily Pageviews ')\n",
    "plt.xlabel('Google Pluses')\n",
    "plt.ylabel('Avg Daily Pageviews')\n",
    "plt.show()"
   ]
  },
  {
   "cell_type": "code",
   "execution_count": 73,
   "metadata": {},
   "outputs": [
    {
     "name": "stdout",
     "output_type": "stream",
     "text": [
      "                             OLS Regression Results                            \n",
      "===============================================================================\n",
      "Dep. Variable:     Avg_Daily_Pageviews   R-squared:                       0.011\n",
      "Model:                             OLS   Adj. R-squared:                  0.011\n",
      "Method:                  Least Squares   F-statistic:                     30.55\n",
      "Date:                 Sun, 15 May 2022   Prob (F-statistic):           3.56e-08\n",
      "Time:                         16:44:13   Log-Likelihood:                -52535.\n",
      "No. Observations:                 2783   AIC:                         1.051e+05\n",
      "Df Residuals:                     2781   BIC:                         1.051e+05\n",
      "Df Model:                            1                                         \n",
      "Covariance Type:             nonrobust                                         \n",
      "=================================================================================\n",
      "                    coef    std err          t      P>|t|      [0.025      0.975]\n",
      "---------------------------------------------------------------------------------\n",
      "Intercept      6.331e+06   7.35e+05      8.614      0.000    4.89e+06    7.77e+06\n",
      "Google_pluses    11.5622      2.092      5.527      0.000       7.460      15.664\n",
      "==============================================================================\n",
      "Omnibus:                     5454.950   Durbin-Watson:                   1.770\n",
      "Prob(Omnibus):                  0.000   Jarque-Bera (JB):         12433589.962\n",
      "Skew:                          15.301   Prob(JB):                         0.00\n",
      "Kurtosis:                     329.019   Cond. No.                     3.57e+05\n",
      "==============================================================================\n",
      "\n",
      "Notes:\n",
      "[1] Standard Errors assume that the covariance matrix of the errors is correctly specified.\n",
      "[2] The condition number is large, 3.57e+05. This might indicate that there are\n",
      "strong multicollinearity or other numerical problems.\n",
      "\n",
      "Estimated model: y = 6331017.8097 + 11.5622 x\n",
      "The coefficients are 6331017.8097 and 11.5622\n"
     ]
    }
   ],
   "source": [
    "# Fit regression model \n",
    "fb_result = smf.ols('Avg_Daily_Pageviews~ Google_pluses', data=fb).fit()\n",
    "# Inspect the results\n",
    "print(fb_result.summary())\n",
    "\n",
    "b1 = fb_result.params[1]\n",
    "b0 = fb_result.params[0]\n",
    "\n",
    "print(f\"\\nEstimated model: y = {b0:.4f} + {b1:.4f} x\")\n",
    "print(f\"The coefficients are {b0:.4f} and {b1:.4f}\")"
   ]
  },
  {
   "cell_type": "markdown",
   "metadata": {},
   "source": [
    "## LinkedIn_visitors"
   ]
  },
  {
   "cell_type": "code",
   "execution_count": 50,
   "metadata": {},
   "outputs": [
    {
     "data": {
      "text/html": [
       "<div>\n",
       "<style scoped>\n",
       "    .dataframe tbody tr th:only-of-type {\n",
       "        vertical-align: middle;\n",
       "    }\n",
       "\n",
       "    .dataframe tbody tr th {\n",
       "        vertical-align: top;\n",
       "    }\n",
       "\n",
       "    .dataframe thead th {\n",
       "        text-align: right;\n",
       "    }\n",
       "</style>\n",
       "<table border=\"1\" class=\"dataframe\">\n",
       "  <thead>\n",
       "    <tr style=\"text-align: right;\">\n",
       "      <th></th>\n",
       "      <th>Avg_Daily_Pageviews</th>\n",
       "      <th>LinkedIn_mentions</th>\n",
       "    </tr>\n",
       "  </thead>\n",
       "  <tbody>\n",
       "    <tr>\n",
       "      <th>1</th>\n",
       "      <td>4192159833</td>\n",
       "      <td>1670</td>\n",
       "    </tr>\n",
       "    <tr>\n",
       "      <th>2</th>\n",
       "      <td>2679159025</td>\n",
       "      <td>60000</td>\n",
       "    </tr>\n",
       "    <tr>\n",
       "      <th>3</th>\n",
       "      <td>1082985733</td>\n",
       "      <td>6230</td>\n",
       "    </tr>\n",
       "    <tr>\n",
       "      <th>4</th>\n",
       "      <td>383352336</td>\n",
       "      <td>7500</td>\n",
       "    </tr>\n",
       "    <tr>\n",
       "      <th>5</th>\n",
       "      <td>712760</td>\n",
       "      <td>146</td>\n",
       "    </tr>\n",
       "    <tr>\n",
       "      <th>...</th>\n",
       "      <td>...</td>\n",
       "      <td>...</td>\n",
       "    </tr>\n",
       "    <tr>\n",
       "      <th>2161</th>\n",
       "      <td>41390</td>\n",
       "      <td>17</td>\n",
       "    </tr>\n",
       "    <tr>\n",
       "      <th>2162</th>\n",
       "      <td>34177</td>\n",
       "      <td>1</td>\n",
       "    </tr>\n",
       "    <tr>\n",
       "      <th>2163</th>\n",
       "      <td>1009</td>\n",
       "      <td>86</td>\n",
       "    </tr>\n",
       "    <tr>\n",
       "      <th>2164</th>\n",
       "      <td>28566</td>\n",
       "      <td>5</td>\n",
       "    </tr>\n",
       "    <tr>\n",
       "      <th>2165</th>\n",
       "      <td>19894</td>\n",
       "      <td>4</td>\n",
       "    </tr>\n",
       "  </tbody>\n",
       "</table>\n",
       "<p>2081 rows × 2 columns</p>\n",
       "</div>"
      ],
      "text/plain": [
       "      Avg_Daily_Pageviews  LinkedIn_mentions\n",
       "1              4192159833               1670\n",
       "2              2679159025              60000\n",
       "3              1082985733               6230\n",
       "4               383352336               7500\n",
       "5                  712760                146\n",
       "...                   ...                ...\n",
       "2161                41390                 17\n",
       "2162                34177                  1\n",
       "2163                 1009                 86\n",
       "2164                28566                  5\n",
       "2165                19894                  4\n",
       "\n",
       "[2081 rows x 2 columns]"
      ]
     },
     "metadata": {},
     "output_type": "display_data"
    }
   ],
   "source": [
    "fb = df[df[\"LinkedIn_mentions\"].str.contains(\"-\")==False]\n",
    "fb = fb[['Avg_Daily_Pageviews','LinkedIn_mentions']]\n",
    "fb.reset_index(inplace = True, drop = True)\n",
    "fb.dropna(inplace=True)\n",
    "fb['LinkedIn_mentions'] = fb['LinkedIn_mentions'].apply(value_to_int)\n",
    "fb['Avg_Daily_Pageviews'] = fb['Avg_Daily_Pageviews'].apply(value_to_int)\n",
    "display(fb)"
   ]
  },
  {
   "cell_type": "code",
   "execution_count": 51,
   "metadata": {},
   "outputs": [
    {
     "data": {
      "image/png": "[encoded data removed]",
      "text/plain": [
       "<Figure size 480x320 with 1 Axes>"
      ]
     },
     "metadata": {
      "needs_background": "light"
     },
     "output_type": "display_data"
    }
   ],
   "source": [
    "# draw plot\n",
    "_ = sns.regplot(x='LinkedIn_mentions', y= 'Avg_Daily_Pageviews', data = fb, color = 'b', ci = None)\n",
    "plt.title('Scatter Plot for LinkedIn Mentions & Avg Daily Pageviews ')\n",
    "plt.xlabel('LinkedIn Mentions')\n",
    "plt.ylabel('Avg Daily Pageviews')\n",
    "plt.show()"
   ]
  },
  {
   "cell_type": "code",
   "execution_count": 52,
   "metadata": {},
   "outputs": [
    {
     "name": "stdout",
     "output_type": "stream",
     "text": [
      "                             OLS Regression Results                            \n",
      "===============================================================================\n",
      "Dep. Variable:     Avg_Daily_Pageviews   R-squared:                       0.032\n",
      "Model:                             OLS   Adj. R-squared:                  0.031\n",
      "Method:                  Least Squares   F-statistic:                     67.94\n",
      "Date:                 Tue, 10 May 2022   Prob (F-statistic):           2.95e-16\n",
      "Time:                         01:43:32   Log-Likelihood:                -41595.\n",
      "No. Observations:                 2081   AIC:                         8.319e+04\n",
      "Df Residuals:                     2079   BIC:                         8.320e+04\n",
      "Df Model:                            1                                         \n",
      "Covariance Type:             nonrobust                                         \n",
      "=====================================================================================\n",
      "                        coef    std err          t      P>|t|      [0.025      0.975]\n",
      "-------------------------------------------------------------------------------------\n",
      "Intercept           1.04e+07   2.56e+06      4.069      0.000    5.39e+06    1.54e+07\n",
      "LinkedIn_mentions  3152.3908    382.454      8.243      0.000    2402.358    3902.424\n",
      "==============================================================================\n",
      "Omnibus:                     5312.678   Durbin-Watson:                   0.372\n",
      "Prob(Omnibus):                  0.000   Jarque-Bera (JB):         72212942.383\n",
      "Skew:                          27.762   Prob(JB):                         0.00\n",
      "Kurtosis:                     913.902   Cond. No.                     6.71e+03\n",
      "==============================================================================\n",
      "\n",
      "Notes:\n",
      "[1] Standard Errors assume that the covariance matrix of the errors is correctly specified.\n",
      "[2] The condition number is large, 6.71e+03. This might indicate that there are\n",
      "strong multicollinearity or other numerical problems.\n",
      "\n",
      "Estimated model: y = 10399031.4038 + 3152.3908 x\n",
      "The coefficients are 10399031.4038 and 3152.3908\n"
     ]
    }
   ],
   "source": [
    "# Fit regression model \n",
    "fb_result = smf.ols('Avg_Daily_Pageviews~ LinkedIn_mentions', data=fb).fit()\n",
    "# Inspect the results\n",
    "print(fb_result.summary())\n",
    "\n",
    "b1 = fb_result.params[1]\n",
    "b0 = fb_result.params[0]\n",
    "\n",
    "print(f\"\\nEstimated model: y = {b0:.4f} + {b1:.4f} x\")\n",
    "print(f\"The coefficients are {b0:.4f} and {b1:.4f}\")"
   ]
  },
  {
   "cell_type": "markdown",
   "metadata": {},
   "source": [
    "###    Standardized Residuals\n",
    "\n",
    "把殘差值標準化"
   ]
  },
  {
   "cell_type": "code",
   "execution_count": 53,
   "metadata": {},
   "outputs": [
    {
     "name": "stdout",
     "output_type": "stream",
     "text": [
      "Standardized Residuals \n",
      "\n",
      "[36.00404726 21.79709266  9.07855812 ... -0.09197429 -0.08953557\n",
      " -0.08958315]\n",
      "mu =  -0.0013413723556816482\n",
      "sigma =  1.0144791165997562\n"
     ]
    }
   ],
   "source": [
    "# studentized residual\n",
    "print(\"Standardized Residuals \\n\")\n",
    "st1, data1, ss3 = sso.summary_table(fb_result, alpha=0.05)\n",
    "SD = data1[:, 10]\n",
    "mu = np.mean(SD)\n",
    "sigma = np.std(SD)\n",
    "print(SD)\n",
    "print('mu = ', mu)\n",
    "print('sigma = ', sigma)\n"
   ]
  },
  {
   "cell_type": "markdown",
   "metadata": {},
   "source": [
    "### Normal test\n",
    "\n",
    "#### H0: Errors are normally distributed <br>\n",
    "#### H1: Errors are not normally distributed."
   ]
  },
  {
   "cell_type": "markdown",
   "metadata": {},
   "source": [
    "### QQ-plot and Histogram"
   ]
  },
  {
   "cell_type": "code",
   "execution_count": 54,
   "metadata": {},
   "outputs": [
    {
     "data": {
      "image/png": "[encoded data removed]",
      "text/plain": [
       "<Figure size 480x320 with 1 Axes>"
      ]
     },
     "metadata": {
      "needs_background": "light"
     },
     "output_type": "display_data"
    },
    {
     "data": {
      "image/png": "[encoded data removed]",
      "text/plain": [
       "<Figure size 480x320 with 1 Axes>"
      ]
     },
     "metadata": {
      "needs_background": "light"
     },
     "output_type": "display_data"
    }
   ],
   "source": [
    "counts, bins, patches = plt.hist(SD, 6, density=False, facecolor='g', alpha=0.75)\n",
    "plt.xlabel('Avg Daily Pageviews')\n",
    "plt.ylabel('Frequency')\n",
    "plt.title('Histogram of Standard Residuals Avg Daily Pageviews & LinkedIn Mentions')\n",
    "plt.grid(True)\n",
    "bin_centers = [np.mean(k) for k in zip(bins[:-1], bins[1:])]\n",
    "plt.show()\n",
    "fig = sm.qqplot(SD, stats.norm, fit=True, line='45')"
   ]
  },
  {
   "cell_type": "markdown",
   "metadata": {},
   "source": [
    "#### Shapiro Test"
   ]
  },
  {
   "cell_type": "code",
   "execution_count": 55,
   "metadata": {
    "tags": []
   },
   "outputs": [
    {
     "name": "stdout",
     "output_type": "stream",
     "text": [
      "Shapiro Test\n",
      "Statistics=0.071, p=0.000\n"
     ]
    }
   ],
   "source": [
    "print('Shapiro Test')\n",
    "stat, p = stats.shapiro(SD)\n",
    "print('Statistics=%.3f, p=%.3f' % (stat, p))"
   ]
  },
  {
   "cell_type": "markdown",
   "metadata": {},
   "source": [
    "Since pvalue is smaller than alpha(0.05), H0 is rejected. Errors are not normally distributed."
   ]
  },
  {
   "cell_type": "markdown",
   "metadata": {},
   "source": [
    "### Chi test"
   ]
  },
  {
   "cell_type": "code",
   "execution_count": 56,
   "metadata": {},
   "outputs": [
    {
     "name": "stdout",
     "output_type": "stream",
     "text": [
      "Chi-squared test: statistics = 7900.4359, p-value = 0.0000\n",
      "Critical value = 7.8147 (defree of freedom = 3)\n",
      "0.0\n"
     ]
    }
   ],
   "source": [
    "chi2_pval = Chi_Square_for_Normality(SD, 6, 0.05) \n",
    "print(chi2_pval)"
   ]
  },
  {
   "cell_type": "markdown",
   "metadata": {},
   "source": [
    "### H0: Homoscedasticity <br>\n",
    "### H1: Heteroscedasticity"
   ]
  },
  {
   "cell_type": "code",
   "execution_count": 57,
   "metadata": {},
   "outputs": [
    {
     "data": {
      "image/png": "[encoded data removed]",
      "text/plain": [
       "<Figure size 480x320 with 1 Axes>"
      ]
     },
     "metadata": {
      "needs_background": "light"
     },
     "output_type": "display_data"
    }
   ],
   "source": [
    "\n",
    "y_pre = data1[:, 2]\n",
    "plt.plot(y_pre, SD, 'o', color = 'gray')\n",
    "plt.axhline(y=0, color = 'blue')\n",
    "plt.axhline(y=2, color = 'red')\n",
    "plt.axhline(y=-2, color = 'red')\n",
    "plt.title('Standardized Residual Plot')\n",
    "plt.xlabel('Pageviews')\n",
    "plt.ylabel('Standardized Residual')\n",
    "plt.show()"
   ]
  },
  {
   "cell_type": "markdown",
   "metadata": {},
   "source": [
    "The result seems to be Homoscedasticity. The spread of data points doesn't change much."
   ]
  },
  {
   "cell_type": "markdown",
   "metadata": {},
   "source": [
    "### Runs test\n",
    "\n",
    "測試independence <br>\n",
    "\n",
    "#### H0: Randomness exists \n",
    "#### H1: Randomness does not exist."
   ]
  },
  {
   "cell_type": "code",
   "execution_count": 58,
   "metadata": {},
   "outputs": [
    {
     "name": "stdout",
     "output_type": "stream",
     "text": [
      "runs =  710\n",
      "n1 =  1041\n",
      "n2 =  1040\n",
      "runs_exp =  1041.4997597308986\n",
      "stan_dev =  22.80350059834276\n",
      "z =  -14.537231172085495\n",
      "pval_z =  7.038237697701136e-48\n",
      "p_value for Z-statistic=  7.038237697701136e-48\n"
     ]
    }
   ],
   "source": [
    "SD_median = statistics.median(SD)\n",
    "Z_pval = runsTest(SD, SD_median) \n",
    "  \n",
    "print('p_value for Z-statistic= ', Z_pval)"
   ]
  },
  {
   "cell_type": "markdown",
   "metadata": {},
   "source": [
    "Since pvalue is smaller than alpha(0.05), H0 is rejected. Randomness doen't exist."
   ]
  },
  {
   "cell_type": "markdown",
   "metadata": {},
   "source": [
    "## Outliers\n",
    "\n",
    "當error >2 or <-2 ,可以當成outliers"
   ]
  },
  {
   "cell_type": "code",
   "execution_count": 59,
   "metadata": {},
   "outputs": [
    {
     "name": "stdout",
     "output_type": "stream",
     "text": [
      "Outliers by SD = \n",
      "\n",
      "0      36.004047\n",
      "1      21.797093\n",
      "2       9.078558\n",
      "3       3.012028\n",
      "6       3.300736\n",
      "19     -8.461189\n",
      "83      2.090937\n",
      "139     5.333131\n",
      "242     4.470688\n",
      "492     6.156856\n",
      "493     2.565821\n",
      "494     2.124286\n",
      "495     2.066873\n",
      "514     3.944720\n",
      "Name: SD, dtype: float64\n"
     ]
    }
   ],
   "source": [
    "fb_c = pd.DataFrame(SD,columns = ['SD'])\n",
    "filter = (fb_c['SD'] < -2) | (fb_c['SD'] > 2)\n",
    "print(\"Outliers by SD = \\n\")\n",
    "print(fb_c['SD'].loc[filter])"
   ]
  },
  {
   "cell_type": "markdown",
   "metadata": {},
   "source": [
    "### Influential Observation\n",
    "\n",
    "足以大幅影響回歸線斜率的點"
   ]
  },
  {
   "cell_type": "code",
   "execution_count": 60,
   "metadata": {},
   "outputs": [
    {
     "name": "stdout",
     "output_type": "stream",
     "text": [
      "\n",
      "Influential Observations \n",
      "\n",
      "[0.00049181 0.03874921 0.00081865 ... 0.00048401 0.00048508 0.00048509]\n",
      "Influential Observations by hi = \n",
      "\n",
      "1       0.038749\n",
      "8       0.070448\n",
      "17      0.005113\n",
      "19      0.602273\n",
      "28      0.135188\n",
      "115     0.039137\n",
      "397     0.010954\n",
      "1073    0.069579\n",
      "1683    0.003244\n",
      "Name: hi, dtype: float64\n"
     ]
    }
   ],
   "source": [
    "print(\"\\nInfluential Observations \\n\")\n",
    "x_data = fb['LinkedIn_mentions'].values\n",
    "y_data = fb['Avg_Daily_Pageviews'].values\n",
    "cov_mat1 = np.cov(y_data, x_data)\n",
    "x_data_bar = x_data.mean()\n",
    "data_nobs = len(x_data)\n",
    "h_val = 1 / data_nobs + (x_data - x_data_bar) ** 2 / (data_nobs - 1) / cov_mat1[1,1]\n",
    "print(h_val)\n",
    "fb_h = pd.DataFrame(h_val,columns = ['hi'])\n",
    "filter = (fb_h['hi'] > 6 / data_nobs )\n",
    "print(\"Influential Observations by hi = \\n\")\n",
    "print(fb_h['hi'].loc[filter])"
   ]
  },
  {
   "cell_type": "markdown",
   "metadata": {},
   "source": [
    "### Stdandard errors\n"
   ]
  },
  {
   "cell_type": "code",
   "execution_count": 61,
   "metadata": {},
   "outputs": [
    {
     "name": "stdout",
     "output_type": "stream",
     "text": [
      "MSE:  1.3462793988311132e+16\n",
      "Standard errors:  116029280.73685165\n"
     ]
    }
   ],
   "source": [
    "s2_e = fb_result.mse_resid\n",
    "print('MSE: ', s2_e)\n",
    "s_e = fb_result.mse_resid ** 0.5\n",
    "print('Standard errors: ', s_e)"
   ]
  },
  {
   "cell_type": "markdown",
   "metadata": {},
   "source": [
    "### Coefficient of correlation (and determination)\n"
   ]
  },
  {
   "cell_type": "code",
   "execution_count": 62,
   "metadata": {},
   "outputs": [
    {
     "name": "stdout",
     "output_type": "stream",
     "text": [
      "SSR =  2.7989148701698843e+19\n",
      "R2 =  0.03164472908967053\n"
     ]
    }
   ],
   "source": [
    "SSR = fb_result.ssr\n",
    "# SST = SSR + SSE\n",
    "R2 = fb_result.rsquared\n",
    "print(\"SSR = \", SSR)\n",
    "print(\"R2 = \", R2)"
   ]
  },
  {
   "cell_type": "markdown",
   "metadata": {},
   "source": [
    "### Testing Coefficient of correlation\n",
    "H0: r = 0 <br>\n",
    "H1: r $\\neq$ 0."
   ]
  },
  {
   "cell_type": "code",
   "execution_count": 63,
   "metadata": {
    "scrolled": true
   },
   "outputs": [
    {
     "name": "stdout",
     "output_type": "stream",
     "text": [
      "r =  0.17788965425136646\n",
      "t_critical =  1.961105701444812\n",
      "t =  8.242530735740186\n",
      "p_value =  2.9494093923960474e-16\n"
     ]
    }
   ],
   "source": [
    "cor_mat = np.corrcoef(fb[['Avg_Daily_Pageviews', 'LinkedIn_mentions']].values, rowvar = False)\n",
    "n = fb['Avg_Daily_Pageviews'].shape[0]\n",
    "# print(n)\n",
    "r_t_value = c_of_c_test(cor_mat[1,0], n,0.05)"
   ]
  },
  {
   "cell_type": "markdown",
   "metadata": {},
   "source": [
    "## Pinterest_visitors"
   ]
  },
  {
   "cell_type": "code",
   "execution_count": 64,
   "metadata": {},
   "outputs": [
    {
     "data": {
      "text/html": [
       "<div>\n",
       "<style scoped>\n",
       "    .dataframe tbody tr th:only-of-type {\n",
       "        vertical-align: middle;\n",
       "    }\n",
       "\n",
       "    .dataframe tbody tr th {\n",
       "        vertical-align: top;\n",
       "    }\n",
       "\n",
       "    .dataframe thead th {\n",
       "        text-align: right;\n",
       "    }\n",
       "</style>\n",
       "<table border=\"1\" class=\"dataframe\">\n",
       "  <thead>\n",
       "    <tr style=\"text-align: right;\">\n",
       "      <th></th>\n",
       "      <th>Avg_Daily_Pageviews</th>\n",
       "      <th>Pinterest_pins</th>\n",
       "    </tr>\n",
       "  </thead>\n",
       "  <tbody>\n",
       "    <tr>\n",
       "      <th>0</th>\n",
       "      <td>4192159833</td>\n",
       "      <td>10800</td>\n",
       "    </tr>\n",
       "    <tr>\n",
       "      <th>1</th>\n",
       "      <td>2679159025</td>\n",
       "      <td>47</td>\n",
       "    </tr>\n",
       "    <tr>\n",
       "      <th>2</th>\n",
       "      <td>1082985733</td>\n",
       "      <td>4150</td>\n",
       "    </tr>\n",
       "    <tr>\n",
       "      <th>3</th>\n",
       "      <td>383352336</td>\n",
       "      <td>433</td>\n",
       "    </tr>\n",
       "    <tr>\n",
       "      <th>4</th>\n",
       "      <td>24690228</td>\n",
       "      <td>16</td>\n",
       "    </tr>\n",
       "    <tr>\n",
       "      <th>...</th>\n",
       "      <td>...</td>\n",
       "      <td>...</td>\n",
       "    </tr>\n",
       "    <tr>\n",
       "      <th>256</th>\n",
       "      <td>969149</td>\n",
       "      <td>1</td>\n",
       "    </tr>\n",
       "    <tr>\n",
       "      <th>257</th>\n",
       "      <td>887104</td>\n",
       "      <td>1</td>\n",
       "    </tr>\n",
       "    <tr>\n",
       "      <th>258</th>\n",
       "      <td>1702420</td>\n",
       "      <td>5</td>\n",
       "    </tr>\n",
       "    <tr>\n",
       "      <th>259</th>\n",
       "      <td>646099</td>\n",
       "      <td>5</td>\n",
       "    </tr>\n",
       "    <tr>\n",
       "      <th>260</th>\n",
       "      <td>574310</td>\n",
       "      <td>20</td>\n",
       "    </tr>\n",
       "  </tbody>\n",
       "</table>\n",
       "<p>260 rows × 2 columns</p>\n",
       "</div>"
      ],
      "text/plain": [
       "     Avg_Daily_Pageviews  Pinterest_pins\n",
       "0             4192159833           10800\n",
       "1             2679159025              47\n",
       "2             1082985733            4150\n",
       "3              383352336             433\n",
       "4               24690228              16\n",
       "..                   ...             ...\n",
       "256               969149               1\n",
       "257               887104               1\n",
       "258              1702420               5\n",
       "259               646099               5\n",
       "260               574310              20\n",
       "\n",
       "[260 rows x 2 columns]"
      ]
     },
     "metadata": {},
     "output_type": "display_data"
    }
   ],
   "source": [
    "fb = df[df[\"Pinterest_pins\"].str.contains(\"-\")==False]\n",
    "fb = fb[['Avg_Daily_Pageviews','Pinterest_pins']]\n",
    "fb.reset_index(inplace = True, drop = True)\n",
    "fb.dropna(inplace=True)\n",
    "fb['Pinterest_pins'] = fb['Pinterest_pins'].apply(value_to_int)\n",
    "fb['Avg_Daily_Pageviews'] = fb['Avg_Daily_Pageviews'].apply(value_to_int)\n",
    "display(fb)"
   ]
  },
  {
   "cell_type": "code",
   "execution_count": 65,
   "metadata": {},
   "outputs": [
    {
     "data": {
      "image/png": "[encoded data removed]",
      "text/plain": [
       "<Figure size 480x320 with 1 Axes>"
      ]
     },
     "metadata": {
      "needs_background": "light"
     },
     "output_type": "display_data"
    }
   ],
   "source": [
    "# draw plot\n",
    "_ = sns.regplot(x='Pinterest_pins', y= 'Avg_Daily_Pageviews', data = fb, color = 'b', ci = None)\n",
    "plt.title('Scatter Plot for Pinterest Pins & Avg Daily Pageviews ')\n",
    "plt.xlabel('Pinterest Pins')\n",
    "plt.ylabel('Avg Daily Pageviews')\n",
    "plt.show()"
   ]
  },
  {
   "cell_type": "code",
   "execution_count": 66,
   "metadata": {},
   "outputs": [
    {
     "name": "stdout",
     "output_type": "stream",
     "text": [
      "                             OLS Regression Results                            \n",
      "===============================================================================\n",
      "Dep. Variable:     Avg_Daily_Pageviews   R-squared:                       0.002\n",
      "Model:                             OLS   Adj. R-squared:                 -0.002\n",
      "Method:                  Least Squares   F-statistic:                    0.4375\n",
      "Date:                 Tue, 10 May 2022   Prob (F-statistic):              0.509\n",
      "Time:                         01:45:48   Log-Likelihood:                -5462.5\n",
      "No. Observations:                  260   AIC:                         1.093e+04\n",
      "Df Residuals:                      258   BIC:                         1.094e+04\n",
      "Df Model:                            1                                         \n",
      "Covariance Type:             nonrobust                                         \n",
      "==================================================================================\n",
      "                     coef    std err          t      P>|t|      [0.025      0.975]\n",
      "----------------------------------------------------------------------------------\n",
      "Intercept       5.919e+07   2.01e+07      2.942      0.004    1.96e+07    9.88e+07\n",
      "Pinterest_pins   735.2708   1111.587      0.661      0.509   -1453.667    2924.209\n",
      "==============================================================================\n",
      "Omnibus:                      473.366   Durbin-Watson:                   0.308\n",
      "Prob(Omnibus):                  0.000   Jarque-Bera (JB):           154851.505\n",
      "Skew:                          10.340   Prob(JB):                         0.00\n",
      "Kurtosis:                     120.755   Cond. No.                     1.82e+04\n",
      "==============================================================================\n",
      "\n",
      "Notes:\n",
      "[1] Standard Errors assume that the covariance matrix of the errors is correctly specified.\n",
      "[2] The condition number is large, 1.82e+04. This might indicate that there are\n",
      "strong multicollinearity or other numerical problems.\n",
      "\n",
      "Estimated model: y = 59186847.0619 + 735.2708 x\n",
      "The coefficients are 59186847.0619 and 735.2708\n"
     ]
    }
   ],
   "source": [
    "# Fit regression model \n",
    "fb_result = smf.ols('Avg_Daily_Pageviews~ Pinterest_pins', data=fb).fit()\n",
    "# Inspect the results\n",
    "print(fb_result.summary())\n",
    "\n",
    "b1 = fb_result.params[1]\n",
    "b0 = fb_result.params[0]\n",
    "\n",
    "print(f\"\\nEstimated model: y = {b0:.4f} + {b1:.4f} x\")\n",
    "print(f\"The coefficients are {b0:.4f} and {b1:.4f}\")"
   ]
  },
  {
   "cell_type": "markdown",
   "metadata": {},
   "source": [
    "###    Standardized Residuals\n",
    "\n",
    "把殘差值標準化"
   ]
  },
  {
   "cell_type": "code",
   "execution_count": 67,
   "metadata": {},
   "outputs": [
    {
     "name": "stdout",
     "output_type": "stream",
     "text": [
      "Standardized Residuals \n",
      "\n",
      "[ 1.27868875e+01  8.11719462e+00  3.16262663e+00  1.00335061e+00\n",
      " -1.06915296e-01  1.04722679e+00 -1.53670884e-01  3.65241999e-02\n",
      " -1.16556382e-01  3.02846242e-01  2.35539816e-01  4.55246837e-01\n",
      " -1.67871660e-01  4.37463034e-02 -3.32197459e-02  2.63841641e-01\n",
      "  1.05366069e+00 -1.42055152e-01  5.94982619e-02  2.70511933e-01\n",
      " -2.61429980e-02 -1.12552840e-01  3.01426608e-02 -1.26469923e-01\n",
      "  3.13407058e-01  6.56339173e-01 -1.04005587e-01 -1.59086148e-01\n",
      " -3.55685911e-02 -1.68205291e-01 -1.65636253e-01 -1.52424951e-01\n",
      " -3.06361865e-03 -1.07616557e-01 -1.65599848e-01 -1.36671708e-01\n",
      " -1.09579724e-01 -1.50173454e-01 -1.73320931e-01 -1.76997671e-01\n",
      " -1.80771974e-01  1.82672741e+00 -3.66906449e+00 -1.06074945e-01\n",
      " -1.51698610e-01  3.81793578e-01 -1.47055200e-01 -1.20196803e-01\n",
      " -1.75642721e-01 -1.41004459e-01 -1.06329303e-01 -4.28935846e-02\n",
      "  7.26783402e-02 -1.39417898e-01 -1.76269142e-01  3.01876022e-02\n",
      " -1.79360298e-01 -1.72907868e-01 -1.78917737e-01  5.20097997e-01\n",
      "  3.42710203e-02 -1.70102679e-01 -1.03843654e-01 -1.35274082e-01\n",
      " -1.69478533e-01 -1.78658992e-01 -1.81343906e-01 -1.38040274e-01\n",
      " -1.76466844e-01 -1.73352707e-01 -1.33462518e-01 -6.24154831e-02\n",
      " -1.07024136e-01 -1.81502781e-01 -1.81503125e-01 -1.77090719e-01\n",
      " -1.29334901e-01 -7.00662773e-02 -6.95673579e-02 -1.77294979e-01\n",
      " -1.61773298e-01 -1.44435981e-01 -1.60023444e-01 -1.76866024e-01\n",
      " -1.78325364e-01 -1.81486890e-01 -1.50951918e-01 -1.39411198e-01\n",
      " -1.67331503e-01 -1.78833748e-01 -1.79789872e-01 -1.66696016e-01\n",
      " -1.82440117e-01  2.62599452e-01 -1.40042045e-01 -1.44819503e-01\n",
      " -1.75919667e-01 -1.68046419e-01 -1.21998915e-01 -1.82095366e-01\n",
      " -1.19495495e-01 -1.78359646e-01 -1.76834252e-01 -1.80919508e-01\n",
      " -1.81693425e-01  2.11386002e+00  6.16058261e-01  5.94760417e-01\n",
      " -1.82326671e-01 -1.44295231e-01 -1.71160286e-01 -1.80343022e-01\n",
      " -1.82133493e-01 -1.40171417e-01 -1.63854545e-01  6.41318978e-02\n",
      " -1.80771974e-01 -8.65230680e-02 -1.84786465e-02 -1.63995214e-01\n",
      " -1.79526030e-01 -1.81266746e-01 -1.81185038e-01 -1.82177077e-01\n",
      " -1.82405418e-01 -1.81169150e-01 -1.68070238e-01 -1.78293588e-01\n",
      " -1.82657772e-01 -1.82749013e-01 -1.78979007e-01 -1.81439230e-01\n",
      " -1.66378276e-01 -1.71843432e-01 -1.78134716e-01 -1.79841460e-01\n",
      " -1.81920607e-01 -1.41276685e-01 -1.68588857e-01 -1.58593605e-01\n",
      " -1.45883938e-01 -1.65751894e-01 -1.83034119e-01 -1.71207987e-01\n",
      " -1.60981218e-01 -1.52404471e-01 -1.81698010e-01 -1.40643477e-01\n",
      " -1.15710092e-01 -1.70297877e-01 -1.67408863e-01 -1.63836342e-01\n",
      " -1.82111039e-01 -1.80454231e-01 -1.80683551e-01 -1.81214576e-01\n",
      " -1.81897757e-01 -1.82220579e-01 -1.82449740e-01 -1.82480080e-01\n",
      " -1.83326559e-01 -1.21926218e-01 -1.64496854e-01 -1.69015531e-01\n",
      " -1.77673992e-01 -1.80964893e-01 -1.82123966e-01 -1.81486890e-01\n",
      " -1.67569807e-01 -1.82616463e-01 -1.81693425e-01  9.81348114e-02\n",
      " -1.80215926e-01 -1.82179570e-01 -1.82645713e-01 -1.82697869e-01\n",
      " -1.82722964e-01 -1.59710251e-01 -1.69730453e-01 -1.72265597e-01\n",
      "  3.90622845e-01 -8.53595298e-02 -1.72002304e-01 -1.77038509e-01\n",
      " -1.79156079e-01 -1.74051738e-01 -1.82370717e-01 -1.68729566e-01\n",
      " -1.82707018e-01 -1.78976732e-01 -1.79342135e-01 -1.78547783e-01\n",
      " -1.80908170e-01 -1.82833786e-01 -1.75862865e-01 -1.81600377e-01\n",
      " -1.82803758e-01 -1.73831594e-01 -1.50257950e-01 -1.82102914e-01\n",
      " -1.65903939e-01 -1.82664812e-01 -8.82410993e-02 -1.57343117e-01\n",
      " -1.56866505e-01 -1.70620129e-01 -1.68895260e-01 -1.72022742e-01\n",
      " -1.80628990e-01 -1.78740703e-01 -1.80327135e-01 -1.82205466e-01\n",
      " -1.61614427e-01 -9.15796617e-02 -1.82081068e-01 -1.74721270e-01\n",
      " -1.68164495e-01 -1.75974074e-01 -1.77912297e-01 -1.82351755e-01\n",
      " -1.83318977e-01 -1.80427005e-01  6.80922743e-02 -8.44100342e-02\n",
      " -1.68793153e-01 -1.66219404e-01 -1.78230040e-01 -1.78770203e-01\n",
      " -1.78325364e-01 -1.52095789e-01 -1.76725316e-01 -1.81885226e-01\n",
      " -1.82003222e-01 -1.31120464e-01 -1.82373390e-01 -1.82452826e-01\n",
      " -1.54925964e-01 -1.68699380e-01 -1.73591011e-01 -1.56723562e-01\n",
      " -1.78899571e-01 -1.78754312e-01 -1.77499233e-01 -1.77626332e-01\n",
      " -1.23467265e-01 -1.35716208e-01 -1.56089245e-01 -1.56058498e-01\n",
      " -1.82026835e-01 -1.67506259e-01 -1.65922142e-01 -1.72560627e-01\n",
      " -1.75413514e-01 -1.78498470e-01 -1.79905008e-01 -1.80374795e-01\n",
      " -1.80628990e-01 -1.78112044e-01 -1.81384782e-01 -1.81641327e-01]\n",
      "mu =  -0.012143528572733372\n",
      "sigma =  1.0234514532452306\n"
     ]
    }
   ],
   "source": [
    "# studentized residual\n",
    "print(\"Standardized Residuals \\n\")\n",
    "st1, data1, ss3 = sso.summary_table(fb_result, alpha=0.05)\n",
    "SD = data1[:, 10]\n",
    "mu = np.mean(SD)\n",
    "sigma = np.std(SD)\n",
    "print(SD)\n",
    "print('mu = ', mu)\n",
    "print('sigma = ', sigma)\n"
   ]
  },
  {
   "cell_type": "markdown",
   "metadata": {},
   "source": [
    "### Normal test\n",
    "\n",
    "#### H0: Errors are normally distributed <br>\n",
    "#### H1: Errors are not normally distributed."
   ]
  },
  {
   "cell_type": "markdown",
   "metadata": {},
   "source": [
    "### QQ-plot and Histogram"
   ]
  },
  {
   "cell_type": "code",
   "execution_count": 68,
   "metadata": {},
   "outputs": [
    {
     "data": {
      "image/png": "[encoded data removed]",
      "text/plain": [
       "<Figure size 480x320 with 1 Axes>"
      ]
     },
     "metadata": {
      "needs_background": "light"
     },
     "output_type": "display_data"
    },
    {
     "data": {
      "image/png": "[encoded data removed]",
      "text/plain": [
       "<Figure size 480x320 with 1 Axes>"
      ]
     },
     "metadata": {
      "needs_background": "light"
     },
     "output_type": "display_data"
    }
   ],
   "source": [
    "counts, bins, patches = plt.hist(SD, 6, density=False, facecolor='g', alpha=0.75)\n",
    "plt.xlabel('Avg Daily Pageviews')\n",
    "plt.ylabel('Frequency')\n",
    "plt.title('Histogram of Standard Residuals Avg Daily Pageviews & Pinterest Pins')\n",
    "plt.grid(True)\n",
    "bin_centers = [np.mean(k) for k in zip(bins[:-1], bins[1:])]\n",
    "plt.show()\n",
    "fig = sm.qqplot(SD, stats.norm, fit=True, line='45')"
   ]
  },
  {
   "cell_type": "markdown",
   "metadata": {},
   "source": [
    "#### Shapiro Test"
   ]
  },
  {
   "cell_type": "code",
   "execution_count": 69,
   "metadata": {
    "tags": []
   },
   "outputs": [
    {
     "name": "stdout",
     "output_type": "stream",
     "text": [
      "Shapiro Test\n",
      "Statistics=0.185, p=0.000\n"
     ]
    }
   ],
   "source": [
    "print('Shapiro Test')\n",
    "stat, p = stats.shapiro(SD)\n",
    "print('Statistics=%.3f, p=%.3f' % (stat, p))"
   ]
  },
  {
   "cell_type": "markdown",
   "metadata": {},
   "source": [
    "Since pvalue is smaller than alpha(0.05), H0 is rejected. Errors are not normally distributed."
   ]
  },
  {
   "cell_type": "markdown",
   "metadata": {},
   "source": [
    "### Chi test"
   ]
  },
  {
   "cell_type": "code",
   "execution_count": 70,
   "metadata": {},
   "outputs": [
    {
     "name": "stdout",
     "output_type": "stream",
     "text": [
      "Chi-squared test: statistics = 950.1860, p-value = 0.0000\n",
      "Critical value = 7.8147 (defree of freedom = 3)\n",
      "1.150859582663572e-205\n"
     ]
    }
   ],
   "source": [
    "chi2_pval = Chi_Square_for_Normality(SD, 6, 0.05) \n",
    "print(chi2_pval)"
   ]
  },
  {
   "cell_type": "markdown",
   "metadata": {},
   "source": [
    "### H0: Homoscedasticity <br>\n",
    "### H1: Heteroscedasticity"
   ]
  },
  {
   "cell_type": "code",
   "execution_count": 71,
   "metadata": {},
   "outputs": [
    {
     "data": {
      "image/png": "[encoded data removed]",
      "text/plain": [
       "<Figure size 480x320 with 1 Axes>"
      ]
     },
     "metadata": {
      "needs_background": "light"
     },
     "output_type": "display_data"
    }
   ],
   "source": [
    "\n",
    "y_pre = data1[:, 2]\n",
    "plt.plot(y_pre, SD, 'o', color = 'gray')\n",
    "plt.axhline(y=0, color = 'blue')\n",
    "plt.axhline(y=2, color = 'red')\n",
    "plt.axhline(y=-2, color = 'red')\n",
    "plt.title('Standardized Residual Plot')\n",
    "plt.xlabel('Pageviews')\n",
    "plt.ylabel('Standardized Residual')\n",
    "plt.show()"
   ]
  },
  {
   "cell_type": "markdown",
   "metadata": {},
   "source": [
    "The result seems to be Homoscedasticity. The spread of data points doesn't change much."
   ]
  },
  {
   "cell_type": "markdown",
   "metadata": {},
   "source": [
    "### Runs test\n",
    "\n",
    "測試independence <br>\n",
    "\n",
    "#### H0: Randomness exists \n",
    "#### H1: Randomness does not exist."
   ]
  },
  {
   "cell_type": "code",
   "execution_count": 72,
   "metadata": {},
   "outputs": [
    {
     "name": "stdout",
     "output_type": "stream",
     "text": [
      "runs =  90\n",
      "n1 =  130\n",
      "n2 =  130\n",
      "runs_exp =  131.0\n",
      "stan_dev =  8.04667849171537\n",
      "z =  -5.095270059840519\n",
      "pval_z =  3.4824446815557084e-07\n",
      "p_value for Z-statistic=  3.4824446815557084e-07\n"
     ]
    }
   ],
   "source": [
    "SD_median = statistics.median(SD)\n",
    "Z_pval = runsTest(SD, SD_median) \n",
    "  \n",
    "print('p_value for Z-statistic= ', Z_pval)"
   ]
  },
  {
   "cell_type": "markdown",
   "metadata": {},
   "source": [
    "Since pvalue is smaller than alpha(0.05), H0 is rejected. Randomness doen't exist."
   ]
  },
  {
   "cell_type": "markdown",
   "metadata": {},
   "source": [
    "## Outliers\n",
    "\n",
    "當error >2 or <-2 ,可以當成outliers"
   ]
  },
  {
   "cell_type": "code",
   "execution_count": 73,
   "metadata": {},
   "outputs": [
    {
     "name": "stdout",
     "output_type": "stream",
     "text": [
      "Outliers by SD = \n",
      "\n",
      "0      12.786888\n",
      "1       8.117195\n",
      "2       3.162627\n",
      "42     -3.669064\n",
      "105     2.113860\n",
      "Name: SD, dtype: float64\n"
     ]
    }
   ],
   "source": [
    "fb_c = pd.DataFrame(SD,columns = ['SD'])\n",
    "filter = (fb_c['SD'] < -2) | (fb_c['SD'] > 2)\n",
    "print(\"Outliers by SD = \\n\")\n",
    "print(fb_c['SD'].loc[filter])"
   ]
  },
  {
   "cell_type": "markdown",
   "metadata": {},
   "source": [
    "### Influential Observation\n",
    "\n",
    "足以大幅影響回歸線斜率的點"
   ]
  },
  {
   "cell_type": "code",
   "execution_count": 74,
   "metadata": {},
   "outputs": [
    {
     "name": "stdout",
     "output_type": "stream",
     "text": [
      "\n",
      "Influential Observations \n",
      "\n",
      "[0.00488826 0.00386805 0.00393496 0.0038574  0.00386906 0.00386942\n",
      " 0.00386952 0.00386764 0.00386956 0.00386841 0.00386919 0.00385308\n",
      " 0.00386956 0.00386867 0.00386877 0.00386952 0.0038661  0.00386956\n",
      " 0.00386466 0.00386949 0.00386956 0.00386956 0.00386952 0.00386956\n",
      " 0.00386949 0.00386629 0.00386956 0.00386933 0.00386949 0.00386956\n",
      " 0.0038688  0.00386916 0.00386949 0.00386926 0.00386933 0.00386952\n",
      " 0.00386936 0.00386956 0.00386956 0.00386946 0.00386956 0.00385544\n",
      " 0.98105174 0.01717813 0.00386956 0.00386825 0.0038687  0.00386952\n",
      " 0.00386952 0.0038689  0.00386114 0.00385195 0.00386669 0.00386956\n",
      " 0.00386942 0.00386789 0.00386952 0.00386956 0.00386949 0.00386949\n",
      " 0.00386949 0.00386946 0.00386295 0.00386726 0.00386952 0.00386956\n",
      " 0.00386956 0.00386949 0.00386796 0.00386956 0.00386952 0.00386952\n",
      " 0.00386956 0.00386956 0.00386751 0.00386949 0.00402693 0.00386939\n",
      " 0.00386767 0.00386952 0.00386952 0.00386936 0.00386956 0.00386952\n",
      " 0.00386956 0.00386956 0.00386956 0.00386896 0.00386956 0.00386956\n",
      " 0.00386956 0.00386956 0.00386956 0.00386767 0.00386949 0.00386956\n",
      " 0.00386919 0.00386956 0.00386919 0.00386956 0.00386956 0.00386815\n",
      " 0.00386952 0.00386949 0.00386956 0.00386906 0.00386952 0.00386939\n",
      " 0.00386936 0.00386956 0.00386956 0.00386956 0.00386956 0.00386946\n",
      " 0.00386929 0.00386939 0.00386956 0.00386919 0.00386942 0.00386956\n",
      " 0.00386919 0.00386952 0.00386956 0.00386952 0.00386939 0.00386956\n",
      " 0.00386361 0.00386956 0.00386956 0.00386952 0.00386952 0.00386956\n",
      " 0.00386956 0.00386956 0.00386956 0.00386946 0.00386956 0.00386956\n",
      " 0.00386952 0.00386956 0.00386956 0.00386942 0.00386942 0.00386933\n",
      " 0.00386949 0.00386946 0.00386926 0.00386952 0.00386825 0.00386939\n",
      " 0.00386844 0.00386956 0.00386949 0.00386956 0.003869   0.00386936\n",
      " 0.00386913 0.00386956 0.00386956 0.00386939 0.00386952 0.00386956\n",
      " 0.00386919 0.00386956 0.00386956 0.00386952 0.00386956 0.00386956\n",
      " 0.00386956 0.00386956 0.00386956 0.00386946 0.00386956 0.00386956\n",
      " 0.00386956 0.00386956 0.00386949 0.00386949 0.00386956 0.00386942\n",
      " 0.00386956 0.00385749 0.00386956 0.00386956 0.00386926 0.00386956\n",
      " 0.00386956 0.00386956 0.00386956 0.00386956 0.00386956 0.00386956\n",
      " 0.00386942 0.00386956 0.00386956 0.00386952 0.00386956 0.00386952\n",
      " 0.00385106 0.00386919 0.00386952 0.00386952 0.00386939 0.00386926\n",
      " 0.00386926 0.00386956 0.00386946 0.00386949 0.00386956 0.00386952\n",
      " 0.00386956 0.00386952 0.00386952 0.00386936 0.00386956 0.00386952\n",
      " 0.00386923 0.00386956 0.00386956 0.00386956 0.00386956 0.00386949\n",
      " 0.00386923 0.00386942 0.00386933 0.00386956 0.00386956 0.00386956\n",
      " 0.00386956 0.00386956 0.00386949 0.00386942 0.00386956 0.0038687\n",
      " 0.00386956 0.00386956 0.00386952 0.00386956 0.00386956 0.00386903\n",
      " 0.00386952 0.00386956 0.00386956 0.00386956 0.00386956 0.00386956\n",
      " 0.00622571 0.00386946 0.00386949 0.00386956 0.00386926 0.00386952\n",
      " 0.00386939 0.00386601 0.00386946 0.00386956 0.00386956 0.00386942\n",
      " 0.00386942 0.00386893]\n",
      "Influential Observations by hi = \n",
      "\n",
      "42    0.981052\n",
      "Name: hi, dtype: float64\n"
     ]
    }
   ],
   "source": [
    "print(\"\\nInfluential Observations \\n\")\n",
    "x_data = fb['Pinterest_pins'].values\n",
    "y_data = fb['Avg_Daily_Pageviews'].values\n",
    "cov_mat1 = np.cov(y_data, x_data)\n",
    "x_data_bar = x_data.mean()\n",
    "data_nobs = len(x_data)\n",
    "h_val = 1 / data_nobs + (x_data - x_data_bar) ** 2 / (data_nobs - 1) / cov_mat1[1,1]\n",
    "print(h_val)\n",
    "fb_h = pd.DataFrame(h_val,columns = ['hi'])\n",
    "filter = (fb_h['hi'] > 6 / data_nobs )\n",
    "print(\"Influential Observations by hi = \\n\")\n",
    "print(fb_h['hi'].loc[filter])"
   ]
  },
  {
   "cell_type": "markdown",
   "metadata": {},
   "source": [
    "### Stdandard errors\n"
   ]
  },
  {
   "cell_type": "code",
   "execution_count": 75,
   "metadata": {},
   "outputs": [
    {
     "name": "stdout",
     "output_type": "stream",
     "text": [
      "MSE:  1.0458107825083723e+17\n",
      "Standard errors:  323389978.5875209\n"
     ]
    }
   ],
   "source": [
    "s2_e = fb_result.mse_resid\n",
    "print('MSE: ', s2_e)\n",
    "s_e = fb_result.mse_resid ** 0.5\n",
    "print('Standard errors: ', s_e)"
   ]
  },
  {
   "cell_type": "markdown",
   "metadata": {},
   "source": [
    "### Coefficient of correlation (and determination)\n"
   ]
  },
  {
   "cell_type": "code",
   "execution_count": 76,
   "metadata": {},
   "outputs": [
    {
     "name": "stdout",
     "output_type": "stream",
     "text": [
      "SSR =  2.6981918188716007e+19\n",
      "R2 =  0.0016929817611738285\n"
     ]
    }
   ],
   "source": [
    "SSR = fb_result.ssr\n",
    "# SST = SSR + SSE\n",
    "R2 = fb_result.rsquared\n",
    "print(\"SSR = \", SSR)\n",
    "print(\"R2 = \", R2)"
   ]
  },
  {
   "cell_type": "markdown",
   "metadata": {},
   "source": [
    "### Testing Coefficient of correlation\n",
    "H0: r = 0 <br>\n",
    "H1: r $\\neq$ 0."
   ]
  },
  {
   "cell_type": "code",
   "execution_count": 77,
   "metadata": {
    "scrolled": true
   },
   "outputs": [
    {
     "name": "stdout",
     "output_type": "stream",
     "text": [
      "r =  0.04114585958724907\n",
      "t_critical =  1.9692013862332611\n",
      "t =  0.6614605239427631\n",
      "p_value =  0.5089073131878672\n"
     ]
    }
   ],
   "source": [
    "cor_mat = np.corrcoef(fb[['Avg_Daily_Pageviews', 'Pinterest_pins']].values, rowvar = False)\n",
    "n = fb['Avg_Daily_Pageviews'].shape[0]\n",
    "# print(n)\n",
    "r_t_value = c_of_c_test(cor_mat[1,0], n,0.05)"
   ]
  },
  {
   "cell_type": "markdown",
   "metadata": {},
   "source": [
    "## StumbleUpon_visitors"
   ]
  },
  {
   "cell_type": "code",
   "execution_count": 78,
   "metadata": {},
   "outputs": [
    {
     "data": {
      "text/html": [
       "<div>\n",
       "<style scoped>\n",
       "    .dataframe tbody tr th:only-of-type {\n",
       "        vertical-align: middle;\n",
       "    }\n",
       "\n",
       "    .dataframe tbody tr th {\n",
       "        vertical-align: top;\n",
       "    }\n",
       "\n",
       "    .dataframe thead th {\n",
       "        text-align: right;\n",
       "    }\n",
       "</style>\n",
       "<table border=\"1\" class=\"dataframe\">\n",
       "  <thead>\n",
       "    <tr style=\"text-align: right;\">\n",
       "      <th></th>\n",
       "      <th>Avg_Daily_Pageviews</th>\n",
       "      <th>StumbleUpon_views</th>\n",
       "    </tr>\n",
       "  </thead>\n",
       "  <tbody>\n",
       "    <tr>\n",
       "      <th>1</th>\n",
       "      <td>4192159833</td>\n",
       "      <td>246000</td>\n",
       "    </tr>\n",
       "    <tr>\n",
       "      <th>2</th>\n",
       "      <td>2679159025</td>\n",
       "      <td>329000</td>\n",
       "    </tr>\n",
       "    <tr>\n",
       "      <th>3</th>\n",
       "      <td>1082985733</td>\n",
       "      <td>23100</td>\n",
       "    </tr>\n",
       "    <tr>\n",
       "      <th>4</th>\n",
       "      <td>383352336</td>\n",
       "      <td>68900</td>\n",
       "    </tr>\n",
       "    <tr>\n",
       "      <th>5</th>\n",
       "      <td>712760</td>\n",
       "      <td>8</td>\n",
       "    </tr>\n",
       "    <tr>\n",
       "      <th>...</th>\n",
       "      <td>...</td>\n",
       "      <td>...</td>\n",
       "    </tr>\n",
       "    <tr>\n",
       "      <th>1734</th>\n",
       "      <td>56111</td>\n",
       "      <td>216</td>\n",
       "    </tr>\n",
       "    <tr>\n",
       "      <th>1735</th>\n",
       "      <td>61213</td>\n",
       "      <td>1</td>\n",
       "    </tr>\n",
       "    <tr>\n",
       "      <th>1736</th>\n",
       "      <td>10600</td>\n",
       "      <td>1</td>\n",
       "    </tr>\n",
       "    <tr>\n",
       "      <th>1737</th>\n",
       "      <td>1009</td>\n",
       "      <td>1</td>\n",
       "    </tr>\n",
       "    <tr>\n",
       "      <th>1738</th>\n",
       "      <td>19894</td>\n",
       "      <td>1</td>\n",
       "    </tr>\n",
       "  </tbody>\n",
       "</table>\n",
       "<p>1685 rows × 2 columns</p>\n",
       "</div>"
      ],
      "text/plain": [
       "      Avg_Daily_Pageviews  StumbleUpon_views\n",
       "1              4192159833             246000\n",
       "2              2679159025             329000\n",
       "3              1082985733              23100\n",
       "4               383352336              68900\n",
       "5                  712760                  8\n",
       "...                   ...                ...\n",
       "1734                56111                216\n",
       "1735                61213                  1\n",
       "1736                10600                  1\n",
       "1737                 1009                  1\n",
       "1738                19894                  1\n",
       "\n",
       "[1685 rows x 2 columns]"
      ]
     },
     "metadata": {},
     "output_type": "display_data"
    }
   ],
   "source": [
    "fb = df[df[\"StumbleUpon_views\"].str.contains(\"-\")==False]\n",
    "fb = fb[['Avg_Daily_Pageviews','StumbleUpon_views']]\n",
    "fb.reset_index(inplace = True, drop = True)\n",
    "fb.dropna(inplace=True)\n",
    "fb['StumbleUpon_views'] = fb['StumbleUpon_views'].apply(value_to_int)\n",
    "fb['Avg_Daily_Pageviews'] = fb['Avg_Daily_Pageviews'].apply(value_to_int)\n",
    "display(fb)"
   ]
  },
  {
   "cell_type": "code",
   "execution_count": 79,
   "metadata": {},
   "outputs": [
    {
     "data": {
      "image/png": "[encoded data removed]",
      "text/plain": [
       "<Figure size 480x320 with 1 Axes>"
      ]
     },
     "metadata": {
      "needs_background": "light"
     },
     "output_type": "display_data"
    }
   ],
   "source": [
    "# draw plot\n",
    "_ = sns.regplot(x='StumbleUpon_views', y= 'Avg_Daily_Pageviews', data = fb, color = 'b', ci = None)\n",
    "plt.title('Scatter Plot for Stumble Upon Views & Avg Daily Pageviews ')\n",
    "plt.xlabel('Stumble Upon Views')\n",
    "plt.ylabel('Avg Daily Visitors')\n",
    "plt.show()"
   ]
  },
  {
   "cell_type": "code",
   "execution_count": 80,
   "metadata": {},
   "outputs": [
    {
     "name": "stdout",
     "output_type": "stream",
     "text": [
      "                             OLS Regression Results                            \n",
      "===============================================================================\n",
      "Dep. Variable:     Avg_Daily_Pageviews   R-squared:                       0.037\n",
      "Model:                             OLS   Adj. R-squared:                  0.037\n",
      "Method:                  Least Squares   F-statistic:                     64.82\n",
      "Date:                 Tue, 10 May 2022   Prob (F-statistic):           1.54e-15\n",
      "Time:                         01:47:50   Log-Likelihood:                -33852.\n",
      "No. Observations:                 1685   AIC:                         6.771e+04\n",
      "Df Residuals:                     1683   BIC:                         6.772e+04\n",
      "Df Model:                            1                                         \n",
      "Covariance Type:             nonrobust                                         \n",
      "=====================================================================================\n",
      "                        coef    std err          t      P>|t|      [0.025      0.975]\n",
      "-------------------------------------------------------------------------------------\n",
      "Intercept          1.237e+07   3.15e+06      3.922      0.000    6.18e+06    1.86e+07\n",
      "StumbleUpon_views   486.5369     60.432      8.051      0.000     368.007     605.067\n",
      "==============================================================================\n",
      "Omnibus:                     4044.162   Durbin-Watson:                   0.399\n",
      "Prob(Omnibus):                  0.000   Jarque-Bera (JB):         32557949.544\n",
      "Skew:                          23.652   Prob(JB):                         0.00\n",
      "Kurtosis:                     682.335   Cond. No.                     5.25e+04\n",
      "==============================================================================\n",
      "\n",
      "Notes:\n",
      "[1] Standard Errors assume that the covariance matrix of the errors is correctly specified.\n",
      "[2] The condition number is large, 5.25e+04. This might indicate that there are\n",
      "strong multicollinearity or other numerical problems.\n",
      "\n",
      "Estimated model: y = 12367400.5876 + 486.5369 x\n",
      "The coefficients are 12367400.5876 and 486.5369\n"
     ]
    }
   ],
   "source": [
    "# Fit regression model \n",
    "fb_result = smf.ols('Avg_Daily_Pageviews~ StumbleUpon_views', data=fb).fit()\n",
    "# Inspect the results\n",
    "print(fb_result.summary())\n",
    "\n",
    "b1 = fb_result.params[1]\n",
    "b0 = fb_result.params[0]\n",
    "\n",
    "print(f\"\\nEstimated model: y = {b0:.4f} + {b1:.4f} x\")\n",
    "print(f\"The coefficients are {b0:.4f} and {b1:.4f}\")"
   ]
  },
  {
   "cell_type": "markdown",
   "metadata": {},
   "source": [
    "###    Standardized Residuals\n",
    "\n",
    "把殘差值標準化"
   ]
  },
  {
   "cell_type": "code",
   "execution_count": 81,
   "metadata": {},
   "outputs": [
    {
     "name": "stdout",
     "output_type": "stream",
     "text": [
      "Standardized Residuals \n",
      "\n",
      "[31.79417103 19.73330486  8.2431845  ... -0.09615118 -0.0962258\n",
      " -0.09607886]\n",
      "mu =  -0.0009995187443320994\n",
      "sigma =  1.012554785477333\n"
     ]
    }
   ],
   "source": [
    "# studentized residual\n",
    "print(\"Standardized Residuals \\n\")\n",
    "st1, data1, ss3 = sso.summary_table(fb_result, alpha=0.05)\n",
    "SD = data1[:, 10]\n",
    "mu = np.mean(SD)\n",
    "sigma = np.std(SD)\n",
    "print(SD)\n",
    "print('mu = ', mu)\n",
    "print('sigma = ', sigma)\n"
   ]
  },
  {
   "cell_type": "markdown",
   "metadata": {},
   "source": [
    "### Normal test\n",
    "\n",
    "#### H0: Errors are normally distributed <br>\n",
    "#### H1: Errors are not normally distributed."
   ]
  },
  {
   "cell_type": "markdown",
   "metadata": {},
   "source": [
    "### QQ-plot and Histogram"
   ]
  },
  {
   "cell_type": "code",
   "execution_count": 82,
   "metadata": {},
   "outputs": [
    {
     "data": {
      "image/png": "[encoded data removed]",
      "text/plain": [
       "<Figure size 480x320 with 1 Axes>"
      ]
     },
     "metadata": {
      "needs_background": "light"
     },
     "output_type": "display_data"
    },
    {
     "data": {
      "image/png": "[encoded data removed]",
      "text/plain": [
       "<Figure size 480x320 with 1 Axes>"
      ]
     },
     "metadata": {
      "needs_background": "light"
     },
     "output_type": "display_data"
    }
   ],
   "source": [
    "counts, bins, patches = plt.hist(SD, 6, density=False, facecolor='g', alpha=0.75)\n",
    "plt.xlabel('Avg Daily Pageviews')\n",
    "plt.ylabel('Frequency')\n",
    "plt.title('Histogram of Standard Residuals Avg Daily Pageviews & Stumble Upon Views')\n",
    "plt.grid(True)\n",
    "bin_centers = [np.mean(k) for k in zip(bins[:-1], bins[1:])]\n",
    "plt.show()\n",
    "fig = sm.qqplot(SD, stats.norm, fit=True, line='45')"
   ]
  },
  {
   "cell_type": "markdown",
   "metadata": {},
   "source": [
    "#### Shapiro Test"
   ]
  },
  {
   "cell_type": "code",
   "execution_count": 83,
   "metadata": {
    "tags": []
   },
   "outputs": [
    {
     "name": "stdout",
     "output_type": "stream",
     "text": [
      "Shapiro Test\n",
      "Statistics=0.097, p=0.000\n"
     ]
    }
   ],
   "source": [
    "print('Shapiro Test')\n",
    "stat, p = stats.shapiro(SD)\n",
    "print('Statistics=%.3f, p=%.3f' % (stat, p))"
   ]
  },
  {
   "cell_type": "markdown",
   "metadata": {},
   "source": [
    "Since pvalue is smaller than alpha(0.05), H0 is rejected. Errors are not normally distributed."
   ]
  },
  {
   "cell_type": "markdown",
   "metadata": {},
   "source": [
    "### Chi test"
   ]
  },
  {
   "cell_type": "code",
   "execution_count": 84,
   "metadata": {},
   "outputs": [
    {
     "name": "stdout",
     "output_type": "stream",
     "text": [
      "Chi-squared test: statistics = 6116.3647, p-value = 0.0000\n",
      "Critical value = 7.8147 (defree of freedom = 3)\n",
      "0.0\n"
     ]
    }
   ],
   "source": [
    "chi2_pval = Chi_Square_for_Normality(SD, 6, 0.05) \n",
    "print(chi2_pval)"
   ]
  },
  {
   "cell_type": "markdown",
   "metadata": {},
   "source": [
    "### H0: Homoscedasticity <br>\n",
    "### H1: Heteroscedasticity"
   ]
  },
  {
   "cell_type": "code",
   "execution_count": 85,
   "metadata": {},
   "outputs": [
    {
     "data": {
      "image/png": "[encoded data removed]",
      "text/plain": [
       "<Figure size 480x320 with 1 Axes>"
      ]
     },
     "metadata": {
      "needs_background": "light"
     },
     "output_type": "display_data"
    }
   ],
   "source": [
    "\n",
    "y_pre = data1[:, 2]\n",
    "plt.plot(y_pre, SD, 'o', color = 'gray')\n",
    "plt.axhline(y=0, color = 'blue')\n",
    "plt.axhline(y=2, color = 'red')\n",
    "plt.axhline(y=-2, color = 'red')\n",
    "plt.title('Standardized Residual Plot')\n",
    "plt.xlabel('Pageviews')\n",
    "plt.ylabel('Standardized Residual')\n",
    "plt.show()"
   ]
  },
  {
   "cell_type": "markdown",
   "metadata": {},
   "source": [
    "The result seems to be Homoscedasticity. The spread of data points doesn't change much."
   ]
  },
  {
   "cell_type": "markdown",
   "metadata": {},
   "source": [
    "### Runs test\n",
    "\n",
    "測試independence <br>\n",
    "\n",
    "#### H0: Randomness exists \n",
    "#### H1: Randomness does not exist."
   ]
  },
  {
   "cell_type": "code",
   "execution_count": 86,
   "metadata": {},
   "outputs": [
    {
     "name": "stdout",
     "output_type": "stream",
     "text": [
      "runs =  532\n",
      "n1 =  843\n",
      "n2 =  842\n",
      "runs_exp =  843.4997032640949\n",
      "stan_dev =  20.51827368001729\n",
      "z =  -15.181574635465747\n",
      "pval_z =  4.684007734857053e-52\n",
      "p_value for Z-statistic=  4.684007734857053e-52\n"
     ]
    }
   ],
   "source": [
    "SD_median = statistics.median(SD)\n",
    "Z_pval = runsTest(SD, SD_median) \n",
    "  \n",
    "print('p_value for Z-statistic= ', Z_pval)"
   ]
  },
  {
   "cell_type": "markdown",
   "metadata": {},
   "source": [
    "Since pvalue is smaller than alpha(0.05), H0 is rejected. Randomness doen't exist."
   ]
  },
  {
   "cell_type": "markdown",
   "metadata": {},
   "source": [
    "## Outliers\n",
    "\n",
    "當error >2 or <-2 ,可以當成outliers"
   ]
  },
  {
   "cell_type": "code",
   "execution_count": 87,
   "metadata": {},
   "outputs": [
    {
     "name": "stdout",
     "output_type": "stream",
     "text": [
      "Outliers by SD = \n",
      "\n",
      "0      31.794171\n",
      "1      19.733305\n",
      "2       8.243185\n",
      "3       2.626906\n",
      "6       2.994315\n",
      "27      2.992681\n",
      "118     4.182811\n",
      "129    -6.775941\n",
      "145    -2.376210\n",
      "159    -2.249801\n",
      "203     4.001713\n",
      "396    -3.397427\n",
      "411     5.670328\n",
      "412     2.346948\n",
      "432     3.570056\n",
      "Name: SD, dtype: float64\n"
     ]
    }
   ],
   "source": [
    "fb_c = pd.DataFrame(SD,columns = ['SD'])\n",
    "filter = (fb_c['SD'] < -2) | (fb_c['SD'] > 2)\n",
    "print(\"Outliers by SD = \\n\")\n",
    "print(fb_c['SD'].loc[filter])"
   ]
  },
  {
   "cell_type": "markdown",
   "metadata": {},
   "source": [
    "### Influential Observation\n",
    "\n",
    "足以大幅影響回歸線斜率的點"
   ]
  },
  {
   "cell_type": "code",
   "execution_count": 88,
   "metadata": {},
   "outputs": [
    {
     "name": "stdout",
     "output_type": "stream",
     "text": [
      "\n",
      "Influential Observations \n",
      "\n",
      "[0.01330962 0.02363128 0.00065725 ... 0.00060172 0.00060172 0.00060172]\n",
      "Influential Observations by hi = \n",
      "\n",
      "0       0.013310\n",
      "1       0.023631\n",
      "104     0.034012\n",
      "118     0.009689\n",
      "129     0.405636\n",
      "135     0.005042\n",
      "145     0.079849\n",
      "159     0.100942\n",
      "186     0.028111\n",
      "260     0.008477\n",
      "318     0.009511\n",
      "388     0.013630\n",
      "396     0.143038\n",
      "573     0.023774\n",
      "754     0.016451\n",
      "954     0.048556\n",
      "1638    0.003931\n",
      "Name: hi, dtype: float64\n"
     ]
    }
   ],
   "source": [
    "print(\"\\nInfluential Observations \\n\")\n",
    "x_data = fb['StumbleUpon_views'].values\n",
    "y_data = fb['Avg_Daily_Pageviews'].values\n",
    "cov_mat1 = np.cov(y_data, x_data)\n",
    "x_data_bar = x_data.mean()\n",
    "data_nobs = len(x_data)\n",
    "h_val = 1 / data_nobs + (x_data - x_data_bar) ** 2 / (data_nobs - 1) / cov_mat1[1,1]\n",
    "print(h_val)\n",
    "fb_h = pd.DataFrame(h_val,columns = ['hi'])\n",
    "filter = (fb_h['hi'] > 6 / data_nobs )\n",
    "print(\"Influential Observations by hi = \\n\")\n",
    "print(fb_h['hi'].loc[filter])"
   ]
  },
  {
   "cell_type": "markdown",
   "metadata": {},
   "source": [
    "### Stdandard errors\n"
   ]
  },
  {
   "cell_type": "code",
   "execution_count": 89,
   "metadata": {},
   "outputs": [
    {
     "name": "stdout",
     "output_type": "stream",
     "text": [
      "MSE:  1.6527169520504406e+16\n",
      "Standard errors:  128558039.50163679\n"
     ]
    }
   ],
   "source": [
    "s2_e = fb_result.mse_resid\n",
    "print('MSE: ', s2_e)\n",
    "s_e = fb_result.mse_resid ** 0.5\n",
    "print('Standard errors: ', s_e)"
   ]
  },
  {
   "cell_type": "markdown",
   "metadata": {},
   "source": [
    "### Coefficient of correlation (and determination)\n"
   ]
  },
  {
   "cell_type": "code",
   "execution_count": 90,
   "metadata": {},
   "outputs": [
    {
     "name": "stdout",
     "output_type": "stream",
     "text": [
      "SSR =  2.7815226303008915e+19\n",
      "R2 =  0.037085330446940734\n"
     ]
    }
   ],
   "source": [
    "SSR = fb_result.ssr\n",
    "# SST = SSR + SSE\n",
    "R2 = fb_result.rsquared\n",
    "print(\"SSR = \", SSR)\n",
    "print(\"R2 = \", R2)"
   ]
  },
  {
   "cell_type": "markdown",
   "metadata": {},
   "source": [
    "### Testing Coefficient of correlation\n",
    "H0: r = 0 <br>\n",
    "H1: r $\\neq$ 0."
   ]
  },
  {
   "cell_type": "code",
   "execution_count": 91,
   "metadata": {
    "scrolled": true
   },
   "outputs": [
    {
     "name": "stdout",
     "output_type": "stream",
     "text": [
      "r =  0.19257551881519328\n",
      "t_critical =  1.9613745307057746\n",
      "t =  8.050988995656223\n",
      "p_value =  1.5378580538397456e-15\n"
     ]
    }
   ],
   "source": [
    "cor_mat = np.corrcoef(fb[['Avg_Daily_Pageviews', 'StumbleUpon_views']].values, rowvar = False)\n",
    "n = fb['Avg_Daily_Pageviews'].shape[0]\n",
    "# print(n)\n",
    "r_t_value = c_of_c_test(cor_mat[1,0], n,0.05)"
   ]
  }
 ],
 "metadata": {
  "kernelspec": {
   "display_name": "Python 3",
   "language": "python",
   "name": "python3"
  },
  "language_info": {
   "codemirror_mode": {
    "name": "ipython",
    "version": 3
   },
   "file_extension": ".py",
   "mimetype": "text/x-python",
   "name": "python",
   "nbconvert_exporter": "python",
   "pygments_lexer": "ipython3",
   "version": "3.8.5"
  }
 },
 "nbformat": 4,
 "nbformat_minor": 5
}
