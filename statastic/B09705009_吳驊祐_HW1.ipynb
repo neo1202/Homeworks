{
 "cells": [
  {
   "cell_type": "markdown",
   "metadata": {},
   "source": [
    "# 第一次作業"
   ]
  },
  {
   "cell_type": "code",
   "execution_count": 38,
   "metadata": {},
   "outputs": [],
   "source": [
    "# 13.34, 13.38, 13.114, 13.117"
   ]
  },
  {
   "cell_type": "code",
   "execution_count": 39,
   "metadata": {},
   "outputs": [],
   "source": [
    "import pandas as pd\n",
    "import numpy as np\n",
    "import scipy.stats as stats\n",
    "import statsmodels.stats.api as sms\n",
    "from matplotlib import pyplot as plt\n",
    "%matplotlib inline\n",
    "# 設定圖形大小; DPI越大圖越大\n",
    "plt.rcParams[\"figure.dpi\"] = 130\n",
    "import seaborn as sns\n",
    "import sys\n",
    "import math"
   ]
  },
  {
   "cell_type": "markdown",
   "metadata": {},
   "source": [
    "<div style=\"background-color:#D9D9D9;\"><font size=\"5\"> 13.34</font></div>"
   ]
  },
  {
   "cell_type": "markdown",
   "metadata": {},
   "source": [
    "### H0 : var1/var2 = 1\n",
    "### H1 : var1/var2 ≠ 1"
   ]
  },
  {
   "cell_type": "code",
   "execution_count": 40,
   "metadata": {},
   "outputs": [
    {
     "data": {
      "text/html": [
       "<div>\n",
       "<style scoped>\n",
       "    .dataframe tbody tr th:only-of-type {\n",
       "        vertical-align: middle;\n",
       "    }\n",
       "\n",
       "    .dataframe tbody tr th {\n",
       "        vertical-align: top;\n",
       "    }\n",
       "\n",
       "    .dataframe thead th {\n",
       "        text-align: right;\n",
       "    }\n",
       "</style>\n",
       "<table border=\"1\" class=\"dataframe\">\n",
       "  <thead>\n",
       "    <tr style=\"text-align: right;\">\n",
       "      <th></th>\n",
       "      <th>Fixed</th>\n",
       "      <th>Commission</th>\n",
       "    </tr>\n",
       "  </thead>\n",
       "  <tbody>\n",
       "    <tr>\n",
       "      <th>0</th>\n",
       "      <td>75558</td>\n",
       "      <td>48705</td>\n",
       "    </tr>\n",
       "    <tr>\n",
       "      <th>1</th>\n",
       "      <td>73974</td>\n",
       "      <td>51927</td>\n",
       "    </tr>\n",
       "    <tr>\n",
       "      <th>2</th>\n",
       "      <td>68985</td>\n",
       "      <td>56733</td>\n",
       "    </tr>\n",
       "    <tr>\n",
       "      <th>3</th>\n",
       "      <td>60239</td>\n",
       "      <td>52997</td>\n",
       "    </tr>\n",
       "    <tr>\n",
       "      <th>4</th>\n",
       "      <td>67320</td>\n",
       "      <td>60655</td>\n",
       "    </tr>\n",
       "  </tbody>\n",
       "</table>\n",
       "</div>"
      ],
      "text/plain": [
       "   Fixed  Commission\n",
       "0  75558       48705\n",
       "1  73974       51927\n",
       "2  68985       56733\n",
       "3  60239       52997\n",
       "4  67320       60655"
      ]
     },
     "metadata": {},
     "output_type": "display_data"
    },
    {
     "data": {
      "text/html": [
       "<div>\n",
       "<style scoped>\n",
       "    .dataframe tbody tr th:only-of-type {\n",
       "        vertical-align: middle;\n",
       "    }\n",
       "\n",
       "    .dataframe tbody tr th {\n",
       "        vertical-align: top;\n",
       "    }\n",
       "\n",
       "    .dataframe thead th {\n",
       "        text-align: right;\n",
       "    }\n",
       "</style>\n",
       "<table border=\"1\" class=\"dataframe\">\n",
       "  <thead>\n",
       "    <tr style=\"text-align: right;\">\n",
       "      <th></th>\n",
       "      <th>Fixed</th>\n",
       "      <th>Commission</th>\n",
       "    </tr>\n",
       "  </thead>\n",
       "  <tbody>\n",
       "    <tr>\n",
       "      <th>85</th>\n",
       "      <td>49302</td>\n",
       "      <td>58990</td>\n",
       "    </tr>\n",
       "    <tr>\n",
       "      <th>86</th>\n",
       "      <td>47334</td>\n",
       "      <td>64509</td>\n",
       "    </tr>\n",
       "    <tr>\n",
       "      <th>87</th>\n",
       "      <td>37480</td>\n",
       "      <td>66350</td>\n",
       "    </tr>\n",
       "    <tr>\n",
       "      <th>88</th>\n",
       "      <td>61667</td>\n",
       "      <td>56519</td>\n",
       "    </tr>\n",
       "    <tr>\n",
       "      <th>89</th>\n",
       "      <td>37098</td>\n",
       "      <td>60039</td>\n",
       "    </tr>\n",
       "  </tbody>\n",
       "</table>\n",
       "</div>"
      ],
      "text/plain": [
       "    Fixed  Commission\n",
       "85  49302       58990\n",
       "86  47334       64509\n",
       "87  37480       66350\n",
       "88  61667       56519\n",
       "89  37098       60039"
      ]
     },
     "metadata": {},
     "output_type": "display_data"
    },
    {
     "name": "stdout",
     "output_type": "stream",
     "text": [
      "Fixed = \n",
      " [75558 73974 68985 60239 67320 59924 55618 69653 57640 52603 43686 71253\n",
      " 71798 57285 54646 54084 55390 45958 75945 47700 47886 56060 53082 47737\n",
      " 53166 69030 57949 57182 58557 66434 80682 60464 69153 56834 71307 64615\n",
      " 59779 60874 62703 68311 78605 63332 59328 54840 66256 54615 63535 53124\n",
      " 55602 55620 48660 49477 61384 56570 47469 55684 60598 49468 62897 72720\n",
      " 43287 59496 68229 63594 74114 79747 28115 71206 74003 50013 71735 80088\n",
      " 66187 64392 60750 57071 63557 41185 60070 64852 76579 53649 74806 67698\n",
      " 63907 49302 47334 37480 61667 37098]\n",
      "Commission = \n",
      " [48705 51927 56733 52997 60655 61727 59454 62862 59761 75166 69110 72217\n",
      " 61031 71358 51593 61980 45447 76879 63941 81009 71450 80858 71611 59454\n",
      " 73211 70225 59719 69578 64372 58567 61718 45120 93770 62140 63285 75151\n",
      " 47151 76937 72522 72531 53816 50185 69892 63265 73362 69218 65051 61045\n",
      " 60111 80348 52766 45823 58092 66867 81402 65955 59140 55590 91441 56617\n",
      " 45831 64169 51746 49121 54199 77570 54961 63142 53824 79837 63708 57517\n",
      " 39118 64260 76688 61002 61867 77974 68424 46052 73088 57731 57959 82396\n",
      " 58163 58990 64509 66350 56519 60039]\n"
     ]
    }
   ],
   "source": [
    "df1 = pd.read_excel('Xr13-34.xlsx')\n",
    "display(df1.head())\n",
    "display(df1.tail())\n",
    "# 轉換成numpy array\n",
    "Fixed = df1['Fixed'].values\n",
    "print(\"Fixed = \\n\", Fixed)\n",
    "Commission = df1['Commission'].values\n",
    "print(\"Commission = \\n\", Commission)"
   ]
  },
  {
   "cell_type": "code",
   "execution_count": 41,
   "metadata": {},
   "outputs": [
    {
     "name": "stdout",
     "output_type": "stream",
     "text": [
      "df_num =  89\n",
      "df_denom =  89\n",
      "var_ratio (F value) = 0.9541\n",
      "p_value = 0.8252\n"
     ]
    }
   ],
   "source": [
    "df_num = Fixed.shape[0] - 1\n",
    "df_denom = Commission.shape[0] - 1\n",
    "print(\"df_num = \", df_num)\n",
    "print(\"df_denom = \", df_denom)\n",
    "var_ratio = stats.describe(Fixed).variance / stats.describe(Commission).variance\n",
    "print(f\"var_ratio (F value) = {var_ratio:.4f}\")\n",
    "ptmp = stats.f.cdf(var_ratio, df_num, df_denom)\n",
    "p_value = ptmp * 2\n",
    "print(f\"p_value = {p_value:.4f}\")"
   ]
  },
  {
   "cell_type": "markdown",
   "metadata": {},
   "source": [
    "The p-value for equal-variance test is 0.8252, which is larger than the required 0.05 significance level, there is no sufficient evidence to reject the null hypothesis. As a result, we assume that the two populations have equal variance and apply equal-variance t-test on μ1-μ2 = 0 <br>\n",
    "### H0:μ1-μ2>=0 , \n",
    "### H1:μ1-μ2<0\n",
    "\n"
   ]
  },
  {
   "cell_type": "code",
   "execution_count": 42,
   "metadata": {},
   "outputs": [
    {
     "data": {
      "text/html": [
       "<table class=\"simpletable\">\n",
       "<caption>Test for equality of means</caption>\n",
       "<tr>\n",
       "      <td></td>         <th>coef</th>     <th>std err</th>      <th>t</th>      <th>P>|t|</th>  <th>[0.025</th>    <th>0.975]</th>  \n",
       "</tr>\n",
       "<tr>\n",
       "  <th>subset #1</th> <td>-3317.8111</td> <td> 1584.821</td> <td>   -2.093</td> <td> 0.038</td> <td>-6445.266</td> <td> -190.356</td>\n",
       "</tr>\n",
       "</table>"
      ],
      "text/plain": [
       "<class 'statsmodels.iolib.table.SimpleTable'>"
      ]
     },
     "execution_count": 42,
     "metadata": {},
     "output_type": "execute_result"
    }
   ],
   "source": [
    "# t-test using sms.CompareMeans\n",
    "cm = sms.CompareMeans(sms.DescrStatsW(Fixed), sms.DescrStatsW(Commission))\n",
    "# usevarstr, ‘pooled’ or ‘unequal’\n",
    "cm.summary(usevar='pooled', alpha=0.05)"
   ]
  },
  {
   "cell_type": "markdown",
   "metadata": {},
   "source": [
    "Based on the above result, the one-sided p-value should be 0.038/2 = 0.019, and that is lesser than our significant level. So we have enough evidence at a significance level of 0.05 to reject the null hypothesis in favor of the alternative one and conclude that the commission salesperson outperforms the fixed-salary salesperson."
   ]
  },
  {
   "cell_type": "markdown",
   "metadata": {},
   "source": [
    "<div style=\"background-color:#D9D9D9;\"><font size=\"5\"> 13.38</font></div>"
   ]
  },
  {
   "cell_type": "markdown",
   "metadata": {},
   "source": [
    "### H0 : var1/var2 = 1\n",
    "### H1 : var1/var2 ≠ 1"
   ]
  },
  {
   "cell_type": "code",
   "execution_count": 43,
   "metadata": {},
   "outputs": [
    {
     "data": {
      "text/html": [
       "<div>\n",
       "<style scoped>\n",
       "    .dataframe tbody tr th:only-of-type {\n",
       "        vertical-align: middle;\n",
       "    }\n",
       "\n",
       "    .dataframe tbody tr th {\n",
       "        vertical-align: top;\n",
       "    }\n",
       "\n",
       "    .dataframe thead th {\n",
       "        text-align: right;\n",
       "    }\n",
       "</style>\n",
       "<table border=\"1\" class=\"dataframe\">\n",
       "  <thead>\n",
       "    <tr style=\"text-align: right;\">\n",
       "      <th></th>\n",
       "      <th>Big Bucket</th>\n",
       "      <th>Medium Bucket</th>\n",
       "    </tr>\n",
       "  </thead>\n",
       "  <tbody>\n",
       "    <tr>\n",
       "      <th>0</th>\n",
       "      <td>133</td>\n",
       "      <td>50</td>\n",
       "    </tr>\n",
       "    <tr>\n",
       "      <th>1</th>\n",
       "      <td>106</td>\n",
       "      <td>63</td>\n",
       "    </tr>\n",
       "    <tr>\n",
       "      <th>2</th>\n",
       "      <td>104</td>\n",
       "      <td>56</td>\n",
       "    </tr>\n",
       "    <tr>\n",
       "      <th>3</th>\n",
       "      <td>85</td>\n",
       "      <td>37</td>\n",
       "    </tr>\n",
       "    <tr>\n",
       "      <th>4</th>\n",
       "      <td>63</td>\n",
       "      <td>63</td>\n",
       "    </tr>\n",
       "  </tbody>\n",
       "</table>\n",
       "</div>"
      ],
      "text/plain": [
       "   Big Bucket  Medium Bucket\n",
       "0         133             50\n",
       "1         106             63\n",
       "2         104             56\n",
       "3          85             37\n",
       "4          63             63"
      ]
     },
     "metadata": {},
     "output_type": "display_data"
    },
    {
     "data": {
      "text/html": [
       "<div>\n",
       "<style scoped>\n",
       "    .dataframe tbody tr th:only-of-type {\n",
       "        vertical-align: middle;\n",
       "    }\n",
       "\n",
       "    .dataframe tbody tr th {\n",
       "        vertical-align: top;\n",
       "    }\n",
       "\n",
       "    .dataframe thead th {\n",
       "        text-align: right;\n",
       "    }\n",
       "</style>\n",
       "<table border=\"1\" class=\"dataframe\">\n",
       "  <thead>\n",
       "    <tr style=\"text-align: right;\">\n",
       "      <th></th>\n",
       "      <th>Big Bucket</th>\n",
       "      <th>Medium Bucket</th>\n",
       "    </tr>\n",
       "  </thead>\n",
       "  <tbody>\n",
       "    <tr>\n",
       "      <th>43</th>\n",
       "      <td>86</td>\n",
       "      <td>51</td>\n",
       "    </tr>\n",
       "    <tr>\n",
       "      <th>44</th>\n",
       "      <td>96</td>\n",
       "      <td>59</td>\n",
       "    </tr>\n",
       "    <tr>\n",
       "      <th>45</th>\n",
       "      <td>116</td>\n",
       "      <td>66</td>\n",
       "    </tr>\n",
       "    <tr>\n",
       "      <th>46</th>\n",
       "      <td>93</td>\n",
       "      <td>73</td>\n",
       "    </tr>\n",
       "    <tr>\n",
       "      <th>47</th>\n",
       "      <td>85</td>\n",
       "      <td>70</td>\n",
       "    </tr>\n",
       "  </tbody>\n",
       "</table>\n",
       "</div>"
      ],
      "text/plain": [
       "    Big Bucket  Medium Bucket\n",
       "43          86             51\n",
       "44          96             59\n",
       "45         116             66\n",
       "46          93             73\n",
       "47          85             70"
      ]
     },
     "metadata": {},
     "output_type": "display_data"
    },
    {
     "name": "stdout",
     "output_type": "stream",
     "text": [
      "Big = \n",
      " [133 106 104  85  63 100  99  91  81  94  91 135  76 104  87 107  98  90\n",
      "  90  84  91  96  92  89  92 118 114  76 104  89  95 111  62  69 123  95\n",
      "  75  97  67  98  80  82  94  86  96 116  93  85]\n",
      "Medium = \n",
      " [50 63 56 37 63 64 52 73 60 72 58 67 79 55 58 45 65 66 69 59 64 54 59 72\n",
      " 72 60 66 60 59 55 50 44 71 69 64 66 44 63 66 60 52 67 73 51 59 66 73 70]\n"
     ]
    }
   ],
   "source": [
    "df1 = pd.read_excel('Xr13-38.xlsx')\n",
    "display(df1.head())\n",
    "display(df1.tail())\n",
    "# 轉換成numpy array\n",
    "BB = df1['Big Bucket'].values\n",
    "print(\"Big = \\n\", BB)\n",
    "MB = df1['Medium Bucket'].values\n",
    "print(\"Medium = \\n\", MB)"
   ]
  },
  {
   "cell_type": "code",
   "execution_count": 44,
   "metadata": {},
   "outputs": [
    {
     "name": "stdout",
     "output_type": "stream",
     "text": [
      "df_num =  47\n",
      "df_denom =  47\n",
      "var_ratio (F value) = 3.1431\n",
      "p_value = 0.0001\n"
     ]
    }
   ],
   "source": [
    "df_num = BB.shape[0] - 1\n",
    "df_denom = MB.shape[0] - 1\n",
    "print(\"df_num = \", df_num)\n",
    "print(\"df_denom = \", df_denom)\n",
    "var_ratio = stats.describe(BB).variance / stats.describe(MB).variance\n",
    "print(f\"var_ratio (F value) = {var_ratio:.4f}\")\n",
    "ptmp = stats.f.cdf(var_ratio, df_num, df_denom)\n",
    "p_value = (1-ptmp) * 2\n",
    "print(f\"p_value = {p_value:.4f}\")"
   ]
  },
  {
   "cell_type": "markdown",
   "metadata": {},
   "source": [
    "The p-value for equal-variance test is 0.0001, which is smaller than the required 0.05 significance level, \n",
    "there is sufficient evidence to reject the null hypothesis. As a result, we assume that the two populations \n",
    "don't have equal variance and apply nonequal-variance t-test on μ1-μ2 = 0 <br>\n",
    "### H0:μ1-μ2<=0 , \n",
    "### H1:μ1-μ2>0"
   ]
  },
  {
   "cell_type": "code",
   "execution_count": 45,
   "metadata": {},
   "outputs": [
    {
     "data": {
      "text/html": [
       "<table class=\"simpletable\">\n",
       "<caption>Test for equality of means</caption>\n",
       "<tr>\n",
       "      <td></td>         <th>coef</th>     <th>std err</th>      <th>t</th>      <th>P>|t|</th>  <th>[0.025</th>    <th>0.975]</th>  \n",
       "</tr>\n",
       "<tr>\n",
       "  <th>subset #1</th> <td>   32.5625</td> <td>    2.633</td> <td>   12.367</td> <td> 0.000</td> <td>   27.316</td> <td>   37.809</td>\n",
       "</tr>\n",
       "</table>"
      ],
      "text/plain": [
       "<class 'statsmodels.iolib.table.SimpleTable'>"
      ]
     },
     "execution_count": 45,
     "metadata": {},
     "output_type": "execute_result"
    }
   ],
   "source": [
    "# t-test using sms.CompareMeans\n",
    "cm = sms.CompareMeans(sms.DescrStatsW(BB), sms.DescrStatsW(MB))\n",
    "# usevarstr, ‘pooled’ or ‘unequal’\n",
    "cm.summary(usevar='unequal', alpha=0.05)"
   ]
  },
  {
   "cell_type": "markdown",
   "metadata": {},
   "source": [
    "Based on the above result, the one-sided p-value should be 0, and that is lesser than our \n",
    "significant level. So we have enough evidence at a significance level of 0.05 to reject the null hypothesis \n",
    "in favor of the alternative one and conclude that the larger the bucket the more people will eat."
   ]
  },
  {
   "cell_type": "markdown",
   "metadata": {},
   "source": [
    "<div style=\"background-color:#D9D9D9;\"><font size=\"5\"> 13.114</font></div>"
   ]
  },
  {
   "cell_type": "markdown",
   "metadata": {},
   "source": [
    "### H0 : var1/var2 = 1\n",
    "### H1 : var1/var2 ≠ 1"
   ]
  },
  {
   "cell_type": "code",
   "execution_count": 46,
   "metadata": {},
   "outputs": [
    {
     "data": {
      "text/html": [
       "<div>\n",
       "<style scoped>\n",
       "    .dataframe tbody tr th:only-of-type {\n",
       "        vertical-align: middle;\n",
       "    }\n",
       "\n",
       "    .dataframe tbody tr th {\n",
       "        vertical-align: top;\n",
       "    }\n",
       "\n",
       "    .dataframe thead th {\n",
       "        text-align: right;\n",
       "    }\n",
       "</style>\n",
       "<table border=\"1\" class=\"dataframe\">\n",
       "  <thead>\n",
       "    <tr style=\"text-align: right;\">\n",
       "      <th></th>\n",
       "      <th>Machine 1</th>\n",
       "      <th>Machine 2</th>\n",
       "    </tr>\n",
       "  </thead>\n",
       "  <tbody>\n",
       "    <tr>\n",
       "      <th>0</th>\n",
       "      <td>0.998</td>\n",
       "      <td>1.003</td>\n",
       "    </tr>\n",
       "    <tr>\n",
       "      <th>1</th>\n",
       "      <td>0.997</td>\n",
       "      <td>1.004</td>\n",
       "    </tr>\n",
       "    <tr>\n",
       "      <th>2</th>\n",
       "      <td>1.003</td>\n",
       "      <td>0.997</td>\n",
       "    </tr>\n",
       "    <tr>\n",
       "      <th>3</th>\n",
       "      <td>1.000</td>\n",
       "      <td>0.996</td>\n",
       "    </tr>\n",
       "    <tr>\n",
       "      <th>4</th>\n",
       "      <td>0.999</td>\n",
       "      <td>0.999</td>\n",
       "    </tr>\n",
       "  </tbody>\n",
       "</table>\n",
       "</div>"
      ],
      "text/plain": [
       "   Machine 1  Machine 2\n",
       "0      0.998      1.003\n",
       "1      0.997      1.004\n",
       "2      1.003      0.997\n",
       "3      1.000      0.996\n",
       "4      0.999      0.999"
      ]
     },
     "metadata": {},
     "output_type": "display_data"
    },
    {
     "data": {
      "text/html": [
       "<div>\n",
       "<style scoped>\n",
       "    .dataframe tbody tr th:only-of-type {\n",
       "        vertical-align: middle;\n",
       "    }\n",
       "\n",
       "    .dataframe tbody tr th {\n",
       "        vertical-align: top;\n",
       "    }\n",
       "\n",
       "    .dataframe thead th {\n",
       "        text-align: right;\n",
       "    }\n",
       "</style>\n",
       "<table border=\"1\" class=\"dataframe\">\n",
       "  <thead>\n",
       "    <tr style=\"text-align: right;\">\n",
       "      <th></th>\n",
       "      <th>Machine 1</th>\n",
       "      <th>Machine 2</th>\n",
       "    </tr>\n",
       "  </thead>\n",
       "  <tbody>\n",
       "    <tr>\n",
       "      <th>6</th>\n",
       "      <td>0.998</td>\n",
       "      <td>1.000</td>\n",
       "    </tr>\n",
       "    <tr>\n",
       "      <th>7</th>\n",
       "      <td>1.003</td>\n",
       "      <td>1.005</td>\n",
       "    </tr>\n",
       "    <tr>\n",
       "      <th>8</th>\n",
       "      <td>1.004</td>\n",
       "      <td>1.002</td>\n",
       "    </tr>\n",
       "    <tr>\n",
       "      <th>9</th>\n",
       "      <td>1.000</td>\n",
       "      <td>1.004</td>\n",
       "    </tr>\n",
       "    <tr>\n",
       "      <th>10</th>\n",
       "      <td>NaN</td>\n",
       "      <td>0.996</td>\n",
       "    </tr>\n",
       "  </tbody>\n",
       "</table>\n",
       "</div>"
      ],
      "text/plain": [
       "    Machine 1  Machine 2\n",
       "6       0.998      1.000\n",
       "7       1.003      1.005\n",
       "8       1.004      1.002\n",
       "9       1.000      1.004\n",
       "10        NaN      0.996"
      ]
     },
     "metadata": {},
     "output_type": "display_data"
    },
    {
     "name": "stdout",
     "output_type": "stream",
     "text": [
      "M1 = \n",
      " [0.998 0.997 1.003 1.    0.999 1.    0.998 1.003 1.004 1.   ]\n",
      "M2 = \n",
      " [1.003 1.004 0.997 0.996 0.999 1.003 1.    1.005 1.002 1.004 0.996]\n"
     ]
    }
   ],
   "source": [
    "df1 = pd.read_excel('Xr13-114.xlsx')\n",
    "display(df1.head())\n",
    "display(df1.tail())\n",
    "# 轉換成numpy array\n",
    "M1 = df1['Machine 1'].values\n",
    "M1 = M1[~np.isnan(M1)]\n",
    "print(\"M1 = \\n\", M1)\n",
    "M2 = df1['Machine 2'].values\n",
    "print(\"M2 = \\n\", M2)"
   ]
  },
  {
   "cell_type": "code",
   "execution_count": 47,
   "metadata": {},
   "outputs": [
    {
     "name": "stdout",
     "output_type": "stream",
     "text": [
      "df_num =  9\n",
      "df_denom =  10\n",
      "var_ratio (F value) = 0.5045\n",
      "p_value = 0.3179\n"
     ]
    }
   ],
   "source": [
    "df_num = M1.shape[0] - 1\n",
    "df_denom = M2.shape[0] - 1\n",
    "print(\"df_num = \", df_num)\n",
    "print(\"df_denom = \", df_denom)\n",
    "var_ratio = stats.describe(M1).variance / stats.describe(M2).variance\n",
    "print(f\"var_ratio (F value) = {var_ratio:.4f}\")\n",
    "ptmp = stats.f.cdf(var_ratio, df_num, df_denom)\n",
    "p_value = (ptmp) * 2\n",
    "print(f\"p_value = {p_value:.4f}\")"
   ]
  },
  {
   "cell_type": "markdown",
   "metadata": {},
   "source": [
    "The p-value for equal-variance test is 0.3179, which is larger than the required 0.05 significance level, \n",
    "there is no sufficient evidence to reject the null hypothesis. As a result, we assume that the two populations \n",
    "have equal variance, the manager can't infer that the two machines differ in their consistency of fills."
   ]
  },
  {
   "cell_type": "markdown",
   "metadata": {},
   "source": [
    "<div style=\"background-color:#D9D9D9;\"><font size=\"5\"> 13.117</font></div>"
   ]
  },
  {
   "cell_type": "markdown",
   "metadata": {},
   "source": [
    "### H0 : var1/var2 = 1\n",
    "### H1 : var1/var2 ≠ 1"
   ]
  },
  {
   "cell_type": "code",
   "execution_count": 48,
   "metadata": {},
   "outputs": [
    {
     "data": {
      "text/html": [
       "<div>\n",
       "<style scoped>\n",
       "    .dataframe tbody tr th:only-of-type {\n",
       "        vertical-align: middle;\n",
       "    }\n",
       "\n",
       "    .dataframe tbody tr th {\n",
       "        vertical-align: top;\n",
       "    }\n",
       "\n",
       "    .dataframe thead th {\n",
       "        text-align: right;\n",
       "    }\n",
       "</style>\n",
       "<table border=\"1\" class=\"dataframe\">\n",
       "  <thead>\n",
       "    <tr style=\"text-align: right;\">\n",
       "      <th></th>\n",
       "      <th>Week 1</th>\n",
       "      <th>Week 2</th>\n",
       "    </tr>\n",
       "  </thead>\n",
       "  <tbody>\n",
       "    <tr>\n",
       "      <th>0</th>\n",
       "      <td>69</td>\n",
       "      <td>75</td>\n",
       "    </tr>\n",
       "    <tr>\n",
       "      <th>1</th>\n",
       "      <td>77</td>\n",
       "      <td>69</td>\n",
       "    </tr>\n",
       "    <tr>\n",
       "      <th>2</th>\n",
       "      <td>74</td>\n",
       "      <td>73</td>\n",
       "    </tr>\n",
       "    <tr>\n",
       "      <th>3</th>\n",
       "      <td>67</td>\n",
       "      <td>72</td>\n",
       "    </tr>\n",
       "    <tr>\n",
       "      <th>4</th>\n",
       "      <td>81</td>\n",
       "      <td>71</td>\n",
       "    </tr>\n",
       "  </tbody>\n",
       "</table>\n",
       "</div>"
      ],
      "text/plain": [
       "   Week 1  Week 2\n",
       "0      69      75\n",
       "1      77      69\n",
       "2      74      73\n",
       "3      67      72\n",
       "4      81      71"
      ]
     },
     "metadata": {},
     "output_type": "display_data"
    },
    {
     "data": {
      "text/html": [
       "<div>\n",
       "<style scoped>\n",
       "    .dataframe tbody tr th:only-of-type {\n",
       "        vertical-align: middle;\n",
       "    }\n",
       "\n",
       "    .dataframe tbody tr th {\n",
       "        vertical-align: top;\n",
       "    }\n",
       "\n",
       "    .dataframe thead th {\n",
       "        text-align: right;\n",
       "    }\n",
       "</style>\n",
       "<table border=\"1\" class=\"dataframe\">\n",
       "  <thead>\n",
       "    <tr style=\"text-align: right;\">\n",
       "      <th></th>\n",
       "      <th>Week 1</th>\n",
       "      <th>Week 2</th>\n",
       "    </tr>\n",
       "  </thead>\n",
       "  <tbody>\n",
       "    <tr>\n",
       "      <th>95</th>\n",
       "      <td>67</td>\n",
       "      <td>76</td>\n",
       "    </tr>\n",
       "    <tr>\n",
       "      <th>96</th>\n",
       "      <td>84</td>\n",
       "      <td>69</td>\n",
       "    </tr>\n",
       "    <tr>\n",
       "      <th>97</th>\n",
       "      <td>71</td>\n",
       "      <td>68</td>\n",
       "    </tr>\n",
       "    <tr>\n",
       "      <th>98</th>\n",
       "      <td>73</td>\n",
       "      <td>74</td>\n",
       "    </tr>\n",
       "    <tr>\n",
       "      <th>99</th>\n",
       "      <td>73</td>\n",
       "      <td>64</td>\n",
       "    </tr>\n",
       "  </tbody>\n",
       "</table>\n",
       "</div>"
      ],
      "text/plain": [
       "    Week 1  Week 2\n",
       "95      67      76\n",
       "96      84      69\n",
       "97      71      68\n",
       "98      73      74\n",
       "99      73      64"
      ]
     },
     "metadata": {},
     "output_type": "display_data"
    },
    {
     "name": "stdout",
     "output_type": "stream",
     "text": [
      "W1 = \n",
      " [69 77 74 67 81 67 72 68 68 68 67 67 74 64 66 76 71 67 67 67 79 77 69 68\n",
      " 74 71 71 75 68 70 71 75 73 72 72 68 68 73 71 82 73 69 68 71 68 69 64 71\n",
      " 65 70 77 75 72 71 65 63 65 71 76 65 68 74 72 72 75 71 67 78 75 68 75 66\n",
      " 72 74 73 75 74 69 74 68 70 64 68 64 64 77 69 76 78 63 74 68 63 70 68 67\n",
      " 84 71 73 73]\n",
      "W2 = \n",
      " [75 69 73 72 71 69 73 75 70 72 76 65 65 65 70 70 73 72 71 71 67 68 68 74\n",
      " 72 79 66 71 67 73 71 71 72 68 78 65 70 67 72 71 71 66 64 79 70 71 74 71\n",
      " 70 73 67 70 71 65 67 67 75 72 68 75 69 72 72 78 77 73 73 69 71 69 77 77\n",
      " 72 68 72 74 72 75 69 71 71 68 71 76 68 69 69 72 63 74 77 68 71 74 76 76\n",
      " 69 68 74 64]\n"
     ]
    }
   ],
   "source": [
    "df1 = pd.read_excel('Xr13-117.xlsx')\n",
    "display(df1.head())\n",
    "display(df1.tail())\n",
    "# 轉換成numpy array\n",
    "W1 = df1['Week 1'].values\n",
    "print(\"W1 = \\n\", W1)\n",
    "W2 = df1['Week 2'].values\n",
    "print(\"W2 = \\n\", W2)"
   ]
  },
  {
   "cell_type": "code",
   "execution_count": 49,
   "metadata": {},
   "outputs": [
    {
     "name": "stdout",
     "output_type": "stream",
     "text": [
      "df_num =  99\n",
      "df_denom =  99\n",
      "var_ratio (F value) = 1.5261\n",
      "p_value = 0.0366\n"
     ]
    }
   ],
   "source": [
    "df_num = W1.shape[0] - 1\n",
    "df_denom = W2.shape[0] - 1\n",
    "print(\"df_num = \", df_num)\n",
    "print(\"df_denom = \", df_denom)\n",
    "var_ratio = stats.describe(W1).variance / stats.describe(W2).variance\n",
    "print(f\"var_ratio (F value) = {var_ratio:.4f}\")\n",
    "ptmp = stats.f.cdf(var_ratio, df_num, df_denom)\n",
    "p_value = (1-ptmp) * 2\n",
    "print(f\"p_value = {p_value:.4f}\")"
   ]
  },
  {
   "cell_type": "markdown",
   "metadata": {},
   "source": [
    "The p-value for equal-variance test is 0.0366, which is smaller than the required 0.05 significance level, so \n",
    "there is sufficient evidence to reject the null hypothesis. As a result, we assume that the two populations \n",
    "don't have equal variance, also because the speed variance of the first week is larger than second week.we can infer that limiting the minimum and maximum speeds reduces the variation in speeds."
   ]
  }
 ],
 "metadata": {
  "kernelspec": {
   "display_name": "Python 3",
   "language": "python",
   "name": "python3"
  },
  "language_info": {
   "codemirror_mode": {
    "name": "ipython",
    "version": 3
   },
   "file_extension": ".py",
   "mimetype": "text/x-python",
   "name": "python",
   "nbconvert_exporter": "python",
   "pygments_lexer": "ipython3",
   "version": "3.8.5"
  }
 },
 "nbformat": 4,
 "nbformat_minor": 4
}
