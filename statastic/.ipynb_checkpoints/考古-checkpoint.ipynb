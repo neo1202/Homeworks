{
 "cells": [
  {
   "cell_type": "code",
   "execution_count": 3,
   "metadata": {},
   "outputs": [],
   "source": [
    "import warnings\n",
    "warnings.filterwarnings('ignore')\n",
    "from matplotlib import pyplot as plt\n",
    "%matplotlib inline\n",
    "# 設定圖形大小; DPI越大圖越大\n",
    "plt.rcParams[\"figure.dpi\"] = 60\n",
    "import seaborn as sns\n",
    "import pandas as pd\n",
    "import numpy as np\n",
    "import scipy.stats as stats\n",
    "import statsmodels.api as sm\n",
    "import statsmodels.stats.api as sms\n",
    "import statsmodels.formula.api as smf\n",
    "import statsmodels.stats.multicomp as smm\n",
    "import statsmodels.stats.outliers_influence as sso\n",
    "import statsmodels\n",
    "import math\n",
    "import statistics\n",
    "from scipy.optimize import curve_fit"
   ]
  },
  {
   "cell_type": "code",
   "execution_count": 4,
   "metadata": {},
   "outputs": [],
   "source": [
    "def runtest(SD):\n",
    "    print('Randomness Test using Runs Test')\n",
    "    print(' - H0: Randomness exists.')\n",
    "    print(' - H1: Randomness does not exist\\n')\n",
    "    \n",
    "    SD_median = statistics.median(SD)\n",
    "    \n",
    "    runs, n1, n2 = 1, 0, 0\n",
    "    if(SD[0]) >= SD_median: \n",
    "        n1 += 1   \n",
    "    else:\n",
    "        n2 += 1     \n",
    "    # Checking for start of new run \n",
    "    for i in range(1, len(SD)): \n",
    "        # no. of runs \n",
    "        if (SD[i] >= SD_median and SD[i-1] < SD_median) or (SD[i] < SD_median and SD[i-1] >= SD_median):\n",
    "            runs += 1  \n",
    "            # print(i, runs)\n",
    "        # no. of positive values \n",
    "        if(SD[i]) >= SD_median: \n",
    "            n1 += 1   \n",
    "        # no. of negative values \n",
    "        else: \n",
    "            n2 += 1   \n",
    "    runs_exp = ((2*n1*n2)/(n1+n2)) + 1\n",
    "    stan_dev = math.sqrt((2*n1*n2*(2*n1*n2-n1-n2))/(((n1+n2)**2)*(n1+n2-1))) \n",
    "    z = (runs-runs_exp)/stan_dev\n",
    "    pval_z = stats.norm.sf(abs(z)) * 2\n",
    "    print('runs = ', runs)\n",
    "    print('n1 = ', n1)\n",
    "    print('n2 = ', n2)\n",
    "    if n1>20 or n2>20:\n",
    "        print('\\nruns_exp = ', runs_exp)\n",
    "        print('stan_dev = ', stan_dev)\n",
    "        print('z = ', z)\n",
    "        print('pval_z = ', pval_z)\n",
    "        \n",
    "        if pval_z < 0.05:\n",
    "            print('\\nSince p-value < 0.05, we reject H0 and conclude randomness does not exist.')\n",
    "        else:\n",
    "            print('\\nSince p-value > 0.05, we do not reject H0 and we may conclude randomness exists.')\n",
    "    else:\n",
    "        print('Since both n1 and n2 < 20, we check the Run Test table.')"
   ]
  },
  {
   "cell_type": "code",
   "execution_count": 5,
   "metadata": {},
   "outputs": [
    {
     "name": "stdout",
     "output_type": "stream",
     "text": [
      "Head of dataset:\n"
     ]
    },
    {
     "data": {
      "text/html": [
       "<div>\n",
       "<style scoped>\n",
       "    .dataframe tbody tr th:only-of-type {\n",
       "        vertical-align: middle;\n",
       "    }\n",
       "\n",
       "    .dataframe tbody tr th {\n",
       "        vertical-align: top;\n",
       "    }\n",
       "\n",
       "    .dataframe thead th {\n",
       "        text-align: right;\n",
       "    }\n",
       "</style>\n",
       "<table border=\"1\" class=\"dataframe\">\n",
       "  <thead>\n",
       "    <tr style=\"text-align: right;\">\n",
       "      <th></th>\n",
       "      <th>Home</th>\n",
       "      <th>Heating_Cost</th>\n",
       "      <th>Temperature</th>\n",
       "      <th>Insulation</th>\n",
       "      <th>Age</th>\n",
       "      <th>Garage</th>\n",
       "    </tr>\n",
       "  </thead>\n",
       "  <tbody>\n",
       "    <tr>\n",
       "      <th>0</th>\n",
       "      <td>1</td>\n",
       "      <td>250</td>\n",
       "      <td>35</td>\n",
       "      <td>3</td>\n",
       "      <td>6</td>\n",
       "      <td>0</td>\n",
       "    </tr>\n",
       "    <tr>\n",
       "      <th>1</th>\n",
       "      <td>2</td>\n",
       "      <td>360</td>\n",
       "      <td>29</td>\n",
       "      <td>4</td>\n",
       "      <td>10</td>\n",
       "      <td>1</td>\n",
       "    </tr>\n",
       "    <tr>\n",
       "      <th>2</th>\n",
       "      <td>3</td>\n",
       "      <td>165</td>\n",
       "      <td>36</td>\n",
       "      <td>7</td>\n",
       "      <td>3</td>\n",
       "      <td>0</td>\n",
       "    </tr>\n",
       "    <tr>\n",
       "      <th>3</th>\n",
       "      <td>4</td>\n",
       "      <td>43</td>\n",
       "      <td>60</td>\n",
       "      <td>6</td>\n",
       "      <td>9</td>\n",
       "      <td>0</td>\n",
       "    </tr>\n",
       "    <tr>\n",
       "      <th>4</th>\n",
       "      <td>5</td>\n",
       "      <td>92</td>\n",
       "      <td>65</td>\n",
       "      <td>5</td>\n",
       "      <td>6</td>\n",
       "      <td>0</td>\n",
       "    </tr>\n",
       "  </tbody>\n",
       "</table>\n",
       "</div>"
      ],
      "text/plain": [
       "   Home  Heating_Cost  Temperature  Insulation  Age  Garage\n",
       "0     1           250           35           3    6       0\n",
       "1     2           360           29           4   10       1\n",
       "2     3           165           36           7    3       0\n",
       "3     4            43           60           6    9       0\n",
       "4     5            92           65           5    6       0"
      ]
     },
     "metadata": {},
     "output_type": "display_data"
    },
    {
     "name": "stdout",
     "output_type": "stream",
     "text": [
      "Tail of dataset:\n"
     ]
    },
    {
     "data": {
      "text/html": [
       "<div>\n",
       "<style scoped>\n",
       "    .dataframe tbody tr th:only-of-type {\n",
       "        vertical-align: middle;\n",
       "    }\n",
       "\n",
       "    .dataframe tbody tr th {\n",
       "        vertical-align: top;\n",
       "    }\n",
       "\n",
       "    .dataframe thead th {\n",
       "        text-align: right;\n",
       "    }\n",
       "</style>\n",
       "<table border=\"1\" class=\"dataframe\">\n",
       "  <thead>\n",
       "    <tr style=\"text-align: right;\">\n",
       "      <th></th>\n",
       "      <th>Home</th>\n",
       "      <th>Heating_Cost</th>\n",
       "      <th>Temperature</th>\n",
       "      <th>Insulation</th>\n",
       "      <th>Age</th>\n",
       "      <th>Garage</th>\n",
       "    </tr>\n",
       "  </thead>\n",
       "  <tbody>\n",
       "    <tr>\n",
       "      <th>15</th>\n",
       "      <td>16</td>\n",
       "      <td>272</td>\n",
       "      <td>20</td>\n",
       "      <td>5</td>\n",
       "      <td>8</td>\n",
       "      <td>1</td>\n",
       "    </tr>\n",
       "    <tr>\n",
       "      <th>16</th>\n",
       "      <td>17</td>\n",
       "      <td>94</td>\n",
       "      <td>58</td>\n",
       "      <td>7</td>\n",
       "      <td>3</td>\n",
       "      <td>0</td>\n",
       "    </tr>\n",
       "    <tr>\n",
       "      <th>17</th>\n",
       "      <td>18</td>\n",
       "      <td>190</td>\n",
       "      <td>40</td>\n",
       "      <td>8</td>\n",
       "      <td>11</td>\n",
       "      <td>1</td>\n",
       "    </tr>\n",
       "    <tr>\n",
       "      <th>18</th>\n",
       "      <td>19</td>\n",
       "      <td>235</td>\n",
       "      <td>27</td>\n",
       "      <td>9</td>\n",
       "      <td>8</td>\n",
       "      <td>0</td>\n",
       "    </tr>\n",
       "    <tr>\n",
       "      <th>19</th>\n",
       "      <td>20</td>\n",
       "      <td>139</td>\n",
       "      <td>30</td>\n",
       "      <td>7</td>\n",
       "      <td>5</td>\n",
       "      <td>0</td>\n",
       "    </tr>\n",
       "  </tbody>\n",
       "</table>\n",
       "</div>"
      ],
      "text/plain": [
       "    Home  Heating_Cost  Temperature  Insulation  Age  Garage\n",
       "15    16           272           20           5    8       1\n",
       "16    17            94           58           7    3       0\n",
       "17    18           190           40           8   11       1\n",
       "18    19           235           27           9    8       0\n",
       "19    20           139           30           7    5       0"
      ]
     },
     "metadata": {},
     "output_type": "display_data"
    }
   ],
   "source": [
    "df1 = pd.read_excel('Stat_2020_2_Fin.xlsx', sheet_name = 'January')\n",
    "print('Head of dataset:')\n",
    "display(df1.head())\n",
    "print(\"Tail of dataset:\")\n",
    "display(df1.tail())"
   ]
  },
  {
   "cell_type": "markdown",
   "metadata": {},
   "source": [
    "### (1)"
   ]
  },
  {
   "cell_type": "code",
   "execution_count": 6,
   "metadata": {},
   "outputs": [
    {
     "data": {
      "image/png": "[encoded data removed]",
      "text/plain": [
       "<Figure size 360x240 with 1 Axes>"
      ]
     },
     "metadata": {
      "needs_background": "light"
     },
     "output_type": "display_data"
    }
   ],
   "source": [
    "df1_c1 = df1[df1.Garage == 0]\n",
    "df1_c2 = df1[df1.Garage == 1]\n",
    "\n",
    "_ = sns.regplot(x='Temperature', y= 'Heating_Cost', data = df1_c1, color = 'green', ci = None)\n",
    "_ = sns.regplot(x='Temperature', y= 'Heating_Cost', data = df1_c2, color = 'orange', ci = None)\n",
    "plt.legend(labels=['Garage = 0', 'Garage = 1'])\n",
    "plt.title('Scatter Plot for Heating_Cost')\n",
    "plt.xlabel('Temperature')\n",
    "plt.ylabel('Heating_Cost')\n",
    "plt.show()"
   ]
  },
  {
   "cell_type": "code",
   "execution_count": 7,
   "metadata": {},
   "outputs": [
    {
     "data": {
      "image/png": "[encoded data removed]",
      "text/plain": [
       "<Figure size 360x240 with 1 Axes>"
      ]
     },
     "metadata": {
      "needs_background": "light"
     },
     "output_type": "display_data"
    }
   ],
   "source": [
    "df1_c1 = df1[df1.Garage == 0]\n",
    "df1_c2 = df1[df1.Garage == 1]\n",
    "\n",
    "_ = sns.regplot(x='Insulation', y= 'Heating_Cost', data = df1_c1, color = 'green', ci = None)\n",
    "_ = sns.regplot(x='Insulation', y= 'Heating_Cost', data = df1_c2, color = 'orange', ci = None)\n",
    "plt.legend(labels=['Garage = 0', 'Garage = 1'])\n",
    "plt.title('Scatter Plot for Heating_Cost')\n",
    "plt.xlabel('Insulation')\n",
    "plt.ylabel('Heating_Cost')\n",
    "plt.show()"
   ]
  },
  {
   "cell_type": "code",
   "execution_count": 8,
   "metadata": {},
   "outputs": [
    {
     "data": {
      "image/png": "[encoded data removed]",
      "text/plain": [
       "<Figure size 360x240 with 1 Axes>"
      ]
     },
     "metadata": {
      "needs_background": "light"
     },
     "output_type": "display_data"
    }
   ],
   "source": [
    "df1_c1 = df1[df1.Garage == 0]\n",
    "df1_c2 = df1[df1.Garage == 1]\n",
    "\n",
    "_ = sns.regplot(x='Age', y= 'Heating_Cost', data = df1_c1, color = 'green', ci = None)\n",
    "_ = sns.regplot(x='Age', y= 'Heating_Cost', data = df1_c2, color = 'orange', ci = None)\n",
    "plt.legend(labels=['Garage = 0', 'Garage = 1'])\n",
    "plt.title('Scatter Plot for Heating_Cost')\n",
    "plt.xlabel('Age')\n",
    "plt.ylabel('Heating_Cost')\n",
    "plt.show()"
   ]
  },
  {
   "cell_type": "markdown",
   "metadata": {},
   "source": [
    "It appears that Garage is not interacting with Temperature, Insulation, and Age on Heating cost. Therefore, no interaction variable should be added to the regression mode. In addition, the relation between Temperature and Heating Cost is negatively linear for with or without garage, same as Insulation and Heating Cost which Age and Heating Cost is positively linear."
   ]
  },
  {
   "cell_type": "markdown",
   "metadata": {},
   "source": [
    "### (2)"
   ]
  },
  {
   "cell_type": "code",
   "execution_count": 9,
   "metadata": {},
   "outputs": [
    {
     "data": {
      "text/plain": [
       "Index(['Home', 'Heating_Cost', 'Temperature', 'Insulation', 'Age', 'Garage'], dtype='object')"
      ]
     },
     "execution_count": 9,
     "metadata": {},
     "output_type": "execute_result"
    }
   ],
   "source": [
    "df1.columns"
   ]
  },
  {
   "cell_type": "code",
   "execution_count": 10,
   "metadata": {},
   "outputs": [
    {
     "data": {
      "image/png": "[encoded data removed]",
      "text/plain": [
       "<Figure size 360x240 with 2 Axes>"
      ]
     },
     "metadata": {
      "needs_background": "light"
     },
     "output_type": "display_data"
    }
   ],
   "source": [
    "df1a = df1[df1.columns]\n",
    "corr1 = df1a.corr()\n",
    "_ = sns.heatmap(corr1, annot=True)"
   ]
  },
  {
   "cell_type": "markdown",
   "metadata": {},
   "source": [
    "positive: between heating cost and age, between heating cost and garage\n",
    "\n",
    "negative: between heating cost and temperature, between heating cost and insulation.\n",
    "\n",
    "There is no linear relationships(r>0.7) between independent variables, which imply no multicollinearity problem."
   ]
  },
  {
   "cell_type": "markdown",
   "metadata": {},
   "source": [
    "### (3)"
   ]
  },
  {
   "cell_type": "code",
   "execution_count": 11,
   "metadata": {},
   "outputs": [
    {
     "name": "stdout",
     "output_type": "stream",
     "text": [
      "                            OLS Regression Results                            \n",
      "==============================================================================\n",
      "Dep. Variable:           Heating_Cost   R-squared:                       0.880\n",
      "Model:                            OLS   Adj. R-squared:                  0.848\n",
      "Method:                 Least Squares   F-statistic:                     27.57\n",
      "Date:                Wed, 01 Jun 2022   Prob (F-statistic):           9.27e-07\n",
      "Time:                        13:18:03   Log-Likelihood:                -99.882\n",
      "No. Observations:                  20   AIC:                             209.8\n",
      "Df Residuals:                      15   BIC:                             214.7\n",
      "Df Model:                           4                                         \n",
      "Covariance Type:            nonrobust                                         \n",
      "===============================================================================\n",
      "                  coef    std err          t      P>|t|      [0.025      0.975]\n",
      "-------------------------------------------------------------------------------\n",
      "const         361.7461     52.590      6.879      0.000     249.654     473.839\n",
      "Temperature    -3.7003      0.686     -5.394      0.000      -5.162      -2.238\n",
      "Insulation    -11.6634      3.974     -2.935      0.010     -20.134      -3.193\n",
      "Age             3.8022      3.324      1.144      0.271      -3.283      10.888\n",
      "Garage         71.5017     23.155      3.088      0.007      22.149     120.854\n",
      "==============================================================================\n",
      "Omnibus:                        2.715   Durbin-Watson:                   2.266\n",
      "Prob(Omnibus):                  0.257   Jarque-Bera (JB):                1.370\n",
      "Skew:                          -0.289   Prob(JB):                        0.504\n",
      "Kurtosis:                       1.856   Cond. No.                         243.\n",
      "==============================================================================\n",
      "\n",
      "Notes:\n",
      "[1] Standard Errors assume that the covariance matrix of the errors is correctly specified.\n",
      "\n",
      "Estimated model: y = 361.7461 + -3.7003 Temperature + -11.6634 Insulation + 3.8022 Age + 71.5017 Garage \n"
     ]
    }
   ],
   "source": [
    "y_data = df1['Heating_Cost']\n",
    "X_data_ar = np.array([df1['Temperature'], df1['Insulation'], df1[\"Age\"], df1['Garage']])\n",
    "X_data_T = X_data_ar.T\n",
    "columns = ['Temperature', 'Insulation', 'Age', 'Garage']\n",
    "X_data = pd.DataFrame(X_data_T, columns = ['Temperature', 'Insulation', 'Age', 'Garage'])\n",
    "X_data2 = sm.add_constant(X_data)\n",
    "olsmod = sm.OLS(y_data, X_data2)\n",
    "result = olsmod.fit()\n",
    "print(result.summary())\n",
    "print()\n",
    "s = f\"Estimated model: y = {result.params[0]:.4f} \"\n",
    "for i in range(1, len(result.params)):\n",
    "    s += f'+ {result.params[i]:.4f} {columns[i - 1]} '\n",
    "print(s)"
   ]
  },
  {
   "cell_type": "markdown",
   "metadata": {},
   "source": [
    "There is no correlation between variables bigger than 0.7 or smaller than -0.7.\n",
    "\n",
    "Coef of Age > 0 and Temperature, Insulation < 0 which is accordance to our scatter plot and corr.\n",
    "\n",
    "pvalue of f test < 0.05 and there is at least one pvalue of $B_i$ < 0.5 which means is not equal to zero so we can assume that the model doesn't have multicollinearity problem."
   ]
  },
  {
   "cell_type": "markdown",
   "metadata": {},
   "source": [
    "### (4)"
   ]
  },
  {
   "cell_type": "code",
   "execution_count": 12,
   "metadata": {},
   "outputs": [
    {
     "name": "stdout",
     "output_type": "stream",
     "text": [
      "Columns in data are: ['Obs', 'Dep Var\\nPopulation', 'Predicted\\nValue', 'Std Error\\nMean Predict', 'Mean ci\\n95% low', 'Mean ci\\n95% upp', 'Predict ci\\n95% low', 'Predict ci\\n95% upp', 'Residual', 'Std Error\\nResidual', 'Student\\nResidual', \"Cook's\\nD\"]\n",
      "[ 0.83935452  1.14002503  0.17945781 -1.71683574  0.1712674  -0.3090178\n",
      "  0.05906522 -1.14339188  0.26415557 -0.9699586   1.14359495  0.12951956\n",
      "  1.29547083  1.37087671  0.07411074 -1.56442527  0.45270153 -1.26184075\n",
      "  1.28095539 -1.29617047]\n",
      "mu =  0.006945738164771786\n",
      "sigma =  0.9970539321513229\n"
     ]
    }
   ],
   "source": [
    "st, data, ss2 = sso.summary_table(result, alpha=0.05)\n",
    "print(\"Columns in data are: %s\" % ss2)\n",
    "#Predicted value\n",
    "y_pre = data[:, 2]\n",
    "#Studentized Residual\n",
    "SD = data[:, 10]\n",
    "mu = np.mean(SD)\n",
    "sigma = np.std(SD)\n",
    "print(SD)\n",
    "print('mu = ', mu)\n",
    "print('sigma = ', sigma)"
   ]
  },
  {
   "cell_type": "markdown",
   "metadata": {},
   "source": [
    "### Normality Test¶\n",
    "$H_0$: Errors are normally distributed.\n",
    "\n",
    "$H_1$: Errors are not normally distributed."
   ]
  },
  {
   "cell_type": "code",
   "execution_count": 13,
   "metadata": {},
   "outputs": [
    {
     "name": "stdout",
     "output_type": "stream",
     "text": [
      "Shapiro Test\n",
      "Statistics=0.915, p=0.080\n"
     ]
    },
    {
     "data": {
      "image/png": "[encoded data removed]",
      "text/plain": [
       "<Figure size 360x240 with 1 Axes>"
      ]
     },
     "metadata": {
      "needs_background": "light"
     },
     "output_type": "display_data"
    }
   ],
   "source": [
    "fig = plt.hist(SD, bins='auto')\n",
    "plt.title('Residuals')\n",
    "print('Shapiro Test')\n",
    "stat, p = stats.shapiro(SD)\n",
    "print('Statistics=%.3f, p=%.3f' % (stat, p))"
   ]
  },
  {
   "cell_type": "markdown",
   "metadata": {},
   "source": [
    "p_value = 0.080 > 0.05 so we can't reject null hypothesis. We can say that their disbutions are normal."
   ]
  },
  {
   "cell_type": "markdown",
   "metadata": {},
   "source": [
    "### Homoscedasticity and Heteroscedasticity\n",
    "$H_0$: The requirement of a constant variance is not violated\n",
    "\n",
    "$H_1$: The requirement of a constant variance is violated"
   ]
  },
  {
   "cell_type": "code",
   "execution_count": 14,
   "metadata": {},
   "outputs": [
    {
     "data": {
      "image/png": "[encoded data removed]",
      "text/plain": [
       "<Figure size 360x240 with 1 Axes>"
      ]
     },
     "metadata": {
      "needs_background": "light"
     },
     "output_type": "display_data"
    }
   ],
   "source": [
    "plt.plot(y_pre, SD, 'o', color = 'gray')\n",
    "plt.axhline(y=2, color = 'red', lw = 0.8)\n",
    "plt.axhline(y=0, color = 'blue')\n",
    "plt.axhline(y=-2, color = 'red', lw = 0.8)\n",
    "plt.title('Standardized Residual Plot')\n",
    "plt.xlabel('Predicted y value')\n",
    "plt.ylabel('Standardized Residual')\n",
    "plt.show()"
   ]
  },
  {
   "cell_type": "markdown",
   "metadata": {},
   "source": [
    "Do not rejected H0. We can assume that the variation is constant and the mean is around 0."
   ]
  },
  {
   "cell_type": "markdown",
   "metadata": {},
   "source": [
    "### Dependence of the Error Variable\n",
    "### run test\n",
    "$H_0$: Randomness exists.\n",
    "\n",
    "$H_1$: Randomness does not exist."
   ]
  },
  {
   "cell_type": "code",
   "execution_count": 15,
   "metadata": {},
   "outputs": [
    {
     "name": "stdout",
     "output_type": "stream",
     "text": [
      "Randomness Test using Runs Test\n",
      " - H0: Randomness exists.\n",
      " - H1: Randomness does not exist\n",
      "\n",
      "runs =  14\n",
      "n1 =  10\n",
      "n2 =  10\n",
      "Since both n1 and n2 < 20, we check the Run Test table.\n"
     ]
    },
    {
     "data": {
      "image/png": "[encoded data removed]",
      "text/plain": [
       "<Figure size 360x240 with 1 Axes>"
      ]
     },
     "metadata": {
      "needs_background": "light"
     },
     "output_type": "display_data"
    }
   ],
   "source": [
    "runtest(SD)\n",
    "Id1 = data[:, 0]\n",
    "plt.plot(Id1, SD, 'o', color = 'gray')\n",
    "plt.axhline(y=0, color = 'blue')\n",
    "plt.axhline(y=2, color = 'red')\n",
    "plt.axhline(y=-2, color = 'red')\n",
    "plt.title('Standardized Residual Plot')\n",
    "plt.xlabel('Observation No.')\n",
    "plt.ylabel('Standardized Residual')\n",
    "plt.show()"
   ]
  },
  {
   "cell_type": "markdown",
   "metadata": {},
   "source": [
    "6 < runs = 14 < 16, we can't reject H0. There is no evidence to infer that the sample is not random."
   ]
  },
  {
   "cell_type": "markdown",
   "metadata": {},
   "source": [
    "### (5)"
   ]
  },
  {
   "cell_type": "markdown",
   "metadata": {},
   "source": [
    "### outlier"
   ]
  },
  {
   "cell_type": "code",
   "execution_count": 14,
   "metadata": {},
   "outputs": [
    {
     "name": "stdout",
     "output_type": "stream",
     "text": [
      "Outliers by SD = \n",
      "\n",
      "Series([], Name: SD, dtype: float64)\n"
     ]
    }
   ],
   "source": [
    "df1_o = pd.DataFrame(SD,columns = ['SD'])\n",
    "filter = (df1_o['SD'] < -2) | (df1_o['SD'] > 2)\n",
    "print(\"Outliers by SD = \\n\")\n",
    "print(df1_o['SD'].loc[filter])"
   ]
  },
  {
   "cell_type": "markdown",
   "metadata": {},
   "source": [
    "### influential observation"
   ]
  },
  {
   "cell_type": "code",
   "execution_count": 15,
   "metadata": {},
   "outputs": [
    {
     "name": "stdout",
     "output_type": "stream",
     "text": [
      "h_level =  0.75\n",
      " \n",
      "\n",
      "Influential Observations by hi = \n",
      "\n",
      "Series([], Name: hii, dtype: float64)\n"
     ]
    }
   ],
   "source": [
    "X = X_data2\n",
    "H = np.dot(X, np.dot(np.linalg.inv(np.dot(X.T, X)), X.T))\n",
    "df1[\"hii\"] = np.diagonal(H)\n",
    "df1_h = pd.DataFrame(df1[\"hii\"])\n",
    "k = result.df_model\n",
    "n = len(df1_h['hii'])\n",
    "h_level = 3 * (k+1) / n \n",
    "print(\"h_level = \", h_level)\n",
    "print(\" \\n\")\n",
    "filter = (df1_h['hii'] > h_level )\n",
    "print(\"Influential Observations by hi = \\n\")\n",
    "print(df1_h['hii'].loc[filter])"
   ]
  },
  {
   "cell_type": "markdown",
   "metadata": {},
   "source": [
    "### (6)"
   ]
  },
  {
   "cell_type": "code",
   "execution_count": 16,
   "metadata": {},
   "outputs": [
    {
     "name": "stdout",
     "output_type": "stream",
     "text": [
      "                            OLS Regression Results                            \n",
      "==============================================================================\n",
      "Dep. Variable:           Heating_Cost   R-squared:                       0.880\n",
      "Model:                            OLS   Adj. R-squared:                  0.848\n",
      "Method:                 Least Squares   F-statistic:                     27.57\n",
      "Date:                Tue, 31 May 2022   Prob (F-statistic):           9.27e-07\n",
      "Time:                        20:09:56   Log-Likelihood:                -99.882\n",
      "No. Observations:                  20   AIC:                             209.8\n",
      "Df Residuals:                      15   BIC:                             214.7\n",
      "Df Model:                           4                                         \n",
      "Covariance Type:            nonrobust                                         \n",
      "===============================================================================\n",
      "                  coef    std err          t      P>|t|      [0.025      0.975]\n",
      "-------------------------------------------------------------------------------\n",
      "const         361.7461     52.590      6.879      0.000     249.654     473.839\n",
      "Temperature    -3.7003      0.686     -5.394      0.000      -5.162      -2.238\n",
      "Insulation    -11.6634      3.974     -2.935      0.010     -20.134      -3.193\n",
      "Age             3.8022      3.324      1.144      0.271      -3.283      10.888\n",
      "Garage         71.5017     23.155      3.088      0.007      22.149     120.854\n",
      "==============================================================================\n",
      "Omnibus:                        2.715   Durbin-Watson:                   2.266\n",
      "Prob(Omnibus):                  0.257   Jarque-Bera (JB):                1.370\n",
      "Skew:                          -0.289   Prob(JB):                        0.504\n",
      "Kurtosis:                       1.856   Cond. No.                         243.\n",
      "==============================================================================\n",
      "\n",
      "Warnings:\n",
      "[1] Standard Errors assume that the covariance matrix of the errors is correctly specified.\n"
     ]
    }
   ],
   "source": [
    "print(result.summary())"
   ]
  },
  {
   "cell_type": "code",
   "execution_count": 17,
   "metadata": {},
   "outputs": [
    {
     "name": "stdout",
     "output_type": "stream",
     "text": [
      "standard error =  41.2233139878797\n",
      "mean of y 205.25\n",
      "std of y 105.85883102161651\n"
     ]
    }
   ],
   "source": [
    "print(\"standard error = \", result.mse_resid ** 0.5)\n",
    "\n",
    "print(\"mean of y\", df1['Heating_Cost'].mean())\n",
    "print(\"std of y\", df1['Heating_Cost'].std())"
   ]
  },
  {
   "cell_type": "markdown",
   "metadata": {},
   "source": [
    "The standard err of estimate = 41.2233139878797, mean of y = 205.25. It appears that the standard error of estimate is quite small and the model is good fit."
   ]
  },
  {
   "cell_type": "code",
   "execution_count": 18,
   "metadata": {},
   "outputs": [
    {
     "name": "stdout",
     "output_type": "stream",
     "text": [
      "SSR =  25490.424242149773\n",
      "R2 =  0.8802792924330409\n"
     ]
    }
   ],
   "source": [
    "SSR = result.ssr\n",
    "R2 = result.rsquared\n",
    "print(\"SSR = \", SSR)\n",
    "print(\"R2 = \", R2)"
   ]
  },
  {
   "cell_type": "markdown",
   "metadata": {},
   "source": [
    "88.0% of the variation in heating cost is explained by the variation of independent variables. The rest remains unexplained by this model.\n",
    "adj r^2 = 84.8% (88 - 84.8) < 6, which indicates that there don't have overfitting problem."
   ]
  },
  {
   "cell_type": "markdown",
   "metadata": {},
   "source": [
    "#### f-test\n",
    "$H_0$: $\\beta_1$ = $\\beta_2$ = $\\beta_3$ = $\\beta_4$ = 0\n",
    "\n",
    "$H_1$: At least one $\\beta_i$ $\\neq$ 0"
   ]
  },
  {
   "cell_type": "code",
   "execution_count": 19,
   "metadata": {},
   "outputs": [
    {
     "name": "stdout",
     "output_type": "stream",
     "text": [
      "SSR =  187425.32575785022 df =  4.0 MSR =  46856.331439462556\n",
      "SSE =  25490.424242149773 df =  15.0 MSE =  1699.361616143318\n",
      "F =  27.572902079430552\n",
      "<F test: F=array([[27.57290208]]), p=9.272627995468573e-07, df_denom=15, df_num=4>\n"
     ]
    }
   ],
   "source": [
    "f_res = result.fvalue\n",
    "MSE = result.mse_resid\n",
    "df_model = result.df_model\n",
    "df_error = result.df_resid\n",
    "MSR = f_res * MSE\n",
    "SSR = MSR * df_model\n",
    "print(\"SSR = \", SSR, \"df = \", df_model, \"MSR = \", MSR)\n",
    "print(\"SSE = \", MSE * df_error, \"df = \", df_error, \"MSE = \", MSE)\n",
    "print(\"F = \", MSR / MSE)\n",
    "A = np.identity(len(result.params))\n",
    "A = A[1:,:]\n",
    "print(result.f_test(A))"
   ]
  },
  {
   "cell_type": "markdown",
   "metadata": {},
   "source": [
    "pvalue = 9.272627995468202e-07 < 0.05, we can reject H0. There is sufficient evidence to reject the null hypothesis in favor of the alternative hypothesis. At least one of the $\\beta_i$ is not equal to zero. Thus, at least one independent variable is related to y. This regression model is valid."
   ]
  },
  {
   "cell_type": "markdown",
   "metadata": {},
   "source": [
    "#### testing of the coefficients\n",
    "\n",
    "$H_0$: $\\beta_i$ = 0\n",
    "\n",
    "$H_1$: $\\beta_i \\neq$ 0\n",
    "\n",
    "pvalue of Temperature = 0.000 < 0.05, we can reject H0. There is sufficient evidence to conclude that there is a linear relationship between the heating cost and Temperature\n",
    "\n",
    "pvalue of Insulation = 0.010 < 0.05, we can reject H0. There is sufficient evidence to conclude that there is a linear relationship between the heating cost and Insulation\n",
    "\n",
    "pvalue of Age = 0.271 > 0.05, we can't reject H0. There isn't sufficient evidence to conclude that there is a linear relationship between the heating cost and Age\n",
    "\n",
    "pvalue of Garage = 0.007 < 0.05, we can reject H0. There is sufficient evidence to conclude that there is a linear relationship between the heating cost and Garage"
   ]
  },
  {
   "cell_type": "markdown",
   "metadata": {},
   "source": [
    "### (7)"
   ]
  },
  {
   "cell_type": "code",
   "execution_count": 20,
   "metadata": {},
   "outputs": [],
   "source": [
    "def CI_PI_regression(xdata, yval, x1, a):\n",
    "    print(\"make CI and PI prediction at mean of x = \", x1)\n",
    "    X_data_T = xdata.T\n",
    "    X_data2 = sm.add_constant(X_data_T)\n",
    "    olsmod = sm.OLS(yval, X_data2)\n",
    "    result_reg = olsmod.fit()\n",
    "    y_head = np.dot(result_reg.params, x1)\n",
    "    print(\"y_head = \", y_head)\n",
    "    (t_minus, t_plus) = stats.t.interval(alpha = (1.0 - a), df = result_reg.df_resid )\n",
    "    core1 = (result_reg.mse_resid * np.matmul(x1, np.linalg.solve(np.matmul(X_data2.T, X_data2), x1))) ** 0.5\n",
    "    lower_bound = y_head +  t_minus * core1\n",
    "    upper_bound = y_head +  t_plus * core1\n",
    "    print(\"confidence interval of mean = [%0.4f, %0.4f] \" % (lower_bound, upper_bound))\n",
    "    core2 = (result_reg.mse_resid * (1 + np.matmul(x1, np.linalg.solve(np.matmul(X_data2.T, X_data2), x1)))) ** 0.5\n",
    "    lower_bound2 = y_head +  t_minus * core2\n",
    "    upper_bound2 = y_head +  t_plus * core2\n",
    "    print(\"Prediction interval = [%0.4f, %0.4f] \" % (lower_bound2, upper_bound2))\n",
    "    CI_PI = np.array([lower_bound, upper_bound, lower_bound2, upper_bound2])\n",
    "    return CI_PI"
   ]
  },
  {
   "cell_type": "code",
   "execution_count": 21,
   "metadata": {},
   "outputs": [
    {
     "name": "stdout",
     "output_type": "stream",
     "text": [
      "make CI and PI prediction at mean of x =  [ 1 30  5 10  0]\n",
      "y_head =  230.4434745002736\n",
      "confidence interval of mean = [187.1352, 273.7518] \n",
      "Prediction interval = [132.4846, 328.4023] \n",
      "[187.13516291 273.75178609 132.48460146 328.40234754]\n"
     ]
    }
   ],
   "source": [
    "# 看好model參數\n",
    "X_data_ar = np.array([df1['Temperature'], df1['Insulation'], df1[\"Age\"], df1['Garage']])\n",
    "xg = np.array([1, 30, 5, 10, 0])  # 第一個1不要改\n",
    "CI_PI_result = CI_PI_regression(X_data_ar, y_data, xg, 0.05)\n",
    "print(CI_PI_result)"
   ]
  },
  {
   "cell_type": "markdown",
   "metadata": {},
   "source": [
    "It is predicted, with 95% confidence that the interval, 187.13516291 273.75178609, covers the average heating cost for homes if the mean outside temperature is 30 degrees, there are 5 inches of insulation in the attic, the furnace is 10 years old, and without garage."
   ]
  },
  {
   "cell_type": "markdown",
   "metadata": {},
   "source": [
    "It is predicted, with 95% confidence that the interval, 132.48460146 328.40234754, covers the heating cost for a specific home if the mean outside temperature is 30 degrees, there are 5 inches of insulation in the attic, the furnace is 10 years old, and without garage."
   ]
  },
  {
   "cell_type": "markdown",
   "metadata": {},
   "source": [
    "## 2."
   ]
  },
  {
   "cell_type": "code",
   "execution_count": 22,
   "metadata": {},
   "outputs": [
    {
     "name": "stdout",
     "output_type": "stream",
     "text": [
      "Head of dataset:\n"
     ]
    },
    {
     "data": {
      "text/html": [
       "<div>\n",
       "<style scoped>\n",
       "    .dataframe tbody tr th:only-of-type {\n",
       "        vertical-align: middle;\n",
       "    }\n",
       "\n",
       "    .dataframe tbody tr th {\n",
       "        vertical-align: top;\n",
       "    }\n",
       "\n",
       "    .dataframe thead th {\n",
       "        text-align: right;\n",
       "    }\n",
       "</style>\n",
       "<table border=\"1\" class=\"dataframe\">\n",
       "  <thead>\n",
       "    <tr style=\"text-align: right;\">\n",
       "      <th></th>\n",
       "      <th>Sample #</th>\n",
       "      <th>Appraised_Value</th>\n",
       "      <th>Land</th>\n",
       "      <th>House_Size</th>\n",
       "      <th>Age</th>\n",
       "      <th>Rooms</th>\n",
       "      <th>Baths</th>\n",
       "      <th>Garage</th>\n",
       "    </tr>\n",
       "  </thead>\n",
       "  <tbody>\n",
       "    <tr>\n",
       "      <th>0</th>\n",
       "      <td>1</td>\n",
       "      <td>548.4</td>\n",
       "      <td>0.4608</td>\n",
       "      <td>2707</td>\n",
       "      <td>18</td>\n",
       "      <td>8</td>\n",
       "      <td>2.5</td>\n",
       "      <td>1</td>\n",
       "    </tr>\n",
       "    <tr>\n",
       "      <th>1</th>\n",
       "      <td>2</td>\n",
       "      <td>363.5</td>\n",
       "      <td>0.1435</td>\n",
       "      <td>2080</td>\n",
       "      <td>78</td>\n",
       "      <td>11</td>\n",
       "      <td>2.0</td>\n",
       "      <td>0</td>\n",
       "    </tr>\n",
       "    <tr>\n",
       "      <th>2</th>\n",
       "      <td>3</td>\n",
       "      <td>651.3</td>\n",
       "      <td>0.2775</td>\n",
       "      <td>2070</td>\n",
       "      <td>52</td>\n",
       "      <td>6</td>\n",
       "      <td>2.0</td>\n",
       "      <td>1</td>\n",
       "    </tr>\n",
       "    <tr>\n",
       "      <th>3</th>\n",
       "      <td>4</td>\n",
       "      <td>786.0</td>\n",
       "      <td>0.2116</td>\n",
       "      <td>3244</td>\n",
       "      <td>72</td>\n",
       "      <td>6</td>\n",
       "      <td>2.0</td>\n",
       "      <td>0</td>\n",
       "    </tr>\n",
       "    <tr>\n",
       "      <th>4</th>\n",
       "      <td>5</td>\n",
       "      <td>304.3</td>\n",
       "      <td>0.1693</td>\n",
       "      <td>1331</td>\n",
       "      <td>64</td>\n",
       "      <td>5</td>\n",
       "      <td>1.0</td>\n",
       "      <td>1</td>\n",
       "    </tr>\n",
       "  </tbody>\n",
       "</table>\n",
       "</div>"
      ],
      "text/plain": [
       "   Sample #  Appraised_Value    Land  House_Size  Age  Rooms  Baths  Garage\n",
       "0         1            548.4  0.4608        2707   18      8    2.5       1\n",
       "1         2            363.5  0.1435        2080   78     11    2.0       0\n",
       "2         3            651.3  0.2775        2070   52      6    2.0       1\n",
       "3         4            786.0  0.2116        3244   72      6    2.0       0\n",
       "4         5            304.3  0.1693        1331   64      5    1.0       1"
      ]
     },
     "metadata": {},
     "output_type": "display_data"
    },
    {
     "name": "stdout",
     "output_type": "stream",
     "text": [
      "Tail of dataset:\n"
     ]
    },
    {
     "data": {
      "text/html": [
       "<div>\n",
       "<style scoped>\n",
       "    .dataframe tbody tr th:only-of-type {\n",
       "        vertical-align: middle;\n",
       "    }\n",
       "\n",
       "    .dataframe tbody tr th {\n",
       "        vertical-align: top;\n",
       "    }\n",
       "\n",
       "    .dataframe thead th {\n",
       "        text-align: right;\n",
       "    }\n",
       "</style>\n",
       "<table border=\"1\" class=\"dataframe\">\n",
       "  <thead>\n",
       "    <tr style=\"text-align: right;\">\n",
       "      <th></th>\n",
       "      <th>Sample #</th>\n",
       "      <th>Appraised_Value</th>\n",
       "      <th>Land</th>\n",
       "      <th>House_Size</th>\n",
       "      <th>Age</th>\n",
       "      <th>Rooms</th>\n",
       "      <th>Baths</th>\n",
       "      <th>Garage</th>\n",
       "    </tr>\n",
       "  </thead>\n",
       "  <tbody>\n",
       "    <tr>\n",
       "      <th>55</th>\n",
       "      <td>56</td>\n",
       "      <td>766.4</td>\n",
       "      <td>0.3606</td>\n",
       "      <td>3136</td>\n",
       "      <td>34</td>\n",
       "      <td>9</td>\n",
       "      <td>3.5</td>\n",
       "      <td>1</td>\n",
       "    </tr>\n",
       "    <tr>\n",
       "      <th>56</th>\n",
       "      <td>57</td>\n",
       "      <td>429.0</td>\n",
       "      <td>0.1630</td>\n",
       "      <td>2073</td>\n",
       "      <td>29</td>\n",
       "      <td>5</td>\n",
       "      <td>3.0</td>\n",
       "      <td>2</td>\n",
       "    </tr>\n",
       "    <tr>\n",
       "      <th>57</th>\n",
       "      <td>58</td>\n",
       "      <td>811.8</td>\n",
       "      <td>0.4560</td>\n",
       "      <td>4065</td>\n",
       "      <td>43</td>\n",
       "      <td>7</td>\n",
       "      <td>2.5</td>\n",
       "      <td>2</td>\n",
       "    </tr>\n",
       "    <tr>\n",
       "      <th>58</th>\n",
       "      <td>59</td>\n",
       "      <td>635.7</td>\n",
       "      <td>0.1300</td>\n",
       "      <td>3202</td>\n",
       "      <td>15</td>\n",
       "      <td>8</td>\n",
       "      <td>2.5</td>\n",
       "      <td>2</td>\n",
       "    </tr>\n",
       "    <tr>\n",
       "      <th>59</th>\n",
       "      <td>60</td>\n",
       "      <td>288.4</td>\n",
       "      <td>0.1714</td>\n",
       "      <td>1344</td>\n",
       "      <td>52</td>\n",
       "      <td>8</td>\n",
       "      <td>1.0</td>\n",
       "      <td>0</td>\n",
       "    </tr>\n",
       "  </tbody>\n",
       "</table>\n",
       "</div>"
      ],
      "text/plain": [
       "    Sample #  Appraised_Value    Land  House_Size  Age  Rooms  Baths  Garage\n",
       "55        56            766.4  0.3606        3136   34      9    3.5       1\n",
       "56        57            429.0  0.1630        2073   29      5    3.0       2\n",
       "57        58            811.8  0.4560        4065   43      7    2.5       2\n",
       "58        59            635.7  0.1300        3202   15      8    2.5       2\n",
       "59        60            288.4  0.1714        1344   52      8    1.0       0"
      ]
     },
     "metadata": {},
     "output_type": "display_data"
    }
   ],
   "source": [
    "df1 = pd.read_excel(r\"C:\\Users\\User\\OneDrive\\桌面\\統計學下\\Stat_2020_2_Fin.xlsx\", 'NY Home')\n",
    "print('Head of dataset:')\n",
    "display(df1.head())\n",
    "print(\"Tail of dataset:\")\n",
    "display(df1.tail())"
   ]
  },
  {
   "cell_type": "code",
   "execution_count": 23,
   "metadata": {},
   "outputs": [
    {
     "data": {
      "image/png": "[encoded data removed]",
      "text/plain": [
       "<Figure size 360x240 with 1 Axes>"
      ]
     },
     "metadata": {
      "needs_background": "light"
     },
     "output_type": "display_data"
    },
    {
     "data": {
      "image/png": "[encoded data removed]",
      "text/plain": [
       "<Figure size 360x240 with 1 Axes>"
      ]
     },
     "metadata": {
      "needs_background": "light"
     },
     "output_type": "display_data"
    },
    {
     "data": {
      "image/png": "[encoded data removed]",
      "text/plain": [
       "<Figure size 360x240 with 1 Axes>"
      ]
     },
     "metadata": {
      "needs_background": "light"
     },
     "output_type": "display_data"
    },
    {
     "data": {
      "image/png": "[encoded data removed]",
      "text/plain": [
       "<Figure size 360x240 with 1 Axes>"
      ]
     },
     "metadata": {
      "needs_background": "light"
     },
     "output_type": "display_data"
    },
    {
     "data": {
      "image/png": "[encoded data removed]",
      "text/plain": [
       "<Figure size 360x240 with 1 Axes>"
      ]
     },
     "metadata": {
      "needs_background": "light"
     },
     "output_type": "display_data"
    },
    {
     "data": {
      "image/png": "[encoded data removed]",
      "text/plain": [
       "<Figure size 360x240 with 1 Axes>"
      ]
     },
     "metadata": {
      "needs_background": "light"
     },
     "output_type": "display_data"
    },
    {
     "data": {
      "image/png": "[encoded data removed]",
      "text/plain": [
       "<Figure size 360x240 with 1 Axes>"
      ]
     },
     "metadata": {
      "needs_background": "light"
     },
     "output_type": "display_data"
    },
    {
     "data": {
      "image/png": "[encoded data removed]",
      "text/plain": [
       "<Figure size 360x240 with 1 Axes>"
      ]
     },
     "metadata": {
      "needs_background": "light"
     },
     "output_type": "display_data"
    }
   ],
   "source": [
    "y_var = df1['Appraised_Value'].values\n",
    "xnames = df1.columns\n",
    "for aname in xnames:\n",
    "    x_var = df1[aname].values\n",
    "    _ = sns.regplot(x = x_var, y = y_var, data = df1, color = 'b', ci = None)\n",
    "    #_ = plt.plot(x, y, 'o', color = 'b')\n",
    "    plt.xlabel(aname)\n",
    "    plt.ylabel('Appraised_Value')\n",
    "    plt.show()"
   ]
  },
  {
   "cell_type": "markdown",
   "metadata": {},
   "source": [
    "All of them are linearly related to appraised value.\n",
    "\n",
    "positively correlated: all of them instead age\n",
    "\n",
    "negatively correlated: age"
   ]
  },
  {
   "cell_type": "markdown",
   "metadata": {},
   "source": [
    "2."
   ]
  },
  {
   "cell_type": "code",
   "execution_count": 24,
   "metadata": {},
   "outputs": [
    {
     "data": {
      "image/png": "[encoded data removed]",
      "text/plain": [
       "<Figure size 360x240 with 2 Axes>"
      ]
     },
     "metadata": {
      "needs_background": "light"
     },
     "output_type": "display_data"
    }
   ],
   "source": [
    "df1_a = df1[df1.columns]\n",
    "corr1 = df1_a.corr()\n",
    "corr1\n",
    "_ = sns.heatmap(corr1, annot=True)"
   ]
  },
  {
   "cell_type": "markdown",
   "metadata": {},
   "source": [
    "All variables but Age are positively correlated to Appraised Value. There is no linear relationships(r>0.7) between independent variables, which imply no multicollinearity problem."
   ]
  },
  {
   "cell_type": "code",
   "execution_count": 25,
   "metadata": {},
   "outputs": [
    {
     "name": "stdout",
     "output_type": "stream",
     "text": [
      "                            OLS Regression Results                            \n",
      "==============================================================================\n",
      "Dep. Variable:        Appraised_Value   R-squared:                       0.736\n",
      "Model:                            OLS   Adj. R-squared:                  0.707\n",
      "Method:                 Least Squares   F-statistic:                     24.69\n",
      "Date:                Tue, 31 May 2022   Prob (F-statistic):           9.77e-14\n",
      "Time:                        20:09:58   Log-Likelihood:                -356.10\n",
      "No. Observations:                  60   AIC:                             726.2\n",
      "Df Residuals:                      53   BIC:                             740.9\n",
      "Df Model:                           6                                         \n",
      "Covariance Type:            nonrobust                                         \n",
      "==============================================================================\n",
      "                 coef    std err          t      P>|t|      [0.025      0.975]\n",
      "------------------------------------------------------------------------------\n",
      "const        -33.1754     89.477     -0.371      0.712    -212.644     146.293\n",
      "Land         328.2282    116.054      2.828      0.007      95.454     561.003\n",
      "House_Size     0.1489      0.027      5.539      0.000       0.095       0.203\n",
      "Age            0.1807      0.728      0.248      0.805      -1.279       1.640\n",
      "Rooms         -1.6293     10.479     -0.155      0.877     -22.648      19.389\n",
      "Baths         54.5461     23.161      2.355      0.022       8.091     101.001\n",
      "Garage         5.1700     23.860      0.217      0.829     -42.688      53.028\n",
      "==============================================================================\n",
      "Omnibus:                        4.655   Durbin-Watson:                   1.795\n",
      "Prob(Omnibus):                  0.098   Jarque-Bera (JB):                2.105\n",
      "Skew:                           0.084   Prob(JB):                        0.349\n",
      "Kurtosis:                       2.098   Cond. No.                     2.13e+04\n",
      "==============================================================================\n",
      "\n",
      "Warnings:\n",
      "[1] Standard Errors assume that the covariance matrix of the errors is correctly specified.\n",
      "[2] The condition number is large, 2.13e+04. This might indicate that there are\n",
      "strong multicollinearity or other numerical problems.\n",
      "\n",
      "Estimated model: y = -33.1754 + 328.2282 Land + 0.1489 House_Size + 0.1807 Age + -1.6293 Rooms + 54.5461 Baths + 5.1700 Garage \n"
     ]
    }
   ],
   "source": [
    "y_data = df1['Appraised_Value']\n",
    "X_data_ar = np.array([df1['Land'], df1[\"House_Size\"], df1['Age'], df1['Rooms'], df1['Baths'], df1['Garage']])\n",
    "X_data_T = X_data_ar.T\n",
    "columns = ['Land', 'House_Size', 'Age', 'Rooms', 'Baths', 'Garage']\n",
    "X_data = pd.DataFrame(X_data_T, columns = ['Land', 'House_Size', 'Age', 'Rooms', 'Baths', 'Garage'])\n",
    "X_data2 = sm.add_constant(X_data)\n",
    "olsmod = sm.OLS(y_data, X_data2)\n",
    "result = olsmod.fit()\n",
    "print(result.summary())\n",
    "print()\n",
    "s = f\"Estimated model: y = {result.params[0]:.4f} \"\n",
    "for i in range(1, len(result.params)):\n",
    "    s += f'+ {result.params[i]:.4f} {columns[i - 1]} '\n",
    "print(s)"
   ]
  },
  {
   "cell_type": "markdown",
   "metadata": {},
   "source": [
    "The condition number is large, 2.13e+04. This might indicate that there are\n",
    "strong multicollinearity or other numerical problems."
   ]
  },
  {
   "cell_type": "markdown",
   "metadata": {},
   "source": [
    "There is no correlation between variables bigger than 0.7 or smaller than -0.7.\n",
    "\n",
    "Coef of Land, House_Size, Age, Baths, Garage > 0 which is not accordance to our scatter plot and corr.\n",
    "Coef of Rooms < 0, which is not accordance to our scatter plot and corr.\n",
    "\n",
    "pvalue of f test < 0.05 and there is at least one pvalue of $B_i$ < 0.5 which means is not equal to zero.\n",
    "\n",
    "The model is invalid."
   ]
  },
  {
   "cell_type": "markdown",
   "metadata": {},
   "source": [
    "### (4)"
   ]
  },
  {
   "cell_type": "markdown",
   "metadata": {},
   "source": [
    "### stepwise"
   ]
  },
  {
   "cell_type": "code",
   "execution_count": 26,
   "metadata": {},
   "outputs": [],
   "source": [
    "def forward_selection(input_df, depv=\"y\", indepv = [\"x1\"]):\n",
    "    selected = []\n",
    "    candidates = indepv.copy()\n",
    "    best_adjr2 = -1\n",
    "    best_subset = []\n",
    "    while len(candidates) > 0:\n",
    "        print(\"Current Candidates: \", candidates)\n",
    "        tmp_indep_subset = []\n",
    "        tmp_model_adjr = []\n",
    "        tmp_model_nindep = []\n",
    "        for acandidate in candidates:\n",
    "            tmplist = selected.copy()\n",
    "            tmplist.append(acandidate)\n",
    "            modelstr = depv + \" ~ \" + \"+\".join(tmplist)\n",
    "            result6tmp = smf.ols(modelstr, data=input_df).fit()\n",
    "            tmp_indep_subset.append(tmplist)\n",
    "            tmp_model_adjr.append(result6tmp.rsquared_adj)\n",
    "            tmp_model_nindep.append(len(tmplist))\n",
    "        tmp_adjr2 = np.array(tmp_model_adjr)\n",
    "        tmpind = tmp_adjr2.argmax()\n",
    "        this_adjr2 = tmp_adjr2[tmpind]\n",
    "        selected = tmp_indep_subset[tmpind]\n",
    "        if this_adjr2 <= 0:\n",
    "            raise(\"Encounterd negative Adj R2. Stop.\")\n",
    "        print(\"===============\")\n",
    "        print(\"Current best model: \", selected)\n",
    "        print(\"Current best AdjR2: \", this_adjr2)\n",
    "        if this_adjr2 > best_adjr2:\n",
    "            #print(\" best result updated\")\n",
    "            best_adjr2 = this_adjr2\n",
    "            best_subset = selected\n",
    "        candidates = set(candidates) - set(selected)\n",
    "        candidates = list(candidates)\n",
    "    print(\"best_adjr2 = \", best_adjr2)\n",
    "    print(\"best_subset = \", best_subset)\n",
    "    modelstr = depv + \" ~ \" + \"+\".join(best_subset)\n",
    "    result6b = smf.ols(modelstr, data=input_df).fit()\n",
    "    print(result6b.summary()) "
   ]
  },
  {
   "cell_type": "code",
   "execution_count": 27,
   "metadata": {},
   "outputs": [
    {
     "name": "stdout",
     "output_type": "stream",
     "text": [
      "Current Candidates:  ['Land', 'House_Size', 'Age', 'Rooms', 'Baths', 'Garage']\n",
      "===============\n",
      "Current best model:  ['House_Size']\n",
      "Current best AdjR2:  0.6530613906382523\n",
      "Current Candidates:  ['Garage', 'Baths', 'Rooms', 'Age', 'Land']\n",
      "===============\n",
      "Current best model:  ['House_Size', 'Land']\n",
      "Current best AdjR2:  0.6959649972502091\n",
      "Current Candidates:  ['Rooms', 'Garage', 'Baths', 'Age']\n",
      "===============\n",
      "Current best model:  ['House_Size', 'Land', 'Baths']\n",
      "Current best AdjR2:  0.7218061030301105\n",
      "Current Candidates:  ['Rooms', 'Garage', 'Age']\n",
      "===============\n",
      "Current best model:  ['House_Size', 'Land', 'Baths', 'Rooms']\n",
      "Current best AdjR2:  0.7169174876989732\n",
      "Current Candidates:  ['Garage', 'Age']\n",
      "===============\n",
      "Current best model:  ['House_Size', 'Land', 'Baths', 'Rooms', 'Age']\n",
      "Current best AdjR2:  0.7118303414939791\n",
      "Current Candidates:  ['Garage']\n",
      "===============\n",
      "Current best model:  ['House_Size', 'Land', 'Baths', 'Rooms', 'Age', 'Garage']\n",
      "Current best AdjR2:  0.7066530402720527\n",
      "best_adjr2 =  0.7218061030301105\n",
      "best_subset =  ['House_Size', 'Land', 'Baths']\n",
      "                            OLS Regression Results                            \n",
      "==============================================================================\n",
      "Dep. Variable:        Appraised_Value   R-squared:                       0.736\n",
      "Model:                            OLS   Adj. R-squared:                  0.722\n",
      "Method:                 Least Squares   F-statistic:                     52.03\n",
      "Date:                Tue, 31 May 2022   Prob (F-statistic):           3.35e-16\n",
      "Time:                        20:09:58   Log-Likelihood:                -356.16\n",
      "No. Observations:                  60   AIC:                             720.3\n",
      "Df Residuals:                      56   BIC:                             728.7\n",
      "Df Model:                           3                                         \n",
      "Covariance Type:            nonrobust                                         \n",
      "==============================================================================\n",
      "                 coef    std err          t      P>|t|      [0.025      0.975]\n",
      "------------------------------------------------------------------------------\n",
      "Intercept    -30.3941     43.967     -0.691      0.492    -118.470      57.681\n",
      "House_Size     0.1488      0.024      6.126      0.000       0.100       0.197\n",
      "Land         332.0827    111.532      2.977      0.004     108.657     555.509\n",
      "Baths         53.9189     21.491      2.509      0.015      10.867      96.970\n",
      "==============================================================================\n",
      "Omnibus:                        4.398   Durbin-Watson:                   1.775\n",
      "Prob(Omnibus):                  0.111   Jarque-Bera (JB):                2.086\n",
      "Skew:                           0.114   Prob(JB):                        0.352\n",
      "Kurtosis:                       2.115   Cond. No.                     2.07e+04\n",
      "==============================================================================\n",
      "\n",
      "Warnings:\n",
      "[1] Standard Errors assume that the covariance matrix of the errors is correctly specified.\n",
      "[2] The condition number is large, 2.07e+04. This might indicate that there are\n",
      "strong multicollinearity or other numerical problems.\n"
     ]
    }
   ],
   "source": [
    "forward_selection(input_df = df1, depv = 'Appraised_Value', indepv = ['Land', 'House_Size', 'Age', 'Rooms', 'Baths', 'Garage'])"
   ]
  },
  {
   "cell_type": "markdown",
   "metadata": {},
   "source": [
    "There is no correlation between variables bigger than 0.7 or smaller than -0.7.\n",
    "\n",
    "Coef of House_Size, Land, Baths > 0 which is accordance to our scatter plot and corr.\n",
    "\n",
    "pvalue of f test < 0.05 and there is at least one pvalue of $B_i$ < 0.5 which means is not equal to zero so we can assume that the model doesn't have multicollinearity problem."
   ]
  },
  {
   "cell_type": "markdown",
   "metadata": {},
   "source": [
    "### (5)"
   ]
  },
  {
   "cell_type": "markdown",
   "metadata": {},
   "source": [
    "### best subset"
   ]
  },
  {
   "cell_type": "code",
   "execution_count": 28,
   "metadata": {},
   "outputs": [],
   "source": [
    "import time\n",
    "import itertools\n",
    "\n",
    "def processSubset(y_v, X_v, feature_set):\n",
    "    X_v_a = sm.add_constant(X_v[list(feature_set)])\n",
    "    model = sm.OLS(y_v,X_v_a)\n",
    "    regr = model.fit()\n",
    "    RSS = regr.rsquared_adj\n",
    "    return {\"model\":regr, \"RSS\":RSS}\n",
    "\n",
    "def getBest(y_g, X_g, k):\n",
    "    tic = time.time()\n",
    "    results = []\n",
    "    for combo in itertools.combinations(X_g.columns, k):\n",
    "        results.append(processSubset(y_g, X_g, combo))\n",
    "    models = pd.DataFrame(results)\n",
    "    best_model = models.loc[models['RSS'].argmax()]\n",
    "    toc = time.time()\n",
    "    return best_model"
   ]
  },
  {
   "cell_type": "code",
   "execution_count": 29,
   "metadata": {},
   "outputs": [
    {
     "name": "stdout",
     "output_type": "stream",
     "text": [
      "aaa Empty DataFrame\n",
      "Columns: [RSS, model]\n",
      "Index: []\n",
      "aaa         RSS                                              model\n",
      "1  0.653061  <statsmodels.regression.linear_model.Regressio...\n",
      "2  0.695965  <statsmodels.regression.linear_model.Regressio...\n",
      "3  0.721806  <statsmodels.regression.linear_model.Regressio...\n",
      "4  0.716917  <statsmodels.regression.linear_model.Regressio...\n",
      "5  0.711954  <statsmodels.regression.linear_model.Regressio...\n",
      "6  0.706653  <statsmodels.regression.linear_model.Regressio...\n",
      "Total elapsed time: 0.13563823699951172 seconds.\n",
      "                            OLS Regression Results                            \n",
      "==============================================================================\n",
      "Dep. Variable:                      y   R-squared:                       0.736\n",
      "Model:                            OLS   Adj. R-squared:                  0.722\n",
      "Method:                 Least Squares   F-statistic:                     52.03\n",
      "Date:                Tue, 31 May 2022   Prob (F-statistic):           3.35e-16\n",
      "Time:                        20:09:58   Log-Likelihood:                -356.16\n",
      "No. Observations:                  60   AIC:                             720.3\n",
      "Df Residuals:                      56   BIC:                             728.7\n",
      "Df Model:                           3                                         \n",
      "Covariance Type:            nonrobust                                         \n",
      "==============================================================================\n",
      "                 coef    std err          t      P>|t|      [0.025      0.975]\n",
      "------------------------------------------------------------------------------\n",
      "const        -30.3941     43.967     -0.691      0.492    -118.470      57.681\n",
      "Land         332.0827    111.532      2.977      0.004     108.657     555.509\n",
      "House_Size     0.1488      0.024      6.126      0.000       0.100       0.197\n",
      "Baths         53.9189     21.491      2.509      0.015      10.867      96.970\n",
      "==============================================================================\n",
      "Omnibus:                        4.398   Durbin-Watson:                   1.775\n",
      "Prob(Omnibus):                  0.111   Jarque-Bera (JB):                2.086\n",
      "Skew:                           0.114   Prob(JB):                        0.352\n",
      "Kurtosis:                       2.115   Cond. No.                     2.07e+04\n",
      "==============================================================================\n",
      "\n",
      "Warnings:\n",
      "[1] Standard Errors assume that the covariance matrix of the errors is correctly specified.\n",
      "[2] The condition number is large, 2.07e+04. This might indicate that there are\n",
      "strong multicollinearity or other numerical problems.\n",
      "\n",
      "Estimated model: y = -30.3941 + 332.0827 Land + 0.1488 House_Size + 53.9189 Baths \n"
     ]
    }
   ],
   "source": [
    "y_data = df1['Appraised_Value']\n",
    "X_data_ar = np.array([df1['Land'], df1[\"House_Size\"], df1['Age'], df1['Rooms'], df1['Baths'], df1['Garage']])\n",
    "X_data_T = X_data_ar.T\n",
    "columns = ['Land', 'House_Size', 'Age', 'Rooms', 'Baths', 'Garage']\n",
    "X_data = pd.DataFrame(X_data_T, columns = ['Land', 'House_Size', 'Age', 'Rooms', 'Baths', 'Garage'])\n",
    "models_best = pd.DataFrame(columns=[\"RSS\", \"model\"])\n",
    "print(\"aaa\",models_best)\n",
    "tic = time.time()\n",
    "for i in range(1, len(columns) + 1):\n",
    "    models_best.loc[i] = getBest(y_var, X_data, i)\n",
    "print(\"aaa\",models_best)\n",
    "toc = time.time()\n",
    "print(\"Total elapsed time:\", (toc-tic), \"seconds.\")\n",
    "Fb = models_best[models_best['RSS']==models_best.RSS.max()].index.values\n",
    "result = models_best.loc[Fb[0], \"model\"]\n",
    "print(models_best.loc[Fb[0], \"model\"].summary())\n",
    "columns = [\"Land\", \"House_Size\", \"Baths\"]\n",
    "print()\n",
    "s = f\"Estimated model: y = {result.params[0]:.4f} \"\n",
    "for i in range(1, len(result.params)):\n",
    "    s += f'+ {result.params[i]:.4f} {columns[i - 1]} '\n",
    "print(s)"
   ]
  },
  {
   "cell_type": "markdown",
   "metadata": {},
   "source": [
    "There is no correlation between variables bigger than 0.7 or smaller than -0.7.\n",
    "\n",
    "Coef of House_Size, Land, Baths > 0 which is accordance to our scatter plot and corr.\n",
    "\n",
    "pvalue of f test < 0.05 and there is at least one pvalue of $B_i$ < 0.5 which means is not equal to zero so we can assume that the model doesn't have multicollinearity problem."
   ]
  },
  {
   "cell_type": "markdown",
   "metadata": {},
   "source": [
    "### (6)"
   ]
  },
  {
   "cell_type": "code",
   "execution_count": 30,
   "metadata": {},
   "outputs": [
    {
     "name": "stdout",
     "output_type": "stream",
     "text": [
      "Columns in data are: ['Obs', 'Dep Var\\nPopulation', 'Predicted\\nValue', 'Std Error\\nMean Predict', 'Mean ci\\n95% low', 'Mean ci\\n95% upp', 'Predict ci\\n95% low', 'Predict ci\\n95% upp', 'Residual', 'Std Error\\nResidual', 'Student\\nResidual', \"Cook's\\nD\"]\n",
      "[-1.22226788 -0.76206197  1.85086787  1.74914801  0.28853431  1.60895966\n",
      "  0.55695258 -0.78082873  0.9992683  -0.14895993  1.44710116 -0.76717109\n",
      " -2.00914799  0.37465436  0.27421553  0.89183418  0.38533495 -0.96070004\n",
      "  0.88779499 -0.86525086  1.60831969 -1.22616141  0.48432151  0.78025726\n",
      "  1.38262714  1.25423189 -0.38466619  0.25773536 -0.92168226  0.55939677\n",
      " -0.06680503 -0.40407095 -1.4668819  -1.252966   -1.09416043  0.13712033\n",
      "  0.80584389 -0.42124889 -0.32769421 -0.61891028  0.17495769  1.67080296\n",
      " -1.26234822 -1.73385115 -1.91334199 -0.40893818 -0.35560021 -0.39743467\n",
      " -0.28091713  1.5774355  -1.25000744  0.22438169 -0.83887515  1.10489182\n",
      "  1.31442631  0.23771077 -0.70946455 -0.57893006  0.13095579  0.08678767]\n",
      "mu =  -0.0054079137503396\n",
      "sigma =  1.0001126348455363\n"
     ]
    }
   ],
   "source": [
    "st, data, ss2 = sso.summary_table(result, alpha=0.05)\n",
    "print(\"Columns in data are: %s\" % ss2)\n",
    "#Predicted value\n",
    "y_pre = data[:, 2]\n",
    "#Studentized Residual\n",
    "SD = data[:, 10]\n",
    "mu = np.mean(SD)\n",
    "sigma = np.std(SD)\n",
    "print(SD)\n",
    "print('mu = ', mu)\n",
    "print('sigma = ', sigma)"
   ]
  },
  {
   "cell_type": "markdown",
   "metadata": {},
   "source": [
    "### Normality Test¶\n",
    "$H_0$: Errors are normally distributed.\n",
    "\n",
    "$H_1$: Errors are not normally distributed."
   ]
  },
  {
   "cell_type": "code",
   "execution_count": 31,
   "metadata": {},
   "outputs": [
    {
     "name": "stdout",
     "output_type": "stream",
     "text": [
      "Shapiro Test\n",
      "Statistics=0.973, p=0.210\n"
     ]
    },
    {
     "data": {
      "image/png": "[encoded data removed]",
      "text/plain": [
       "<Figure size 360x240 with 1 Axes>"
      ]
     },
     "metadata": {
      "needs_background": "light"
     },
     "output_type": "display_data"
    }
   ],
   "source": [
    "fig = plt.hist(SD, bins='auto')\n",
    "plt.title('Residuals')\n",
    "print('Shapiro Test')\n",
    "stat, p = stats.shapiro(SD)\n",
    "print('Statistics=%.3f, p=%.3f' % (stat, p))"
   ]
  },
  {
   "cell_type": "markdown",
   "metadata": {},
   "source": [
    "p_value = 0.210 > 0.05 so we can't reject null hypothesis. We can say that their disbutions are normal."
   ]
  },
  {
   "cell_type": "markdown",
   "metadata": {},
   "source": [
    "### Homoscedasticity and Heteroscedasticity\n",
    "$H_0$: The requirement of a constant variance is not violated\n",
    "\n",
    "$H_1$: The requirement of a constant variance is violated"
   ]
  },
  {
   "cell_type": "code",
   "execution_count": 32,
   "metadata": {},
   "outputs": [
    {
     "data": {
      "image/png": "[encoded data removed]",
      "text/plain": [
       "<Figure size 360x240 with 1 Axes>"
      ]
     },
     "metadata": {
      "needs_background": "light"
     },
     "output_type": "display_data"
    }
   ],
   "source": [
    "plt.plot(y_pre, SD, 'o', color = 'gray')\n",
    "plt.axhline(y=2, color = 'red', lw = 0.8)\n",
    "plt.axhline(y=0, color = 'blue')\n",
    "plt.axhline(y=-2, color = 'red', lw = 0.8)\n",
    "plt.title('Standardized Residual Plot')\n",
    "plt.xlabel('Predicted y value')\n",
    "plt.ylabel('Standardized Residual')\n",
    "plt.show()"
   ]
  },
  {
   "cell_type": "markdown",
   "metadata": {},
   "source": [
    "Do not rejected H0. We can assume that the variation is constant and the mean is around 0."
   ]
  },
  {
   "cell_type": "markdown",
   "metadata": {},
   "source": [
    "### Dependence of the Error Variable\n",
    "### run test\n",
    "$H_0$: Randomness exists.\n",
    "\n",
    "$H_1$: Randomness does not exist."
   ]
  },
  {
   "cell_type": "code",
   "execution_count": 33,
   "metadata": {},
   "outputs": [
    {
     "name": "stdout",
     "output_type": "stream",
     "text": [
      "Randomness Test using Runs Test\n",
      " - H0: Randomness exists.\n",
      " - H1: Randomness does not exist\n",
      "\n",
      "runs =  30\n",
      "n1 =  30\n",
      "n2 =  30\n",
      "\n",
      "runs_exp =  31.0\n",
      "stan_dev =  3.8400211863822324\n",
      "z =  -0.2604152298810939\n",
      "pval_z =  0.7945434963754624\n",
      "\n",
      "Since p-value > 0.05, we do not reject H0 and we may conclude randomness exists.\n"
     ]
    },
    {
     "data": {
      "image/png": "[encoded data removed]",
      "text/plain": [
       "<Figure size 360x240 with 1 Axes>"
      ]
     },
     "metadata": {
      "needs_background": "light"
     },
     "output_type": "display_data"
    }
   ],
   "source": [
    "runtest(SD)\n",
    "Id1 = data[:, 0]\n",
    "plt.plot(Id1, SD, 'o', color = 'gray')\n",
    "plt.axhline(y=0, color = 'blue')\n",
    "plt.axhline(y=2, color = 'red')\n",
    "plt.axhline(y=-2, color = 'red')\n",
    "plt.title('Standardized Residual Plot')\n",
    "plt.xlabel('Observation No.')\n",
    "plt.ylabel('Standardized Residual')\n",
    "plt.show()"
   ]
  },
  {
   "cell_type": "markdown",
   "metadata": {},
   "source": [
    "### (7)"
   ]
  },
  {
   "cell_type": "code",
   "execution_count": 34,
   "metadata": {},
   "outputs": [
    {
     "name": "stdout",
     "output_type": "stream",
     "text": [
      "standard error =  94.78143368127381\n",
      "mean of y 491.6980000000002\n",
      "std of y 179.70057822077635\n"
     ]
    }
   ],
   "source": [
    "print(\"standard error = \", result.mse_resid ** 0.5)\n",
    "\n",
    "print(\"mean of y\", df1['Appraised_Value'].mean())\n",
    "print(\"std of y\", df1['Appraised_Value'].std())"
   ]
  },
  {
   "cell_type": "markdown",
   "metadata": {},
   "source": [
    "The standard err of estimate = 94.78143368127381, mean of y = 491.6980000000002. It appears that the standard error of estimate is quite small."
   ]
  },
  {
   "cell_type": "code",
   "execution_count": 35,
   "metadata": {},
   "outputs": [
    {
     "name": "stdout",
     "output_type": "stream",
     "text": [
      "SSR =  503077.1295579516\n",
      "R2 =  0.7359515554184098\n"
     ]
    }
   ],
   "source": [
    "SSR = result.ssr\n",
    "R2 = result.rsquared\n",
    "print(\"SSR = \", SSR)\n",
    "print(\"R2 = \", R2)"
   ]
  },
  {
   "cell_type": "markdown",
   "metadata": {},
   "source": [
    "73.5% of the variation in heating cost is explained by the variation of independent variables. The rest remains unexplained by this model.\n",
    "adj r^2 = 72.2% (73.5 - 72.2) < 6, which indicates that there don't have overfitting problem."
   ]
  },
  {
   "cell_type": "markdown",
   "metadata": {},
   "source": [
    "#### f-test\n",
    "$H_0$: $\\beta_1$ = $\\beta_2$ = $\\beta_3$ = 0\n",
    "\n",
    "$H_1$: At least one $\\beta_i$ $\\neq$ 0"
   ]
  },
  {
   "cell_type": "code",
   "execution_count": 36,
   "metadata": {},
   "outputs": [
    {
     "name": "stdout",
     "output_type": "stream",
     "text": [
      "SSR =  1402168.441402048 df =  3.0 MSR =  467389.48046734935\n",
      "SSE =  503077.1295579515 df =  56.0 MSE =  8983.520170677706\n",
      "F =  52.027431517648616\n",
      "<F test: F=array([[52.02743152]]), p=3.349735665317715e-16, df_denom=56, df_num=3>\n"
     ]
    }
   ],
   "source": [
    "f_res = result.fvalue\n",
    "MSE = result.mse_resid\n",
    "df_model = result.df_model\n",
    "df_error = result.df_resid\n",
    "MSR = f_res * MSE\n",
    "SSR = MSR * df_model\n",
    "print(\"SSR = \", SSR, \"df = \", df_model, \"MSR = \", MSR)\n",
    "print(\"SSE = \", MSE * df_error, \"df = \", df_error, \"MSE = \", MSE)\n",
    "print(\"F = \", MSR / MSE)\n",
    "A = np.identity(len(result.params))\n",
    "A = A[1:,:]\n",
    "print(result.f_test(A))"
   ]
  },
  {
   "cell_type": "markdown",
   "metadata": {},
   "source": [
    "pvalue = 3.3497356654531935e < 0.05, we can reject H0. There is sufficient evidence to reject the null hypothesis in favor of the alternative hypothesis. At least one of the $\\beta_i$ is not equal to zero. Thus, at least one independent variable is related to y. This regression model is valid."
   ]
  },
  {
   "cell_type": "markdown",
   "metadata": {},
   "source": [
    "#### testing of the coefficients\n",
    "\n",
    "$H_0$: $\\beta_i$ = 0\n",
    "\n",
    "$H_1$: $\\beta_i \\neq$ 0\n",
    "\n",
    "pvalue of Land = 0.004 < 0.05, we can reject H0. There is sufficient evidence to conclude that there is a linear relationship between Land and Appraised_Value\n",
    "\n",
    "pvalue of House_Size = 0.000 < 0.05, we can reject H0. There is sufficient evidence to conclude that there is a linear relationship between House_Size and Appraised_Value\n",
    "\n",
    "pvalue of Baths = 0.015 < 0.05, we can reject H0. There is sufficient evidence to conclude that there is a linear relationship between Baths and Appraised_Value"
   ]
  },
  {
   "cell_type": "markdown",
   "metadata": {},
   "source": [
    "### (8)"
   ]
  },
  {
   "cell_type": "code",
   "execution_count": 37,
   "metadata": {},
   "outputs": [
    {
     "name": "stdout",
     "output_type": "stream",
     "text": [
      "make CI and PI prediction at mean of x =  [1.000e+00 2.378e-01 2.325e+03 2.500e+00]\n",
      "y_head =  529.3249842068261\n",
      "confidence interval of mean = [502.1121, 556.5378] \n",
      "Prediction interval = [337.5148, 721.1352] \n",
      "[502.11214588 556.53782253 337.51475037 721.13521804]\n"
     ]
    }
   ],
   "source": [
    "# 確定哪個model參數給的不同\n",
    "X_data_ar = np.array([df1['Land'], df1[\"House_Size\"], df1['Baths']])\n",
    "xg = np.array([1, 0.2378, 2325, 2.5])\n",
    "CI_PI_result = CI_PI_regression(X_data_ar, y_data, xg, 0.05)\n",
    "print(CI_PI_result)"
   ]
  },
  {
   "cell_type": "markdown",
   "metadata": {},
   "source": [
    "單位！"
   ]
  },
  {
   "cell_type": "markdown",
   "metadata": {},
   "source": [
    "It is predicted, with 95% confidence that the interval, 502112.14588 556537.82253, covers the average Appraised_Value for homes if the land = 0.2378, house size = 2325, baths = 2.5"
   ]
  },
  {
   "cell_type": "markdown",
   "metadata": {},
   "source": [
    "It is predicted, with 95% confidence that the interval, 337514.75037 721135.21804, covers the Appraised_Value for specific home if the land = 0.2378, house size = 2325, baths = 2.5"
   ]
  },
  {
   "cell_type": "markdown",
   "metadata": {},
   "source": [
    "## 3."
   ]
  },
  {
   "cell_type": "code",
   "execution_count": 38,
   "metadata": {},
   "outputs": [
    {
     "name": "stdout",
     "output_type": "stream",
     "text": [
      "Head of dataset:\n"
     ]
    },
    {
     "data": {
      "text/html": [
       "<div>\n",
       "<style scoped>\n",
       "    .dataframe tbody tr th:only-of-type {\n",
       "        vertical-align: middle;\n",
       "    }\n",
       "\n",
       "    .dataframe tbody tr th {\n",
       "        vertical-align: top;\n",
       "    }\n",
       "\n",
       "    .dataframe thead th {\n",
       "        text-align: right;\n",
       "    }\n",
       "</style>\n",
       "<table border=\"1\" class=\"dataframe\">\n",
       "  <thead>\n",
       "    <tr style=\"text-align: right;\">\n",
       "      <th></th>\n",
       "      <th>Month</th>\n",
       "      <th>Sales</th>\n",
       "      <th>Advertising</th>\n",
       "    </tr>\n",
       "  </thead>\n",
       "  <tbody>\n",
       "    <tr>\n",
       "      <th>0</th>\n",
       "      <td>1</td>\n",
       "      <td>151</td>\n",
       "      <td>5.7</td>\n",
       "    </tr>\n",
       "    <tr>\n",
       "      <th>1</th>\n",
       "      <td>2</td>\n",
       "      <td>154</td>\n",
       "      <td>5.7</td>\n",
       "    </tr>\n",
       "    <tr>\n",
       "      <th>2</th>\n",
       "      <td>3</td>\n",
       "      <td>151</td>\n",
       "      <td>5.5</td>\n",
       "    </tr>\n",
       "    <tr>\n",
       "      <th>3</th>\n",
       "      <td>4</td>\n",
       "      <td>145</td>\n",
       "      <td>5.7</td>\n",
       "    </tr>\n",
       "    <tr>\n",
       "      <th>4</th>\n",
       "      <td>5</td>\n",
       "      <td>157</td>\n",
       "      <td>5.6</td>\n",
       "    </tr>\n",
       "  </tbody>\n",
       "</table>\n",
       "</div>"
      ],
      "text/plain": [
       "   Month  Sales  Advertising\n",
       "0      1    151          5.7\n",
       "1      2    154          5.7\n",
       "2      3    151          5.5\n",
       "3      4    145          5.7\n",
       "4      5    157          5.6"
      ]
     },
     "metadata": {},
     "output_type": "display_data"
    },
    {
     "name": "stdout",
     "output_type": "stream",
     "text": [
      "Tail of dataset:\n"
     ]
    },
    {
     "data": {
      "text/html": [
       "<div>\n",
       "<style scoped>\n",
       "    .dataframe tbody tr th:only-of-type {\n",
       "        vertical-align: middle;\n",
       "    }\n",
       "\n",
       "    .dataframe tbody tr th {\n",
       "        vertical-align: top;\n",
       "    }\n",
       "\n",
       "    .dataframe thead th {\n",
       "        text-align: right;\n",
       "    }\n",
       "</style>\n",
       "<table border=\"1\" class=\"dataframe\">\n",
       "  <thead>\n",
       "    <tr style=\"text-align: right;\">\n",
       "      <th></th>\n",
       "      <th>Month</th>\n",
       "      <th>Sales</th>\n",
       "      <th>Advertising</th>\n",
       "    </tr>\n",
       "  </thead>\n",
       "  <tbody>\n",
       "    <tr>\n",
       "      <th>15</th>\n",
       "      <td>16</td>\n",
       "      <td>179</td>\n",
       "      <td>6.7</td>\n",
       "    </tr>\n",
       "    <tr>\n",
       "      <th>16</th>\n",
       "      <td>17</td>\n",
       "      <td>190</td>\n",
       "      <td>6.9</td>\n",
       "    </tr>\n",
       "    <tr>\n",
       "      <th>17</th>\n",
       "      <td>18</td>\n",
       "      <td>203</td>\n",
       "      <td>7.1</td>\n",
       "    </tr>\n",
       "    <tr>\n",
       "      <th>18</th>\n",
       "      <td>19</td>\n",
       "      <td>213</td>\n",
       "      <td>6.7</td>\n",
       "    </tr>\n",
       "    <tr>\n",
       "      <th>19</th>\n",
       "      <td>20</td>\n",
       "      <td>207</td>\n",
       "      <td>6.6</td>\n",
       "    </tr>\n",
       "  </tbody>\n",
       "</table>\n",
       "</div>"
      ],
      "text/plain": [
       "    Month  Sales  Advertising\n",
       "15     16    179          6.7\n",
       "16     17    190          6.9\n",
       "17     18    203          7.1\n",
       "18     19    213          6.7\n",
       "19     20    207          6.6"
      ]
     },
     "metadata": {},
     "output_type": "display_data"
    }
   ],
   "source": [
    "df1 = pd.read_excel(r\"C:\\Users\\User\\OneDrive\\桌面\\統計學下\\Stat_2020_2_Fin.xlsx\", 'Banner')\n",
    "print('Head of dataset:')\n",
    "display(df1.head())\n",
    "print(\"Tail of dataset:\")\n",
    "display(df1.tail())"
   ]
  },
  {
   "cell_type": "code",
   "execution_count": 39,
   "metadata": {},
   "outputs": [
    {
     "name": "stdout",
     "output_type": "stream",
     "text": [
      "                            OLS Regression Results                            \n",
      "==============================================================================\n",
      "Dep. Variable:                  Sales   R-squared:                       0.685\n",
      "Model:                            OLS   Adj. R-squared:                  0.668\n",
      "Method:                 Least Squares   F-statistic:                     39.14\n",
      "Date:                Tue, 31 May 2022   Prob (F-statistic):           6.69e-06\n",
      "Time:                        20:09:59   Log-Likelihood:                -77.594\n",
      "No. Observations:                  20   AIC:                             159.2\n",
      "Df Residuals:                      18   BIC:                             161.2\n",
      "Df Model:                           1                                         \n",
      "Covariance Type:            nonrobust                                         \n",
      "===============================================================================\n",
      "                  coef    std err          t      P>|t|      [0.025      0.975]\n",
      "-------------------------------------------------------------------------------\n",
      "Intercept     -52.9924     35.589     -1.489      0.154    -127.763      21.778\n",
      "Advertising    35.9502      5.746      6.256      0.000      23.878      48.022\n",
      "==============================================================================\n",
      "Omnibus:                        0.849   Durbin-Watson:                   0.852\n",
      "Prob(Omnibus):                  0.654   Jarque-Bera (JB):                0.670\n",
      "Skew:                           0.412   Prob(JB):                        0.715\n",
      "Kurtosis:                       2.648   Cond. No.                         81.9\n",
      "==============================================================================\n",
      "\n",
      "Warnings:\n",
      "[1] Standard Errors assume that the covariance matrix of the errors is correctly specified.\n"
     ]
    }
   ],
   "source": [
    "result = smf.ols('Sales~ Advertising', data=df1).fit()\n",
    "# Inspect the results\n",
    "print(result.summary())"
   ]
  },
  {
   "cell_type": "markdown",
   "metadata": {},
   "source": [
    "y = -52.9924 + 35.9502 Advertising"
   ]
  },
  {
   "cell_type": "markdown",
   "metadata": {},
   "source": [
    "### autocorrelation"
   ]
  },
  {
   "cell_type": "markdown",
   "metadata": {},
   "source": [
    "#### Durbin_Watson_test\n",
    "$H_0$: The data are not first-order correlated\n",
    "\n",
    "$H_1$: The data are first-order correlated"
   ]
  },
  {
   "cell_type": "code",
   "execution_count": 40,
   "metadata": {},
   "outputs": [],
   "source": [
    "def Durbin_Watson_test(x):\n",
    "    x_square_sum = np.vdot(x, x)\n",
    "    print(\"x_square_sum = \", x_square_sum)\n",
    "    size = x.size\n",
    "    print(\"size = \", size)\n",
    "    x_d = np.zeros((size))\n",
    "    print(\"x_d = \", x_d)\n",
    "    l_size = size - 1\n",
    "    for i in range(l_size):\n",
    "        x_d[i + 1] = x[i + 1] - x[i]\n",
    "    print(\"x_d = \", x_d)\n",
    "    d = np.vdot(x_d, x_d) / x_square_sum\n",
    "    print(\"d = \", d)\n",
    "    return(d)"
   ]
  },
  {
   "cell_type": "code",
   "execution_count": 41,
   "metadata": {},
   "outputs": [
    {
     "name": "stdout",
     "output_type": "stream",
     "text": [
      "Columns in data are: ['Obs', 'Dep Var\\nPopulation', 'Predicted\\nValue', 'Std Error\\nMean Predict', 'Mean ci\\n95% low', 'Mean ci\\n95% upp', 'Predict ci\\n95% low', 'Predict ci\\n95% upp', 'Residual', 'Std Error\\nResidual', 'Student\\nResidual', \"Cook's\\nD\"]\n",
      "[-0.07880244  0.17714382  0.55003644 -0.59069497  0.74931529  1.16446716\n",
      " -0.59069497 -1.18298219 -1.35558546 -1.5953656  -1.1509617   0.63991125\n",
      "  0.04213866 -0.00742094  0.41045924 -0.76166626 -0.44849803  0.06909711\n",
      "  2.15664478  1.92806845]\n",
      "mu =  0.006230480556942553\n",
      "sigma =  0.9948877766787819\n"
     ]
    }
   ],
   "source": [
    "st, data, ss2 = sso.summary_table(result, alpha=0.05)\n",
    "print(\"Columns in data are: %s\" % ss2)\n",
    "#Predicted value\n",
    "y_pre = data[:, 2]\n",
    "#Studentized Residual\n",
    "SD = data[:, 10]\n",
    "mu = np.mean(SD)\n",
    "sigma = np.std(SD)\n",
    "print(SD)\n",
    "print('mu = ', mu)\n",
    "print('sigma = ', sigma)"
   ]
  },
  {
   "cell_type": "code",
   "execution_count": 42,
   "metadata": {},
   "outputs": [
    {
     "name": "stdout",
     "output_type": "stream",
     "text": [
      "x_square_sum =  19.796810141456405\n",
      "size =  20\n",
      "x_d =  [0. 0. 0. 0. 0. 0. 0. 0. 0. 0. 0. 0. 0. 0. 0. 0. 0. 0. 0. 0.]\n",
      "x_d =  [ 0.          0.25594627  0.37289261 -1.14073141  1.34001026  0.41515187\n",
      " -1.75516213 -0.59228722 -0.17260327 -0.23978014  0.4444039   1.79087295\n",
      " -0.59777259 -0.0495596   0.41788018 -1.1721255   0.31316824  0.51759514\n",
      "  2.08754768 -0.22857634]\n",
      "d =  0.8628451333792324\n",
      "0.8628451333792324\n"
     ]
    }
   ],
   "source": [
    "d_w = Durbin_Watson_test(SD)\n",
    "print(d_w)"
   ]
  },
  {
   "cell_type": "markdown",
   "metadata": {},
   "source": [
    "If d < dL or d > 4-dL first order auto-correlation exists\n",
    "\n",
    "If d falls between dL and dU  or between 4-dU and 4-dL the test is inconclusive\n",
    "\n",
    "If d falls between dU and 4-dU there is no evidence for first order auto-correlation"
   ]
  },
  {
   "cell_type": "code",
   "execution_count": 43,
   "metadata": {},
   "outputs": [],
   "source": [
    "d = 0.8628451333792323\n",
    "dl = 1.08\n",
    "du = 1.28"
   ]
  },
  {
   "cell_type": "code",
   "execution_count": 44,
   "metadata": {},
   "outputs": [
    {
     "name": "stdout",
     "output_type": "stream",
     "text": [
      "Because d < dl, we can't reject H0\n",
      "first order auto-correlation exists\n"
     ]
    }
   ],
   "source": [
    "if d < dl or d > 4-dl:\n",
    "    if d < dl:\n",
    "        print(\"Because d < dl, we can't reject H0\")\n",
    "    elif d > 4-dl:\n",
    "        print(\"Because 4-dl, we can't reject H0\")\n",
    "    print(\"first order auto-correlation exists\")\n",
    "elif dl < d <= du or 4-du < d <= 4-dl:\n",
    "    if dl < d <= du:\n",
    "        print(\"Because dl < d <= du, we can't reject H0\")\n",
    "    elif 4-du < d <= 4-dl:\n",
    "        print(\"Because 4-du < d <= 4-dl, we can't reject H0\")\n",
    "    print(\"the test is inconclusive\")\n",
    "elif 4-du < d <= du or du < d <= 4-du:\n",
    "    if 4-du < d <= du:\n",
    "        print(\"Because 4-du < d <= du, we can't reject H0\")\n",
    "        print(\"there is no evidence for first order auto-correlation\") \n",
    "    elif du < d <= 4-du:\n",
    "        print(\"Because du < d <= 4-du, we can't reject H0\")\n",
    "        print(\"there is no evidence for first order auto-correlation\") "
   ]
  },
  {
   "cell_type": "markdown",
   "metadata": {},
   "source": [
    "### (2)"
   ]
  },
  {
   "cell_type": "code",
   "execution_count": 45,
   "metadata": {},
   "outputs": [
    {
     "data": {
      "text/html": [
       "<div>\n",
       "<style scoped>\n",
       "    .dataframe tbody tr th:only-of-type {\n",
       "        vertical-align: middle;\n",
       "    }\n",
       "\n",
       "    .dataframe tbody tr th {\n",
       "        vertical-align: top;\n",
       "    }\n",
       "\n",
       "    .dataframe thead th {\n",
       "        text-align: right;\n",
       "    }\n",
       "</style>\n",
       "<table border=\"1\" class=\"dataframe\">\n",
       "  <thead>\n",
       "    <tr style=\"text-align: right;\">\n",
       "      <th></th>\n",
       "      <th>Month</th>\n",
       "      <th>Sales</th>\n",
       "      <th>Advertising</th>\n",
       "    </tr>\n",
       "  </thead>\n",
       "  <tbody>\n",
       "    <tr>\n",
       "      <th>0</th>\n",
       "      <td>1</td>\n",
       "      <td>151</td>\n",
       "      <td>5.7</td>\n",
       "    </tr>\n",
       "    <tr>\n",
       "      <th>1</th>\n",
       "      <td>2</td>\n",
       "      <td>154</td>\n",
       "      <td>5.7</td>\n",
       "    </tr>\n",
       "    <tr>\n",
       "      <th>2</th>\n",
       "      <td>3</td>\n",
       "      <td>151</td>\n",
       "      <td>5.5</td>\n",
       "    </tr>\n",
       "    <tr>\n",
       "      <th>3</th>\n",
       "      <td>4</td>\n",
       "      <td>145</td>\n",
       "      <td>5.7</td>\n",
       "    </tr>\n",
       "    <tr>\n",
       "      <th>4</th>\n",
       "      <td>5</td>\n",
       "      <td>157</td>\n",
       "      <td>5.6</td>\n",
       "    </tr>\n",
       "    <tr>\n",
       "      <th>5</th>\n",
       "      <td>6</td>\n",
       "      <td>158</td>\n",
       "      <td>5.5</td>\n",
       "    </tr>\n",
       "    <tr>\n",
       "      <th>6</th>\n",
       "      <td>7</td>\n",
       "      <td>145</td>\n",
       "      <td>5.7</td>\n",
       "    </tr>\n",
       "    <tr>\n",
       "      <th>7</th>\n",
       "      <td>8</td>\n",
       "      <td>145</td>\n",
       "      <td>5.9</td>\n",
       "    </tr>\n",
       "    <tr>\n",
       "      <th>8</th>\n",
       "      <td>9</td>\n",
       "      <td>150</td>\n",
       "      <td>6.1</td>\n",
       "    </tr>\n",
       "    <tr>\n",
       "      <th>9</th>\n",
       "      <td>10</td>\n",
       "      <td>158</td>\n",
       "      <td>6.4</td>\n",
       "    </tr>\n",
       "    <tr>\n",
       "      <th>10</th>\n",
       "      <td>11</td>\n",
       "      <td>167</td>\n",
       "      <td>6.5</td>\n",
       "    </tr>\n",
       "    <tr>\n",
       "      <th>11</th>\n",
       "      <td>12</td>\n",
       "      <td>174</td>\n",
       "      <td>6.1</td>\n",
       "    </tr>\n",
       "    <tr>\n",
       "      <th>12</th>\n",
       "      <td>13</td>\n",
       "      <td>174</td>\n",
       "      <td>6.3</td>\n",
       "    </tr>\n",
       "    <tr>\n",
       "      <th>13</th>\n",
       "      <td>14</td>\n",
       "      <td>177</td>\n",
       "      <td>6.4</td>\n",
       "    </tr>\n",
       "    <tr>\n",
       "      <th>14</th>\n",
       "      <td>15</td>\n",
       "      <td>182</td>\n",
       "      <td>6.4</td>\n",
       "    </tr>\n",
       "    <tr>\n",
       "      <th>15</th>\n",
       "      <td>16</td>\n",
       "      <td>179</td>\n",
       "      <td>6.7</td>\n",
       "    </tr>\n",
       "    <tr>\n",
       "      <th>16</th>\n",
       "      <td>17</td>\n",
       "      <td>190</td>\n",
       "      <td>6.9</td>\n",
       "    </tr>\n",
       "    <tr>\n",
       "      <th>17</th>\n",
       "      <td>18</td>\n",
       "      <td>203</td>\n",
       "      <td>7.1</td>\n",
       "    </tr>\n",
       "    <tr>\n",
       "      <th>18</th>\n",
       "      <td>19</td>\n",
       "      <td>213</td>\n",
       "      <td>6.7</td>\n",
       "    </tr>\n",
       "    <tr>\n",
       "      <th>19</th>\n",
       "      <td>20</td>\n",
       "      <td>207</td>\n",
       "      <td>6.6</td>\n",
       "    </tr>\n",
       "  </tbody>\n",
       "</table>\n",
       "</div>"
      ],
      "text/plain": [
       "    Month  Sales  Advertising\n",
       "0       1    151          5.7\n",
       "1       2    154          5.7\n",
       "2       3    151          5.5\n",
       "3       4    145          5.7\n",
       "4       5    157          5.6\n",
       "5       6    158          5.5\n",
       "6       7    145          5.7\n",
       "7       8    145          5.9\n",
       "8       9    150          6.1\n",
       "9      10    158          6.4\n",
       "10     11    167          6.5\n",
       "11     12    174          6.1\n",
       "12     13    174          6.3\n",
       "13     14    177          6.4\n",
       "14     15    182          6.4\n",
       "15     16    179          6.7\n",
       "16     17    190          6.9\n",
       "17     18    203          7.1\n",
       "18     19    213          6.7\n",
       "19     20    207          6.6"
      ]
     },
     "execution_count": 45,
     "metadata": {},
     "output_type": "execute_result"
    }
   ],
   "source": [
    "df1"
   ]
  },
  {
   "cell_type": "code",
   "execution_count": 46,
   "metadata": {},
   "outputs": [
    {
     "name": "stdout",
     "output_type": "stream",
     "text": [
      "(19, 4)\n"
     ]
    },
    {
     "data": {
      "image/png": "[encoded data removed]",
      "text/plain": [
       "<Figure size 360x240 with 1 Axes>"
      ]
     },
     "metadata": {
      "needs_background": "light"
     },
     "output_type": "display_data"
    }
   ],
   "source": [
    "df1['Y_t1'] = df1['Sales'].shift(periods = 1)\n",
    "df1_y1 = df1.dropna()\n",
    "print(df1_y1.shape)\n",
    "y_var = df1_y1['Sales'].values\n",
    "x_var_1 = df1_y1['Y_t1'].values\n",
    "sns.regplot(x = x_var_1, y = y_var, data = df1_y1, color = 'r', ci = None)\n",
    "plt.title('Line Plot for Sales')\n",
    "plt.xlabel('Y_t1')\n",
    "plt.ylabel('Sales')\n",
    "plt.show()"
   ]
  },
  {
   "cell_type": "code",
   "execution_count": 47,
   "metadata": {},
   "outputs": [
    {
     "data": {
      "text/html": [
       "<div>\n",
       "<style scoped>\n",
       "    .dataframe tbody tr th:only-of-type {\n",
       "        vertical-align: middle;\n",
       "    }\n",
       "\n",
       "    .dataframe tbody tr th {\n",
       "        vertical-align: top;\n",
       "    }\n",
       "\n",
       "    .dataframe thead th {\n",
       "        text-align: right;\n",
       "    }\n",
       "</style>\n",
       "<table border=\"1\" class=\"dataframe\">\n",
       "  <thead>\n",
       "    <tr style=\"text-align: right;\">\n",
       "      <th></th>\n",
       "      <th>Month</th>\n",
       "      <th>Sales</th>\n",
       "      <th>Advertising</th>\n",
       "      <th>Y_t1</th>\n",
       "    </tr>\n",
       "  </thead>\n",
       "  <tbody>\n",
       "    <tr>\n",
       "      <th>1</th>\n",
       "      <td>2</td>\n",
       "      <td>154</td>\n",
       "      <td>5.7</td>\n",
       "      <td>151.0</td>\n",
       "    </tr>\n",
       "    <tr>\n",
       "      <th>2</th>\n",
       "      <td>3</td>\n",
       "      <td>151</td>\n",
       "      <td>5.5</td>\n",
       "      <td>154.0</td>\n",
       "    </tr>\n",
       "    <tr>\n",
       "      <th>3</th>\n",
       "      <td>4</td>\n",
       "      <td>145</td>\n",
       "      <td>5.7</td>\n",
       "      <td>151.0</td>\n",
       "    </tr>\n",
       "    <tr>\n",
       "      <th>4</th>\n",
       "      <td>5</td>\n",
       "      <td>157</td>\n",
       "      <td>5.6</td>\n",
       "      <td>145.0</td>\n",
       "    </tr>\n",
       "    <tr>\n",
       "      <th>5</th>\n",
       "      <td>6</td>\n",
       "      <td>158</td>\n",
       "      <td>5.5</td>\n",
       "      <td>157.0</td>\n",
       "    </tr>\n",
       "    <tr>\n",
       "      <th>6</th>\n",
       "      <td>7</td>\n",
       "      <td>145</td>\n",
       "      <td>5.7</td>\n",
       "      <td>158.0</td>\n",
       "    </tr>\n",
       "    <tr>\n",
       "      <th>7</th>\n",
       "      <td>8</td>\n",
       "      <td>145</td>\n",
       "      <td>5.9</td>\n",
       "      <td>145.0</td>\n",
       "    </tr>\n",
       "    <tr>\n",
       "      <th>8</th>\n",
       "      <td>9</td>\n",
       "      <td>150</td>\n",
       "      <td>6.1</td>\n",
       "      <td>145.0</td>\n",
       "    </tr>\n",
       "    <tr>\n",
       "      <th>9</th>\n",
       "      <td>10</td>\n",
       "      <td>158</td>\n",
       "      <td>6.4</td>\n",
       "      <td>150.0</td>\n",
       "    </tr>\n",
       "    <tr>\n",
       "      <th>10</th>\n",
       "      <td>11</td>\n",
       "      <td>167</td>\n",
       "      <td>6.5</td>\n",
       "      <td>158.0</td>\n",
       "    </tr>\n",
       "    <tr>\n",
       "      <th>11</th>\n",
       "      <td>12</td>\n",
       "      <td>174</td>\n",
       "      <td>6.1</td>\n",
       "      <td>167.0</td>\n",
       "    </tr>\n",
       "    <tr>\n",
       "      <th>12</th>\n",
       "      <td>13</td>\n",
       "      <td>174</td>\n",
       "      <td>6.3</td>\n",
       "      <td>174.0</td>\n",
       "    </tr>\n",
       "    <tr>\n",
       "      <th>13</th>\n",
       "      <td>14</td>\n",
       "      <td>177</td>\n",
       "      <td>6.4</td>\n",
       "      <td>174.0</td>\n",
       "    </tr>\n",
       "    <tr>\n",
       "      <th>14</th>\n",
       "      <td>15</td>\n",
       "      <td>182</td>\n",
       "      <td>6.4</td>\n",
       "      <td>177.0</td>\n",
       "    </tr>\n",
       "    <tr>\n",
       "      <th>15</th>\n",
       "      <td>16</td>\n",
       "      <td>179</td>\n",
       "      <td>6.7</td>\n",
       "      <td>182.0</td>\n",
       "    </tr>\n",
       "    <tr>\n",
       "      <th>16</th>\n",
       "      <td>17</td>\n",
       "      <td>190</td>\n",
       "      <td>6.9</td>\n",
       "      <td>179.0</td>\n",
       "    </tr>\n",
       "    <tr>\n",
       "      <th>17</th>\n",
       "      <td>18</td>\n",
       "      <td>203</td>\n",
       "      <td>7.1</td>\n",
       "      <td>190.0</td>\n",
       "    </tr>\n",
       "    <tr>\n",
       "      <th>18</th>\n",
       "      <td>19</td>\n",
       "      <td>213</td>\n",
       "      <td>6.7</td>\n",
       "      <td>203.0</td>\n",
       "    </tr>\n",
       "    <tr>\n",
       "      <th>19</th>\n",
       "      <td>20</td>\n",
       "      <td>207</td>\n",
       "      <td>6.6</td>\n",
       "      <td>213.0</td>\n",
       "    </tr>\n",
       "  </tbody>\n",
       "</table>\n",
       "</div>"
      ],
      "text/plain": [
       "    Month  Sales  Advertising   Y_t1\n",
       "1       2    154          5.7  151.0\n",
       "2       3    151          5.5  154.0\n",
       "3       4    145          5.7  151.0\n",
       "4       5    157          5.6  145.0\n",
       "5       6    158          5.5  157.0\n",
       "6       7    145          5.7  158.0\n",
       "7       8    145          5.9  145.0\n",
       "8       9    150          6.1  145.0\n",
       "9      10    158          6.4  150.0\n",
       "10     11    167          6.5  158.0\n",
       "11     12    174          6.1  167.0\n",
       "12     13    174          6.3  174.0\n",
       "13     14    177          6.4  174.0\n",
       "14     15    182          6.4  177.0\n",
       "15     16    179          6.7  182.0\n",
       "16     17    190          6.9  179.0\n",
       "17     18    203          7.1  190.0\n",
       "18     19    213          6.7  203.0\n",
       "19     20    207          6.6  213.0"
      ]
     },
     "execution_count": 47,
     "metadata": {},
     "output_type": "execute_result"
    }
   ],
   "source": [
    "df1_y1"
   ]
  },
  {
   "cell_type": "code",
   "execution_count": 48,
   "metadata": {},
   "outputs": [
    {
     "name": "stdout",
     "output_type": "stream",
     "text": [
      "                            OLS Regression Results                            \n",
      "==============================================================================\n",
      "Dep. Variable:                      y   R-squared:                       0.920\n",
      "Model:                            OLS   Adj. R-squared:                  0.910\n",
      "Method:                 Least Squares   F-statistic:                     91.71\n",
      "Date:                Tue, 31 May 2022   Prob (F-statistic):           1.72e-09\n",
      "Time:                        20:09:59   Log-Likelihood:                -60.829\n",
      "No. Observations:                  19   AIC:                             127.7\n",
      "Df Residuals:                      16   BIC:                             130.5\n",
      "Df Model:                           2                                         \n",
      "Covariance Type:            nonrobust                                         \n",
      "==============================================================================\n",
      "                 coef    std err          t      P>|t|      [0.025      0.975]\n",
      "------------------------------------------------------------------------------\n",
      "const         42.5445     22.859      1.861      0.081      -5.914      91.003\n",
      "time           1.3186      0.581      2.271      0.037       0.088       2.550\n",
      "Y_t1           0.6918      0.163      4.232      0.001       0.345       1.038\n",
      "==============================================================================\n",
      "Omnibus:                        0.378   Durbin-Watson:                   1.693\n",
      "Prob(Omnibus):                  0.828   Jarque-Bera (JB):                0.392\n",
      "Skew:                          -0.280   Prob(JB):                        0.822\n",
      "Kurtosis:                       2.574   Cond. No.                     2.59e+03\n",
      "==============================================================================\n",
      "\n",
      "Warnings:\n",
      "[1] Standard Errors assume that the covariance matrix of the errors is correctly specified.\n",
      "[2] The condition number is large, 2.59e+03. This might indicate that there are\n",
      "strong multicollinearity or other numerical problems.\n"
     ]
    }
   ],
   "source": [
    "t = np.arange(0, df1_y1.shape[0], 1)\n",
    "y_data = df1_y1['Sales'].values\n",
    "X_data_ar = np.array([t, df1_y1['Y_t1'].values])\n",
    "X_data_T = X_data_ar.T\n",
    "X_data = pd.DataFrame(X_data_T,columns = ['time', 'Y_t1'])\n",
    "X_data = sm.add_constant(X_data)\n",
    "df1_y1_t_olsmod = sm.OLS(y_data, X_data)\n",
    "result_reg = df1_y1_t_olsmod.fit()\n",
    "print(result_reg.summary())"
   ]
  },
  {
   "cell_type": "code",
   "execution_count": 49,
   "metadata": {},
   "outputs": [
    {
     "name": "stdout",
     "output_type": "stream",
     "text": [
      "Columns in data are: ['Obs', 'Dep Var\\nPopulation', 'Predicted\\nValue', 'Std Error\\nMean Predict', 'Mean ci\\n95% low', 'Mean ci\\n95% upp', 'Predict ci\\n95% low', 'Predict ci\\n95% upp', 'Residual', 'Std Error\\nResidual', 'Student\\nResidual', \"Cook's\\nD\"]\n",
      "[ 1.28080185  0.10675304 -0.78334377  1.67780807  0.25695074 -2.17419139\n",
      " -0.97727129 -0.36453241  0.19261731  0.53475072  0.43540324 -0.54564382\n",
      " -0.27979396 -0.02262661 -1.28597358  0.64101921  1.31598147  1.3453873\n",
      " -1.31750868]\n",
      "mu =  0.0019256555038530702\n",
      "sigma =  1.0050665870190567\n"
     ]
    }
   ],
   "source": [
    "st, data, ss2 = sso.summary_table(result_reg, alpha=0.05)\n",
    "print(\"Columns in data are: %s\" % ss2)\n",
    "#Predicted value\n",
    "y_pre = data[:, 2]\n",
    "auto_reg_y_pre = y_pre\n",
    "#Studentized Residual\n",
    "SD = data[:, 10]\n",
    "mu = np.mean(SD)\n",
    "sigma = np.std(SD)\n",
    "print(SD)\n",
    "print('mu = ', mu)\n",
    "print('sigma = ', sigma)"
   ]
  },
  {
   "cell_type": "code",
   "execution_count": 50,
   "metadata": {},
   "outputs": [
    {
     "name": "stdout",
     "output_type": "stream",
     "text": [
      "x_square_sum =  19.19308849733384\n",
      "size =  19\n",
      "x_d =  [0. 0. 0. 0. 0. 0. 0. 0. 0. 0. 0. 0. 0. 0. 0. 0. 0. 0. 0.]\n",
      "x_d =  [ 0.         -1.17404881 -0.89009681  2.46115184 -1.42085733 -2.43114213\n",
      "  1.1969201   0.61273889  0.55714972  0.34213341 -0.09934748 -0.98104705\n",
      "  0.26584986  0.25716735 -1.26334697  1.92699279  0.67496226  0.02940583\n",
      " -2.66289598]\n",
      "d =  1.6859554245886492\n",
      "1.6859554245886492\n"
     ]
    }
   ],
   "source": [
    "d_w = Durbin_Watson_test(SD)\n",
    "print(d_w)"
   ]
  },
  {
   "cell_type": "markdown",
   "metadata": {},
   "source": [
    "If d < dL or d > 4-dL first order auto-correlation exists\n",
    "\n",
    "If d falls between dL and dU  or between 4-dU and 4-dL the test is inconclusive\n",
    "\n",
    "If d falls between dU and 4-dU there is no evidence for first order auto-correlation"
   ]
  },
  {
   "cell_type": "code",
   "execution_count": 51,
   "metadata": {},
   "outputs": [],
   "source": [
    "d = 1.6859554245886446\n",
    "dl = 1.05996\n",
    "du = 1.27373"
   ]
  },
  {
   "cell_type": "code",
   "execution_count": 52,
   "metadata": {},
   "outputs": [
    {
     "name": "stdout",
     "output_type": "stream",
     "text": [
      "2.9400399999999998\n",
      "2.72627\n"
     ]
    }
   ],
   "source": [
    "print(4-dl)\n",
    "print(4-du)"
   ]
  },
  {
   "cell_type": "code",
   "execution_count": 53,
   "metadata": {},
   "outputs": [
    {
     "name": "stdout",
     "output_type": "stream",
     "text": [
      "Because du < d <= 4-du, we can't reject H0\n",
      "there is no evidence for first order auto-correlation\n"
     ]
    }
   ],
   "source": [
    "if d < dl or d > 4-dl:\n",
    "    if d < dl:\n",
    "        print(\"Because d < dl, we can't reject H0\")\n",
    "    elif d > 4-dl:\n",
    "        print(\"Because 4-dl, we can't reject H0\")\n",
    "    print(\"first order auto-correlation exists\")\n",
    "elif dl < d <= du or 4-du < d <= 4-dl:\n",
    "    if dl < d <= du:\n",
    "        print(\"Because dl < d <= du, we can't reject H0\")\n",
    "    elif 4-du < d <= 4-dl:\n",
    "        print(\"Because 4-du < d <= 4-dl, we can't reject H0\")\n",
    "    print(\"the test is inconclusive\")\n",
    "elif 4-du < d <= du or du < d <= 4-du:\n",
    "    if 4-du < d <= du:\n",
    "        print(\"Because 4-du < d <= du, we can't reject H0\")\n",
    "        print(\"there is no evidence for first order auto-correlation\") \n",
    "    elif du < d <= 4-du:\n",
    "        print(\"Because du < d <= 4-du, we can't reject H0\")\n",
    "        print(\"there is no evidence for first order auto-correlation\") "
   ]
  },
  {
   "cell_type": "code",
   "execution_count": 54,
   "metadata": {},
   "outputs": [
    {
     "name": "stdout",
     "output_type": "stream",
     "text": [
      "18\n",
      "[  1  19 207]\n",
      "New Prediction [210.80693015]\n"
     ]
    }
   ],
   "source": [
    "Idd = len(y_var) - 1\n",
    "print(Idd)\n",
    "New_t = len(y_var)\n",
    "New_data_t = np.array([1, New_t, y_var[Idd]])\n",
    "print(New_data_t)\n",
    "df1_y1_t_New_pre = result_reg.predict(New_data_t)\n",
    "print('New Prediction', df1_y1_t_New_pre)"
   ]
  },
  {
   "cell_type": "markdown",
   "metadata": {},
   "source": [
    "### (3)"
   ]
  },
  {
   "cell_type": "code",
   "execution_count": 55,
   "metadata": {},
   "outputs": [],
   "source": [
    "def ExSm(y_v, a):\n",
    "    es_df = pd.DataFrame({'orig': y_v})\n",
    "    es_df['es_res'] = es_df['orig'].ewm(alpha = a, adjust= False).mean()\n",
    "    es_al_a = np.zeros(len(y_v) + 1)\n",
    "    es_al_a[0] = es_df['es_res'][0]\n",
    "    es_al_a[1] = es_df['es_res'][0]\n",
    "    for i in range(2, len(y_v) + 1):\n",
    "        es_al_a[i] = es_df['es_res'][i-1]\n",
    "    t1 = range(0, len(y_v) + 1) + np.ones((len(y_v) + 1))\n",
    "    org_data = y_v.tolist()\n",
    "    es_df_e = pd.DataFrame({'time':t1, 'orig': np.array(org_data + [float('nan')]), 'es_forecast': es_al_a})\n",
    "    return {\"es_forecast\":es_df_e}"
   ]
  },
  {
   "cell_type": "code",
   "execution_count": 56,
   "metadata": {},
   "outputs": [
    {
     "data": {
      "text/html": [
       "<div>\n",
       "<style scoped>\n",
       "    .dataframe tbody tr th:only-of-type {\n",
       "        vertical-align: middle;\n",
       "    }\n",
       "\n",
       "    .dataframe tbody tr th {\n",
       "        vertical-align: top;\n",
       "    }\n",
       "\n",
       "    .dataframe thead th {\n",
       "        text-align: right;\n",
       "    }\n",
       "</style>\n",
       "<table border=\"1\" class=\"dataframe\">\n",
       "  <thead>\n",
       "    <tr style=\"text-align: right;\">\n",
       "      <th></th>\n",
       "      <th>time</th>\n",
       "      <th>orig</th>\n",
       "      <th>es_forecast</th>\n",
       "    </tr>\n",
       "  </thead>\n",
       "  <tbody>\n",
       "    <tr>\n",
       "      <th>0</th>\n",
       "      <td>1.0</td>\n",
       "      <td>151.0</td>\n",
       "      <td>151.000000</td>\n",
       "    </tr>\n",
       "    <tr>\n",
       "      <th>1</th>\n",
       "      <td>2.0</td>\n",
       "      <td>154.0</td>\n",
       "      <td>151.000000</td>\n",
       "    </tr>\n",
       "    <tr>\n",
       "      <th>2</th>\n",
       "      <td>3.0</td>\n",
       "      <td>151.0</td>\n",
       "      <td>153.700000</td>\n",
       "    </tr>\n",
       "    <tr>\n",
       "      <th>3</th>\n",
       "      <td>4.0</td>\n",
       "      <td>145.0</td>\n",
       "      <td>151.270000</td>\n",
       "    </tr>\n",
       "    <tr>\n",
       "      <th>4</th>\n",
       "      <td>5.0</td>\n",
       "      <td>157.0</td>\n",
       "      <td>145.627000</td>\n",
       "    </tr>\n",
       "    <tr>\n",
       "      <th>5</th>\n",
       "      <td>6.0</td>\n",
       "      <td>158.0</td>\n",
       "      <td>155.862700</td>\n",
       "    </tr>\n",
       "    <tr>\n",
       "      <th>6</th>\n",
       "      <td>7.0</td>\n",
       "      <td>145.0</td>\n",
       "      <td>157.786270</td>\n",
       "    </tr>\n",
       "    <tr>\n",
       "      <th>7</th>\n",
       "      <td>8.0</td>\n",
       "      <td>145.0</td>\n",
       "      <td>146.278627</td>\n",
       "    </tr>\n",
       "    <tr>\n",
       "      <th>8</th>\n",
       "      <td>9.0</td>\n",
       "      <td>150.0</td>\n",
       "      <td>145.127863</td>\n",
       "    </tr>\n",
       "    <tr>\n",
       "      <th>9</th>\n",
       "      <td>10.0</td>\n",
       "      <td>158.0</td>\n",
       "      <td>149.512786</td>\n",
       "    </tr>\n",
       "    <tr>\n",
       "      <th>10</th>\n",
       "      <td>11.0</td>\n",
       "      <td>167.0</td>\n",
       "      <td>157.151279</td>\n",
       "    </tr>\n",
       "    <tr>\n",
       "      <th>11</th>\n",
       "      <td>12.0</td>\n",
       "      <td>174.0</td>\n",
       "      <td>166.015128</td>\n",
       "    </tr>\n",
       "    <tr>\n",
       "      <th>12</th>\n",
       "      <td>13.0</td>\n",
       "      <td>174.0</td>\n",
       "      <td>173.201513</td>\n",
       "    </tr>\n",
       "    <tr>\n",
       "      <th>13</th>\n",
       "      <td>14.0</td>\n",
       "      <td>177.0</td>\n",
       "      <td>173.920151</td>\n",
       "    </tr>\n",
       "    <tr>\n",
       "      <th>14</th>\n",
       "      <td>15.0</td>\n",
       "      <td>182.0</td>\n",
       "      <td>176.692015</td>\n",
       "    </tr>\n",
       "    <tr>\n",
       "      <th>15</th>\n",
       "      <td>16.0</td>\n",
       "      <td>179.0</td>\n",
       "      <td>181.469202</td>\n",
       "    </tr>\n",
       "    <tr>\n",
       "      <th>16</th>\n",
       "      <td>17.0</td>\n",
       "      <td>190.0</td>\n",
       "      <td>179.246920</td>\n",
       "    </tr>\n",
       "    <tr>\n",
       "      <th>17</th>\n",
       "      <td>18.0</td>\n",
       "      <td>203.0</td>\n",
       "      <td>188.924692</td>\n",
       "    </tr>\n",
       "    <tr>\n",
       "      <th>18</th>\n",
       "      <td>19.0</td>\n",
       "      <td>213.0</td>\n",
       "      <td>201.592469</td>\n",
       "    </tr>\n",
       "    <tr>\n",
       "      <th>19</th>\n",
       "      <td>20.0</td>\n",
       "      <td>207.0</td>\n",
       "      <td>211.859247</td>\n",
       "    </tr>\n",
       "    <tr>\n",
       "      <th>20</th>\n",
       "      <td>21.0</td>\n",
       "      <td>NaN</td>\n",
       "      <td>207.485925</td>\n",
       "    </tr>\n",
       "  </tbody>\n",
       "</table>\n",
       "</div>"
      ],
      "text/plain": [
       "    time   orig  es_forecast\n",
       "0    1.0  151.0   151.000000\n",
       "1    2.0  154.0   151.000000\n",
       "2    3.0  151.0   153.700000\n",
       "3    4.0  145.0   151.270000\n",
       "4    5.0  157.0   145.627000\n",
       "5    6.0  158.0   155.862700\n",
       "6    7.0  145.0   157.786270\n",
       "7    8.0  145.0   146.278627\n",
       "8    9.0  150.0   145.127863\n",
       "9   10.0  158.0   149.512786\n",
       "10  11.0  167.0   157.151279\n",
       "11  12.0  174.0   166.015128\n",
       "12  13.0  174.0   173.201513\n",
       "13  14.0  177.0   173.920151\n",
       "14  15.0  182.0   176.692015\n",
       "15  16.0  179.0   181.469202\n",
       "16  17.0  190.0   179.246920\n",
       "17  18.0  203.0   188.924692\n",
       "18  19.0  213.0   201.592469\n",
       "19  20.0  207.0   211.859247\n",
       "20  21.0    NaN   207.485925"
      ]
     },
     "metadata": {},
     "output_type": "display_data"
    },
    {
     "data": {
      "image/png": "[encoded data removed]",
      "text/plain": [
       "<Figure size 360x240 with 1 Axes>"
      ]
     },
     "metadata": {
      "needs_background": "light"
     },
     "output_type": "display_data"
    }
   ],
   "source": [
    "es02_result = ExSm(df1[\"Sales\"], 0.9)\n",
    "es02_result_df = []\n",
    "es02_result_df = pd.DataFrame(es02_result['es_forecast'])\n",
    "display(es02_result_df)\n",
    "plt.plot(es02_result_df['time'], es02_result_df['orig'])\n",
    "plt.plot(es02_result_df['time'], es02_result_df['es_forecast'])\n",
    "plt.ylim(0, max(df1[\"Sales\"])+5)\n",
    "plt.legend(labels=['org', 'forecast'])\n",
    "plt.xlabel('period')\n",
    "plt.ylabel('Sales')\n",
    "plt.title('Line Chart for Time series by ES(0.9)')\n",
    "plt.show()"
   ]
  },
  {
   "cell_type": "markdown",
   "metadata": {},
   "source": [
    "### (4)"
   ]
  },
  {
   "cell_type": "code",
   "execution_count": 57,
   "metadata": {},
   "outputs": [],
   "source": [
    "def MAF(y_v, p):\n",
    "    ma_p_a = np.zeros(len(y_v) + 1)\n",
    "    ma_p_a[:] = np.nan\n",
    "    mvlen = p\n",
    "    for i in range(mvlen, len(y_v) + 1):\n",
    "        ma_p_a[i] = np.mean(y_v[i-mvlen: i])\n",
    "    t1 = range(0, len(y_v) + 1) + np.ones((len(y_v) + 1))\n",
    "    org_data = np.append(y_v, [np.nan])\n",
    "    ma_df_p = pd.DataFrame({'time':t1, 'orig': org_data, 'ma_forecast': ma_p_a})\n",
    "    return {\"ma_forecast\":ma_df_p}"
   ]
  },
  {
   "cell_type": "code",
   "execution_count": 58,
   "metadata": {},
   "outputs": [
    {
     "data": {
      "text/html": [
       "<div>\n",
       "<style scoped>\n",
       "    .dataframe tbody tr th:only-of-type {\n",
       "        vertical-align: middle;\n",
       "    }\n",
       "\n",
       "    .dataframe tbody tr th {\n",
       "        vertical-align: top;\n",
       "    }\n",
       "\n",
       "    .dataframe thead th {\n",
       "        text-align: right;\n",
       "    }\n",
       "</style>\n",
       "<table border=\"1\" class=\"dataframe\">\n",
       "  <thead>\n",
       "    <tr style=\"text-align: right;\">\n",
       "      <th></th>\n",
       "      <th>time</th>\n",
       "      <th>orig</th>\n",
       "      <th>ma_forecast</th>\n",
       "    </tr>\n",
       "  </thead>\n",
       "  <tbody>\n",
       "    <tr>\n",
       "      <th>0</th>\n",
       "      <td>1.0</td>\n",
       "      <td>151.0</td>\n",
       "      <td>NaN</td>\n",
       "    </tr>\n",
       "    <tr>\n",
       "      <th>1</th>\n",
       "      <td>2.0</td>\n",
       "      <td>154.0</td>\n",
       "      <td>NaN</td>\n",
       "    </tr>\n",
       "    <tr>\n",
       "      <th>2</th>\n",
       "      <td>3.0</td>\n",
       "      <td>151.0</td>\n",
       "      <td>NaN</td>\n",
       "    </tr>\n",
       "    <tr>\n",
       "      <th>3</th>\n",
       "      <td>4.0</td>\n",
       "      <td>145.0</td>\n",
       "      <td>152.000000</td>\n",
       "    </tr>\n",
       "    <tr>\n",
       "      <th>4</th>\n",
       "      <td>5.0</td>\n",
       "      <td>157.0</td>\n",
       "      <td>150.000000</td>\n",
       "    </tr>\n",
       "    <tr>\n",
       "      <th>5</th>\n",
       "      <td>6.0</td>\n",
       "      <td>158.0</td>\n",
       "      <td>151.000000</td>\n",
       "    </tr>\n",
       "    <tr>\n",
       "      <th>6</th>\n",
       "      <td>7.0</td>\n",
       "      <td>145.0</td>\n",
       "      <td>153.333333</td>\n",
       "    </tr>\n",
       "    <tr>\n",
       "      <th>7</th>\n",
       "      <td>8.0</td>\n",
       "      <td>145.0</td>\n",
       "      <td>153.333333</td>\n",
       "    </tr>\n",
       "    <tr>\n",
       "      <th>8</th>\n",
       "      <td>9.0</td>\n",
       "      <td>150.0</td>\n",
       "      <td>149.333333</td>\n",
       "    </tr>\n",
       "    <tr>\n",
       "      <th>9</th>\n",
       "      <td>10.0</td>\n",
       "      <td>158.0</td>\n",
       "      <td>146.666667</td>\n",
       "    </tr>\n",
       "    <tr>\n",
       "      <th>10</th>\n",
       "      <td>11.0</td>\n",
       "      <td>167.0</td>\n",
       "      <td>151.000000</td>\n",
       "    </tr>\n",
       "    <tr>\n",
       "      <th>11</th>\n",
       "      <td>12.0</td>\n",
       "      <td>174.0</td>\n",
       "      <td>158.333333</td>\n",
       "    </tr>\n",
       "    <tr>\n",
       "      <th>12</th>\n",
       "      <td>13.0</td>\n",
       "      <td>174.0</td>\n",
       "      <td>166.333333</td>\n",
       "    </tr>\n",
       "    <tr>\n",
       "      <th>13</th>\n",
       "      <td>14.0</td>\n",
       "      <td>177.0</td>\n",
       "      <td>171.666667</td>\n",
       "    </tr>\n",
       "    <tr>\n",
       "      <th>14</th>\n",
       "      <td>15.0</td>\n",
       "      <td>182.0</td>\n",
       "      <td>175.000000</td>\n",
       "    </tr>\n",
       "    <tr>\n",
       "      <th>15</th>\n",
       "      <td>16.0</td>\n",
       "      <td>179.0</td>\n",
       "      <td>177.666667</td>\n",
       "    </tr>\n",
       "    <tr>\n",
       "      <th>16</th>\n",
       "      <td>17.0</td>\n",
       "      <td>190.0</td>\n",
       "      <td>179.333333</td>\n",
       "    </tr>\n",
       "    <tr>\n",
       "      <th>17</th>\n",
       "      <td>18.0</td>\n",
       "      <td>203.0</td>\n",
       "      <td>183.666667</td>\n",
       "    </tr>\n",
       "    <tr>\n",
       "      <th>18</th>\n",
       "      <td>19.0</td>\n",
       "      <td>213.0</td>\n",
       "      <td>190.666667</td>\n",
       "    </tr>\n",
       "    <tr>\n",
       "      <th>19</th>\n",
       "      <td>20.0</td>\n",
       "      <td>207.0</td>\n",
       "      <td>202.000000</td>\n",
       "    </tr>\n",
       "    <tr>\n",
       "      <th>20</th>\n",
       "      <td>21.0</td>\n",
       "      <td>NaN</td>\n",
       "      <td>207.666667</td>\n",
       "    </tr>\n",
       "  </tbody>\n",
       "</table>\n",
       "</div>"
      ],
      "text/plain": [
       "    time   orig  ma_forecast\n",
       "0    1.0  151.0          NaN\n",
       "1    2.0  154.0          NaN\n",
       "2    3.0  151.0          NaN\n",
       "3    4.0  145.0   152.000000\n",
       "4    5.0  157.0   150.000000\n",
       "5    6.0  158.0   151.000000\n",
       "6    7.0  145.0   153.333333\n",
       "7    8.0  145.0   153.333333\n",
       "8    9.0  150.0   149.333333\n",
       "9   10.0  158.0   146.666667\n",
       "10  11.0  167.0   151.000000\n",
       "11  12.0  174.0   158.333333\n",
       "12  13.0  174.0   166.333333\n",
       "13  14.0  177.0   171.666667\n",
       "14  15.0  182.0   175.000000\n",
       "15  16.0  179.0   177.666667\n",
       "16  17.0  190.0   179.333333\n",
       "17  18.0  203.0   183.666667\n",
       "18  19.0  213.0   190.666667\n",
       "19  20.0  207.0   202.000000\n",
       "20  21.0    NaN   207.666667"
      ]
     },
     "metadata": {},
     "output_type": "display_data"
    },
    {
     "data": {
      "image/png": "[encoded data removed]",
      "text/plain": [
       "<Figure size 360x240 with 1 Axes>"
      ]
     },
     "metadata": {
      "needs_background": "light"
     },
     "output_type": "display_data"
    }
   ],
   "source": [
    "ma03_result = MAF(df1['Sales'], 3)\n",
    "ma03_result_df = []\n",
    "ma03_result_df = pd.DataFrame(ma03_result['ma_forecast'])\n",
    "display(ma03_result_df)\n",
    "\n",
    "plt.plot(ma03_result_df['time'], ma03_result_df['orig'])\n",
    "plt.plot(ma03_result_df['time'], ma03_result_df['ma_forecast'])\n",
    "plt.ylim(0, max(df1[\"Sales\"])+5)\n",
    "plt.legend(labels=['org', 'forecast'])\n",
    "plt.xlabel('time')\n",
    "plt.ylabel('Sales')\n",
    "plt.title('Line Chart for Sales by MA 3')\n",
    "plt.show()"
   ]
  },
  {
   "cell_type": "markdown",
   "metadata": {},
   "source": [
    "### (5)"
   ]
  },
  {
   "cell_type": "code",
   "execution_count": 59,
   "metadata": {},
   "outputs": [],
   "source": [
    "def EST(y_v, a, b, f0, y0, t0, p):\n",
    "    est_fcast = np.zeros(len(y_v) + p + 1)\n",
    "    est_et = np.zeros(len(y_v) + p + 1)\n",
    "    est_fcast[0] = f0\n",
    "    est_et[0] = t0\n",
    "    y_v = np.insert(y_v, 0, y0, axis=0)\n",
    "    print(y_v)\n",
    "    for i in range(1, len(y_v)):\n",
    "        est_fcast[i] = a*y_v[i-1] + (1-a)*est_fcast[i-1] + est_et[i - 1]\n",
    "        latest_trend = a*(y_v[i] - y_v[i-1]) + (1-a)*(est_fcast[i] - est_fcast[i-1])\n",
    "        print(latest_trend)\n",
    "        est_et[i] = b*latest_trend + (1-b)*est_et[i-1]\n",
    "    for i in range(len(y_v) , len(est_fcast)):\n",
    "        est_fcast[i] = a*y_v[-1] + (1-a)*est_fcast[len(y_v) - 1] + (i - len(y_v) + 1)*est_et[len(y_v) - 1]\n",
    "    print(est_fcast)\n",
    "    print(est_et)\n",
    "    t1 = range(0, len(y_v) + p)\n",
    "    Ini_v = y0\n",
    "    W_ini_v = y_v\n",
    "    org_data = np.append(W_ini_v, [np.nan]*p)\n",
    "    print(len(t1), len(org_data), len(est_fcast))\n",
    "    print(t1)\n",
    "    est_df_ab = pd.DataFrame({'time':t1, 'orig': org_data, 'est_forecast': est_fcast})\n",
    "    return {\"est_forecast\":est_df_ab}"
   ]
  },
  {
   "cell_type": "code",
   "execution_count": 60,
   "metadata": {},
   "outputs": [
    {
     "name": "stdout",
     "output_type": "stream",
     "text": [
      "[150 151 154 151 145 157 158 145 145 150 158 167 174 174 177 182 179 190\n",
      " 203 213 207]\n",
      "1.0\n",
      "2.8000000000000003\n",
      "-2.3840000000000003\n",
      "-5.713280000000001\n",
      "10.102182400000002\n",
      "2.1253358079999995\n",
      "-11.47490929664\n",
      "-1.4094501337088017\n",
      "4.3507968066519025\n",
      "7.7436780754906325\n",
      "9.029104148786194\n",
      "7.352408009334232\n",
      "0.821304953708872\n",
      "2.7203597564787403\n",
      "4.760600480589557\n",
      "-2.1922835335054858\n",
      "9.567039101116\n",
      "12.800904326377267\n",
      "10.460128070155488\n",
      "-4.256772608094682\n",
      "[150.         151.         152.         155.16       152.0272\n",
      " 145.049024   157.30238208 159.55328911 145.45878778 143.96675584\n",
      " 149.4035366  158.69457809 169.21865818 177.43170772 177.63530528\n",
      " 180.24131009 185.31847475 181.98886576 192.99790903 207.59918973\n",
      " 219.03146365 212.60902758]\n",
      "[ 1.          1.          1.36        0.6112     -0.653696    1.49747968\n",
      "  1.62305091 -0.99654113 -1.07912293  0.00686101  1.55422443  3.04920037\n",
      "  3.9098419   3.29213451  3.17777956  3.49434374  2.35701829  3.79902245\n",
      "  5.59939883  6.57154467  4.40588122  0.        ]\n",
      "22 22 22\n",
      "range(0, 22)\n"
     ]
    },
    {
     "data": {
      "text/html": [
       "<div>\n",
       "<style scoped>\n",
       "    .dataframe tbody tr th:only-of-type {\n",
       "        vertical-align: middle;\n",
       "    }\n",
       "\n",
       "    .dataframe tbody tr th {\n",
       "        vertical-align: top;\n",
       "    }\n",
       "\n",
       "    .dataframe thead th {\n",
       "        text-align: right;\n",
       "    }\n",
       "</style>\n",
       "<table border=\"1\" class=\"dataframe\">\n",
       "  <thead>\n",
       "    <tr style=\"text-align: right;\">\n",
       "      <th></th>\n",
       "      <th>time</th>\n",
       "      <th>orig</th>\n",
       "      <th>est_forecast</th>\n",
       "    </tr>\n",
       "  </thead>\n",
       "  <tbody>\n",
       "    <tr>\n",
       "      <th>0</th>\n",
       "      <td>0</td>\n",
       "      <td>150.0</td>\n",
       "      <td>150.000000</td>\n",
       "    </tr>\n",
       "    <tr>\n",
       "      <th>1</th>\n",
       "      <td>1</td>\n",
       "      <td>151.0</td>\n",
       "      <td>151.000000</td>\n",
       "    </tr>\n",
       "    <tr>\n",
       "      <th>2</th>\n",
       "      <td>2</td>\n",
       "      <td>154.0</td>\n",
       "      <td>152.000000</td>\n",
       "    </tr>\n",
       "    <tr>\n",
       "      <th>3</th>\n",
       "      <td>3</td>\n",
       "      <td>151.0</td>\n",
       "      <td>155.160000</td>\n",
       "    </tr>\n",
       "    <tr>\n",
       "      <th>4</th>\n",
       "      <td>4</td>\n",
       "      <td>145.0</td>\n",
       "      <td>152.027200</td>\n",
       "    </tr>\n",
       "    <tr>\n",
       "      <th>5</th>\n",
       "      <td>5</td>\n",
       "      <td>157.0</td>\n",
       "      <td>145.049024</td>\n",
       "    </tr>\n",
       "    <tr>\n",
       "      <th>6</th>\n",
       "      <td>6</td>\n",
       "      <td>158.0</td>\n",
       "      <td>157.302382</td>\n",
       "    </tr>\n",
       "    <tr>\n",
       "      <th>7</th>\n",
       "      <td>7</td>\n",
       "      <td>145.0</td>\n",
       "      <td>159.553289</td>\n",
       "    </tr>\n",
       "    <tr>\n",
       "      <th>8</th>\n",
       "      <td>8</td>\n",
       "      <td>145.0</td>\n",
       "      <td>145.458788</td>\n",
       "    </tr>\n",
       "    <tr>\n",
       "      <th>9</th>\n",
       "      <td>9</td>\n",
       "      <td>150.0</td>\n",
       "      <td>143.966756</td>\n",
       "    </tr>\n",
       "    <tr>\n",
       "      <th>10</th>\n",
       "      <td>10</td>\n",
       "      <td>158.0</td>\n",
       "      <td>149.403537</td>\n",
       "    </tr>\n",
       "    <tr>\n",
       "      <th>11</th>\n",
       "      <td>11</td>\n",
       "      <td>167.0</td>\n",
       "      <td>158.694578</td>\n",
       "    </tr>\n",
       "    <tr>\n",
       "      <th>12</th>\n",
       "      <td>12</td>\n",
       "      <td>174.0</td>\n",
       "      <td>169.218658</td>\n",
       "    </tr>\n",
       "    <tr>\n",
       "      <th>13</th>\n",
       "      <td>13</td>\n",
       "      <td>174.0</td>\n",
       "      <td>177.431708</td>\n",
       "    </tr>\n",
       "    <tr>\n",
       "      <th>14</th>\n",
       "      <td>14</td>\n",
       "      <td>177.0</td>\n",
       "      <td>177.635305</td>\n",
       "    </tr>\n",
       "    <tr>\n",
       "      <th>15</th>\n",
       "      <td>15</td>\n",
       "      <td>182.0</td>\n",
       "      <td>180.241310</td>\n",
       "    </tr>\n",
       "    <tr>\n",
       "      <th>16</th>\n",
       "      <td>16</td>\n",
       "      <td>179.0</td>\n",
       "      <td>185.318475</td>\n",
       "    </tr>\n",
       "    <tr>\n",
       "      <th>17</th>\n",
       "      <td>17</td>\n",
       "      <td>190.0</td>\n",
       "      <td>181.988866</td>\n",
       "    </tr>\n",
       "    <tr>\n",
       "      <th>18</th>\n",
       "      <td>18</td>\n",
       "      <td>203.0</td>\n",
       "      <td>192.997909</td>\n",
       "    </tr>\n",
       "    <tr>\n",
       "      <th>19</th>\n",
       "      <td>19</td>\n",
       "      <td>213.0</td>\n",
       "      <td>207.599190</td>\n",
       "    </tr>\n",
       "    <tr>\n",
       "      <th>20</th>\n",
       "      <td>20</td>\n",
       "      <td>207.0</td>\n",
       "      <td>219.031464</td>\n",
       "    </tr>\n",
       "    <tr>\n",
       "      <th>21</th>\n",
       "      <td>21</td>\n",
       "      <td>NaN</td>\n",
       "      <td>212.609028</td>\n",
       "    </tr>\n",
       "  </tbody>\n",
       "</table>\n",
       "</div>"
      ],
      "text/plain": [
       "    time   orig  est_forecast\n",
       "0      0  150.0    150.000000\n",
       "1      1  151.0    151.000000\n",
       "2      2  154.0    152.000000\n",
       "3      3  151.0    155.160000\n",
       "4      4  145.0    152.027200\n",
       "5      5  157.0    145.049024\n",
       "6      6  158.0    157.302382\n",
       "7      7  145.0    159.553289\n",
       "8      8  145.0    145.458788\n",
       "9      9  150.0    143.966756\n",
       "10    10  158.0    149.403537\n",
       "11    11  167.0    158.694578\n",
       "12    12  174.0    169.218658\n",
       "13    13  174.0    177.431708\n",
       "14    14  177.0    177.635305\n",
       "15    15  182.0    180.241310\n",
       "16    16  179.0    185.318475\n",
       "17    17  190.0    181.988866\n",
       "18    18  203.0    192.997909\n",
       "19    19  213.0    207.599190\n",
       "20    20  207.0    219.031464\n",
       "21    21    NaN    212.609028"
      ]
     },
     "metadata": {},
     "output_type": "display_data"
    },
    {
     "data": {
      "image/png": "[encoded data removed]",
      "text/plain": [
       "<Figure size 360x240 with 1 Axes>"
      ]
     },
     "metadata": {
      "needs_background": "light"
     },
     "output_type": "display_data"
    }
   ],
   "source": [
    "from statsmodels.tsa.api import Holt\n",
    "# alpha, beta, f0, y0, t0, 要預測的期數\n",
    "esm_ab_result = EST(np.array(df1[\"Sales\"]), 0.9, 0.2, 150, 150, 1, 1)\n",
    "esm_ab_result_df = []\n",
    "esm_ab_result_df = pd.DataFrame(esm_ab_result['est_forecast'])\n",
    "display(esm_ab_result_df)\n",
    "plt.plot(esm_ab_result_df['time'], esm_ab_result_df['orig'])\n",
    "plt.plot(esm_ab_result_df['time'], esm_ab_result_df['est_forecast'])\n",
    "plt.ylim(0, max(df1[\"Sales\"])+5)\n",
    "plt.legend(labels=['org', 'est_forecast'])\n",
    "plt.xlabel('period')\n",
    "plt.ylabel('Sales')\n",
    "plt.title('Line Chart for Sales by EST(0.9, 0.2, 150, 1)')\n",
    "plt.show()"
   ]
  },
  {
   "cell_type": "markdown",
   "metadata": {},
   "source": [
    "### (6)"
   ]
  },
  {
   "cell_type": "code",
   "execution_count": 61,
   "metadata": {},
   "outputs": [],
   "source": [
    "def ErrMetrix(y_v, f_v):\n",
    "    y_v_n = pd.DataFrame({'orig': y_v})\n",
    "    f_v_n = pd.DataFrame({'forecast': f_v})\n",
    "    err1 = (y_v_n['orig'] - f_v_n['forecast']).dropna().values\n",
    "    err1p = ((y_v_n['orig'] - f_v_n['forecast'])/ y_v_n['orig']).dropna().values\n",
    "    MAD = round(np.absolute(err1).mean(),6)\n",
    "    MSE = round(np.mean(err1 * err1),6)\n",
    "    RMSE = round(np.sqrt(np.mean(err1 * err1)),6)\n",
    "    MAPE = round(np.absolute(err1p).mean() * 100, 6)\n",
    "    print(\"MAD = \", MAD)\n",
    "    print(\"MSE = \", MSE)\n",
    "    print(\"RMSE = \", RMSE)\n",
    "    print(\"MAPE = \", MAPE, \"%\")\n",
    "    return MAD, MSE, RMSE, MAPE"
   ]
  },
  {
   "cell_type": "code",
   "execution_count": 62,
   "metadata": {},
   "outputs": [
    {
     "name": "stdout",
     "output_type": "stream",
     "text": [
      "[149.64759403 146.81528452 156.43585324 158.44632971 150.77123422\n",
      " 152.08988411 156.86766686 163.7209293  171.26601832 177.4274542\n",
      " 178.7461041  182.1402337  186.91801644 186.16118664 195.08992879\n",
      " 205.40232408 213.63923967]\n",
      "Error Metrics for Moving Average with n = 3\n",
      "MAD =  9.411765\n",
      "MSE =  121.503268\n",
      "RMSE =  11.022852\n",
      "MAPE =  5.380101 %\n",
      "\n",
      "\n",
      "Error Metrics for Exponential Smoothing with alpha = 0.9\n",
      "MAD =  6.928755\n",
      "MSE =  65.10338\n",
      "RMSE =  8.068667\n",
      "MAPE =  4.030473 %\n",
      "\n",
      "\n",
      "Error Metrics for Holts Exponential Smoothing with alpha = 0.9 and beta = 0.2\n",
      "MAD =  6.470236\n",
      "MSE =  58.834385\n",
      "RMSE =  7.670358\n",
      "MAPE =  3.80918 %\n",
      "\n",
      "\n",
      "Error Metrics for AUTOREG\n",
      "MAD =  4.945112\n",
      "MSE =  36.610804\n",
      "RMSE =  6.050686\n",
      "MAPE =  2.925215 %\n",
      "dataset:\n"
     ]
    },
    {
     "data": {
      "text/html": [
       "<div>\n",
       "<style scoped>\n",
       "    .dataframe tbody tr th:only-of-type {\n",
       "        vertical-align: middle;\n",
       "    }\n",
       "\n",
       "    .dataframe tbody tr th {\n",
       "        vertical-align: top;\n",
       "    }\n",
       "\n",
       "    .dataframe thead th {\n",
       "        text-align: right;\n",
       "    }\n",
       "</style>\n",
       "<table border=\"1\" class=\"dataframe\">\n",
       "  <thead>\n",
       "    <tr style=\"text-align: right;\">\n",
       "      <th></th>\n",
       "      <th>ErrM</th>\n",
       "      <th>MA03</th>\n",
       "      <th>ES09</th>\n",
       "      <th>ESM92</th>\n",
       "      <th>Auto Reg</th>\n",
       "    </tr>\n",
       "  </thead>\n",
       "  <tbody>\n",
       "    <tr>\n",
       "      <th>0</th>\n",
       "      <td>MAD</td>\n",
       "      <td>9.411765</td>\n",
       "      <td>6.928755</td>\n",
       "      <td>6.470236</td>\n",
       "      <td>4.945112</td>\n",
       "    </tr>\n",
       "    <tr>\n",
       "      <th>1</th>\n",
       "      <td>MSE</td>\n",
       "      <td>121.503268</td>\n",
       "      <td>65.10338</td>\n",
       "      <td>58.834385</td>\n",
       "      <td>36.610804</td>\n",
       "    </tr>\n",
       "    <tr>\n",
       "      <th>2</th>\n",
       "      <td>RMSE</td>\n",
       "      <td>11.022852</td>\n",
       "      <td>8.068667</td>\n",
       "      <td>7.670358</td>\n",
       "      <td>6.050686</td>\n",
       "    </tr>\n",
       "    <tr>\n",
       "      <th>3</th>\n",
       "      <td>MAPE</td>\n",
       "      <td>5.380101</td>\n",
       "      <td>4.030473</td>\n",
       "      <td>3.80918</td>\n",
       "      <td>2.925215</td>\n",
       "    </tr>\n",
       "  </tbody>\n",
       "</table>\n",
       "</div>"
      ],
      "text/plain": [
       "   ErrM        MA03      ES09      ESM92   Auto Reg\n",
       "0   MAD    9.411765  6.928755   6.470236   4.945112\n",
       "1   MSE  121.503268  65.10338  58.834385  36.610804\n",
       "2  RMSE   11.022852  8.068667   7.670358   6.050686\n",
       "3  MAPE    5.380101  4.030473    3.80918   2.925215"
      ]
     },
     "metadata": {},
     "output_type": "display_data"
    }
   ],
   "source": [
    "f_p = len(df1)\n",
    "orig_result_a = np.array(ma03_result_df['orig'][3:f_p])\n",
    "ma03_result_a = np.array(ma03_result_df['ma_forecast'][3:f_p])\n",
    "es02_result_a = np.array(es02_result_df['es_forecast'][3:f_p])\n",
    "esm_ab_result_a = np.array(esm_ab_result_df['est_forecast'][4:f_p+1])\n",
    "auto_reg_result_a = auto_reg_y_pre[len(auto_reg_y_pre) - (f_p - 3):]\n",
    "\n",
    "print(auto_reg_result_a)\n",
    "print('Error Metrics for Moving Average with n = 3')\n",
    "MA03_Err_M = ErrMetrix(orig_result_a, ma03_result_a)\n",
    "\n",
    "print('\\n')\n",
    "print('Error Metrics for Exponential Smoothing with alpha = 0.9')\n",
    "ES02_Err_M = ErrMetrix(orig_result_a, es02_result_a)\n",
    "\n",
    "print('\\n')\n",
    "print('Error Metrics for Holts Exponential Smoothing with alpha = 0.9 and beta = 0.2')\n",
    "ESMAB_Err_M = ErrMetrix(orig_result_a, esm_ab_result_a)\n",
    "\n",
    "print('\\n')\n",
    "print('Error Metrics for AUTOREG')\n",
    "AUTOREG_Err_M = ErrMetrix(orig_result_a, auto_reg_result_a)\n",
    "\n",
    "ErrM_id = ['MAD', 'MSE', 'RMSE', 'MAPE']\n",
    "ch20_ts1_ErrM_a = np.array([ErrM_id, MA03_Err_M, ES02_Err_M, ESMAB_Err_M, AUTOREG_Err_M])\n",
    "ch20_ts1_ErrM_df = pd.DataFrame(ch20_ts1_ErrM_a.T, columns = ['ErrM', 'MA03', 'ES09', 'ESM92', 'Auto Reg'])\n",
    "\n",
    "print('dataset:')\n",
    "display(ch20_ts1_ErrM_df)"
   ]
  },
  {
   "cell_type": "markdown",
   "metadata": {},
   "source": [
    "The best forecast method for the sales is Auto Reg when using MAD.\n",
    "\n",
    "The best forecast method for the sales is Auto Reg when using MSE.\n",
    "\n",
    "The best forecast method for the sales is Auto Reg when using RMSE.\n",
    "\n",
    "The best forecast method for the sales is Auto Reg when using MAPE."
   ]
  },
  {
   "cell_type": "markdown",
   "metadata": {},
   "source": [
    "## 4."
   ]
  },
  {
   "cell_type": "code",
   "execution_count": 63,
   "metadata": {},
   "outputs": [
    {
     "name": "stdout",
     "output_type": "stream",
     "text": [
      "Head of dataset:\n"
     ]
    },
    {
     "data": {
      "text/html": [
       "<div>\n",
       "<style scoped>\n",
       "    .dataframe tbody tr th:only-of-type {\n",
       "        vertical-align: middle;\n",
       "    }\n",
       "\n",
       "    .dataframe tbody tr th {\n",
       "        vertical-align: top;\n",
       "    }\n",
       "\n",
       "    .dataframe thead th {\n",
       "        text-align: right;\n",
       "    }\n",
       "</style>\n",
       "<table border=\"1\" class=\"dataframe\">\n",
       "  <thead>\n",
       "    <tr style=\"text-align: right;\">\n",
       "      <th></th>\n",
       "      <th>Year</th>\n",
       "      <th>Quarter</th>\n",
       "      <th>Sales</th>\n",
       "    </tr>\n",
       "  </thead>\n",
       "  <tbody>\n",
       "    <tr>\n",
       "      <th>0</th>\n",
       "      <td>2015</td>\n",
       "      <td>1</td>\n",
       "      <td>11.7</td>\n",
       "    </tr>\n",
       "    <tr>\n",
       "      <th>1</th>\n",
       "      <td>2015</td>\n",
       "      <td>2</td>\n",
       "      <td>9.6</td>\n",
       "    </tr>\n",
       "    <tr>\n",
       "      <th>2</th>\n",
       "      <td>2015</td>\n",
       "      <td>3</td>\n",
       "      <td>15.0</td>\n",
       "    </tr>\n",
       "    <tr>\n",
       "      <th>3</th>\n",
       "      <td>2015</td>\n",
       "      <td>4</td>\n",
       "      <td>17.7</td>\n",
       "    </tr>\n",
       "    <tr>\n",
       "      <th>4</th>\n",
       "      <td>2016</td>\n",
       "      <td>1</td>\n",
       "      <td>11.5</td>\n",
       "    </tr>\n",
       "  </tbody>\n",
       "</table>\n",
       "</div>"
      ],
      "text/plain": [
       "   Year  Quarter  Sales\n",
       "0  2015        1   11.7\n",
       "1  2015        2    9.6\n",
       "2  2015        3   15.0\n",
       "3  2015        4   17.7\n",
       "4  2016        1   11.5"
      ]
     },
     "metadata": {},
     "output_type": "display_data"
    },
    {
     "name": "stdout",
     "output_type": "stream",
     "text": [
      "Tail of dataset:\n"
     ]
    },
    {
     "data": {
      "text/html": [
       "<div>\n",
       "<style scoped>\n",
       "    .dataframe tbody tr th:only-of-type {\n",
       "        vertical-align: middle;\n",
       "    }\n",
       "\n",
       "    .dataframe tbody tr th {\n",
       "        vertical-align: top;\n",
       "    }\n",
       "\n",
       "    .dataframe thead th {\n",
       "        text-align: right;\n",
       "    }\n",
       "</style>\n",
       "<table border=\"1\" class=\"dataframe\">\n",
       "  <thead>\n",
       "    <tr style=\"text-align: right;\">\n",
       "      <th></th>\n",
       "      <th>Year</th>\n",
       "      <th>Quarter</th>\n",
       "      <th>Sales</th>\n",
       "    </tr>\n",
       "  </thead>\n",
       "  <tbody>\n",
       "    <tr>\n",
       "      <th>19</th>\n",
       "      <td>2019</td>\n",
       "      <td>4</td>\n",
       "      <td>19.5</td>\n",
       "    </tr>\n",
       "    <tr>\n",
       "      <th>20</th>\n",
       "      <td>2020</td>\n",
       "      <td>1</td>\n",
       "      <td>13.0</td>\n",
       "    </tr>\n",
       "    <tr>\n",
       "      <th>21</th>\n",
       "      <td>2020</td>\n",
       "      <td>2</td>\n",
       "      <td>11.2</td>\n",
       "    </tr>\n",
       "    <tr>\n",
       "      <th>22</th>\n",
       "      <td>2020</td>\n",
       "      <td>3</td>\n",
       "      <td>16.4</td>\n",
       "    </tr>\n",
       "    <tr>\n",
       "      <th>23</th>\n",
       "      <td>2020</td>\n",
       "      <td>4</td>\n",
       "      <td>19.9</td>\n",
       "    </tr>\n",
       "  </tbody>\n",
       "</table>\n",
       "</div>"
      ],
      "text/plain": [
       "    Year  Quarter  Sales\n",
       "19  2019        4   19.5\n",
       "20  2020        1   13.0\n",
       "21  2020        2   11.2\n",
       "22  2020        3   16.4\n",
       "23  2020        4   19.9"
      ]
     },
     "metadata": {},
     "output_type": "display_data"
    }
   ],
   "source": [
    "df1 = pd.read_excel(r\"C:\\Users\\User\\OneDrive\\桌面\\統計學下\\Stat_2020_2_Fin.xlsx\", 'Toys')\n",
    "print('Head of dataset:')\n",
    "display(df1.head())\n",
    "print(\"Tail of dataset:\")\n",
    "display(df1.tail())"
   ]
  },
  {
   "cell_type": "markdown",
   "metadata": {},
   "source": [
    "### (1)"
   ]
  },
  {
   "cell_type": "code",
   "execution_count": 64,
   "metadata": {},
   "outputs": [],
   "source": [
    "def SI_MA(y_v, n):\n",
    "    y_v_MA_a = np.zeros(len(y_v))\n",
    "    y_v_MA_a[:] = np.nan\n",
    "    mvlen = n\n",
    "    if n % 2 == 0:\n",
    "        halfwin = int(mvlen / 2)\n",
    "        y_v_MA_ta = np.zeros(len(y_v))\n",
    "        for i in range(halfwin, len(y_v) - halfwin + 1):\n",
    "            y_v_MA_ta[i] = np.mean(y_v[(i-halfwin): (i+halfwin)])\n",
    "        for ii in range(halfwin, len(y_v) - halfwin):\n",
    "            y_v_MA_a[ii] = np.mean(y_v_MA_ta[(ii): (ii+2)])\n",
    "    else:\n",
    "        halfwin = int((mvlen - 1) / 2)\n",
    "        for i in range(halfwin, len(y_v) - halfwin):\n",
    "            y_v_MA_a[i] = np.mean(y_v[(i-halfwin): (i+halfwin+1)])\n",
    "    SI_MA_a = np.zeros(len(y_v))\n",
    "    SI_MA_a[:] = np.nan\n",
    "    SI_MA_a = y_v / y_v_MA_a    \n",
    "    SI_id_s = np.arange(1,len(y_v)+1)\n",
    "    SI_id = SI_id_s - np.floor(SI_id_s / n) * n\n",
    "    SI_id[np.where((SI_id[:] == 0))] = n\n",
    "    SI_MA_a_df = pd.DataFrame({'SIMA': SI_MA_a, 'SIid': SI_id})\n",
    "    SI_MA_u = np.zeros(n)\n",
    "    for j in range(1,n+1):\n",
    "        SI_MA_u[j-1] = SI_MA_a_df['SIMA'][SI_MA_a_df['SIid'] == j].dropna().mean()  \n",
    "    SI_MA = SI_MA_u / sum(SI_MA_u) * n\n",
    "    print('Seasonal Index:', SI_MA)\n",
    "    for i, each in enumerate(SI_MA):\n",
    "        curr = each - 1\n",
    "        if curr >= 0:\n",
    "            print(f'{i + 1} = {each} which is {(abs(curr)*100):.4f} higher than the average')\n",
    "        else:\n",
    "            print(f'{i + 1} = {each} which is {(abs(curr)*100):.4f} lower than the average')\n",
    "    print('\\n')  \n",
    "    y_v_SI_MA = np.zeros(len(y_v))\n",
    "    DSI_y_v = np.zeros(len(y_v))\n",
    "    for k in range(0,len(y_v)):\n",
    "        Idd = int(SI_MA_a_df['SIid'][k] - 1)\n",
    "        y_v_SI_MA[k] = SI_MA[Idd]\n",
    "        DSI_y_v[k] = y_v[k] / SI_MA[Idd]\n",
    "    print('Deseasonalized Data:', DSI_y_v)\n",
    "    SI_MA_result_a = np.array([SI_MA_a_df['SIid'], y_v_SI_MA, y_v, DSI_y_v])\n",
    "    SI_MA_result_df = pd.DataFrame(SI_MA_result_a.T, columns = ['SID', 'SeaIdx', 'orig', 'Des_D'])\n",
    "    return {\"ma_ind\":SI_MA, \"SI_MA_res\":SI_MA_result_df}"
   ]
  },
  {
   "cell_type": "code",
   "execution_count": 65,
   "metadata": {},
   "outputs": [
    {
     "name": "stdout",
     "output_type": "stream",
     "text": [
      "Seasonal Index: [0.8478322  0.72363679 1.09180341 1.3367276 ]\n",
      "1 = 0.8478321990313051 which is 15.2168 lower than the average\n",
      "2 = 0.7236367878882564 which is 27.6363 lower than the average\n",
      "3 = 1.0918034103783132 which is 9.1803 higher than the average\n",
      "4 = 1.3367276027021255 which is 33.6728 higher than the average\n",
      "\n",
      "\n",
      "Deseasonalized Data: [13.79990051 13.26632388 13.73873708 13.24129162 13.56400478 13.26632388\n",
      " 13.55555392 13.91457763 14.03579625 13.81908738 14.1051034  14.28862542\n",
      " 14.15374412 14.51004174 14.47146973 14.96191143 14.27169199 14.78642349\n",
      " 14.74624447 14.58786365 15.33322279 15.47737786 15.02101921 14.88710187]\n",
      "[0.8478322  0.72363679 1.09180341 1.3367276 ]\n"
     ]
    },
    {
     "data": {
      "text/html": [
       "<div>\n",
       "<style scoped>\n",
       "    .dataframe tbody tr th:only-of-type {\n",
       "        vertical-align: middle;\n",
       "    }\n",
       "\n",
       "    .dataframe tbody tr th {\n",
       "        vertical-align: top;\n",
       "    }\n",
       "\n",
       "    .dataframe thead th {\n",
       "        text-align: right;\n",
       "    }\n",
       "</style>\n",
       "<table border=\"1\" class=\"dataframe\">\n",
       "  <thead>\n",
       "    <tr style=\"text-align: right;\">\n",
       "      <th></th>\n",
       "      <th>SID</th>\n",
       "      <th>SeaIdx</th>\n",
       "      <th>orig</th>\n",
       "      <th>Des_D</th>\n",
       "    </tr>\n",
       "  </thead>\n",
       "  <tbody>\n",
       "    <tr>\n",
       "      <th>0</th>\n",
       "      <td>1.0</td>\n",
       "      <td>0.847832</td>\n",
       "      <td>11.7</td>\n",
       "      <td>13.799901</td>\n",
       "    </tr>\n",
       "    <tr>\n",
       "      <th>1</th>\n",
       "      <td>2.0</td>\n",
       "      <td>0.723637</td>\n",
       "      <td>9.6</td>\n",
       "      <td>13.266324</td>\n",
       "    </tr>\n",
       "    <tr>\n",
       "      <th>2</th>\n",
       "      <td>3.0</td>\n",
       "      <td>1.091803</td>\n",
       "      <td>15.0</td>\n",
       "      <td>13.738737</td>\n",
       "    </tr>\n",
       "    <tr>\n",
       "      <th>3</th>\n",
       "      <td>4.0</td>\n",
       "      <td>1.336728</td>\n",
       "      <td>17.7</td>\n",
       "      <td>13.241292</td>\n",
       "    </tr>\n",
       "    <tr>\n",
       "      <th>4</th>\n",
       "      <td>1.0</td>\n",
       "      <td>0.847832</td>\n",
       "      <td>11.5</td>\n",
       "      <td>13.564005</td>\n",
       "    </tr>\n",
       "    <tr>\n",
       "      <th>5</th>\n",
       "      <td>2.0</td>\n",
       "      <td>0.723637</td>\n",
       "      <td>9.6</td>\n",
       "      <td>13.266324</td>\n",
       "    </tr>\n",
       "    <tr>\n",
       "      <th>6</th>\n",
       "      <td>3.0</td>\n",
       "      <td>1.091803</td>\n",
       "      <td>14.8</td>\n",
       "      <td>13.555554</td>\n",
       "    </tr>\n",
       "    <tr>\n",
       "      <th>7</th>\n",
       "      <td>4.0</td>\n",
       "      <td>1.336728</td>\n",
       "      <td>18.6</td>\n",
       "      <td>13.914578</td>\n",
       "    </tr>\n",
       "    <tr>\n",
       "      <th>8</th>\n",
       "      <td>1.0</td>\n",
       "      <td>0.847832</td>\n",
       "      <td>11.9</td>\n",
       "      <td>14.035796</td>\n",
       "    </tr>\n",
       "    <tr>\n",
       "      <th>9</th>\n",
       "      <td>2.0</td>\n",
       "      <td>0.723637</td>\n",
       "      <td>10.0</td>\n",
       "      <td>13.819087</td>\n",
       "    </tr>\n",
       "    <tr>\n",
       "      <th>10</th>\n",
       "      <td>3.0</td>\n",
       "      <td>1.091803</td>\n",
       "      <td>15.4</td>\n",
       "      <td>14.105103</td>\n",
       "    </tr>\n",
       "    <tr>\n",
       "      <th>11</th>\n",
       "      <td>4.0</td>\n",
       "      <td>1.336728</td>\n",
       "      <td>19.1</td>\n",
       "      <td>14.288625</td>\n",
       "    </tr>\n",
       "    <tr>\n",
       "      <th>12</th>\n",
       "      <td>1.0</td>\n",
       "      <td>0.847832</td>\n",
       "      <td>12.0</td>\n",
       "      <td>14.153744</td>\n",
       "    </tr>\n",
       "    <tr>\n",
       "      <th>13</th>\n",
       "      <td>2.0</td>\n",
       "      <td>0.723637</td>\n",
       "      <td>10.5</td>\n",
       "      <td>14.510042</td>\n",
       "    </tr>\n",
       "    <tr>\n",
       "      <th>14</th>\n",
       "      <td>3.0</td>\n",
       "      <td>1.091803</td>\n",
       "      <td>15.8</td>\n",
       "      <td>14.471470</td>\n",
       "    </tr>\n",
       "    <tr>\n",
       "      <th>15</th>\n",
       "      <td>4.0</td>\n",
       "      <td>1.336728</td>\n",
       "      <td>20.0</td>\n",
       "      <td>14.961911</td>\n",
       "    </tr>\n",
       "    <tr>\n",
       "      <th>16</th>\n",
       "      <td>1.0</td>\n",
       "      <td>0.847832</td>\n",
       "      <td>12.1</td>\n",
       "      <td>14.271692</td>\n",
       "    </tr>\n",
       "    <tr>\n",
       "      <th>17</th>\n",
       "      <td>2.0</td>\n",
       "      <td>0.723637</td>\n",
       "      <td>10.7</td>\n",
       "      <td>14.786423</td>\n",
       "    </tr>\n",
       "    <tr>\n",
       "      <th>18</th>\n",
       "      <td>3.0</td>\n",
       "      <td>1.091803</td>\n",
       "      <td>16.1</td>\n",
       "      <td>14.746244</td>\n",
       "    </tr>\n",
       "    <tr>\n",
       "      <th>19</th>\n",
       "      <td>4.0</td>\n",
       "      <td>1.336728</td>\n",
       "      <td>19.5</td>\n",
       "      <td>14.587864</td>\n",
       "    </tr>\n",
       "    <tr>\n",
       "      <th>20</th>\n",
       "      <td>1.0</td>\n",
       "      <td>0.847832</td>\n",
       "      <td>13.0</td>\n",
       "      <td>15.333223</td>\n",
       "    </tr>\n",
       "    <tr>\n",
       "      <th>21</th>\n",
       "      <td>2.0</td>\n",
       "      <td>0.723637</td>\n",
       "      <td>11.2</td>\n",
       "      <td>15.477378</td>\n",
       "    </tr>\n",
       "    <tr>\n",
       "      <th>22</th>\n",
       "      <td>3.0</td>\n",
       "      <td>1.091803</td>\n",
       "      <td>16.4</td>\n",
       "      <td>15.021019</td>\n",
       "    </tr>\n",
       "    <tr>\n",
       "      <th>23</th>\n",
       "      <td>4.0</td>\n",
       "      <td>1.336728</td>\n",
       "      <td>19.9</td>\n",
       "      <td>14.887102</td>\n",
       "    </tr>\n",
       "  </tbody>\n",
       "</table>\n",
       "</div>"
      ],
      "text/plain": [
       "    SID    SeaIdx  orig      Des_D\n",
       "0   1.0  0.847832  11.7  13.799901\n",
       "1   2.0  0.723637   9.6  13.266324\n",
       "2   3.0  1.091803  15.0  13.738737\n",
       "3   4.0  1.336728  17.7  13.241292\n",
       "4   1.0  0.847832  11.5  13.564005\n",
       "5   2.0  0.723637   9.6  13.266324\n",
       "6   3.0  1.091803  14.8  13.555554\n",
       "7   4.0  1.336728  18.6  13.914578\n",
       "8   1.0  0.847832  11.9  14.035796\n",
       "9   2.0  0.723637  10.0  13.819087\n",
       "10  3.0  1.091803  15.4  14.105103\n",
       "11  4.0  1.336728  19.1  14.288625\n",
       "12  1.0  0.847832  12.0  14.153744\n",
       "13  2.0  0.723637  10.5  14.510042\n",
       "14  3.0  1.091803  15.8  14.471470\n",
       "15  4.0  1.336728  20.0  14.961911\n",
       "16  1.0  0.847832  12.1  14.271692\n",
       "17  2.0  0.723637  10.7  14.786423\n",
       "18  3.0  1.091803  16.1  14.746244\n",
       "19  4.0  1.336728  19.5  14.587864\n",
       "20  1.0  0.847832  13.0  15.333223\n",
       "21  2.0  0.723637  11.2  15.477378\n",
       "22  3.0  1.091803  16.4  15.021019\n",
       "23  4.0  1.336728  19.9  14.887102"
      ]
     },
     "metadata": {},
     "output_type": "display_data"
    },
    {
     "data": {
      "image/png": "[encoded data removed]",
      "text/plain": [
       "<Figure size 360x240 with 1 Axes>"
      ]
     },
     "metadata": {
      "needs_background": "light"
     },
     "output_type": "display_data"
    }
   ],
   "source": [
    "df1[\"t\"] = df1.index + 1\n",
    "df1_MA_S_result = pd.DataFrame(columns=[\"ma_ind\", \"SI_MA_res\"])\n",
    "df1_MA_S_result = SI_MA(df1['Sales'], 4)\n",
    "df1_MA_Idx = df1_MA_S_result[\"ma_ind\"]\n",
    "print(df1_MA_Idx)\n",
    "df1_MA_Result = df1_MA_S_result[\"SI_MA_res\"]\n",
    "display(df1_MA_Result)\n",
    "plt.plot(df1['t'], df1_MA_Result['orig'])\n",
    "plt.plot(df1['t'], df1_MA_Result['Des_D'])\n",
    "plt.legend(labels=['org', 'Des_data'])\n",
    "plt.xlabel('time')\n",
    "plt.ylabel('Sales')\n",
    "plt.title('Sales by Moving Average Seasonal Index')\n",
    "plt.show()"
   ]
  },
  {
   "cell_type": "markdown",
   "metadata": {},
   "source": [
    "The biggest seasonal indexes = 1.336728 which is at quarter 4.\n",
    "\n",
    "The smallest seasonal indexes = 0.723637 which is at quarter 2."
   ]
  },
  {
   "cell_type": "markdown",
   "metadata": {},
   "source": [
    "### (2)"
   ]
  },
  {
   "cell_type": "code",
   "execution_count": 66,
   "metadata": {},
   "outputs": [],
   "source": [
    "def SI_LR(y_v, n):\n",
    "    y_data = y_v\n",
    "    X_data_ar = np.arange(1, len(y_v)+1)\n",
    "    X_data_T = X_data_ar.T\n",
    "    X_data = pd.DataFrame(X_data_T,columns = ['Time'])\n",
    "    X_data = sm.add_constant(X_data)\n",
    "    olsmod = sm.OLS(y_data, X_data)\n",
    "    result_reg = olsmod.fit()\n",
    "    st, data, ss2 = sso.summary_table(result_reg, alpha=0.05)\n",
    "    y_v_LR_a = data[:, 2]\n",
    "    SI_LR_a = y_v / y_v_LR_a\n",
    "    SI_id_s = np.arange(1,len(y_v)+1)\n",
    "    SI_id = SI_id_s - np.floor(SI_id_s / n) * n\n",
    "    SI_id[np.where((SI_id[:] == 0))] = n\n",
    "    SI_LR_a_df = pd.DataFrame({'SILR': SI_LR_a, 'SIid': SI_id})\n",
    "    SI_LR_u = np.zeros(n)\n",
    "    for j in range(1,n+1):\n",
    "        SI_LR_u[j-1] = SI_LR_a_df['SILR'][SI_LR_a_df['SIid'] == j].dropna().mean()\n",
    "    SI_LR = SI_LR_u / sum(SI_LR_u) * n\n",
    "    print('Seasonal Index:', SI_LR)\n",
    "    for i, each in enumerate(SI_LR):\n",
    "        curr = each - 1\n",
    "        if curr >= 0:\n",
    "            print(f'{i + 1} = {each} which is {(abs(curr)*100):.4f} higher than the average')\n",
    "        else:\n",
    "            print(f'{i + 1} = {each} which is {(abs(curr)*100):.4f} lower than the average')\n",
    "    print('\\n')\n",
    "    y_v_SI_LR = np.zeros(len(y_v))\n",
    "    DSI_y_v = np.zeros(len(y_v))\n",
    "    for k in range(0,len(y_v)):\n",
    "        Idd = int(SI_LR_a_df['SIid'][k] - 1)\n",
    "        y_v_SI_LR[k] = SI_LR[Idd]\n",
    "        DSI_y_v[k] = y_v[k] / SI_LR[Idd]\n",
    "    print('Deseasonalized Data:', DSI_y_v)\n",
    "    SI_LR_result_a = np.array([SI_LR_a_df['SIid'], y_v_SI_LR, y_v, DSI_y_v])\n",
    "    SI_LR_result_df = pd.DataFrame(SI_LR_result_a.T, columns = ['SID', 'SeaIdx', 'orig', 'Des_D'])\n",
    "    return {\"LR_ind\":SI_LR, \"SI_LR_res\":SI_LR_result_df}\n"
   ]
  },
  {
   "cell_type": "code",
   "execution_count": 67,
   "metadata": {},
   "outputs": [
    {
     "name": "stdout",
     "output_type": "stream",
     "text": [
      "Seasonal Index: [0.86019779 0.72491529 1.09035926 1.32452766]\n",
      "1 = 0.8601977876138501 which is 13.9802 lower than the average\n",
      "2 = 0.7249152906044447 which is 27.5085 lower than the average\n",
      "3 = 1.0903592604351222 which is 9.0359 higher than the average\n",
      "4 = 1.3245276613465826 which is 32.4528 higher than the average\n",
      "\n",
      "\n",
      "Deseasonalized Data: [13.60152301 13.24292662 13.75693365 13.36325433 13.36901834 13.24292662\n",
      " 13.57350787 14.04274183 13.83402768 13.79471523 14.12378521 14.42023489\n",
      " 13.95028001 14.48445099 14.49063678 15.0997224  14.06653234 14.7603453\n",
      " 14.76577545 14.72222934 15.11280334 15.45008106 15.04091412 15.02422379]\n",
      "[0.86019779 0.72491529 1.09035926 1.32452766]\n"
     ]
    },
    {
     "data": {
      "text/html": [
       "<div>\n",
       "<style scoped>\n",
       "    .dataframe tbody tr th:only-of-type {\n",
       "        vertical-align: middle;\n",
       "    }\n",
       "\n",
       "    .dataframe tbody tr th {\n",
       "        vertical-align: top;\n",
       "    }\n",
       "\n",
       "    .dataframe thead th {\n",
       "        text-align: right;\n",
       "    }\n",
       "</style>\n",
       "<table border=\"1\" class=\"dataframe\">\n",
       "  <thead>\n",
       "    <tr style=\"text-align: right;\">\n",
       "      <th></th>\n",
       "      <th>SID</th>\n",
       "      <th>SeaIdx</th>\n",
       "      <th>orig</th>\n",
       "      <th>Des_D</th>\n",
       "    </tr>\n",
       "  </thead>\n",
       "  <tbody>\n",
       "    <tr>\n",
       "      <th>0</th>\n",
       "      <td>1.0</td>\n",
       "      <td>0.860198</td>\n",
       "      <td>11.7</td>\n",
       "      <td>13.601523</td>\n",
       "    </tr>\n",
       "    <tr>\n",
       "      <th>1</th>\n",
       "      <td>2.0</td>\n",
       "      <td>0.724915</td>\n",
       "      <td>9.6</td>\n",
       "      <td>13.242927</td>\n",
       "    </tr>\n",
       "    <tr>\n",
       "      <th>2</th>\n",
       "      <td>3.0</td>\n",
       "      <td>1.090359</td>\n",
       "      <td>15.0</td>\n",
       "      <td>13.756934</td>\n",
       "    </tr>\n",
       "    <tr>\n",
       "      <th>3</th>\n",
       "      <td>4.0</td>\n",
       "      <td>1.324528</td>\n",
       "      <td>17.7</td>\n",
       "      <td>13.363254</td>\n",
       "    </tr>\n",
       "    <tr>\n",
       "      <th>4</th>\n",
       "      <td>1.0</td>\n",
       "      <td>0.860198</td>\n",
       "      <td>11.5</td>\n",
       "      <td>13.369018</td>\n",
       "    </tr>\n",
       "    <tr>\n",
       "      <th>5</th>\n",
       "      <td>2.0</td>\n",
       "      <td>0.724915</td>\n",
       "      <td>9.6</td>\n",
       "      <td>13.242927</td>\n",
       "    </tr>\n",
       "    <tr>\n",
       "      <th>6</th>\n",
       "      <td>3.0</td>\n",
       "      <td>1.090359</td>\n",
       "      <td>14.8</td>\n",
       "      <td>13.573508</td>\n",
       "    </tr>\n",
       "    <tr>\n",
       "      <th>7</th>\n",
       "      <td>4.0</td>\n",
       "      <td>1.324528</td>\n",
       "      <td>18.6</td>\n",
       "      <td>14.042742</td>\n",
       "    </tr>\n",
       "    <tr>\n",
       "      <th>8</th>\n",
       "      <td>1.0</td>\n",
       "      <td>0.860198</td>\n",
       "      <td>11.9</td>\n",
       "      <td>13.834028</td>\n",
       "    </tr>\n",
       "    <tr>\n",
       "      <th>9</th>\n",
       "      <td>2.0</td>\n",
       "      <td>0.724915</td>\n",
       "      <td>10.0</td>\n",
       "      <td>13.794715</td>\n",
       "    </tr>\n",
       "    <tr>\n",
       "      <th>10</th>\n",
       "      <td>3.0</td>\n",
       "      <td>1.090359</td>\n",
       "      <td>15.4</td>\n",
       "      <td>14.123785</td>\n",
       "    </tr>\n",
       "    <tr>\n",
       "      <th>11</th>\n",
       "      <td>4.0</td>\n",
       "      <td>1.324528</td>\n",
       "      <td>19.1</td>\n",
       "      <td>14.420235</td>\n",
       "    </tr>\n",
       "    <tr>\n",
       "      <th>12</th>\n",
       "      <td>1.0</td>\n",
       "      <td>0.860198</td>\n",
       "      <td>12.0</td>\n",
       "      <td>13.950280</td>\n",
       "    </tr>\n",
       "    <tr>\n",
       "      <th>13</th>\n",
       "      <td>2.0</td>\n",
       "      <td>0.724915</td>\n",
       "      <td>10.5</td>\n",
       "      <td>14.484451</td>\n",
       "    </tr>\n",
       "    <tr>\n",
       "      <th>14</th>\n",
       "      <td>3.0</td>\n",
       "      <td>1.090359</td>\n",
       "      <td>15.8</td>\n",
       "      <td>14.490637</td>\n",
       "    </tr>\n",
       "    <tr>\n",
       "      <th>15</th>\n",
       "      <td>4.0</td>\n",
       "      <td>1.324528</td>\n",
       "      <td>20.0</td>\n",
       "      <td>15.099722</td>\n",
       "    </tr>\n",
       "    <tr>\n",
       "      <th>16</th>\n",
       "      <td>1.0</td>\n",
       "      <td>0.860198</td>\n",
       "      <td>12.1</td>\n",
       "      <td>14.066532</td>\n",
       "    </tr>\n",
       "    <tr>\n",
       "      <th>17</th>\n",
       "      <td>2.0</td>\n",
       "      <td>0.724915</td>\n",
       "      <td>10.7</td>\n",
       "      <td>14.760345</td>\n",
       "    </tr>\n",
       "    <tr>\n",
       "      <th>18</th>\n",
       "      <td>3.0</td>\n",
       "      <td>1.090359</td>\n",
       "      <td>16.1</td>\n",
       "      <td>14.765775</td>\n",
       "    </tr>\n",
       "    <tr>\n",
       "      <th>19</th>\n",
       "      <td>4.0</td>\n",
       "      <td>1.324528</td>\n",
       "      <td>19.5</td>\n",
       "      <td>14.722229</td>\n",
       "    </tr>\n",
       "    <tr>\n",
       "      <th>20</th>\n",
       "      <td>1.0</td>\n",
       "      <td>0.860198</td>\n",
       "      <td>13.0</td>\n",
       "      <td>15.112803</td>\n",
       "    </tr>\n",
       "    <tr>\n",
       "      <th>21</th>\n",
       "      <td>2.0</td>\n",
       "      <td>0.724915</td>\n",
       "      <td>11.2</td>\n",
       "      <td>15.450081</td>\n",
       "    </tr>\n",
       "    <tr>\n",
       "      <th>22</th>\n",
       "      <td>3.0</td>\n",
       "      <td>1.090359</td>\n",
       "      <td>16.4</td>\n",
       "      <td>15.040914</td>\n",
       "    </tr>\n",
       "    <tr>\n",
       "      <th>23</th>\n",
       "      <td>4.0</td>\n",
       "      <td>1.324528</td>\n",
       "      <td>19.9</td>\n",
       "      <td>15.024224</td>\n",
       "    </tr>\n",
       "  </tbody>\n",
       "</table>\n",
       "</div>"
      ],
      "text/plain": [
       "    SID    SeaIdx  orig      Des_D\n",
       "0   1.0  0.860198  11.7  13.601523\n",
       "1   2.0  0.724915   9.6  13.242927\n",
       "2   3.0  1.090359  15.0  13.756934\n",
       "3   4.0  1.324528  17.7  13.363254\n",
       "4   1.0  0.860198  11.5  13.369018\n",
       "5   2.0  0.724915   9.6  13.242927\n",
       "6   3.0  1.090359  14.8  13.573508\n",
       "7   4.0  1.324528  18.6  14.042742\n",
       "8   1.0  0.860198  11.9  13.834028\n",
       "9   2.0  0.724915  10.0  13.794715\n",
       "10  3.0  1.090359  15.4  14.123785\n",
       "11  4.0  1.324528  19.1  14.420235\n",
       "12  1.0  0.860198  12.0  13.950280\n",
       "13  2.0  0.724915  10.5  14.484451\n",
       "14  3.0  1.090359  15.8  14.490637\n",
       "15  4.0  1.324528  20.0  15.099722\n",
       "16  1.0  0.860198  12.1  14.066532\n",
       "17  2.0  0.724915  10.7  14.760345\n",
       "18  3.0  1.090359  16.1  14.765775\n",
       "19  4.0  1.324528  19.5  14.722229\n",
       "20  1.0  0.860198  13.0  15.112803\n",
       "21  2.0  0.724915  11.2  15.450081\n",
       "22  3.0  1.090359  16.4  15.040914\n",
       "23  4.0  1.324528  19.9  15.024224"
      ]
     },
     "metadata": {},
     "output_type": "display_data"
    },
    {
     "data": {
      "image/png": "[encoded data removed]",
      "text/plain": [
       "<Figure size 360x240 with 1 Axes>"
      ]
     },
     "metadata": {
      "needs_background": "light"
     },
     "output_type": "display_data"
    }
   ],
   "source": [
    "df1_SILR = pd.DataFrame(columns=[\"LR_ind\", \"SI_LR_res\"])\n",
    "df1_SILR = SI_LR(df1['Sales'], 4)\n",
    "df1_LR_Idx = df1_SILR[\"LR_ind\"]\n",
    "print(df1_LR_Idx)\n",
    "df1_LR_Result = df1_SILR[\"SI_LR_res\"]\n",
    "display(df1_LR_Result)\n",
    "t_r = np.arange(1, len(df1['Sales']) + 1, 1)  # 助教答案用1開始\n",
    "plt.plot(t_r, df1_LR_Result['orig'])\n",
    "plt.plot(t_r, df1_LR_Result['Des_D'])\n",
    "plt.legend(labels=['org', 'Des_data'])\n",
    "plt.xlabel('time')\n",
    "plt.ylabel('Sales')\n",
    "plt.title('Hotel Occupancy Sales')\n",
    "plt.show()"
   ]
  },
  {
   "cell_type": "markdown",
   "metadata": {},
   "source": [
    "The biggest seasonal indexes = 1.324528 which is at quarter 4.\n",
    "\n",
    "The smallest seasonal indexes = 0.724915 which is at quarter 2."
   ]
  },
  {
   "cell_type": "markdown",
   "metadata": {},
   "source": [
    "### (3)"
   ]
  },
  {
   "cell_type": "markdown",
   "metadata": {},
   "source": [
    "### CMV Seasonalizing"
   ]
  },
  {
   "cell_type": "code",
   "execution_count": 68,
   "metadata": {},
   "outputs": [
    {
     "name": "stdout",
     "output_type": "stream",
     "text": [
      "Seasonal Index: [0.8478322  0.72363679 1.09180341 1.3367276 ]\n",
      "1 = 0.8478321990313051 which is 15.2168 lower than the average\n",
      "2 = 0.7236367878882564 which is 27.6363 lower than the average\n",
      "3 = 1.0918034103783132 which is 9.1803 higher than the average\n",
      "4 = 1.3367276027021255 which is 33.6728 higher than the average\n",
      "\n",
      "\n",
      "Deseasonalized Data: [13.79990051 13.26632388 13.73873708 13.24129162 13.56400478 13.26632388\n",
      " 13.55555392 13.91457763 14.03579625 13.81908738 14.1051034  14.28862542\n",
      " 14.15374412 14.51004174 14.47146973 14.96191143 14.27169199 14.78642349\n",
      " 14.74624447 14.58786365 15.33322279 15.47737786 15.02101921 14.88710187]\n",
      "                            OLS Regression Results                            \n",
      "==============================================================================\n",
      "Dep. Variable:                  Des_D   R-squared:                       0.832\n",
      "Model:                            OLS   Adj. R-squared:                  0.824\n",
      "Method:                 Least Squares   F-statistic:                     108.9\n",
      "Date:                Tue, 31 May 2022   Prob (F-statistic):           5.53e-10\n",
      "Time:                        20:10:00   Log-Likelihood:                -1.7794\n",
      "No. Observations:                  24   AIC:                             7.559\n",
      "Df Residuals:                      22   BIC:                             9.915\n",
      "Df Model:                           1                                         \n",
      "Covariance Type:            nonrobust                                         \n",
      "==============================================================================\n",
      "                 coef    std err          t      P>|t|      [0.025      0.975]\n",
      "------------------------------------------------------------------------------\n",
      "const         13.1949      0.115    115.055      0.000      12.957      13.433\n",
      "t              0.0838      0.008     10.435      0.000       0.067       0.100\n",
      "==============================================================================\n",
      "Omnibus:                        1.246   Durbin-Watson:                   2.009\n",
      "Prob(Omnibus):                  0.536   Jarque-Bera (JB):                1.130\n",
      "Skew:                           0.385   Prob(JB):                        0.568\n",
      "Kurtosis:                       2.266   Cond. No.                         29.6\n",
      "==============================================================================\n",
      "\n",
      "Warnings:\n",
      "[1] Standard Errors assume that the covariance matrix of the errors is correctly specified.\n",
      "\n",
      "Estimated model: y = 13.1949 + 0.0838 t \n",
      "[13.27867825 13.36242883 13.44617941 13.52992999 13.61368057 13.69743115\n",
      " 13.78118173 13.86493231 13.94868289 14.03243347 14.11618405 14.19993463\n",
      " 14.28368521 14.36743579 14.45118637 14.53493695 14.61868753 14.70243811\n",
      " 14.78618869 14.86993927 14.95368985 15.03744043 15.12119101 15.2049416 ]\n"
     ]
    },
    {
     "data": {
      "image/png": "[encoded data removed]",
      "text/plain": [
       "<Figure size 360x240 with 1 Axes>"
      ]
     },
     "metadata": {
      "needs_background": "light"
     },
     "output_type": "display_data"
    }
   ],
   "source": [
    "df1_SIMA = pd.DataFrame(columns=[\"ma_ind\", \"SI_MA_res\"])\n",
    "df1_SIMA = SI_MA(df1['Sales'], 4)\n",
    "df1_MA_Idx = df1_SIMA[\"ma_ind\"]\n",
    "df1_MA_Result = df1_SIMA[\"SI_MA_res\"]\n",
    "y_data_df1_MA = df1_MA_Result['Des_D']\n",
    "X_data_ar_df1 = np.array(df1['t'])\n",
    "X_data_ar_df1_T = X_data_ar_df1.T\n",
    "columns = ['t']\n",
    "X_data_df1 = pd.DataFrame(X_data_ar_df1_T, columns = ['t'])\n",
    "X_data_df1 = sm.add_constant(X_data_df1)\n",
    "olsmod_df1_MA = sm.OLS(y_data_df1_MA, X_data_df1)\n",
    "result_reg_df1_MA = olsmod_df1_MA.fit()\n",
    "print(result_reg_df1_MA.summary())\n",
    "print()\n",
    "s = f\"Estimated model: y = {result_reg_df1_MA.params[0]:.4f} \"\n",
    "for i in range(1, len(result_reg_df1_MA.params)):\n",
    "    s += f'+ {result_reg_df1_MA.params[i]:.4f} {columns[i - 1]} '\n",
    "print(s)\n",
    "df1_MA_st_2, df1_MA_data_2, df1_MA_ss2_2 = sso.summary_table(result_reg_df1_MA, alpha=0.05)\n",
    "df1_MA_y_pre_2 = df1_MA_data_2[:, 2]\n",
    "des_pre_df1_MA = df1_MA_y_pre_2\n",
    "print(des_pre_df1_MA)\n",
    "plt.plot(df1['t'], df1_MA_Result['orig'])\n",
    "plt.plot(df1['t'], df1_MA_Result['Des_D'])\n",
    "plt.plot(df1['t'], des_pre_df1_MA)\n",
    "plt.legend(labels=['org', 'Des_data', 'Line_pre'])\n",
    "plt.xlabel('time')\n",
    "plt.ylabel('Sales')\n",
    "plt.title('Travelling Miles')\n",
    "plt.show()"
   ]
  },
  {
   "cell_type": "code",
   "execution_count": 69,
   "metadata": {},
   "outputs": [
    {
     "name": "stdout",
     "output_type": "stream",
     "text": [
      "New Des Prediction [15.28869218 15.37244276 15.45619334 15.53994392]\n",
      "New Seasonal Prediction [12.96224551 11.1240651  16.8751246  20.77267198]\n"
     ]
    },
    {
     "data": {
      "text/html": [
       "<div>\n",
       "<style scoped>\n",
       "    .dataframe tbody tr th:only-of-type {\n",
       "        vertical-align: middle;\n",
       "    }\n",
       "\n",
       "    .dataframe tbody tr th {\n",
       "        vertical-align: top;\n",
       "    }\n",
       "\n",
       "    .dataframe thead th {\n",
       "        text-align: right;\n",
       "    }\n",
       "</style>\n",
       "<table border=\"1\" class=\"dataframe\">\n",
       "  <thead>\n",
       "    <tr style=\"text-align: right;\">\n",
       "      <th></th>\n",
       "      <th>time</th>\n",
       "      <th>org</th>\n",
       "      <th>Des_data</th>\n",
       "      <th>Line_pre</th>\n",
       "      <th>Seasonal Pre</th>\n",
       "    </tr>\n",
       "  </thead>\n",
       "  <tbody>\n",
       "    <tr>\n",
       "      <th>0</th>\n",
       "      <td>1.0</td>\n",
       "      <td>11.7</td>\n",
       "      <td>13.799901</td>\n",
       "      <td>13.278678</td>\n",
       "      <td>11.258091</td>\n",
       "    </tr>\n",
       "    <tr>\n",
       "      <th>1</th>\n",
       "      <td>2.0</td>\n",
       "      <td>9.6</td>\n",
       "      <td>13.266324</td>\n",
       "      <td>13.362429</td>\n",
       "      <td>9.669545</td>\n",
       "    </tr>\n",
       "    <tr>\n",
       "      <th>2</th>\n",
       "      <td>3.0</td>\n",
       "      <td>15.0</td>\n",
       "      <td>13.738737</td>\n",
       "      <td>13.446179</td>\n",
       "      <td>14.680585</td>\n",
       "    </tr>\n",
       "    <tr>\n",
       "      <th>3</th>\n",
       "      <td>4.0</td>\n",
       "      <td>17.7</td>\n",
       "      <td>13.241292</td>\n",
       "      <td>13.529930</td>\n",
       "      <td>18.085831</td>\n",
       "    </tr>\n",
       "    <tr>\n",
       "      <th>4</th>\n",
       "      <td>5.0</td>\n",
       "      <td>11.5</td>\n",
       "      <td>13.564005</td>\n",
       "      <td>13.613681</td>\n",
       "      <td>11.542117</td>\n",
       "    </tr>\n",
       "    <tr>\n",
       "      <th>5</th>\n",
       "      <td>6.0</td>\n",
       "      <td>9.6</td>\n",
       "      <td>13.266324</td>\n",
       "      <td>13.697431</td>\n",
       "      <td>9.911965</td>\n",
       "    </tr>\n",
       "    <tr>\n",
       "      <th>6</th>\n",
       "      <td>7.0</td>\n",
       "      <td>14.8</td>\n",
       "      <td>13.555554</td>\n",
       "      <td>13.781182</td>\n",
       "      <td>15.046341</td>\n",
       "    </tr>\n",
       "    <tr>\n",
       "      <th>7</th>\n",
       "      <td>8.0</td>\n",
       "      <td>18.6</td>\n",
       "      <td>13.914578</td>\n",
       "      <td>13.864932</td>\n",
       "      <td>18.533638</td>\n",
       "    </tr>\n",
       "    <tr>\n",
       "      <th>8</th>\n",
       "      <td>9.0</td>\n",
       "      <td>11.9</td>\n",
       "      <td>14.035796</td>\n",
       "      <td>13.948683</td>\n",
       "      <td>11.826142</td>\n",
       "    </tr>\n",
       "    <tr>\n",
       "      <th>9</th>\n",
       "      <td>10.0</td>\n",
       "      <td>10.0</td>\n",
       "      <td>13.819087</td>\n",
       "      <td>14.032433</td>\n",
       "      <td>10.154385</td>\n",
       "    </tr>\n",
       "    <tr>\n",
       "      <th>10</th>\n",
       "      <td>11.0</td>\n",
       "      <td>15.4</td>\n",
       "      <td>14.105103</td>\n",
       "      <td>14.116184</td>\n",
       "      <td>15.412098</td>\n",
       "    </tr>\n",
       "    <tr>\n",
       "      <th>11</th>\n",
       "      <td>12.0</td>\n",
       "      <td>19.1</td>\n",
       "      <td>14.288625</td>\n",
       "      <td>14.199935</td>\n",
       "      <td>18.981445</td>\n",
       "    </tr>\n",
       "    <tr>\n",
       "      <th>12</th>\n",
       "      <td>13.0</td>\n",
       "      <td>12.0</td>\n",
       "      <td>14.153744</td>\n",
       "      <td>14.283685</td>\n",
       "      <td>12.110168</td>\n",
       "    </tr>\n",
       "    <tr>\n",
       "      <th>13</th>\n",
       "      <td>14.0</td>\n",
       "      <td>10.5</td>\n",
       "      <td>14.510042</td>\n",
       "      <td>14.367436</td>\n",
       "      <td>10.396805</td>\n",
       "    </tr>\n",
       "    <tr>\n",
       "      <th>14</th>\n",
       "      <td>15.0</td>\n",
       "      <td>15.8</td>\n",
       "      <td>14.471470</td>\n",
       "      <td>14.451186</td>\n",
       "      <td>15.777855</td>\n",
       "    </tr>\n",
       "    <tr>\n",
       "      <th>15</th>\n",
       "      <td>16.0</td>\n",
       "      <td>20.0</td>\n",
       "      <td>14.961911</td>\n",
       "      <td>14.534937</td>\n",
       "      <td>19.429251</td>\n",
       "    </tr>\n",
       "    <tr>\n",
       "      <th>16</th>\n",
       "      <td>17.0</td>\n",
       "      <td>12.1</td>\n",
       "      <td>14.271692</td>\n",
       "      <td>14.618688</td>\n",
       "      <td>12.394194</td>\n",
       "    </tr>\n",
       "    <tr>\n",
       "      <th>17</th>\n",
       "      <td>18.0</td>\n",
       "      <td>10.7</td>\n",
       "      <td>14.786423</td>\n",
       "      <td>14.702438</td>\n",
       "      <td>10.639225</td>\n",
       "    </tr>\n",
       "    <tr>\n",
       "      <th>18</th>\n",
       "      <td>19.0</td>\n",
       "      <td>16.1</td>\n",
       "      <td>14.746244</td>\n",
       "      <td>14.786189</td>\n",
       "      <td>16.143611</td>\n",
       "    </tr>\n",
       "    <tr>\n",
       "      <th>19</th>\n",
       "      <td>20.0</td>\n",
       "      <td>19.5</td>\n",
       "      <td>14.587864</td>\n",
       "      <td>14.869939</td>\n",
       "      <td>19.877058</td>\n",
       "    </tr>\n",
       "    <tr>\n",
       "      <th>20</th>\n",
       "      <td>21.0</td>\n",
       "      <td>13.0</td>\n",
       "      <td>15.333223</td>\n",
       "      <td>14.953690</td>\n",
       "      <td>12.678220</td>\n",
       "    </tr>\n",
       "    <tr>\n",
       "      <th>21</th>\n",
       "      <td>22.0</td>\n",
       "      <td>11.2</td>\n",
       "      <td>15.477378</td>\n",
       "      <td>15.037440</td>\n",
       "      <td>10.881645</td>\n",
       "    </tr>\n",
       "    <tr>\n",
       "      <th>22</th>\n",
       "      <td>23.0</td>\n",
       "      <td>16.4</td>\n",
       "      <td>15.021019</td>\n",
       "      <td>15.121191</td>\n",
       "      <td>16.509368</td>\n",
       "    </tr>\n",
       "    <tr>\n",
       "      <th>23</th>\n",
       "      <td>24.0</td>\n",
       "      <td>19.9</td>\n",
       "      <td>14.887102</td>\n",
       "      <td>15.204942</td>\n",
       "      <td>20.324865</td>\n",
       "    </tr>\n",
       "    <tr>\n",
       "      <th>24</th>\n",
       "      <td>25.0</td>\n",
       "      <td>NaN</td>\n",
       "      <td>NaN</td>\n",
       "      <td>15.288692</td>\n",
       "      <td>12.962246</td>\n",
       "    </tr>\n",
       "    <tr>\n",
       "      <th>25</th>\n",
       "      <td>26.0</td>\n",
       "      <td>NaN</td>\n",
       "      <td>NaN</td>\n",
       "      <td>15.372443</td>\n",
       "      <td>11.124065</td>\n",
       "    </tr>\n",
       "    <tr>\n",
       "      <th>26</th>\n",
       "      <td>27.0</td>\n",
       "      <td>NaN</td>\n",
       "      <td>NaN</td>\n",
       "      <td>15.456193</td>\n",
       "      <td>16.875125</td>\n",
       "    </tr>\n",
       "    <tr>\n",
       "      <th>27</th>\n",
       "      <td>28.0</td>\n",
       "      <td>NaN</td>\n",
       "      <td>NaN</td>\n",
       "      <td>15.539944</td>\n",
       "      <td>20.772672</td>\n",
       "    </tr>\n",
       "  </tbody>\n",
       "</table>\n",
       "</div>"
      ],
      "text/plain": [
       "    time   org   Des_data   Line_pre  Seasonal Pre\n",
       "0    1.0  11.7  13.799901  13.278678     11.258091\n",
       "1    2.0   9.6  13.266324  13.362429      9.669545\n",
       "2    3.0  15.0  13.738737  13.446179     14.680585\n",
       "3    4.0  17.7  13.241292  13.529930     18.085831\n",
       "4    5.0  11.5  13.564005  13.613681     11.542117\n",
       "5    6.0   9.6  13.266324  13.697431      9.911965\n",
       "6    7.0  14.8  13.555554  13.781182     15.046341\n",
       "7    8.0  18.6  13.914578  13.864932     18.533638\n",
       "8    9.0  11.9  14.035796  13.948683     11.826142\n",
       "9   10.0  10.0  13.819087  14.032433     10.154385\n",
       "10  11.0  15.4  14.105103  14.116184     15.412098\n",
       "11  12.0  19.1  14.288625  14.199935     18.981445\n",
       "12  13.0  12.0  14.153744  14.283685     12.110168\n",
       "13  14.0  10.5  14.510042  14.367436     10.396805\n",
       "14  15.0  15.8  14.471470  14.451186     15.777855\n",
       "15  16.0  20.0  14.961911  14.534937     19.429251\n",
       "16  17.0  12.1  14.271692  14.618688     12.394194\n",
       "17  18.0  10.7  14.786423  14.702438     10.639225\n",
       "18  19.0  16.1  14.746244  14.786189     16.143611\n",
       "19  20.0  19.5  14.587864  14.869939     19.877058\n",
       "20  21.0  13.0  15.333223  14.953690     12.678220\n",
       "21  22.0  11.2  15.477378  15.037440     10.881645\n",
       "22  23.0  16.4  15.021019  15.121191     16.509368\n",
       "23  24.0  19.9  14.887102  15.204942     20.324865\n",
       "24  25.0   NaN        NaN  15.288692     12.962246\n",
       "25  26.0   NaN        NaN  15.372443     11.124065\n",
       "26  27.0   NaN        NaN  15.456193     16.875125\n",
       "27  28.0   NaN        NaN  15.539944     20.772672"
      ]
     },
     "metadata": {},
     "output_type": "display_data"
    },
    {
     "data": {
      "image/png": "[encoded data removed]",
      "text/plain": [
       "<Figure size 360x240 with 1 Axes>"
      ]
     },
     "metadata": {
      "needs_background": "light"
     },
     "output_type": "display_data"
    }
   ],
   "source": [
    "Sea_pre_df1_MA = des_pre_df1_MA * df1_MA_Result['SeaIdx']\n",
    "New_t_2 = np.arange(25, 29, 1)\n",
    "Total_t_2 = np.append(df1['t'], New_t_2)\n",
    "New_t_2 = sm.add_constant(New_t_2)\n",
    "df1_MA_des_pre_New_t_2 = result_reg_df1_MA.predict(New_t_2)\n",
    "print('New Des Prediction', df1_MA_des_pre_New_t_2)\n",
    "df1_MA_Sea_pre_New_t_2 = df1_MA_des_pre_New_t_2 * df1_MA_Idx\n",
    "print('New Seasonal Prediction', df1_MA_Sea_pre_New_t_2)\n",
    "New_Nan = np.zeros(New_t_2.shape[0])\n",
    "New_Nan[:] = np.nan\n",
    "df1_MA_New_orig_2 = np.append(df1_MA_Result['orig'], New_Nan)\n",
    "df1_MA_New_Des_D_2 = np.append(df1_MA_Result['Des_D'], New_Nan)\n",
    "df1_MA_New_des_pre_2 = np.append(des_pre_df1_MA, df1_MA_des_pre_New_t_2)\n",
    "df1_MA_New_Sea_pre_2 = np.append(Sea_pre_df1_MA, df1_MA_Sea_pre_New_t_2)\n",
    "df1_MA_S_a = np.array([Total_t_2, df1_MA_New_orig_2, df1_MA_New_Des_D_2, df1_MA_New_des_pre_2, df1_MA_New_Sea_pre_2])\n",
    "df1_MA_S_df = pd.DataFrame(df1_MA_S_a.T, columns=['time', 'org', 'Des_data', 'Line_pre', 'Seasonal Pre'])\n",
    "display(df1_MA_S_df)\n",
    "plt.plot(Total_t_2, df1_MA_New_orig_2)\n",
    "plt.plot(Total_t_2, df1_MA_New_Des_D_2)\n",
    "plt.plot(Total_t_2, df1_MA_New_des_pre_2)\n",
    "plt.plot(Total_t_2, df1_MA_New_Sea_pre_2)\n",
    "plt.legend(labels=['org', 'Des_data', 'Line_pre', 'Seasonal Pre'])\n",
    "plt.xlabel('time')\n",
    "plt.ylabel('Sales')\n",
    "plt.title('Toys Sales')\n",
    "plt.show()"
   ]
  },
  {
   "cell_type": "markdown",
   "metadata": {},
   "source": [
    "### (4)"
   ]
  },
  {
   "cell_type": "code",
   "execution_count": 70,
   "metadata": {},
   "outputs": [
    {
     "name": "stdout",
     "output_type": "stream",
     "text": [
      "                            OLS Regression Results                            \n",
      "==============================================================================\n",
      "Dep. Variable:                  Des_D   R-squared:                       0.835\n",
      "Model:                            OLS   Adj. R-squared:                  0.828\n",
      "Method:                 Least Squares   F-statistic:                     111.4\n",
      "Date:                Tue, 31 May 2022   Prob (F-statistic):           4.49e-10\n",
      "Time:                        20:10:01   Log-Likelihood:                -2.2543\n",
      "No. Observations:                  24   AIC:                             8.509\n",
      "Df Residuals:                      22   BIC:                             10.86\n",
      "Df Model:                           1                                         \n",
      "Covariance Type:            nonrobust                                         \n",
      "==============================================================================\n",
      "                 coef    std err          t      P>|t|      [0.025      0.975]\n",
      "------------------------------------------------------------------------------\n",
      "const         13.1423      0.117    112.351      0.000      12.900      13.385\n",
      "t              0.0864      0.008     10.553      0.000       0.069       0.103\n",
      "==============================================================================\n",
      "Omnibus:                        0.187   Durbin-Watson:                   2.313\n",
      "Prob(Omnibus):                  0.911   Jarque-Bera (JB):                0.277\n",
      "Skew:                           0.180   Prob(JB):                        0.871\n",
      "Kurtosis:                       2.617   Cond. No.                         29.6\n",
      "==============================================================================\n",
      "\n",
      "Warnings:\n",
      "[1] Standard Errors assume that the covariance matrix of the errors is correctly specified.\n",
      "\n",
      "Estimated model: y = 13.1423 + 0.0864 t \n",
      "[13.22869278 13.31508758 13.40148237 13.48787717 13.57427196 13.66066676\n",
      " 13.74706155 13.83345635 13.91985114 14.00624594 14.09264073 14.17903553\n",
      " 14.26543032 14.35182512 14.43821991 14.52461471 14.6110095  14.6974043\n",
      " 14.78379909 14.87019389 14.95658868 15.04298348 15.12937827 15.21577307]\n"
     ]
    },
    {
     "data": {
      "image/png": "[encoded data removed]",
      "text/plain": [
       "<Figure size 360x240 with 1 Axes>"
      ]
     },
     "metadata": {
      "needs_background": "light"
     },
     "output_type": "display_data"
    }
   ],
   "source": [
    "y_data_df1_LR = df1_LR_Result['Des_D']\n",
    "X_data_ar_df1 = np.array(t_r)\n",
    "X_data_ar_df1_T = X_data_ar_df1.T\n",
    "X_data_df1 = pd.DataFrame(X_data_ar_df1_T, columns = ['t'])\n",
    "X_data_df1 = sm.add_constant(X_data_df1)\n",
    "olsmod_df1_LR = sm.OLS(y_data_df1_LR, X_data_df1)\n",
    "result_reg_df1_LR = olsmod_df1_LR.fit()\n",
    "print(result_reg_df1_LR.summary())\n",
    "print()\n",
    "s = f\"Estimated model: y = {result_reg_df1_LR.params[0]:.4f} \"\n",
    "for i in range(1, len(result_reg_df1_LR.params)):\n",
    "    s += f'+ {result_reg_df1_LR.params[i]:.4f} {columns[i - 1]} '\n",
    "print(s)\n",
    "df1_LR_st_1, df1_LR_data_1, df1_LR_ss2_1 = sso.summary_table(result_reg_df1_LR, alpha=0.05)\n",
    "df1_LR_y_pre_1 = df1_LR_data_1[:, 2]\n",
    "df1_LR_SD_1 = df1_LR_data_1[:, 10]\n",
    "des_pre_df1_LR = df1_LR_y_pre_1\n",
    "print(des_pre_df1_LR)\n",
    "plt.plot(t_r, df1_LR_Result['orig'])\n",
    "plt.plot(t_r, df1_LR_Result['Des_D'])\n",
    "plt.plot(t_r, des_pre_df1_LR)\n",
    "plt.legend(labels=['org', 'Des_data', 'Line_pre'])\n",
    "plt.xlabel('time')\n",
    "plt.ylabel('Rates')\n",
    "plt.title('Rates by Linear Regression Seasonal Index')\n",
    "plt.show()"
   ]
  },
  {
   "cell_type": "code",
   "execution_count": 71,
   "metadata": {},
   "outputs": [
    {
     "name": "stdout",
     "output_type": "stream",
     "text": [
      "New Des Prediction [15.30216787 15.38856266 15.47495746 15.56135225]\n",
      "New Seasonal Prediction [13.16289094 11.15540437 16.87326317 20.6114415 ]\n"
     ]
    },
    {
     "data": {
      "text/html": [
       "<div>\n",
       "<style scoped>\n",
       "    .dataframe tbody tr th:only-of-type {\n",
       "        vertical-align: middle;\n",
       "    }\n",
       "\n",
       "    .dataframe tbody tr th {\n",
       "        vertical-align: top;\n",
       "    }\n",
       "\n",
       "    .dataframe thead th {\n",
       "        text-align: right;\n",
       "    }\n",
       "</style>\n",
       "<table border=\"1\" class=\"dataframe\">\n",
       "  <thead>\n",
       "    <tr style=\"text-align: right;\">\n",
       "      <th></th>\n",
       "      <th>time</th>\n",
       "      <th>org</th>\n",
       "      <th>Des_data</th>\n",
       "      <th>Line_pre</th>\n",
       "      <th>Seasonal Pre</th>\n",
       "    </tr>\n",
       "  </thead>\n",
       "  <tbody>\n",
       "    <tr>\n",
       "      <th>0</th>\n",
       "      <td>1.0</td>\n",
       "      <td>11.7</td>\n",
       "      <td>13.601523</td>\n",
       "      <td>13.228693</td>\n",
       "      <td>11.379292</td>\n",
       "    </tr>\n",
       "    <tr>\n",
       "      <th>1</th>\n",
       "      <td>2.0</td>\n",
       "      <td>9.6</td>\n",
       "      <td>13.242927</td>\n",
       "      <td>13.315088</td>\n",
       "      <td>9.652311</td>\n",
       "    </tr>\n",
       "    <tr>\n",
       "      <th>2</th>\n",
       "      <td>3.0</td>\n",
       "      <td>15.0</td>\n",
       "      <td>13.756934</td>\n",
       "      <td>13.401482</td>\n",
       "      <td>14.612430</td>\n",
       "    </tr>\n",
       "    <tr>\n",
       "      <th>3</th>\n",
       "      <td>4.0</td>\n",
       "      <td>17.7</td>\n",
       "      <td>13.363254</td>\n",
       "      <td>13.487877</td>\n",
       "      <td>17.865066</td>\n",
       "    </tr>\n",
       "    <tr>\n",
       "      <th>4</th>\n",
       "      <td>5.0</td>\n",
       "      <td>11.5</td>\n",
       "      <td>13.369018</td>\n",
       "      <td>13.574272</td>\n",
       "      <td>11.676559</td>\n",
       "    </tr>\n",
       "    <tr>\n",
       "      <th>5</th>\n",
       "      <td>6.0</td>\n",
       "      <td>9.6</td>\n",
       "      <td>13.242927</td>\n",
       "      <td>13.660667</td>\n",
       "      <td>9.902826</td>\n",
       "    </tr>\n",
       "    <tr>\n",
       "      <th>6</th>\n",
       "      <td>7.0</td>\n",
       "      <td>14.8</td>\n",
       "      <td>13.573508</td>\n",
       "      <td>13.747062</td>\n",
       "      <td>14.989236</td>\n",
       "    </tr>\n",
       "    <tr>\n",
       "      <th>7</th>\n",
       "      <td>8.0</td>\n",
       "      <td>18.6</td>\n",
       "      <td>14.042742</td>\n",
       "      <td>13.833456</td>\n",
       "      <td>18.322796</td>\n",
       "    </tr>\n",
       "    <tr>\n",
       "      <th>8</th>\n",
       "      <td>9.0</td>\n",
       "      <td>11.9</td>\n",
       "      <td>13.834028</td>\n",
       "      <td>13.919851</td>\n",
       "      <td>11.973825</td>\n",
       "    </tr>\n",
       "    <tr>\n",
       "      <th>9</th>\n",
       "      <td>10.0</td>\n",
       "      <td>10.0</td>\n",
       "      <td>13.794715</td>\n",
       "      <td>14.006246</td>\n",
       "      <td>10.153342</td>\n",
       "    </tr>\n",
       "    <tr>\n",
       "      <th>10</th>\n",
       "      <td>11.0</td>\n",
       "      <td>15.4</td>\n",
       "      <td>14.123785</td>\n",
       "      <td>14.092641</td>\n",
       "      <td>15.366041</td>\n",
       "    </tr>\n",
       "    <tr>\n",
       "      <th>11</th>\n",
       "      <td>12.0</td>\n",
       "      <td>19.1</td>\n",
       "      <td>14.420235</td>\n",
       "      <td>14.179036</td>\n",
       "      <td>18.780525</td>\n",
       "    </tr>\n",
       "    <tr>\n",
       "      <th>12</th>\n",
       "      <td>13.0</td>\n",
       "      <td>12.0</td>\n",
       "      <td>13.950280</td>\n",
       "      <td>14.265430</td>\n",
       "      <td>12.271092</td>\n",
       "    </tr>\n",
       "    <tr>\n",
       "      <th>13</th>\n",
       "      <td>14.0</td>\n",
       "      <td>10.5</td>\n",
       "      <td>14.484451</td>\n",
       "      <td>14.351825</td>\n",
       "      <td>10.403857</td>\n",
       "    </tr>\n",
       "    <tr>\n",
       "      <th>14</th>\n",
       "      <td>15.0</td>\n",
       "      <td>15.8</td>\n",
       "      <td>14.490637</td>\n",
       "      <td>14.438220</td>\n",
       "      <td>15.742847</td>\n",
       "    </tr>\n",
       "    <tr>\n",
       "      <th>15</th>\n",
       "      <td>16.0</td>\n",
       "      <td>20.0</td>\n",
       "      <td>15.099722</td>\n",
       "      <td>14.524615</td>\n",
       "      <td>19.238254</td>\n",
       "    </tr>\n",
       "    <tr>\n",
       "      <th>16</th>\n",
       "      <td>17.0</td>\n",
       "      <td>12.1</td>\n",
       "      <td>14.066532</td>\n",
       "      <td>14.611010</td>\n",
       "      <td>12.568358</td>\n",
       "    </tr>\n",
       "    <tr>\n",
       "      <th>17</th>\n",
       "      <td>18.0</td>\n",
       "      <td>10.7</td>\n",
       "      <td>14.760345</td>\n",
       "      <td>14.697404</td>\n",
       "      <td>10.654373</td>\n",
       "    </tr>\n",
       "    <tr>\n",
       "      <th>18</th>\n",
       "      <td>19.0</td>\n",
       "      <td>16.1</td>\n",
       "      <td>14.765775</td>\n",
       "      <td>14.783799</td>\n",
       "      <td>16.119652</td>\n",
       "    </tr>\n",
       "    <tr>\n",
       "      <th>19</th>\n",
       "      <td>20.0</td>\n",
       "      <td>19.5</td>\n",
       "      <td>14.722229</td>\n",
       "      <td>14.870194</td>\n",
       "      <td>19.695983</td>\n",
       "    </tr>\n",
       "    <tr>\n",
       "      <th>20</th>\n",
       "      <td>21.0</td>\n",
       "      <td>13.0</td>\n",
       "      <td>15.112803</td>\n",
       "      <td>14.956589</td>\n",
       "      <td>12.865624</td>\n",
       "    </tr>\n",
       "    <tr>\n",
       "      <th>21</th>\n",
       "      <td>22.0</td>\n",
       "      <td>11.2</td>\n",
       "      <td>15.450081</td>\n",
       "      <td>15.042983</td>\n",
       "      <td>10.904889</td>\n",
       "    </tr>\n",
       "    <tr>\n",
       "      <th>22</th>\n",
       "      <td>23.0</td>\n",
       "      <td>16.4</td>\n",
       "      <td>15.040914</td>\n",
       "      <td>15.129378</td>\n",
       "      <td>16.496458</td>\n",
       "    </tr>\n",
       "    <tr>\n",
       "      <th>23</th>\n",
       "      <td>24.0</td>\n",
       "      <td>19.9</td>\n",
       "      <td>15.024224</td>\n",
       "      <td>15.215773</td>\n",
       "      <td>20.153712</td>\n",
       "    </tr>\n",
       "    <tr>\n",
       "      <th>24</th>\n",
       "      <td>25.0</td>\n",
       "      <td>NaN</td>\n",
       "      <td>NaN</td>\n",
       "      <td>15.302168</td>\n",
       "      <td>13.162891</td>\n",
       "    </tr>\n",
       "    <tr>\n",
       "      <th>25</th>\n",
       "      <td>26.0</td>\n",
       "      <td>NaN</td>\n",
       "      <td>NaN</td>\n",
       "      <td>15.388563</td>\n",
       "      <td>11.155404</td>\n",
       "    </tr>\n",
       "    <tr>\n",
       "      <th>26</th>\n",
       "      <td>27.0</td>\n",
       "      <td>NaN</td>\n",
       "      <td>NaN</td>\n",
       "      <td>15.474957</td>\n",
       "      <td>16.873263</td>\n",
       "    </tr>\n",
       "    <tr>\n",
       "      <th>27</th>\n",
       "      <td>28.0</td>\n",
       "      <td>NaN</td>\n",
       "      <td>NaN</td>\n",
       "      <td>15.561352</td>\n",
       "      <td>20.611442</td>\n",
       "    </tr>\n",
       "  </tbody>\n",
       "</table>\n",
       "</div>"
      ],
      "text/plain": [
       "    time   org   Des_data   Line_pre  Seasonal Pre\n",
       "0    1.0  11.7  13.601523  13.228693     11.379292\n",
       "1    2.0   9.6  13.242927  13.315088      9.652311\n",
       "2    3.0  15.0  13.756934  13.401482     14.612430\n",
       "3    4.0  17.7  13.363254  13.487877     17.865066\n",
       "4    5.0  11.5  13.369018  13.574272     11.676559\n",
       "5    6.0   9.6  13.242927  13.660667      9.902826\n",
       "6    7.0  14.8  13.573508  13.747062     14.989236\n",
       "7    8.0  18.6  14.042742  13.833456     18.322796\n",
       "8    9.0  11.9  13.834028  13.919851     11.973825\n",
       "9   10.0  10.0  13.794715  14.006246     10.153342\n",
       "10  11.0  15.4  14.123785  14.092641     15.366041\n",
       "11  12.0  19.1  14.420235  14.179036     18.780525\n",
       "12  13.0  12.0  13.950280  14.265430     12.271092\n",
       "13  14.0  10.5  14.484451  14.351825     10.403857\n",
       "14  15.0  15.8  14.490637  14.438220     15.742847\n",
       "15  16.0  20.0  15.099722  14.524615     19.238254\n",
       "16  17.0  12.1  14.066532  14.611010     12.568358\n",
       "17  18.0  10.7  14.760345  14.697404     10.654373\n",
       "18  19.0  16.1  14.765775  14.783799     16.119652\n",
       "19  20.0  19.5  14.722229  14.870194     19.695983\n",
       "20  21.0  13.0  15.112803  14.956589     12.865624\n",
       "21  22.0  11.2  15.450081  15.042983     10.904889\n",
       "22  23.0  16.4  15.040914  15.129378     16.496458\n",
       "23  24.0  19.9  15.024224  15.215773     20.153712\n",
       "24  25.0   NaN        NaN  15.302168     13.162891\n",
       "25  26.0   NaN        NaN  15.388563     11.155404\n",
       "26  27.0   NaN        NaN  15.474957     16.873263\n",
       "27  28.0   NaN        NaN  15.561352     20.611442"
      ]
     },
     "metadata": {},
     "output_type": "display_data"
    },
    {
     "data": {
      "image/png": "[encoded data removed]",
      "text/plain": [
       "<Figure size 360x240 with 1 Axes>"
      ]
     },
     "metadata": {
      "needs_background": "light"
     },
     "output_type": "display_data"
    }
   ],
   "source": [
    "Sea_pre_df1_LR = des_pre_df1_LR * df1_LR_Result['SeaIdx']\n",
    "New_t_1 = np.array([25, 26, 27, 28])\n",
    "Total_t_1 = np.append(t_r, New_t_1)\n",
    "New_t_1 = sm.add_constant(New_t_1)\n",
    "df1_LR_des_pre_New_t_1 = result_reg_df1_LR.predict(New_t_1)\n",
    "print('New Des Prediction', df1_LR_des_pre_New_t_1)\n",
    "df1_LR_Sea_pre_New_t_1 = df1_LR_des_pre_New_t_1 * df1_LR_Idx\n",
    "print('New Seasonal Prediction', df1_LR_Sea_pre_New_t_1)\n",
    "New_Nan = np.zeros(New_t_1.shape[0])\n",
    "New_Nan[:] = np.nan\n",
    "df1_LR_New_orig_1 = np.append(df1_LR_Result['orig'], New_Nan)\n",
    "df1_LR_New_Des_D_1 = np.append(df1_LR_Result['Des_D'], New_Nan)\n",
    "df1_LR_New_des_pre_1 = np.append(des_pre_df1_LR, df1_LR_des_pre_New_t_1)\n",
    "df1_LR_New_Sea_pre_1 = np.append(Sea_pre_df1_LR, df1_LR_Sea_pre_New_t_1)\n",
    "df1_LR_S_a = np.array([Total_t_1, df1_LR_New_orig_1, df1_LR_New_Des_D_1, df1_LR_New_des_pre_1, df1_LR_New_Sea_pre_1])\n",
    "df1_LR_S_df = pd.DataFrame(df1_LR_S_a.T, columns=['time', 'org', 'Des_data', 'Line_pre', 'Seasonal Pre'])\n",
    "display(df1_LR_S_df)\n",
    "plt.plot(Total_t_1, df1_LR_New_orig_1)\n",
    "plt.plot(Total_t_1, df1_LR_New_Des_D_1)\n",
    "plt.plot(Total_t_1, df1_LR_New_des_pre_1)\n",
    "plt.plot(Total_t_1, df1_LR_New_Sea_pre_1)\n",
    "plt.legend(labels=['org', 'Des_data', 'Line_pre', 'Seasonal Pre'])\n",
    "plt.xlabel('time')\n",
    "plt.ylabel('Rates')\n",
    "plt.title('Rates by Linear Regression Seasonal Index')\n",
    "plt.show()"
   ]
  },
  {
   "cell_type": "markdown",
   "metadata": {},
   "source": [
    "### (5)"
   ]
  },
  {
   "cell_type": "code",
   "execution_count": 72,
   "metadata": {},
   "outputs": [
    {
     "name": "stdout",
     "output_type": "stream",
     "text": [
      "                            OLS Regression Results                            \n",
      "==============================================================================\n",
      "Dep. Variable:                  Sales   R-squared:                       0.994\n",
      "Model:                            OLS   Adj. R-squared:                  0.993\n",
      "Method:                 Least Squares   F-statistic:                     839.5\n",
      "Date:                Tue, 31 May 2022   Prob (F-statistic):           4.43e-21\n",
      "Time:                        20:10:01   Log-Likelihood:                -1.6944\n",
      "No. Observations:                  24   AIC:                             13.39\n",
      "Df Residuals:                      19   BIC:                             19.28\n",
      "Df Model:                           4                                         \n",
      "Covariance Type:            nonrobust                                         \n",
      "==============================================================================\n",
      "                 coef    std err          t      P>|t|      [0.025      0.975]\n",
      "------------------------------------------------------------------------------\n",
      "const         17.9808      0.171    105.404      0.000      17.624      18.338\n",
      "t              0.0823      0.009      9.440      0.000       0.064       0.101\n",
      "Quarter_1     -6.8530      0.171    -40.190      0.000      -7.210      -6.496\n",
      "Quarter_2     -8.7020      0.169    -51.371      0.000      -9.057      -8.347\n",
      "Quarter_3     -3.4677      0.169    -20.553      0.000      -3.821      -3.115\n",
      "==============================================================================\n",
      "Omnibus:                        4.140   Durbin-Watson:                   2.128\n",
      "Prob(Omnibus):                  0.126   Jarque-Bera (JB):                2.600\n",
      "Skew:                           0.339   Prob(JB):                        0.273\n",
      "Kurtosis:                       4.463   Cond. No.                         65.9\n",
      "==============================================================================\n",
      "\n",
      "Warnings:\n",
      "[1] Standard Errors assume that the covariance matrix of the errors is correctly specified.\n",
      "\n",
      "Estimated model: y = 17.9808 + 0.0823 t + -6.8530 Quarter_1 + -8.7020 Quarter_2 + -3.4677 Quarter_3 \n",
      "Fitted Values [11.21011905  9.44345238 14.76011905 18.31011905 11.53940476  9.7727381\n",
      " 15.08940476 18.63940476 11.86869048 10.10202381 15.41869048 18.96869048\n",
      " 12.19797619 10.43130952 15.74797619 19.29797619 12.5272619  10.76059524\n",
      " 16.0772619  19.6272619  12.85654762 11.08988095 16.40654762 19.95654762]\n"
     ]
    },
    {
     "data": {
      "image/png": "[encoded data removed]",
      "text/plain": [
       "<Figure size 360x240 with 1 Axes>"
      ]
     },
     "metadata": {
      "needs_background": "light"
     },
     "output_type": "display_data"
    }
   ],
   "source": [
    "Quarter_dummy = pd.get_dummies(df1['Quarter'], prefix = 'Quarter')\n",
    "df1 = pd.concat([df1, Quarter_dummy], axis = 1)\n",
    "df1.head()\n",
    "y_data_df1 = df1['Sales']\n",
    "td_r = np.arange(1, len(df1['Sales']) + 1, 1)\n",
    "X_data_ar_df1 = np.array([td_r, df1['Quarter_1'], df1['Quarter_2'], df1['Quarter_3']])\n",
    "X_data_ar_df1_T = X_data_ar_df1.T\n",
    "columns = ['t', 'Quarter_1', 'Quarter_2', 'Quarter_3']\n",
    "X_data_df1 = pd.DataFrame(X_data_ar_df1_T, columns = ['t', 'Quarter_1', 'Quarter_2', 'Quarter_3'])\n",
    "X_data_df1 = sm.add_constant(X_data_df1)\n",
    "olsmod_df1_DM = sm.OLS(y_data_df1, X_data_df1)\n",
    "result_reg_df1_DM = olsmod_df1_DM.fit()\n",
    "print(result_reg_df1_DM.summary())\n",
    "print()\n",
    "s = f\"Estimated model: y = {result_reg_df1_DM.params[0]:.4f} \"\n",
    "for i in range(1, len(result_reg_df1_DM.params)):\n",
    "    s += f'+ {result_reg_df1_DM.params[i]:.4f} {columns[i - 1]} '\n",
    "print(s)\n",
    "df1_DM_st, df1_DM_data, df1_DM_ss2 = sso.summary_table(result_reg_df1_DM, alpha=0.05)\n",
    "df1_DM_y_pre = df1_DM_data[:, 2]\n",
    "df1_DM_SD = df1_DM_data[:, 10]\n",
    "des_pre_df1_DM = df1_DM_y_pre\n",
    "print('Fitted Values', des_pre_df1_DM)\n",
    "plt.plot(td_r, df1['Sales'])\n",
    "plt.plot(td_r, des_pre_df1_DM)\n",
    "plt.legend(labels=['org', 'Line_pre'])\n",
    "plt.xlabel('time')\n",
    "plt.ylabel('Sales')\n",
    "plt.title('Sales by LR Dummy Variables')\n",
    "plt.show()"
   ]
  },
  {
   "cell_type": "code",
   "execution_count": 73,
   "metadata": {},
   "outputs": [
    {
     "name": "stdout",
     "output_type": "stream",
     "text": [
      "New Dummy Season Prediction [13.18583333 11.41916667 16.73583333 20.28583333]\n"
     ]
    },
    {
     "data": {
      "image/png": "[encoded data removed]",
      "text/plain": [
       "<Figure size 360x240 with 1 Axes>"
      ]
     },
     "metadata": {
      "needs_background": "light"
     },
     "output_type": "display_data"
    }
   ],
   "source": [
    "New_t = np.array([[25, 1, 0, 0],[26, 0, 1, 0], [27, 0, 0, 1], [28, 0, 0, 0]])\n",
    "Total_t = np.append(td_r, New_t[:,0])\n",
    "New_t = sm.add_constant(New_t)\n",
    "df1_DM_pre_New_t = result_reg_df1_DM.predict(New_t)\n",
    "print('New Dummy Season Prediction', df1_DM_pre_New_t)\n",
    "New_Nan = np.zeros(New_t.shape[0])\n",
    "New_Nan[:] = np.nan\n",
    "df1_DM_New_orig = np.append(df1['Sales'], New_Nan)\n",
    "df1_DM_New_pre = np.append(des_pre_df1_DM, df1_DM_pre_New_t)\n",
    "plt.plot(Total_t, df1_DM_New_orig)\n",
    "plt.plot(Total_t, df1_DM_New_pre)\n",
    "plt.legend(labels=['org', 'Line_pre'])\n",
    "plt.xlabel('time')\n",
    "plt.ylabel('Sales')\n",
    "plt.title('Sales by LR Dummy Variables')\n",
    "plt.show()"
   ]
  },
  {
   "cell_type": "markdown",
   "metadata": {},
   "source": [
    "### (6)"
   ]
  },
  {
   "cell_type": "code",
   "execution_count": 74,
   "metadata": {},
   "outputs": [],
   "source": [
    "def ErrMetrix(y_v, f_v):\n",
    "    y_v_n = pd.DataFrame({'orig': y_v})\n",
    "    f_v_n = pd.DataFrame({'forecast': f_v})\n",
    "    err1 = (y_v_n['orig'] - f_v_n['forecast']).dropna().values\n",
    "    err1p = ((y_v_n['orig'] - f_v_n['forecast'])/ y_v_n['orig']).dropna().values\n",
    "    MAD = round(np.absolute(err1).mean(),6)\n",
    "    MSE = round(np.mean(err1 * err1),6)\n",
    "    RMSE = round(np.sqrt(np.mean(err1 * err1)),6)\n",
    "    MAPE = round(np.absolute(err1p).mean() * 100, 6)\n",
    "    print(\"MAD = \", MAD)\n",
    "    print(\"MSE = \", MSE)\n",
    "    print(\"RMSE = \", RMSE)\n",
    "    print(\"MAPE = \", MAPE, \"%\")\n",
    "    return MAD, MSE, RMSE, MAPE"
   ]
  },
  {
   "cell_type": "code",
   "execution_count": 75,
   "metadata": {},
   "outputs": [
    {
     "name": "stdout",
     "output_type": "stream",
     "text": [
      "Error Metrics for Seasonal Index by Moving Average\n",
      "MAD =  0.208277\n",
      "MSE =  0.068308\n",
      "RMSE =  0.261359\n",
      "MAPE =  1.480408 %\n",
      "\n",
      "\n",
      "Error Metrics for Seasonal Index by LR\n",
      "MAD =  0.214479\n",
      "MSE =  0.07317\n",
      "RMSE =  0.270499\n",
      "MAPE =  1.525381 %\n",
      "\n",
      "\n",
      "Error Metrics for LR Dummy\n",
      "MAD =  0.178998\n",
      "MSE =  0.067429\n",
      "RMSE =  0.259671\n",
      "MAPE =  1.279618 %\n",
      "dataset:\n"
     ]
    },
    {
     "data": {
      "text/html": [
       "<div>\n",
       "<style scoped>\n",
       "    .dataframe tbody tr th:only-of-type {\n",
       "        vertical-align: middle;\n",
       "    }\n",
       "\n",
       "    .dataframe tbody tr th {\n",
       "        vertical-align: top;\n",
       "    }\n",
       "\n",
       "    .dataframe thead th {\n",
       "        text-align: right;\n",
       "    }\n",
       "</style>\n",
       "<table border=\"1\" class=\"dataframe\">\n",
       "  <thead>\n",
       "    <tr style=\"text-align: right;\">\n",
       "      <th></th>\n",
       "      <th>ErrM</th>\n",
       "      <th>SIMA</th>\n",
       "      <th>SILR</th>\n",
       "      <th>Dummy</th>\n",
       "    </tr>\n",
       "  </thead>\n",
       "  <tbody>\n",
       "    <tr>\n",
       "      <th>0</th>\n",
       "      <td>MAD</td>\n",
       "      <td>0.208277</td>\n",
       "      <td>0.214479</td>\n",
       "      <td>0.178998</td>\n",
       "    </tr>\n",
       "    <tr>\n",
       "      <th>1</th>\n",
       "      <td>MSE</td>\n",
       "      <td>0.068308</td>\n",
       "      <td>0.07317</td>\n",
       "      <td>0.067429</td>\n",
       "    </tr>\n",
       "    <tr>\n",
       "      <th>2</th>\n",
       "      <td>RMSE</td>\n",
       "      <td>0.261359</td>\n",
       "      <td>0.270499</td>\n",
       "      <td>0.259671</td>\n",
       "    </tr>\n",
       "    <tr>\n",
       "      <th>3</th>\n",
       "      <td>MAPE</td>\n",
       "      <td>1.480408</td>\n",
       "      <td>1.525381</td>\n",
       "      <td>1.279618</td>\n",
       "    </tr>\n",
       "  </tbody>\n",
       "</table>\n",
       "</div>"
      ],
      "text/plain": [
       "   ErrM      SIMA      SILR     Dummy\n",
       "0   MAD  0.208277  0.214479  0.178998\n",
       "1   MSE  0.068308   0.07317  0.067429\n",
       "2  RMSE  0.261359  0.270499  0.259671\n",
       "3  MAPE  1.480408  1.525381  1.279618"
      ]
     },
     "metadata": {},
     "output_type": "display_data"
    }
   ],
   "source": [
    "print('Error Metrics for Seasonal Index by Moving Average')\n",
    "df1_MA_Err_M = ErrMetrix(df1['Sales'], Sea_pre_df1_MA)\n",
    "print('\\n')\n",
    "print('Error Metrics for Seasonal Index by LR')\n",
    "df1_LR_Err_M = ErrMetrix(df1['Sales'], Sea_pre_df1_LR)\n",
    "print('\\n')\n",
    "print('Error Metrics for LR Dummy')\n",
    "df1d_DM_Err_M = ErrMetrix(df1['Sales'], des_pre_df1_DM)\n",
    "ErrM_id = ['MAD', 'MSE', 'RMSE', 'MAPE']\n",
    "df1_ErrM_a = np.array([ErrM_id, df1_MA_Err_M, df1_LR_Err_M, df1d_DM_Err_M])\n",
    "df1_ErrM_df = pd.DataFrame(df1_ErrM_a.T, columns = ['ErrM', 'SIMA', 'SILR', 'Dummy'])\n",
    "print('dataset:')\n",
    "display(df1_ErrM_df)"
   ]
  },
  {
   "cell_type": "markdown",
   "metadata": {},
   "source": [
    "The multiple regression model with dummy variables has the smallest values which is the best choice."
   ]
  },
  {
   "cell_type": "code",
   "execution_count": null,
   "metadata": {},
   "outputs": [],
   "source": []
  }
 ],
 "metadata": {
  "kernelspec": {
   "display_name": "Python 3",
   "language": "python",
   "name": "python3"
  },
  "language_info": {
   "codemirror_mode": {
    "name": "ipython",
    "version": 3
   },
   "file_extension": ".py",
   "mimetype": "text/x-python",
   "name": "python",
   "nbconvert_exporter": "python",
   "pygments_lexer": "ipython3",
   "version": "3.8.5"
  }
 },
 "nbformat": 4,
 "nbformat_minor": 5
}
