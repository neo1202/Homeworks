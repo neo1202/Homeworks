{
 "cells": [
  {
   "cell_type": "markdown",
   "metadata": {},
   "source": [
    "# 第二次作業"
   ]
  },
  {
   "cell_type": "code",
   "execution_count": 61,
   "metadata": {},
   "outputs": [],
   "source": [
    "# 13.95, 13.100, 13.130, 13.156"
   ]
  },
  {
   "cell_type": "code",
   "execution_count": 62,
   "metadata": {},
   "outputs": [],
   "source": [
    "# 載入所需函示庫\n",
    "import pandas as pd\n",
    "import numpy as np\n",
    "import scipy.stats as stats\n",
    "import statsmodels.stats.api as sms\n",
    "from matplotlib import pyplot as plt\n",
    "%matplotlib inline\n",
    "# 設定圖形大小; DPI越大圖越大\n",
    "plt.rcParams[\"figure.dpi\"] = 150"
   ]
  },
  {
   "cell_type": "markdown",
   "metadata": {},
   "source": [
    "<div style=\"background-color:#D9D9D9;\"><font size=\"5\"> 13.95</font></div>"
   ]
  },
  {
   "cell_type": "code",
   "execution_count": 63,
   "metadata": {},
   "outputs": [
    {
     "data": {
      "text/html": [
       "<div>\n",
       "<style scoped>\n",
       "    .dataframe tbody tr th:only-of-type {\n",
       "        vertical-align: middle;\n",
       "    }\n",
       "\n",
       "    .dataframe tbody tr th {\n",
       "        vertical-align: top;\n",
       "    }\n",
       "\n",
       "    .dataframe thead th {\n",
       "        text-align: right;\n",
       "    }\n",
       "</style>\n",
       "<table border=\"1\" class=\"dataframe\">\n",
       "  <thead>\n",
       "    <tr style=\"text-align: right;\">\n",
       "      <th></th>\n",
       "      <th>This Year</th>\n",
       "      <th>Last Year</th>\n",
       "    </tr>\n",
       "  </thead>\n",
       "  <tbody>\n",
       "    <tr>\n",
       "      <th>0</th>\n",
       "      <td>189</td>\n",
       "      <td>151</td>\n",
       "    </tr>\n",
       "    <tr>\n",
       "      <th>1</th>\n",
       "      <td>225</td>\n",
       "      <td>224</td>\n",
       "    </tr>\n",
       "    <tr>\n",
       "      <th>2</th>\n",
       "      <td>106</td>\n",
       "      <td>30</td>\n",
       "    </tr>\n",
       "    <tr>\n",
       "      <th>3</th>\n",
       "      <td>146</td>\n",
       "      <td>132</td>\n",
       "    </tr>\n",
       "    <tr>\n",
       "      <th>4</th>\n",
       "      <td>234</td>\n",
       "      <td>233</td>\n",
       "    </tr>\n",
       "  </tbody>\n",
       "</table>\n",
       "</div>"
      ],
      "text/plain": [
       "   This Year  Last Year\n",
       "0        189        151\n",
       "1        225        224\n",
       "2        106         30\n",
       "3        146        132\n",
       "4        234        233"
      ]
     },
     "metadata": {},
     "output_type": "display_data"
    },
    {
     "data": {
      "text/html": [
       "<div>\n",
       "<style scoped>\n",
       "    .dataframe tbody tr th:only-of-type {\n",
       "        vertical-align: middle;\n",
       "    }\n",
       "\n",
       "    .dataframe tbody tr th {\n",
       "        vertical-align: top;\n",
       "    }\n",
       "\n",
       "    .dataframe thead th {\n",
       "        text-align: right;\n",
       "    }\n",
       "</style>\n",
       "<table border=\"1\" class=\"dataframe\">\n",
       "  <thead>\n",
       "    <tr style=\"text-align: right;\">\n",
       "      <th></th>\n",
       "      <th>This Year</th>\n",
       "      <th>Last Year</th>\n",
       "    </tr>\n",
       "  </thead>\n",
       "  <tbody>\n",
       "    <tr>\n",
       "      <th>35</th>\n",
       "      <td>104</td>\n",
       "      <td>102</td>\n",
       "    </tr>\n",
       "    <tr>\n",
       "      <th>36</th>\n",
       "      <td>275</td>\n",
       "      <td>242</td>\n",
       "    </tr>\n",
       "    <tr>\n",
       "      <th>37</th>\n",
       "      <td>137</td>\n",
       "      <td>82</td>\n",
       "    </tr>\n",
       "    <tr>\n",
       "      <th>38</th>\n",
       "      <td>128</td>\n",
       "      <td>148</td>\n",
       "    </tr>\n",
       "    <tr>\n",
       "      <th>39</th>\n",
       "      <td>159</td>\n",
       "      <td>179</td>\n",
       "    </tr>\n",
       "  </tbody>\n",
       "</table>\n",
       "</div>"
      ],
      "text/plain": [
       "    This Year  Last Year\n",
       "35        104        102\n",
       "36        275        242\n",
       "37        137         82\n",
       "38        128        148\n",
       "39        159        179"
      ]
     },
     "metadata": {},
     "output_type": "display_data"
    }
   ],
   "source": [
    "df1 = pd.read_excel('Xr13-95.xlsx')\n",
    "display(df1.head())\n",
    "display(df1.tail())"
   ]
  },
  {
   "cell_type": "code",
   "execution_count": 64,
   "metadata": {},
   "outputs": [
    {
     "name": "stdout",
     "output_type": "stream",
     "text": [
      "degree of freedom =  39\n",
      "t-value = 4.0775\n",
      "p_value (two sided) = 0.0002\n",
      "p_value (right tail) = 0.0001\n",
      "p_value (left tail) = 0.9999\n"
     ]
    }
   ],
   "source": [
    "samp1 = df1['This Year'].values\n",
    "samp2 = df1['Last Year'].values\n",
    "\n",
    "samp_diff = samp1 - samp2\n",
    "nobs = samp_diff.shape[0]\n",
    "df = nobs - 1\n",
    "print(\"degree of freedom = \", df)\n",
    "\n",
    "tmpdesc = stats.describe(samp_diff)\n",
    "t_value = tmpdesc.mean / (tmpdesc.variance ** 0.5) * (nobs ** 0.5)\n",
    "print(f\"t-value = {t_value:.4f}\")\n",
    "# tmpdesc\n",
    "\n",
    "# p-values\n",
    "ptmp = stats.t.cdf(t_value, df)\n",
    "p_value_left = ptmp\n",
    "p_value_right = 1 - ptmp\n",
    "if ptmp > 0.5:\n",
    "    ptmp = 1 - ptmp\n",
    "p_value_twoside = ptmp * 2\n",
    "\n",
    "print(f\"p_value (two sided) = {p_value_twoside:.4f}\")\n",
    "print(f\"p_value (right tail) = {p_value_right:.4f}\")\n",
    "print(f\"p_value (left tail) = {p_value_left:.4f}\")"
   ]
  },
  {
   "cell_type": "code",
   "execution_count": 65,
   "metadata": {},
   "outputs": [
    {
     "name": "stdout",
     "output_type": "stream",
     "text": [
      "(a.) Improvement in sales between two years under 90 percent confidence is = [11.5890, 27.9110] thousands dollar.\n"
     ]
    }
   ],
   "source": [
    "#(a)\n",
    "# Use a significance level of 0.10\n",
    "t_alpha = stats.t.ppf(1 - 0.10 / 2, df)\n",
    "std_xbar = (tmpdesc.variance / nobs) ** 0.5\n",
    "LCL = tmpdesc.mean - t_alpha * std_xbar\n",
    "UCL = tmpdesc.mean + t_alpha * std_xbar\n",
    "print(\"(a.) Improvement in sales between two years under 90 percent confidence is = [%0.4f, %0.4f] thousands dollar.\" % (LCL, UCL))"
   ]
  },
  {
   "cell_type": "markdown",
   "metadata": {},
   "source": [
    "### H0:μ1-μ2<=0 , \n",
    "### H1:μ1-μ2>0\n",
    "(b.) From the result above, we can show that in the right tail test, the p_value is only 0.0001, which is much smaller than our significant level. So we have overwhelming evidence to reject the null hypothesis in favor of the alternative one and conclude that advertising in the Yellow Pages improves sales."
   ]
  },
  {
   "cell_type": "code",
   "execution_count": 66,
   "metadata": {},
   "outputs": [
    {
     "name": "stdout",
     "output_type": "stream",
     "text": [
      "(c.) the difference between the paired difference is approximately normal, so we can apply the t-test\n"
     ]
    },
    {
     "data": {
      "image/png": "[encoded data removed]",
      "text/plain": [
       "<Figure size 900x600 with 1 Axes>"
      ]
     },
     "metadata": {
      "needs_background": "light"
     },
     "output_type": "display_data"
    }
   ],
   "source": [
    "fig = plt.hist(samp_diff, bins='auto')\n",
    "plt.title('Difference')\n",
    "print(\"(c.) the difference between the paired difference is approximately normal, so we can apply the t-test\")"
   ]
  },
  {
   "cell_type": "markdown",
   "metadata": {},
   "source": [
    "(d.) No, using Matched-Pair Experiment can lower the variability and focus more on the aimed target.By controlling some of the variables."
   ]
  },
  {
   "cell_type": "markdown",
   "metadata": {},
   "source": [
    "<div style=\"background-color:#D9D9D9;\"><font size=\"5\"> 13.100</font></div>"
   ]
  },
  {
   "cell_type": "markdown",
   "metadata": {},
   "source": [
    "### H0:μ1-μ2<=0 , \n",
    "### H1:μ1-μ2>0"
   ]
  },
  {
   "cell_type": "code",
   "execution_count": 67,
   "metadata": {},
   "outputs": [
    {
     "data": {
      "text/html": [
       "<div>\n",
       "<style scoped>\n",
       "    .dataframe tbody tr th:only-of-type {\n",
       "        vertical-align: middle;\n",
       "    }\n",
       "\n",
       "    .dataframe tbody tr th {\n",
       "        vertical-align: top;\n",
       "    }\n",
       "\n",
       "    .dataframe thead th {\n",
       "        text-align: right;\n",
       "    }\n",
       "</style>\n",
       "<table border=\"1\" class=\"dataframe\">\n",
       "  <thead>\n",
       "    <tr style=\"text-align: right;\">\n",
       "      <th></th>\n",
       "      <th>Company 1</th>\n",
       "      <th>Company 2</th>\n",
       "    </tr>\n",
       "  </thead>\n",
       "  <tbody>\n",
       "    <tr>\n",
       "      <th>0</th>\n",
       "      <td>12859</td>\n",
       "      <td>9449</td>\n",
       "    </tr>\n",
       "    <tr>\n",
       "      <th>1</th>\n",
       "      <td>6082</td>\n",
       "      <td>5694</td>\n",
       "    </tr>\n",
       "    <tr>\n",
       "      <th>2</th>\n",
       "      <td>8604</td>\n",
       "      <td>7457</td>\n",
       "    </tr>\n",
       "    <tr>\n",
       "      <th>3</th>\n",
       "      <td>9230</td>\n",
       "      <td>7725</td>\n",
       "    </tr>\n",
       "    <tr>\n",
       "      <th>4</th>\n",
       "      <td>10405</td>\n",
       "      <td>10163</td>\n",
       "    </tr>\n",
       "  </tbody>\n",
       "</table>\n",
       "</div>"
      ],
      "text/plain": [
       "   Company 1  Company 2\n",
       "0      12859       9449\n",
       "1       6082       5694\n",
       "2       8604       7457\n",
       "3       9230       7725\n",
       "4      10405      10163"
      ]
     },
     "metadata": {},
     "output_type": "display_data"
    },
    {
     "data": {
      "text/html": [
       "<div>\n",
       "<style scoped>\n",
       "    .dataframe tbody tr th:only-of-type {\n",
       "        vertical-align: middle;\n",
       "    }\n",
       "\n",
       "    .dataframe tbody tr th {\n",
       "        vertical-align: top;\n",
       "    }\n",
       "\n",
       "    .dataframe thead th {\n",
       "        text-align: right;\n",
       "    }\n",
       "</style>\n",
       "<table border=\"1\" class=\"dataframe\">\n",
       "  <thead>\n",
       "    <tr style=\"text-align: right;\">\n",
       "      <th></th>\n",
       "      <th>Company 1</th>\n",
       "      <th>Company 2</th>\n",
       "    </tr>\n",
       "  </thead>\n",
       "  <tbody>\n",
       "    <tr>\n",
       "      <th>50</th>\n",
       "      <td>11815</td>\n",
       "      <td>9631</td>\n",
       "    </tr>\n",
       "    <tr>\n",
       "      <th>51</th>\n",
       "      <td>6069</td>\n",
       "      <td>7798</td>\n",
       "    </tr>\n",
       "    <tr>\n",
       "      <th>52</th>\n",
       "      <td>12073</td>\n",
       "      <td>13252</td>\n",
       "    </tr>\n",
       "    <tr>\n",
       "      <th>53</th>\n",
       "      <td>6466</td>\n",
       "      <td>7274</td>\n",
       "    </tr>\n",
       "    <tr>\n",
       "      <th>54</th>\n",
       "      <td>9782</td>\n",
       "      <td>11055</td>\n",
       "    </tr>\n",
       "  </tbody>\n",
       "</table>\n",
       "</div>"
      ],
      "text/plain": [
       "    Company 1  Company 2\n",
       "50      11815       9631\n",
       "51       6069       7798\n",
       "52      12073      13252\n",
       "53       6466       7274\n",
       "54       9782      11055"
      ]
     },
     "metadata": {},
     "output_type": "display_data"
    }
   ],
   "source": [
    "df1 = pd.read_excel('Xr13-100.xlsx')\n",
    "display(df1.head())\n",
    "display(df1.tail())"
   ]
  },
  {
   "cell_type": "code",
   "execution_count": 68,
   "metadata": {},
   "outputs": [
    {
     "name": "stdout",
     "output_type": "stream",
     "text": [
      "degree of freedom =  54\n",
      "t-value = 2.0824\n",
      "p_value (two sided) = 0.0421\n",
      "p_value (right tail) = 0.0210\n",
      "p_value (left tail) = 0.9790\n"
     ]
    }
   ],
   "source": [
    "samp1 = df1['Company 1'].values\n",
    "samp2 = df1['Company 2'].values\n",
    "\n",
    "samp_diff = samp1 - samp2\n",
    "#print(samp_diff.mean())\n",
    "nobs = samp_diff.shape[0]\n",
    "df = nobs - 1\n",
    "print(\"degree of freedom = \", df)\n",
    "\n",
    "tmpdesc = stats.describe(samp_diff)\n",
    "t_value = tmpdesc.mean / (tmpdesc.variance ** 0.5) * (nobs ** 0.5)\n",
    "print(f\"t-value = {t_value:.4f}\")\n",
    "# tmpdesc\n",
    "\n",
    "# p-values\n",
    "ptmp = stats.t.cdf(t_value, df)\n",
    "p_value_left = ptmp\n",
    "p_value_right = 1 - ptmp\n",
    "if ptmp > 0.5:\n",
    "    ptmp = 1 - ptmp\n",
    "p_value_twoside = ptmp * 2\n",
    "\n",
    "print(f\"p_value (two sided) = {p_value_twoside:.4f}\")\n",
    "print(f\"p_value (right tail) = {p_value_right:.4f}\")\n",
    "print(f\"p_value (left tail) = {p_value_left:.4f}\")"
   ]
  },
  {
   "cell_type": "markdown",
   "metadata": {},
   "source": [
    "Based on the above result, the right tail p_value is 0.0210, which is smaller than our significance level 0.05, so we have sufficient evidence to reject the null hypothesis in favor of the alternative one, and conclude that company 1’s service results in higher tax payable"
   ]
  },
  {
   "cell_type": "markdown",
   "metadata": {},
   "source": [
    "<div style=\"background-color:#D9D9D9;\"><font size=\"5\"> 13.130</font></div>"
   ]
  },
  {
   "cell_type": "markdown",
   "metadata": {},
   "source": [
    "### H0 : p1-p2<=0\n",
    "### H1 : p1-p2>0"
   ]
  },
  {
   "cell_type": "code",
   "execution_count": 69,
   "metadata": {},
   "outputs": [
    {
     "name": "stdout",
     "output_type": "stream",
     "text": [
      "p1 = 0.2052\n",
      "p2 = 0.1404\n",
      "sd_p_pool = 0.0381\n",
      "z-value = 1.6992\n",
      "p-value = 0.0446\n"
     ]
    }
   ],
   "source": [
    "p1 = 47/229\n",
    "p2 = 25/178\n",
    "p_pool = (47+25)/(229+178)\n",
    "sd_p_pool = (p_pool * (1 - p_pool) * \n",
    "             (1 / 229 + 1 / 178)) ** 0.5\n",
    "z_value = (p1 - p2) / sd_p_pool\n",
    "print(f\"p1 = {p1:.4f}\")\n",
    "print(f\"p2 = {p2:.4f}\")\n",
    "print(f\"sd_p_pool = {sd_p_pool:.4f}\")\n",
    "print(f\"z-value = {z_value:.4f}\")\n",
    "p_value = 1 - stats.norm.cdf(z_value)\n",
    "print(f\"p-value = {p_value:.4f}\")"
   ]
  },
  {
   "cell_type": "markdown",
   "metadata": {},
   "source": [
    "Because p-value < 0.1, reject H0. There is sufficient evidence to conclude at the 10% significance level, that those who paid the regular price are more likely to buy an extended warranty. "
   ]
  },
  {
   "cell_type": "markdown",
   "metadata": {},
   "source": [
    "<div style=\"background-color:#D9D9D9;\"><font size=\"5\"> 13.156</font></div>"
   ]
  },
  {
   "cell_type": "code",
   "execution_count": 70,
   "metadata": {},
   "outputs": [
    {
     "name": "stdout",
     "output_type": "stream",
     "text": [
      "2    2960\n",
      "1     240\n",
      "Name: Religion, dtype: int64\n",
      "Head of dataset:\n"
     ]
    },
    {
     "data": {
      "text/html": [
       "<div>\n",
       "<style scoped>\n",
       "    .dataframe tbody tr th:only-of-type {\n",
       "        vertical-align: middle;\n",
       "    }\n",
       "\n",
       "    .dataframe tbody tr th {\n",
       "        vertical-align: top;\n",
       "    }\n",
       "\n",
       "    .dataframe thead th {\n",
       "        text-align: right;\n",
       "    }\n",
       "</style>\n",
       "<table border=\"1\" class=\"dataframe\">\n",
       "  <thead>\n",
       "    <tr style=\"text-align: right;\">\n",
       "      <th></th>\n",
       "      <th>No religion</th>\n",
       "      <th>Religion</th>\n",
       "      <th>Wallonian</th>\n",
       "    </tr>\n",
       "  </thead>\n",
       "  <tbody>\n",
       "    <tr>\n",
       "      <th>0</th>\n",
       "      <td>2</td>\n",
       "      <td>2</td>\n",
       "      <td>1</td>\n",
       "    </tr>\n",
       "    <tr>\n",
       "      <th>1</th>\n",
       "      <td>2</td>\n",
       "      <td>2</td>\n",
       "      <td>1</td>\n",
       "    </tr>\n",
       "    <tr>\n",
       "      <th>2</th>\n",
       "      <td>2</td>\n",
       "      <td>2</td>\n",
       "      <td>1</td>\n",
       "    </tr>\n",
       "    <tr>\n",
       "      <th>3</th>\n",
       "      <td>1</td>\n",
       "      <td>2</td>\n",
       "      <td>1</td>\n",
       "    </tr>\n",
       "    <tr>\n",
       "      <th>4</th>\n",
       "      <td>2</td>\n",
       "      <td>2</td>\n",
       "      <td>1</td>\n",
       "    </tr>\n",
       "  </tbody>\n",
       "</table>\n",
       "</div>"
      ],
      "text/plain": [
       "   No religion  Religion  Wallonian\n",
       "0            2         2          1\n",
       "1            2         2          1\n",
       "2            2         2          1\n",
       "3            1         2          1\n",
       "4            2         2          1"
      ]
     },
     "metadata": {},
     "output_type": "display_data"
    },
    {
     "name": "stdout",
     "output_type": "stream",
     "text": [
      "Tail of dataset:\n"
     ]
    },
    {
     "data": {
      "text/html": [
       "<div>\n",
       "<style scoped>\n",
       "    .dataframe tbody tr th:only-of-type {\n",
       "        vertical-align: middle;\n",
       "    }\n",
       "\n",
       "    .dataframe tbody tr th {\n",
       "        vertical-align: top;\n",
       "    }\n",
       "\n",
       "    .dataframe thead th {\n",
       "        text-align: right;\n",
       "    }\n",
       "</style>\n",
       "<table border=\"1\" class=\"dataframe\">\n",
       "  <thead>\n",
       "    <tr style=\"text-align: right;\">\n",
       "      <th></th>\n",
       "      <th>No religion</th>\n",
       "      <th>Religion</th>\n",
       "      <th>Wallonian</th>\n",
       "    </tr>\n",
       "  </thead>\n",
       "  <tbody>\n",
       "    <tr>\n",
       "      <th>3195</th>\n",
       "      <td>2</td>\n",
       "      <td>2</td>\n",
       "      <td>1</td>\n",
       "    </tr>\n",
       "    <tr>\n",
       "      <th>3196</th>\n",
       "      <td>2</td>\n",
       "      <td>2</td>\n",
       "      <td>1</td>\n",
       "    </tr>\n",
       "    <tr>\n",
       "      <th>3197</th>\n",
       "      <td>2</td>\n",
       "      <td>2</td>\n",
       "      <td>1</td>\n",
       "    </tr>\n",
       "    <tr>\n",
       "      <th>3198</th>\n",
       "      <td>2</td>\n",
       "      <td>2</td>\n",
       "      <td>1</td>\n",
       "    </tr>\n",
       "    <tr>\n",
       "      <th>3199</th>\n",
       "      <td>2</td>\n",
       "      <td>2</td>\n",
       "      <td>1</td>\n",
       "    </tr>\n",
       "  </tbody>\n",
       "</table>\n",
       "</div>"
      ],
      "text/plain": [
       "      No religion  Religion  Wallonian\n",
       "3195            2         2          1\n",
       "3196            2         2          1\n",
       "3197            2         2          1\n",
       "3198            2         2          1\n",
       "3199            2         2          1"
      ]
     },
     "metadata": {},
     "output_type": "display_data"
    }
   ],
   "source": [
    "df3 = pd.read_excel('Xr13-156.xlsx')\n",
    "print(df3['Religion'].value_counts())\n",
    "print('Head of dataset:')\n",
    "display(df3.head())\n",
    "print(\"Tail of dataset:\")\n",
    "display(df3.tail())\n",
    "No_R = df3['No religion']\n",
    "No_R = No_R == 1\n",
    "Y_R = df3['Religion']\n",
    "Y_R = Y_R == 1"
   ]
  },
  {
   "cell_type": "code",
   "execution_count": 71,
   "metadata": {},
   "outputs": [
    {
     "name": "stdout",
     "output_type": "stream",
     "text": [
      "p1 = 0.0850\n",
      "p2 = 0.0750\n",
      "sd_p_pool = 0.0068\n",
      "z-value = 1.4744\n",
      "p-value = 0.0702\n"
     ]
    }
   ],
   "source": [
    "p1 = No_R.mean()\n",
    "p2 = Y_R.mean()\n",
    "R12 = np.concatenate([No_R, Y_R])\n",
    "p_pool = R12.mean()\n",
    "sd_p_pool = (p_pool * (1 - p_pool) * \n",
    "             (1 / No_R.shape[0] + 1 / Y_R.shape[0])) ** 0.5\n",
    "z_value = (p1 - p2) / sd_p_pool\n",
    "print(f\"p1 = {p1:.4f}\")\n",
    "print(f\"p2 = {p2:.4f}\")\n",
    "print(f\"sd_p_pool = {sd_p_pool:.4f}\")\n",
    "print(f\"z-value = {z_value:.4f}\")\n",
    "p_value = 1 - stats.norm.cdf(z_value)\n",
    "print(f\"p-value = {p_value:.4f}\")"
   ]
  },
  {
   "cell_type": "markdown",
   "metadata": {},
   "source": [
    "### H0 : p1-p2<=0\n",
    "### H1 : p1-p2>0"
   ]
  },
  {
   "cell_type": "markdown",
   "metadata": {},
   "source": [
    "Since p-value = 0.0702 > 0.05, can't reject the null hypothesis .There is insufficient evidence to infer that at the 5% significance level, that resumes including a reference to religious activity reduces the probability of a call back."
   ]
  }
 ],
 "metadata": {
  "kernelspec": {
   "display_name": "Python 3",
   "language": "python",
   "name": "python3"
  },
  "language_info": {
   "codemirror_mode": {
    "name": "ipython",
    "version": 3
   },
   "file_extension": ".py",
   "mimetype": "text/x-python",
   "name": "python",
   "nbconvert_exporter": "python",
   "pygments_lexer": "ipython3",
   "version": "3.8.5"
  }
 },
 "nbformat": 4,
 "nbformat_minor": 4
}
