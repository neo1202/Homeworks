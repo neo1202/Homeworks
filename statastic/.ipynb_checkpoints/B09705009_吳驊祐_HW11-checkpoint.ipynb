{
 "cells": [
  {
   "cell_type": "markdown",
   "metadata": {},
   "source": [
    "# 第十一次作業"
   ]
  },
  {
   "cell_type": "code",
   "execution_count": 2,
   "metadata": {},
   "outputs": [],
   "source": [
    "# 18.5, 18.7, 18.19, 18.23, 18.36, 18.38, 18.49"
   ]
  },
  {
   "cell_type": "code",
   "execution_count": 3,
   "metadata": {},
   "outputs": [],
   "source": [
    "#載入所需函示庫\n",
    "from matplotlib import pyplot as plt\n",
    "%matplotlib inline\n",
    "# 設定圖形大小; DPI越大圖越大\n",
    "plt.rcParams[\"figure.dpi\"] = 80\n",
    "import seaborn as sns\n",
    "import pandas as pd\n",
    "import numpy as np\n",
    "import scipy.stats as stats\n",
    "import statsmodels.api as sm\n",
    "import statsmodels.stats.api as sms\n",
    "import statsmodels.formula.api as smf\n",
    "import statsmodels.stats.multicomp as smm\n",
    "import statsmodels.stats.outliers_influence as sso\n",
    "import statsmodels\n",
    "from statsmodels.stats.stattools import durbin_watson\n",
    "from scipy.optimize import curve_fit"
   ]
  },
  {
   "cell_type": "code",
   "execution_count": 11,
   "metadata": {},
   "outputs": [],
   "source": [
    "def CI_PI_regression(xdata, yval, x1, a):\n",
    "    print(\"make CI and PI prediction at mean of x = \", x1)\n",
    "    X_data_T = xdata.T\n",
    "    X_data2 = sm.add_constant(X_data_T)\n",
    "    olsmod = sm.OLS(yval, X_data2)\n",
    "    result_reg = olsmod.fit()\n",
    "    y_head = np.dot(result_reg.params, x1)\n",
    "    print(\"y_head = \", y_head)\n",
    "    (t_minus, t_plus) = stats.t.interval(alpha = (1.0 - a), df = result_reg.df_resid )\n",
    "    core1 = (result_reg.mse_resid * np.matmul(x1, np.linalg.solve(np.matmul(X_data2.T, X_data2), x1))) ** 0.5 \n",
    "    lower_bound = y_head +  t_minus * core1\n",
    "    upper_bound = y_head +  t_plus * core1\n",
    "    print(\"confidence interval of mean = [%0.4f, %0.4f] \" % (lower_bound, upper_bound))\n",
    "    core2 = (result_reg.mse_resid * (1 + np.matmul(x1, np.linalg.solve(np.matmul(X_data2.T, X_data2), x1)))) ** 0.5\n",
    "    lower_bound2 = y_head +  t_minus * core2\n",
    "    upper_bound2 = y_head +  t_plus * core2\n",
    "    print(\"Prediction interval = [%0.4f, %0.4f] \" % (lower_bound2, upper_bound2))\n",
    "    CI_PI = np.array([lower_bound, upper_bound, lower_bound2, upper_bound2])\n",
    "    return CI_PI\n",
    "def forward_selection(input_df, depv=\"y\", indepv = [\"x1\"]):\n",
    "    selected = []\n",
    "    candidates = indepv.copy()\n",
    "    best_adjr2 = -1\n",
    "    best_subset = []\n",
    "    while len(candidates) > 0:\n",
    "        print(\"Current Candidates: \", candidates)\n",
    "        tmp_indep_subset = []\n",
    "        tmp_model_adjr = []\n",
    "        tmp_model_nindep = []\n",
    "        for acandidate in candidates:\n",
    "            tmplist = selected.copy()\n",
    "            tmplist.append(acandidate)\n",
    "            modelstr = depv + \" ~ \" + \"+\".join(tmplist)\n",
    "            result6tmp = smf.ols(modelstr, data=input_df).fit()\n",
    "            tmp_indep_subset.append(tmplist)\n",
    "            tmp_model_adjr.append(result6tmp.rsquared_adj)\n",
    "            tmp_model_nindep.append(len(tmplist))\n",
    "        tmp_adjr2 = np.array(tmp_model_adjr)\n",
    "        tmpind = tmp_adjr2.argmax()\n",
    "        this_adjr2 = tmp_adjr2[tmpind]\n",
    "        selected = tmp_indep_subset[tmpind]\n",
    "        if this_adjr2 <= 0:\n",
    "            raise(\"Encounterd negative Adj R2. Stop.\")\n",
    "        print(\"===============\")\n",
    "        print(\"Current best model: \", selected)\n",
    "        print(\"Current best AdjR2: \", this_adjr2)\n",
    "        if this_adjr2 > best_adjr2:\n",
    "            #print(\" best result updated\")\n",
    "            best_adjr2 = this_adjr2\n",
    "            best_subset = selected\n",
    "        candidates = set(candidates) - set(selected)\n",
    "        candidates = list(candidates)\n",
    "    print(\"best_adjr2 = \", best_adjr2)\n",
    "    print(\"best_subset = \", best_subset)\n",
    "    modelstr = depv + \" ~ \" + \"+\".join(best_subset)\n",
    "    result6b = smf.ols(modelstr, data=input_df).fit()\n",
    "    print(result6b.summary()) \n",
    "    return result6b\n",
    "def objective(x, a, b, c):\n",
    "    return a*x + b*(x**2)+c\n",
    "def Chi_Square_for_Normality(stand_res, N, a): \n",
    "    m = np.mean(stand_res)\n",
    "    s = np.std(stand_res)    \n",
    "    prob_bins = np.zeros((N + 1))\n",
    "    z_bins = np.zeros((N + 1))\n",
    "    z_bins[0] = -4\n",
    "    z_bins[N] = 4\n",
    "    for i in range(0, N+1):\n",
    "        prob_bins[i] = i/N\n",
    "    for j in range(1, N):\n",
    "        z_bins[j] = m + stats.norm.isf(1 - prob_bins[j]) * s\n",
    "    counts, bins = np.histogram(stand_res, bins=z_bins)\n",
    "    nobs = counts.sum()\n",
    "    prob_e = np.zeros((N))\n",
    "    for i in range(1, N+1):\n",
    "        prob_e[i - 1] = prob_bins[i] - prob_bins[i - 1]\n",
    "    freq_e = nobs * prob_e\n",
    "    freq_o = counts\n",
    "    if np.sum(freq_e < 5) > 0:\n",
    "        print(\"Rule of five is not met. \")\n",
    "    else:\n",
    "        chi_stat, pval = stats.chisquare(freq_o, freq_e)\n",
    "        chi_pval = stats.chi2.sf(chi_stat, N - 3)\n",
    "        print(\"Chi-squared test: statistics = %0.4f, p-value = %0.4f\" % (chi_stat, chi_pval))\n",
    "    df = freq_o.shape[0]-3\n",
    "    crit_value = stats.chi2.ppf(1 - a, df)\n",
    "    print(\"Critical value = %0.4f (defree of freedom = %d)\" % (crit_value, df))\n",
    "    if crit_value > 0.05:\n",
    "        print('\\nSince p-value > 0.05, we do not reject H0 and we may conclude errors are normally distributed.')\n",
    "    else:\n",
    "        print('\\nSince p-value < 0.05, we reject H0 and conclude errors are not normally distributed.')\n",
    "    return chi_pval"
   ]
  },
  {
   "cell_type": "markdown",
   "metadata": {},
   "source": [
    "<div style=\"background-color:#D9D9D9;\"><font size=\"5\"> 18.5</font></div>"
   ]
  },
  {
   "cell_type": "markdown",
   "metadata": {},
   "source": [
    "Xr18-05 A person starting a new job always takes a certain amount of time to \n",
    "adjust fully. In repetitive-task situations, such as on an assembly line, significant \n",
    "productivity gains can occur within a few days. In an experiment to study this \n",
    "phenomenon, the average amount of time required for a new employee to install \n",
    "electronic components in a computer was measured for her first 10 days. These \n",
    "data are shown here.<br>\n",
    "A first-order model and a second-order model were proposed.<br>\n",
    "a. Write the equation for each model.<br>\n",
    "b. Analyze both models. Determine whether they are valid.<br>\n",
    "c. Which model fits better? Explain<br>"
   ]
  },
  {
   "cell_type": "code",
   "execution_count": 13,
   "metadata": {
    "scrolled": true
   },
   "outputs": [
    {
     "data": {
      "text/html": [
       "<div>\n",
       "<style scoped>\n",
       "    .dataframe tbody tr th:only-of-type {\n",
       "        vertical-align: middle;\n",
       "    }\n",
       "\n",
       "    .dataframe tbody tr th {\n",
       "        vertical-align: top;\n",
       "    }\n",
       "\n",
       "    .dataframe thead th {\n",
       "        text-align: right;\n",
       "    }\n",
       "</style>\n",
       "<table border=\"1\" class=\"dataframe\">\n",
       "  <thead>\n",
       "    <tr style=\"text-align: right;\">\n",
       "      <th></th>\n",
       "      <th>Time</th>\n",
       "      <th>Day</th>\n",
       "    </tr>\n",
       "  </thead>\n",
       "  <tbody>\n",
       "    <tr>\n",
       "      <th>0</th>\n",
       "      <td>40</td>\n",
       "      <td>1</td>\n",
       "    </tr>\n",
       "    <tr>\n",
       "      <th>1</th>\n",
       "      <td>41</td>\n",
       "      <td>2</td>\n",
       "    </tr>\n",
       "    <tr>\n",
       "      <th>2</th>\n",
       "      <td>36</td>\n",
       "      <td>3</td>\n",
       "    </tr>\n",
       "    <tr>\n",
       "      <th>3</th>\n",
       "      <td>38</td>\n",
       "      <td>4</td>\n",
       "    </tr>\n",
       "    <tr>\n",
       "      <th>4</th>\n",
       "      <td>33</td>\n",
       "      <td>5</td>\n",
       "    </tr>\n",
       "  </tbody>\n",
       "</table>\n",
       "</div>"
      ],
      "text/plain": [
       "   Time  Day\n",
       "0    40    1\n",
       "1    41    2\n",
       "2    36    3\n",
       "3    38    4\n",
       "4    33    5"
      ]
     },
     "metadata": {},
     "output_type": "display_data"
    }
   ],
   "source": [
    "df1 = pd.read_excel('Xr18-05.xlsx')\n",
    "display(df1.head())"
   ]
  },
  {
   "cell_type": "markdown",
   "metadata": {},
   "source": [
    "### first-order model"
   ]
  },
  {
   "cell_type": "code",
   "execution_count": 14,
   "metadata": {},
   "outputs": [
    {
     "data": {
      "image/png": "[encoded data removed]",
      "text/plain": [
       "<Figure size 480x320 with 1 Axes>"
      ]
     },
     "metadata": {
      "needs_background": "light"
     },
     "output_type": "display_data"
    }
   ],
   "source": [
    "y_var = df1['Time'].values\n",
    "xnames =['Day']\n",
    "for aname in xnames:\n",
    "    x_var = df1[aname].values\n",
    "    _ = sns.regplot(x = x_var, y = y_var, data = df1, color = 'b', ci = None)\n",
    "    plt.title('Scatter Plot')\n",
    "    plt.xlabel(aname)\n",
    "    plt.ylabel('Time')\n",
    "    plt.show()"
   ]
  },
  {
   "cell_type": "code",
   "execution_count": 15,
   "metadata": {
    "scrolled": true
   },
   "outputs": [
    {
     "name": "stdout",
     "output_type": "stream",
     "text": [
      "                            OLS Regression Results                            \n",
      "==============================================================================\n",
      "Dep. Variable:                   Time   R-squared:                       0.850\n",
      "Model:                            OLS   Adj. R-squared:                  0.832\n",
      "Method:                 Least Squares   F-statistic:                     45.48\n",
      "Date:                Wed, 11 May 2022   Prob (F-statistic):           0.000146\n",
      "Time:                        10:16:24   Log-Likelihood:                -18.882\n",
      "No. Observations:                  10   AIC:                             41.76\n",
      "Df Residuals:                       8   BIC:                             42.37\n",
      "Df Model:                           1                                         \n",
      "Covariance Type:            nonrobust                                         \n",
      "==============================================================================\n",
      "                 coef    std err          t      P>|t|      [0.025      0.975]\n",
      "------------------------------------------------------------------------------\n",
      "const         41.4000      1.221     33.902      0.000      38.584      44.216\n",
      "Day           -1.3273      0.197     -6.744      0.000      -1.781      -0.873\n",
      "==============================================================================\n",
      "Omnibus:                        3.918   Durbin-Watson:                   2.477\n",
      "Prob(Omnibus):                  0.141   Jarque-Bera (JB):                1.104\n",
      "Skew:                           0.147   Prob(JB):                        0.576\n",
      "Kurtosis:                       1.399   Cond. No.                         13.7\n",
      "==============================================================================\n",
      "\n",
      "Notes:\n",
      "[1] Standard Errors assume that the covariance matrix of the errors is correctly specified.\n"
     ]
    },
    {
     "name": "stderr",
     "output_type": "stream",
     "text": [
      "/opt/anaconda3/lib/python3.8/site-packages/scipy/stats/stats.py:1603: UserWarning: kurtosistest only valid for n>=20 ... continuing anyway, n=10\n",
      "  warnings.warn(\"kurtosistest only valid for n>=20 ... continuing \"\n"
     ]
    }
   ],
   "source": [
    "y_data = df1['Time']\n",
    "X_data_ar = np.array([df1['Day']])\n",
    "X_data_T = X_data_ar.T\n",
    "X_data = pd.DataFrame(X_data_T,columns = ['Day'])\n",
    "X_data2 = sm.add_constant(X_data)\n",
    "olsmod = sm.OLS(y_data, X_data2)\n",
    "result_reg = olsmod.fit()\n",
    "print(result_reg.summary())"
   ]
  },
  {
   "cell_type": "code",
   "execution_count": null,
   "metadata": {},
   "outputs": [],
   "source": [
    "y_var = df1['Time'].values\n",
    "xnames = ['Day']\n",
    "for aname in xnames:\n",
    "    x_var = df1[aname].values\n",
    "    popt, _ = curve_fit(objective, x_var, y_var)\n",
    "    print(popt)\n",
    "    a, b, c = popt\n",
    "    print('y = %.5f * x + %.5f * x^2 + %.5f' % (a, b, c))\n",
    "    plt.scatter(x_var, y_var)\n",
    "    x_line = np.arange(min(x_var), max(x_var), 1)\n",
    "    y_line = objective(x_line, a, b, c)\n",
    "    plt.plot(x_line, y_line, '--', color='red')\n",
    "    plt.xlabel(aname)\n",
    "    plt.ylabel('Time')\n",
    "    plt.show()\n"
   ]
  },
  {
   "cell_type": "code",
   "execution_count": null,
   "metadata": {},
   "outputs": [],
   "source": [
    "dep_var = df1['Time']\n",
    "indep_var = df1[['Day']]\n",
    "#Change the names so that we will not get confused\n",
    "indep_var.columns = ['day_std']\n",
    "indep_mean = indep_var.mean()\n",
    "#indep_var = indep_var - indep_mean\n",
    "indep_var['day_std2'] = indep_var['day_std'] ** 2\n",
    "#indep_var['age_std2'] = indep_var['age_std'] ** 2\n",
    "#indep_var['inc_age_std'] = indep_var['inc_std'] * indep_var['age_std’]\n",
    "df1b = indep_var.copy()\n",
    "df1b.insert(0, 'Time', dep_var)\n",
    "df1b.head()\n"
   ]
  },
  {
   "cell_type": "code",
   "execution_count": null,
   "metadata": {},
   "outputs": [],
   "source": [
    "corr2c = df1b.corr()\n",
    "_ = sns.heatmap(corr2c, annot=True)\n",
    "\n",
    "y_data_b = df1b['Time']\n",
    "X_data_ar_b = np.array([df1b['day_std'], df1b['day_std2']])\n",
    "X_data_b_T = X_data_ar_b.T\n",
    "X_data_b = pd.DataFrame(X_data_b_T, columns = ['day_std', 'day_std2'])\n",
    "X_data_b = sm.add_constant(X_data_b)\n",
    "olsmod_b = sm.OLS(y_data_b, X_data_b)\n",
    "result_reg_b = olsmod_b.fit()\n",
    "print(result_reg_b.summary())\n"
   ]
  },
  {
   "cell_type": "markdown",
   "metadata": {},
   "source": [
    "因為F-test reject H0, 但沒有自變數reject t-test的H0, 故有 multicollinearity<br>\n",
    "做Data Transformation"
   ]
  },
  {
   "cell_type": "code",
   "execution_count": null,
   "metadata": {},
   "outputs": [],
   "source": [
    "# 做Data Transformation\n",
    "dep_var = df1['Time']\n",
    "indep_var = df1[['Day']]\n",
    "#Change the names so that we will not get confused\n",
    "indep_var.columns = ['day_std']\n",
    "indep_mean = indep_var.mean()\n",
    "indep_var = indep_var - indep_mean\n",
    "indep_var['day_std2'] = indep_var['day_std'] ** 2\n",
    "#indep_var['age_std2'] = indep_var['age_std'] ** 2\n",
    "#indep_var['inc_age_std'] = indep_var['inc_std'] * indep_var['age_std’]\n",
    "df1b = indep_var.copy()\n",
    "df1b.insert(0, 'Time', dep_var)\n",
    "df1b.head()\n"
   ]
  },
  {
   "cell_type": "code",
   "execution_count": null,
   "metadata": {
    "scrolled": true
   },
   "outputs": [],
   "source": [
    "corr2c = df1b.corr()\n",
    "_ = sns.heatmap(corr2c, annot=True)\n",
    "\n",
    "y_data_b = df1b['Time']\n",
    "X_data_ar_b = np.array([df1b['day_std'], df1b['day_std2']])\n",
    "X_data_b_T = X_data_ar_b.T\n",
    "X_data_b = pd.DataFrame(X_data_b_T, columns = ['day_std', 'day_std2'])\n",
    "X_data_b = sm.add_constant(X_data_b)\n",
    "olsmod_b = sm.OLS(y_data_b, X_data_b)\n",
    "result_reg_b = olsmod_b.fit()\n",
    "print(result_reg_b.summary())\n"
   ]
  },
  {
   "cell_type": "markdown",
   "metadata": {},
   "source": [
    "### (a)\n",
    "First-order: 41.4 - 1.3273 Day <br>\n",
    "Second-order:  33.2250 - 1.3273 Day + 0.1061 Day^2"
   ]
  },
  {
   "cell_type": "markdown",
   "metadata": {},
   "source": [
    "### (b)\n",
    "first-order: <br>\n",
    "H0: beta_1 = 0<br>\n",
    "H1: At least one of the betas != 0<br>\n",
    "\n",
    "second-order: <br>\n",
    "H0: beta_1 = beta_2 = 0<br>\n",
    "H1: At least one of the betas != 0<br>\n",
    "\n",
    "From the OLS table<br>\n",
    "both of them p-value for F-test < 0.05, we can reject H0.<br>\n",
    "There is enough evidence to conclude that the model is valid."
   ]
  },
  {
   "cell_type": "markdown",
   "metadata": {},
   "source": [
    "### (c)\n",
    "The second-order model is better because of its  Adj. R-squared > the first-order's."
   ]
  },
  {
   "cell_type": "markdown",
   "metadata": {},
   "source": [
    "<div style=\"background-color:#D9D9D9;\"><font size=\"5\"> 18.7</font></div>\n",
    "7 Xr18-07 The manager of the food concession at a \n",
    "major league baseball stadium wanted to be able to \n",
    "predict the attendance of a game 24 hours in advance \n",
    "to prepare the correct amount of food for sale. He \n",
    "believed that the two most important factors were \n",
    "the home team’s winning percentage and the visiting \n",
    "team’s winning percentage. In order to examine his beliefs, he collected the attendance figures, the \n",
    "home team’s winning percentage, and the visiting \n",
    "team’s winning percentage for 40 randomly selected \n",
    "games from all the teams in the league.<br>\n",
    "a. Conduct a regression analysis using a first-order \n",
    "model with interaction.<br>\n",
    "b. Do these results indicate that your model is \n",
    "valid? Explain"
   ]
  },
  {
   "cell_type": "code",
   "execution_count": null,
   "metadata": {},
   "outputs": [],
   "source": [
    "# 讀取資料集\n",
    "df1 = pd.read_excel('../data/Xr18-07.xlsx')\n",
    "\n",
    "# 簡單看一下資料集的樣子\n",
    "# 如果這是你第一次使用這個資料集，使用Excel開啟資料集，\n",
    "# 並確認程式讀到的跟你在Excel中看到的一樣\n",
    "\n",
    "print('Head of dataset:')\n",
    "display(df1.head())\n",
    "\n",
    "print(\"Tail of dataset:\")\n",
    "display(df1.tail())"
   ]
  },
  {
   "cell_type": "code",
   "execution_count": null,
   "metadata": {},
   "outputs": [],
   "source": [
    "dep_var = df1['Attendance']\n",
    "indep_var = df1[['Home %', 'Visiting %']]\n",
    "#Change the names so that we will not get confused\n",
    "indep_var.columns = ['home_std', 'vis_std']\n",
    "indep_mean = indep_var.mean()\n",
    "#indep_var = indep_var - indep_mean\n",
    "#indep_var['day_std2'] = indep_var['day_std'] ** 2\n",
    "#indep_var['age_std2'] = indep_var['age_std'] ** 2\n",
    "indep_var['home_vis_std'] = indep_var['home_std'] * indep_var['vis_std']\n",
    "df1b = indep_var.copy()\n",
    "df1b.insert(0, 'Att', dep_var)\n",
    "df1b.head()\n"
   ]
  },
  {
   "cell_type": "code",
   "execution_count": 6,
   "metadata": {},
   "outputs": [
    {
     "ename": "NameError",
     "evalue": "name 'df1b' is not defined",
     "output_type": "error",
     "traceback": [
      "\u001b[0;31m---------------------------------------------------------------------------\u001b[0m",
      "\u001b[0;31mNameError\u001b[0m                                 Traceback (most recent call last)",
      "\u001b[0;32m<ipython-input-6-183c132be34f>\u001b[0m in \u001b[0;36m<module>\u001b[0;34m\u001b[0m\n\u001b[0;32m----> 1\u001b[0;31m \u001b[0mcorr2c\u001b[0m \u001b[0;34m=\u001b[0m \u001b[0mdf1b\u001b[0m\u001b[0;34m.\u001b[0m\u001b[0mcorr\u001b[0m\u001b[0;34m(\u001b[0m\u001b[0;34m)\u001b[0m\u001b[0;34m\u001b[0m\u001b[0;34m\u001b[0m\u001b[0m\n\u001b[0m\u001b[1;32m      2\u001b[0m \u001b[0m_\u001b[0m \u001b[0;34m=\u001b[0m \u001b[0msns\u001b[0m\u001b[0;34m.\u001b[0m\u001b[0mheatmap\u001b[0m\u001b[0;34m(\u001b[0m\u001b[0mcorr2c\u001b[0m\u001b[0;34m,\u001b[0m \u001b[0mannot\u001b[0m\u001b[0;34m=\u001b[0m\u001b[0;32mTrue\u001b[0m\u001b[0;34m)\u001b[0m\u001b[0;34m\u001b[0m\u001b[0;34m\u001b[0m\u001b[0m\n\u001b[1;32m      3\u001b[0m \u001b[0;34m\u001b[0m\u001b[0m\n\u001b[1;32m      4\u001b[0m \u001b[0my_data_b\u001b[0m \u001b[0;34m=\u001b[0m \u001b[0mdf1b\u001b[0m\u001b[0;34m[\u001b[0m\u001b[0;34m'Att'\u001b[0m\u001b[0;34m]\u001b[0m\u001b[0;34m\u001b[0m\u001b[0;34m\u001b[0m\u001b[0m\n\u001b[1;32m      5\u001b[0m \u001b[0mX_data_ar_b\u001b[0m \u001b[0;34m=\u001b[0m \u001b[0mnp\u001b[0m\u001b[0;34m.\u001b[0m\u001b[0marray\u001b[0m\u001b[0;34m(\u001b[0m\u001b[0;34m[\u001b[0m\u001b[0mdf1b\u001b[0m\u001b[0;34m[\u001b[0m\u001b[0;34m'home_std'\u001b[0m\u001b[0;34m]\u001b[0m\u001b[0;34m,\u001b[0m \u001b[0mdf1b\u001b[0m\u001b[0;34m[\u001b[0m\u001b[0;34m'vis_std'\u001b[0m\u001b[0;34m]\u001b[0m\u001b[0;34m,\u001b[0m \u001b[0mdf1b\u001b[0m\u001b[0;34m[\u001b[0m\u001b[0;34m'home_vis_std'\u001b[0m\u001b[0;34m]\u001b[0m\u001b[0;34m]\u001b[0m\u001b[0;34m)\u001b[0m\u001b[0;34m\u001b[0m\u001b[0;34m\u001b[0m\u001b[0m\n",
      "\u001b[0;31mNameError\u001b[0m: name 'df1b' is not defined"
     ]
    }
   ],
   "source": [
    "corr2c = df1b.corr()\n",
    "_ = sns.heatmap(corr2c, annot=True)\n",
    "\n",
    "y_data_b = df1b['Att']\n",
    "X_data_ar_b = np.array([df1b['home_std'], df1b['vis_std'], df1b['home_vis_std']])\n",
    "X_data_b_T = X_data_ar_b.T\n",
    "X_data_b = pd.DataFrame(X_data_b_T, columns = ['home_std', 'vis_std', 'home_vis_std'])\n",
    "X_data_b = sm.add_constant(X_data_b)\n",
    "olsmod_b = sm.OLS(y_data_b, X_data_b)\n",
    "result_reg_b = olsmod_b.fit()\n",
    "print(result_reg_b.summary())\n"
   ]
  },
  {
   "cell_type": "markdown",
   "metadata": {},
   "source": [
    "因為F-test reject H0, 但沒有自變數reject t-test的H0, 故有 multicollinearity <br>\n",
    "做Data Transformation"
   ]
  },
  {
   "cell_type": "code",
   "execution_count": 7,
   "metadata": {},
   "outputs": [
    {
     "ename": "NameError",
     "evalue": "name 'df1' is not defined",
     "output_type": "error",
     "traceback": [
      "\u001b[0;31m---------------------------------------------------------------------------\u001b[0m",
      "\u001b[0;31mNameError\u001b[0m                                 Traceback (most recent call last)",
      "\u001b[0;32m<ipython-input-7-66e82af61ace>\u001b[0m in \u001b[0;36m<module>\u001b[0;34m\u001b[0m\n\u001b[1;32m      1\u001b[0m \u001b[0;31m# 做Data Transformation\u001b[0m\u001b[0;34m\u001b[0m\u001b[0;34m\u001b[0m\u001b[0;34m\u001b[0m\u001b[0m\n\u001b[0;32m----> 2\u001b[0;31m \u001b[0mdep_var\u001b[0m \u001b[0;34m=\u001b[0m \u001b[0mdf1\u001b[0m\u001b[0;34m[\u001b[0m\u001b[0;34m'Attendance'\u001b[0m\u001b[0;34m]\u001b[0m\u001b[0;34m\u001b[0m\u001b[0;34m\u001b[0m\u001b[0m\n\u001b[0m\u001b[1;32m      3\u001b[0m \u001b[0mindep_var\u001b[0m \u001b[0;34m=\u001b[0m \u001b[0mdf1\u001b[0m\u001b[0;34m[\u001b[0m\u001b[0;34m[\u001b[0m\u001b[0;34m'Home %'\u001b[0m\u001b[0;34m,\u001b[0m \u001b[0;34m'Visiting %'\u001b[0m\u001b[0;34m]\u001b[0m\u001b[0;34m]\u001b[0m\u001b[0;34m\u001b[0m\u001b[0;34m\u001b[0m\u001b[0m\n\u001b[1;32m      4\u001b[0m \u001b[0;31m#Change the names so that we will not get confused\u001b[0m\u001b[0;34m\u001b[0m\u001b[0;34m\u001b[0m\u001b[0;34m\u001b[0m\u001b[0m\n\u001b[1;32m      5\u001b[0m \u001b[0mindep_var\u001b[0m\u001b[0;34m.\u001b[0m\u001b[0mcolumns\u001b[0m \u001b[0;34m=\u001b[0m \u001b[0;34m[\u001b[0m\u001b[0;34m'home_std'\u001b[0m\u001b[0;34m,\u001b[0m \u001b[0;34m'vis_std'\u001b[0m\u001b[0;34m]\u001b[0m\u001b[0;34m\u001b[0m\u001b[0;34m\u001b[0m\u001b[0m\n",
      "\u001b[0;31mNameError\u001b[0m: name 'df1' is not defined"
     ]
    }
   ],
   "source": [
    "# 做Data Transformation\n",
    "dep_var = df1['Attendance']\n",
    "indep_var = df1[['Home %', 'Visiting %']]\n",
    "#Change the names so that we will not get confused\n",
    "indep_var.columns = ['home_std', 'vis_std']\n",
    "indep_mean = indep_var.mean()\n",
    "indep_var = indep_var - indep_mean\n",
    "#indep_var['day_std2'] = indep_var['day_std'] ** 2\n",
    "#indep_var['age_std2'] = indep_var['age_std'] ** 2\n",
    "indep_var['home_vis_std'] = indep_var['home_std'] * indep_var['vis_std']\n",
    "df1b = indep_var.copy()\n",
    "df1b.insert(0, 'Att', dep_var)\n",
    "df1b.head()\n"
   ]
  },
  {
   "cell_type": "code",
   "execution_count": 8,
   "metadata": {},
   "outputs": [
    {
     "ename": "NameError",
     "evalue": "name 'df1b' is not defined",
     "output_type": "error",
     "traceback": [
      "\u001b[0;31m---------------------------------------------------------------------------\u001b[0m",
      "\u001b[0;31mNameError\u001b[0m                                 Traceback (most recent call last)",
      "\u001b[0;32m<ipython-input-8-64a03bcb403f>\u001b[0m in \u001b[0;36m<module>\u001b[0;34m\u001b[0m\n\u001b[0;32m----> 1\u001b[0;31m \u001b[0my_var\u001b[0m \u001b[0;34m=\u001b[0m \u001b[0mdf1b\u001b[0m\u001b[0;34m[\u001b[0m\u001b[0;34m'Att'\u001b[0m\u001b[0;34m]\u001b[0m\u001b[0;34m.\u001b[0m\u001b[0mvalues\u001b[0m\u001b[0;34m\u001b[0m\u001b[0;34m\u001b[0m\u001b[0m\n\u001b[0m\u001b[1;32m      2\u001b[0m \u001b[0mxnames\u001b[0m \u001b[0;34m=\u001b[0m \u001b[0mdf1b\u001b[0m\u001b[0;34m.\u001b[0m\u001b[0mcolumns\u001b[0m\u001b[0;34m[\u001b[0m\u001b[0;36m1\u001b[0m\u001b[0;34m:\u001b[0m\u001b[0;34m]\u001b[0m\u001b[0;34m\u001b[0m\u001b[0;34m\u001b[0m\u001b[0m\n\u001b[1;32m      3\u001b[0m \u001b[0;32mfor\u001b[0m \u001b[0maname\u001b[0m \u001b[0;32min\u001b[0m \u001b[0mxnames\u001b[0m\u001b[0;34m:\u001b[0m\u001b[0;34m\u001b[0m\u001b[0;34m\u001b[0m\u001b[0m\n\u001b[1;32m      4\u001b[0m     \u001b[0mx_var\u001b[0m \u001b[0;34m=\u001b[0m \u001b[0mdf1b\u001b[0m\u001b[0;34m[\u001b[0m\u001b[0maname\u001b[0m\u001b[0;34m]\u001b[0m\u001b[0;34m.\u001b[0m\u001b[0mvalues\u001b[0m\u001b[0;34m\u001b[0m\u001b[0;34m\u001b[0m\u001b[0m\n\u001b[1;32m      5\u001b[0m     \u001b[0m_\u001b[0m \u001b[0;34m=\u001b[0m \u001b[0msns\u001b[0m\u001b[0;34m.\u001b[0m\u001b[0mregplot\u001b[0m\u001b[0;34m(\u001b[0m\u001b[0mx\u001b[0m \u001b[0;34m=\u001b[0m \u001b[0mx_var\u001b[0m\u001b[0;34m,\u001b[0m \u001b[0my\u001b[0m \u001b[0;34m=\u001b[0m \u001b[0my_var\u001b[0m\u001b[0;34m,\u001b[0m \u001b[0mdata\u001b[0m \u001b[0;34m=\u001b[0m \u001b[0mdf1b\u001b[0m\u001b[0;34m,\u001b[0m \u001b[0mcolor\u001b[0m \u001b[0;34m=\u001b[0m \u001b[0;34m'b'\u001b[0m\u001b[0;34m,\u001b[0m \u001b[0mci\u001b[0m \u001b[0;34m=\u001b[0m \u001b[0;32mNone\u001b[0m\u001b[0;34m)\u001b[0m\u001b[0;34m\u001b[0m\u001b[0;34m\u001b[0m\u001b[0m\n",
      "\u001b[0;31mNameError\u001b[0m: name 'df1b' is not defined"
     ]
    }
   ],
   "source": [
    "y_var = df1b['Att'].values\n",
    "xnames = df1b.columns[1:]\n",
    "for aname in xnames:\n",
    "    x_var = df1b[aname].values\n",
    "    _ = sns.regplot(x = x_var, y = y_var, data = df1b, color = 'b', ci = None)\n",
    "    #_ = plt.plot(x, y, 'o', color = 'b')\n",
    "    plt.xlabel(aname)\n",
    "    plt.ylabel('Test Score')\n",
    "    plt.title('Scatter Plot for Test Score and ' +aname)\n",
    "    plt.show()"
   ]
  },
  {
   "cell_type": "code",
   "execution_count": 9,
   "metadata": {},
   "outputs": [
    {
     "ename": "NameError",
     "evalue": "name 'df1b' is not defined",
     "output_type": "error",
     "traceback": [
      "\u001b[0;31m---------------------------------------------------------------------------\u001b[0m",
      "\u001b[0;31mNameError\u001b[0m                                 Traceback (most recent call last)",
      "\u001b[0;32m<ipython-input-9-183c132be34f>\u001b[0m in \u001b[0;36m<module>\u001b[0;34m\u001b[0m\n\u001b[0;32m----> 1\u001b[0;31m \u001b[0mcorr2c\u001b[0m \u001b[0;34m=\u001b[0m \u001b[0mdf1b\u001b[0m\u001b[0;34m.\u001b[0m\u001b[0mcorr\u001b[0m\u001b[0;34m(\u001b[0m\u001b[0;34m)\u001b[0m\u001b[0;34m\u001b[0m\u001b[0;34m\u001b[0m\u001b[0m\n\u001b[0m\u001b[1;32m      2\u001b[0m \u001b[0m_\u001b[0m \u001b[0;34m=\u001b[0m \u001b[0msns\u001b[0m\u001b[0;34m.\u001b[0m\u001b[0mheatmap\u001b[0m\u001b[0;34m(\u001b[0m\u001b[0mcorr2c\u001b[0m\u001b[0;34m,\u001b[0m \u001b[0mannot\u001b[0m\u001b[0;34m=\u001b[0m\u001b[0;32mTrue\u001b[0m\u001b[0;34m)\u001b[0m\u001b[0;34m\u001b[0m\u001b[0;34m\u001b[0m\u001b[0m\n\u001b[1;32m      3\u001b[0m \u001b[0;34m\u001b[0m\u001b[0m\n\u001b[1;32m      4\u001b[0m \u001b[0my_data_b\u001b[0m \u001b[0;34m=\u001b[0m \u001b[0mdf1b\u001b[0m\u001b[0;34m[\u001b[0m\u001b[0;34m'Att'\u001b[0m\u001b[0;34m]\u001b[0m\u001b[0;34m\u001b[0m\u001b[0;34m\u001b[0m\u001b[0m\n\u001b[1;32m      5\u001b[0m \u001b[0mX_data_ar_b\u001b[0m \u001b[0;34m=\u001b[0m \u001b[0mnp\u001b[0m\u001b[0;34m.\u001b[0m\u001b[0marray\u001b[0m\u001b[0;34m(\u001b[0m\u001b[0;34m[\u001b[0m\u001b[0mdf1b\u001b[0m\u001b[0;34m[\u001b[0m\u001b[0;34m'home_std'\u001b[0m\u001b[0;34m]\u001b[0m\u001b[0;34m,\u001b[0m \u001b[0mdf1b\u001b[0m\u001b[0;34m[\u001b[0m\u001b[0;34m'vis_std'\u001b[0m\u001b[0;34m]\u001b[0m\u001b[0;34m,\u001b[0m \u001b[0mdf1b\u001b[0m\u001b[0;34m[\u001b[0m\u001b[0;34m'home_vis_std'\u001b[0m\u001b[0;34m]\u001b[0m\u001b[0;34m]\u001b[0m\u001b[0;34m)\u001b[0m\u001b[0;34m\u001b[0m\u001b[0;34m\u001b[0m\u001b[0m\n",
      "\u001b[0;31mNameError\u001b[0m: name 'df1b' is not defined"
     ]
    }
   ],
   "source": [
    "corr2c = df1b.corr()\n",
    "_ = sns.heatmap(corr2c, annot=True)\n",
    "\n",
    "y_data_b = df1b['Att']\n",
    "X_data_ar_b = np.array([df1b['home_std'], df1b['vis_std'], df1b['home_vis_std']])\n",
    "X_data_b_T = X_data_ar_b.T\n",
    "X_data_b = pd.DataFrame(X_data_b_T, columns = ['home_std', 'vis_std', 'home_vis_std'])\n",
    "X_data_b = sm.add_constant(X_data_b)\n",
    "olsmod_b = sm.OLS(y_data_b, X_data_b)\n",
    "result_reg_b = olsmod_b.fit()\n",
    "print(result_reg_b.summary())\n"
   ]
  },
  {
   "cell_type": "markdown",
   "metadata": {},
   "source": [
    "因為F-test reject H0, 但有自變數reject t-test的H0, 故沒有 multicollinearity<br>\n",
    "### (a)\n",
    "regression: 3.445e+04 + 1.251e+05 home_std + 1.336e+05 vis_std + 5.32e+04 home_vis_std "
   ]
  },
  {
   "cell_type": "code",
   "execution_count": 10,
   "metadata": {},
   "outputs": [
    {
     "ename": "NameError",
     "evalue": "name 'result_reg_b' is not defined",
     "output_type": "error",
     "traceback": [
      "\u001b[0;31m---------------------------------------------------------------------------\u001b[0m",
      "\u001b[0;31mNameError\u001b[0m                                 Traceback (most recent call last)",
      "\u001b[0;32m<ipython-input-10-b39479a4d7f2>\u001b[0m in \u001b[0;36m<module>\u001b[0;34m\u001b[0m\n\u001b[0;32m----> 1\u001b[0;31m \u001b[0mA\u001b[0m \u001b[0;34m=\u001b[0m \u001b[0mnp\u001b[0m\u001b[0;34m.\u001b[0m\u001b[0midentity\u001b[0m\u001b[0;34m(\u001b[0m\u001b[0mlen\u001b[0m\u001b[0;34m(\u001b[0m\u001b[0mresult_reg_b\u001b[0m\u001b[0;34m.\u001b[0m\u001b[0mparams\u001b[0m\u001b[0;34m)\u001b[0m\u001b[0;34m)\u001b[0m\u001b[0;34m\u001b[0m\u001b[0;34m\u001b[0m\u001b[0m\n\u001b[0m\u001b[1;32m      2\u001b[0m \u001b[0mA\u001b[0m \u001b[0;34m=\u001b[0m \u001b[0mA\u001b[0m\u001b[0;34m[\u001b[0m\u001b[0;36m1\u001b[0m\u001b[0;34m:\u001b[0m\u001b[0;34m,\u001b[0m\u001b[0;34m:\u001b[0m\u001b[0;34m]\u001b[0m\u001b[0;34m\u001b[0m\u001b[0;34m\u001b[0m\u001b[0m\n\u001b[1;32m      3\u001b[0m \u001b[0mprint\u001b[0m\u001b[0;34m(\u001b[0m\u001b[0;34m\"F test = \"\u001b[0m\u001b[0;34m,\u001b[0m \u001b[0mresult_reg_b\u001b[0m\u001b[0;34m.\u001b[0m\u001b[0mf_test\u001b[0m\u001b[0;34m(\u001b[0m\u001b[0mA\u001b[0m\u001b[0;34m)\u001b[0m\u001b[0;34m)\u001b[0m\u001b[0;34m\u001b[0m\u001b[0;34m\u001b[0m\u001b[0m\n",
      "\u001b[0;31mNameError\u001b[0m: name 'result_reg_b' is not defined"
     ]
    }
   ],
   "source": [
    "A = np.identity(len(result_reg_b.params))\n",
    "A = A[1:,:]\n",
    "print(\"F test = \", result_reg_b.f_test(A))"
   ]
  },
  {
   "cell_type": "markdown",
   "metadata": {},
   "source": [
    "### (b)\n",
    "Since p-value = 0 < alpha = 0.05, we can reject H0.<br>\n",
    "There is enough evidence to conclude that the model is valid."
   ]
  },
  {
   "cell_type": "markdown",
   "metadata": {},
   "source": [
    "<div style=\"background-color:#D9D9D9;\"><font size=\"5\"> 18.19</font></div>\n",
    "Xr17-12* Refer to Exercise 17.12 where the \n",
    "amount of time to unload a truck was analyzed. The \n",
    "manager realized that another variable, the time of \n",
    "day, may affect unloading time. He recorded the \n",
    "following codes: 1 = morning, 2 = early afternoon, \n",
    "and 3 = late afternoon.\n",
    "\n",
    "a. Run a regression using the codes for time of day.\n",
    "\n",
    "b. Create indicator variables to represent time of \n",
    "day. Perform a regression analysis with these \n",
    "new variables.\n",
    "\n",
    "c. Which model fits better? Explain.\n",
    "\n",
    "d. Is time of day related to time to unload\n"
   ]
  },
  {
   "cell_type": "code",
   "execution_count": 66,
   "metadata": {},
   "outputs": [
    {
     "name": "stdout",
     "output_type": "stream",
     "text": [
      "Head of dataset:\n"
     ]
    },
    {
     "data": {
      "text/html": [
       "<div>\n",
       "<style scoped>\n",
       "    .dataframe tbody tr th:only-of-type {\n",
       "        vertical-align: middle;\n",
       "    }\n",
       "\n",
       "    .dataframe tbody tr th {\n",
       "        vertical-align: top;\n",
       "    }\n",
       "\n",
       "    .dataframe thead th {\n",
       "        text-align: right;\n",
       "    }\n",
       "</style>\n",
       "<table border=\"1\" class=\"dataframe\">\n",
       "  <thead>\n",
       "    <tr style=\"text-align: right;\">\n",
       "      <th></th>\n",
       "      <th>Time</th>\n",
       "      <th>Boxes</th>\n",
       "      <th>Weight</th>\n",
       "      <th>Codes</th>\n",
       "    </tr>\n",
       "  </thead>\n",
       "  <tbody>\n",
       "    <tr>\n",
       "      <th>0</th>\n",
       "      <td>62</td>\n",
       "      <td>126</td>\n",
       "      <td>36.05</td>\n",
       "      <td>3</td>\n",
       "    </tr>\n",
       "    <tr>\n",
       "      <th>1</th>\n",
       "      <td>77</td>\n",
       "      <td>154</td>\n",
       "      <td>22.94</td>\n",
       "      <td>2</td>\n",
       "    </tr>\n",
       "    <tr>\n",
       "      <th>2</th>\n",
       "      <td>39</td>\n",
       "      <td>96</td>\n",
       "      <td>24.86</td>\n",
       "      <td>3</td>\n",
       "    </tr>\n",
       "    <tr>\n",
       "      <th>3</th>\n",
       "      <td>52</td>\n",
       "      <td>127</td>\n",
       "      <td>30.54</td>\n",
       "      <td>1</td>\n",
       "    </tr>\n",
       "    <tr>\n",
       "      <th>4</th>\n",
       "      <td>79</td>\n",
       "      <td>151</td>\n",
       "      <td>35.57</td>\n",
       "      <td>2</td>\n",
       "    </tr>\n",
       "  </tbody>\n",
       "</table>\n",
       "</div>"
      ],
      "text/plain": [
       "   Time  Boxes  Weight  Codes\n",
       "0    62    126   36.05      3\n",
       "1    77    154   22.94      2\n",
       "2    39     96   24.86      3\n",
       "3    52    127   30.54      1\n",
       "4    79    151   35.57      2"
      ]
     },
     "metadata": {},
     "output_type": "display_data"
    },
    {
     "name": "stdout",
     "output_type": "stream",
     "text": [
      "Tail of dataset:\n"
     ]
    },
    {
     "data": {
      "text/html": [
       "<div>\n",
       "<style scoped>\n",
       "    .dataframe tbody tr th:only-of-type {\n",
       "        vertical-align: middle;\n",
       "    }\n",
       "\n",
       "    .dataframe tbody tr th {\n",
       "        vertical-align: top;\n",
       "    }\n",
       "\n",
       "    .dataframe thead th {\n",
       "        text-align: right;\n",
       "    }\n",
       "</style>\n",
       "<table border=\"1\" class=\"dataframe\">\n",
       "  <thead>\n",
       "    <tr style=\"text-align: right;\">\n",
       "      <th></th>\n",
       "      <th>Time</th>\n",
       "      <th>Boxes</th>\n",
       "      <th>Weight</th>\n",
       "      <th>Codes</th>\n",
       "    </tr>\n",
       "  </thead>\n",
       "  <tbody>\n",
       "    <tr>\n",
       "      <th>45</th>\n",
       "      <td>36</td>\n",
       "      <td>101</td>\n",
       "      <td>14.86</td>\n",
       "      <td>1</td>\n",
       "    </tr>\n",
       "    <tr>\n",
       "      <th>46</th>\n",
       "      <td>77</td>\n",
       "      <td>150</td>\n",
       "      <td>50.02</td>\n",
       "      <td>1</td>\n",
       "    </tr>\n",
       "    <tr>\n",
       "      <th>47</th>\n",
       "      <td>63</td>\n",
       "      <td>146</td>\n",
       "      <td>40.83</td>\n",
       "      <td>1</td>\n",
       "    </tr>\n",
       "    <tr>\n",
       "      <th>48</th>\n",
       "      <td>50</td>\n",
       "      <td>137</td>\n",
       "      <td>7.50</td>\n",
       "      <td>1</td>\n",
       "    </tr>\n",
       "    <tr>\n",
       "      <th>49</th>\n",
       "      <td>59</td>\n",
       "      <td>140</td>\n",
       "      <td>17.30</td>\n",
       "      <td>1</td>\n",
       "    </tr>\n",
       "  </tbody>\n",
       "</table>\n",
       "</div>"
      ],
      "text/plain": [
       "    Time  Boxes  Weight  Codes\n",
       "45    36    101   14.86      1\n",
       "46    77    150   50.02      1\n",
       "47    63    146   40.83      1\n",
       "48    50    137    7.50      1\n",
       "49    59    140   17.30      1"
      ]
     },
     "metadata": {},
     "output_type": "display_data"
    }
   ],
   "source": [
    "# 讀取資料集\n",
    "df1 = pd.read_excel('../data/Xr17-12.xlsx')\n",
    "\n",
    "# 簡單看一下資料集的樣子\n",
    "# 如果這是你第一次使用這個資料集，使用Excel開啟資料集，\n",
    "# 並確認程式讀到的跟你在Excel中看到的一樣\n",
    "\n",
    "print('Head of dataset:')\n",
    "display(df1.head())\n",
    "\n",
    "print(\"Tail of dataset:\")\n",
    "display(df1.tail())"
   ]
  },
  {
   "cell_type": "code",
   "execution_count": 71,
   "metadata": {},
   "outputs": [
    {
     "data": {
      "image/png": "[encoded data removed]",
      "text/plain": [
       "<Figure size 480x320 with 1 Axes>"
      ]
     },
     "metadata": {
      "needs_background": "light"
     },
     "output_type": "display_data"
    },
    {
     "data": {
      "image/png": "[encoded data removed]",
      "text/plain": [
       "<Figure size 480x320 with 1 Axes>"
      ]
     },
     "metadata": {
      "needs_background": "light"
     },
     "output_type": "display_data"
    },
    {
     "data": {
      "image/png": "[encoded data removed]",
      "text/plain": [
       "<Figure size 480x320 with 1 Axes>"
      ]
     },
     "metadata": {
      "needs_background": "light"
     },
     "output_type": "display_data"
    }
   ],
   "source": [
    "y_var = df1['Time'].values\n",
    "xnames = df1.columns[1:]\n",
    "for aname in xnames:\n",
    "    x_var = df1[aname].values\n",
    "    _ = sns.regplot(x = x_var, y = y_var, data = df1b, color = 'b', ci = None)\n",
    "    #_ = plt.plot(x, y, 'o', color = 'b')\n",
    "    plt.xlabel(aname)\n",
    "    plt.ylabel('Test Score')\n",
    "    plt.title('Scatter Plot for Test Score and ' +aname)\n",
    "    plt.show()"
   ]
  },
  {
   "cell_type": "code",
   "execution_count": 73,
   "metadata": {},
   "outputs": [
    {
     "name": "stdout",
     "output_type": "stream",
     "text": [
      "                            OLS Regression Results                            \n",
      "==============================================================================\n",
      "Dep. Variable:                   Time   R-squared:                       0.853\n",
      "Model:                            OLS   Adj. R-squared:                  0.843\n",
      "Method:                 Least Squares   F-statistic:                     88.64\n",
      "Date:                Sun, 08 May 2022   Prob (F-statistic):           3.87e-19\n",
      "Time:                        17:42:19   Log-Likelihood:                -160.48\n",
      "No. Observations:                  50   AIC:                             329.0\n",
      "Df Residuals:                      46   BIC:                             336.6\n",
      "Df Model:                           3                                         \n",
      "Covariance Type:            nonrobust                                         \n",
      "==============================================================================\n",
      "                 coef    std err          t      P>|t|      [0.025      0.975]\n",
      "------------------------------------------------------------------------------\n",
      "const        -41.4221      7.000     -5.917      0.000     -55.513     -27.331\n",
      "Boxes          0.6441      0.050     12.791      0.000       0.543       0.746\n",
      "Weight         0.3495      0.075      4.651      0.000       0.198       0.501\n",
      "Codes          4.5427      1.208      3.761      0.000       2.111       6.974\n",
      "==============================================================================\n",
      "Omnibus:                        0.859   Durbin-Watson:                   1.883\n",
      "Prob(Omnibus):                  0.651   Jarque-Bera (JB):                0.736\n",
      "Skew:                           0.288   Prob(JB):                        0.692\n",
      "Kurtosis:                       2.850   Cond. No.                     1.08e+03\n",
      "==============================================================================\n",
      "\n",
      "Notes:\n",
      "[1] Standard Errors assume that the covariance matrix of the errors is correctly specified.\n",
      "[2] The condition number is large, 1.08e+03. This might indicate that there are\n",
      "strong multicollinearity or other numerical problems.\n"
     ]
    }
   ],
   "source": [
    "y_data_b = df1['Time']\n",
    "X_data_ar_b = np.array([df1['Boxes'], df1['Weight'], df1['Codes']])\n",
    "X_data_b_T = X_data_ar_b.T\n",
    "X_data_b = pd.DataFrame(X_data_b_T, columns = ['Boxes', 'Weight', 'Codes'])\n",
    "X_data_b = sm.add_constant(X_data_b)\n",
    "olsmod_b = sm.OLS(y_data_b, X_data_b)\n",
    "result_reg_b = olsmod_b.fit()\n",
    "print(result_reg_b.summary())\n"
   ]
  },
  {
   "cell_type": "markdown",
   "metadata": {},
   "source": [
    "### (a)\n",
    "Time = -41.4221 + 0.6441 Boxes + 0.6441 Weight + 4.5427 Codes"
   ]
  },
  {
   "cell_type": "code",
   "execution_count": 74,
   "metadata": {},
   "outputs": [
    {
     "data": {
      "image/png": "[encoded data removed]",
      "text/plain": [
       "<Figure size 480x320 with 1 Axes>"
      ]
     },
     "metadata": {
      "needs_background": "light"
     },
     "output_type": "display_data"
    },
    {
     "data": {
      "image/png": "[encoded data removed]",
      "text/plain": [
       "<Figure size 480x320 with 1 Axes>"
      ]
     },
     "metadata": {
      "needs_background": "light"
     },
     "output_type": "display_data"
    }
   ],
   "source": [
    "\n",
    "df1c1 = df1[df1.Codes == 1]\n",
    "df1c2 = df1[df1.Codes == 2]\n",
    "df1c3 = df1[df1.Codes == 3]\n",
    "\n",
    "_ = sns.regplot(x='Boxes', y= 'Time', data = df1c1, color = 'green', ci = None)\n",
    "_ = sns.regplot(x='Boxes', y= 'Time', data = df1c2, color = 'orange', ci = None)\n",
    "_ = sns.regplot(x='Boxes', y= 'Time', data = df1c3, color = 'brown', ci = None)\n",
    "plt.legend(labels=['color = 1', 'color = 2', 'color = 3'])\n",
    "plt.title('Scatter Plot')\n",
    "plt.xlabel('Boxes')\n",
    "plt.ylabel('Time')\n",
    "plt.show()\n",
    "\n",
    "_ = sns.regplot(x='Weight', y= 'Time', data = df1c1, color = 'green', ci = None)\n",
    "_ = sns.regplot(x='Weight', y= 'Time', data = df1c2, color = 'orange', ci = None)\n",
    "_ = sns.regplot(x='Weight', y= 'Time', data = df1c3, color = 'brown', ci = None)\n",
    "plt.legend(labels=['color = 1', 'color = 2', 'color = 3'])\n",
    "plt.title('Scatter Plot')\n",
    "plt.xlabel('Weight')\n",
    "plt.ylabel('Time')\n",
    "plt.show()"
   ]
  },
  {
   "cell_type": "code",
   "execution_count": 75,
   "metadata": {},
   "outputs": [
    {
     "name": "stdout",
     "output_type": "stream",
     "text": [
      "                            OLS Regression Results                            \n",
      "==============================================================================\n",
      "Dep. Variable:                   Time   R-squared:                       0.946\n",
      "Model:                            OLS   Adj. R-squared:                  0.941\n",
      "Method:                 Least Squares   F-statistic:                     197.7\n",
      "Date:                Sun, 08 May 2022   Prob (F-statistic):           6.31e-28\n",
      "Time:                        17:42:19   Log-Likelihood:                -135.30\n",
      "No. Observations:                  50   AIC:                             280.6\n",
      "Df Residuals:                      45   BIC:                             290.2\n",
      "Df Model:                           4                                         \n",
      "Covariance Type:            nonrobust                                         \n",
      "==============================================================================\n",
      "                 coef    std err          t      P>|t|      [0.025      0.975]\n",
      "------------------------------------------------------------------------------\n",
      "const        -29.7180      3.727     -7.973      0.000     -37.225     -22.211\n",
      "Boxes          0.6177      0.031     19.985      0.000       0.555       0.680\n",
      "Weight         0.3464      0.046      7.545      0.000       0.254       0.439\n",
      "Codes_1       -6.7556      1.499     -4.506      0.000      -9.775      -3.736\n",
      "Codes_2        6.4800      1.448      4.474      0.000       3.563       9.397\n",
      "==============================================================================\n",
      "Omnibus:                        1.927   Durbin-Watson:                   1.552\n",
      "Prob(Omnibus):                  0.382   Jarque-Bera (JB):                1.130\n",
      "Skew:                          -0.010   Prob(JB):                        0.568\n",
      "Kurtosis:                       3.736   Cond. No.                         936.\n",
      "==============================================================================\n",
      "\n",
      "Notes:\n",
      "[1] Standard Errors assume that the covariance matrix of the errors is correctly specified.\n"
     ]
    }
   ],
   "source": [
    "Codes_dummy = pd.get_dummies(df1['Codes'], prefix = 'Codes')\n",
    "df1b = pd.concat([df1, Codes_dummy], axis = 1)\n",
    "df1b.head()\n",
    "\n",
    "y_data_5b = df1b['Time']\n",
    "X_data_ar_5b = np.array([df1b['Boxes'], df1b['Weight'], df1b['Codes_1'], df1b['Codes_2']])\n",
    "X_data_5b_T = X_data_ar_5b.T\n",
    "X_data_5b = pd.DataFrame(X_data_5b_T, columns = ['Boxes', \"Weight\", 'Codes_1', 'Codes_2'])\n",
    "X_data_5b = sm.add_constant(X_data_5b)\n",
    "olsmod_5b = sm.OLS(y_data_5b, X_data_5b)\n",
    "result_reg_5b = olsmod_5b.fit()\n",
    "print(result_reg_5b.summary())\n",
    "\n",
    "\n",
    "\n",
    "# Gender_dummy = pd.get_dummies(df1['Codes'], prefix = 'Gender')\n",
    "# df1b = pd.concat([df1, Gender_dummy], axis = 1)\n",
    "# y_data_8b = df1b['Time']\n",
    "# X_data_ar_8b = np.array([df1b['Boxes'], df1b['Weight'], df1b['Gender_1']])\n",
    "# X_data_8b_T = X_data_ar_8b.T\n",
    "# X_data_8b = pd.DataFrame(X_data_8b_T, columns = ['Education', 'Experience', 'Gender_1'])\n",
    "# X_data_8b = sm.add_constant(X_data_8b)\n",
    "# olsmod_8b = sm.OLS(y_data_8b, X_data_8b)\n",
    "# result_reg_8b = olsmod_8b.fit()\n",
    "# print(result_reg_8b.summary())\n"
   ]
  },
  {
   "cell_type": "markdown",
   "metadata": {},
   "source": [
    "### (b)\n",
    "Time = -29.7180 + 0.6177 Boxes + 0.3464 Weight -6.7556 Codes_1 + 6.4800 Codes_2"
   ]
  },
  {
   "cell_type": "markdown",
   "metadata": {},
   "source": [
    "### (c)\n",
    "(b) is better because its Adj. R-squared is higher."
   ]
  },
  {
   "cell_type": "markdown",
   "metadata": {},
   "source": [
    "### (d)\n",
    "Yes, because both of Codes_1 and Codes_2 reject t-test, we can conclude time of day related to time to unload."
   ]
  },
  {
   "cell_type": "markdown",
   "metadata": {},
   "source": [
    "<div style=\"background-color:#D9D9D9;\"><font size=\"5\"> 18.23</font></div>\n",
    "Xr18-23 Absenteeism is a serious employment problem in most countries. It is \n",
    "estimated that absenteeism reduces potential output by more than 10%. Two \n",
    "economists launched a research project to learn more about the problem. They \n",
    "randomly selected 100 organizations to participate in a 1-year study. For each \n",
    "organization, they recorded the average number of days absent per employee and \n",
    "several variables thought to affect absenteeism. The following data were recorded: <br>\n",
    "Column 1: Average number of days absent per employee<br>\n",
    "Column 2: Average employee wage<br>\n",
    "Column 3: Percentage of part-time employees<br>\n",
    "Column 4: Percentage of unionized employees<br>\n",
    "Column 5: Availability of shiftwork (1 = yes; 0 = no)<br>\n",
    "Column 6: Union–management relationship (1 = good; 0 = not good)<br>\n",
    "\n",
    "\n",
    "a. Conduct a regression analysis.<br>\n",
    "\n",
    "b. Can we infer at the 5% significance level that the availability of shiftwork <br>\n",
    "is related to absenteeism?<br>\n",
    "\n",
    "c. Is there enough evidence at the 5% significance level to infer that in orga\u0002nizations where the union–management relationship is good, absenteeism is \n",
    "lower?<br>\n",
    "\n",
    "(The authors are grateful to James Fong and Diana Mansour for developing \n",
    "this exercise.)"
   ]
  },
  {
   "cell_type": "code",
   "execution_count": 77,
   "metadata": {},
   "outputs": [
    {
     "name": "stdout",
     "output_type": "stream",
     "text": [
      "Head of dataset:\n"
     ]
    },
    {
     "data": {
      "text/html": [
       "<div>\n",
       "<style scoped>\n",
       "    .dataframe tbody tr th:only-of-type {\n",
       "        vertical-align: middle;\n",
       "    }\n",
       "\n",
       "    .dataframe tbody tr th {\n",
       "        vertical-align: top;\n",
       "    }\n",
       "\n",
       "    .dataframe thead th {\n",
       "        text-align: right;\n",
       "    }\n",
       "</style>\n",
       "<table border=\"1\" class=\"dataframe\">\n",
       "  <thead>\n",
       "    <tr style=\"text-align: right;\">\n",
       "      <th></th>\n",
       "      <th>Absent</th>\n",
       "      <th>Wage</th>\n",
       "      <th>Pct PT</th>\n",
       "      <th>Pct U</th>\n",
       "      <th>Av Shift</th>\n",
       "      <th>UM Rel</th>\n",
       "    </tr>\n",
       "  </thead>\n",
       "  <tbody>\n",
       "    <tr>\n",
       "      <th>0</th>\n",
       "      <td>5.4</td>\n",
       "      <td>22477</td>\n",
       "      <td>8.5</td>\n",
       "      <td>57.1</td>\n",
       "      <td>1</td>\n",
       "      <td>1</td>\n",
       "    </tr>\n",
       "    <tr>\n",
       "      <th>1</th>\n",
       "      <td>4.1</td>\n",
       "      <td>29939</td>\n",
       "      <td>1.9</td>\n",
       "      <td>41.5</td>\n",
       "      <td>0</td>\n",
       "      <td>1</td>\n",
       "    </tr>\n",
       "    <tr>\n",
       "      <th>2</th>\n",
       "      <td>11.5</td>\n",
       "      <td>22957</td>\n",
       "      <td>12.2</td>\n",
       "      <td>52.6</td>\n",
       "      <td>1</td>\n",
       "      <td>0</td>\n",
       "    </tr>\n",
       "    <tr>\n",
       "      <th>3</th>\n",
       "      <td>2.1</td>\n",
       "      <td>18888</td>\n",
       "      <td>30.8</td>\n",
       "      <td>65.1</td>\n",
       "      <td>0</td>\n",
       "      <td>1</td>\n",
       "    </tr>\n",
       "    <tr>\n",
       "      <th>4</th>\n",
       "      <td>5.9</td>\n",
       "      <td>15078</td>\n",
       "      <td>6.8</td>\n",
       "      <td>68.8</td>\n",
       "      <td>0</td>\n",
       "      <td>1</td>\n",
       "    </tr>\n",
       "  </tbody>\n",
       "</table>\n",
       "</div>"
      ],
      "text/plain": [
       "   Absent   Wage  Pct PT  Pct U  Av Shift  UM Rel\n",
       "0     5.4  22477     8.5   57.1         1       1\n",
       "1     4.1  29939     1.9   41.5         0       1\n",
       "2    11.5  22957    12.2   52.6         1       0\n",
       "3     2.1  18888    30.8   65.1         0       1\n",
       "4     5.9  15078     6.8   68.8         0       1"
      ]
     },
     "metadata": {},
     "output_type": "display_data"
    },
    {
     "name": "stdout",
     "output_type": "stream",
     "text": [
      "Tail of dataset:\n"
     ]
    },
    {
     "data": {
      "text/html": [
       "<div>\n",
       "<style scoped>\n",
       "    .dataframe tbody tr th:only-of-type {\n",
       "        vertical-align: middle;\n",
       "    }\n",
       "\n",
       "    .dataframe tbody tr th {\n",
       "        vertical-align: top;\n",
       "    }\n",
       "\n",
       "    .dataframe thead th {\n",
       "        text-align: right;\n",
       "    }\n",
       "</style>\n",
       "<table border=\"1\" class=\"dataframe\">\n",
       "  <thead>\n",
       "    <tr style=\"text-align: right;\">\n",
       "      <th></th>\n",
       "      <th>Absent</th>\n",
       "      <th>Wage</th>\n",
       "      <th>Pct PT</th>\n",
       "      <th>Pct U</th>\n",
       "      <th>Av Shift</th>\n",
       "      <th>UM Rel</th>\n",
       "    </tr>\n",
       "  </thead>\n",
       "  <tbody>\n",
       "    <tr>\n",
       "      <th>95</th>\n",
       "      <td>2.7</td>\n",
       "      <td>28878</td>\n",
       "      <td>7.4</td>\n",
       "      <td>12.2</td>\n",
       "      <td>1</td>\n",
       "      <td>1</td>\n",
       "    </tr>\n",
       "    <tr>\n",
       "      <th>96</th>\n",
       "      <td>8.0</td>\n",
       "      <td>24558</td>\n",
       "      <td>24.5</td>\n",
       "      <td>37.0</td>\n",
       "      <td>1</td>\n",
       "      <td>1</td>\n",
       "    </tr>\n",
       "    <tr>\n",
       "      <th>97</th>\n",
       "      <td>4.2</td>\n",
       "      <td>20447</td>\n",
       "      <td>0.9</td>\n",
       "      <td>27.4</td>\n",
       "      <td>1</td>\n",
       "      <td>1</td>\n",
       "    </tr>\n",
       "    <tr>\n",
       "      <th>98</th>\n",
       "      <td>9.0</td>\n",
       "      <td>27714</td>\n",
       "      <td>8.7</td>\n",
       "      <td>58.1</td>\n",
       "      <td>0</td>\n",
       "      <td>0</td>\n",
       "    </tr>\n",
       "    <tr>\n",
       "      <th>99</th>\n",
       "      <td>7.7</td>\n",
       "      <td>18116</td>\n",
       "      <td>3.5</td>\n",
       "      <td>47.5</td>\n",
       "      <td>1</td>\n",
       "      <td>1</td>\n",
       "    </tr>\n",
       "  </tbody>\n",
       "</table>\n",
       "</div>"
      ],
      "text/plain": [
       "    Absent   Wage  Pct PT  Pct U  Av Shift  UM Rel\n",
       "95     2.7  28878     7.4   12.2         1       1\n",
       "96     8.0  24558    24.5   37.0         1       1\n",
       "97     4.2  20447     0.9   27.4         1       1\n",
       "98     9.0  27714     8.7   58.1         0       0\n",
       "99     7.7  18116     3.5   47.5         1       1"
      ]
     },
     "metadata": {},
     "output_type": "display_data"
    }
   ],
   "source": [
    "# 讀取資料集\n",
    "df1 = pd.read_excel('../data/Xr18-23.xlsx')\n",
    "\n",
    "# 簡單看一下資料集的樣子\n",
    "# 如果這是你第一次使用這個資料集，使用Excel開啟資料集，\n",
    "# 並確認程式讀到的跟你在Excel中看到的一樣\n",
    "\n",
    "print('Head of dataset:')\n",
    "display(df1.head())\n",
    "\n",
    "print(\"Tail of dataset:\")\n",
    "display(df1.tail())"
   ]
  },
  {
   "cell_type": "code",
   "execution_count": 78,
   "metadata": {},
   "outputs": [
    {
     "name": "stdout",
     "output_type": "stream",
     "text": [
      "                            OLS Regression Results                            \n",
      "==============================================================================\n",
      "Dep. Variable:                 Absent   R-squared:                       0.532\n",
      "Model:                            OLS   Adj. R-squared:                  0.507\n",
      "Method:                 Least Squares   F-statistic:                     21.40\n",
      "Date:                Sun, 08 May 2022   Prob (F-statistic):           3.08e-14\n",
      "Time:                        18:00:48   Log-Likelihood:                -224.49\n",
      "No. Observations:                 100   AIC:                             461.0\n",
      "Df Residuals:                      94   BIC:                             476.6\n",
      "Df Model:                           5                                         \n",
      "Covariance Type:            nonrobust                                         \n",
      "==============================================================================\n",
      "                 coef    std err          t      P>|t|      [0.025      0.975]\n",
      "------------------------------------------------------------------------------\n",
      "const         10.2648      1.172      8.756      0.000       7.937      12.593\n",
      "Wage          -0.0002   3.57e-05     -5.691      0.000      -0.000      -0.000\n",
      "Pct PT        -0.1069      0.029     -3.624      0.000      -0.165      -0.048\n",
      "Pct U          0.0599      0.012      4.826      0.000       0.035       0.084\n",
      "Av Shift       1.5619      0.503      3.107      0.002       0.564       2.560\n",
      "UM Rel        -2.6366      0.492     -5.357      0.000      -3.614      -1.659\n",
      "==============================================================================\n",
      "Omnibus:                        6.179   Durbin-Watson:                   2.228\n",
      "Prob(Omnibus):                  0.046   Jarque-Bera (JB):                5.820\n",
      "Skew:                           0.584   Prob(JB):                       0.0545\n",
      "Kurtosis:                       3.176   Cond. No.                     1.24e+05\n",
      "==============================================================================\n",
      "\n",
      "Notes:\n",
      "[1] Standard Errors assume that the covariance matrix of the errors is correctly specified.\n",
      "[2] The condition number is large, 1.24e+05. This might indicate that there are\n",
      "strong multicollinearity or other numerical problems.\n"
     ]
    }
   ],
   "source": [
    "y_data_b = df1['Absent']\n",
    "X_data_ar_b = np.array([df1['Wage'], df1['Pct PT'], df1['Pct U'], df1['Av Shift'], df1['UM Rel']])\n",
    "X_data_b_T = X_data_ar_b.T\n",
    "X_data_b = pd.DataFrame(X_data_b_T, columns = ['Wage', 'Pct PT', 'Pct U', 'Av Shift', 'UM Rel'])\n",
    "X_data_b = sm.add_constant(X_data_b)\n",
    "olsmod_b = sm.OLS(y_data_b, X_data_b)\n",
    "result_reg_b = olsmod_b.fit()\n",
    "print(result_reg_b.summary())\n"
   ]
  },
  {
   "cell_type": "markdown",
   "metadata": {},
   "source": [
    "### (a)\n",
    "Absent = 10.2648 - 0.0002 Wage -0.1069 Pct PT + 0.0599 Pct U + 1.5619 Av Shift - 2.6366 UM Rel"
   ]
  },
  {
   "cell_type": "markdown",
   "metadata": {},
   "source": [
    "### (b)\n",
    "by t-test for Av Shift, p-value < 0.05 rejected H0, ew can conclude that the availability of shiftwork\n",
    "is related to absenteeism"
   ]
  },
  {
   "cell_type": "markdown",
   "metadata": {},
   "source": [
    "### (c)\n",
    "Because the coef for Union–management relationship is nagetive, and p-value < 0.05 rejected H0 by t-test , we can conclude that in orga\u0002nizations where the union–management relationship is good, absenteeism is lower."
   ]
  },
  {
   "cell_type": "markdown",
   "metadata": {},
   "source": [
    "<div style=\"background-color:#D9D9D9;\"><font size=\"5\"> 18.36</font></div>\n",
    "Re-do Example 18.4 by assigning your own values \n",
    "to each factor and to the weights. What conclusion \n",
    "did you reach?<br>\n",
    "\n",
    "\n",
    "Xr18-04 A fast-food restaurant chain whose menu features hamburgers and chicken \n",
    "sandwiches is about to add a fish sandwich to its menu. There was considerable \n",
    "debate among the executives about the likely demand and what the appropriate \n",
    "price should be. A recently hired economics graduate observed that the demand \n",
    "curve would reveal a great deal about the relationship between price and demand. \n",
    "She convinced the executives to conduct an experiment. A random sample of \n",
    "20 restaurants was drawn. The restaurants were almost identical in terms of sales \n",
    "and in the demographics of the surrounding area. At each restaurant, the fish sand\u0002wich was sold at a different price. The number of sandwiches sold over a 7-day \n",
    "period and the price were recorded. A first-order model and a second-order model \n",
    "were proposed.\n",
    "\n",
    "\n",
    "a. Write the equation for each model.\n",
    "\n",
    "\n",
    "b. Use regression analysis to estimate the coefficients and other statistics for each \n",
    "model.\n",
    "\n",
    "\n",
    "c. Which model seems to fit better? Explain.\n",
    "\n",
    "\n",
    "d. Use the better model to calculate the point prediction for weekly sales when \n",
    "the price is $2.95"
   ]
  },
  {
   "cell_type": "code",
   "execution_count": 81,
   "metadata": {},
   "outputs": [
    {
     "name": "stdout",
     "output_type": "stream",
     "text": [
      "Head of dataset:\n"
     ]
    },
    {
     "data": {
      "text/html": [
       "<div>\n",
       "<style scoped>\n",
       "    .dataframe tbody tr th:only-of-type {\n",
       "        vertical-align: middle;\n",
       "    }\n",
       "\n",
       "    .dataframe tbody tr th {\n",
       "        vertical-align: top;\n",
       "    }\n",
       "\n",
       "    .dataframe thead th {\n",
       "        text-align: right;\n",
       "    }\n",
       "</style>\n",
       "<table border=\"1\" class=\"dataframe\">\n",
       "  <thead>\n",
       "    <tr style=\"text-align: right;\">\n",
       "      <th></th>\n",
       "      <th>Sales</th>\n",
       "      <th>Price</th>\n",
       "    </tr>\n",
       "  </thead>\n",
       "  <tbody>\n",
       "    <tr>\n",
       "      <th>0</th>\n",
       "      <td>377</td>\n",
       "      <td>1.50</td>\n",
       "    </tr>\n",
       "    <tr>\n",
       "      <th>1</th>\n",
       "      <td>364</td>\n",
       "      <td>1.59</td>\n",
       "    </tr>\n",
       "    <tr>\n",
       "      <th>2</th>\n",
       "      <td>326</td>\n",
       "      <td>1.70</td>\n",
       "    </tr>\n",
       "    <tr>\n",
       "      <th>3</th>\n",
       "      <td>339</td>\n",
       "      <td>1.75</td>\n",
       "    </tr>\n",
       "    <tr>\n",
       "      <th>4</th>\n",
       "      <td>341</td>\n",
       "      <td>1.79</td>\n",
       "    </tr>\n",
       "  </tbody>\n",
       "</table>\n",
       "</div>"
      ],
      "text/plain": [
       "   Sales  Price\n",
       "0    377   1.50\n",
       "1    364   1.59\n",
       "2    326   1.70\n",
       "3    339   1.75\n",
       "4    341   1.79"
      ]
     },
     "metadata": {},
     "output_type": "display_data"
    },
    {
     "name": "stdout",
     "output_type": "stream",
     "text": [
      "Tail of dataset:\n"
     ]
    },
    {
     "data": {
      "text/html": [
       "<div>\n",
       "<style scoped>\n",
       "    .dataframe tbody tr th:only-of-type {\n",
       "        vertical-align: middle;\n",
       "    }\n",
       "\n",
       "    .dataframe tbody tr th {\n",
       "        vertical-align: top;\n",
       "    }\n",
       "\n",
       "    .dataframe thead th {\n",
       "        text-align: right;\n",
       "    }\n",
       "</style>\n",
       "<table border=\"1\" class=\"dataframe\">\n",
       "  <thead>\n",
       "    <tr style=\"text-align: right;\">\n",
       "      <th></th>\n",
       "      <th>Sales</th>\n",
       "      <th>Price</th>\n",
       "    </tr>\n",
       "  </thead>\n",
       "  <tbody>\n",
       "    <tr>\n",
       "      <th>15</th>\n",
       "      <td>268</td>\n",
       "      <td>2.69</td>\n",
       "    </tr>\n",
       "    <tr>\n",
       "      <th>16</th>\n",
       "      <td>270</td>\n",
       "      <td>2.75</td>\n",
       "    </tr>\n",
       "    <tr>\n",
       "      <th>17</th>\n",
       "      <td>269</td>\n",
       "      <td>2.79</td>\n",
       "    </tr>\n",
       "    <tr>\n",
       "      <th>18</th>\n",
       "      <td>265</td>\n",
       "      <td>2.89</td>\n",
       "    </tr>\n",
       "    <tr>\n",
       "      <th>19</th>\n",
       "      <td>268</td>\n",
       "      <td>2.99</td>\n",
       "    </tr>\n",
       "  </tbody>\n",
       "</table>\n",
       "</div>"
      ],
      "text/plain": [
       "    Sales  Price\n",
       "15    268   2.69\n",
       "16    270   2.75\n",
       "17    269   2.79\n",
       "18    265   2.89\n",
       "19    268   2.99"
      ]
     },
     "metadata": {},
     "output_type": "display_data"
    }
   ],
   "source": [
    "# 讀取資料集\n",
    "df1 = pd.read_excel('../data/Xr18-04.xlsx')\n",
    "\n",
    "# 簡單看一下資料集的樣子\n",
    "# 如果這是你第一次使用這個資料集，使用Excel開啟資料集，\n",
    "# 並確認程式讀到的跟你在Excel中看到的一樣\n",
    "\n",
    "print('Head of dataset:')\n",
    "display(df1.head())\n",
    "\n",
    "print(\"Tail of dataset:\")\n",
    "display(df1.tail())"
   ]
  },
  {
   "cell_type": "code",
   "execution_count": 86,
   "metadata": {},
   "outputs": [
    {
     "data": {
      "image/png": "[encoded data removed]",
      "text/plain": [
       "<Figure size 480x320 with 1 Axes>"
      ]
     },
     "metadata": {
      "needs_background": "light"
     },
     "output_type": "display_data"
    }
   ],
   "source": [
    "y_var = df1['Sales'].values\n",
    "xnames =['Price']\n",
    "for aname in xnames:\n",
    "    x_var = df1[aname].values\n",
    "    _ = sns.regplot(x = x_var, y = y_var, data = df1, color = 'b', ci = None)\n",
    "    plt.title('Scatter Plot')\n",
    "    plt.xlabel(aname)\n",
    "    plt.ylabel('Sales')\n",
    "    plt.show()\n"
   ]
  },
  {
   "cell_type": "code",
   "execution_count": 87,
   "metadata": {},
   "outputs": [
    {
     "name": "stdout",
     "output_type": "stream",
     "text": [
      "                            OLS Regression Results                            \n",
      "==============================================================================\n",
      "Dep. Variable:                  Sales   R-squared:                       0.855\n",
      "Model:                            OLS   Adj. R-squared:                  0.847\n",
      "Method:                 Least Squares   F-statistic:                     106.4\n",
      "Date:                Mon, 09 May 2022   Prob (F-statistic):           5.51e-09\n",
      "Time:                        01:04:08   Log-Likelihood:                -79.065\n",
      "No. Observations:                  20   AIC:                             162.1\n",
      "Df Residuals:                      18   BIC:                             164.1\n",
      "Df Model:                           1                                         \n",
      "Covariance Type:            nonrobust                                         \n",
      "==============================================================================\n",
      "                 coef    std err          t      P>|t|      [0.025      0.975]\n",
      "------------------------------------------------------------------------------\n",
      "const        453.5555     15.182     29.874      0.000     421.658     485.453\n",
      "Price        -68.9123      6.680    -10.317      0.000     -82.946     -54.879\n",
      "==============================================================================\n",
      "Omnibus:                        1.850   Durbin-Watson:                   0.662\n",
      "Prob(Omnibus):                  0.396   Jarque-Bera (JB):                1.540\n",
      "Skew:                           0.559   Prob(JB):                        0.463\n",
      "Kurtosis:                       2.226   Cond. No.                         13.8\n",
      "==============================================================================\n",
      "\n",
      "Notes:\n",
      "[1] Standard Errors assume that the covariance matrix of the errors is correctly specified.\n"
     ]
    }
   ],
   "source": [
    "y_data = df1['Sales']\n",
    "X_data_ar = np.array([df1['Price']])\n",
    "X_data_T = X_data_ar.T\n",
    "X_data = pd.DataFrame(X_data_T,columns = ['Price'])\n",
    "X_data2 = sm.add_constant(X_data)\n",
    "olsmod = sm.OLS(y_data, X_data2)\n",
    "result_reg = olsmod.fit()\n",
    "print(result_reg.summary())"
   ]
  },
  {
   "cell_type": "markdown",
   "metadata": {},
   "source": [
    "first order model: Sales = 453.5555 - 68.9122 Price"
   ]
  },
  {
   "cell_type": "code",
   "execution_count": 89,
   "metadata": {},
   "outputs": [
    {
     "name": "stdout",
     "output_type": "stream",
     "text": [
      "[-359.10049572   64.54729507  766.91044162]\n",
      "y = -359.10050 * x + 64.54730 * x^2 + 766.91044\n"
     ]
    },
    {
     "data": {
      "image/png": "[encoded data removed]",
      "text/plain": [
       "<Figure size 480x320 with 1 Axes>"
      ]
     },
     "metadata": {
      "needs_background": "light"
     },
     "output_type": "display_data"
    }
   ],
   "source": [
    "y_var = df1['Sales'].values\n",
    "xnames = ['Price']\n",
    "for aname in xnames:\n",
    "    x_var = df1[aname].values\n",
    "    popt, _ = curve_fit(objective, x_var, y_var)\n",
    "    print(popt)\n",
    "    a, b, c = popt\n",
    "    print('y = %.5f * x + %.5f * x^2 + %.5f' % (a, b, c))\n",
    "    plt.scatter(x_var, y_var)\n",
    "    x_line = np.arange(min(x_var), max(x_var), 1)\n",
    "    y_line = objective(x_line, a, b, c)\n",
    "    plt.plot(x_line, y_line, '--', color='red')\n",
    "    plt.xlabel(aname)\n",
    "    plt.ylabel('Sales')\n",
    "    plt.show()\n"
   ]
  },
  {
   "cell_type": "code",
   "execution_count": 90,
   "metadata": {},
   "outputs": [
    {
     "data": {
      "text/html": [
       "<div>\n",
       "<style scoped>\n",
       "    .dataframe tbody tr th:only-of-type {\n",
       "        vertical-align: middle;\n",
       "    }\n",
       "\n",
       "    .dataframe tbody tr th {\n",
       "        vertical-align: top;\n",
       "    }\n",
       "\n",
       "    .dataframe thead th {\n",
       "        text-align: right;\n",
       "    }\n",
       "</style>\n",
       "<table border=\"1\" class=\"dataframe\">\n",
       "  <thead>\n",
       "    <tr style=\"text-align: right;\">\n",
       "      <th></th>\n",
       "      <th>Sales</th>\n",
       "      <th>price_std</th>\n",
       "      <th>price_std2</th>\n",
       "    </tr>\n",
       "  </thead>\n",
       "  <tbody>\n",
       "    <tr>\n",
       "      <th>0</th>\n",
       "      <td>377</td>\n",
       "      <td>1.50</td>\n",
       "      <td>2.2500</td>\n",
       "    </tr>\n",
       "    <tr>\n",
       "      <th>1</th>\n",
       "      <td>364</td>\n",
       "      <td>1.59</td>\n",
       "      <td>2.5281</td>\n",
       "    </tr>\n",
       "    <tr>\n",
       "      <th>2</th>\n",
       "      <td>326</td>\n",
       "      <td>1.70</td>\n",
       "      <td>2.8900</td>\n",
       "    </tr>\n",
       "    <tr>\n",
       "      <th>3</th>\n",
       "      <td>339</td>\n",
       "      <td>1.75</td>\n",
       "      <td>3.0625</td>\n",
       "    </tr>\n",
       "    <tr>\n",
       "      <th>4</th>\n",
       "      <td>341</td>\n",
       "      <td>1.79</td>\n",
       "      <td>3.2041</td>\n",
       "    </tr>\n",
       "  </tbody>\n",
       "</table>\n",
       "</div>"
      ],
      "text/plain": [
       "   Sales  price_std  price_std2\n",
       "0    377       1.50      2.2500\n",
       "1    364       1.59      2.5281\n",
       "2    326       1.70      2.8900\n",
       "3    339       1.75      3.0625\n",
       "4    341       1.79      3.2041"
      ]
     },
     "execution_count": 90,
     "metadata": {},
     "output_type": "execute_result"
    }
   ],
   "source": [
    "dep_var = df1['Sales']\n",
    "indep_var = df1[['Price']]\n",
    "#Change the names so that we will not get confused\n",
    "indep_var.columns = ['price_std']\n",
    "indep_mean = indep_var.mean()\n",
    "#indep_var = indep_var - indep_mean\n",
    "indep_var['price_std2'] = indep_var['price_std'] ** 2\n",
    "#indep_var['age_std2'] = indep_var['age_std'] ** 2\n",
    "#indep_var['inc_age_std'] = indep_var['inc_std'] * indep_var['age_std’]\n",
    "df1b = indep_var.copy()\n",
    "df1b.insert(0, 'Sales', dep_var)\n",
    "df1b.head()\n"
   ]
  },
  {
   "cell_type": "code",
   "execution_count": 92,
   "metadata": {},
   "outputs": [
    {
     "name": "stdout",
     "output_type": "stream",
     "text": [
      "                            OLS Regression Results                            \n",
      "==============================================================================\n",
      "Dep. Variable:                  Sales   R-squared:                       0.973\n",
      "Model:                            OLS   Adj. R-squared:                  0.969\n",
      "Method:                 Least Squares   F-statistic:                     301.2\n",
      "Date:                Mon, 09 May 2022   Prob (F-statistic):           5.34e-14\n",
      "Time:                        01:24:57   Log-Likelihood:                -62.445\n",
      "No. Observations:                  20   AIC:                             130.9\n",
      "Df Residuals:                      17   BIC:                             133.9\n",
      "Df Model:                           2                                         \n",
      "Covariance Type:            nonrobust                                         \n",
      "==============================================================================\n",
      "                 coef    std err          t      P>|t|      [0.025      0.975]\n",
      "------------------------------------------------------------------------------\n",
      "const        766.9104     37.405     20.503      0.000     687.993     845.828\n",
      "price_std   -359.1005     34.193    -10.502      0.000    -431.241    -286.960\n",
      "price_std2    64.5473      7.576      8.520      0.000      48.563      80.532\n",
      "==============================================================================\n",
      "Omnibus:                       10.490   Durbin-Watson:                   2.417\n",
      "Prob(Omnibus):                  0.005   Jarque-Bera (JB):                8.697\n",
      "Skew:                          -1.081   Prob(JB):                       0.0129\n",
      "Kurtosis:                       5.401   Cond. No.                         233.\n",
      "==============================================================================\n",
      "\n",
      "Notes:\n",
      "[1] Standard Errors assume that the covariance matrix of the errors is correctly specified.\n"
     ]
    },
    {
     "data": {
      "image/png": "[encoded data removed]",
      "text/plain": [
       "<Figure size 480x320 with 2 Axes>"
      ]
     },
     "metadata": {
      "needs_background": "light"
     },
     "output_type": "display_data"
    }
   ],
   "source": [
    "corr2c = df1b.corr()\n",
    "_ = sns.heatmap(corr2c, annot=True)\n",
    "\n",
    "y_data_b = df1b['Sales']\n",
    "X_data_ar_b = np.array([df1b['price_std'], df1b['price_std2']])\n",
    "X_data_b_T = X_data_ar_b.T\n",
    "X_data_b = pd.DataFrame(X_data_b_T, columns = ['price_std', 'price_std2'])\n",
    "X_data_b = sm.add_constant(X_data_b)\n",
    "olsmod_b = sm.OLS(y_data_b, X_data_b)\n",
    "result_reg_b = olsmod_b.fit()\n",
    "print(result_reg_b.summary())\n"
   ]
  },
  {
   "cell_type": "markdown",
   "metadata": {},
   "source": [
    "因為F-test reject H0, 但沒有自變數reject t-test的H0, 故有 multicollinearity<br>\n",
    "做Data Transformation"
   ]
  },
  {
   "cell_type": "code",
   "execution_count": 93,
   "metadata": {},
   "outputs": [
    {
     "data": {
      "text/html": [
       "<div>\n",
       "<style scoped>\n",
       "    .dataframe tbody tr th:only-of-type {\n",
       "        vertical-align: middle;\n",
       "    }\n",
       "\n",
       "    .dataframe tbody tr th {\n",
       "        vertical-align: top;\n",
       "    }\n",
       "\n",
       "    .dataframe thead th {\n",
       "        text-align: right;\n",
       "    }\n",
       "</style>\n",
       "<table border=\"1\" class=\"dataframe\">\n",
       "  <thead>\n",
       "    <tr style=\"text-align: right;\">\n",
       "      <th></th>\n",
       "      <th>Sales</th>\n",
       "      <th>price_std</th>\n",
       "      <th>price_std2</th>\n",
       "    </tr>\n",
       "  </thead>\n",
       "  <tbody>\n",
       "    <tr>\n",
       "      <th>0</th>\n",
       "      <td>377</td>\n",
       "      <td>-0.729</td>\n",
       "      <td>0.531441</td>\n",
       "    </tr>\n",
       "    <tr>\n",
       "      <th>1</th>\n",
       "      <td>364</td>\n",
       "      <td>-0.639</td>\n",
       "      <td>0.408321</td>\n",
       "    </tr>\n",
       "    <tr>\n",
       "      <th>2</th>\n",
       "      <td>326</td>\n",
       "      <td>-0.529</td>\n",
       "      <td>0.279841</td>\n",
       "    </tr>\n",
       "    <tr>\n",
       "      <th>3</th>\n",
       "      <td>339</td>\n",
       "      <td>-0.479</td>\n",
       "      <td>0.229441</td>\n",
       "    </tr>\n",
       "    <tr>\n",
       "      <th>4</th>\n",
       "      <td>341</td>\n",
       "      <td>-0.439</td>\n",
       "      <td>0.192721</td>\n",
       "    </tr>\n",
       "  </tbody>\n",
       "</table>\n",
       "</div>"
      ],
      "text/plain": [
       "   Sales  price_std  price_std2\n",
       "0    377     -0.729    0.531441\n",
       "1    364     -0.639    0.408321\n",
       "2    326     -0.529    0.279841\n",
       "3    339     -0.479    0.229441\n",
       "4    341     -0.439    0.192721"
      ]
     },
     "execution_count": 93,
     "metadata": {},
     "output_type": "execute_result"
    }
   ],
   "source": [
    "# 做Data Transformation\n",
    "dep_var = df1['Sales']\n",
    "indep_var = df1[['Price']]\n",
    "#Change the names so that we will not get confused\n",
    "indep_var.columns = ['price_std']\n",
    "indep_mean = indep_var.mean()\n",
    "indep_var = indep_var - indep_mean\n",
    "indep_var['price_std2'] = indep_var['price_std'] ** 2\n",
    "#indep_var['age_std2'] = indep_var['age_std'] ** 2\n",
    "#indep_var['inc_age_std'] = indep_var['inc_std'] * indep_var['age_std’]\n",
    "df1b = indep_var.copy()\n",
    "df1b.insert(0, 'Sales', dep_var)\n",
    "df1b.head()\n"
   ]
  },
  {
   "cell_type": "code",
   "execution_count": 97,
   "metadata": {},
   "outputs": [
    {
     "data": {
      "image/png": "[encoded data removed]",
      "text/plain": [
       "<Figure size 480x320 with 1 Axes>"
      ]
     },
     "metadata": {
      "needs_background": "light"
     },
     "output_type": "display_data"
    },
    {
     "data": {
      "image/png": "[encoded data removed]",
      "text/plain": [
       "<Figure size 480x320 with 1 Axes>"
      ]
     },
     "metadata": {
      "needs_background": "light"
     },
     "output_type": "display_data"
    }
   ],
   "source": [
    "y_var = df1b['Sales'].values\n",
    "xnames = df1b.columns[1:]\n",
    "for aname in xnames:\n",
    "    x_var = df1b[aname].values\n",
    "    _ = sns.regplot(x = x_var, y = y_var, data = df1b, color = 'b', ci = None)\n",
    "    #_ = plt.plot(x, y, 'o', color = 'b')\n",
    "    plt.xlabel(aname)\n",
    "    plt.ylabel('Test Score')\n",
    "    plt.title('Scatter Plot for Test Score and ' +aname)\n",
    "    plt.show()"
   ]
  },
  {
   "cell_type": "code",
   "execution_count": 94,
   "metadata": {
    "scrolled": true
   },
   "outputs": [
    {
     "name": "stdout",
     "output_type": "stream",
     "text": [
      "                            OLS Regression Results                            \n",
      "==============================================================================\n",
      "Dep. Variable:                  Sales   R-squared:                       0.973\n",
      "Model:                            OLS   Adj. R-squared:                  0.969\n",
      "Method:                 Least Squares   F-statistic:                     301.2\n",
      "Date:                Mon, 09 May 2022   Prob (F-statistic):           5.34e-14\n",
      "Time:                        01:25:36   Log-Likelihood:                -62.445\n",
      "No. Observations:                  20   AIC:                             130.9\n",
      "Df Residuals:                      17   BIC:                             133.9\n",
      "Df Model:                           2                                         \n",
      "Covariance Type:            nonrobust                                         \n",
      "==============================================================================\n",
      "                 coef    std err          t      P>|t|      [0.025      0.975]\n",
      "------------------------------------------------------------------------------\n",
      "const        287.1749      2.006    143.180      0.000     282.943     291.407\n",
      "price_std    -71.3487      3.008    -23.722      0.000     -77.694     -65.003\n",
      "price_std2    64.5473      7.576      8.520      0.000      48.563      80.532\n",
      "==============================================================================\n",
      "Omnibus:                       10.490   Durbin-Watson:                   2.417\n",
      "Prob(Omnibus):                  0.005   Jarque-Bera (JB):                8.697\n",
      "Skew:                          -1.081   Prob(JB):                       0.0129\n",
      "Kurtosis:                       5.401   Cond. No.                         5.92\n",
      "==============================================================================\n",
      "\n",
      "Notes:\n",
      "[1] Standard Errors assume that the covariance matrix of the errors is correctly specified.\n"
     ]
    },
    {
     "data": {
      "image/png": "[encoded data removed]",
      "text/plain": [
       "<Figure size 480x320 with 2 Axes>"
      ]
     },
     "metadata": {
      "needs_background": "light"
     },
     "output_type": "display_data"
    }
   ],
   "source": [
    "corr2c = df1b.corr()\n",
    "_ = sns.heatmap(corr2c, annot=True)\n",
    "\n",
    "y_data_b = df1b['Sales']\n",
    "X_data_ar_b = np.array([df1b['price_std'], df1b['price_std2']])\n",
    "X_data_b_T = X_data_ar_b.T\n",
    "X_data_b = pd.DataFrame(X_data_b_T, columns = ['price_std', 'price_std2'])\n",
    "X_data_b = sm.add_constant(X_data_b)\n",
    "olsmod_b = sm.OLS(y_data_b, X_data_b)\n",
    "result_reg_b = olsmod_b.fit()\n",
    "print(result_reg_b.summary())\n"
   ]
  },
  {
   "cell_type": "markdown",
   "metadata": {},
   "source": [
    "因為F-test reject H0, 且有自變數reject t-test的H0, 故沒有 multicollinearity\n",
    "### second model\n",
    "Sales = 287.1749 - 71.3487 (price_std - price_mean) + 64.5473 (price - price_mean )^2"
   ]
  },
  {
   "cell_type": "markdown",
   "metadata": {},
   "source": [
    "### (b)\n",
    "first_order model:<br>\n",
    "Sales = 453.5555 - 68.9122 Price<br>\n",
    "每增加一 unit 的price Sales就減少68.9122 units <br>\n",
    "\n",
    "Second_order model:<br>\n",
    "Sales = 287.1749 - 71.3487 (price_std - price_mean) + 64.5473 (price - price_mean )^2<br>\n",
    "每增加一unit的price Sales就減少71.3487 units, 每增加一unit的price^2 Sales就增加65.5473 units"
   ]
  },
  {
   "cell_type": "markdown",
   "metadata": {},
   "source": [
    "### (c)\n",
    "second_order model is better because its Adj. R-squared is higher."
   ]
  },
  {
   "cell_type": "markdown",
   "metadata": {},
   "source": [
    "### (d)"
   ]
  },
  {
   "cell_type": "code",
   "execution_count": null,
   "metadata": {},
   "outputs": [],
   "source": []
  },
  {
   "cell_type": "markdown",
   "metadata": {},
   "source": [
    "<div style=\"background-color:#D9D9D9;\"><font size=\"5\"> 18.38</font></div>\n",
    "Xr17-16 Refer to Exercise 17.16.  <BR>\n",
    "a. Use stepwise regression to compute the regres\u0002sion equation. <BR>\n",
    "b. Compare the output with that produced in \n",
    "Exercise 17.16."
   ]
  },
  {
   "cell_type": "code",
   "execution_count": 115,
   "metadata": {},
   "outputs": [
    {
     "name": "stdout",
     "output_type": "stream",
     "text": [
      "Head of dataset:\n"
     ]
    },
    {
     "data": {
      "text/html": [
       "<div>\n",
       "<style scoped>\n",
       "    .dataframe tbody tr th:only-of-type {\n",
       "        vertical-align: middle;\n",
       "    }\n",
       "\n",
       "    .dataframe tbody tr th {\n",
       "        vertical-align: top;\n",
       "    }\n",
       "\n",
       "    .dataframe thead th {\n",
       "        text-align: right;\n",
       "    }\n",
       "</style>\n",
       "<table border=\"1\" class=\"dataframe\">\n",
       "  <thead>\n",
       "    <tr style=\"text-align: right;\">\n",
       "      <th></th>\n",
       "      <th>DEFINITE</th>\n",
       "      <th>DAYS1</th>\n",
       "      <th>DAYS2</th>\n",
       "      <th>DAYS3</th>\n",
       "      <th>DAYS4</th>\n",
       "      <th>DAYS5</th>\n",
       "      <th>DAYS6</th>\n",
       "    </tr>\n",
       "  </thead>\n",
       "  <tbody>\n",
       "    <tr>\n",
       "      <th>0</th>\n",
       "      <td>10</td>\n",
       "      <td>0</td>\n",
       "      <td>0</td>\n",
       "      <td>0</td>\n",
       "      <td>0</td>\n",
       "      <td>0</td>\n",
       "      <td>7</td>\n",
       "    </tr>\n",
       "    <tr>\n",
       "      <th>1</th>\n",
       "      <td>10</td>\n",
       "      <td>0</td>\n",
       "      <td>0</td>\n",
       "      <td>3</td>\n",
       "      <td>3</td>\n",
       "      <td>0</td>\n",
       "      <td>0</td>\n",
       "    </tr>\n",
       "    <tr>\n",
       "      <th>2</th>\n",
       "      <td>10</td>\n",
       "      <td>3</td>\n",
       "      <td>0</td>\n",
       "      <td>1</td>\n",
       "      <td>0</td>\n",
       "      <td>2</td>\n",
       "      <td>3</td>\n",
       "    </tr>\n",
       "    <tr>\n",
       "      <th>3</th>\n",
       "      <td>5</td>\n",
       "      <td>3</td>\n",
       "      <td>0</td>\n",
       "      <td>5</td>\n",
       "      <td>7</td>\n",
       "      <td>1</td>\n",
       "      <td>0</td>\n",
       "    </tr>\n",
       "    <tr>\n",
       "      <th>4</th>\n",
       "      <td>10</td>\n",
       "      <td>7</td>\n",
       "      <td>0</td>\n",
       "      <td>3</td>\n",
       "      <td>3</td>\n",
       "      <td>4</td>\n",
       "      <td>0</td>\n",
       "    </tr>\n",
       "  </tbody>\n",
       "</table>\n",
       "</div>"
      ],
      "text/plain": [
       "   DEFINITE  DAYS1  DAYS2  DAYS3  DAYS4  DAYS5  DAYS6\n",
       "0        10      0      0      0      0      0      7\n",
       "1        10      0      0      3      3      0      0\n",
       "2        10      3      0      1      0      2      3\n",
       "3         5      3      0      5      7      1      0\n",
       "4        10      7      0      3      3      4      0"
      ]
     },
     "metadata": {},
     "output_type": "display_data"
    },
    {
     "name": "stdout",
     "output_type": "stream",
     "text": [
      "Tail of dataset:\n"
     ]
    },
    {
     "data": {
      "text/html": [
       "<div>\n",
       "<style scoped>\n",
       "    .dataframe tbody tr th:only-of-type {\n",
       "        vertical-align: middle;\n",
       "    }\n",
       "\n",
       "    .dataframe tbody tr th {\n",
       "        vertical-align: top;\n",
       "    }\n",
       "\n",
       "    .dataframe thead th {\n",
       "        text-align: right;\n",
       "    }\n",
       "</style>\n",
       "<table border=\"1\" class=\"dataframe\">\n",
       "  <thead>\n",
       "    <tr style=\"text-align: right;\">\n",
       "      <th></th>\n",
       "      <th>DEFINITE</th>\n",
       "      <th>DAYS1</th>\n",
       "      <th>DAYS2</th>\n",
       "      <th>DAYS3</th>\n",
       "      <th>DAYS4</th>\n",
       "      <th>DAYS5</th>\n",
       "      <th>DAYS6</th>\n",
       "    </tr>\n",
       "  </thead>\n",
       "  <tbody>\n",
       "    <tr>\n",
       "      <th>887</th>\n",
       "      <td>10</td>\n",
       "      <td>5</td>\n",
       "      <td>5</td>\n",
       "      <td>5</td>\n",
       "      <td>6</td>\n",
       "      <td>0</td>\n",
       "      <td>0</td>\n",
       "    </tr>\n",
       "    <tr>\n",
       "      <th>888</th>\n",
       "      <td>5</td>\n",
       "      <td>7</td>\n",
       "      <td>7</td>\n",
       "      <td>0</td>\n",
       "      <td>1</td>\n",
       "      <td>0</td>\n",
       "      <td>0</td>\n",
       "    </tr>\n",
       "    <tr>\n",
       "      <th>889</th>\n",
       "      <td>10</td>\n",
       "      <td>5</td>\n",
       "      <td>5</td>\n",
       "      <td>0</td>\n",
       "      <td>0</td>\n",
       "      <td>0</td>\n",
       "      <td>0</td>\n",
       "    </tr>\n",
       "    <tr>\n",
       "      <th>890</th>\n",
       "      <td>10</td>\n",
       "      <td>7</td>\n",
       "      <td>5</td>\n",
       "      <td>7</td>\n",
       "      <td>0</td>\n",
       "      <td>0</td>\n",
       "      <td>5</td>\n",
       "    </tr>\n",
       "    <tr>\n",
       "      <th>891</th>\n",
       "      <td>8</td>\n",
       "      <td>4</td>\n",
       "      <td>7</td>\n",
       "      <td>0</td>\n",
       "      <td>0</td>\n",
       "      <td>0</td>\n",
       "      <td>0</td>\n",
       "    </tr>\n",
       "  </tbody>\n",
       "</table>\n",
       "</div>"
      ],
      "text/plain": [
       "     DEFINITE  DAYS1  DAYS2  DAYS3  DAYS4  DAYS5  DAYS6\n",
       "887        10      5      5      5      6      0      0\n",
       "888         5      7      7      0      1      0      0\n",
       "889        10      5      5      0      0      0      0\n",
       "890        10      7      5      7      0      0      5\n",
       "891         8      4      7      0      0      0      0"
      ]
     },
     "metadata": {},
     "output_type": "display_data"
    }
   ],
   "source": [
    "# 讀取資料集\n",
    "df1 = pd.read_excel('../data/Xr17-16.xlsx')\n",
    "\n",
    "# 簡單看一下資料集的樣子\n",
    "# 如果這是你第一次使用這個資料集，使用Excel開啟資料集，\n",
    "# 並確認程式讀到的跟你在Excel中看到的一樣\n",
    "df1 = df1.iloc[:,0:7]\n",
    "\n",
    "print('Head of dataset:')\n",
    "display(df1.head())\n",
    "\n",
    "print(\"Tail of dataset:\")\n",
    "display(df1.tail())"
   ]
  },
  {
   "cell_type": "code",
   "execution_count": 116,
   "metadata": {},
   "outputs": [
    {
     "data": {
      "image/png": "[encoded data removed]",
      "text/plain": [
       "<Figure size 480x320 with 1 Axes>"
      ]
     },
     "metadata": {
      "needs_background": "light"
     },
     "output_type": "display_data"
    },
    {
     "data": {
      "image/png": "[encoded data removed]",
      "text/plain": [
       "<Figure size 480x320 with 1 Axes>"
      ]
     },
     "metadata": {
      "needs_background": "light"
     },
     "output_type": "display_data"
    },
    {
     "data": {
      "image/png": "[encoded data removed]",
      "text/plain": [
       "<Figure size 480x320 with 1 Axes>"
      ]
     },
     "metadata": {
      "needs_background": "light"
     },
     "output_type": "display_data"
    },
    {
     "data": {
      "image/png": "[encoded data removed]",
      "text/plain": [
       "<Figure size 480x320 with 1 Axes>"
      ]
     },
     "metadata": {
      "needs_background": "light"
     },
     "output_type": "display_data"
    },
    {
     "data": {
      "image/png": "[encoded data removed]",
      "text/plain": [
       "<Figure size 480x320 with 1 Axes>"
      ]
     },
     "metadata": {
      "needs_background": "light"
     },
     "output_type": "display_data"
    },
    {
     "data": {
      "image/png": "[encoded data removed]",
      "text/plain": [
       "<Figure size 480x320 with 1 Axes>"
      ]
     },
     "metadata": {
      "needs_background": "light"
     },
     "output_type": "display_data"
    }
   ],
   "source": [
    "y_var = df1['DEFINITE'].values\n",
    "xnames = ['DAYS1', 'DAYS2', 'DAYS3', 'DAYS4', 'DAYS5', 'DAYS6']\n",
    "for aname in xnames:\n",
    "    x_var = df1[aname].values\n",
    "    _ = sns.regplot(x=x_var, y=y_var, data = df1, color = 'blue', ci = None)\n",
    "    plt.xlabel(aname)\n",
    "    plt.ylabel('DEFINITE')\n",
    "    plt.show()\n"
   ]
  },
  {
   "cell_type": "code",
   "execution_count": 113,
   "metadata": {},
   "outputs": [
    {
     "data": {
      "image/png": "[encoded data removed]",
      "text/plain": [
       "<Figure size 480x320 with 2 Axes>"
      ]
     },
     "metadata": {
      "needs_background": "light"
     },
     "output_type": "display_data"
    }
   ],
   "source": [
    "corr6 = df1.corr()\n",
    "_ = sns.heatmap(corr6, annot=True)"
   ]
  },
  {
   "cell_type": "code",
   "execution_count": 114,
   "metadata": {},
   "outputs": [
    {
     "name": "stdout",
     "output_type": "stream",
     "text": [
      "Current Candidates:  ['DAYS1', 'DAYS2', 'DAYS3', 'DAYS4', 'DAYS5', 'DAYS6']\n",
      "===============\n",
      "Current best model:  ['DAYS1']\n",
      "Current best AdjR2:  0.033572617717638975\n",
      "Current Candidates:  ['DAYS2', 'DAYS4', 'DAYS3', 'DAYS6', 'DAYS5']\n",
      "===============\n",
      "Current best model:  ['DAYS1', 'DAYS6']\n",
      "Current best AdjR2:  0.04760823822379712\n",
      "Current Candidates:  ['DAYS4', 'DAYS3', 'DAYS5', 'DAYS2']\n",
      "===============\n",
      "Current best model:  ['DAYS1', 'DAYS6', 'DAYS4']\n",
      "Current best AdjR2:  0.05664228573014751\n",
      "Current Candidates:  ['DAYS3', 'DAYS5', 'DAYS2']\n",
      "===============\n",
      "Current best model:  ['DAYS1', 'DAYS6', 'DAYS4', 'DAYS5']\n",
      "Current best AdjR2:  0.0648394608409355\n",
      "Current Candidates:  ['DAYS3', 'DAYS2']\n",
      "===============\n",
      "Current best model:  ['DAYS1', 'DAYS6', 'DAYS4', 'DAYS5', 'DAYS3']\n",
      "Current best AdjR2:  0.06766517784525972\n",
      "Current Candidates:  ['DAYS2']\n",
      "===============\n",
      "Current best model:  ['DAYS1', 'DAYS6', 'DAYS4', 'DAYS5', 'DAYS3', 'DAYS2']\n",
      "Current best AdjR2:  0.06730270416755924\n",
      "best_adjr2 =  0.06766517784525972\n",
      "best_subset =  ['DAYS1', 'DAYS6', 'DAYS4', 'DAYS5', 'DAYS3']\n",
      "                            OLS Regression Results                            \n",
      "==============================================================================\n",
      "Dep. Variable:               DEFINITE   R-squared:                       0.073\n",
      "Model:                            OLS   Adj. R-squared:                  0.068\n",
      "Method:                 Least Squares   F-statistic:                     13.93\n",
      "Date:                Tue, 10 May 2022   Prob (F-statistic):           3.96e-13\n",
      "Time:                        00:27:50   Log-Likelihood:                -2199.5\n",
      "No. Observations:                 892   AIC:                             4411.\n",
      "Df Residuals:                     886   BIC:                             4440.\n",
      "Df Model:                           5                                         \n",
      "Covariance Type:            nonrobust                                         \n",
      "==============================================================================\n",
      "                 coef    std err          t      P>|t|      [0.025      0.975]\n",
      "------------------------------------------------------------------------------\n",
      "Intercept      6.4057      0.198     32.318      0.000       6.017       6.795\n",
      "DAYS1          0.1470      0.038      3.900      0.000       0.073       0.221\n",
      "DAYS6          0.1320      0.036      3.666      0.000       0.061       0.203\n",
      "DAYS4          0.1092      0.036      3.060      0.002       0.039       0.179\n",
      "DAYS5          0.1379      0.046      2.976      0.003       0.047       0.229\n",
      "DAYS3          0.0744      0.039      1.920      0.055      -0.002       0.150\n",
      "==============================================================================\n",
      "Omnibus:                      139.427   Durbin-Watson:                   1.812\n",
      "Prob(Omnibus):                  0.000   Jarque-Bera (JB):              206.920\n",
      "Skew:                          -1.163   Prob(JB):                     1.17e-45\n",
      "Kurtosis:                       3.395   Cond. No.                         13.6\n",
      "==============================================================================\n",
      "\n",
      "Notes:\n",
      "[1] Standard Errors assume that the covariance matrix of the errors is correctly specified.\n"
     ]
    }
   ],
   "source": [
    "forward_selection(input_df = df1, depv = 'DEFINITE', indepv = ['DAYS1', 'DAYS2', 'DAYS3', 'DAYS4', 'DAYS5', 'DAYS6'])"
   ]
  },
  {
   "cell_type": "markdown",
   "metadata": {},
   "source": [
    "DEFINITE = 6.4057 + 0.1470 Days1 + 0.0744 Days3 +  0.1092 Days4 +  0.1379 Days5 + 0.1320 Days6"
   ]
  },
  {
   "cell_type": "code",
   "execution_count": 118,
   "metadata": {},
   "outputs": [
    {
     "name": "stdout",
     "output_type": "stream",
     "text": [
      "                            OLS Regression Results                            \n",
      "==============================================================================\n",
      "Dep. Variable:               DEFINITE   R-squared:                       0.074\n",
      "Model:                            OLS   Adj. R-squared:                  0.067\n",
      "Method:                 Least Squares   F-statistic:                     11.72\n",
      "Date:                Tue, 10 May 2022   Prob (F-statistic):           1.16e-12\n",
      "Time:                        01:29:59   Log-Likelihood:                -2199.2\n",
      "No. Observations:                 892   AIC:                             4412.\n",
      "Df Residuals:                     885   BIC:                             4446.\n",
      "Df Model:                           6                                         \n",
      "Covariance Type:            nonrobust                                         \n",
      "==============================================================================\n",
      "                 coef    std err          t      P>|t|      [0.025      0.975]\n",
      "------------------------------------------------------------------------------\n",
      "const          6.3646      0.205     31.099      0.000       5.963       6.766\n",
      "DAYS1          0.1350      0.040      3.334      0.001       0.056       0.214\n",
      "DAYS2          0.0363      0.045      0.810      0.418      -0.052       0.124\n",
      "DAYS3          0.0601      0.043      1.412      0.158      -0.023       0.144\n",
      "DAYS4          0.1074      0.036      3.003      0.003       0.037       0.178\n",
      "DAYS5          0.1419      0.047      3.045      0.002       0.050       0.233\n",
      "DAYS6          0.1341      0.036      3.714      0.000       0.063       0.205\n",
      "==============================================================================\n",
      "Omnibus:                      138.907   Durbin-Watson:                   1.811\n",
      "Prob(Omnibus):                  0.000   Jarque-Bera (JB):              205.894\n",
      "Skew:                          -1.161   Prob(JB):                     1.95e-45\n",
      "Kurtosis:                       3.389   Cond. No.                         16.1\n",
      "==============================================================================\n",
      "\n",
      "Notes:\n",
      "[1] Standard Errors assume that the covariance matrix of the errors is correctly specified.\n"
     ]
    }
   ],
   "source": [
    "y_data = df1['DEFINITE']\n",
    "X_data_ar = np.array([df1['DAYS1'], df1['DAYS2'],df1['DAYS3'], df1['DAYS4'], df1['DAYS5'], df1['DAYS6']])\n",
    "X_data_T = X_data_ar.T\n",
    "X_data = pd.DataFrame(X_data_T,columns = df1.columns[1:])\n",
    "X_data2 = sm.add_constant(X_data)\n",
    "olsmod = sm.OLS(y_data, X_data2)\n",
    "result_reg = olsmod.fit()\n",
    "print(result_reg.summary())"
   ]
  },
  {
   "cell_type": "markdown",
   "metadata": {},
   "source": [
    "17.16: \n",
    "\n",
    "\n",
    "DEFINITE = 6.3646 + 0.1350 Days1 + 0.0363 Days2 + 0.0601 Days3 + 0.1074 Days4 + 0.1419 Days5 + 0.1341 Days6<br>\n",
    "在新的的回歸模型中，Day3被判定為須考慮的自變數，而原本17.16的則認為他是一個不會應享的自變數(t-test not rejrct H0)"
   ]
  },
  {
   "cell_type": "markdown",
   "metadata": {},
   "source": [
    "<div style=\"background-color:#D9D9D9;\"><font size=\"5\"> 18.49</font></div>\n",
    "The maintenance of swimming pools is \n",
    "quite costly because of all the chlorine that is needed\n",
    "to keep the water clear and relatively free of germs. \n",
    "A chain of hotels (all with outdoor pools) seeking \n",
    "to reduce costs decided to analyze the factors that \n",
    "determine how much chlorine is needed. They \n",
    "commissioned a chemist to conduct an analysis. \n",
    "It is believed that the speed at which chlorine in a \n",
    "pool is depleted is dependent on the temperature \n",
    "of the water (higher temperature uses chlorine \n",
    "faster); pH level, which is a measure of the acidity \n",
    "of the water (pH ranges from 0 to 14, where 0 is \n",
    "very acidic and 14 is very alkaline; levels around 7.5 \n",
    "use the least chlorine); and weather (sunshine uses \n",
    "up chlorine). The chemist conducted the following \n",
    "experiment. The percentage of chlorine depletion \n",
    "during 8-hour days was recorded under varying \n",
    "conditions of pH level, water temperature, and \n",
    "weather conditions. These data were recorded in \n",
    "the following way:<br>\n",
    "Column 1: Percentage of chlorine depletion \n",
    "over 8 hours<br>\n",
    "Column 2: Temperature (degrees Fahrenheit)<br>\n",
    "Column 3: pH level<br>\n",
    "Column 4: 1 = Mainly cloudy, 2 = Sunny, \n",
    "3 = Partly sunny<br>\n",
    "a. Write the equation of the model that you would \n",
    "suggest.<br>\n",
    "b. Use regression analysis to estimate the model's \n",
    "coefficients.<br>\n",
    "c. Test to determine whether the model is valid.<br>\n",
    "d. Can we infer that higher temperatures deplete \n",
    "chlorine more quickly?<br>\n",
    "e. Is there evidence to infer that the belief about \n",
    "the relationship between chlorine depletion and \n",
    "pH level is correct?<br>\n",
    "f. Can we infer that weather is a factor in chlorine \n",
    "depletion?<br>"
   ]
  },
  {
   "cell_type": "code",
   "execution_count": 119,
   "metadata": {},
   "outputs": [
    {
     "name": "stdout",
     "output_type": "stream",
     "text": [
      "Head of dataset:\n"
     ]
    },
    {
     "data": {
      "text/html": [
       "<div>\n",
       "<style scoped>\n",
       "    .dataframe tbody tr th:only-of-type {\n",
       "        vertical-align: middle;\n",
       "    }\n",
       "\n",
       "    .dataframe tbody tr th {\n",
       "        vertical-align: top;\n",
       "    }\n",
       "\n",
       "    .dataframe thead th {\n",
       "        text-align: right;\n",
       "    }\n",
       "</style>\n",
       "<table border=\"1\" class=\"dataframe\">\n",
       "  <thead>\n",
       "    <tr style=\"text-align: right;\">\n",
       "      <th></th>\n",
       "      <th>Pct Dep</th>\n",
       "      <th>Temperature</th>\n",
       "      <th>PH Level</th>\n",
       "      <th>Weather</th>\n",
       "    </tr>\n",
       "  </thead>\n",
       "  <tbody>\n",
       "    <tr>\n",
       "      <th>0</th>\n",
       "      <td>32.6</td>\n",
       "      <td>60</td>\n",
       "      <td>6.6</td>\n",
       "      <td>2</td>\n",
       "    </tr>\n",
       "    <tr>\n",
       "      <th>1</th>\n",
       "      <td>40.4</td>\n",
       "      <td>65</td>\n",
       "      <td>6.6</td>\n",
       "      <td>2</td>\n",
       "    </tr>\n",
       "    <tr>\n",
       "      <th>2</th>\n",
       "      <td>39.4</td>\n",
       "      <td>70</td>\n",
       "      <td>6.6</td>\n",
       "      <td>2</td>\n",
       "    </tr>\n",
       "    <tr>\n",
       "      <th>3</th>\n",
       "      <td>37.3</td>\n",
       "      <td>75</td>\n",
       "      <td>6.6</td>\n",
       "      <td>2</td>\n",
       "    </tr>\n",
       "    <tr>\n",
       "      <th>4</th>\n",
       "      <td>45.1</td>\n",
       "      <td>80</td>\n",
       "      <td>6.6</td>\n",
       "      <td>2</td>\n",
       "    </tr>\n",
       "  </tbody>\n",
       "</table>\n",
       "</div>"
      ],
      "text/plain": [
       "   Pct Dep  Temperature  PH Level  Weather\n",
       "0     32.6           60       6.6        2\n",
       "1     40.4           65       6.6        2\n",
       "2     39.4           70       6.6        2\n",
       "3     37.3           75       6.6        2\n",
       "4     45.1           80       6.6        2"
      ]
     },
     "metadata": {},
     "output_type": "display_data"
    },
    {
     "name": "stdout",
     "output_type": "stream",
     "text": [
      "Tail of dataset:\n"
     ]
    },
    {
     "data": {
      "text/html": [
       "<div>\n",
       "<style scoped>\n",
       "    .dataframe tbody tr th:only-of-type {\n",
       "        vertical-align: middle;\n",
       "    }\n",
       "\n",
       "    .dataframe tbody tr th {\n",
       "        vertical-align: top;\n",
       "    }\n",
       "\n",
       "    .dataframe thead th {\n",
       "        text-align: right;\n",
       "    }\n",
       "</style>\n",
       "<table border=\"1\" class=\"dataframe\">\n",
       "  <thead>\n",
       "    <tr style=\"text-align: right;\">\n",
       "      <th></th>\n",
       "      <th>Pct Dep</th>\n",
       "      <th>Temperature</th>\n",
       "      <th>PH Level</th>\n",
       "      <th>Weather</th>\n",
       "    </tr>\n",
       "  </thead>\n",
       "  <tbody>\n",
       "    <tr>\n",
       "      <th>205</th>\n",
       "      <td>33.6</td>\n",
       "      <td>70</td>\n",
       "      <td>8.4</td>\n",
       "      <td>1</td>\n",
       "    </tr>\n",
       "    <tr>\n",
       "      <th>206</th>\n",
       "      <td>34.9</td>\n",
       "      <td>75</td>\n",
       "      <td>8.4</td>\n",
       "      <td>1</td>\n",
       "    </tr>\n",
       "    <tr>\n",
       "      <th>207</th>\n",
       "      <td>36.4</td>\n",
       "      <td>80</td>\n",
       "      <td>8.4</td>\n",
       "      <td>1</td>\n",
       "    </tr>\n",
       "    <tr>\n",
       "      <th>208</th>\n",
       "      <td>34.8</td>\n",
       "      <td>85</td>\n",
       "      <td>8.4</td>\n",
       "      <td>1</td>\n",
       "    </tr>\n",
       "    <tr>\n",
       "      <th>209</th>\n",
       "      <td>42.6</td>\n",
       "      <td>90</td>\n",
       "      <td>8.4</td>\n",
       "      <td>1</td>\n",
       "    </tr>\n",
       "  </tbody>\n",
       "</table>\n",
       "</div>"
      ],
      "text/plain": [
       "     Pct Dep  Temperature  PH Level  Weather\n",
       "205     33.6           70       8.4        1\n",
       "206     34.9           75       8.4        1\n",
       "207     36.4           80       8.4        1\n",
       "208     34.8           85       8.4        1\n",
       "209     42.6           90       8.4        1"
      ]
     },
     "metadata": {},
     "output_type": "display_data"
    }
   ],
   "source": [
    "# 讀取資料集\n",
    "df1 = pd.read_excel('../data/Xr18-49.xlsx')\n",
    "\n",
    "# 簡單看一下資料集的樣子\n",
    "# 如果這是你第一次使用這個資料集，使用Excel開啟資料集，\n",
    "# 並確認程式讀到的跟你在Excel中看到的一樣\n",
    "df1 = df1.iloc[:,0:7]\n",
    "\n",
    "print('Head of dataset:')\n",
    "display(df1.head())\n",
    "\n",
    "print(\"Tail of dataset:\")\n",
    "display(df1.tail())"
   ]
  },
  {
   "cell_type": "code",
   "execution_count": 120,
   "metadata": {},
   "outputs": [
    {
     "data": {
      "image/png": "[encoded data removed]",
      "text/plain": [
       "<Figure size 480x320 with 1 Axes>"
      ]
     },
     "metadata": {
      "needs_background": "light"
     },
     "output_type": "display_data"
    },
    {
     "data": {
      "image/png": "[encoded data removed]",
      "text/plain": [
       "<Figure size 480x320 with 1 Axes>"
      ]
     },
     "metadata": {
      "needs_background": "light"
     },
     "output_type": "display_data"
    },
    {
     "data": {
      "image/png": "[encoded data removed]",
      "text/plain": [
       "<Figure size 480x320 with 1 Axes>"
      ]
     },
     "metadata": {
      "needs_background": "light"
     },
     "output_type": "display_data"
    }
   ],
   "source": [
    "y_var = df1['Pct Dep'].values\n",
    "xnames = ['Temperature', 'PH Level', 'Weather']\n",
    "for aname in xnames:\n",
    "    x_var = df1[aname].values\n",
    "    _ = sns.regplot(x=x_var, y=y_var, data = df1, color = 'blue', ci = None)\n",
    "    plt.xlabel(aname)\n",
    "    plt.ylabel('DEFINITE')\n",
    "    plt.show()\n"
   ]
  },
  {
   "cell_type": "code",
   "execution_count": 128,
   "metadata": {},
   "outputs": [
    {
     "data": {
      "text/html": [
       "<div>\n",
       "<style scoped>\n",
       "    .dataframe tbody tr th:only-of-type {\n",
       "        vertical-align: middle;\n",
       "    }\n",
       "\n",
       "    .dataframe tbody tr th {\n",
       "        vertical-align: top;\n",
       "    }\n",
       "\n",
       "    .dataframe thead th {\n",
       "        text-align: right;\n",
       "    }\n",
       "</style>\n",
       "<table border=\"1\" class=\"dataframe\">\n",
       "  <thead>\n",
       "    <tr style=\"text-align: right;\">\n",
       "      <th></th>\n",
       "      <th>Pct_Dep</th>\n",
       "      <th>Temperature</th>\n",
       "      <th>PH_Level</th>\n",
       "      <th>Weather</th>\n",
       "      <th>Weather_1</th>\n",
       "      <th>Weather_2</th>\n",
       "      <th>Weather_3</th>\n",
       "    </tr>\n",
       "  </thead>\n",
       "  <tbody>\n",
       "    <tr>\n",
       "      <th>0</th>\n",
       "      <td>32.6</td>\n",
       "      <td>60</td>\n",
       "      <td>6.6</td>\n",
       "      <td>2</td>\n",
       "      <td>0</td>\n",
       "      <td>1</td>\n",
       "      <td>0</td>\n",
       "    </tr>\n",
       "    <tr>\n",
       "      <th>1</th>\n",
       "      <td>40.4</td>\n",
       "      <td>65</td>\n",
       "      <td>6.6</td>\n",
       "      <td>2</td>\n",
       "      <td>0</td>\n",
       "      <td>1</td>\n",
       "      <td>0</td>\n",
       "    </tr>\n",
       "    <tr>\n",
       "      <th>2</th>\n",
       "      <td>39.4</td>\n",
       "      <td>70</td>\n",
       "      <td>6.6</td>\n",
       "      <td>2</td>\n",
       "      <td>0</td>\n",
       "      <td>1</td>\n",
       "      <td>0</td>\n",
       "    </tr>\n",
       "    <tr>\n",
       "      <th>3</th>\n",
       "      <td>37.3</td>\n",
       "      <td>75</td>\n",
       "      <td>6.6</td>\n",
       "      <td>2</td>\n",
       "      <td>0</td>\n",
       "      <td>1</td>\n",
       "      <td>0</td>\n",
       "    </tr>\n",
       "    <tr>\n",
       "      <th>4</th>\n",
       "      <td>45.1</td>\n",
       "      <td>80</td>\n",
       "      <td>6.6</td>\n",
       "      <td>2</td>\n",
       "      <td>0</td>\n",
       "      <td>1</td>\n",
       "      <td>0</td>\n",
       "    </tr>\n",
       "    <tr>\n",
       "      <th>...</th>\n",
       "      <td>...</td>\n",
       "      <td>...</td>\n",
       "      <td>...</td>\n",
       "      <td>...</td>\n",
       "      <td>...</td>\n",
       "      <td>...</td>\n",
       "      <td>...</td>\n",
       "    </tr>\n",
       "    <tr>\n",
       "      <th>205</th>\n",
       "      <td>33.6</td>\n",
       "      <td>70</td>\n",
       "      <td>8.4</td>\n",
       "      <td>1</td>\n",
       "      <td>1</td>\n",
       "      <td>0</td>\n",
       "      <td>0</td>\n",
       "    </tr>\n",
       "    <tr>\n",
       "      <th>206</th>\n",
       "      <td>34.9</td>\n",
       "      <td>75</td>\n",
       "      <td>8.4</td>\n",
       "      <td>1</td>\n",
       "      <td>1</td>\n",
       "      <td>0</td>\n",
       "      <td>0</td>\n",
       "    </tr>\n",
       "    <tr>\n",
       "      <th>207</th>\n",
       "      <td>36.4</td>\n",
       "      <td>80</td>\n",
       "      <td>8.4</td>\n",
       "      <td>1</td>\n",
       "      <td>1</td>\n",
       "      <td>0</td>\n",
       "      <td>0</td>\n",
       "    </tr>\n",
       "    <tr>\n",
       "      <th>208</th>\n",
       "      <td>34.8</td>\n",
       "      <td>85</td>\n",
       "      <td>8.4</td>\n",
       "      <td>1</td>\n",
       "      <td>1</td>\n",
       "      <td>0</td>\n",
       "      <td>0</td>\n",
       "    </tr>\n",
       "    <tr>\n",
       "      <th>209</th>\n",
       "      <td>42.6</td>\n",
       "      <td>90</td>\n",
       "      <td>8.4</td>\n",
       "      <td>1</td>\n",
       "      <td>1</td>\n",
       "      <td>0</td>\n",
       "      <td>0</td>\n",
       "    </tr>\n",
       "  </tbody>\n",
       "</table>\n",
       "<p>210 rows × 7 columns</p>\n",
       "</div>"
      ],
      "text/plain": [
       "     Pct_Dep  Temperature  PH_Level  Weather  Weather_1  Weather_2  Weather_3\n",
       "0       32.6           60       6.6        2          0          1          0\n",
       "1       40.4           65       6.6        2          0          1          0\n",
       "2       39.4           70       6.6        2          0          1          0\n",
       "3       37.3           75       6.6        2          0          1          0\n",
       "4       45.1           80       6.6        2          0          1          0\n",
       "..       ...          ...       ...      ...        ...        ...        ...\n",
       "205     33.6           70       8.4        1          1          0          0\n",
       "206     34.9           75       8.4        1          1          0          0\n",
       "207     36.4           80       8.4        1          1          0          0\n",
       "208     34.8           85       8.4        1          1          0          0\n",
       "209     42.6           90       8.4        1          1          0          0\n",
       "\n",
       "[210 rows x 7 columns]"
      ]
     },
     "execution_count": 128,
     "metadata": {},
     "output_type": "execute_result"
    }
   ],
   "source": [
    "Weather_dummy = pd.get_dummies(df1['Weather'], prefix = 'Weather')\n",
    "df1b = pd.concat([df1, Weather_dummy], axis = 1)\n",
    "df1b.head()\n",
    "df1b.rename(columns={'Pct Dep': 'Pct_Dep', 'PH Level': \"PH_Level\"}, inplace=True)\n",
    "\n",
    "df1b\n",
    "\n",
    "\n",
    "\n",
    "# Gender_dummy = pd.get_dummies(df1['Codes'], prefix = 'Gender')\n",
    "# df1b = pd.concat([df1, Gender_dummy], axis = 1)\n",
    "# y_data_8b = df1b['Time']\n",
    "# X_data_ar_8b = np.array([df1b['Boxes'], df1b['Weight'], df1b['Gender_1']])\n",
    "# X_data_8b_T = X_data_ar_8b.T\n",
    "# X_data_8b = pd.DataFrame(X_data_8b_T, columns = ['Education', 'Experience', 'Gender_1'])\n",
    "# X_data_8b = sm.add_constant(X_data_8b)\n",
    "# olsmod_8b = sm.OLS(y_data_8b, X_data_8b)\n",
    "# result_reg_8b = olsmod_8b.fit()\n",
    "# print(result_reg_8b.summary())\n"
   ]
  },
  {
   "cell_type": "code",
   "execution_count": 132,
   "metadata": {},
   "outputs": [
    {
     "name": "stdout",
     "output_type": "stream",
     "text": [
      "Current Candidates:  ['Temperature', 'PH_Level', 'Weather_1', 'Weather_2']\n",
      "===============\n",
      "Current best model:  ['Temperature']\n",
      "Current best AdjR2:  0.07369856595316515\n",
      "Current Candidates:  ['PH_Level', 'Weather_1', 'Weather_2']\n",
      "===============\n",
      "Current best model:  ['Temperature', 'Weather_2']\n",
      "Current best AdjR2:  0.08258210579517977\n",
      "Current Candidates:  ['PH_Level', 'Weather_1']\n",
      "===============\n",
      "Current best model:  ['Temperature', 'Weather_2', 'Weather_1']\n",
      "Current best AdjR2:  0.08214670909706112\n",
      "Current Candidates:  ['PH_Level']\n",
      "===============\n",
      "Current best model:  ['Temperature', 'Weather_2', 'Weather_1', 'PH_Level']\n",
      "Current best AdjR2:  0.08168309124679562\n",
      "best_adjr2 =  0.08258210579517977\n",
      "best_subset =  ['Temperature', 'Weather_2']\n",
      "                            OLS Regression Results                            \n",
      "==============================================================================\n",
      "Dep. Variable:                Pct_Dep   R-squared:                       0.091\n",
      "Model:                            OLS   Adj. R-squared:                  0.083\n",
      "Method:                 Least Squares   F-statistic:                     10.41\n",
      "Date:                Tue, 10 May 2022   Prob (F-statistic):           4.94e-05\n",
      "Time:                        01:54:52   Log-Likelihood:                -694.51\n",
      "No. Observations:                 210   AIC:                             1395.\n",
      "Df Residuals:                     207   BIC:                             1405.\n",
      "Df Model:                           2                                         \n",
      "Covariance Type:            nonrobust                                         \n",
      "===============================================================================\n",
      "                  coef    std err          t      P>|t|      [0.025      0.975]\n",
      "-------------------------------------------------------------------------------\n",
      "Intercept      14.8950      3.490      4.268      0.000       8.014      21.776\n",
      "Temperature     0.1938      0.046      4.219      0.000       0.103       0.284\n",
      "Weather_2       1.6914      0.974      1.736      0.084      -0.229       3.612\n",
      "==============================================================================\n",
      "Omnibus:                        6.273   Durbin-Watson:                   0.739\n",
      "Prob(Omnibus):                  0.043   Jarque-Bera (JB):                5.787\n",
      "Skew:                           0.345   Prob(JB):                       0.0554\n",
      "Kurtosis:                       2.568   Cond. No.                         575.\n",
      "==============================================================================\n",
      "\n",
      "Notes:\n",
      "[1] Standard Errors assume that the covariance matrix of the errors is correctly specified.\n"
     ]
    }
   ],
   "source": [
    "result_reg = forward_selection(input_df = df1b, depv = 'Pct_Dep', indepv = ['Temperature', 'PH_Level', 'Weather_1', 'Weather_2'])"
   ]
  },
  {
   "cell_type": "markdown",
   "metadata": {},
   "source": [
    "### (a)\n",
    "我選擇用Forward Stepwise <br>\n",
    "y = 14.8950 + 0.1938 Temperature + 1.6914 Weather_2"
   ]
  },
  {
   "cell_type": "markdown",
   "metadata": {},
   "source": [
    "### (c)\n",
    "H0: beta_1 = beta_2 = beta_3 = 0 <br>\n",
    "H1: At least one of the betas != 0"
   ]
  },
  {
   "cell_type": "code",
   "execution_count": 133,
   "metadata": {},
   "outputs": [
    {
     "name": "stdout",
     "output_type": "stream",
     "text": [
      "F test =  <F test: F=array([[10.40665111]]), p=4.93737420518803e-05, df_denom=207, df_num=2>\n"
     ]
    }
   ],
   "source": [
    "A = np.identity(len(result_reg.params))\n",
    "A = A[1:,:]\n",
    "print(\"F test = \", result_reg.f_test(A))"
   ]
  },
  {
   "cell_type": "markdown",
   "metadata": {},
   "source": [
    "Since p-value = 0 < alpha = 0.05, we can reject H0.\n",
    "There is enough evidence to conclude that the model is valid."
   ]
  },
  {
   "cell_type": "markdown",
   "metadata": {},
   "source": [
    "### (d)\n",
    "可以，因為Temperature的係數為正"
   ]
  },
  {
   "cell_type": "markdown",
   "metadata": {},
   "source": [
    "### (e)\n",
    "No"
   ]
  },
  {
   "cell_type": "markdown",
   "metadata": {},
   "source": [
    "### (f)\n",
    "可以，由Forward Stepwise的結果來看，可以知道weather被認為是重要的變數。"
   ]
  },
  {
   "cell_type": "code",
   "execution_count": null,
   "metadata": {},
   "outputs": [],
   "source": []
  }
 ],
 "metadata": {
  "kernelspec": {
   "display_name": "Python 3",
   "language": "python",
   "name": "python3"
  },
  "language_info": {
   "codemirror_mode": {
    "name": "ipython",
    "version": 3
   },
   "file_extension": ".py",
   "mimetype": "text/x-python",
   "name": "python",
   "nbconvert_exporter": "python",
   "pygments_lexer": "ipython3",
   "version": "3.8.5"
  }
 },
 "nbformat": 4,
 "nbformat_minor": 5
}
