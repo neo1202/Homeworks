{
 "cells": [
  {
   "cell_type": "code",
   "execution_count": 37,
   "metadata": {},
   "outputs": [
    {
     "name": "stdout",
     "output_type": "stream",
     "text": [
      "1.5\n",
      "[1.0151515151515151, 1.0303030303030303, 1.0454545454545454, 1.0606060606060606, 1.0757575757575757, 1.0909090909090908, 1.1060606060606062, 1.1212121212121213, 1.1363636363636365]\n",
      "41\n",
      "0.23734634146341466\n"
     ]
    }
   ],
   "source": [
    "import numpy as np\n",
    "import math\n",
    "import random\n",
    "n = 7\n",
    "B = 30\n",
    "v = np.array([12,9,8,7,5,4,3])\n",
    "w = np.array([8,6,7,5,4,7,3])\n",
    "print(max(v/w))\n",
    "good_i =[]\n",
    "max_value = 0\n",
    "for i in np.linspace(0,max(v/w),100):\n",
    "    tmp_capa = 0\n",
    "    tmp_value = 0\n",
    "    for j in range(n):\n",
    "        if(v[j] >= i*w[j]):\n",
    "            tmp_capa+=w[j]\n",
    "            tmp_value+=v[j]\n",
    "    if(tmp_capa <= B):\n",
    "        if(tmp_value > max_value):\n",
    "            good_i = []\n",
    "            good_i.append(i)\n",
    "            max_value = tmp_value\n",
    "        elif(tmp_value == max_value):\n",
    "            good_i.append(i)\n",
    "print(good_i)\n",
    "print(max_value)\n",
    "#calculate the gap\n",
    "a=[]\n",
    "for i in range(2000):\n",
    "    lam = random.uniform(0,max(v/w))\n",
    "    tmp_capa = 0\n",
    "    tmp_value = 0\n",
    "    for j in range(n):\n",
    "        if(v[j] >= lam*w[j]):\n",
    "            tmp_capa+=w[j]\n",
    "            tmp_value+=v[j]\n",
    "    if(tmp_capa <= B):\n",
    "        a.append(tmp_value)\n",
    "optigap = (41-np.mean(a))/41\n",
    "print(optigap)"
   ]
  }
 ],
 "metadata": {
  "kernelspec": {
   "display_name": "Python 3",
   "language": "python",
   "name": "python3"
  },
  "language_info": {
   "codemirror_mode": {
    "name": "ipython",
    "version": 3
   },
   "file_extension": ".py",
   "mimetype": "text/x-python",
   "name": "python",
   "nbconvert_exporter": "python",
   "pygments_lexer": "ipython3",
   "version": "3.8.5"
  }
 },
 "nbformat": 4,
 "nbformat_minor": 4
}
