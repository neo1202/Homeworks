{
 "cells": [
  {
   "cell_type": "code",
   "execution_count": 83,
   "metadata": {},
   "outputs": [],
   "source": [
    "import gurobipy as gp \n",
    "from gurobipy import *\n",
    "import pandas as pd\n",
    "import numpy as np"
   ]
  },
  {
   "cell_type": "code",
   "execution_count": 84,
   "metadata": {},
   "outputs": [],
   "source": [
    "with open('in20.txt', 'r') as the_file:\n",
    "    all_data = [line.strip() for line in the_file.readlines()]\n",
    "    height_line = all_data[0]\n",
    "    data = all_data[1:]\n",
    "info = height_line.split(\" \")\n",
    "b = np.array(all_data[1].split(\" \"))\n",
    "b = [int(i) for i in b]\n",
    "#display(b)\n",
    "p = np.array(all_data[2].split(\" \"))\n",
    "p = [int(i) for i in p]\n",
    "#display(p)\n",
    "I = int(info[0])\n",
    "J = int(info[1])\n",
    "K = int(info[2])"
   ]
  },
  {
   "cell_type": "code",
   "execution_count": 86,
   "metadata": {},
   "outputs": [
    {
     "data": {
      "text/plain": [
       "array([55., 63., 65., 54.])"
      ]
     },
     "metadata": {},
     "output_type": "display_data"
    },
    {
     "data": {
      "text/plain": [
       "[[6, 11, 18, 10, 21],\n",
       " [12, 5, 7, 25, 14],\n",
       " [22, 16, 13, 3],\n",
       " [24, 4, 17, 8, 23, 9]]"
      ]
     },
     "metadata": {},
     "output_type": "display_data"
    },
    {
     "data": {
      "text/plain": [
       "array([43., 55., 55., 53.])"
      ]
     },
     "metadata": {},
     "output_type": "display_data"
    },
    {
     "data": {
      "text/plain": [
       "54.0"
      ]
     },
     "execution_count": 86,
     "metadata": {},
     "output_type": "execute_result"
    }
   ],
   "source": [
    "#modified highest ratio\n",
    "ratio = np.array(b)/np.array(p)\n",
    "#display(ratio)\n",
    "indexes = np.arange(J)\n",
    "tup = list(zip(indexes, ratio))\n",
    "tup = sorted(tup, key = lambda s: s[1], reverse = True)\n",
    "#display(tup)\n",
    "bene = np.zeros(I+1) #多一格給底下用\n",
    "save = [] #製造機器存了誰\n",
    "accu_p = np.zeros(I)\n",
    "for i in range(I):\n",
    "    save.append([])\n",
    "#display(accu_p)\n",
    "bene[I] = 1000\n",
    "#display(bene)\n",
    "for i, j in tup: #先找目前最少 index-1&benefit\n",
    "    smallest = I #原本第I+1台 不存在的 \n",
    "    for k in range(0,I):\n",
    "        if(bene[k]<bene[smallest] and accu_p[k] + p[i] <= K):\n",
    "            smallest = k\n",
    "        elif(bene[k]==bene[smallest] and p[k] < p[smallest]): #相同時時間少可篡位\n",
    "            smallest = k\n",
    "    if(smallest != I): #真的有找到可以塞的\n",
    "        bene[smallest] += b[i]\n",
    "        save[smallest].append(i+1) #確切的job給誰\n",
    "        accu_p[smallest] += p[i]\n",
    "    #print(i+1, smallest+1, accu_p, bene[0:I])\n",
    "display(bene[0:I])\n",
    "display(save)\n",
    "display(accu_p)\n",
    "np.min(bene[0:I])"
   ]
  },
  {
   "cell_type": "code",
   "execution_count": 87,
   "metadata": {},
   "outputs": [
    {
     "name": "stdout",
     "output_type": "stream",
     "text": [
      "Gurobi Optimizer version 9.5.1 build v9.5.1rc2 (mac64[x86])\n",
      "Thread count: 4 physical cores, 8 logical processors, using up to 8 threads\n",
      "Optimize a model with 134 rows, 101 columns and 405 nonzeros\n",
      "Model fingerprint: 0xc36332bd\n",
      "Coefficient statistics:\n",
      "  Matrix range     [1e+00, 2e+01]\n",
      "  Objective range  [1e+00, 1e+00]\n",
      "  Bounds range     [0e+00, 0e+00]\n",
      "  RHS range        [1e+00, 6e+01]\n",
      "Presolve removed 101 rows and 0 columns\n",
      "Presolve time: 0.01s\n",
      "Presolved: 33 rows, 101 columns, 304 nonzeros\n",
      "\n",
      "Iteration    Objective       Primal Inf.    Dual Inf.      Time\n",
      "       0    8.0000000e+30   4.000000e+30   8.000000e+00      0s\n",
      "      70    6.1250000e+01   0.000000e+00   0.000000e+00      0s\n",
      "\n",
      "Solved in 70 iterations and 0.01 seconds (0.00 work units)\n",
      "Optimal objective  6.125000000e+01\n",
      "\n",
      "\n",
      "objective value(max w) = 61.25\n"
     ]
    }
   ],
   "source": [
    "p1 = Model(\"p1\")\n",
    "a = []\n",
    "w = p1.addVar(    lb = 0, vtype = GRB.CONTINUOUS, name = 'w')\n",
    "a = p1.addVars(I, J, lb = 0, vtype = GRB.CONTINUOUS, name = 'a')\n",
    "#a = p1.addVars(I, J, lb = 0, vtype = GRB.BINARY, name = 'a') 正常版本\n",
    "p1.setObjective(w , GRB.MAXIMIZE) \n",
    "p1.addConstrs( (w    <= quicksum(a[i, j]*b[j] for j in range(J))for i in range(I)), \"w <= aij*bj\")\n",
    "p1.addConstrs((quicksum(a[i, j] for i in range(I)) <= 1 for j in range(J)), \"aij\")  \n",
    "p1.addConstrs((quicksum(a[i, j]*p[j] for j in range(J)) <= K for i in range(I)), \"aij*pj <= K\")\n",
    "p1.addConstr(  (w    >= 0), \"w >= 0\" )\n",
    "p1.addConstrs(    (   (a[i, j] >=0) for i in range(I) for j in range (J)   ), \"aij >= 0\" )\n",
    "p1.optimize()\n",
    "\n",
    "#for var in p1.getVars():\n",
    "    #print(var.varName, '= %.2f' %var.x)\n",
    "print(\"\\n\")\n",
    "print(\"objective value(max w) = %.2f\" %p1.objVal)"
   ]
  },
  {
   "cell_type": "code",
   "execution_count": 88,
   "metadata": {},
   "outputs": [
    {
     "data": {
      "text/plain": [
       "array([70., 55., 56., 55.])"
      ]
     },
     "metadata": {},
     "output_type": "display_data"
    },
    {
     "data": {
      "text/plain": [
       "[[24, 5, 12, 18, 10, 8], [3, 6, 17, 1], [16, 25, 4, 7, 9], [11, 13, 22, 14]]"
      ]
     },
     "metadata": {},
     "output_type": "display_data"
    },
    {
     "data": {
      "text/plain": [
       "array([52., 52., 53., 51.])"
      ]
     },
     "metadata": {},
     "output_type": "display_data"
    },
    {
     "data": {
      "text/plain": [
       "55.0"
      ]
     },
     "execution_count": 88,
     "metadata": {},
     "output_type": "execute_result"
    }
   ],
   "source": [
    "#highest benefit first\n",
    "\n",
    "indexes = np.arange(J)\n",
    "tup = list(zip(indexes, b))\n",
    "tup = sorted(tup, key = lambda s: s[1], reverse = True)\n",
    "bene = np.zeros(I+1) #多一格給底下用\n",
    "save = [] #製造機器存了誰\n",
    "accu_p = np.zeros(I)\n",
    "for i in range(I):\n",
    "    save.append([])\n",
    "bene[I] = 1000\n",
    "for i, j in tup: #先找目前最少 index-1&benefit\n",
    "    smallest = I #原本第I+1台 不存在的 \n",
    "    for k in range(0,I):\n",
    "        if(bene[k]<bene[smallest] and accu_p[k] + p[i] <= K):\n",
    "            smallest = k\n",
    "    if(smallest != I):\n",
    "        bene[smallest] += b[i]\n",
    "        save[smallest].append(i+1) #確切的job給誰\n",
    "        accu_p[smallest] += p[i]\n",
    "    #print(i+1, smallest+1, accu_p, bene[0:I])\n",
    "display(bene[0:I])\n",
    "display(save)\n",
    "display(accu_p)\n",
    "np.min(bene[0:I])"
   ]
  },
  {
   "cell_type": "code",
   "execution_count": 89,
   "metadata": {},
   "outputs": [
    {
     "data": {
      "text/plain": [
       "array([58., 65., 57., 57.])"
      ]
     },
     "metadata": {},
     "output_type": "display_data"
    },
    {
     "data": {
      "text/plain": [
       "[[6, 11, 18, 25],\n",
       " [12, 5, 7, 3, 14],\n",
       " [22, 16, 13, 8, 23, 9],\n",
       " [24, 4, 17, 10, 21]]"
      ]
     },
     "metadata": {},
     "output_type": "display_data"
    },
    {
     "data": {
      "text/plain": [
       "array([43., 55., 55., 53.])"
      ]
     },
     "metadata": {},
     "output_type": "display_data"
    },
    {
     "data": {
      "text/plain": [
       "57.0"
      ]
     },
     "execution_count": 89,
     "metadata": {},
     "output_type": "execute_result"
    }
   ],
   "source": [
    "#highest ratio first\n",
    "ratio = np.array(b)/np.array(p)\n",
    "#display(ratio)\n",
    "indexes = np.arange(J)\n",
    "tup = list(zip(indexes, ratio))\n",
    "tup = sorted(tup, key = lambda s: s[1], reverse = True)\n",
    "#display(tup)\n",
    "bene = np.zeros(I+1) #多一格給底下用\n",
    "save = [] #製造機器存了誰\n",
    "accu_p = np.zeros(I)\n",
    "for i in range(I):\n",
    "    save.append([])\n",
    "#display(accu_p)\n",
    "bene[I] = 1000\n",
    "#display(bene)\n",
    "for i, j in tup: #先找目前最少 index-1&benefit\n",
    "    smallest = I #原本第I+1台 不存在的 \n",
    "    for k in range(0,I):\n",
    "        if(bene[k]<bene[smallest] and accu_p[k] + p[i] <= K):\n",
    "            smallest = k\n",
    "    if(smallest != I):\n",
    "        bene[smallest] += b[i]\n",
    "        save[smallest].append(i+1) #確切的job給誰\n",
    "        accu_p[smallest] += p[i]\n",
    "    #print(i+1, smallest+1, accu_p, bene[0:I])\n",
    "display(bene[0:I])\n",
    "display(save)\n",
    "display(accu_p)\n",
    "np.min(bene[0:I])"
   ]
  },
  {
   "cell_type": "code",
   "execution_count": null,
   "metadata": {},
   "outputs": [],
   "source": []
  }
 ],
 "metadata": {
  "kernelspec": {
   "display_name": "Python 3",
   "language": "python",
   "name": "python3"
  },
  "language_info": {
   "codemirror_mode": {
    "name": "ipython",
    "version": 3
   },
   "file_extension": ".py",
   "mimetype": "text/x-python",
   "name": "python",
   "nbconvert_exporter": "python",
   "pygments_lexer": "ipython3",
   "version": "3.8.5"
  }
 },
 "nbformat": 4,
 "nbformat_minor": 4
}
