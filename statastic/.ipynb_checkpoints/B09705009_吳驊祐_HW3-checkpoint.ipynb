{
 "cells": [
  {
   "cell_type": "markdown",
   "metadata": {},
   "source": [
    "# 第三次作業"
   ]
  },
  {
   "cell_type": "code",
   "execution_count": 48,
   "metadata": {},
   "outputs": [],
   "source": [
    "# 14.9, 14.17, 14.22, 14.57, 14.65"
   ]
  },
  {
   "cell_type": "code",
   "execution_count": 49,
   "metadata": {},
   "outputs": [],
   "source": [
    "# 載入所需函示庫\n",
    "import pandas as pd\n",
    "import numpy as np\n",
    "import scipy.stats as stats\n",
    "import statsmodels.api as sm\n",
    "import statsmodels.stats.api as sms\n",
    "import statsmodels.formula.api as smf\n",
    "import statsmodels.stats.multicomp as smm\n",
    "import statsmodels\n",
    "import statsmodels.stats.libqsturng\n",
    "from matplotlib import pyplot as plt\n",
    "%matplotlib inline\n",
    "# 設定圖形大小; DPI越大圖越大\n",
    "plt.rcParams[\"figure.dpi\"] = 150"
   ]
  },
  {
   "cell_type": "markdown",
   "metadata": {},
   "source": [
    "<div style=\"background-color:#D9D9D9;\"><font size=\"5\"> 14.9</font></div>"
   ]
  },
  {
   "cell_type": "markdown",
   "metadata": {},
   "source": [
    "let μi = the average grade in school i<br>\n",
    "H0: μ1=μ2=μ3=μ4<br>\n",
    "H1: at least two means differ"
   ]
  },
  {
   "cell_type": "code",
   "execution_count": 50,
   "metadata": {},
   "outputs": [
    {
     "data": {
      "text/html": [
       "<div>\n",
       "<style scoped>\n",
       "    .dataframe tbody tr th:only-of-type {\n",
       "        vertical-align: middle;\n",
       "    }\n",
       "\n",
       "    .dataframe tbody tr th {\n",
       "        vertical-align: top;\n",
       "    }\n",
       "\n",
       "    .dataframe thead th {\n",
       "        text-align: right;\n",
       "    }\n",
       "</style>\n",
       "<table border=\"1\" class=\"dataframe\">\n",
       "  <thead>\n",
       "    <tr style=\"text-align: right;\">\n",
       "      <th></th>\n",
       "      <th>School A</th>\n",
       "      <th>School B</th>\n",
       "      <th>School C</th>\n",
       "      <th>School D</th>\n",
       "    </tr>\n",
       "  </thead>\n",
       "  <tbody>\n",
       "    <tr>\n",
       "      <th>0</th>\n",
       "      <td>81.5</td>\n",
       "      <td>64.6</td>\n",
       "      <td>56.5</td>\n",
       "      <td>53.1</td>\n",
       "    </tr>\n",
       "    <tr>\n",
       "      <th>1</th>\n",
       "      <td>61.8</td>\n",
       "      <td>67.0</td>\n",
       "      <td>61.7</td>\n",
       "      <td>64.8</td>\n",
       "    </tr>\n",
       "    <tr>\n",
       "      <th>2</th>\n",
       "      <td>61.0</td>\n",
       "      <td>61.1</td>\n",
       "      <td>53.3</td>\n",
       "      <td>65.3</td>\n",
       "    </tr>\n",
       "    <tr>\n",
       "      <th>3</th>\n",
       "      <td>62.4</td>\n",
       "      <td>61.1</td>\n",
       "      <td>68.0</td>\n",
       "      <td>72.1</td>\n",
       "    </tr>\n",
       "    <tr>\n",
       "      <th>4</th>\n",
       "      <td>58.1</td>\n",
       "      <td>77.6</td>\n",
       "      <td>65.4</td>\n",
       "      <td>55.1</td>\n",
       "    </tr>\n",
       "  </tbody>\n",
       "</table>\n",
       "</div>"
      ],
      "text/plain": [
       "   School A  School B  School C  School D \n",
       "0      81.5      64.6      56.5       53.1\n",
       "1      61.8      67.0      61.7       64.8\n",
       "2      61.0      61.1      53.3       65.3\n",
       "3      62.4      61.1      68.0       72.1\n",
       "4      58.1      77.6      65.4       55.1"
      ]
     },
     "metadata": {},
     "output_type": "display_data"
    },
    {
     "data": {
      "text/html": [
       "<div>\n",
       "<style scoped>\n",
       "    .dataframe tbody tr th:only-of-type {\n",
       "        vertical-align: middle;\n",
       "    }\n",
       "\n",
       "    .dataframe tbody tr th {\n",
       "        vertical-align: top;\n",
       "    }\n",
       "\n",
       "    .dataframe thead th {\n",
       "        text-align: right;\n",
       "    }\n",
       "</style>\n",
       "<table border=\"1\" class=\"dataframe\">\n",
       "  <thead>\n",
       "    <tr style=\"text-align: right;\">\n",
       "      <th></th>\n",
       "      <th>School A</th>\n",
       "      <th>School B</th>\n",
       "      <th>School C</th>\n",
       "      <th>School D</th>\n",
       "    </tr>\n",
       "  </thead>\n",
       "  <tbody>\n",
       "    <tr>\n",
       "      <th>21</th>\n",
       "      <td>NaN</td>\n",
       "      <td>69.1</td>\n",
       "      <td>NaN</td>\n",
       "      <td>NaN</td>\n",
       "    </tr>\n",
       "    <tr>\n",
       "      <th>22</th>\n",
       "      <td>NaN</td>\n",
       "      <td>63.6</td>\n",
       "      <td>NaN</td>\n",
       "      <td>NaN</td>\n",
       "    </tr>\n",
       "    <tr>\n",
       "      <th>23</th>\n",
       "      <td>NaN</td>\n",
       "      <td>63.1</td>\n",
       "      <td>NaN</td>\n",
       "      <td>NaN</td>\n",
       "    </tr>\n",
       "    <tr>\n",
       "      <th>24</th>\n",
       "      <td>NaN</td>\n",
       "      <td>62.7</td>\n",
       "      <td>NaN</td>\n",
       "      <td>NaN</td>\n",
       "    </tr>\n",
       "    <tr>\n",
       "      <th>25</th>\n",
       "      <td>NaN</td>\n",
       "      <td>55.6</td>\n",
       "      <td>NaN</td>\n",
       "      <td>NaN</td>\n",
       "    </tr>\n",
       "  </tbody>\n",
       "</table>\n",
       "</div>"
      ],
      "text/plain": [
       "    School A  School B  School C  School D \n",
       "21       NaN      69.1       NaN        NaN\n",
       "22       NaN      63.6       NaN        NaN\n",
       "23       NaN      63.1       NaN        NaN\n",
       "24       NaN      62.7       NaN        NaN\n",
       "25       NaN      55.6       NaN        NaN"
      ]
     },
     "metadata": {},
     "output_type": "display_data"
    }
   ],
   "source": [
    "df1 = pd.read_excel('Xr14-09.xlsx')\n",
    "display(df1.head())\n",
    "display(df1.tail())"
   ]
  },
  {
   "cell_type": "code",
   "execution_count": 51,
   "metadata": {},
   "outputs": [
    {
     "data": {
      "text/html": [
       "<div>\n",
       "<style scoped>\n",
       "    .dataframe tbody tr th:only-of-type {\n",
       "        vertical-align: middle;\n",
       "    }\n",
       "\n",
       "    .dataframe tbody tr th {\n",
       "        vertical-align: top;\n",
       "    }\n",
       "\n",
       "    .dataframe thead th {\n",
       "        text-align: right;\n",
       "    }\n",
       "</style>\n",
       "<table border=\"1\" class=\"dataframe\">\n",
       "  <thead>\n",
       "    <tr style=\"text-align: right;\">\n",
       "      <th></th>\n",
       "      <th>id</th>\n",
       "      <th>factor</th>\n",
       "      <th>sale</th>\n",
       "    </tr>\n",
       "  </thead>\n",
       "  <tbody>\n",
       "    <tr>\n",
       "      <th>0</th>\n",
       "      <td>0</td>\n",
       "      <td>A</td>\n",
       "      <td>81.5</td>\n",
       "    </tr>\n",
       "    <tr>\n",
       "      <th>1</th>\n",
       "      <td>1</td>\n",
       "      <td>A</td>\n",
       "      <td>61.8</td>\n",
       "    </tr>\n",
       "    <tr>\n",
       "      <th>2</th>\n",
       "      <td>2</td>\n",
       "      <td>A</td>\n",
       "      <td>61.0</td>\n",
       "    </tr>\n",
       "    <tr>\n",
       "      <th>3</th>\n",
       "      <td>3</td>\n",
       "      <td>A</td>\n",
       "      <td>62.4</td>\n",
       "    </tr>\n",
       "    <tr>\n",
       "      <th>4</th>\n",
       "      <td>4</td>\n",
       "      <td>A</td>\n",
       "      <td>58.1</td>\n",
       "    </tr>\n",
       "    <tr>\n",
       "      <th>...</th>\n",
       "      <td>...</td>\n",
       "      <td>...</td>\n",
       "      <td>...</td>\n",
       "    </tr>\n",
       "    <tr>\n",
       "      <th>92</th>\n",
       "      <td>14</td>\n",
       "      <td>D</td>\n",
       "      <td>68.2</td>\n",
       "    </tr>\n",
       "    <tr>\n",
       "      <th>93</th>\n",
       "      <td>15</td>\n",
       "      <td>D</td>\n",
       "      <td>47.2</td>\n",
       "    </tr>\n",
       "    <tr>\n",
       "      <th>94</th>\n",
       "      <td>16</td>\n",
       "      <td>D</td>\n",
       "      <td>70.0</td>\n",
       "    </tr>\n",
       "    <tr>\n",
       "      <th>95</th>\n",
       "      <td>17</td>\n",
       "      <td>D</td>\n",
       "      <td>65.5</td>\n",
       "    </tr>\n",
       "    <tr>\n",
       "      <th>96</th>\n",
       "      <td>18</td>\n",
       "      <td>D</td>\n",
       "      <td>62.6</td>\n",
       "    </tr>\n",
       "  </tbody>\n",
       "</table>\n",
       "<p>81 rows × 3 columns</p>\n",
       "</div>"
      ],
      "text/plain": [
       "    id factor  sale\n",
       "0    0      A  81.5\n",
       "1    1      A  61.8\n",
       "2    2      A  61.0\n",
       "3    3      A  62.4\n",
       "4    4      A  58.1\n",
       "..  ..    ...   ...\n",
       "92  14      D  68.2\n",
       "93  15      D  47.2\n",
       "94  16      D  70.0\n",
       "95  17      D  65.5\n",
       "96  18      D  62.6\n",
       "\n",
       "[81 rows x 3 columns]"
      ]
     },
     "metadata": {},
     "output_type": "display_data"
    }
   ],
   "source": [
    "# wide_to_long假設同樣資料在不同因素下的名稱有相同的字頭，因此我們要改欄位名稱。\n",
    "df1 = df1.rename(columns={'School A': 'sale_A', \"School B\": \"sale_B\", \"School C\": \"sale_C\", \"School D \": \"sale_D\"})\n",
    "# 需要一個ID欄位\n",
    "df1[\"id\"] = df1.index\n",
    "df2 = pd.wide_to_long(df1, [\"sale\"], sep=\"_\", suffix='\\w+', i=\"id\", j=\"factor\").reset_index()\n",
    "#print(type(df2))\n",
    "df2 = df2[~pd.isnull(df2['sale'])]\n",
    "display(df2)"
   ]
  },
  {
   "cell_type": "code",
   "execution_count": 52,
   "metadata": {},
   "outputs": [
    {
     "data": {
      "text/html": [
       "<div>\n",
       "<style scoped>\n",
       "    .dataframe tbody tr th:only-of-type {\n",
       "        vertical-align: middle;\n",
       "    }\n",
       "\n",
       "    .dataframe tbody tr th {\n",
       "        vertical-align: top;\n",
       "    }\n",
       "\n",
       "    .dataframe thead tr th {\n",
       "        text-align: left;\n",
       "    }\n",
       "\n",
       "    .dataframe thead tr:last-of-type th {\n",
       "        text-align: right;\n",
       "    }\n",
       "</style>\n",
       "<table border=\"1\" class=\"dataframe\">\n",
       "  <thead>\n",
       "    <tr>\n",
       "      <th></th>\n",
       "      <th colspan=\"8\" halign=\"left\">sale</th>\n",
       "    </tr>\n",
       "    <tr>\n",
       "      <th></th>\n",
       "      <th>count</th>\n",
       "      <th>mean</th>\n",
       "      <th>std</th>\n",
       "      <th>min</th>\n",
       "      <th>25%</th>\n",
       "      <th>50%</th>\n",
       "      <th>75%</th>\n",
       "      <th>max</th>\n",
       "    </tr>\n",
       "    <tr>\n",
       "      <th>factor</th>\n",
       "      <th></th>\n",
       "      <th></th>\n",
       "      <th></th>\n",
       "      <th></th>\n",
       "      <th></th>\n",
       "      <th></th>\n",
       "      <th></th>\n",
       "      <th></th>\n",
       "    </tr>\n",
       "  </thead>\n",
       "  <tbody>\n",
       "    <tr>\n",
       "      <th>A</th>\n",
       "      <td>20.0</td>\n",
       "      <td>68.825000</td>\n",
       "      <td>7.230482</td>\n",
       "      <td>58.1</td>\n",
       "      <td>62.250</td>\n",
       "      <td>66.75</td>\n",
       "      <td>74.0</td>\n",
       "      <td>81.5</td>\n",
       "    </tr>\n",
       "    <tr>\n",
       "      <th>B</th>\n",
       "      <td>26.0</td>\n",
       "      <td>65.076923</td>\n",
       "      <td>6.114135</td>\n",
       "      <td>54.3</td>\n",
       "      <td>61.675</td>\n",
       "      <td>64.50</td>\n",
       "      <td>67.5</td>\n",
       "      <td>77.8</td>\n",
       "    </tr>\n",
       "    <tr>\n",
       "      <th>C</th>\n",
       "      <td>16.0</td>\n",
       "      <td>62.012500</td>\n",
       "      <td>7.965917</td>\n",
       "      <td>51.2</td>\n",
       "      <td>57.175</td>\n",
       "      <td>59.95</td>\n",
       "      <td>67.4</td>\n",
       "      <td>79.4</td>\n",
       "    </tr>\n",
       "    <tr>\n",
       "      <th>D</th>\n",
       "      <td>19.0</td>\n",
       "      <td>64.642105</td>\n",
       "      <td>7.541906</td>\n",
       "      <td>47.2</td>\n",
       "      <td>60.250</td>\n",
       "      <td>65.50</td>\n",
       "      <td>69.5</td>\n",
       "      <td>74.6</td>\n",
       "    </tr>\n",
       "  </tbody>\n",
       "</table>\n",
       "</div>"
      ],
      "text/plain": [
       "        sale                                                      \n",
       "       count       mean       std   min     25%    50%   75%   max\n",
       "factor                                                            \n",
       "A       20.0  68.825000  7.230482  58.1  62.250  66.75  74.0  81.5\n",
       "B       26.0  65.076923  6.114135  54.3  61.675  64.50  67.5  77.8\n",
       "C       16.0  62.012500  7.965917  51.2  57.175  59.95  67.4  79.4\n",
       "D       19.0  64.642105  7.541906  47.2  60.250  65.50  69.5  74.6"
      ]
     },
     "execution_count": 52,
     "metadata": {},
     "output_type": "execute_result"
    }
   ],
   "source": [
    "df2 = df2[['factor', 'sale']]\n",
    "df2.describe()\n",
    "df2.groupby(['factor']).describe()"
   ]
  },
  {
   "cell_type": "code",
   "execution_count": 53,
   "metadata": {},
   "outputs": [
    {
     "data": {
      "text/html": [
       "<div>\n",
       "<style scoped>\n",
       "    .dataframe tbody tr th:only-of-type {\n",
       "        vertical-align: middle;\n",
       "    }\n",
       "\n",
       "    .dataframe tbody tr th {\n",
       "        vertical-align: top;\n",
       "    }\n",
       "\n",
       "    .dataframe thead th {\n",
       "        text-align: right;\n",
       "    }\n",
       "</style>\n",
       "<table border=\"1\" class=\"dataframe\">\n",
       "  <thead>\n",
       "    <tr style=\"text-align: right;\">\n",
       "      <th></th>\n",
       "      <th>sum_sq</th>\n",
       "      <th>df</th>\n",
       "      <th>F</th>\n",
       "      <th>PR(&gt;F)</th>\n",
       "    </tr>\n",
       "  </thead>\n",
       "  <tbody>\n",
       "    <tr>\n",
       "      <th>C(factor)</th>\n",
       "      <td>430.950555</td>\n",
       "      <td>3.0</td>\n",
       "      <td>2.833578</td>\n",
       "      <td>0.043693</td>\n",
       "    </tr>\n",
       "    <tr>\n",
       "      <th>Residual</th>\n",
       "      <td>3903.567470</td>\n",
       "      <td>77.0</td>\n",
       "      <td>NaN</td>\n",
       "      <td>NaN</td>\n",
       "    </tr>\n",
       "  </tbody>\n",
       "</table>\n",
       "</div>"
      ],
      "text/plain": [
       "                sum_sq    df         F    PR(>F)\n",
       "C(factor)   430.950555   3.0  2.833578  0.043693\n",
       "Residual   3903.567470  77.0       NaN       NaN"
      ]
     },
     "execution_count": 53,
     "metadata": {},
     "output_type": "execute_result"
    }
   ],
   "source": [
    "results = smf.ols('sale ~ C(factor)', data=df2).fit()\n",
    "# results.summary()\n",
    "aov_table = sms.anova_lm(results, typ=2)\n",
    "aov_table"
   ]
  },
  {
   "cell_type": "markdown",
   "metadata": {},
   "source": [
    "(a.)Since the p-value<0.05, reject H0. There is sufficient evidence to show that there are differences in grading standards between the four high schools."
   ]
  },
  {
   "cell_type": "markdown",
   "metadata": {},
   "source": [
    "(b.) \n",
    "1. The populations are all normally distributed.<br>\n",
    "2. The variances of all the populations tested are equal.<br>\n",
    "3. The observations must be independent. "
   ]
  },
  {
   "cell_type": "code",
   "execution_count": 54,
   "metadata": {},
   "outputs": [
    {
     "data": {
      "image/png": "[encoded data removed]",
      "text/plain": [
       "<Figure size 900x600 with 4 Axes>"
      ]
     },
     "metadata": {
      "needs_background": "light"
     },
     "output_type": "display_data"
    }
   ],
   "source": [
    "# Change bins setting to see whether the result is robust.\n",
    "_ = df2['sale'].hist(by=df2['factor'], bins=7)"
   ]
  },
  {
   "cell_type": "code",
   "execution_count": 55,
   "metadata": {},
   "outputs": [
    {
     "name": "stdout",
     "output_type": "stream",
     "text": [
      "the shape of A looks strange, so we delve into it\n",
      "Statistics=0.9337, p=0.1816\n",
      "Since p-value > 0.05 = a, do not reject H0. it is normally distributed\n"
     ]
    },
    {
     "data": {
      "image/png": "[encoded data removed]",
      "text/plain": [
       "<Figure size 900x600 with 1 Axes>"
      ]
     },
     "metadata": {
      "needs_background": "light"
     },
     "output_type": "display_data"
    }
   ],
   "source": [
    "print('the shape of A looks strange, so we delve into it')\n",
    "stat, p = stats.shapiro(df2['sale'][df2['factor'] == 'A'])\n",
    "print('Statistics=%.4f, p=%.4f' % (stat, p))\n",
    "print(\"Since p-value > 0.05 = a, do not reject H0. it is normally distributed\")\n",
    "fig = sm.qqplot(df2['sale'][df2['factor'] == 'A'], stats.norm, \n",
    "                fit=True, line='45')\n",
    "plt.show()"
   ]
  },
  {
   "cell_type": "code",
   "execution_count": 56,
   "metadata": {},
   "outputs": [
    {
     "name": "stdout",
     "output_type": "stream",
     "text": [
      "Since p-value > 0.05 = a, do not reject H0. The variances of the four treatments are equal.\n",
      "(c.) Yes, it seems that all the requirements are satisfied\n"
     ]
    }
   ],
   "source": [
    "print(\"Since p-value > 0.05 = a, do not reject H0. The variances of the four treatments are equal.\")\n",
    "stats.bartlett(df2['sale'][df2['factor'] == 'A'], \n",
    "               df2['sale'][df2['factor'] == 'B'], \n",
    "               df2['sale'][df2['factor'] == 'C'],\n",
    "               df2['sale'][df2['factor'] == 'D'])\n",
    "print(\"(c.) Yes, it seems that all the requirements are satisfied\")"
   ]
  },
  {
   "cell_type": "markdown",
   "metadata": {},
   "source": [
    "<div style=\"background-color:#D9D9D9;\"><font size=\"5\"> 14.17</font></div>"
   ]
  },
  {
   "cell_type": "markdown",
   "metadata": {},
   "source": [
    "(a.)\n",
    "let μi = the average leaf size in treatment i<br>\n",
    "H0: μ1=μ2=μ3<br>\n",
    "H1: at least two means differ"
   ]
  },
  {
   "cell_type": "code",
   "execution_count": 57,
   "metadata": {},
   "outputs": [
    {
     "data": {
      "text/html": [
       "<div>\n",
       "<style scoped>\n",
       "    .dataframe tbody tr th:only-of-type {\n",
       "        vertical-align: middle;\n",
       "    }\n",
       "\n",
       "    .dataframe tbody tr th {\n",
       "        vertical-align: top;\n",
       "    }\n",
       "\n",
       "    .dataframe thead th {\n",
       "        text-align: right;\n",
       "    }\n",
       "</style>\n",
       "<table border=\"1\" class=\"dataframe\">\n",
       "  <thead>\n",
       "    <tr style=\"text-align: right;\">\n",
       "      <th></th>\n",
       "      <th>id</th>\n",
       "      <th>factor</th>\n",
       "      <th>sale</th>\n",
       "    </tr>\n",
       "  </thead>\n",
       "  <tbody>\n",
       "    <tr>\n",
       "      <th>0</th>\n",
       "      <td>0</td>\n",
       "      <td>A</td>\n",
       "      <td>15.43</td>\n",
       "    </tr>\n",
       "    <tr>\n",
       "      <th>1</th>\n",
       "      <td>1</td>\n",
       "      <td>A</td>\n",
       "      <td>37.34</td>\n",
       "    </tr>\n",
       "    <tr>\n",
       "      <th>2</th>\n",
       "      <td>2</td>\n",
       "      <td>A</td>\n",
       "      <td>25.98</td>\n",
       "    </tr>\n",
       "    <tr>\n",
       "      <th>3</th>\n",
       "      <td>3</td>\n",
       "      <td>A</td>\n",
       "      <td>20.44</td>\n",
       "    </tr>\n",
       "    <tr>\n",
       "      <th>4</th>\n",
       "      <td>4</td>\n",
       "      <td>A</td>\n",
       "      <td>18.76</td>\n",
       "    </tr>\n",
       "    <tr>\n",
       "      <th>...</th>\n",
       "      <td>...</td>\n",
       "      <td>...</td>\n",
       "      <td>...</td>\n",
       "    </tr>\n",
       "    <tr>\n",
       "      <th>145</th>\n",
       "      <td>45</td>\n",
       "      <td>C</td>\n",
       "      <td>15.21</td>\n",
       "    </tr>\n",
       "    <tr>\n",
       "      <th>146</th>\n",
       "      <td>46</td>\n",
       "      <td>C</td>\n",
       "      <td>27.89</td>\n",
       "    </tr>\n",
       "    <tr>\n",
       "      <th>147</th>\n",
       "      <td>47</td>\n",
       "      <td>C</td>\n",
       "      <td>24.56</td>\n",
       "    </tr>\n",
       "    <tr>\n",
       "      <th>148</th>\n",
       "      <td>48</td>\n",
       "      <td>C</td>\n",
       "      <td>28.16</td>\n",
       "    </tr>\n",
       "    <tr>\n",
       "      <th>149</th>\n",
       "      <td>49</td>\n",
       "      <td>C</td>\n",
       "      <td>19.78</td>\n",
       "    </tr>\n",
       "  </tbody>\n",
       "</table>\n",
       "<p>150 rows × 3 columns</p>\n",
       "</div>"
      ],
      "text/plain": [
       "     id factor   sale\n",
       "0     0      A  15.43\n",
       "1     1      A  37.34\n",
       "2     2      A  25.98\n",
       "3     3      A  20.44\n",
       "4     4      A  18.76\n",
       "..   ..    ...    ...\n",
       "145  45      C  15.21\n",
       "146  46      C  27.89\n",
       "147  47      C  24.56\n",
       "148  48      C  28.16\n",
       "149  49      C  19.78\n",
       "\n",
       "[150 rows x 3 columns]"
      ]
     },
     "metadata": {},
     "output_type": "display_data"
    }
   ],
   "source": [
    "df1 = pd.read_excel('Xr14-17.xlsx', usecols=\"A:C\")\n",
    "\n",
    "df1 = df1.rename(columns={'Size-Group 1': 'sale_A', \"Size-Group 2\": \"sale_B\", \"Size-Group 3\": \"sale_C\"})\n",
    "# 需要一個ID欄位\n",
    "df1[\"id\"] = df1.index\n",
    "df2 = pd.wide_to_long(df1, [\"sale\"], sep=\"_\", suffix='\\w+', i=\"id\", j=\"factor\").reset_index()\n",
    "#print(type(df2))\n",
    "df2 = df2[~pd.isnull(df2['sale'])]\n",
    "display(df2)"
   ]
  },
  {
   "cell_type": "code",
   "execution_count": 58,
   "metadata": {},
   "outputs": [
    {
     "data": {
      "text/html": [
       "<div>\n",
       "<style scoped>\n",
       "    .dataframe tbody tr th:only-of-type {\n",
       "        vertical-align: middle;\n",
       "    }\n",
       "\n",
       "    .dataframe tbody tr th {\n",
       "        vertical-align: top;\n",
       "    }\n",
       "\n",
       "    .dataframe thead tr th {\n",
       "        text-align: left;\n",
       "    }\n",
       "\n",
       "    .dataframe thead tr:last-of-type th {\n",
       "        text-align: right;\n",
       "    }\n",
       "</style>\n",
       "<table border=\"1\" class=\"dataframe\">\n",
       "  <thead>\n",
       "    <tr>\n",
       "      <th></th>\n",
       "      <th colspan=\"8\" halign=\"left\">sale</th>\n",
       "    </tr>\n",
       "    <tr>\n",
       "      <th></th>\n",
       "      <th>count</th>\n",
       "      <th>mean</th>\n",
       "      <th>std</th>\n",
       "      <th>min</th>\n",
       "      <th>25%</th>\n",
       "      <th>50%</th>\n",
       "      <th>75%</th>\n",
       "      <th>max</th>\n",
       "    </tr>\n",
       "    <tr>\n",
       "      <th>factor</th>\n",
       "      <th></th>\n",
       "      <th></th>\n",
       "      <th></th>\n",
       "      <th></th>\n",
       "      <th></th>\n",
       "      <th></th>\n",
       "      <th></th>\n",
       "      <th></th>\n",
       "    </tr>\n",
       "  </thead>\n",
       "  <tbody>\n",
       "    <tr>\n",
       "      <th>A</th>\n",
       "      <td>50.0</td>\n",
       "      <td>24.9680</td>\n",
       "      <td>6.944855</td>\n",
       "      <td>13.49</td>\n",
       "      <td>19.5775</td>\n",
       "      <td>25.35</td>\n",
       "      <td>29.465</td>\n",
       "      <td>39.81</td>\n",
       "    </tr>\n",
       "    <tr>\n",
       "      <th>B</th>\n",
       "      <td>50.0</td>\n",
       "      <td>21.6474</td>\n",
       "      <td>7.385159</td>\n",
       "      <td>4.91</td>\n",
       "      <td>15.3500</td>\n",
       "      <td>22.89</td>\n",
       "      <td>26.230</td>\n",
       "      <td>35.39</td>\n",
       "    </tr>\n",
       "    <tr>\n",
       "      <th>C</th>\n",
       "      <td>50.0</td>\n",
       "      <td>17.8446</td>\n",
       "      <td>5.818502</td>\n",
       "      <td>2.64</td>\n",
       "      <td>14.2100</td>\n",
       "      <td>16.88</td>\n",
       "      <td>21.600</td>\n",
       "      <td>29.16</td>\n",
       "    </tr>\n",
       "  </tbody>\n",
       "</table>\n",
       "</div>"
      ],
      "text/plain": [
       "        sale                                                         \n",
       "       count     mean       std    min      25%    50%     75%    max\n",
       "factor                                                               \n",
       "A       50.0  24.9680  6.944855  13.49  19.5775  25.35  29.465  39.81\n",
       "B       50.0  21.6474  7.385159   4.91  15.3500  22.89  26.230  35.39\n",
       "C       50.0  17.8446  5.818502   2.64  14.2100  16.88  21.600  29.16"
      ]
     },
     "execution_count": 58,
     "metadata": {},
     "output_type": "execute_result"
    }
   ],
   "source": [
    "df2 = df2[['factor', 'sale']]\n",
    "df2.describe()\n",
    "df2.groupby(['factor']).describe()"
   ]
  },
  {
   "cell_type": "code",
   "execution_count": 59,
   "metadata": {},
   "outputs": [
    {
     "data": {
      "text/html": [
       "<div>\n",
       "<style scoped>\n",
       "    .dataframe tbody tr th:only-of-type {\n",
       "        vertical-align: middle;\n",
       "    }\n",
       "\n",
       "    .dataframe tbody tr th {\n",
       "        vertical-align: top;\n",
       "    }\n",
       "\n",
       "    .dataframe thead th {\n",
       "        text-align: right;\n",
       "    }\n",
       "</style>\n",
       "<table border=\"1\" class=\"dataframe\">\n",
       "  <thead>\n",
       "    <tr style=\"text-align: right;\">\n",
       "      <th></th>\n",
       "      <th>sum_sq</th>\n",
       "      <th>df</th>\n",
       "      <th>F</th>\n",
       "      <th>PR(&gt;F)</th>\n",
       "    </tr>\n",
       "  </thead>\n",
       "  <tbody>\n",
       "    <tr>\n",
       "      <th>C(factor)</th>\n",
       "      <td>1270.508329</td>\n",
       "      <td>2.0</td>\n",
       "      <td>13.948698</td>\n",
       "      <td>0.000003</td>\n",
       "    </tr>\n",
       "    <tr>\n",
       "      <th>Residual</th>\n",
       "      <td>6694.700804</td>\n",
       "      <td>147.0</td>\n",
       "      <td>NaN</td>\n",
       "      <td>NaN</td>\n",
       "    </tr>\n",
       "  </tbody>\n",
       "</table>\n",
       "</div>"
      ],
      "text/plain": [
       "                sum_sq     df          F    PR(>F)\n",
       "C(factor)  1270.508329    2.0  13.948698  0.000003\n",
       "Residual   6694.700804  147.0        NaN       NaN"
      ]
     },
     "execution_count": 59,
     "metadata": {},
     "output_type": "execute_result"
    }
   ],
   "source": [
    "results = smf.ols('sale ~ C(factor)', data=df2).fit()\n",
    "# results.summary()\n",
    "aov_table = sms.anova_lm(results, typ=2)\n",
    "aov_table"
   ]
  },
  {
   "cell_type": "markdown",
   "metadata": {},
   "source": [
    "Since the p-value<0.05, reject H0. There is sufficient evidence to show that leaf sizes differ between the three groups"
   ]
  },
  {
   "cell_type": "code",
   "execution_count": 60,
   "metadata": {},
   "outputs": [
    {
     "name": "stdout",
     "output_type": "stream",
     "text": [
      "it seems that they're all approximately normally distributed\n"
     ]
    },
    {
     "data": {
      "image/png": "[encoded data removed]",
      "text/plain": [
       "<Figure size 900x600 with 4 Axes>"
      ]
     },
     "metadata": {
      "needs_background": "light"
     },
     "output_type": "display_data"
    }
   ],
   "source": [
    "#check Normality\n",
    "_ = df2['sale'].hist(by=df2['factor'], bins=7)\n",
    "print(\"it seems that they're all approximately normally distributed\")"
   ]
  },
  {
   "cell_type": "code",
   "execution_count": 61,
   "metadata": {},
   "outputs": [
    {
     "name": "stdout",
     "output_type": "stream",
     "text": [
      "Since p-value > 0.05 = a, do not reject H0. The variances of the three treatments are equal.\n"
     ]
    },
    {
     "data": {
      "text/plain": [
       "BartlettResult(statistic=2.859391024454145, pvalue=0.23938179997915682)"
      ]
     },
     "execution_count": 61,
     "metadata": {},
     "output_type": "execute_result"
    }
   ],
   "source": [
    "print(\"Since p-value > 0.05 = a, do not reject H0. The variances of the three treatments are equal.\")\n",
    "stats.bartlett(df2['sale'][df2['factor'] == 'A'], \n",
    "               df2['sale'][df2['factor'] == 'B'], \n",
    "               df2['sale'][df2['factor'] == 'C'])"
   ]
  },
  {
   "cell_type": "markdown",
   "metadata": {},
   "source": [
    "(b.)\n",
    "let μi = the average amounts of nicotine in treatment i<br>\n",
    "H0: μ1=μ2=μ3<br>\n",
    "H1: at least two means differ"
   ]
  },
  {
   "cell_type": "code",
   "execution_count": 62,
   "metadata": {},
   "outputs": [
    {
     "data": {
      "text/html": [
       "<div>\n",
       "<style scoped>\n",
       "    .dataframe tbody tr th:only-of-type {\n",
       "        vertical-align: middle;\n",
       "    }\n",
       "\n",
       "    .dataframe tbody tr th {\n",
       "        vertical-align: top;\n",
       "    }\n",
       "\n",
       "    .dataframe thead th {\n",
       "        text-align: right;\n",
       "    }\n",
       "</style>\n",
       "<table border=\"1\" class=\"dataframe\">\n",
       "  <thead>\n",
       "    <tr style=\"text-align: right;\">\n",
       "      <th></th>\n",
       "      <th>id</th>\n",
       "      <th>factor</th>\n",
       "      <th>sale</th>\n",
       "    </tr>\n",
       "  </thead>\n",
       "  <tbody>\n",
       "    <tr>\n",
       "      <th>0</th>\n",
       "      <td>0</td>\n",
       "      <td>A</td>\n",
       "      <td>18.34</td>\n",
       "    </tr>\n",
       "    <tr>\n",
       "      <th>1</th>\n",
       "      <td>1</td>\n",
       "      <td>A</td>\n",
       "      <td>17.26</td>\n",
       "    </tr>\n",
       "    <tr>\n",
       "      <th>2</th>\n",
       "      <td>2</td>\n",
       "      <td>A</td>\n",
       "      <td>11.26</td>\n",
       "    </tr>\n",
       "    <tr>\n",
       "      <th>3</th>\n",
       "      <td>3</td>\n",
       "      <td>A</td>\n",
       "      <td>20.09</td>\n",
       "    </tr>\n",
       "    <tr>\n",
       "      <th>4</th>\n",
       "      <td>4</td>\n",
       "      <td>A</td>\n",
       "      <td>13.71</td>\n",
       "    </tr>\n",
       "    <tr>\n",
       "      <th>...</th>\n",
       "      <td>...</td>\n",
       "      <td>...</td>\n",
       "      <td>...</td>\n",
       "    </tr>\n",
       "    <tr>\n",
       "      <th>145</th>\n",
       "      <td>45</td>\n",
       "      <td>C</td>\n",
       "      <td>11.37</td>\n",
       "    </tr>\n",
       "    <tr>\n",
       "      <th>146</th>\n",
       "      <td>46</td>\n",
       "      <td>C</td>\n",
       "      <td>9.02</td>\n",
       "    </tr>\n",
       "    <tr>\n",
       "      <th>147</th>\n",
       "      <td>47</td>\n",
       "      <td>C</td>\n",
       "      <td>11.97</td>\n",
       "    </tr>\n",
       "    <tr>\n",
       "      <th>148</th>\n",
       "      <td>48</td>\n",
       "      <td>C</td>\n",
       "      <td>11.05</td>\n",
       "    </tr>\n",
       "    <tr>\n",
       "      <th>149</th>\n",
       "      <td>49</td>\n",
       "      <td>C</td>\n",
       "      <td>11.20</td>\n",
       "    </tr>\n",
       "  </tbody>\n",
       "</table>\n",
       "<p>150 rows × 3 columns</p>\n",
       "</div>"
      ],
      "text/plain": [
       "     id factor   sale\n",
       "0     0      A  18.34\n",
       "1     1      A  17.26\n",
       "2     2      A  11.26\n",
       "3     3      A  20.09\n",
       "4     4      A  13.71\n",
       "..   ..    ...    ...\n",
       "145  45      C  11.37\n",
       "146  46      C   9.02\n",
       "147  47      C  11.97\n",
       "148  48      C  11.05\n",
       "149  49      C  11.20\n",
       "\n",
       "[150 rows x 3 columns]"
      ]
     },
     "metadata": {},
     "output_type": "display_data"
    }
   ],
   "source": [
    "df1 = pd.read_excel('Xr14-17.xlsx', usecols=\"D:F\")\n",
    "\n",
    "df1 = df1.rename(columns={'Nicotine-Group 1': 'sale_A', \"Nicotine-Group 2\": \"sale_B\", \"Nicotine-Group 3\": \"sale_C\"})\n",
    "# 需要一個ID欄位\n",
    "df1[\"id\"] = df1.index\n",
    "df2 = pd.wide_to_long(df1, [\"sale\"], sep=\"_\", suffix='\\w+', i=\"id\", j=\"factor\").reset_index()\n",
    "#print(type(df2))\n",
    "df2 = df2[~pd.isnull(df2['sale'])]\n",
    "display(df2)"
   ]
  },
  {
   "cell_type": "code",
   "execution_count": 63,
   "metadata": {},
   "outputs": [
    {
     "data": {
      "text/html": [
       "<div>\n",
       "<style scoped>\n",
       "    .dataframe tbody tr th:only-of-type {\n",
       "        vertical-align: middle;\n",
       "    }\n",
       "\n",
       "    .dataframe tbody tr th {\n",
       "        vertical-align: top;\n",
       "    }\n",
       "\n",
       "    .dataframe thead tr th {\n",
       "        text-align: left;\n",
       "    }\n",
       "\n",
       "    .dataframe thead tr:last-of-type th {\n",
       "        text-align: right;\n",
       "    }\n",
       "</style>\n",
       "<table border=\"1\" class=\"dataframe\">\n",
       "  <thead>\n",
       "    <tr>\n",
       "      <th></th>\n",
       "      <th colspan=\"8\" halign=\"left\">sale</th>\n",
       "    </tr>\n",
       "    <tr>\n",
       "      <th></th>\n",
       "      <th>count</th>\n",
       "      <th>mean</th>\n",
       "      <th>std</th>\n",
       "      <th>min</th>\n",
       "      <th>25%</th>\n",
       "      <th>50%</th>\n",
       "      <th>75%</th>\n",
       "      <th>max</th>\n",
       "    </tr>\n",
       "    <tr>\n",
       "      <th>factor</th>\n",
       "      <th></th>\n",
       "      <th></th>\n",
       "      <th></th>\n",
       "      <th></th>\n",
       "      <th></th>\n",
       "      <th></th>\n",
       "      <th></th>\n",
       "      <th></th>\n",
       "    </tr>\n",
       "  </thead>\n",
       "  <tbody>\n",
       "    <tr>\n",
       "      <th>A</th>\n",
       "      <td>50.0</td>\n",
       "      <td>15.5234</td>\n",
       "      <td>1.927604</td>\n",
       "      <td>11.26</td>\n",
       "      <td>14.2125</td>\n",
       "      <td>15.705</td>\n",
       "      <td>16.5575</td>\n",
       "      <td>20.09</td>\n",
       "    </tr>\n",
       "    <tr>\n",
       "      <th>B</th>\n",
       "      <td>50.0</td>\n",
       "      <td>13.3854</td>\n",
       "      <td>1.895423</td>\n",
       "      <td>4.87</td>\n",
       "      <td>12.7650</td>\n",
       "      <td>13.405</td>\n",
       "      <td>14.4825</td>\n",
       "      <td>18.17</td>\n",
       "    </tr>\n",
       "    <tr>\n",
       "      <th>C</th>\n",
       "      <td>50.0</td>\n",
       "      <td>10.0764</td>\n",
       "      <td>1.955812</td>\n",
       "      <td>4.87</td>\n",
       "      <td>9.0400</td>\n",
       "      <td>10.630</td>\n",
       "      <td>11.3525</td>\n",
       "      <td>13.64</td>\n",
       "    </tr>\n",
       "  </tbody>\n",
       "</table>\n",
       "</div>"
      ],
      "text/plain": [
       "        sale                                                           \n",
       "       count     mean       std    min      25%     50%      75%    max\n",
       "factor                                                                 \n",
       "A       50.0  15.5234  1.927604  11.26  14.2125  15.705  16.5575  20.09\n",
       "B       50.0  13.3854  1.895423   4.87  12.7650  13.405  14.4825  18.17\n",
       "C       50.0  10.0764  1.955812   4.87   9.0400  10.630  11.3525  13.64"
      ]
     },
     "execution_count": 63,
     "metadata": {},
     "output_type": "execute_result"
    }
   ],
   "source": [
    "df2 = df2[['factor', 'sale']]\n",
    "df2.describe()\n",
    "df2.groupby(['factor']).describe()"
   ]
  },
  {
   "cell_type": "code",
   "execution_count": 64,
   "metadata": {},
   "outputs": [
    {
     "data": {
      "text/html": [
       "<div>\n",
       "<style scoped>\n",
       "    .dataframe tbody tr th:only-of-type {\n",
       "        vertical-align: middle;\n",
       "    }\n",
       "\n",
       "    .dataframe tbody tr th {\n",
       "        vertical-align: top;\n",
       "    }\n",
       "\n",
       "    .dataframe thead th {\n",
       "        text-align: right;\n",
       "    }\n",
       "</style>\n",
       "<table border=\"1\" class=\"dataframe\">\n",
       "  <thead>\n",
       "    <tr style=\"text-align: right;\">\n",
       "      <th></th>\n",
       "      <th>sum_sq</th>\n",
       "      <th>df</th>\n",
       "      <th>F</th>\n",
       "      <th>PR(&gt;F)</th>\n",
       "    </tr>\n",
       "  </thead>\n",
       "  <tbody>\n",
       "    <tr>\n",
       "      <th>C(factor)</th>\n",
       "      <td>753.172233</td>\n",
       "      <td>2.0</td>\n",
       "      <td>101.473928</td>\n",
       "      <td>2.058633e-28</td>\n",
       "    </tr>\n",
       "    <tr>\n",
       "      <th>Residual</th>\n",
       "      <td>545.540716</td>\n",
       "      <td>147.0</td>\n",
       "      <td>NaN</td>\n",
       "      <td>NaN</td>\n",
       "    </tr>\n",
       "  </tbody>\n",
       "</table>\n",
       "</div>"
      ],
      "text/plain": [
       "               sum_sq     df           F        PR(>F)\n",
       "C(factor)  753.172233    2.0  101.473928  2.058633e-28\n",
       "Residual   545.540716  147.0         NaN           NaN"
      ]
     },
     "execution_count": 64,
     "metadata": {},
     "output_type": "execute_result"
    }
   ],
   "source": [
    "results = smf.ols('sale ~ C(factor)', data=df2).fit()\n",
    "# results.summary()\n",
    "aov_table = sms.anova_lm(results, typ=2)\n",
    "aov_table"
   ]
  },
  {
   "cell_type": "markdown",
   "metadata": {},
   "source": [
    "Since the p-value is much smaller than 0.05, reject H0. There is overwhelming evidence to show that the average amount of nicotine differ between the three groups"
   ]
  },
  {
   "cell_type": "code",
   "execution_count": 65,
   "metadata": {},
   "outputs": [
    {
     "name": "stdout",
     "output_type": "stream",
     "text": [
      "it seems that they're all approximately normally distributed\n"
     ]
    },
    {
     "data": {
      "image/png": "[encoded data removed]",
      "text/plain": [
       "<Figure size 900x600 with 4 Axes>"
      ]
     },
     "metadata": {
      "needs_background": "light"
     },
     "output_type": "display_data"
    }
   ],
   "source": [
    "#check Normality\n",
    "_ = df2['sale'].hist(by=df2['factor'], bins=7)\n",
    "print(\"it seems that they're all approximately normally distributed\")"
   ]
  },
  {
   "cell_type": "code",
   "execution_count": 66,
   "metadata": {},
   "outputs": [
    {
     "name": "stdout",
     "output_type": "stream",
     "text": [
      "Since p-value > 0.05 = a, do not reject H0. The variances of the three treatments are equal.\n"
     ]
    },
    {
     "data": {
      "text/plain": [
       "BartlettResult(statistic=0.04781076857982709, pvalue=0.9763780860936427)"
      ]
     },
     "execution_count": 66,
     "metadata": {},
     "output_type": "execute_result"
    }
   ],
   "source": [
    "print(\"Since p-value > 0.05 = a, do not reject H0. The variances of the three treatments are equal.\")\n",
    "stats.bartlett(df2['sale'][df2['factor'] == 'A'], \n",
    "               df2['sale'][df2['factor'] == 'B'], \n",
    "               df2['sale'][df2['factor'] == 'C'])"
   ]
  },
  {
   "cell_type": "markdown",
   "metadata": {},
   "source": [
    "<div style=\"background-color:#D9D9D9;\"><font size=\"5\"> 14.22</font></div>"
   ]
  },
  {
   "cell_type": "markdown",
   "metadata": {},
   "source": [
    "### Reading\n",
    "let μi = the average grade of Reading in Country i<br>\n",
    "H0: μ1=μ2=μ3<br>\n",
    "H1: at least two means differ"
   ]
  },
  {
   "cell_type": "code",
   "execution_count": 67,
   "metadata": {},
   "outputs": [
    {
     "data": {
      "text/html": [
       "<div>\n",
       "<style scoped>\n",
       "    .dataframe tbody tr th:only-of-type {\n",
       "        vertical-align: middle;\n",
       "    }\n",
       "\n",
       "    .dataframe tbody tr th {\n",
       "        vertical-align: top;\n",
       "    }\n",
       "\n",
       "    .dataframe thead th {\n",
       "        text-align: right;\n",
       "    }\n",
       "</style>\n",
       "<table border=\"1\" class=\"dataframe\">\n",
       "  <thead>\n",
       "    <tr style=\"text-align: right;\">\n",
       "      <th></th>\n",
       "      <th>id</th>\n",
       "      <th>factor</th>\n",
       "      <th>sale</th>\n",
       "    </tr>\n",
       "  </thead>\n",
       "  <tbody>\n",
       "    <tr>\n",
       "      <th>0</th>\n",
       "      <td>0</td>\n",
       "      <td>A</td>\n",
       "      <td>500.0</td>\n",
       "    </tr>\n",
       "    <tr>\n",
       "      <th>1</th>\n",
       "      <td>1</td>\n",
       "      <td>A</td>\n",
       "      <td>481.0</td>\n",
       "    </tr>\n",
       "    <tr>\n",
       "      <th>2</th>\n",
       "      <td>2</td>\n",
       "      <td>A</td>\n",
       "      <td>503.0</td>\n",
       "    </tr>\n",
       "    <tr>\n",
       "      <th>3</th>\n",
       "      <td>3</td>\n",
       "      <td>A</td>\n",
       "      <td>488.0</td>\n",
       "    </tr>\n",
       "    <tr>\n",
       "      <th>4</th>\n",
       "      <td>4</td>\n",
       "      <td>A</td>\n",
       "      <td>468.0</td>\n",
       "    </tr>\n",
       "    <tr>\n",
       "      <th>...</th>\n",
       "      <td>...</td>\n",
       "      <td>...</td>\n",
       "      <td>...</td>\n",
       "    </tr>\n",
       "    <tr>\n",
       "      <th>1741</th>\n",
       "      <td>493</td>\n",
       "      <td>C</td>\n",
       "      <td>455.0</td>\n",
       "    </tr>\n",
       "    <tr>\n",
       "      <th>1742</th>\n",
       "      <td>494</td>\n",
       "      <td>C</td>\n",
       "      <td>480.0</td>\n",
       "    </tr>\n",
       "    <tr>\n",
       "      <th>1743</th>\n",
       "      <td>495</td>\n",
       "      <td>C</td>\n",
       "      <td>502.0</td>\n",
       "    </tr>\n",
       "    <tr>\n",
       "      <th>1744</th>\n",
       "      <td>496</td>\n",
       "      <td>C</td>\n",
       "      <td>490.0</td>\n",
       "    </tr>\n",
       "    <tr>\n",
       "      <th>1745</th>\n",
       "      <td>497</td>\n",
       "      <td>C</td>\n",
       "      <td>486.0</td>\n",
       "    </tr>\n",
       "  </tbody>\n",
       "</table>\n",
       "<p>1531 rows × 3 columns</p>\n",
       "</div>"
      ],
      "text/plain": [
       "       id factor   sale\n",
       "0       0      A  500.0\n",
       "1       1      A  481.0\n",
       "2       2      A  503.0\n",
       "3       3      A  488.0\n",
       "4       4      A  468.0\n",
       "...   ...    ...    ...\n",
       "1741  493      C  455.0\n",
       "1742  494      C  480.0\n",
       "1743  495      C  502.0\n",
       "1744  496      C  490.0\n",
       "1745  497      C  486.0\n",
       "\n",
       "[1531 rows x 3 columns]"
      ]
     },
     "metadata": {},
     "output_type": "display_data"
    }
   ],
   "source": [
    "df1 = pd.read_excel('Xr14-22.xlsx', usecols=\"A:C\")\n",
    "df1 = df1.rename(columns={'US Reading': 'sale_A', \"Canada Reading\": \"sale_B\", \"UK Reading\": \"sale_C\"})\n",
    "# 需要一個ID欄位\n",
    "df1[\"id\"] = df1.index\n",
    "df2 = pd.wide_to_long(df1, [\"sale\"], sep=\"_\", suffix='\\w+', i=\"id\", j=\"factor\").reset_index()\n",
    "#print(type(df2))\n",
    "df2 = df2[~pd.isnull(df2['sale'])]\n",
    "display(df2)"
   ]
  },
  {
   "cell_type": "code",
   "execution_count": 68,
   "metadata": {},
   "outputs": [
    {
     "data": {
      "text/html": [
       "<div>\n",
       "<style scoped>\n",
       "    .dataframe tbody tr th:only-of-type {\n",
       "        vertical-align: middle;\n",
       "    }\n",
       "\n",
       "    .dataframe tbody tr th {\n",
       "        vertical-align: top;\n",
       "    }\n",
       "\n",
       "    .dataframe thead tr th {\n",
       "        text-align: left;\n",
       "    }\n",
       "\n",
       "    .dataframe thead tr:last-of-type th {\n",
       "        text-align: right;\n",
       "    }\n",
       "</style>\n",
       "<table border=\"1\" class=\"dataframe\">\n",
       "  <thead>\n",
       "    <tr>\n",
       "      <th></th>\n",
       "      <th colspan=\"8\" halign=\"left\">sale</th>\n",
       "    </tr>\n",
       "    <tr>\n",
       "      <th></th>\n",
       "      <th>count</th>\n",
       "      <th>mean</th>\n",
       "      <th>std</th>\n",
       "      <th>min</th>\n",
       "      <th>25%</th>\n",
       "      <th>50%</th>\n",
       "      <th>75%</th>\n",
       "      <th>max</th>\n",
       "    </tr>\n",
       "    <tr>\n",
       "      <th>factor</th>\n",
       "      <th></th>\n",
       "      <th></th>\n",
       "      <th></th>\n",
       "      <th></th>\n",
       "      <th></th>\n",
       "      <th></th>\n",
       "      <th></th>\n",
       "      <th></th>\n",
       "    </tr>\n",
       "  </thead>\n",
       "  <tbody>\n",
       "    <tr>\n",
       "      <th>A</th>\n",
       "      <td>624.0</td>\n",
       "      <td>500.272436</td>\n",
       "      <td>24.733757</td>\n",
       "      <td>406.0</td>\n",
       "      <td>484.0</td>\n",
       "      <td>500.0</td>\n",
       "      <td>517.0</td>\n",
       "      <td>567.0</td>\n",
       "    </tr>\n",
       "    <tr>\n",
       "      <th>B</th>\n",
       "      <td>409.0</td>\n",
       "      <td>524.386308</td>\n",
       "      <td>26.198103</td>\n",
       "      <td>452.0</td>\n",
       "      <td>505.0</td>\n",
       "      <td>523.0</td>\n",
       "      <td>542.0</td>\n",
       "      <td>596.0</td>\n",
       "    </tr>\n",
       "    <tr>\n",
       "      <th>C</th>\n",
       "      <td>498.0</td>\n",
       "      <td>493.785141</td>\n",
       "      <td>24.663286</td>\n",
       "      <td>413.0</td>\n",
       "      <td>479.0</td>\n",
       "      <td>497.0</td>\n",
       "      <td>510.0</td>\n",
       "      <td>572.0</td>\n",
       "    </tr>\n",
       "  </tbody>\n",
       "</table>\n",
       "</div>"
      ],
      "text/plain": [
       "         sale                                                          \n",
       "        count        mean        std    min    25%    50%    75%    max\n",
       "factor                                                                 \n",
       "A       624.0  500.272436  24.733757  406.0  484.0  500.0  517.0  567.0\n",
       "B       409.0  524.386308  26.198103  452.0  505.0  523.0  542.0  596.0\n",
       "C       498.0  493.785141  24.663286  413.0  479.0  497.0  510.0  572.0"
      ]
     },
     "execution_count": 68,
     "metadata": {},
     "output_type": "execute_result"
    }
   ],
   "source": [
    "df2 = df2[['factor', 'sale']]\n",
    "df2.describe()\n",
    "df2.groupby(['factor']).describe()"
   ]
  },
  {
   "cell_type": "code",
   "execution_count": 69,
   "metadata": {},
   "outputs": [
    {
     "data": {
      "text/html": [
       "<div>\n",
       "<style scoped>\n",
       "    .dataframe tbody tr th:only-of-type {\n",
       "        vertical-align: middle;\n",
       "    }\n",
       "\n",
       "    .dataframe tbody tr th {\n",
       "        vertical-align: top;\n",
       "    }\n",
       "\n",
       "    .dataframe thead th {\n",
       "        text-align: right;\n",
       "    }\n",
       "</style>\n",
       "<table border=\"1\" class=\"dataframe\">\n",
       "  <thead>\n",
       "    <tr style=\"text-align: right;\">\n",
       "      <th></th>\n",
       "      <th>sum_sq</th>\n",
       "      <th>df</th>\n",
       "      <th>F</th>\n",
       "      <th>PR(&gt;F)</th>\n",
       "    </tr>\n",
       "  </thead>\n",
       "  <tbody>\n",
       "    <tr>\n",
       "      <th>C(factor)</th>\n",
       "      <td>230055.473983</td>\n",
       "      <td>2.0</td>\n",
       "      <td>182.427052</td>\n",
       "      <td>8.969061e-72</td>\n",
       "    </tr>\n",
       "    <tr>\n",
       "      <th>Residual</th>\n",
       "      <td>963466.659263</td>\n",
       "      <td>1528.0</td>\n",
       "      <td>NaN</td>\n",
       "      <td>NaN</td>\n",
       "    </tr>\n",
       "  </tbody>\n",
       "</table>\n",
       "</div>"
      ],
      "text/plain": [
       "                  sum_sq      df           F        PR(>F)\n",
       "C(factor)  230055.473983     2.0  182.427052  8.969061e-72\n",
       "Residual   963466.659263  1528.0         NaN           NaN"
      ]
     },
     "execution_count": 69,
     "metadata": {},
     "output_type": "execute_result"
    }
   ],
   "source": [
    "results = smf.ols('sale ~ C(factor)', data=df2).fit()\n",
    "# results.summary()\n",
    "aov_table = sms.anova_lm(results, typ=2)\n",
    "aov_table"
   ]
  },
  {
   "cell_type": "markdown",
   "metadata": {},
   "source": [
    "Since the p-value is much smaller than 0.05, reject H0. There is overwhelming evidence to show that the test grade differ between the three groups in Reading."
   ]
  },
  {
   "cell_type": "code",
   "execution_count": 70,
   "metadata": {},
   "outputs": [
    {
     "name": "stdout",
     "output_type": "stream",
     "text": [
      "it seems that they're all approximately normally distributed\n",
      "Since p-value > 0.05 = a, do not reject H0. The variances of the three treatments are equal.\n"
     ]
    },
    {
     "data": {
      "text/plain": [
       "BartlettResult(statistic=2.1065784569498787, pvalue=0.3487886148209796)"
      ]
     },
     "execution_count": 70,
     "metadata": {},
     "output_type": "execute_result"
    },
    {
     "data": {
      "image/png": "[encoded data removed]",
      "text/plain": [
       "<Figure size 900x600 with 4 Axes>"
      ]
     },
     "metadata": {
      "needs_background": "light"
     },
     "output_type": "display_data"
    }
   ],
   "source": [
    "#check Normality\n",
    "_ = df2['sale'].hist(by=df2['factor'], bins=7)\n",
    "print(\"it seems that they're all approximately normally distributed\")\n",
    "print(\"Since p-value > 0.05 = a, do not reject H0. The variances of the three treatments are equal.\")\n",
    "stats.bartlett(df2['sale'][df2['factor'] == 'A'], \n",
    "               df2['sale'][df2['factor'] == 'B'], \n",
    "               df2['sale'][df2['factor'] == 'C'])"
   ]
  },
  {
   "cell_type": "markdown",
   "metadata": {},
   "source": [
    "### Math\n",
    "let μi = the average grade of Math in Country i<br>\n",
    "H0: μ1=μ2=μ3<br>\n",
    "H1: at least two means differ"
   ]
  },
  {
   "cell_type": "code",
   "execution_count": 71,
   "metadata": {},
   "outputs": [
    {
     "data": {
      "text/html": [
       "<div>\n",
       "<style scoped>\n",
       "    .dataframe tbody tr th:only-of-type {\n",
       "        vertical-align: middle;\n",
       "    }\n",
       "\n",
       "    .dataframe tbody tr th {\n",
       "        vertical-align: top;\n",
       "    }\n",
       "\n",
       "    .dataframe thead th {\n",
       "        text-align: right;\n",
       "    }\n",
       "</style>\n",
       "<table border=\"1\" class=\"dataframe\">\n",
       "  <thead>\n",
       "    <tr style=\"text-align: right;\">\n",
       "      <th></th>\n",
       "      <th>id</th>\n",
       "      <th>factor</th>\n",
       "      <th>sale</th>\n",
       "    </tr>\n",
       "  </thead>\n",
       "  <tbody>\n",
       "    <tr>\n",
       "      <th>0</th>\n",
       "      <td>0</td>\n",
       "      <td>A</td>\n",
       "      <td>494.0</td>\n",
       "    </tr>\n",
       "    <tr>\n",
       "      <th>1</th>\n",
       "      <td>1</td>\n",
       "      <td>A</td>\n",
       "      <td>456.0</td>\n",
       "    </tr>\n",
       "    <tr>\n",
       "      <th>2</th>\n",
       "      <td>2</td>\n",
       "      <td>A</td>\n",
       "      <td>485.0</td>\n",
       "    </tr>\n",
       "    <tr>\n",
       "      <th>3</th>\n",
       "      <td>3</td>\n",
       "      <td>A</td>\n",
       "      <td>511.0</td>\n",
       "    </tr>\n",
       "    <tr>\n",
       "      <th>4</th>\n",
       "      <td>4</td>\n",
       "      <td>A</td>\n",
       "      <td>499.0</td>\n",
       "    </tr>\n",
       "    <tr>\n",
       "      <th>...</th>\n",
       "      <td>...</td>\n",
       "      <td>...</td>\n",
       "      <td>...</td>\n",
       "    </tr>\n",
       "    <tr>\n",
       "      <th>1741</th>\n",
       "      <td>493</td>\n",
       "      <td>C</td>\n",
       "      <td>507.0</td>\n",
       "    </tr>\n",
       "    <tr>\n",
       "      <th>1742</th>\n",
       "      <td>494</td>\n",
       "      <td>C</td>\n",
       "      <td>422.0</td>\n",
       "    </tr>\n",
       "    <tr>\n",
       "      <th>1743</th>\n",
       "      <td>495</td>\n",
       "      <td>C</td>\n",
       "      <td>472.0</td>\n",
       "    </tr>\n",
       "    <tr>\n",
       "      <th>1744</th>\n",
       "      <td>496</td>\n",
       "      <td>C</td>\n",
       "      <td>483.0</td>\n",
       "    </tr>\n",
       "    <tr>\n",
       "      <th>1745</th>\n",
       "      <td>497</td>\n",
       "      <td>C</td>\n",
       "      <td>486.0</td>\n",
       "    </tr>\n",
       "  </tbody>\n",
       "</table>\n",
       "<p>1531 rows × 3 columns</p>\n",
       "</div>"
      ],
      "text/plain": [
       "       id factor   sale\n",
       "0       0      A  494.0\n",
       "1       1      A  456.0\n",
       "2       2      A  485.0\n",
       "3       3      A  511.0\n",
       "4       4      A  499.0\n",
       "...   ...    ...    ...\n",
       "1741  493      C  507.0\n",
       "1742  494      C  422.0\n",
       "1743  495      C  472.0\n",
       "1744  496      C  483.0\n",
       "1745  497      C  486.0\n",
       "\n",
       "[1531 rows x 3 columns]"
      ]
     },
     "metadata": {},
     "output_type": "display_data"
    },
    {
     "name": "stdout",
     "output_type": "stream",
     "text": [
      "it seems that they're all approximately normally distributed\n",
      "Since p-value > 0.05 = a, do not reject H0. The variances of the three treatments are equal.\n"
     ]
    },
    {
     "data": {
      "text/plain": [
       "BartlettResult(statistic=0.458251322927984, pvalue=0.7952285976363944)"
      ]
     },
     "execution_count": 71,
     "metadata": {},
     "output_type": "execute_result"
    },
    {
     "data": {
      "image/png": "[encoded data removed]",
      "text/plain": [
       "<Figure size 900x600 with 4 Axes>"
      ]
     },
     "metadata": {
      "needs_background": "light"
     },
     "output_type": "display_data"
    }
   ],
   "source": [
    "df1 = pd.read_excel('Xr14-22.xlsx', usecols=\"D:F\")\n",
    "df1 = df1.rename(columns={'US Math': 'sale_A', \"Canada Math\": \"sale_B\", \"UK Math\": \"sale_C\"})\n",
    "# 需要一個ID欄位\n",
    "df1[\"id\"] = df1.index\n",
    "df2 = pd.wide_to_long(df1, [\"sale\"], sep=\"_\", suffix='\\w+', i=\"id\", j=\"factor\").reset_index()\n",
    "#print(type(df2))\n",
    "df2 = df2[~pd.isnull(df2['sale'])]\n",
    "display(df2)\n",
    "\n",
    "#check Normality\n",
    "_ = df2['sale'].hist(by=df2['factor'], bins=7)\n",
    "print(\"it seems that they're all approximately normally distributed\")\n",
    "print(\"Since p-value > 0.05 = a, do not reject H0. The variances of the three treatments are equal.\")\n",
    "stats.bartlett(df2['sale'][df2['factor'] == 'A'], \n",
    "               df2['sale'][df2['factor'] == 'B'], \n",
    "               df2['sale'][df2['factor'] == 'C'])"
   ]
  },
  {
   "cell_type": "code",
   "execution_count": 72,
   "metadata": {},
   "outputs": [
    {
     "data": {
      "text/html": [
       "<div>\n",
       "<style scoped>\n",
       "    .dataframe tbody tr th:only-of-type {\n",
       "        vertical-align: middle;\n",
       "    }\n",
       "\n",
       "    .dataframe tbody tr th {\n",
       "        vertical-align: top;\n",
       "    }\n",
       "\n",
       "    .dataframe thead tr th {\n",
       "        text-align: left;\n",
       "    }\n",
       "\n",
       "    .dataframe thead tr:last-of-type th {\n",
       "        text-align: right;\n",
       "    }\n",
       "</style>\n",
       "<table border=\"1\" class=\"dataframe\">\n",
       "  <thead>\n",
       "    <tr>\n",
       "      <th></th>\n",
       "      <th colspan=\"8\" halign=\"left\">sale</th>\n",
       "    </tr>\n",
       "    <tr>\n",
       "      <th></th>\n",
       "      <th>count</th>\n",
       "      <th>mean</th>\n",
       "      <th>std</th>\n",
       "      <th>min</th>\n",
       "      <th>25%</th>\n",
       "      <th>50%</th>\n",
       "      <th>75%</th>\n",
       "      <th>max</th>\n",
       "    </tr>\n",
       "    <tr>\n",
       "      <th>factor</th>\n",
       "      <th></th>\n",
       "      <th></th>\n",
       "      <th></th>\n",
       "      <th></th>\n",
       "      <th></th>\n",
       "      <th></th>\n",
       "      <th></th>\n",
       "      <th></th>\n",
       "    </tr>\n",
       "  </thead>\n",
       "  <tbody>\n",
       "    <tr>\n",
       "      <th>A</th>\n",
       "      <td>624.0</td>\n",
       "      <td>486.631410</td>\n",
       "      <td>24.888877</td>\n",
       "      <td>408.0</td>\n",
       "      <td>470.0</td>\n",
       "      <td>486.0</td>\n",
       "      <td>503.0</td>\n",
       "      <td>568.0</td>\n",
       "    </tr>\n",
       "    <tr>\n",
       "      <th>B</th>\n",
       "      <td>409.0</td>\n",
       "      <td>527.474328</td>\n",
       "      <td>25.573614</td>\n",
       "      <td>462.0</td>\n",
       "      <td>510.0</td>\n",
       "      <td>527.0</td>\n",
       "      <td>545.0</td>\n",
       "      <td>597.0</td>\n",
       "    </tr>\n",
       "    <tr>\n",
       "      <th>C</th>\n",
       "      <td>498.0</td>\n",
       "      <td>492.042169</td>\n",
       "      <td>25.461539</td>\n",
       "      <td>418.0</td>\n",
       "      <td>476.0</td>\n",
       "      <td>492.0</td>\n",
       "      <td>508.0</td>\n",
       "      <td>559.0</td>\n",
       "    </tr>\n",
       "  </tbody>\n",
       "</table>\n",
       "</div>"
      ],
      "text/plain": [
       "         sale                                                          \n",
       "        count        mean        std    min    25%    50%    75%    max\n",
       "factor                                                                 \n",
       "A       624.0  486.631410  24.888877  408.0  470.0  486.0  503.0  568.0\n",
       "B       409.0  527.474328  25.573614  462.0  510.0  527.0  545.0  597.0\n",
       "C       498.0  492.042169  25.461539  418.0  476.0  492.0  508.0  559.0"
      ]
     },
     "execution_count": 72,
     "metadata": {},
     "output_type": "execute_result"
    }
   ],
   "source": [
    "df2 = df2[['factor', 'sale']]\n",
    "df2.describe()\n",
    "df2.groupby(['factor']).describe()"
   ]
  },
  {
   "cell_type": "code",
   "execution_count": 73,
   "metadata": {},
   "outputs": [
    {
     "data": {
      "text/html": [
       "<div>\n",
       "<style scoped>\n",
       "    .dataframe tbody tr th:only-of-type {\n",
       "        vertical-align: middle;\n",
       "    }\n",
       "\n",
       "    .dataframe tbody tr th {\n",
       "        vertical-align: top;\n",
       "    }\n",
       "\n",
       "    .dataframe thead th {\n",
       "        text-align: right;\n",
       "    }\n",
       "</style>\n",
       "<table border=\"1\" class=\"dataframe\">\n",
       "  <thead>\n",
       "    <tr style=\"text-align: right;\">\n",
       "      <th></th>\n",
       "      <th>sum_sq</th>\n",
       "      <th>df</th>\n",
       "      <th>F</th>\n",
       "      <th>PR(&gt;F)</th>\n",
       "    </tr>\n",
       "  </thead>\n",
       "  <tbody>\n",
       "    <tr>\n",
       "      <th>C(factor)</th>\n",
       "      <td>451041.661801</td>\n",
       "      <td>2.0</td>\n",
       "      <td>353.447092</td>\n",
       "      <td>6.885271e-127</td>\n",
       "    </tr>\n",
       "    <tr>\n",
       "      <th>Residual</th>\n",
       "      <td>974957.319257</td>\n",
       "      <td>1528.0</td>\n",
       "      <td>NaN</td>\n",
       "      <td>NaN</td>\n",
       "    </tr>\n",
       "  </tbody>\n",
       "</table>\n",
       "</div>"
      ],
      "text/plain": [
       "                  sum_sq      df           F         PR(>F)\n",
       "C(factor)  451041.661801     2.0  353.447092  6.885271e-127\n",
       "Residual   974957.319257  1528.0         NaN            NaN"
      ]
     },
     "execution_count": 73,
     "metadata": {},
     "output_type": "execute_result"
    }
   ],
   "source": [
    "results = smf.ols('sale ~ C(factor)', data=df2).fit()\n",
    "# results.summary()\n",
    "aov_table = sms.anova_lm(results, typ=2)\n",
    "aov_table"
   ]
  },
  {
   "cell_type": "markdown",
   "metadata": {},
   "source": [
    "Since the p-value is much smaller than 0.05, reject H0. There is overwhelming evidence to show that the test grade differ between the three groups in Math."
   ]
  },
  {
   "cell_type": "markdown",
   "metadata": {},
   "source": [
    "### Science\n",
    "let μi = the average grade of Science in Country i<br>\n",
    "H0: μ1=μ2=μ3<br>\n",
    "H1: at least two means differ"
   ]
  },
  {
   "cell_type": "code",
   "execution_count": 74,
   "metadata": {},
   "outputs": [
    {
     "data": {
      "text/html": [
       "<div>\n",
       "<style scoped>\n",
       "    .dataframe tbody tr th:only-of-type {\n",
       "        vertical-align: middle;\n",
       "    }\n",
       "\n",
       "    .dataframe tbody tr th {\n",
       "        vertical-align: top;\n",
       "    }\n",
       "\n",
       "    .dataframe thead th {\n",
       "        text-align: right;\n",
       "    }\n",
       "</style>\n",
       "<table border=\"1\" class=\"dataframe\">\n",
       "  <thead>\n",
       "    <tr style=\"text-align: right;\">\n",
       "      <th></th>\n",
       "      <th>id</th>\n",
       "      <th>factor</th>\n",
       "      <th>sale</th>\n",
       "    </tr>\n",
       "  </thead>\n",
       "  <tbody>\n",
       "    <tr>\n",
       "      <th>0</th>\n",
       "      <td>0</td>\n",
       "      <td>A</td>\n",
       "      <td>488.0</td>\n",
       "    </tr>\n",
       "    <tr>\n",
       "      <th>1</th>\n",
       "      <td>1</td>\n",
       "      <td>A</td>\n",
       "      <td>501.0</td>\n",
       "    </tr>\n",
       "    <tr>\n",
       "      <th>2</th>\n",
       "      <td>2</td>\n",
       "      <td>A</td>\n",
       "      <td>492.0</td>\n",
       "    </tr>\n",
       "    <tr>\n",
       "      <th>3</th>\n",
       "      <td>3</td>\n",
       "      <td>A</td>\n",
       "      <td>486.0</td>\n",
       "    </tr>\n",
       "    <tr>\n",
       "      <th>4</th>\n",
       "      <td>4</td>\n",
       "      <td>A</td>\n",
       "      <td>518.0</td>\n",
       "    </tr>\n",
       "    <tr>\n",
       "      <th>...</th>\n",
       "      <td>...</td>\n",
       "      <td>...</td>\n",
       "      <td>...</td>\n",
       "    </tr>\n",
       "    <tr>\n",
       "      <th>1741</th>\n",
       "      <td>493</td>\n",
       "      <td>C</td>\n",
       "      <td>506.0</td>\n",
       "    </tr>\n",
       "    <tr>\n",
       "      <th>1742</th>\n",
       "      <td>494</td>\n",
       "      <td>C</td>\n",
       "      <td>501.0</td>\n",
       "    </tr>\n",
       "    <tr>\n",
       "      <th>1743</th>\n",
       "      <td>495</td>\n",
       "      <td>C</td>\n",
       "      <td>540.0</td>\n",
       "    </tr>\n",
       "    <tr>\n",
       "      <th>1744</th>\n",
       "      <td>496</td>\n",
       "      <td>C</td>\n",
       "      <td>522.0</td>\n",
       "    </tr>\n",
       "    <tr>\n",
       "      <th>1745</th>\n",
       "      <td>497</td>\n",
       "      <td>C</td>\n",
       "      <td>478.0</td>\n",
       "    </tr>\n",
       "  </tbody>\n",
       "</table>\n",
       "<p>1531 rows × 3 columns</p>\n",
       "</div>"
      ],
      "text/plain": [
       "       id factor   sale\n",
       "0       0      A  488.0\n",
       "1       1      A  501.0\n",
       "2       2      A  492.0\n",
       "3       3      A  486.0\n",
       "4       4      A  518.0\n",
       "...   ...    ...    ...\n",
       "1741  493      C  506.0\n",
       "1742  494      C  501.0\n",
       "1743  495      C  540.0\n",
       "1744  496      C  522.0\n",
       "1745  497      C  478.0\n",
       "\n",
       "[1531 rows x 3 columns]"
      ]
     },
     "metadata": {},
     "output_type": "display_data"
    },
    {
     "name": "stdout",
     "output_type": "stream",
     "text": [
      "it seems that they're all approximately normally distributed\n",
      "Since p-value < 0.05 = a, reject H0. The variances of the three treatments are not equal.\n",
      "means that the ANOVA we do later may not be accurate\n"
     ]
    },
    {
     "data": {
      "text/plain": [
       "BartlettResult(statistic=10.938592097299118, pvalue=0.004214197704239352)"
      ]
     },
     "execution_count": 74,
     "metadata": {},
     "output_type": "execute_result"
    },
    {
     "data": {
      "image/png": "[encoded data removed]",
      "text/plain": [
       "<Figure size 900x600 with 4 Axes>"
      ]
     },
     "metadata": {
      "needs_background": "light"
     },
     "output_type": "display_data"
    }
   ],
   "source": [
    "df1 = pd.read_excel('Xr14-22.xlsx', usecols=\"G:I\")\n",
    "df1 = df1.rename(columns={'US Science': 'sale_A', \"Canada Science\": \"sale_B\", \"UK Science\": \"sale_C\"})\n",
    "# 需要一個ID欄位\n",
    "df1[\"id\"] = df1.index\n",
    "df2 = pd.wide_to_long(df1, [\"sale\"], sep=\"_\", suffix='\\w+', i=\"id\", j=\"factor\").reset_index()\n",
    "#print(type(df2))\n",
    "df2 = df2[~pd.isnull(df2['sale'])]\n",
    "display(df2)\n",
    "\n",
    "#check Normality\n",
    "_ = df2['sale'].hist(by=df2['factor'], bins=7)\n",
    "print(\"it seems that they're all approximately normally distributed\")\n",
    "print(\"Since p-value < 0.05 = a, reject H0. The variances of the three treatments are not equal.\")\n",
    "print(\"means that the ANOVA we do later may not be accurate\")\n",
    "stats.bartlett(df2['sale'][df2['factor'] == 'A'], \n",
    "               df2['sale'][df2['factor'] == 'B'], \n",
    "               df2['sale'][df2['factor'] == 'C'])"
   ]
  },
  {
   "cell_type": "code",
   "execution_count": 75,
   "metadata": {},
   "outputs": [
    {
     "data": {
      "text/html": [
       "<div>\n",
       "<style scoped>\n",
       "    .dataframe tbody tr th:only-of-type {\n",
       "        vertical-align: middle;\n",
       "    }\n",
       "\n",
       "    .dataframe tbody tr th {\n",
       "        vertical-align: top;\n",
       "    }\n",
       "\n",
       "    .dataframe thead tr th {\n",
       "        text-align: left;\n",
       "    }\n",
       "\n",
       "    .dataframe thead tr:last-of-type th {\n",
       "        text-align: right;\n",
       "    }\n",
       "</style>\n",
       "<table border=\"1\" class=\"dataframe\">\n",
       "  <thead>\n",
       "    <tr>\n",
       "      <th></th>\n",
       "      <th colspan=\"8\" halign=\"left\">sale</th>\n",
       "    </tr>\n",
       "    <tr>\n",
       "      <th></th>\n",
       "      <th>count</th>\n",
       "      <th>mean</th>\n",
       "      <th>std</th>\n",
       "      <th>min</th>\n",
       "      <th>25%</th>\n",
       "      <th>50%</th>\n",
       "      <th>75%</th>\n",
       "      <th>max</th>\n",
       "    </tr>\n",
       "    <tr>\n",
       "      <th>factor</th>\n",
       "      <th></th>\n",
       "      <th></th>\n",
       "      <th></th>\n",
       "      <th></th>\n",
       "      <th></th>\n",
       "      <th></th>\n",
       "      <th></th>\n",
       "      <th></th>\n",
       "    </tr>\n",
       "  </thead>\n",
       "  <tbody>\n",
       "    <tr>\n",
       "      <th>A</th>\n",
       "      <td>624.0</td>\n",
       "      <td>502.022436</td>\n",
       "      <td>25.676644</td>\n",
       "      <td>428.0</td>\n",
       "      <td>485.00</td>\n",
       "      <td>502.0</td>\n",
       "      <td>517.0</td>\n",
       "      <td>605.0</td>\n",
       "    </tr>\n",
       "    <tr>\n",
       "      <th>B</th>\n",
       "      <td>409.0</td>\n",
       "      <td>528.855746</td>\n",
       "      <td>29.702549</td>\n",
       "      <td>446.0</td>\n",
       "      <td>510.00</td>\n",
       "      <td>530.0</td>\n",
       "      <td>548.0</td>\n",
       "      <td>612.0</td>\n",
       "    </tr>\n",
       "    <tr>\n",
       "      <th>C</th>\n",
       "      <td>498.0</td>\n",
       "      <td>513.889558</td>\n",
       "      <td>26.757835</td>\n",
       "      <td>444.0</td>\n",
       "      <td>495.25</td>\n",
       "      <td>514.0</td>\n",
       "      <td>532.0</td>\n",
       "      <td>608.0</td>\n",
       "    </tr>\n",
       "  </tbody>\n",
       "</table>\n",
       "</div>"
      ],
      "text/plain": [
       "         sale                                                           \n",
       "        count        mean        std    min     25%    50%    75%    max\n",
       "factor                                                                  \n",
       "A       624.0  502.022436  25.676644  428.0  485.00  502.0  517.0  605.0\n",
       "B       409.0  528.855746  29.702549  446.0  510.00  530.0  548.0  612.0\n",
       "C       498.0  513.889558  26.757835  444.0  495.25  514.0  532.0  608.0"
      ]
     },
     "execution_count": 75,
     "metadata": {},
     "output_type": "execute_result"
    }
   ],
   "source": [
    "df2 = df2[['factor', 'sale']]\n",
    "df2.describe()\n",
    "df2.groupby(['factor']).describe()"
   ]
  },
  {
   "cell_type": "code",
   "execution_count": 76,
   "metadata": {},
   "outputs": [
    {
     "data": {
      "text/html": [
       "<div>\n",
       "<style scoped>\n",
       "    .dataframe tbody tr th:only-of-type {\n",
       "        vertical-align: middle;\n",
       "    }\n",
       "\n",
       "    .dataframe tbody tr th {\n",
       "        vertical-align: top;\n",
       "    }\n",
       "\n",
       "    .dataframe thead th {\n",
       "        text-align: right;\n",
       "    }\n",
       "</style>\n",
       "<table border=\"1\" class=\"dataframe\">\n",
       "  <thead>\n",
       "    <tr style=\"text-align: right;\">\n",
       "      <th></th>\n",
       "      <th>sum_sq</th>\n",
       "      <th>df</th>\n",
       "      <th>F</th>\n",
       "      <th>PR(&gt;F)</th>\n",
       "    </tr>\n",
       "  </thead>\n",
       "  <tbody>\n",
       "    <tr>\n",
       "      <th>C(factor)</th>\n",
       "      <td>1.784109e+05</td>\n",
       "      <td>2.0</td>\n",
       "      <td>120.995739</td>\n",
       "      <td>1.660598e-49</td>\n",
       "    </tr>\n",
       "    <tr>\n",
       "      <th>Residual</th>\n",
       "      <td>1.126535e+06</td>\n",
       "      <td>1528.0</td>\n",
       "      <td>NaN</td>\n",
       "      <td>NaN</td>\n",
       "    </tr>\n",
       "  </tbody>\n",
       "</table>\n",
       "</div>"
      ],
      "text/plain": [
       "                 sum_sq      df           F        PR(>F)\n",
       "C(factor)  1.784109e+05     2.0  120.995739  1.660598e-49\n",
       "Residual   1.126535e+06  1528.0         NaN           NaN"
      ]
     },
     "execution_count": 76,
     "metadata": {},
     "output_type": "execute_result"
    }
   ],
   "source": [
    "results = smf.ols('sale ~ C(factor)', data=df2).fit()\n",
    "# results.summary()\n",
    "aov_table = sms.anova_lm(results, typ=2)\n",
    "aov_table"
   ]
  },
  {
   "cell_type": "markdown",
   "metadata": {},
   "source": [
    "Although the ANOVA table tells us that the test grade differ between the three groups in Science,<br> we can't make the conclusion.For the sample variances are different."
   ]
  },
  {
   "cell_type": "markdown",
   "metadata": {},
   "source": [
    "<div style=\"background-color:#D9D9D9;\"><font size=\"5\"> 14.57</font></div>"
   ]
  },
  {
   "cell_type": "code",
   "execution_count": 77,
   "metadata": {},
   "outputs": [
    {
     "name": "stdout",
     "output_type": "stream",
     "text": [
      "(a.) Fisher’s LSD method\n",
      "LSD : 24.277586073791696\n",
      "compare 1&2 : \n",
      "H0: μ1 = μ2  and H1: μ1 not equal to μ2\n",
      "128.7-101.4 = 27.3, Since 27.3>LSD, reject H0, the mean of group1 is not equal to group2\n",
      "\n",
      "compare 1&3 : \n",
      "H0: μ1 = μ3  and H1: μ1 not equal to μ3\n",
      "133.7-128.7 = 5, Since 5<LSD, accept H0, There is no significant difference between the mean of group1 and group3\n",
      "\n",
      "compare 2&3 : \n",
      "H0: μ2 = μ3  and H1: μ2 not equal to μ3\n",
      "133.7-101.4 = 32.3, Since 32.3>LSD, reject H0, the mean of group2 is not equal to group3\n",
      "\n",
      "the mean of group2 has a distance from group1 & group3\n"
     ]
    }
   ],
   "source": [
    "print(\"(a.) Fisher’s LSD method\")\n",
    "alpha = 0.05\n",
    "t = stats.t.ppf(1-alpha/2, 27)\n",
    "LSD = t*(700*(1/10+1/10))**(1/2) #三組的樣本數一樣，LSD相等\n",
    "print(f\"LSD : {LSD}\")\n",
    "print(\"compare 1&2 : \")\n",
    "print(\"H0: μ1 = μ2  and H1: μ1 not equal to μ2\")\n",
    "print(\"128.7-101.4 = 27.3, Since 27.3>LSD, reject H0, the mean of group1 is not equal to group2\")\n",
    "print(\"\")\n",
    "print(\"compare 1&3 : \")\n",
    "print(\"H0: μ1 = μ3  and H1: μ1 not equal to μ3\")\n",
    "print(\"133.7-128.7 = 5, Since 5<LSD, accept H0, There is no significant difference between the mean of group1 and group3\")\n",
    "print(\"\")\n",
    "print(\"compare 2&3 : \")\n",
    "print(\"H0: μ2 = μ3  and H1: μ2 not equal to μ3\")\n",
    "print(\"133.7-101.4 = 32.3, Since 32.3>LSD, reject H0, the mean of group2 is not equal to group3\")\n",
    "print(\"\")\n",
    "print(\"the mean of group2 has a distance from group1 & group3\")"
   ]
  },
  {
   "cell_type": "code",
   "execution_count": 78,
   "metadata": {},
   "outputs": [
    {
     "name": "stdout",
     "output_type": "stream",
     "text": [
      "(b.) Bonferroni Adjustment\n",
      "LSD : 30.20109987627002\n",
      "compare 1&2 : \n",
      "H0: μ1 = μ2  and H1: μ1 not equal to μ2\n",
      "128.7-101.4 = 27.3, Since 27.3<LSD, accept H0, There is no significant difference between the mean of group1 and group2\n",
      "\n",
      "compare 1&3 : \n",
      "H0: μ1 = μ3  and H1: μ1 not equal to μ3\n",
      "133.7-128.7 = 5, Since 5<LSD, accept H0, There is no significant difference between the mean of group1 and group3\n",
      "\n",
      "compare 2&3 : \n",
      "H0: μ2 = μ3  and H1: μ2 not equal to μ3\n",
      "133.7-101.4 = 32.3, Since 32.3>LSD, reject H0, the mean of group2 is not equal to group3\n",
      "\n",
      "the mean of group2 has a distance from group3\n"
     ]
    }
   ],
   "source": [
    "print(\"(b.) Bonferroni Adjustment\")\n",
    "c = (3*2/2)\n",
    "alpha = 0.05/3\n",
    "t = stats.t.ppf(1-alpha/2, 27)\n",
    "LSD = t*(700*(1/10+1/10))**(1/2) #三組的樣本數一樣，LSD相等\n",
    "print(f\"LSD : {LSD}\")\n",
    "print(\"compare 1&2 : \")\n",
    "print(\"H0: μ1 = μ2  and H1: μ1 not equal to μ2\")\n",
    "print(\"128.7-101.4 = 27.3, Since 27.3<LSD, accept H0, There is no significant difference between the mean of group1 and group2\")\n",
    "print(\"\")\n",
    "print(\"compare 1&3 : \")\n",
    "print(\"H0: μ1 = μ3  and H1: μ1 not equal to μ3\")\n",
    "print(\"133.7-128.7 = 5, Since 5<LSD, accept H0, There is no significant difference between the mean of group1 and group3\")\n",
    "print(\"\")\n",
    "print(\"compare 2&3 : \")\n",
    "print(\"H0: μ2 = μ3  and H1: μ2 not equal to μ3\")\n",
    "print(\"133.7-101.4 = 32.3, Since 32.3>LSD, reject H0, the mean of group2 is not equal to group3\")\n",
    "print(\"\")\n",
    "print(\"the mean of group2 has a distance from group3\")"
   ]
  },
  {
   "cell_type": "code",
   "execution_count": 79,
   "metadata": {},
   "outputs": [
    {
     "name": "stdout",
     "output_type": "stream",
     "text": [
      "(b.) Bonferroni Adjustment\n",
      "OMEGA : 29.331374947080647\n",
      "compare 1&2 : \n",
      "H0: μ1 = μ2  and H1: μ1 not equal to μ2\n",
      "128.7-101.4 = 27.3, Since 27.3<omega, accept H0, There is no significant difference between the mean of group1 and group2\n",
      "\n",
      "compare 1&3 : \n",
      "H0: μ1 = μ3  and H1: μ1 not equal to μ3\n",
      "133.7-128.7 = 5, Since 5<omega, accept H0, There is no significant difference between the mean of group1 and group3\n",
      "\n",
      "compare 2&3 : \n",
      "H0: μ2 = μ3  and H1: μ2 not equal to μ3\n",
      "133.7-101.4 = 32.3, Since 32.3>omega, reject H0, the mean of group2 is not equal to group3\n",
      "\n",
      "the mean of group2 has a distance from group3\n"
     ]
    }
   ],
   "source": [
    "print(\"(b.) Bonferroni Adjustment\")\n",
    "q = statsmodels.stats.libqsturng.qsturng(0.95, 3, 27)\n",
    "omega = q*((700/10)**(0.5))\n",
    "print(f\"OMEGA : {omega}\")\n",
    "print(\"compare 1&2 : \")\n",
    "print(\"H0: μ1 = μ2  and H1: μ1 not equal to μ2\")\n",
    "print(\"128.7-101.4 = 27.3, Since 27.3<omega, accept H0, There is no significant difference between the mean of group1 and group2\")\n",
    "print(\"\")\n",
    "print(\"compare 1&3 : \")\n",
    "print(\"H0: μ1 = μ3  and H1: μ1 not equal to μ3\")\n",
    "print(\"133.7-128.7 = 5, Since 5<omega, accept H0, There is no significant difference between the mean of group1 and group3\")\n",
    "print(\"\")\n",
    "print(\"compare 2&3 : \")\n",
    "print(\"H0: μ2 = μ3  and H1: μ2 not equal to μ3\")\n",
    "print(\"133.7-101.4 = 32.3, Since 32.3>omega, reject H0, the mean of group2 is not equal to group3\")\n",
    "print(\"\")\n",
    "print(\"the mean of group2 has a distance from group3\")"
   ]
  },
  {
   "cell_type": "markdown",
   "metadata": {},
   "source": [
    "<div style=\"background-color:#D9D9D9;\"><font size=\"5\"> 14.65</font></div>"
   ]
  },
  {
   "cell_type": "markdown",
   "metadata": {},
   "source": [
    "### (a.)\n",
    "let μi = the average time to promote in firm size i<br>\n",
    "H0: μ1=μ2=μ3<br>\n",
    "H1: at least two means differ"
   ]
  },
  {
   "cell_type": "code",
   "execution_count": 80,
   "metadata": {},
   "outputs": [
    {
     "data": {
      "text/html": [
       "<div>\n",
       "<style scoped>\n",
       "    .dataframe tbody tr th:only-of-type {\n",
       "        vertical-align: middle;\n",
       "    }\n",
       "\n",
       "    .dataframe tbody tr th {\n",
       "        vertical-align: top;\n",
       "    }\n",
       "\n",
       "    .dataframe thead th {\n",
       "        text-align: right;\n",
       "    }\n",
       "</style>\n",
       "<table border=\"1\" class=\"dataframe\">\n",
       "  <thead>\n",
       "    <tr style=\"text-align: right;\">\n",
       "      <th></th>\n",
       "      <th>id</th>\n",
       "      <th>factor</th>\n",
       "      <th>sale</th>\n",
       "    </tr>\n",
       "  </thead>\n",
       "  <tbody>\n",
       "    <tr>\n",
       "      <th>0</th>\n",
       "      <td>0</td>\n",
       "      <td>A</td>\n",
       "      <td>28</td>\n",
       "    </tr>\n",
       "    <tr>\n",
       "      <th>1</th>\n",
       "      <td>1</td>\n",
       "      <td>A</td>\n",
       "      <td>55</td>\n",
       "    </tr>\n",
       "    <tr>\n",
       "      <th>2</th>\n",
       "      <td>2</td>\n",
       "      <td>A</td>\n",
       "      <td>43</td>\n",
       "    </tr>\n",
       "    <tr>\n",
       "      <th>3</th>\n",
       "      <td>3</td>\n",
       "      <td>A</td>\n",
       "      <td>41</td>\n",
       "    </tr>\n",
       "    <tr>\n",
       "      <th>4</th>\n",
       "      <td>4</td>\n",
       "      <td>A</td>\n",
       "      <td>63</td>\n",
       "    </tr>\n",
       "    <tr>\n",
       "      <th>...</th>\n",
       "      <td>...</td>\n",
       "      <td>...</td>\n",
       "      <td>...</td>\n",
       "    </tr>\n",
       "    <tr>\n",
       "      <th>85</th>\n",
       "      <td>25</td>\n",
       "      <td>C</td>\n",
       "      <td>52</td>\n",
       "    </tr>\n",
       "    <tr>\n",
       "      <th>86</th>\n",
       "      <td>26</td>\n",
       "      <td>C</td>\n",
       "      <td>52</td>\n",
       "    </tr>\n",
       "    <tr>\n",
       "      <th>87</th>\n",
       "      <td>27</td>\n",
       "      <td>C</td>\n",
       "      <td>57</td>\n",
       "    </tr>\n",
       "    <tr>\n",
       "      <th>88</th>\n",
       "      <td>28</td>\n",
       "      <td>C</td>\n",
       "      <td>21</td>\n",
       "    </tr>\n",
       "    <tr>\n",
       "      <th>89</th>\n",
       "      <td>29</td>\n",
       "      <td>C</td>\n",
       "      <td>57</td>\n",
       "    </tr>\n",
       "  </tbody>\n",
       "</table>\n",
       "<p>90 rows × 3 columns</p>\n",
       "</div>"
      ],
      "text/plain": [
       "    id factor  sale\n",
       "0    0      A    28\n",
       "1    1      A    55\n",
       "2    2      A    43\n",
       "3    3      A    41\n",
       "4    4      A    63\n",
       "..  ..    ...   ...\n",
       "85  25      C    52\n",
       "86  26      C    52\n",
       "87  27      C    57\n",
       "88  28      C    21\n",
       "89  29      C    57\n",
       "\n",
       "[90 rows x 3 columns]"
      ]
     },
     "metadata": {},
     "output_type": "display_data"
    },
    {
     "name": "stdout",
     "output_type": "stream",
     "text": [
      "Statistics=0.9784, p=0.7815\n",
      "Statistics=0.9901, p=0.9916\n",
      "Statistics=0.9343, p=0.0641\n",
      "they're all normally distributed!\n",
      "Since p-value > 0.05 = a, do not reject H0. The variances of the three treatments are equal.\n"
     ]
    },
    {
     "data": {
      "text/plain": [
       "BartlettResult(statistic=1.195779062552547, pvalue=0.5499711089724778)"
      ]
     },
     "execution_count": 80,
     "metadata": {},
     "output_type": "execute_result"
    }
   ],
   "source": [
    "df1 = pd.read_excel('Xr14-65.xlsx')\n",
    "df1 = df1.rename(columns={'Small': 'sale_A', \"Medium\": \"sale_B\", \"Large\": \"sale_C\"})\n",
    "# 需要一個ID欄位\n",
    "df1[\"id\"] = df1.index\n",
    "df2 = pd.wide_to_long(df1, [\"sale\"], sep=\"_\", suffix='\\w+', i=\"id\", j=\"factor\").reset_index()\n",
    "#print(type(df2))\n",
    "df2 = df2[~pd.isnull(df2['sale'])]\n",
    "display(df2)\n",
    "\n",
    "stat, p = stats.shapiro(df2['sale'][df2['factor'] == 'A'])\n",
    "print('Statistics=%.4f, p=%.4f' % (stat, p))\n",
    "stat, p = stats.shapiro(df2['sale'][df2['factor'] == 'B'])\n",
    "print('Statistics=%.4f, p=%.4f' % (stat, p))\n",
    "stat, p = stats.shapiro(df2['sale'][df2['factor'] == 'C'])\n",
    "print('Statistics=%.4f, p=%.4f' % (stat, p))\n",
    "print(\"they're all normally distributed!\")\n",
    "print(\"Since p-value > 0.05 = a, do not reject H0. The variances of the three treatments are equal.\")\n",
    "stats.bartlett(df2['sale'][df2['factor'] == 'A'], \n",
    "               df2['sale'][df2['factor'] == 'B'], \n",
    "               df2['sale'][df2['factor'] == 'C'])"
   ]
  },
  {
   "cell_type": "code",
   "execution_count": 81,
   "metadata": {},
   "outputs": [
    {
     "data": {
      "text/html": [
       "<div>\n",
       "<style scoped>\n",
       "    .dataframe tbody tr th:only-of-type {\n",
       "        vertical-align: middle;\n",
       "    }\n",
       "\n",
       "    .dataframe tbody tr th {\n",
       "        vertical-align: top;\n",
       "    }\n",
       "\n",
       "    .dataframe thead tr th {\n",
       "        text-align: left;\n",
       "    }\n",
       "\n",
       "    .dataframe thead tr:last-of-type th {\n",
       "        text-align: right;\n",
       "    }\n",
       "</style>\n",
       "<table border=\"1\" class=\"dataframe\">\n",
       "  <thead>\n",
       "    <tr>\n",
       "      <th></th>\n",
       "      <th colspan=\"8\" halign=\"left\">sale</th>\n",
       "    </tr>\n",
       "    <tr>\n",
       "      <th></th>\n",
       "      <th>count</th>\n",
       "      <th>mean</th>\n",
       "      <th>std</th>\n",
       "      <th>min</th>\n",
       "      <th>25%</th>\n",
       "      <th>50%</th>\n",
       "      <th>75%</th>\n",
       "      <th>max</th>\n",
       "    </tr>\n",
       "    <tr>\n",
       "      <th>factor</th>\n",
       "      <th></th>\n",
       "      <th></th>\n",
       "      <th></th>\n",
       "      <th></th>\n",
       "      <th></th>\n",
       "      <th></th>\n",
       "      <th></th>\n",
       "      <th></th>\n",
       "    </tr>\n",
       "  </thead>\n",
       "  <tbody>\n",
       "    <tr>\n",
       "      <th>A</th>\n",
       "      <td>30.0</td>\n",
       "      <td>53.166667</td>\n",
       "      <td>13.950858</td>\n",
       "      <td>16.0</td>\n",
       "      <td>45.00</td>\n",
       "      <td>53.5</td>\n",
       "      <td>61.0</td>\n",
       "      <td>84.0</td>\n",
       "    </tr>\n",
       "    <tr>\n",
       "      <th>B</th>\n",
       "      <td>30.0</td>\n",
       "      <td>49.366667</td>\n",
       "      <td>12.352532</td>\n",
       "      <td>23.0</td>\n",
       "      <td>41.50</td>\n",
       "      <td>49.5</td>\n",
       "      <td>56.0</td>\n",
       "      <td>77.0</td>\n",
       "    </tr>\n",
       "    <tr>\n",
       "      <th>C</th>\n",
       "      <td>30.0</td>\n",
       "      <td>44.333333</td>\n",
       "      <td>11.396713</td>\n",
       "      <td>14.0</td>\n",
       "      <td>37.75</td>\n",
       "      <td>45.5</td>\n",
       "      <td>52.0</td>\n",
       "      <td>59.0</td>\n",
       "    </tr>\n",
       "  </tbody>\n",
       "</table>\n",
       "</div>"
      ],
      "text/plain": [
       "        sale                                                     \n",
       "       count       mean        std   min    25%   50%   75%   max\n",
       "factor                                                           \n",
       "A       30.0  53.166667  13.950858  16.0  45.00  53.5  61.0  84.0\n",
       "B       30.0  49.366667  12.352532  23.0  41.50  49.5  56.0  77.0\n",
       "C       30.0  44.333333  11.396713  14.0  37.75  45.5  52.0  59.0"
      ]
     },
     "execution_count": 81,
     "metadata": {},
     "output_type": "execute_result"
    }
   ],
   "source": [
    "df2 = df2[['factor', 'sale']]\n",
    "df2.describe()\n",
    "df2.groupby(['factor']).describe()"
   ]
  },
  {
   "cell_type": "code",
   "execution_count": 82,
   "metadata": {},
   "outputs": [
    {
     "data": {
      "text/html": [
       "<div>\n",
       "<style scoped>\n",
       "    .dataframe tbody tr th:only-of-type {\n",
       "        vertical-align: middle;\n",
       "    }\n",
       "\n",
       "    .dataframe tbody tr th {\n",
       "        vertical-align: top;\n",
       "    }\n",
       "\n",
       "    .dataframe thead th {\n",
       "        text-align: right;\n",
       "    }\n",
       "</style>\n",
       "<table border=\"1\" class=\"dataframe\">\n",
       "  <thead>\n",
       "    <tr style=\"text-align: right;\">\n",
       "      <th></th>\n",
       "      <th>sum_sq</th>\n",
       "      <th>df</th>\n",
       "      <th>F</th>\n",
       "      <th>PR(&gt;F)</th>\n",
       "    </tr>\n",
       "  </thead>\n",
       "  <tbody>\n",
       "    <tr>\n",
       "      <th>C(factor)</th>\n",
       "      <td>1178.022222</td>\n",
       "      <td>2.0</td>\n",
       "      <td>3.703723</td>\n",
       "      <td>0.028597</td>\n",
       "    </tr>\n",
       "    <tr>\n",
       "      <th>Residual</th>\n",
       "      <td>13835.800000</td>\n",
       "      <td>87.0</td>\n",
       "      <td>NaN</td>\n",
       "      <td>NaN</td>\n",
       "    </tr>\n",
       "  </tbody>\n",
       "</table>\n",
       "</div>"
      ],
      "text/plain": [
       "                 sum_sq    df         F    PR(>F)\n",
       "C(factor)   1178.022222   2.0  3.703723  0.028597\n",
       "Residual   13835.800000  87.0       NaN       NaN"
      ]
     },
     "execution_count": 82,
     "metadata": {},
     "output_type": "execute_result"
    }
   ],
   "source": [
    "results = smf.ols('sale ~ C(factor)', data=df2).fit()\n",
    "# results.summary()\n",
    "aov_table = sms.anova_lm(results, typ=2)\n",
    "aov_table"
   ]
  },
  {
   "cell_type": "markdown",
   "metadata": {},
   "source": [
    "Since the p-value is smaller than 0.05, reject H0. There is sufficient evidence to show that the average amount of time to promote differ between the size of the firms."
   ]
  },
  {
   "cell_type": "code",
   "execution_count": 83,
   "metadata": {},
   "outputs": [
    {
     "name": "stdout",
     "output_type": "stream",
     "text": [
      "(b.)\n",
      "Multiple Comparison of Means - Tukey HSD, FWER=0.05 \n",
      "====================================================\n",
      "group1 group2 meandiff p-adj   lower   upper  reject\n",
      "----------------------------------------------------\n",
      "     A      B     -3.8 0.4776 -11.5644 3.9644  False\n",
      "     A      C  -8.8333 0.0217 -16.5977 -1.069   True\n",
      "     B      C  -5.0333 0.2752 -12.7977  2.731  False\n",
      "----------------------------------------------------\n"
     ]
    }
   ],
   "source": [
    "print(\"(b.)\")\n",
    "mc = smm.MultiComparison(df2['sale'], df2['factor'])\n",
    "print(mc.tukeyhsd().summary())"
   ]
  },
  {
   "cell_type": "markdown",
   "metadata": {},
   "source": [
    "According to Tukey’s test method :\n",
    "1. false\n",
    "2. false\n",
    "3. false\n",
    "4. false\n",
    "5. true, Small firms differ from large firms."
   ]
  },
  {
   "cell_type": "code",
   "execution_count": 84,
   "metadata": {},
   "outputs": [
    {
     "name": "stderr",
     "output_type": "stream",
     "text": [
      "/opt/anaconda3/lib/python3.8/site-packages/statsmodels/sandbox/stats/multicomp.py:775: UserWarning: FixedFormatter should only be used together with FixedLocator\n",
      "  ax1.set_yticklabels(np.insert(self.groupsunique.astype(str), 0, ''))\n"
     ]
    },
    {
     "data": {
      "image/png": "[encoded data removed]",
      "text/plain": [
       "<Figure size 1500x900 with 1 Axes>"
      ]
     },
     "metadata": {
      "needs_background": "light"
     },
     "output_type": "display_data"
    }
   ],
   "source": [
    "_ = mc.tukeyhsd().plot_simultaneous(comparison_name = \"A\")"
   ]
  }
 ],
 "metadata": {
  "kernelspec": {
   "display_name": "Python 3",
   "language": "python",
   "name": "python3"
  },
  "language_info": {
   "codemirror_mode": {
    "name": "ipython",
    "version": 3
   },
   "file_extension": ".py",
   "mimetype": "text/x-python",
   "name": "python",
   "nbconvert_exporter": "python",
   "pygments_lexer": "ipython3",
   "version": "3.8.5"
  }
 },
 "nbformat": 4,
 "nbformat_minor": 4
}
