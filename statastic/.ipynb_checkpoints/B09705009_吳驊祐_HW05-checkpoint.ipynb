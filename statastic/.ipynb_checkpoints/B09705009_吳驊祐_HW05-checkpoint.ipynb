{
 "cells": [
  {
   "cell_type": "markdown",
   "metadata": {},
   "source": [
    "# 第五次作業"
   ]
  },
  {
   "cell_type": "code",
   "execution_count": 161,
   "metadata": {},
   "outputs": [],
   "source": [
    "# 7.7, 7.19, 7.37, 7.57, 7.63, 7.73, 7.87, 7.111, 7.123, 7.131, 7.137"
   ]
  },
  {
   "cell_type": "markdown",
   "metadata": {},
   "source": [
    "<div style=\"background-color:#D9D9D9;\"><font size=\"5\"> 7.7</font></div>"
   ]
  },
  {
   "cell_type": "code",
   "execution_count": 162,
   "metadata": {},
   "outputs": [],
   "source": [
    "from matplotlib import pyplot as plt\n",
    "%matplotlib inline\n",
    "# 設定圖形大小; DPI越大圖越大\n",
    "plt.rcParams[\"figure.dpi\"] = 100\n",
    "import seaborn as sns\n",
    "import pandas as pd\n",
    "import numpy as np\n",
    "import scipy.stats as stats\n",
    "import statsmodels.api as sm\n",
    "import statsmodels.stats.api as sms\n",
    "import statsmodels.formula.api as smf\n",
    "import math as math\n",
    "def autolabel(rects , size = 8, rota = 0):\n",
    "    \"\"\"Attach a text label above each bar in *rects*, displaying its height.\"\"\"\n",
    "    for rect in rects:\n",
    "        height = rect.get_height()\n",
    "        plt.annotate('{}'.format(height),\n",
    "                    xy=(rect.get_x() + rect.get_width() / 2, height),\n",
    "                    xytext=(0, 3),  # 3 points vertical offset\n",
    "                    fontsize = size,\n",
    "                    rotation = rota,\n",
    "                    textcoords=\"offset points\",\n",
    "                    ha='center', va='bottom')"
   ]
  },
  {
   "cell_type": "markdown",
   "metadata": {},
   "source": [
    "## (a)"
   ]
  },
  {
   "cell_type": "code",
   "execution_count": 163,
   "metadata": {},
   "outputs": [
    {
     "name": "stdout",
     "output_type": "stream",
     "text": [
      "   Number of TVs  Frequency      prop\n",
      "0              0       1218  0.012000\n",
      "1              1      32379  0.319002\n",
      "2              2      37961  0.373996\n",
      "3              3      19387  0.191003\n",
      "4              4       7714  0.075999\n",
      "5              5       2842  0.028000\n"
     ]
    },
    {
     "data": {
      "image/png": "[encoded data removed]",
      "text/plain": [
       "<Figure size 600x400 with 1 Axes>"
      ]
     },
     "metadata": {
      "needs_background": "light"
     },
     "output_type": "display_data"
    }
   ],
   "source": [
    "df7_7 = pd.read_excel('Xr07-07.xlsx')\n",
    "labels = df7_7['Number of TVs']\n",
    "numbers = df7_7['Frequency']\n",
    "total = 0\n",
    "for i in range(6):\n",
    "    total += numbers[i]\n",
    "df7_7['prop'] = 0\n",
    "for i in range(6):\n",
    "    df7_7.loc[i, 'prop'] = numbers[i] / total\n",
    "print(df7_7)\n",
    "x = np.arange(len(labels))\n",
    "fig, ax = plt.subplots()\n",
    "rects = ax.bar(x, round(df7_7['prop'], 2), width=0.8, bottom=None, align='center')\n",
    "plt.title('Probality distribution of color televisions per household') \n",
    "plt.ylabel('Propability')\n",
    "plt.xlabel('Number of TVs')\n",
    "plt.xticks(x,labels)\n",
    "autolabel(rects, size = 10)"
   ]
  },
  {
   "cell_type": "markdown",
   "metadata": {},
   "source": [
    "## (b)\n",
    "### p(x<=2) = (0.01+0.32+0.37) = 0.70 <br> p(x>2) = (1-0.70) = 0.30 <br> p(x>=4) = (0.08+0.03) = 0.11"
   ]
  },
  {
   "cell_type": "markdown",
   "metadata": {},
   "source": [
    "<div style=\"background-color:#D9D9D9;\"><font size=\"5\"> 7.19</font></div>"
   ]
  },
  {
   "cell_type": "markdown",
   "metadata": {},
   "source": [
    "## (a)"
   ]
  },
  {
   "cell_type": "code",
   "execution_count": 164,
   "metadata": {},
   "outputs": [
    {
     "name": "stdout",
     "output_type": "stream",
     "text": [
      "   x  props\n",
      "0  0    0.4\n",
      "1  1    0.3\n",
      "2  2    0.2\n",
      "3  3    0.1\n",
      "mean,  1.0\n",
      "variance,  1.0\n",
      "standard deviation,  1.0\n"
     ]
    }
   ],
   "source": [
    "df7_19 = pd.DataFrame( columns = ['x', 'props'])\n",
    "df7_19['x'] = [0,1,2,3]\n",
    "df7_19['props'] = [0.4, 0.3, 0.2, 0.1]\n",
    "print(df7_19)\n",
    "mean = 0\n",
    "for i in range(4):\n",
    "    mean += (df7_19.loc[i, 'x']*df7_19.loc[i, 'props'])\n",
    "var = 0\n",
    "for i in range(4):\n",
    "    var += ((df7_19.loc[i, 'x']-mean)**2)*df7_19.loc[i, 'props']\n",
    "std = math.sqrt(var)\n",
    "print(\"mean, \", mean)\n",
    "print(\"variance, \", var)\n",
    "print(\"standard deviation, \", std)"
   ]
  },
  {
   "cell_type": "markdown",
   "metadata": {},
   "source": [
    "## (b)"
   ]
  },
  {
   "cell_type": "code",
   "execution_count": 165,
   "metadata": {},
   "outputs": [
    {
     "name": "stdout",
     "output_type": "stream",
     "text": [
      "the probability distribution = P(y) below\n",
      "    y P(y)\n",
      "0   2  0.4\n",
      "1   5  0.3\n",
      "2   8  0.2\n",
      "3  11  0.1\n"
     ]
    }
   ],
   "source": [
    "df7_19_2 = pd.DataFrame( columns = ['y', 'P(y)'])\n",
    "for i in df7_19.index:\n",
    "    df7_19_2.loc[i, 'y'] = df7_19.loc[i, 'x']*3+2\n",
    "    df7_19_2.loc[i, 'P(y)'] = df7_19.loc[i, 'props']\n",
    "print(\"the probability distribution = P(y) below\")\n",
    "print(df7_19_2)"
   ]
  },
  {
   "cell_type": "markdown",
   "metadata": {},
   "source": [
    "## (c)"
   ]
  },
  {
   "cell_type": "code",
   "execution_count": 166,
   "metadata": {},
   "outputs": [
    {
     "name": "stdout",
     "output_type": "stream",
     "text": [
      "mean,  5.0\n",
      "variance,  9.0\n",
      "standard deviation,  3.0\n"
     ]
    }
   ],
   "source": [
    "mean = 0\n",
    "for i in range(4):\n",
    "    mean += (df7_19_2.loc[i, 'y']*df7_19_2.loc[i, 'P(y)'])\n",
    "var = 0\n",
    "for i in range(4):\n",
    "    var += ((df7_19_2.loc[i, 'y']-mean)**2)*df7_19_2.loc[i, 'P(y)']\n",
    "std = math.sqrt(var)\n",
    "print(\"mean, \", mean)\n",
    "print(\"variance, \", var)\n",
    "print(\"standard deviation, \", std)"
   ]
  },
  {
   "cell_type": "markdown",
   "metadata": {},
   "source": [
    "## (d)"
   ]
  },
  {
   "cell_type": "markdown",
   "metadata": {},
   "source": [
    "### mean : 1*3 + 2 = 5\n",
    "### variance : 3*3 *1 = 9\n",
    "### standard deviation = 9/3 =3\n",
    "### 皆有符合 expected value"
   ]
  },
  {
   "cell_type": "markdown",
   "metadata": {},
   "source": [
    "<div style=\"background-color:#D9D9D9;\"><font size=\"5\"> 7.37</font></div>"
   ]
  },
  {
   "cell_type": "markdown",
   "metadata": {},
   "source": [
    "### 1000000 * 1/10000000 = 0.1\n",
    "### 200000 * 1/1000000 = 0.2\n",
    "### 50000 * 1/500000 = 0.1\n",
    "### 10000 * 1/50000 = 0.2\n",
    "### 1000 * 1/10000 = 0.1\n",
    "### 用一元預計能得到0.1+0.2+0.1+0.2+0.1 = 0.7元\n",
    "### 也就是虧 1-0.7 = 0.3元"
   ]
  },
  {
   "cell_type": "markdown",
   "metadata": {},
   "source": [
    "<div style=\"background-color:#D9D9D9;\"><font size=\"5\"> 7.57</font></div>"
   ]
  },
  {
   "cell_type": "markdown",
   "metadata": {},
   "source": [
    "## (a) , (b)"
   ]
  },
  {
   "cell_type": "code",
   "execution_count": 167,
   "metadata": {},
   "outputs": [
    {
     "name": "stdout",
     "output_type": "stream",
     "text": [
      "  Unnamed: 0  B = 0  B = 1  P(C)\n",
      "0      C = 0   0.63   0.18  0.81\n",
      "1      C = 1   0.09   0.10  0.19\n",
      "2       P(B)   0.72   0.28  0.00\n"
     ]
    }
   ],
   "source": [
    "df7_57 = pd.read_excel('Xr07-57.xlsx')\n",
    "df7_57['P(C)'] = 0\n",
    "df7_57.loc[2] = 0\n",
    "df7_57.loc[2, 'Unnamed: 0'] = 'P(B)'\n",
    "for i in range(2):\n",
    "    df7_57.loc[i, 'P(C)'] = df7_57.loc[i, 'B = 0'] + df7_57.loc[i, 'B = 1']\n",
    "df7_57.loc[2, 'B = 0'] = df7_57.loc[0, 'B = 0'] + df7_57.loc[1, 'B = 0']\n",
    "df7_57.loc[2, 'B = 1'] = df7_57.loc[0, 'B = 1'] + df7_57.loc[1, 'B = 1']\n",
    "print(df7_57)"
   ]
  },
  {
   "cell_type": "markdown",
   "metadata": {},
   "source": [
    "## (c)"
   ]
  },
  {
   "cell_type": "code",
   "execution_count": 168,
   "metadata": {},
   "outputs": [
    {
     "name": "stdout",
     "output_type": "stream",
     "text": [
      "mean of the number of bottles imported:  0.28\n",
      "varience of the number of bottles imported:  0.2016\n"
     ]
    }
   ],
   "source": [
    "#df7_57.loc[[0], ['B = 0', 'B = 1']]\n",
    "print(\"mean of the number of bottles imported: \", 0.18+0.10)\n",
    "print(\"varience of the number of bottles imported: \",(0.28*(1**2)) - (0.18+0.10)**2)"
   ]
  },
  {
   "cell_type": "markdown",
   "metadata": {},
   "source": [
    "## (d)"
   ]
  },
  {
   "cell_type": "code",
   "execution_count": 169,
   "metadata": {},
   "outputs": [
    {
     "name": "stdout",
     "output_type": "stream",
     "text": [
      "mean of the number of cigarette imported:  0.19\n",
      "varience of the number of bottles imported:  0.1539\n"
     ]
    }
   ],
   "source": [
    "print(\"mean of the number of cigarette imported: \", 0.09+0.10)\n",
    "print(\"varience of the number of bottles imported: \",(0.19*(1**2)) - (0.09+0.10)**2)"
   ]
  },
  {
   "cell_type": "markdown",
   "metadata": {},
   "source": [
    "## (e)"
   ]
  },
  {
   "cell_type": "code",
   "execution_count": 170,
   "metadata": {},
   "outputs": [
    {
     "name": "stdout",
     "output_type": "stream",
     "text": [
      "covariance:  0.0468\n",
      "correlation:  0.2656937137768185\n"
     ]
    }
   ],
   "source": [
    "print(\"covariance: \", 1*1 *0.1 - 0.28*0.19)\n",
    "print(\"correlation: \", (1*1 *0.1 - 0.28*0.19) / math.sqrt(\n",
    "      ((0.28*(1**2)) - (0.18+0.10)**2)*((0.19*(1**2)) - (0.09+0.10)**2)))"
   ]
  },
  {
   "cell_type": "markdown",
   "metadata": {},
   "source": [
    "<div style=\"background-color:#D9D9D9;\"><font size=\"5\"> 7.63</font></div>"
   ]
  },
  {
   "cell_type": "code",
   "execution_count": 171,
   "metadata": {},
   "outputs": [
    {
     "name": "stdout",
     "output_type": "stream",
     "text": [
      "         Unnamed: 0  Home Team: 0  Home Team: 1  Home Team: 2  Home Team: 3\n",
      "0  Visiting Team: 0          0.14          0.11          0.09          0.10\n",
      "1  Visiting Team: 1          0.12          0.10          0.05          0.02\n",
      "2  Visiting Team: 2          0.09          0.07          0.04          0.01\n",
      "3  Visiting Team: 3          0.03          0.02          0.01          0.00 \n",
      "\n",
      "(a) Home Team Wins:  0.38000000000000006\n",
      "(b) Tie:  0.28\n",
      "(c) Visiting Team Wins:  0.3400000000000001\n"
     ]
    }
   ],
   "source": [
    "df7_63 = pd.read_excel('Xr07-63.xlsx')\n",
    "print(df7_63, \"\\n\")\n",
    "print(\"(a) Home Team Wins: \", 0.11+0.09+0.10+0.05+0.02+0.01)\n",
    "print(\"(b) Tie: \", 0.14+0.10+0.04+0)\n",
    "print(\"(c) Visiting Team Wins: \", 0.12+0.09+0.07+0.03+0.02+0.01)"
   ]
  },
  {
   "cell_type": "markdown",
   "metadata": {},
   "source": [
    "<div style=\"background-color:#D9D9D9;\"><font size=\"5\"> 7.73</font></div>"
   ]
  },
  {
   "cell_type": "markdown",
   "metadata": {},
   "source": [
    "## (a)  < choose stock2 , it has better mean return>"
   ]
  },
  {
   "cell_type": "markdown",
   "metadata": {},
   "source": [
    "## (b)\n",
    "### cv1 =0.09/0.15 < cv_2 = 0.13/0.21 , so stock2 is riskier, choose stock1"
   ]
  },
  {
   "cell_type": "markdown",
   "metadata": {},
   "source": [
    "<div style=\"background-color:#D9D9D9;\"><font size=\"5\"> 7.87</font></div>"
   ]
  },
  {
   "cell_type": "code",
   "execution_count": 172,
   "metadata": {},
   "outputs": [
    {
     "data": {
      "text/html": [
       "<div>\n",
       "<style scoped>\n",
       "    .dataframe tbody tr th:only-of-type {\n",
       "        vertical-align: middle;\n",
       "    }\n",
       "\n",
       "    .dataframe tbody tr th {\n",
       "        vertical-align: top;\n",
       "    }\n",
       "\n",
       "    .dataframe thead th {\n",
       "        text-align: right;\n",
       "    }\n",
       "</style>\n",
       "<table border=\"1\" class=\"dataframe\">\n",
       "  <thead>\n",
       "    <tr style=\"text-align: right;\">\n",
       "      <th></th>\n",
       "      <th>Year</th>\n",
       "      <th>Month</th>\n",
       "      <th>AEM</th>\n",
       "      <th>BCE</th>\n",
       "      <th>BMO</th>\n",
       "      <th>DOL</th>\n",
       "    </tr>\n",
       "  </thead>\n",
       "  <tbody>\n",
       "    <tr>\n",
       "      <th>0</th>\n",
       "      <td>2011.0</td>\n",
       "      <td>January</td>\n",
       "      <td>-0.001126</td>\n",
       "      <td>-0.009623</td>\n",
       "      <td>0.072343</td>\n",
       "      <td>0.019615</td>\n",
       "    </tr>\n",
       "    <tr>\n",
       "      <th>1</th>\n",
       "      <td>NaN</td>\n",
       "      <td>February</td>\n",
       "      <td>-0.056369</td>\n",
       "      <td>-0.008416</td>\n",
       "      <td>0.016462</td>\n",
       "      <td>0.020955</td>\n",
       "    </tr>\n",
       "    <tr>\n",
       "      <th>2</th>\n",
       "      <td>NaN</td>\n",
       "      <td>March</td>\n",
       "      <td>0.022808</td>\n",
       "      <td>0.006814</td>\n",
       "      <td>-0.002158</td>\n",
       "      <td>-0.002355</td>\n",
       "    </tr>\n",
       "    <tr>\n",
       "      <th>3</th>\n",
       "      <td>NaN</td>\n",
       "      <td>April</td>\n",
       "      <td>-0.047643</td>\n",
       "      <td>0.099831</td>\n",
       "      <td>-0.003540</td>\n",
       "      <td>0.059022</td>\n",
       "    </tr>\n",
       "    <tr>\n",
       "      <th>4</th>\n",
       "      <td>NaN</td>\n",
       "      <td>May</td>\n",
       "      <td>-0.026345</td>\n",
       "      <td>-0.016954</td>\n",
       "      <td>-0.009205</td>\n",
       "      <td>0.043276</td>\n",
       "    </tr>\n",
       "  </tbody>\n",
       "</table>\n",
       "</div>"
      ],
      "text/plain": [
       "     Year     Month       AEM       BCE       BMO       DOL\n",
       "0  2011.0   January -0.001126 -0.009623  0.072343  0.019615\n",
       "1     NaN  February -0.056369 -0.008416  0.016462  0.020955\n",
       "2     NaN     March  0.022808  0.006814 -0.002158 -0.002355\n",
       "3     NaN     April -0.047643  0.099831 -0.003540  0.059022\n",
       "4     NaN       May -0.026345 -0.016954 -0.009205  0.043276"
      ]
     },
     "metadata": {},
     "output_type": "display_data"
    },
    {
     "name": "stdout",
     "output_type": "stream",
     "text": [
      "result of each one : AEM:0.6533227679641779, BCE:2.002859473340369, BMO:1.623018202479657, DOL:5.44278036956389\n",
      "(a). mean return in 5 years: 2.4304952033370233\n",
      "     std: 0.08622109477455389\n",
      "(b). mean return in 5 years: 2.2100143868000734\n",
      "     std: 0.10997570521524275\n",
      "(c). mean return in 5 years: 2.438044869427842\n",
      "     std: 0.18671221464013701\n",
      "(d). 很明顯方案一的平均回饋與低風險都有著相當出色的程度\n"
     ]
    }
   ],
   "source": [
    "df_87 = pd.read_excel('Xr07-TSE.xlsx')\n",
    "df_87 = df_87[['Year', 'Month', 'AEM', 'BCE', 'BMO', 'DOL']]\n",
    "display(df_87.head())\n",
    "AEM_AVG = 1\n",
    "BCE_AVG = 1\n",
    "BMO_AVG = 1\n",
    "DOL_AVG = 1\n",
    "\n",
    "var1 = 0\n",
    "var2 = 0\n",
    "var3 = 0\n",
    "var4 = 0\n",
    "for i in df_87.index:\n",
    "    AEM_AVG *= (1+df_87.loc[i, 'AEM'])\n",
    "    BCE_AVG *= (1+df_87.loc[i, 'BCE'])\n",
    "    BMO_AVG *= (1+df_87.loc[i, 'BMO'])\n",
    "    DOL_AVG *= (1+df_87.loc[i, 'DOL'])\n",
    "    var1 += (df_87.loc[i, 'AEM']-df_87['AEM'].mean())**2\n",
    "    var2 += (df_87.loc[i, 'BCE']-df_87['BCE'].mean())**2\n",
    "    var3 += (df_87.loc[i, 'BMO']-df_87['BMO'].mean())**2\n",
    "    var4 += (df_87.loc[i, 'DOL']-df_87['DOL'].mean())**2\n",
    "print(\"result of each one : AEM:{}, BCE:{}, BMO:{}, DOL:{}\".format(AEM_AVG, BCE_AVG, BMO_AVG, DOL_AVG))\n",
    "prop = np.array([[0.25, 0.25, 0.25, 0.25],\n",
    "                [0.3, 0.3, 0.2, 0.2],\n",
    "                 [0.4, 0.15, 0.15, 0.30]])\n",
    "prop2 = prop**2\n",
    "mean_arr = np.array([AEM_AVG, BCE_AVG, BMO_AVG, DOL_AVG])\n",
    "var_arr = np.array([var1, var2, var3, var4])\n",
    "#std1 = math.sqrt((var1/60))\n",
    "#std2 = math.sqrt((var2/60))\n",
    "#std3 = math.sqrt((var3/60))\n",
    "#std4 = math.sqrt((var4/60))\n",
    "print(\"(a). mean return in 5 years:\", np.dot(prop[0], mean_arr))\n",
    "print(\"     std:\", np.dot(prop2[0], var_arr))\n",
    "print(\"(b). mean return in 5 years:\", np.dot(prop[1], mean_arr))\n",
    "print(\"     std:\", np.dot(prop2[1], var_arr))\n",
    "print(\"(c). mean return in 5 years:\", np.dot(prop[2], mean_arr))\n",
    "print(\"     std:\", np.dot(prop2[2], var_arr))\n",
    "print(\"(d). 很明顯方案一的平均回饋與低風險都有著相當出色的程度\")"
   ]
  },
  {
   "cell_type": "markdown",
   "metadata": {},
   "source": [
    "<div style=\"background-color:#D9D9D9;\"><font size=\"5\"> 7.111</font></div>"
   ]
  },
  {
   "cell_type": "code",
   "execution_count": 173,
   "metadata": {},
   "outputs": [
    {
     "name": "stdout",
     "output_type": "stream",
     "text": [
      "The probability that 15 or more of them would agree with the claim: \n",
      "p(n =25,p=0.75,x>=15) = 0.9703300880644576\n",
      " \n",
      "\n",
      "The probability that less than 14 would agree: \n",
      "p(n =25,p=0.75,x<14) = 0.010734297951536569\n",
      " \n",
      "\n",
      "The probability that 15 would agree: \n",
      "p(n =25,p=0.75,x=15) = 0.041658350764812495\n"
     ]
    }
   ],
   "source": [
    "n = 25      \n",
    "p = 0.75      \n",
    "hh = stats.binom(n, p)\n",
    "print(\"The probability that 15 or more of them would agree with the claim: \")\n",
    "print(\"p(n =25,p=0.75,x>=15) =\", 1 - hh.cdf(14))\n",
    "print(\" \\n\")\n",
    "print(\"The probability that less than 14 would agree: \")\n",
    "print(\"p(n =25,p=0.75,x<14) =\", hh.cdf(13))\n",
    "print(\" \\n\")\n",
    "print(\"The probability that 15 would agree: \")\n",
    "print(\"p(n =25,p=0.75,x=15) =\", hh.pmf(15))"
   ]
  },
  {
   "cell_type": "markdown",
   "metadata": {},
   "source": [
    "<div style=\"background-color:#D9D9D9;\"><font size=\"5\"> 7.123</font></div>"
   ]
  },
  {
   "cell_type": "code",
   "execution_count": 174,
   "metadata": {},
   "outputs": [
    {
     "name": "stdout",
     "output_type": "stream",
     "text": [
      "The probability of the ball falls into the green slots two or more times:\n",
      "p(n =25,p= 0.05263157894736842 ,x>=2) = 0.38174369467034347\n",
      " \n",
      "\n",
      "The probability of the ball does not falls into the green slots:\n",
      "p(n =25,p= 0.05263157894736842 ,x==0) = 0.25880496502171735\n",
      " \n",
      "\n",
      "The probability of the ball falls into the black slots 15 or more times:\n",
      "p(n =25,p= 0.47368421052631576 ,x>=15) = 0.14355128565130537\n",
      " \n",
      "\n",
      "The probability of the ball falls into the red slots 10 or fewer times:\n",
      "p(n =25,p= 0.47368421052631576 ,x<=10) = 0.2967956822218818\n",
      " \n",
      "\n"
     ]
    }
   ],
   "source": [
    "p_b = 18/38\n",
    "p_r = 18/38\n",
    "p_g = 2/38\n",
    "n = 25\n",
    "G = stats.binom(n,p_g)\n",
    "R = stats.binom(n,p_r)\n",
    "B = stats.binom(n,p_b)\n",
    "print('The probability of the ball falls into the green slots two or more times:')\n",
    "print(\"p(n =25,p=\",p_g,\",x>=2) =\", 1 - G.pmf(1) - G.pmf(0))\n",
    "print(\" \\n\")\n",
    "print('The probability of the ball does not falls into the green slots:')\n",
    "print(\"p(n =25,p=\",p_g,\",x==0) =\", G.cdf(0))\n",
    "print(\" \\n\")\n",
    "print('The probability of the ball falls into the black slots 15 or more times:')\n",
    "print(\"p(n =25,p=\",p_b,\",x>=15) =\", 1 - B.cdf(14))\n",
    "print(\" \\n\")\n",
    "print('The probability of the ball falls into the red slots 10 or fewer times:')\n",
    "print(\"p(n =25,p=\",p_r,\",x<=10) =\", R.cdf(10))\n",
    "print(\" \\n\")"
   ]
  },
  {
   "cell_type": "markdown",
   "metadata": {},
   "source": [
    "<div style=\"background-color:#D9D9D9;\"><font size=\"5\"> 7.131</font></div>"
   ]
  },
  {
   "cell_type": "markdown",
   "metadata": {},
   "source": [
    "## (a)"
   ]
  },
  {
   "cell_type": "code",
   "execution_count": 175,
   "metadata": {},
   "outputs": [
    {
     "name": "stdout",
     "output_type": "stream",
     "text": [
      "Probability of five snowsfalls in 2 week:  0.173438327355808\n"
     ]
    }
   ],
   "source": [
    "mu = (1/3) * 14\n",
    "pp = stats.poisson(mu)\n",
    "ans = pp.pmf(5)\n",
    "print('Probability of five snowsfalls in 2 week: ' , ans)"
   ]
  },
  {
   "cell_type": "markdown",
   "metadata": {},
   "source": [
    "## (b)"
   ]
  },
  {
   "cell_type": "code",
   "execution_count": 176,
   "metadata": {},
   "outputs": [
    {
     "name": "stdout",
     "output_type": "stream",
     "text": [
      "Probability of a snowsfall today:  0.23884377019126307\n"
     ]
    }
   ],
   "source": [
    "mu = 1/3\n",
    "pp = stats.poisson(mu)\n",
    "ans = pp.pmf(1)\n",
    "print('Probability of a snowsfall today: ' , ans)"
   ]
  },
  {
   "cell_type": "markdown",
   "metadata": {},
   "source": [
    "<div style=\"background-color:#D9D9D9;\"><font size=\"5\"> 7.137</font></div>"
   ]
  },
  {
   "cell_type": "markdown",
   "metadata": {},
   "source": [
    "## (a)"
   ]
  },
  {
   "cell_type": "code",
   "execution_count": 177,
   "metadata": {},
   "outputs": [
    {
     "name": "stdout",
     "output_type": "stream",
     "text": [
      "Probability of 5 or more:  0.10882198108584873\n"
     ]
    }
   ],
   "source": [
    "mu = 2.5\n",
    "pp = stats.poisson(mu)\n",
    "ans = 1- pp.cdf(4)\n",
    "print(\"Probability of 5 or more: \", ans)"
   ]
  },
  {
   "cell_type": "markdown",
   "metadata": {},
   "source": [
    "## (b)"
   ]
  },
  {
   "cell_type": "code",
   "execution_count": 178,
   "metadata": {},
   "outputs": [
    {
     "name": "stdout",
     "output_type": "stream",
     "text": [
      "Probability of 0:  0.0820849986238988\n"
     ]
    }
   ],
   "source": [
    "mu = 2.5\n",
    "pp = stats.poisson(mu)\n",
    "ans = pp.pmf(0)\n",
    "print(\"Probability of 0: \", ans)"
   ]
  },
  {
   "cell_type": "code",
   "execution_count": 179,
   "metadata": {},
   "outputs": [
    {
     "name": "stdout",
     "output_type": "stream",
     "text": [
      "Probability of 3 or less:  0.7575761331330662\n"
     ]
    }
   ],
   "source": [
    "mu = 2.5\n",
    "pp = stats.poisson(mu)\n",
    "ans = pp.cdf(3)\n",
    "print(\"Probability of 3 or less: \", ans)"
   ]
  }
 ],
 "metadata": {
  "kernelspec": {
   "display_name": "Python 3",
   "language": "python",
   "name": "python3"
  },
  "language_info": {
   "codemirror_mode": {
    "name": "ipython",
    "version": 3
   },
   "file_extension": ".py",
   "mimetype": "text/x-python",
   "name": "python",
   "nbconvert_exporter": "python",
   "pygments_lexer": "ipython3",
   "version": "3.8.5"
  }
 },
 "nbformat": 4,
 "nbformat_minor": 4
}
