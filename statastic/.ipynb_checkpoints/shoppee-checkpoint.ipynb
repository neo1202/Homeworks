{
 "cells": [
  {
   "cell_type": "code",
   "execution_count": 4,
   "metadata": {},
   "outputs": [
    {
     "ename": "SyntaxError",
     "evalue": "invalid syntax (<ipython-input-4-62e3372b0319>, line 19)",
     "output_type": "error",
     "traceback": [
      "\u001b[0;36m  File \u001b[0;32m\"<ipython-input-4-62e3372b0319>\"\u001b[0;36m, line \u001b[0;32m19\u001b[0m\n\u001b[0;31m    for i in range int(a):\u001b[0m\n\u001b[0m                   ^\u001b[0m\n\u001b[0;31mSyntaxError\u001b[0m\u001b[0;31m:\u001b[0m invalid syntax\n"
     ]
    }
   ],
   "source": [
    "from collections import defaultdict\n",
    "\n",
    "def max_equal_sum(E):\n",
    "    D=defaultdict(int)            # Map from abs difference to largest sum\n",
    "    D[0]=0                        # Start with a sum and difference of 0\n",
    "    for a in E:                   # Iterate over each element in the array\n",
    "        D2=D.copy()               # Can keep current sum and diff if element is skipped\n",
    "        for d,s in D.items():     # d is difference, s is sum\n",
    "            s2 = s+a              # s2 is new sum\n",
    "            for d2 in [d-a,d+a]:  # d2 is new difference\n",
    "                D2[abs(d2)] = max(D2[abs(d2)],s2) # Update with largest sum\n",
    "        D=D2\n",
    "    return D[0]/2                 # Answer is half the sum of A+B for a difference of 0\n",
    "\n",
    "print (max_equal_sum([1,2,3,6]))  # Prints 8\n",
    "\n",
    "a = input()\n",
    "item = list()\n",
    "for i in range int(a):\n",
    "    item.append(int(input()))\n",
    "item"
   ]
  },
  {
   "cell_type": "code",
   "execution_count": null,
   "metadata": {},
   "outputs": [],
   "source": []
  }
 ],
 "metadata": {
  "kernelspec": {
   "display_name": "Python 3",
   "language": "python",
   "name": "python3"
  },
  "language_info": {
   "codemirror_mode": {
    "name": "ipython",
    "version": 3
   },
   "file_extension": ".py",
   "mimetype": "text/x-python",
   "name": "python",
   "nbconvert_exporter": "python",
   "pygments_lexer": "ipython3",
   "version": "3.8.5"
  }
 },
 "nbformat": 4,
 "nbformat_minor": 4
}
