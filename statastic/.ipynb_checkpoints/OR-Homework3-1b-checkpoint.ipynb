{
 "cells": [
  {
   "cell_type": "code",
   "execution_count": 1,
   "metadata": {},
   "outputs": [],
   "source": [
    "import gurobipy as gp \n",
    "from gurobipy import *\n",
    "import pandas as pd\n",
    "import numpy as np"
   ]
  },
  {
   "cell_type": "code",
   "execution_count": 3,
   "metadata": {},
   "outputs": [
    {
     "ename": "SyntaxError",
     "evalue": "invalid syntax (<ipython-input-3-f88e58731328>, line 10)",
     "output_type": "error",
     "traceback": [
      "\u001b[0;36m  File \u001b[0;32m\"<ipython-input-3-f88e58731328>\"\u001b[0;36m, line \u001b[0;32m10\u001b[0m\n\u001b[0;31m    p1.addConstrs(  quicksum((x[i+1]-x[i])**2+(y[i+1]-y[i])**2) = l for i in range(5) ,\"every line = L\")\u001b[0m\n\u001b[0m                                                                    ^\u001b[0m\n\u001b[0;31mSyntaxError\u001b[0m\u001b[0;31m:\u001b[0m invalid syntax\n"
     ]
    }
   ],
   "source": [
    "p1 = Model(\"p1\")\n",
    "a = []\n",
    "l = p1.addVar(    lb = 0, vtype = GRB.CONTINUOUS, name = 'L')\n",
    "x = p1.addVars(6, lb = 0, vtype = GRB.CONTINUOUS, name = 'x')\n",
    "y = p1.addVars(6, lb = 0, vtype = GRB.CONTINUOUS, name = 'y')\n",
    "#a = p1.addVars(I, J, lb = 0, vtype = GRB.BINARY, name = 'a') 正常版本\n",
    "#w    <= quicksum(a[i, j]*b[j] for j in range(J)\n",
    "p1.setObjective( quicksum(y[i] for i in range(1,5)), GRB.MINIMIZE) \n",
    "p1.addConstrs(  x[i]<=x[i+1] for i in range(5) ,\"xi<=x(i+1)\")\n",
    "for i in range(5):\n",
    "    p1.addConstr(((x[i+1]-x[i])**2+(y[i+1]-y[i])**2)<=l)\n",
    "p1.addConstrs(  quicksum((x[i+1]-x[i])**2+(y[i+1]-y[i])**2) = l for i in range(5) ,\"every line = L\")\n",
    "p1.addConstr(5L > 111.8, \"5L>111.8\")\n",
    "p1.addConstrs(      (x[i] >=0) for i in range(6)   , \"xi >= 0\" )\n",
    "p1.addConstrs(      (y[i] >=0) for i in range(6)   , \"yi >= 0\" )\n",
    "p1.optimize()\n",
    "\n",
    "for var in p1.getVars():\n",
    "    print(var.varName, '= %.2f' %var.x)\n",
    "print(\"\\n\")\n",
    "print(\"objective value(max w) = %.2f\" %p1.objVal)"
   ]
  },
  {
   "cell_type": "code",
   "execution_count": null,
   "metadata": {},
   "outputs": [],
   "source": []
  }
 ],
 "metadata": {
  "kernelspec": {
   "display_name": "Python 3",
   "language": "python",
   "name": "python3"
  },
  "language_info": {
   "codemirror_mode": {
    "name": "ipython",
    "version": 3
   },
   "file_extension": ".py",
   "mimetype": "text/x-python",
   "name": "python",
   "nbconvert_exporter": "python",
   "pygments_lexer": "ipython3",
   "version": "3.8.5"
  }
 },
 "nbformat": 4,
 "nbformat_minor": 4
}
