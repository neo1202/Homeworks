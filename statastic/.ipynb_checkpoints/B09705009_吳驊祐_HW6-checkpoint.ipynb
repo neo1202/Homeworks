{
 "cells": [
  {
   "cell_type": "markdown",
   "metadata": {},
   "source": [
    "# 第六次作業"
   ]
  },
  {
   "cell_type": "code",
   "execution_count": null,
   "metadata": {},
   "outputs": [],
   "source": [
    "# 19.16, 19.45, 19.56"
   ]
  },
  {
   "cell_type": "code",
   "execution_count": null,
   "metadata": {},
   "outputs": [],
   "source": [
    "import pandas as pd\n",
    "import numpy as np\n",
    "import scipy.stats as stats\n",
    "import statsmodels.api as sm\n",
    "import statsmodels.stats.api as sms\n",
    "import statsmodels.formula.api as smf\n",
    "import statsmodels.stats.multicomp as smm\n",
    "import statsmodels\n",
    "from matplotlib import pyplot as plt\n",
    "%matplotlib inline\n",
    "# 設定圖形大小; DPI越大圖越大\n",
    "plt.rcParams[\"figure.dpi\"] = 120"
   ]
  },
  {
   "cell_type": "markdown",
   "metadata": {},
   "source": [
    "<div style=\"background-color:#D9D9D9;\"><font size=\"5\"> 19.16</font></div>"
   ]
  },
  {
   "cell_type": "markdown",
   "metadata": {},
   "source": [
    "H0 : the data are normally distributed <br>\n",
    "H1 : they're not"
   ]
  },
  {
   "cell_type": "code",
   "execution_count": 80,
   "metadata": {},
   "outputs": [
    {
     "name": "stdout",
     "output_type": "stream",
     "text": [
      "Statistics=0.860, p=0.0000\n",
      "Statistics=0.862, p=0.0000\n",
      "We reject H0, they're not normally distributed\n"
     ]
    }
   ],
   "source": [
    "df = pd.read_excel('Xr19-16.xlsx')\n",
    "stat, p = stats.shapiro(df[\"Day\"])\n",
    "print('Statistics=%.3f, p=%.4f' % (stat, p))\n",
    "df2 = df[\"Night\"]\n",
    "df2 = df2[~np.isnan(df2)]\n",
    "stat, p = stats.shapiro(df2)\n",
    "print('Statistics=%.3f, p=%.4f' % (stat, p))\n",
    "print(\"We reject H0, they're not normally distributed\")"
   ]
  },
  {
   "cell_type": "markdown",
   "metadata": {},
   "source": [
    "### two-sided <br>\n",
    "H0: The two population locations are the same in terms of service performance <br>\n",
    "H1: The two population locations are not the same in terms of service performance"
   ]
  },
  {
   "cell_type": "code",
   "execution_count": 81,
   "metadata": {},
   "outputs": [],
   "source": [
    "#df = pd.read_excel('Xr19-16.xlsx')\n",
    "#df1 = df[\"Day\"]\n",
    "#df2 = df[\"Night\"]\n",
    "#df2 = df2[~np.isnan(df2)]\n",
    "#print(df2)\n",
    "#stats.mannwhitneyu(df1, df2, alternative='two-sided')"
   ]
  },
  {
   "cell_type": "code",
   "execution_count": 82,
   "metadata": {},
   "outputs": [
    {
     "name": "stdout",
     "output_type": "stream",
     "text": [
      "     value  rank\n",
      "0      1.0     1\n",
      "1      1.0     2\n",
      "2      1.0     3\n",
      "3      1.0     4\n",
      "4      1.0     5\n",
      "..     ...   ...\n",
      "340    4.0   341\n",
      "341    4.0   342\n",
      "342    4.0   343\n",
      "343    4.0   344\n",
      "344    4.0   345\n",
      "\n",
      "[345 rows x 2 columns]\n"
     ]
    },
    {
     "data": {
      "text/html": [
       "<div>\n",
       "<style scoped>\n",
       "    .dataframe tbody tr th:only-of-type {\n",
       "        vertical-align: middle;\n",
       "    }\n",
       "\n",
       "    .dataframe tbody tr th {\n",
       "        vertical-align: top;\n",
       "    }\n",
       "\n",
       "    .dataframe thead th {\n",
       "        text-align: right;\n",
       "    }\n",
       "</style>\n",
       "<table border=\"1\" class=\"dataframe\">\n",
       "  <thead>\n",
       "    <tr style=\"text-align: right;\">\n",
       "      <th></th>\n",
       "      <th>value</th>\n",
       "      <th>rank</th>\n",
       "    </tr>\n",
       "  </thead>\n",
       "  <tbody>\n",
       "    <tr>\n",
       "      <th>0</th>\n",
       "      <td>1.0</td>\n",
       "      <td>19.0</td>\n",
       "    </tr>\n",
       "    <tr>\n",
       "      <th>1</th>\n",
       "      <td>2.0</td>\n",
       "      <td>79.5</td>\n",
       "    </tr>\n",
       "    <tr>\n",
       "      <th>2</th>\n",
       "      <td>3.0</td>\n",
       "      <td>202.5</td>\n",
       "    </tr>\n",
       "    <tr>\n",
       "      <th>3</th>\n",
       "      <td>4.0</td>\n",
       "      <td>314.5</td>\n",
       "    </tr>\n",
       "  </tbody>\n",
       "</table>\n",
       "</div>"
      ],
      "text/plain": [
       "   value   rank\n",
       "0    1.0   19.0\n",
       "1    2.0   79.5\n",
       "2    3.0  202.5\n",
       "3    4.0  314.5"
      ]
     },
     "execution_count": 82,
     "metadata": {},
     "output_type": "execute_result"
    }
   ],
   "source": [
    "#z-test也可, 先全部放一起排\n",
    "df = pd.read_excel('Xr19-16.xlsx')\n",
    "tmp1 = df.values.reshape(-1)\n",
    "tmp1 = tmp1[~np.isnan(tmp1)]\n",
    "tmp1.sort()\n",
    "#print(tmp1)\n",
    "# 做出Rank\n",
    "df2 = pd.DataFrame({'value': tmp1})\n",
    "df2['rank'] = df2.index + 1\n",
    "print(df2) #合併資料後\n",
    "value2rank = df2.groupby('value').mean().reset_index()\n",
    "value2rank"
   ]
  },
  {
   "cell_type": "code",
   "execution_count": 83,
   "metadata": {},
   "outputs": [
    {
     "name": "stdout",
     "output_type": "stream",
     "text": [
      "182 163\n",
      "T (Sum of Ranks) = 32225.5000\n",
      "E(T) = 31486.0000\n",
      "Sigma_T = 924.8620\n",
      "z value = 0.7996\n",
      "p-value = 0.4240\n"
     ]
    }
   ],
   "source": [
    "# Compute Sum of Ranks\n",
    "samp1 = pd.DataFrame({'value': df['Day'].values})\n",
    "samp1 = pd.merge(samp1, value2rank)\n",
    "T = samp1['rank'].sum()\n",
    "# compute mean and standard deviation\n",
    "n1 = df.shape[0] #day人數\n",
    "n2 = df2.shape[0] - n1 #night人數\n",
    "print(n1, n2)\n",
    "ET = n1 * (n1 + n2 + 1) / 2\n",
    "SigmaT = (n1 * n2 * (n1 + n2 + 1) / 12) ** 0.5\n",
    "z = (T - ET) / SigmaT\n",
    "# compute p-value\n",
    "pvalue = 1 - stats.norm.cdf(z)\n",
    "pvalue *= 2 #two-tails\n",
    "\n",
    "print(f\"T (Sum of Ranks) = {T:.4f}\")\n",
    "print(f\"E(T) = {ET:.4f}\")\n",
    "print(f\"Sigma_T = {SigmaT:.4f}\")\n",
    "print(f\"z value = {z:.4f}\")\n",
    "print(f\"p-value = {pvalue:.4f}\")"
   ]
  },
  {
   "cell_type": "markdown",
   "metadata": {},
   "source": [
    "Since p-value > significance level, there is insufficient evidence to reject the null hypothesis, we can't infer that night shift customers rate the service differently than the day shift."
   ]
  },
  {
   "cell_type": "markdown",
   "metadata": {},
   "source": [
    "<div style=\"background-color:#D9D9D9;\"><font size=\"5\"> 19.45</font></div>"
   ]
  },
  {
   "cell_type": "markdown",
   "metadata": {},
   "source": [
    "H0 : the data are normally distributed <br>\n",
    "H1 : they're not"
   ]
  },
  {
   "cell_type": "code",
   "execution_count": 84,
   "metadata": {},
   "outputs": [
    {
     "name": "stdout",
     "output_type": "stream",
     "text": [
      "Statistics=0.869, p=0.0041\n",
      "We reject H0, they're not normally distributed\n"
     ]
    }
   ],
   "source": [
    "df = pd.read_excel('Xr19-45.xlsx')\n",
    "df.head()\n",
    "df1 = df[\"European\"].replace([6, 24, 28, 53, 95], [1, 2, 3, 4, 5])\n",
    "df2 = df[\"American\"].replace([6, 24, 28, 53, 95], [1, 2, 3, 4, 5])\n",
    "#print(df1,df2)\n",
    "df[\"diff\"] = df1-df2\n",
    "#print(df[\"diff\"])\n",
    "stat, p = stats.shapiro(df[\"diff\"])\n",
    "print('Statistics=%.3f, p=%.4f' % (stat, p))\n",
    "print(\"We reject H0, they're not normally distributed\")"
   ]
  },
  {
   "cell_type": "code",
   "execution_count": 85,
   "metadata": {},
   "outputs": [],
   "source": [
    "#stat, p = stats.shapiro(df1)\n",
    "#print('Statistics=%.3f, p=%.4f' % (stat, p))\n",
    "\n",
    "#stat, p = stats.shapiro(df2)\n",
    "#print('Statistics=%.3f, p=%.4f' % (stat, p))\n",
    "#print(\"We reject H0, they're not normally distributed\")"
   ]
  },
  {
   "attachments": {},
   "cell_type": "markdown",
   "metadata": {},
   "source": [
    "H0: No preference for one brand over the other exists (H0: p = 0.5) <br>\n",
    "H1: Respondents prefer European car over North American car.  (H1: p > 0.5)"
   ]
  },
  {
   "cell_type": "code",
   "execution_count": 86,
   "metadata": {},
   "outputs": [
    {
     "name": "stdout",
     "output_type": "stream",
     "text": [
      "WilcoxonResult(statistic=225.0, pvalue=0.0028656128835999064)\n",
      "Since p-value=0.0028 < 0.05, we reject H0, and conclude that \n",
      "\trespondents prefer European car over North American car.\n"
     ]
    },
    {
     "name": "stderr",
     "output_type": "stream",
     "text": [
      "/opt/anaconda3/lib/python3.8/site-packages/scipy/stats/morestats.py:2957: UserWarning: Exact p-value calculation does not work if there are ties. Switching to normal approximation.\n",
      "  warnings.warn(\"Exact p-value calculation does not work if there are \"\n"
     ]
    }
   ],
   "source": [
    "print(stats.wilcoxon(df1, df2, alternative='greater'))\n",
    "print(\"Since p-value=0.0028 < 0.05, we reject H0, and conclude that \")\n",
    "print(\"\\trespondents prefer European car over North American car.\")"
   ]
  },
  {
   "cell_type": "markdown",
   "metadata": {},
   "source": [
    "<div style=\"background-color:#D9D9D9;\"><font size=\"5\"> 19.56</font></div>"
   ]
  },
  {
   "cell_type": "markdown",
   "metadata": {},
   "source": [
    "H0 : the data are normally distributed <br>\n",
    "H1 : they're not"
   ]
  },
  {
   "cell_type": "code",
   "execution_count": 75,
   "metadata": {},
   "outputs": [
    {
     "name": "stdout",
     "output_type": "stream",
     "text": [
      "   High School 1  High School 2\n",
      "0              2              3\n",
      "1              4              3\n",
      "2              3              2\n",
      "3              3              3\n",
      "4              3              3\n",
      "Statistics=0.823, p=0.0000\n",
      "We reject H0, they're not normally distributed\n"
     ]
    }
   ],
   "source": [
    "df = pd.read_excel('Xr19-56.xlsx')\n",
    "print(df.head())\n",
    "df[\"diff\"] = df[\"High School 1\"]-df[\"High School 2\"]\n",
    "#print(df[\"diff\"])\n",
    "stat, p = stats.shapiro(df[\"diff\"])\n",
    "print('Statistics=%.3f, p=%.4f' % (stat, p))\n",
    "print(\"We reject H0, they're not normally distributed\")\n",
    "#print(df[\"High School 1\"].sum(), df[\"High School 2\"].sum())"
   ]
  },
  {
   "cell_type": "markdown",
   "metadata": {},
   "source": [
    "H0: No preference for one school over the other exists (H0: p = 0.5) <br>\n",
    "H1: Students from school 1 perform better than school 2 under same high school average.  (H1: p > 0.5)"
   ]
  },
  {
   "cell_type": "code",
   "execution_count": 77,
   "metadata": {},
   "outputs": [
    {
     "name": "stdout",
     "output_type": "stream",
     "text": [
      "WilcoxonResult(statistic=848.0, pvalue=0.09072460386071024)\n",
      "Since p-value=0.09 > 0.05, we can't reject H0, that is, we have insufficient evidence to conclude that \n",
      "\tpreference in admissions should be given to the student from high school 1\n"
     ]
    }
   ],
   "source": [
    "print(stats.wilcoxon(df[\"High School 1\"], df[\"High School 2\"], alternative='greater'))\n",
    "print(\"Since p-value=0.09 > 0.05, we can't reject H0, that is, we have insufficient evidence to conclude that \")\n",
    "print(\"\\tpreference in admissions should be given to the student from high school 1\")"
   ]
  }
 ],
 "metadata": {
  "kernelspec": {
   "display_name": "Python 3",
   "language": "python",
   "name": "python3"
  },
  "language_info": {
   "codemirror_mode": {
    "name": "ipython",
    "version": 3
   },
   "file_extension": ".py",
   "mimetype": "text/x-python",
   "name": "python",
   "nbconvert_exporter": "python",
   "pygments_lexer": "ipython3",
   "version": "3.8.5"
  }
 },
 "nbformat": 4,
 "nbformat_minor": 4
}
