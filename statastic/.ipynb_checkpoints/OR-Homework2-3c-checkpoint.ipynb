{
 "cells": [
  {
   "cell_type": "code",
   "execution_count": 3,
   "metadata": {},
   "outputs": [
    {
     "name": "stdout",
     "output_type": "stream",
     "text": [
      "Set parameter Username\n",
      "Academic license - for non-commercial use only - expires 2023-04-01\n",
      "Gurobi Optimizer version 9.5.1 build v9.5.1rc2 (mac64[x86])\n",
      "Thread count: 4 physical cores, 8 logical processors, using up to 8 threads\n",
      "Optimize a model with 34 rows, 101 columns and 305 nonzeros\n",
      "Model fingerprint: 0xc6c4da1c\n",
      "Coefficient statistics:\n",
      "  Matrix range     [1e+00, 2e+01]\n",
      "  Objective range  [1e+00, 1e+00]\n",
      "  Bounds range     [0e+00, 0e+00]\n",
      "  RHS range        [1e+00, 2e+01]\n",
      "Presolve removed 1 rows and 0 columns\n",
      "Presolve time: 0.01s\n",
      "Presolved: 33 rows, 101 columns, 304 nonzeros\n",
      "\n",
      "Iteration    Objective       Primal Inf.    Dual Inf.      Time\n",
      "       0    8.0000000e+30   4.000000e+30   8.000000e+00      0s\n",
      "      46    3.0392857e+01   0.000000e+00   0.000000e+00      0s\n",
      "\n",
      "Solved in 46 iterations and 0.01 seconds (0.00 work units)\n",
      "Optimal objective  3.039285714e+01\n",
      "w = 30.39\n",
      "a[0,0] = 0.00\n",
      "a[0,1] = 0.00\n",
      "a[0,2] = 0.00\n",
      "a[0,3] = 0.00\n",
      "a[0,4] = 0.25\n",
      "a[0,5] = 1.00\n",
      "a[0,6] = 0.00\n",
      "a[0,7] = 1.00\n",
      "a[0,8] = 0.00\n",
      "a[0,9] = 0.00\n",
      "a[0,10] = 0.00\n",
      "a[0,11] = 1.00\n",
      "a[0,12] = 0.00\n",
      "a[0,13] = 0.86\n",
      "a[0,14] = 0.00\n",
      "a[0,15] = 0.00\n",
      "a[0,16] = 0.00\n",
      "a[0,17] = 0.33\n",
      "a[0,18] = 0.00\n",
      "a[0,19] = 0.00\n",
      "a[0,20] = 0.00\n",
      "a[0,21] = 0.00\n",
      "a[0,22] = 0.00\n",
      "a[0,23] = 0.00\n",
      "a[0,24] = 0.00\n",
      "a[1,0] = 1.00\n",
      "a[1,1] = 0.00\n",
      "a[1,2] = 0.00\n",
      "a[1,3] = 0.00\n",
      "a[1,4] = 0.75\n",
      "a[1,5] = 0.00\n",
      "a[1,6] = 0.00\n",
      "a[1,7] = 0.00\n",
      "a[1,8] = 0.00\n",
      "a[1,9] = 0.00\n",
      "a[1,10] = 0.00\n",
      "a[1,11] = 0.00\n",
      "a[1,12] = 0.48\n",
      "a[1,13] = 0.00\n",
      "a[1,14] = 0.00\n",
      "a[1,15] = 0.00\n",
      "a[1,16] = 0.00\n",
      "a[1,17] = 0.00\n",
      "a[1,18] = 0.19\n",
      "a[1,19] = 0.48\n",
      "a[1,20] = 0.00\n",
      "a[1,21] = 1.00\n",
      "a[1,22] = 0.00\n",
      "a[1,23] = 0.00\n",
      "a[1,24] = 0.00\n",
      "a[2,0] = 0.00\n",
      "a[2,1] = 0.00\n",
      "a[2,2] = 1.00\n",
      "a[2,3] = 0.00\n",
      "a[2,4] = 0.00\n",
      "a[2,5] = 0.00\n",
      "a[2,6] = 0.00\n",
      "a[2,7] = 0.00\n",
      "a[2,8] = 0.00\n",
      "a[2,9] = 0.00\n",
      "a[2,10] = 0.00\n",
      "a[2,11] = 0.00\n",
      "a[2,12] = 0.00\n",
      "a[2,13] = 0.00\n",
      "a[2,14] = 0.00\n",
      "a[2,15] = 0.00\n",
      "a[2,16] = 0.00\n",
      "a[2,17] = 0.67\n",
      "a[2,18] = 0.81\n",
      "a[2,19] = 0.29\n",
      "a[2,20] = 0.00\n",
      "a[2,21] = 0.00\n",
      "a[2,22] = 0.00\n",
      "a[2,23] = 0.00\n",
      "a[2,24] = 0.00\n",
      "a[3,0] = 0.00\n",
      "a[3,1] = 0.00\n",
      "a[3,2] = 0.00\n",
      "a[3,3] = 0.00\n",
      "a[3,4] = 0.00\n",
      "a[3,5] = 0.00\n",
      "a[3,6] = 0.00\n",
      "a[3,7] = 0.00\n",
      "a[3,8] = 0.00\n",
      "a[3,9] = 1.00\n",
      "a[3,10] = 0.00\n",
      "a[3,11] = 0.00\n",
      "a[3,12] = 0.52\n",
      "a[3,13] = 0.00\n",
      "a[3,14] = 0.00\n",
      "a[3,15] = 0.00\n",
      "a[3,16] = 0.00\n",
      "a[3,17] = 0.00\n",
      "a[3,18] = 0.00\n",
      "a[3,19] = 0.23\n",
      "a[3,20] = 0.00\n",
      "a[3,21] = 0.00\n",
      "a[3,22] = 0.00\n",
      "a[3,23] = 1.00\n",
      "a[3,24] = 0.00\n",
      "\n",
      "\n",
      "objective value(max w) = 30.39\n"
     ]
    }
   ],
   "source": [
    "p1 = Model(\"p1\")\n",
    "a = []\n",
    "w = p1.addVar(    lb = 0, vtype = GRB.CONTINUOUS, name = 'w')\n",
    "a = p1.addVars(I, J, lb = 0, vtype = GRB.CONTINUOUS, name = 'a')\n",
    "#a = p1.addVars(I, J, lb = 0, vtype = GRB.BINARY, name = 'a') 正常版本\n",
    "p1.setObjective(w , GRB.MAXIMIZE) \n",
    "p1.addConstrs( (w    <= quicksum(a[i, j]*b[j] for j in range(J))for i in range(I)), \"w <= aij*bj\")\n",
    "p1.addConstrs((quicksum(a[i, j] for i in range(I)) <= 1 for j in range(J)), \"aij\")  \n",
    "p1.addConstrs((quicksum(a[i, j]*p[j] for j in range(J)) <= K for i in range(I)), \"aij*pj <= K\")\n",
    "p1.addConstr( (w    >= 0), \"w >= 0\" )\n",
    "p1.optimize()\n",
    "\n",
    "for var in p1.getVars():\n",
    "    print(var.varName, '= %.2f' %var.x)\n",
    "print(\"\\n\")\n",
    "print(\"objective value(max w) = %.2f\" %p1.objVal)"
   ]
  },
  {
   "cell_type": "code",
   "execution_count": 70,
   "metadata": {},
   "outputs": [],
   "source": [
    "import gurobipy as gp \n",
    "from gurobipy import *\n",
    "import pandas as pd\n",
    "import numpy as np"
   ]
  },
  {
   "cell_type": "code",
   "execution_count": 77,
   "metadata": {},
   "outputs": [
    {
     "data": {
      "text/plain": [
       "[(9, 15),\n",
       " (19, 14),\n",
       " (2, 12),\n",
       " (18, 12),\n",
       " (13, 10),\n",
       " (24, 10),\n",
       " (10, 9),\n",
       " (22, 9),\n",
       " (1, 8),\n",
       " (12, 8),\n",
       " (21, 8),\n",
       " (23, 8),\n",
       " (7, 7),\n",
       " (17, 7),\n",
       " (4, 6),\n",
       " (5, 6),\n",
       " (8, 6),\n",
       " (0, 5),\n",
       " (11, 5),\n",
       " (15, 5),\n",
       " (20, 5),\n",
       " (3, 4),\n",
       " (6, 3),\n",
       " (16, 3),\n",
       " (14, 1)]"
      ]
     },
     "execution_count": 77,
     "metadata": {},
     "output_type": "execute_result"
    }
   ],
   "source": [
    "#highest benefit first\n",
    "I = 4\n",
    "J = 25\n",
    "K = 15\n",
    "b = np.array([5,8,12,4,6,6,3,7,6,15,9,5,8,10,1,5,3,7,12,14,5,8,9,8,10])\n",
    "p = np.array([3,6,7,5,4,2,6,3,5,8,10,2,4,7,1,5,8,3,6,4,12,4,8,4,7])\n",
    "indexes = np.arange(J)#都是0~24台機器\n",
    "tup = list(zip(indexes, b))\n",
    "tup = sorted(tup, key = lambda s: s[1], reverse = True)\n",
    "tup"
   ]
  },
  {
   "cell_type": "code",
   "execution_count": 78,
   "metadata": {},
   "outputs": [
    {
     "data": {
      "text/plain": [
       "array([0., 0., 0., 0.])"
      ]
     },
     "metadata": {},
     "output_type": "display_data"
    },
    {
     "name": "stdout",
     "output_type": "stream",
     "text": [
      "1 [0. 0. 0. 0.]\n",
      "2 [15.  0.  0.  0.]\n",
      "3 [15. 14.  0.  0.]\n",
      "4 [15. 14. 12.  0.]\n",
      "3 [15. 14. 12. 12.]\n",
      "3 [15. 14. 12. 12.]\n",
      "3 [15. 14. 12. 12.]\n",
      "3 [15. 14. 12. 12.]\n",
      "3 [15. 14. 12. 12.]\n",
      "4 [15. 14. 20. 12.]\n",
      "2 [15. 14. 20. 20.]\n",
      "1 [15. 22. 20. 20.]\n",
      "3 [23. 22. 20. 20.]\n",
      "3 [23. 22. 20. 20.]\n",
      "3 [23. 22. 20. 20.]\n",
      "3 [23. 22. 20. 20.]\n",
      "3 [23. 22. 20. 20.]\n",
      "3 [23. 22. 20. 20.]\n",
      "3 [23. 22. 20. 20.]\n",
      "3 [23. 22. 20. 20.]\n",
      "3 [23. 22. 20. 20.]\n",
      "3 [23. 22. 20. 20.]\n",
      "3 [23. 22. 20. 20.]\n",
      "3 [23. 22. 20. 20.]\n",
      "3 [23. 22. 20. 20.]\n"
     ]
    },
    {
     "data": {
      "text/plain": [
       "array([23., 22., 21., 20.])"
      ]
     },
     "metadata": {},
     "output_type": "display_data"
    },
    {
     "data": {
      "text/plain": [
       "[[10, 24], [20, 22], [3, 2, 15], [19, 13]]"
      ]
     },
     "metadata": {},
     "output_type": "display_data"
    },
    {
     "data": {
      "text/plain": [
       "array([ 6., 12., 21., 10.])"
      ]
     },
     "metadata": {},
     "output_type": "display_data"
    }
   ],
   "source": [
    "bene = np.zeros(I)\n",
    "b = [] #製造機器存了誰\n",
    "accu_p = np.zeros(I)\n",
    "for i in range(I):\n",
    "    b.append([])\n",
    "    #display(b)\n",
    "display(accu_p)\n",
    "for i, j in tup: #先找目前最少\n",
    "    smallest = 0 #原本第0台\n",
    "    for k in range(1,I):\n",
    "        if(bene[k]<bene[smallest]):\n",
    "            smallest = k\n",
    "    print(smallest+1, bene)\n",
    "    if(accu_p[smallest] + j <= K):\n",
    "        bene[smallest]+=j\n",
    "        b[smallest].append(i+1) #確切的job給誰\n",
    "        accu_p[smallest]+=p[smallest]\n",
    "display(bene)\n",
    "display(b)\n",
    "display(accu_p)"
   ]
  },
  {
   "cell_type": "code",
   "execution_count": 90,
   "metadata": {},
   "outputs": [
    {
     "data": {
      "text/plain": [
       "array([0., 0., 0.])"
      ]
     },
     "metadata": {},
     "output_type": "display_data"
    },
    {
     "data": {
      "text/plain": [
       "array([     0.,      0.,      0., 100000.])"
      ]
     },
     "metadata": {},
     "output_type": "display_data"
    },
    {
     "name": "stdout",
     "output_type": "stream",
     "text": [
      "8 1 [12.  0.  0.] [9.e+00 0.e+00 0.e+00 1.e+05]\n",
      "2 2 [12.  6.  0.] [9.e+00 8.e+00 0.e+00 1.e+05]\n",
      "10 3 [12.  6.  6.] [9.e+00 8.e+00 8.e+00 1.e+05]\n",
      "6 2 [12. 14.  6.] [9.0e+00 1.5e+01 8.0e+00 1.0e+05]\n",
      "4 3 [12. 14. 10.] [9.0e+00 1.5e+01 1.4e+01 1.0e+05]\n",
      "7 3 [12. 14. 15.] [9.0e+00 1.5e+01 2.0e+01 1.0e+05]\n",
      "1 1 [15. 14. 15.] [1.4e+01 1.5e+01 2.0e+01 1.0e+05]\n",
      "9 4 [15. 14. 15.] [1.4e+01 1.5e+01 2.0e+01 1.0e+05]\n",
      "3 4 [15. 14. 15.] [1.4e+01 1.5e+01 2.0e+01 1.0e+05]\n",
      "5 2 [15. 15. 15.] [1.4e+01 1.8e+01 2.0e+01 1.0e+05]\n"
     ]
    },
    {
     "data": {
      "text/plain": [
       "array([1.4e+01, 1.8e+01, 2.0e+01, 1.0e+05])"
      ]
     },
     "metadata": {},
     "output_type": "display_data"
    },
    {
     "data": {
      "text/plain": [
       "[[8, 1], [2, 6, 5], [10, 4, 7]]"
      ]
     },
     "metadata": {},
     "output_type": "display_data"
    },
    {
     "data": {
      "text/plain": [
       "array([15., 15., 15.])"
      ]
     },
     "metadata": {},
     "output_type": "display_data"
    }
   ],
   "source": [
    "I = 3\n",
    "J = 10\n",
    "K = 15\n",
    "b = np.array([5, 8, 4, 6, 3, 7, 6, 9, 5, 8])\n",
    "p = np.array([3, 6, 5, 4, 1, 8, 5, 12,7, 6])\n",
    "indexes = np.arange(J)#都是0~24台機器\n",
    "tup = list(zip(indexes, b))\n",
    "tup = sorted(tup, key = lambda s: s[1], reverse = True)\n",
    "bene = np.zeros(I+1) #多一格給底下用\n",
    "b = [] #製造機器存了誰\n",
    "accu_p = np.zeros(I)\n",
    "for i in range(I):\n",
    "    b.append([])\n",
    "    #display(b)\n",
    "display(accu_p)\n",
    "bene[I] = 100000\n",
    "display(bene)\n",
    "for i, j in tup: #先找目前最少 index-1&benefit\n",
    "    #這步得直接找到人選\n",
    "    smallest = I #原本第I+1台 不存在的 \n",
    "    for k in range(0,I):\n",
    "        if(bene[k]<bene[smallest] and accu_p[k] + p[i] <= K):\n",
    "            smallest = k\n",
    "    if(smallest != I):\n",
    "        bene[smallest]+=j\n",
    "        b[smallest].append(i+1) #確切的job給誰\n",
    "        accu_p[smallest] += p[i]\n",
    "    print(i+1, smallest+1, accu_p, bene)\n",
    "display(bene)\n",
    "display(b)\n",
    "display(accu_p)"
   ]
  },
  {
   "cell_type": "code",
   "execution_count": null,
   "metadata": {},
   "outputs": [],
   "source": []
  }
 ],
 "metadata": {
  "kernelspec": {
   "display_name": "Python 3",
   "language": "python",
   "name": "python3"
  },
  "language_info": {
   "codemirror_mode": {
    "name": "ipython",
    "version": 3
   },
   "file_extension": ".py",
   "mimetype": "text/x-python",
   "name": "python",
   "nbconvert_exporter": "python",
   "pygments_lexer": "ipython3",
   "version": "3.8.5"
  }
 },
 "nbformat": 4,
 "nbformat_minor": 4
}
