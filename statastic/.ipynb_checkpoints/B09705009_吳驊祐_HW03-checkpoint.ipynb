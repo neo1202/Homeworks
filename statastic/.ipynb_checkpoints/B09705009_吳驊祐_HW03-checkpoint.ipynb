{
 "cells": [
  {
   "cell_type": "markdown",
   "metadata": {},
   "source": [
    "# 第三次作業"
   ]
  },
  {
   "cell_type": "code",
   "execution_count": 26,
   "metadata": {},
   "outputs": [],
   "source": [
    "# 4.35, 4.41, 4.47, 4.61, 4.67, 4.75"
   ]
  },
  {
   "cell_type": "markdown",
   "metadata": {},
   "source": [
    "<div style=\"background-color:#D9D9D9;\"><font size=\"5\"> 4.35</font></div>"
   ]
  },
  {
   "cell_type": "code",
   "execution_count": 27,
   "metadata": {},
   "outputs": [
    {
     "name": "stdout",
     "output_type": "stream",
     "text": [
      "Bell shape & Empirical Rule ->\n",
      "a. 68% between 46&54\n",
      "a. 95% between 42&58\n",
      "a. 99.7% between 38&62\n"
     ]
    }
   ],
   "source": [
    "print(\"Bell shape & Empirical Rule ->\")\n",
    "print(\"a. 68% between 46&54\")\n",
    "print(\"a. 95% between 42&58\")\n",
    "print(\"a. 99.7% between 38&62\")"
   ]
  },
  {
   "cell_type": "markdown",
   "metadata": {},
   "source": [
    "<div style=\"background-color:#D9D9D9;\"><font size=\"5\"> 4.41</font></div>"
   ]
  },
  {
   "cell_type": "code",
   "execution_count": 28,
   "metadata": {},
   "outputs": [],
   "source": [
    "from matplotlib import pyplot as plt\n",
    "%matplotlib inline\n",
    "plt.rcParams[\"figure.dpi\"] = 80\n",
    "import seaborn as sns\n",
    "import pandas as pd\n",
    "import numpy as np\n",
    "import math\n",
    "import scipy.stats as stats\n",
    "import statsmodels.api as sm\n",
    "import statsmodels.stats.api as sms\n",
    "import statsmodels.formula.api as smf"
   ]
  },
  {
   "cell_type": "code",
   "execution_count": 29,
   "metadata": {},
   "outputs": [
    {
     "name": "stdout",
     "output_type": "stream",
     "text": [
      "        Punter 1   Punter 2   Punter 3\n",
      "count  50.000000  50.000000  50.000000\n",
      "mean   39.220000  39.360000  40.140000\n",
      "std     6.341602   3.847925   1.906059\n",
      "min    28.000000  30.000000  37.000000\n",
      "25%    34.000000  36.000000  39.000000\n",
      "50%    40.000000  40.000000  40.000000\n",
      "75%    43.750000  42.000000  41.000000\n",
      "max    56.000000  47.000000  45.000000\n",
      "punter1. variance = 39.4116, standard deviation = 6.277865879421127\n",
      "punter2. variance = 14.510400000000004, standard deviation = 3.8092518950576113\n",
      "punter3. variance = 3.560399999999998, standard deviation = 1.8869022232219659\n"
     ]
    }
   ],
   "source": [
    "df_41 = pd.read_excel('Xr04-41.xlsx')\n",
    "print(df_41.describe())\n",
    "mean1 = np.mean(df_41['Punter 1'])\n",
    "a_v = 0\n",
    "for a in df_41['Punter 1']:\n",
    "    a_v += (a-mean1)**2\n",
    "a_v = a_v/len(df_41['Punter 1'])\n",
    "print(\"punter1. variance = {}, standard deviation = {}\".format(a_v,math.sqrt(a_v)))\n",
    "mean2 = np.mean(df_41['Punter 2'])\n",
    "b_v = 0\n",
    "for b in df_41['Punter 2']:\n",
    "    b_v += (b-mean2)**2\n",
    "b_v = b_v/len(df_41['Punter 2'])\n",
    "print(\"punter2. variance = {}, standard deviation = {}\".format(b_v,math.sqrt(b_v)))\n",
    "mean3 = np.mean(df_41['Punter 3'])\n",
    "c_v = 0\n",
    "for c in df_41['Punter 3']:\n",
    "    c_v += (c-mean3)**2\n",
    "c_v = c_v/len(df_41['Punter 3'])\n",
    "print(\"punter3. variance = {}, standard deviation = {}\".format(c_v,math.sqrt(c_v)))"
   ]
  },
  {
   "cell_type": "markdown",
   "metadata": {},
   "source": [
    "## punter1到punter3的標準差漸小 3號的發揮很穩定而且平均數也是三者中最高的"
   ]
  },
  {
   "cell_type": "markdown",
   "metadata": {},
   "source": [
    "<div style=\"background-color:#D9D9D9;\"><font size=\"5\"> 4.47</font></div>"
   ]
  },
  {
   "cell_type": "code",
   "execution_count": 30,
   "metadata": {},
   "outputs": [
    {
     "name": "stdout",
     "output_type": "stream",
     "text": [
      "       Property tax\n",
      "count    210.000000\n",
      "mean    1937.316286\n",
      "std      949.990956\n",
      "min      221.330000\n",
      "25%     1403.765000\n",
      "50%     1741.745000\n",
      "75%     2156.890000\n",
      "max     5794.000000\n",
      "mean = 1937.3162857142854, standard deviation = 947.72637369027\n"
     ]
    }
   ],
   "source": [
    "df_47 = pd.read_excel('Xr04-47.xlsx')\n",
    "print(df_47.describe())\n",
    "mean = np.mean(df_47['Property tax'])\n",
    "a_v = 0\n",
    "for a in df_47['Property tax']:\n",
    "    a_v += (a-mean)**2\n",
    "a_v = a_v/len(df_47['Property tax'])\n",
    "print(\"mean = {}, standard deviation = {}\".format(mean,math.sqrt(a_v)))"
   ]
  },
  {
   "cell_type": "markdown",
   "metadata": {},
   "source": [
    "## 在highly positively skewed的情況下 可以知道這張圖\n",
    "### 1.標準差大 數字分佈寬廣 , 2. 平均數1937會大於眾數跟中位數"
   ]
  },
  {
   "cell_type": "markdown",
   "metadata": {},
   "source": [
    "<div style=\"background-color:#D9D9D9;\"><font size=\"5\"> 4.61</font></div>"
   ]
  },
  {
   "cell_type": "code",
   "execution_count": 31,
   "metadata": {},
   "outputs": [
    {
     "name": "stdout",
     "output_type": "stream",
     "text": [
      "6     10.0\n",
      "0     10.5\n",
      "5     12.2\n",
      "8     13.9\n",
      "10    13.9\n",
      "7     14.1\n",
      "1     14.7\n",
      "12    14.7\n",
      "11    15.1\n",
      "2     15.3\n",
      "4     15.9\n",
      "3     17.7\n",
      "9     18.5\n",
      "Name: X, dtype: float64\n",
      "first quartile = 13.05\n",
      "second quartile = 14.7\n",
      "third quartile = 15.6\n"
     ]
    }
   ],
   "source": [
    "df_61 = pd.read_excel('Xr04-61.xlsx')\n",
    "print(df_61['X'].sort_values())\n",
    "#14*(25/100)=3.5\n",
    "print(\"first quartile = 13.05\")\n",
    "print(\"second quartile = 14.7\")\n",
    "print(\"third quartile = 15.6\")"
   ]
  },
  {
   "cell_type": "markdown",
   "metadata": {},
   "source": [
    "<div style=\"background-color:#D9D9D9;\"><font size=\"5\"> 4.67*</font></div>"
   ]
  },
  {
   "cell_type": "code",
   "execution_count": 82,
   "metadata": {},
   "outputs": [
    {
     "name": "stdout",
     "output_type": "stream",
     "text": [
      "The correct speed limit : 85% percentile =  75.0  mph\n",
      "Coefficients of Skewness =  0.005745762763541572\n",
      "Coefficient of Kurtosis =  0.008838298382218175\n",
      "可以知道數據的分佈是相當對稱且分散扁平的 略為偏向右邊\n"
     ]
    }
   ],
   "source": [
    "df_67 = pd.read_excel('Xr04-67.xlsx')\n",
    "def percentile(data1, p):\n",
    "    if type(data1) == np.ndarray:        \n",
    "        alldata = data1.copy()\n",
    "        data1 = data1.copy()\n",
    "    else:\n",
    "        alldata = data1.values.copy()\n",
    "        data1 = data1.values.copy()\n",
    "    alldata.sort()\n",
    "    n = alldata.size\n",
    "    l = (n + 1) * p / 100 - 1\n",
    "    f_l = math.floor(l)\n",
    "    c_l = math.ceil(l)\n",
    "    percentile_v = alldata[f_l] + (alldata[c_l] - alldata[f_l]) * (l - f_l)\n",
    "    return percentile_v\n",
    "p85 = percentile(df_67['Speeds'], 85)\n",
    "print(\"The correct speed limit : 85% percentile = \", p85, \" mph\")\n",
    "mean = df_67['Speeds'].mean()\n",
    "m2=0\n",
    "m3=0\n",
    "m4=0\n",
    "for i in df_67['Speeds']:\n",
    "    m2 += (i-mean)**2\n",
    "    m3 += (i-mean)**3\n",
    "    m4 += (i-mean)**4\n",
    "#print(m2, m3, m4)\n",
    "g1 = m3 / math.sqrt((m2**3))\n",
    "print(\"Coefficients of Skewness = \", g1)\n",
    "g2 = m4 / math.sqrt((m2**4))\n",
    "print(\"Coefficient of Kurtosis = \", g2)\n",
    "print(\"可以知道數據的分佈是相當對稱且分散扁平的 略為偏向右邊\")"
   ]
  },
  {
   "cell_type": "markdown",
   "metadata": {},
   "source": [
    "<div style=\"background-color:#D9D9D9;\"><font size=\"5\"> 4.75*</font></div>"
   ]
  },
  {
   "cell_type": "code",
   "execution_count": 84,
   "metadata": {},
   "outputs": [
    {
     "name": "stdout",
     "output_type": "stream",
     "text": [
      "The first Quartile : 25% percentile =  9836.97277836036  USD\n",
      "The second Quartile : 50% percentile =  12224.261765298434  USD\n",
      "The third Quartile : 75% percentile =  14597.98836724367  USD\n",
      "2387.2889869380742\n",
      "2373.7266019452363\n",
      "能知道中間區域兩側附近的資料分佈是蠻均勻的\n",
      "Coefficients of Skewness =  -0.0010284767923156145\n",
      "Coefficient of Kurtosis =  0.0044738248130861795\n",
      "數據的分佈相當對稱且分散、扁平\n"
     ]
    }
   ],
   "source": [
    "df_75 = pd.read_excel('Xr04-75.xlsx')\n",
    "p25 = percentile(df_75['Mortgage Deduction'], 25)\n",
    "p50 = percentile(df_75['Mortgage Deduction'], 50)\n",
    "p75 = percentile(df_75['Mortgage Deduction'], 75)\n",
    "print(\"The first Quartile : 25% percentile = \", p25, \" USD\")\n",
    "print(\"The second Quartile : 50% percentile = \", p50, \" USD\")\n",
    "print(\"The third Quartile : 75% percentile = \", p75, \" USD\")\n",
    "print(p50-p25)\n",
    "print(p75-p50)\n",
    "print(\"能知道中間區域兩側附近的資料分佈是蠻均勻的\")\n",
    "mean = df_75['Mortgage Deduction'].mean()\n",
    "m2=0\n",
    "m3=0\n",
    "m4=0\n",
    "for i in df_75['Mortgage Deduction']:\n",
    "    m2 += (i-mean)**2\n",
    "    m3 += (i-mean)**3\n",
    "    m4 += (i-mean)**4\n",
    "#print(m2, m3, m4)\n",
    "g1 = m3 / math.sqrt((m2**3))\n",
    "print(\"Coefficients of Skewness = \", g1)\n",
    "g2 = m4 / math.sqrt((m2**4))\n",
    "print(\"Coefficient of Kurtosis = \", g2)\n",
    "print(\"數據的分佈相當對稱且分散、扁平\")"
   ]
  },
  {
   "cell_type": "markdown",
   "metadata": {},
   "source": [
    "<div style=\"background-color:#D9D9D9;\"><font size=\"5\">4.95*</font></div>"
   ]
  },
  {
   "cell_type": "markdown",
   "metadata": {},
   "source": [
    "<div style=\"background-color:#D9D9D9;\"><font size=\"5\"> 4.101*</font></div>"
   ]
  },
  {
   "cell_type": "markdown",
   "metadata": {},
   "source": [
    "已搬家淡水...希望依然會邊錄上課影片; )"
   ]
  }
 ],
 "metadata": {
  "kernelspec": {
   "display_name": "Python 3",
   "language": "python",
   "name": "python3"
  },
  "language_info": {
   "codemirror_mode": {
    "name": "ipython",
    "version": 3
   },
   "file_extension": ".py",
   "mimetype": "text/x-python",
   "name": "python",
   "nbconvert_exporter": "python",
   "pygments_lexer": "ipython3",
   "version": "3.8.5"
  }
 },
 "nbformat": 4,
 "nbformat_minor": 4
}
