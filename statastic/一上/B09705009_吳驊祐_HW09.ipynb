{
 "cells": [
  {
   "cell_type": "markdown",
   "metadata": {},
   "source": [
    "# 第九次作業"
   ]
  },
  {
   "cell_type": "code",
   "execution_count": 41,
   "metadata": {},
   "outputs": [],
   "source": [
    "# 11.57, 11.58, 11.61, 11.77, 11.78"
   ]
  },
  {
   "cell_type": "code",
   "execution_count": 42,
   "metadata": {},
   "outputs": [],
   "source": [
    "from matplotlib import pyplot as plt\n",
    "%matplotlib inline\n",
    "import seaborn as sns\n",
    "import pandas as pd\n",
    "import numpy as np\n",
    "import statistics as st\n",
    "import scipy.stats as stats\n",
    "import statsmodels.api as sm\n",
    "import statsmodels.stats.api as sms\n",
    "import statsmodels.formula.api as smf\n",
    "import math\n",
    "from scipy.stats import moment\n",
    "import sys"
   ]
  },
  {
   "cell_type": "markdown",
   "metadata": {},
   "source": [
    "<div style=\"background-color:#D9D9D9;\"><font size=\"5\"> 11.57</font></div>"
   ]
  },
  {
   "cell_type": "code",
   "execution_count": 43,
   "metadata": {},
   "outputs": [
    {
     "name": "stdout",
     "output_type": "stream",
     "text": [
      "Hypothesized mean = 30\n",
      "Assumed std dev = 5\n",
      "Significant level = 0.1\n",
      "Number of observation = 277\n",
      "Sample mean = 29.510361010830337\n",
      "z_value = -1.6298\n",
      "p-value = 0.1031\n",
      "\n",
      "because p is larger than significance level, we can not conclude that the mean expenditure unequal to $30\n"
     ]
    }
   ],
   "source": [
    "df1 = pd.read_excel('Xr11-57.xlsx')\n",
    "h0_mu = 30\n",
    "print(f\"Hypothesized mean = {h0_mu}\")\n",
    "h0_std = 5\n",
    "print(f\"Assumed std dev = {h0_std}\")\n",
    "siglevel = 0.1\n",
    "print(f\"Significant level = {siglevel}\")\n",
    "nobs = df1.shape[0]\n",
    "print(f\"Number of observation = {nobs}\")\n",
    "x_bar = np.mean(df1['Bakery '])\n",
    "print(f\"Sample mean = {x_bar}\")\n",
    "z_value = (x_bar - h0_mu)/(h0_std/(nobs**0.5))\n",
    "print(f\"z_value = {z_value:.4f}\")\n",
    "p_value = (stats.norm.cdf(z_value)) * 2\n",
    "print(f\"p-value = {p_value:.4f}\")\n",
    "print(\"\")\n",
    "print(\"because p is larger than significance level, we can not conclude that the mean expenditure unequal to $30\")"
   ]
  },
  {
   "cell_type": "markdown",
   "metadata": {},
   "source": [
    "<div style=\"background-color:#D9D9D9;\"><font size=\"5\"> 11.58</font></div>"
   ]
  },
  {
   "cell_type": "code",
   "execution_count": 44,
   "metadata": {},
   "outputs": [
    {
     "name": "stdout",
     "output_type": "stream",
     "text": [
      "Hypothesized mean = 125000\n",
      "Assumed std dev = 25000\n",
      "Significant level = 0.05\n",
      "Number of observation = 410\n",
      "Sample mean = 126836.90975609756\n",
      "z_value = 1.4878\n",
      "p_value = 0.0684\n",
      "\n",
      "because the p-value is larger than significance level, we do not reject the null hypothesis\n"
     ]
    }
   ],
   "source": [
    "df1 = pd.read_excel('Xr11-58.xlsx')\n",
    "h0_mu = 125000\n",
    "print(f\"Hypothesized mean = {h0_mu}\")\n",
    "h0_std = 25000\n",
    "print(f\"Assumed std dev = {h0_std}\")\n",
    "siglevel = 0.05\n",
    "print(f\"Significant level = {siglevel}\")\n",
    "nobs = df1.shape[0]\n",
    "print(f\"Number of observation = {nobs}\")\n",
    "x_bar = np.mean(df1['Value 401k'])\n",
    "print(f\"Sample mean = {x_bar}\")\n",
    "z_value = (x_bar - h0_mu)/(h0_std/(nobs**0.5))\n",
    "print(f\"z_value = {z_value:.4f}\")\n",
    "p_value = (1-stats.norm.cdf(z_value))\n",
    "print(f\"p_value = {p_value:.4f}\")\n",
    "print(\"\")\n",
    "print(\"because the p-value is larger than significance level, we do not reject the null hypothesis\")"
   ]
  },
  {
   "cell_type": "markdown",
   "metadata": {},
   "source": [
    "<div style=\"background-color:#D9D9D9;\"><font size=\"5\"> 11.61</font></div>"
   ]
  },
  {
   "cell_type": "code",
   "execution_count": 45,
   "metadata": {},
   "outputs": [
    {
     "name": "stdout",
     "output_type": "stream",
     "text": [
      "z critical value = 2.3263\n",
      "x critical value = 1023.2635\n",
      "P(typeII) = 0.0038\n"
     ]
    }
   ],
   "source": [
    "h0_mu = 1000\n",
    "alpha = 0.01\n",
    "std = 50\n",
    "n = 25\n",
    "mu = 1050\n",
    "zcv = stats.norm.ppf(1-alpha)\n",
    "print(f\"z critical value = {zcv:.4f}\")\n",
    "xcv = h0_mu + zcv * std / (n ** 0.5)\n",
    "print(f\"x critical value = {xcv:.4f}\")\n",
    "\n",
    "\n",
    "ztype2 = (xcv - mu) / ( std/ (n ** 0.5))\n",
    "beta = stats.norm.cdf(ztype2)\n",
    "print(f\"P(typeII) = {beta:.4f}\")\n",
    "powertest = 1 - beta\n",
    "#print(f\"Power of test = {powertest:.4f}\")"
   ]
  },
  {
   "cell_type": "markdown",
   "metadata": {},
   "source": [
    "<div style=\"background-color:#D9D9D9;\"><font size=\"5\"> 11.77</font></div>"
   ]
  },
  {
   "cell_type": "code",
   "execution_count": 46,
   "metadata": {},
   "outputs": [
    {
     "name": "stdout",
     "output_type": "stream",
     "text": [
      "z critical value = -2.3263\n",
      "x critical value = 9.3021\n",
      "P(typeII) = 0.1570\n"
     ]
    }
   ],
   "source": [
    "# i\n",
    "n = 100\n",
    "alpha = 0.01\n",
    "std = 3\n",
    "h0_mu = 10\n",
    "mu = 9\n",
    "zcv = stats.norm.ppf(alpha)\n",
    "print(f\"z critical value = {zcv:.4f}\")\n",
    "xcv = h0_mu + zcv * std / (n ** 0.5)\n",
    "print(f\"x critical value = {xcv:.4f}\")\n",
    "\n",
    "ztype2 = (xcv - mu) / ( std/ (n ** 0.5))\n",
    "beta = 1 - stats.norm.cdf(ztype2)\n",
    "print(f\"P(typeII) = {beta:.4f}\")\n",
    "powertest = 1 - beta\n",
    "#print(f\"Power of test = {powertest:.4f}\")"
   ]
  },
  {
   "cell_type": "code",
   "execution_count": 47,
   "metadata": {},
   "outputs": [
    {
     "name": "stdout",
     "output_type": "stream",
     "text": [
      "z critical value = -1.6449\n",
      "x critical value = 9.4302\n",
      "P(typeII) = 0.1071\n"
     ]
    }
   ],
   "source": [
    "# ii\n",
    "n = 75\n",
    "alpha = 0.05\n",
    "std = 3\n",
    "h0_mu = 10\n",
    "mu = 9\n",
    "zcv = stats.norm.ppf(alpha)\n",
    "print(f\"z critical value = {zcv:.4f}\")\n",
    "xcv = h0_mu + zcv * std / (n ** 0.5)\n",
    "print(f\"x critical value = {xcv:.4f}\")\n",
    "\n",
    "ztype2 = (xcv - mu) / ( std/ (n ** 0.5))\n",
    "beta = 1 - stats.norm.cdf(ztype2)\n",
    "print(f\"P(typeII) = {beta:.4f}\")\n",
    "powertest = 1 - beta\n",
    "#print(f\"Power of test = {powertest:.4f}\")"
   ]
  },
  {
   "cell_type": "code",
   "execution_count": 48,
   "metadata": {},
   "outputs": [
    {
     "name": "stdout",
     "output_type": "stream",
     "text": [
      "z critical value = -1.2816\n",
      "x critical value = 9.4563\n",
      "P(typeII) = 0.1411\n"
     ]
    }
   ],
   "source": [
    "# iii\n",
    "n = 50\n",
    "alpha = 0.1\n",
    "std = 3\n",
    "h0_mu = 10\n",
    "mu = 9\n",
    "zcv = stats.norm.ppf(alpha)\n",
    "print(f\"z critical value = {zcv:.4f}\")\n",
    "xcv = h0_mu + zcv * std / (n ** 0.5)\n",
    "print(f\"x critical value = {xcv:.4f}\")\n",
    "\n",
    "ztype2 = (xcv - mu) / ( std/ (n ** 0.5))\n",
    "beta = 1 - stats.norm.cdf(ztype2)\n",
    "print(f\"P(typeII) = {beta:.4f}\")\n",
    "powertest = 1 - beta\n",
    "#print(f\"Power of test = {powertest:.4f}\")"
   ]
  },
  {
   "cell_type": "markdown",
   "metadata": {},
   "source": [
    "plan 2 has the lowest probability of a Type II error, given that the true population average is 9 days"
   ]
  },
  {
   "cell_type": "markdown",
   "metadata": {},
   "source": [
    "<div style=\"background-color:#D9D9D9;\"><font size=\"5\"> 11.78</font></div>"
   ]
  },
  {
   "cell_type": "markdown",
   "metadata": {},
   "source": [
    "## let h0:wind average velocity<=20 ; h1:wind average velocity>20 "
   ]
  },
  {
   "cell_type": "markdown",
   "metadata": {},
   "source": [
    "## after collecting datas and sample mean is calculated, "
   ]
  },
  {
   "cell_type": "markdown",
   "metadata": {},
   "source": [
    "## type 1 error: the actually wind average velocity is less than 20miles per hour, but we concluded from the statistics and believe that it's more than that and therefore built it, the decision would cause enormous losses to the company since the windmill couldn't provide expected electricity.\n",
    "## type 2 error: means wind average velocity exceed 20miles per hour in reality, but we thought it less than 20miles per hour and decided not to build it. It seems that we wouldn't pay for this situation, but in fact we loss an opportunity to earn profit from this construction."
   ]
  }
 ],
 "metadata": {
  "kernelspec": {
   "display_name": "Python 3",
   "language": "python",
   "name": "python3"
  },
  "language_info": {
   "codemirror_mode": {
    "name": "ipython",
    "version": 3
   },
   "file_extension": ".py",
   "mimetype": "text/x-python",
   "name": "python",
   "nbconvert_exporter": "python",
   "pygments_lexer": "ipython3",
   "version": "3.8.5"
  }
 },
 "nbformat": 4,
 "nbformat_minor": 4
}
