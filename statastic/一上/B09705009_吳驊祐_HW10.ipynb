{
 "cells": [
  {
   "cell_type": "markdown",
   "metadata": {},
   "source": [
    "# 第十次作業"
   ]
  },
  {
   "cell_type": "code",
   "execution_count": 29,
   "metadata": {},
   "outputs": [],
   "source": [
    "# 12.23, 12.34, 12.44, 12.74, 12.78"
   ]
  },
  {
   "cell_type": "code",
   "execution_count": 30,
   "metadata": {},
   "outputs": [],
   "source": [
    "from matplotlib import pyplot as plt\n",
    "%matplotlib inline\n",
    "import seaborn as sns\n",
    "import pandas as pd\n",
    "import numpy as np\n",
    "import statistics as st\n",
    "import scipy.stats as stats\n",
    "import statsmodels.api as sm\n",
    "import statsmodels.stats.api as sms\n",
    "import statsmodels.formula.api as smf\n",
    "import math\n",
    "from scipy.stats import moment\n",
    "import sys"
   ]
  },
  {
   "cell_type": "markdown",
   "metadata": {},
   "source": [
    "<div style=\"background-color:#D9D9D9;\"><font size=\"5\"> 12.23</font></div>"
   ]
  },
  {
   "cell_type": "code",
   "execution_count": 31,
   "metadata": {},
   "outputs": [
    {
     "name": "stdout",
     "output_type": "stream",
     "text": [
      "alpha = 0.05\n",
      "h0 mean= 6\n",
      "xbar=5.6875\n",
      "tvalue=-0.6850\n",
      "p-value=0.2538\n"
     ]
    }
   ],
   "source": [
    "#h0 >= 6 \n",
    "df1 = pd.read_excel(r\"Xr12-23.xlsx\")\n",
    "#print(df1)\n",
    "#_ = plt.hist(df1.Times, bins = \"auto\")\n",
    "nobs = df1.shape[0]\n",
    "sampleStd = np.std(df1['Times'],ddof = 1) \n",
    "siglevel = 0.05\n",
    "print(\"alpha = 0.05\")\n",
    "xbar = df1['Times'].mean()\n",
    "h0mu = 6\n",
    "print(\"h0 mean=\",h0mu)\n",
    "print(f\"xbar={xbar:.4f}\")\n",
    "tvalue = (xbar-h0mu)/(sampleStd/nobs**0.5)\n",
    "print(f\"tvalue={tvalue:.4f}\")\n",
    "pvalue = stats.t.cdf(tvalue,df=nobs-1)\n",
    "print(f\"p-value={pvalue:.4f}\")"
   ]
  },
  {
   "cell_type": "markdown",
   "metadata": {},
   "source": [
    "since the p-value is larger than alpha = 0.05, we can't deny the null hypothesis, that is, we can't support the courier's advertisement. "
   ]
  },
  {
   "cell_type": "markdown",
   "metadata": {},
   "source": [
    "<div style=\"background-color:#D9D9D9;\"><font size=\"5\"> 12.34</font></div>"
   ]
  },
  {
   "cell_type": "code",
   "execution_count": 32,
   "metadata": {},
   "outputs": [
    {
     "name": "stdout",
     "output_type": "stream",
     "text": [
      "alpha = 0.05\n",
      "xbar=  15137.392156862745\n",
      "confidence interval:[727267.0414 million USD,786472.1742 million USD]\n",
      "There is 95% chance that the interval 727267.0414 million to 786472.1742 million would cover the total credit card debt.\n"
     ]
    }
   ],
   "source": [
    "df2 = pd.read_excel(r\"Xr12-34.xlsx\")\n",
    "#print(df2)\n",
    "nobs = df2.shape[0]\n",
    "sampleStd = np.std(df2['Debt'],ddof = 1) \n",
    "siglevel = 0.05\n",
    "print(\"alpha = 0.05\")\n",
    "xbar = df2['Debt'].mean()\n",
    "print(\"xbar= \", xbar)\n",
    "#兩頭的alpha要分一半在底下\n",
    "rcl = xbar + stats.t.ppf(1-siglevel/2,df=nobs-1) * sampleStd/nobs**0.5\n",
    "lcl = xbar - stats.t.ppf(1-siglevel/2,df=nobs-1) * sampleStd/nobs**0.5\n",
    "print(f\"confidence interval:[{lcl*50:.4f} million USD,{rcl*50:.4f} million USD]\")\n",
    "print(f\"There is 95% chance that the interval {lcl*50:.4f} million to {rcl*50:.4f} million would cover the total credit card debt.\")"
   ]
  },
  {
   "cell_type": "markdown",
   "metadata": {},
   "source": [
    "<div style=\"background-color:#D9D9D9;\"><font size=\"5\"> 12.44</font></div>"
   ]
  },
  {
   "cell_type": "code",
   "execution_count": 33,
   "metadata": {},
   "outputs": [
    {
     "name": "stdout",
     "output_type": "stream",
     "text": [
      "alpha = 0.05\n",
      "xbar=  96099.85412262156\n",
      "confidence interval:[650899.3227 million ＄,694498.6350 million ＄]\n",
      "There is 95% chance that the interval 650899.3227 million to 694498.6350 million would cover the total household debt.\n"
     ]
    }
   ],
   "source": [
    "df3 = pd.read_excel(r\"Xr12-44.xlsx\")\n",
    "#print(df3)\n",
    "nobs = df3.shape[0]\n",
    "sampleStd = np.std(df3['Debt'],ddof = 1) \n",
    "siglevel = 0.05\n",
    "print(\"alpha = 0.05\")\n",
    "xbar = df3['Debt'].mean()\n",
    "print(\"xbar= \", xbar)\n",
    "rcl = xbar + stats.t.ppf(1-siglevel/2,df=nobs-1) * sampleStd/nobs**0.5\n",
    "lcl = xbar - stats.t.ppf(1-siglevel/2,df=nobs-1) * sampleStd/nobs**0.5\n",
    "print(f\"confidence interval:[{lcl*7:.4f} million ＄,{rcl*7:.4f} million ＄]\")\n",
    "print(f\"There is 95% chance that the interval {lcl*7:.4f} million to {rcl*7:.4f} million would cover the total household debt.\")"
   ]
  },
  {
   "cell_type": "markdown",
   "metadata": {},
   "source": [
    "<div style=\"background-color:#D9D9D9;\"><font size=\"5\"> 12.74</font></div>"
   ]
  },
  {
   "cell_type": "code",
   "execution_count": 34,
   "metadata": {},
   "outputs": [
    {
     "data": {
      "image/png": "[encoded data removed]",
      "text/plain": [
       "<Figure size 432x288 with 1 Axes>"
      ]
     },
     "metadata": {
      "needs_background": "light"
     },
     "output_type": "display_data"
    }
   ],
   "source": [
    "#h0 variance not decrease\n",
    "df4 = pd.read_excel(r\"Xr12-74.xlsx\")\n",
    "_ = plt.hist(df4.Marks, bins = \"auto\")"
   ]
  },
  {
   "cell_type": "markdown",
   "metadata": {},
   "source": [
    "the data isn't bell-shaped, so the result may not be credible"
   ]
  },
  {
   "cell_type": "code",
   "execution_count": 35,
   "metadata": {},
   "outputs": [
    {
     "name": "stdout",
     "output_type": "stream",
     "text": [
      "alpha = 0.1\n",
      "chistat=7.5680\n",
      "p-value=0.4218\n"
     ]
    }
   ],
   "source": [
    "nobs = df4.shape[0]\n",
    "sampleStd = np.std(df4['Marks'],ddof = 1) \n",
    "h0stdsquare = 250\n",
    "siglevel = 0.1\n",
    "print(\"alpha = 0.1\")\n",
    "chistat = (nobs-1)*sampleStd**2/h0stdsquare\n",
    "print(f\"chistat={chistat:.4f}\")\n",
    "pvalue = stats.chi2.cdf(chistat,nobs-1)\n",
    "print(f\"p-value={pvalue:.4f}\")"
   ]
  },
  {
   "cell_type": "markdown",
   "metadata": {},
   "source": [
    "p-value is larger than alpha, means that the professor can not infer at the 10% significance level that the variance has decreased"
   ]
  },
  {
   "cell_type": "markdown",
   "metadata": {},
   "source": [
    "<div style=\"background-color:#D9D9D9;\"><font size=\"5\"> 12.78</font></div>"
   ]
  },
  {
   "cell_type": "code",
   "execution_count": 36,
   "metadata": {},
   "outputs": [
    {
     "data": {
      "image/png": "[encoded data removed]",
      "text/plain": [
       "<Figure size 432x288 with 1 Axes>"
      ]
     },
     "metadata": {
      "needs_background": "light"
     },
     "output_type": "display_data"
    }
   ],
   "source": [
    "#h0: <=18\n",
    "df5 = pd.read_excel(r\"Xr12-78.xlsx\")\n",
    "_ = plt.hist(df5.Speeds, bins = \"auto\")"
   ]
  },
  {
   "cell_type": "code",
   "execution_count": 37,
   "metadata": {},
   "outputs": [
    {
     "name": "stdout",
     "output_type": "stream",
     "text": [
      "alpha = 0.1\n",
      "chistat=305.8535\n",
      "p-value=0.0044\n"
     ]
    }
   ],
   "source": [
    "nobs = df5.shape[0]\n",
    "sampleStd = np.std(df5['Speeds'], ddof = 1) \n",
    "h0stdsquare = 18\n",
    "siglevel = 0.1\n",
    "print(\"alpha = 0.1\")\n",
    "chistat = (nobs-1)*sampleStd**2/h0stdsquare\n",
    "print(f\"chistat={chistat:.4f}\")\n",
    "pvalue = 1 - stats.chi2.cdf(chistat,nobs-1)\n",
    "print(f\"p-value={pvalue:.4f}\")"
   ]
  },
  {
   "cell_type": "markdown",
   "metadata": {},
   "source": [
    "since p-value is less than alpha, we can reject the null hypothesis and believe that the variance in speeds exceeds 18 mph2."
   ]
  }
 ],
 "metadata": {
  "kernelspec": {
   "display_name": "Python 3",
   "language": "python",
   "name": "python3"
  },
  "language_info": {
   "codemirror_mode": {
    "name": "ipython",
    "version": 3
   },
   "file_extension": ".py",
   "mimetype": "text/x-python",
   "name": "python",
   "nbconvert_exporter": "python",
   "pygments_lexer": "ipython3",
   "version": "3.8.5"
  }
 },
 "nbformat": 4,
 "nbformat_minor": 4
}
