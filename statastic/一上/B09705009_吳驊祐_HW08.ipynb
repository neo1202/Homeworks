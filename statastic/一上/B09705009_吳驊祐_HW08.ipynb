{
 "cells": [
  {
   "cell_type": "markdown",
   "metadata": {},
   "source": [
    "# 第八次作業"
   ]
  },
  {
   "cell_type": "code",
   "execution_count": 31,
   "metadata": {},
   "outputs": [],
   "source": [
    "# 10.5, 10.7, 10.16, 10.32, 10.37, 10.41, 10.49, 10.60\n",
    "from matplotlib import pyplot as plt\n",
    "%matplotlib inline\n",
    "import seaborn as sns\n",
    "import pandas as pd\n",
    "import numpy as np\n",
    "import statistics as st\n",
    "import scipy.stats as stats\n",
    "import statsmodels.api as sm\n",
    "import statsmodels.stats.api as sms\n",
    "import statsmodels.formula.api as smf\n",
    "import math\n",
    "from scipy.stats import moment\n",
    "import sys"
   ]
  },
  {
   "cell_type": "markdown",
   "metadata": {},
   "source": [
    "<div style=\"background-color:#D9D9D9;\"><font size=\"5\"> 10.5</font></div>"
   ]
  },
  {
   "cell_type": "markdown",
   "metadata": {},
   "source": [
    "An estimator is called consistent if it converges in probability to its estimand as sample increases "
   ]
  },
  {
   "cell_type": "markdown",
   "metadata": {},
   "source": [
    "<div style=\"background-color:#D9D9D9;\"><font size=\"5\"> 10.7</font></div>"
   ]
  },
  {
   "cell_type": "markdown",
   "metadata": {},
   "source": [
    "If there are two unbiased estimators of a parameter, the one has smaller variance is said to have relative efficiency."
   ]
  },
  {
   "cell_type": "markdown",
   "metadata": {},
   "source": [
    "<div style=\"background-color:#D9D9D9;\"><font size=\"5\"> 10.16</font></div>"
   ]
  },
  {
   "cell_type": "code",
   "execution_count": 32,
   "metadata": {},
   "outputs": [
    {
     "name": "stdout",
     "output_type": "stream",
     "text": [
      "a. estimate of the population mean with confidence interval: 496.0521 to 503.9479\n",
      "b. estimate of the population mean with confidence interval: 496.6738 to 503.3262\n",
      "c. estimate of the population mean with confidence interval: 497.2086 to 502.7914\n",
      "d. lower confidence levels produce narrow confidence interval.\n"
     ]
    }
   ],
   "source": [
    "x = 500\n",
    "sig = 12\n",
    "n = 50\n",
    "a = 0.02\n",
    "z = stats.norm.ppf(1 - a/2)\n",
    "lb = x - (z*sig)/((n)**(1/2))\n",
    "ub = x + (z*sig)/((n)**(1/2))\n",
    "print(f\"a. estimate of the population mean with confidence interval: {lb:.4f} to {ub:.4f}\")\n",
    "a = 0.05\n",
    "z = stats.norm.ppf(1 - a/2)\n",
    "lb = x - (z*sig)/((n)**(1/2))\n",
    "ub = x + (z*sig)/((n)**(1/2))\n",
    "print(f\"b. estimate of the population mean with confidence interval: {lb:.4f} to {ub:.4f}\")\n",
    "a = 0.1\n",
    "z = stats.norm.ppf(1 - a/2)\n",
    "lb = x - (z*sig)/((n)**(1/2))\n",
    "ub = x + (z*sig)/((n)**(1/2))\n",
    "print(f\"c. estimate of the population mean with confidence interval: {lb:.4f} to {ub:.4f}\")\n",
    "print(\"d. lower confidence levels produce narrow confidence interval.\")"
   ]
  },
  {
   "cell_type": "markdown",
   "metadata": {},
   "source": [
    "<div style=\"background-color:#D9D9D9;\"><font size=\"5\"> 10.32</font></div>"
   ]
  },
  {
   "cell_type": "code",
   "execution_count": 33,
   "metadata": {},
   "outputs": [
    {
     "name": "stdout",
     "output_type": "stream",
     "text": [
      "confidence interval from 10.416644264950868 to 15.891048042741438 pounds\n"
     ]
    }
   ],
   "source": [
    "smokers = np.array([16,23,8, 2, 14,22,18,11,10,19,5, 8, 15])\n",
    "x = np.mean(smokers)\n",
    "n = 13\n",
    "sig = 6\n",
    "a = 0.1\n",
    "z = stats.norm.ppf(1 - a/2)\n",
    "lb = x - z*sig/(n)**(1/2)\n",
    "ub = x + z*sig/(n)**(1/2)\n",
    "print(f\"confidence interval from {lb} to {ub} pounds\")"
   ]
  },
  {
   "cell_type": "markdown",
   "metadata": {},
   "source": [
    "<div style=\"background-color:#D9D9D9;\"><font size=\"5\"> 10.37</font></div>"
   ]
  },
  {
   "cell_type": "code",
   "execution_count": 34,
   "metadata": {},
   "outputs": [
    {
     "name": "stdout",
     "output_type": "stream",
     "text": [
      "confidence interval: 9.6433 to 10.7767 classes\n"
     ]
    }
   ],
   "source": [
    "df = pd.read_excel('Xr10-37.xlsx')\n",
    "x = df['Classes'].mean()\n",
    "sig = 2.2\n",
    "n = 100\n",
    "a = 0.01\n",
    "z = stats.norm.ppf(1 - a/2)\n",
    "lb = x - (z*sig)/((n)**(1/2))\n",
    "ub = x + (z*sig)/((n)**(1/2))\n",
    "print(f\"confidence interval: {lb:.4f} to {ub:.4f} classes\")"
   ]
  },
  {
   "cell_type": "markdown",
   "metadata": {},
   "source": [
    "<div style=\"background-color:#D9D9D9;\"><font size=\"5\"> 10.41</font></div>"
   ]
  },
  {
   "cell_type": "code",
   "execution_count": 35,
   "metadata": {},
   "outputs": [
    {
     "name": "stdout",
     "output_type": "stream",
     "text": [
      "confidence interval: 14.4076 to 15.5924 minutes\n",
      "the result means that there are 99% probability that the true population mean of pulse-recovery time for all 40- to 50-year-old women falls between 14.4076 to 15.5924 minutes.\n"
     ]
    }
   ],
   "source": [
    "df = pd.read_excel('Xr10-41.xlsx')\n",
    "x = df['Time'].mean()\n",
    "sig = 2.3\n",
    "n = 100\n",
    "a = 0.01\n",
    "z = stats.norm.ppf(1 - a/2)\n",
    "lb = x - (z*sig)/((n)**(1/2))\n",
    "ub = x + (z*sig)/((n)**(1/2))\n",
    "print(f\"confidence interval: {lb:.4f} to {ub:.4f} minutes\")\n",
    "print(\"the result means that there are 99% probability that the true population mean of pulse-recovery time for all 40- to 50-year-old women falls between 14.4076 to 15.5924 minutes.\")"
   ]
  },
  {
   "cell_type": "markdown",
   "metadata": {},
   "source": [
    "<div style=\"background-color:#D9D9D9;\"><font size=\"5\"> 10.49</font></div>"
   ]
  },
  {
   "cell_type": "code",
   "execution_count": 36,
   "metadata": {},
   "outputs": [
    {
     "name": "stdout",
     "output_type": "stream",
     "text": [
      "a. the size should be  166 units\n",
      "b. the size should be  7 units\n",
      "c. the size should be  97 units\n",
      "d. the size should be  4147 units\n"
     ]
    }
   ],
   "source": [
    "w = 50\n",
    "sig = 250\n",
    "a = 0.01\n",
    "z = stats.norm.ppf(1 - a/2)\n",
    "n = (z*sig/w)**2\n",
    "n = math.ceil(n)\n",
    "print(\"a. the size should be \",n,\"units\")\n",
    "w = 50\n",
    "sig = 50\n",
    "a = 0.01\n",
    "z = stats.norm.ppf(1 - a/2)\n",
    "n = (z*sig/w)**2\n",
    "n = math.ceil(n)\n",
    "print(\"b. the size should be \",n,\"units\")\n",
    "w = 50\n",
    "sig = 250\n",
    "a = 0.05\n",
    "z = stats.norm.ppf(1 - a/2)\n",
    "n = (z*sig/w)**2\n",
    "n = math.ceil(n)\n",
    "print(\"c. the size should be \",n,\"units\")\n",
    "w = 10\n",
    "sig = 250\n",
    "a = 0.01\n",
    "z = stats.norm.ppf(1 - a/2)\n",
    "n = (z*sig/w)**2\n",
    "n = math.ceil(n)\n",
    "print(\"d. the size should be \",n,\"units\")"
   ]
  },
  {
   "cell_type": "markdown",
   "metadata": {},
   "source": [
    "<div style=\"background-color:#D9D9D9;\"><font size=\"5\"> 10.60</font></div>"
   ]
  },
  {
   "cell_type": "code",
   "execution_count": 37,
   "metadata": {},
   "outputs": [
    {
     "name": "stdout",
     "output_type": "stream",
     "text": [
      "a. the sample should be  1083 patients\n"
     ]
    }
   ],
   "source": [
    "w = 1\n",
    "sig = 20\n",
    "a = 0.1\n",
    "z = stats.norm.ppf(1 - a/2)\n",
    "n = (z*sig/w)**2\n",
    "n = math.ceil(n)\n",
    "print(\"a. the sample should be \",n,\"patients\")"
   ]
  }
 ],
 "metadata": {
  "kernelspec": {
   "display_name": "Python 3",
   "language": "python",
   "name": "python3"
  },
  "language_info": {
   "codemirror_mode": {
    "name": "ipython",
    "version": 3
   },
   "file_extension": ".py",
   "mimetype": "text/x-python",
   "name": "python",
   "nbconvert_exporter": "python",
   "pygments_lexer": "ipython3",
   "version": "3.8.5"
  }
 },
 "nbformat": 4,
 "nbformat_minor": 4
}
