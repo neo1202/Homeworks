{
 "cells": [
  {
   "cell_type": "markdown",
   "metadata": {},
   "source": [
    "# 第七次作業"
   ]
  },
  {
   "cell_type": "code",
   "execution_count": 18,
   "metadata": {},
   "outputs": [],
   "source": [
    "#  9.32, 9.36, 9.52, 9.58, 9.61, 9.68\n",
    "from matplotlib import pyplot as plt\n",
    "import seaborn as sns\n",
    "import pandas as pd\n",
    "import numpy as np\n",
    "import scipy.stats as stats\n",
    "import statsmodels.api as sm\n",
    "import statsmodels.stats.api as sms\n",
    "import statsmodels.formula.api as smf\n",
    "import math\n",
    "%matplotlib inline"
   ]
  },
  {
   "cell_type": "markdown",
   "metadata": {},
   "source": [
    "<div style=\"background-color:#D9D9D9;\"><font size=\"5\"> 9.32</font></div>"
   ]
  },
  {
   "cell_type": "markdown",
   "metadata": {},
   "source": [
    "## (a.)"
   ]
  },
  {
   "cell_type": "code",
   "execution_count": 19,
   "metadata": {},
   "outputs": [
    {
     "name": "stdout",
     "output_type": "stream",
     "text": [
      "probability of less than 5.97:  0.003830380567589705\n"
     ]
    }
   ],
   "source": [
    "s_n = (5.97-6.05) / (0.18/6)\n",
    "print(\"probability of less than 5.97: \", stats.norm.cdf(s_n))"
   ]
  },
  {
   "cell_type": "markdown",
   "metadata": {},
   "source": [
    "## (b.) 0.003 is pretty low, the manufacturer might be lying about the number."
   ]
  },
  {
   "cell_type": "markdown",
   "metadata": {},
   "source": [
    "<div style=\"background-color:#D9D9D9;\"><font size=\"5\"> 9.36</font></div>"
   ]
  },
  {
   "cell_type": "code",
   "execution_count": 20,
   "metadata": {},
   "outputs": [
    {
     "name": "stdout",
     "output_type": "stream",
     "text": [
      "probability of more than 5 hours:  0.11669196267524073\n"
     ]
    }
   ],
   "source": [
    "s_n = (5-4.8) / (1.3/math.sqrt(60))\n",
    "print(\"probability of more than 5 hours: \", 1-stats.norm.cdf(s_n))"
   ]
  },
  {
   "cell_type": "markdown",
   "metadata": {},
   "source": [
    "<div style=\"background-color:#D9D9D9;\"><font size=\"5\"> 9.52</font></div>"
   ]
  },
  {
   "cell_type": "markdown",
   "metadata": {},
   "source": [
    "## (a.)"
   ]
  },
  {
   "cell_type": "code",
   "execution_count": 21,
   "metadata": {},
   "outputs": [
    {
     "name": "stdout",
     "output_type": "stream",
     "text": [
      "probability of less than 45%:  0.0071529392177148285\n"
     ]
    }
   ],
   "source": [
    "n = 600\n",
    "p = 0.5\n",
    "s_n = (0.45-0.5) / math.sqrt(p*(1-p)/n)\n",
    "print(\"probability of less than 45%: \", stats.norm.cdf(s_n))"
   ]
  },
  {
   "cell_type": "markdown",
   "metadata": {},
   "source": [
    "## (b.) 270/600=0.45, 只有千分之七的機率會得到這種 或更少人滿意的比率, 書店可能在騙人"
   ]
  },
  {
   "cell_type": "markdown",
   "metadata": {},
   "source": [
    "<div style=\"background-color:#D9D9D9;\"><font size=\"5\"> 9.58</font></div>"
   ]
  },
  {
   "cell_type": "code",
   "execution_count": 22,
   "metadata": {},
   "outputs": [
    {
     "name": "stdout",
     "output_type": "stream",
     "text": [
      "probability of at least 22%:  0.13177623864148647\n"
     ]
    }
   ],
   "source": [
    "n = 500\n",
    "p = 0.2\n",
    "s_n = (0.22-0.2) / math.sqrt(p*(1-p)/n)\n",
    "print(\"probability of at least 22%: \", 1-stats.norm.cdf(s_n))"
   ]
  },
  {
   "cell_type": "markdown",
   "metadata": {},
   "source": [
    "<div style=\"background-color:#D9D9D9;\"><font size=\"5\"> 9.61</font></div>"
   ]
  },
  {
   "cell_type": "code",
   "execution_count": 23,
   "metadata": {},
   "outputs": [
    {
     "name": "stdout",
     "output_type": "stream",
     "text": [
      "probability of mean of sample 1 is greater than the mean of sample 2 by more than 25: 0.11224703965923388\n"
     ]
    }
   ],
   "source": [
    "s_n = (25-10) / math.sqrt((25**2/10) + (30**2/10))\n",
    "print(\"probability of mean of sample 1 is greater than the mean of sample 2 by more than 25:\", 1-stats.norm.cdf(s_n))"
   ]
  },
  {
   "cell_type": "markdown",
   "metadata": {},
   "source": [
    "<div style=\"background-color:#D9D9D9;\"><font size=\"5\"> 9.68</font></div>"
   ]
  },
  {
   "cell_type": "code",
   "execution_count": 24,
   "metadata": {},
   "outputs": [
    {
     "name": "stdout",
     "output_type": "stream",
     "text": [
      "probability of mean morning greater than afternoon:  0.3042738845538865\n"
     ]
    }
   ],
   "source": [
    "s_n = (0-4) / math.sqrt((12**2/4) + (10**2/4))\n",
    "print(\"probability of mean morning greater than afternoon: \", stats.norm.cdf(s_n))"
   ]
  }
 ],
 "metadata": {
  "kernelspec": {
   "display_name": "Python 3",
   "language": "python",
   "name": "python3"
  },
  "language_info": {
   "codemirror_mode": {
    "name": "ipython",
    "version": 3
   },
   "file_extension": ".py",
   "mimetype": "text/x-python",
   "name": "python",
   "nbconvert_exporter": "python",
   "pygments_lexer": "ipython3",
   "version": "3.8.5"
  }
 },
 "nbformat": 4,
 "nbformat_minor": 4
}
