{
 "cells": [
  {
   "cell_type": "markdown",
   "metadata": {},
   "source": [
    "# 第四次作業"
   ]
  },
  {
   "cell_type": "code",
   "execution_count": 8,
   "metadata": {},
   "outputs": [],
   "source": [
    "# 6.5, 6.17, 6.33, 6.45, 6.57, 6.71, 6.77, 6.85, 6.93, 6.101"
   ]
  },
  {
   "cell_type": "markdown",
   "metadata": {},
   "source": [
    "<div style=\"background-color:#D9D9D9;\"><font size=\"5\"> 6.5</font></div>"
   ]
  },
  {
   "cell_type": "markdown",
   "metadata": {},
   "source": [
    "a. 3/6 = 1/2\n",
    "<br/>\n",
    "b. 4/6 = 2/3\n",
    "<br/>\n",
    "c. 2/6 = 1/3"
   ]
  },
  {
   "cell_type": "markdown",
   "metadata": {},
   "source": [
    "<div style=\"background-color:#D9D9D9;\"><font size=\"5\"> 6.17</font></div>"
   ]
  },
  {
   "cell_type": "markdown",
   "metadata": {},
   "source": [
    "a. 38.4 / 62 = 0.619 <br>\n",
    "b. 1 - 0.619 = 0.381 <br>\n",
    "c. (1.4+1.3) / 62 = 0.044 <br>\n",
    "d. 15.2 / 62 = 0.245"
   ]
  },
  {
   "cell_type": "markdown",
   "metadata": {},
   "source": [
    "<div style=\"background-color:#D9D9D9;\"><font size=\"5\"> 6.33*</font></div>"
   ]
  },
  {
   "cell_type": "markdown",
   "metadata": {},
   "source": [
    "a. 0.057 + 0.104 = 0.161 <br>\n",
    "b. 0.095 / (0.057+0.136+0.132+0.095) = 0.226 <br>\n",
    "c. 0.224 / (0.136+0.224) = 0.622"
   ]
  },
  {
   "cell_type": "markdown",
   "metadata": {},
   "source": [
    "<div style=\"background-color:#D9D9D9;\"><font size=\"5\"> 6.45</font></div>"
   ]
  },
  {
   "cell_type": "markdown",
   "metadata": {},
   "source": [
    "a. 0.6 / (0.6+0.52) = 0.103 <br>\n",
    "b. 0.6 / (0.6+0.13) = 0.316<br>\n",
    "c. (0.6/0.52) 不等於 (0.13/0.29) 可知年齡是有關的 越老越容易overdue"
   ]
  },
  {
   "cell_type": "markdown",
   "metadata": {},
   "source": [
    "<div style=\"background-color:#D9D9D9;\"><font size=\"5\"> 6.57</font></div>"
   ]
  },
  {
   "cell_type": "markdown",
   "metadata": {},
   "source": [
    "a. 0.1296 / (0.0096+0.1296+0.0128+0.0080) = 0.81 <br>\n",
    "b. 0.1224 / (0.1224+0.0187+0.0187+0.0102) = 0.72 <br>\n",
    "c. (0.0045+0.0036) / (0.0792+0.0027+0.0045+0.0036) = 0.09"
   ]
  },
  {
   "cell_type": "markdown",
   "metadata": {},
   "source": [
    "<div style=\"background-color:#D9D9D9;\"><font size=\"5\"> 6.71</font></div>"
   ]
  },
  {
   "cell_type": "markdown",
   "metadata": {},
   "source": [
    "0.44 * 0.44(<b>Democrats</b>) + 0.37 * 0.37(<b>Republicans</b>) = 0.33"
   ]
  },
  {
   "cell_type": "markdown",
   "metadata": {},
   "source": [
    "<div style=\"background-color:#D9D9D9;\"><font size=\"5\"> 6.77</font></div>"
   ]
  },
  {
   "cell_type": "markdown",
   "metadata": {},
   "source": [
    "1 - (0.22 * 0.16) = 0.9648"
   ]
  },
  {
   "cell_type": "markdown",
   "metadata": {},
   "source": [
    "<div style=\"background-color:#D9D9D9;\"><font size=\"5\"> 6.85</font></div>"
   ]
  },
  {
   "cell_type": "markdown",
   "metadata": {},
   "source": [
    "0.32 * 0.45 = 0.144 (managerial/professional)\n",
    "0.15 * 0.39 = 0.059 (technical, sales, or services)\n",
    "0.53 * 0.27 = 0.143 (other)\n",
    "0.144 + 0.059 + 0.143 = 0.346"
   ]
  },
  {
   "cell_type": "markdown",
   "metadata": {},
   "source": [
    "<div style=\"background-color:#D9D9D9;\"><font size=\"5\"> 6.93*</font></div>"
   ]
  },
  {
   "cell_type": "markdown",
   "metadata": {},
   "source": [
    "possibility of heart attack = 0.1 <br>\n",
    "possibility of disease who already has heart attack = 0.85 <br>\n",
    "possibility of disease = 0.29 <br>\n",
    "0.1 * 0.85 / 0.29 = 0.29"
   ]
  },
  {
   "cell_type": "markdown",
   "metadata": {},
   "source": [
    "<div style=\"background-color:#D9D9D9;\"><font size=\"5\"> 6.101</font></div>"
   ]
  },
  {
   "cell_type": "markdown",
   "metadata": {},
   "source": [
    "測出來真的有的婦女：P(C) = 2%, 也就是補集Pc(C) = 98% <br>\n",
    "使得預測有且真的有的 True positive = TP <br>\n",
    "預測有但實際無 False Positive =FP <br>\n",
    "預測無實際有 False Negative = FN <br>\n",
    "預測無實際也無 True Negative = TN <br>\n",
    "TP + FN = 0.02 <br>\n",
    "FP + TN = 0.98 <br>\n",
    "0.636 = FP / (FP+TN) <br>\n",
    "0.180 = FN / (TP+FN) <br>\n",
    "解出方程式後可得TP = 0.016 <br>\n",
    "FP = 0.623, FN = 0.004, TN = 0.357 <br>\n",
    "預測有之實際正確比率 = TP / TP+FN = 0.8 <br>\n",
    "預測無之實際正確比率 = TN / TN+FP = 0.364"
   ]
  }
 ],
 "metadata": {
  "kernelspec": {
   "display_name": "Python 3",
   "language": "python",
   "name": "python3"
  },
  "language_info": {
   "codemirror_mode": {
    "name": "ipython",
    "version": 3
   },
   "file_extension": ".py",
   "mimetype": "text/x-python",
   "name": "python",
   "nbconvert_exporter": "python",
   "pygments_lexer": "ipython3",
   "version": "3.8.5"
  }
 },
 "nbformat": 4,
 "nbformat_minor": 4
}
