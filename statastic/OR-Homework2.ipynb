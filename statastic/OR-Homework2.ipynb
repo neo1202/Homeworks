{
 "cells": [
  {
   "cell_type": "code",
   "execution_count": 7,
   "metadata": {},
   "outputs": [],
   "source": [
    "import gurobipy as gp \n",
    "from gurobipy import *\n",
    "import pandas as pd\n",
    "import numpy as np"
   ]
  },
  {
   "cell_type": "code",
   "execution_count": 8,
   "metadata": {},
   "outputs": [],
   "source": [
    "I = 3\n",
    "J = 10\n",
    "K = 15\n",
    "b = np.array([5, 8, 4, 6, 3, 7, 6, 9, 5, 8])\n",
    "p = np.array([3, 6, 5, 4, 1, 8, 5, 12,7, 6])"
   ]
  },
  {
   "cell_type": "code",
   "execution_count": 9,
   "metadata": {},
   "outputs": [
    {
     "name": "stdout",
     "output_type": "stream",
     "text": [
      "Gurobi Optimizer version 9.5.1 build v9.5.1rc2 (mac64[x86])\n",
      "Thread count: 4 physical cores, 8 logical processors, using up to 8 threads\n",
      "Optimize a model with 17 rows, 31 columns and 94 nonzeros\n",
      "Model fingerprint: 0x5695a364\n",
      "Coefficient statistics:\n",
      "  Matrix range     [1e+00, 1e+01]\n",
      "  Objective range  [1e+00, 1e+00]\n",
      "  Bounds range     [0e+00, 0e+00]\n",
      "  RHS range        [1e+00, 2e+01]\n",
      "Presolve removed 1 rows and 0 columns\n",
      "Presolve time: 0.01s\n",
      "Presolved: 16 rows, 31 columns, 93 nonzeros\n",
      "\n",
      "Iteration    Objective       Primal Inf.    Dual Inf.      Time\n",
      "       0    8.0000000e+30   3.000000e+30   8.000000e+00      0s\n",
      "      27    1.7416667e+01   0.000000e+00   0.000000e+00      0s\n",
      "\n",
      "Solved in 27 iterations and 0.01 seconds (0.00 work units)\n",
      "Optimal objective  1.741666667e+01\n",
      "w = 17.42\n",
      "a[0,0] = 0.00\n",
      "a[0,1] = 0.00\n",
      "a[0,2] = 0.00\n",
      "a[0,3] = 1.00\n",
      "a[0,4] = 0.00\n",
      "a[0,5] = 0.00\n",
      "a[0,6] = 0.00\n",
      "a[0,7] = 0.46\n",
      "a[0,8] = 0.00\n",
      "a[0,9] = 0.90\n",
      "a[1,0] = 1.00\n",
      "a[1,1] = 0.00\n",
      "a[1,2] = 0.00\n",
      "a[1,3] = 0.00\n",
      "a[1,4] = 0.22\n",
      "a[1,5] = 0.67\n",
      "a[1,6] = 1.00\n",
      "a[1,7] = 0.12\n",
      "a[1,8] = 0.00\n",
      "a[1,9] = 0.00\n",
      "a[2,0] = 0.00\n",
      "a[2,1] = 1.00\n",
      "a[2,2] = 1.00\n",
      "a[2,3] = 0.00\n",
      "a[2,4] = 0.78\n",
      "a[2,5] = 0.33\n",
      "a[2,6] = 0.00\n",
      "a[2,7] = 0.00\n",
      "a[2,8] = 0.00\n",
      "a[2,9] = 0.10\n",
      "\n",
      "\n",
      "objective value(max w) = 17.42\n"
     ]
    }
   ],
   "source": [
    "p1 = Model(\"p1\")\n",
    "a = []\n",
    "w = p1.addVar(    lb = 0, vtype = GRB.CONTINUOUS, name = 'w')\n",
    "a = p1.addVars(I, J, lb = 0, vtype = GRB.CONTINUOUS, name = 'a')\n",
    "#a = p1.addVars(I, J, lb = 0, vtype = GRB.BINARY, name = 'a') 正常版本\n",
    "p1.setObjective(w , GRB.MAXIMIZE) \n",
    "p1.addConstrs( (w    <= quicksum(a[i, j]*b[j] for j in range(J))for i in range(I)), \"w <= aij*bj\")\n",
    "p1.addConstrs((quicksum(a[i, j] for i in range(I)) <= 1 for j in range(J)), \"aij\")  \n",
    "p1.addConstrs((quicksum(a[i, j]*p[j] for j in range(J)) <= K for i in range(I)), \"aij*pj <= K\")\n",
    "p1.addConstr( (w    >= 0), \"w >= 0\" )\n",
    "p1.optimize()\n",
    "\n",
    "for var in p1.getVars():\n",
    "    print(var.varName, '= %.2f' %var.x)\n",
    "print(\"\\n\")\n",
    "print(\"objective value(max w) = %.2f\" %p1.objVal)"
   ]
  },
  {
   "cell_type": "code",
   "execution_count": null,
   "metadata": {},
   "outputs": [],
   "source": []
  }
 ],
 "metadata": {
  "kernelspec": {
   "display_name": "Python 3",
   "language": "python",
   "name": "python3"
  },
  "language_info": {
   "codemirror_mode": {
    "name": "ipython",
    "version": 3
   },
   "file_extension": ".py",
   "mimetype": "text/x-python",
   "name": "python",
   "nbconvert_exporter": "python",
   "pygments_lexer": "ipython3",
   "version": "3.8.5"
  }
 },
 "nbformat": 4,
 "nbformat_minor": 4
}
