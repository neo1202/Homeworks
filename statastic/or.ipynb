{
 "cells": [
  {
   "cell_type": "markdown",
   "metadata": {
    "id": "6TpPdTG3ri9f"
   },
   "source": [
    "# instance 1"
   ]
  },
  {
   "cell_type": "code",
   "execution_count": 21,
   "metadata": {
    "colab": {
     "base_uri": "https://localhost:8080/",
     "height": 404
    },
    "id": "ZrxKuyeLKWgr",
    "outputId": "8b74b22f-d904-446f-89b2-2764d8932a2e"
   },
   "outputs": [
    {
     "data": {
      "image/png": "[encoded data removed]",
      "text/plain": [
       "<Figure size 600x400 with 1 Axes>"
      ]
     },
     "metadata": {
      "needs_background": "light"
     },
     "output_type": "display_data"
    }
   ],
   "source": [
    "# Importing the matplotlib.pyplot\n",
    "import matplotlib.pyplot as plt\n",
    "plt.rcParams[\"figure.dpi\"] = 100\n",
    "# Declaring a figure \"gnt\"\n",
    "fig, gnt = plt.subplots()\n",
    " \n",
    "# Setting Y-axis limits\n",
    "gnt.set_ylim(0, 70)\n",
    " \n",
    "# Setting X-axis limits\n",
    "gnt.set_xlim(0, 160)\n",
    " \n",
    "# Setting labels for x-axis and y-axis\n",
    "gnt.set_xlabel('time')\n",
    "gnt.set_ylabel('Machine')\n",
    " \n",
    "# Setting ticks on y-axis\n",
    "gnt.set_yticks([15, 25, 35, 45 ,55])\n",
    "# Labelling tickes of y-axis\n",
    "gnt.set_yticklabels(['5', '4', '3', '2', '1'])\n",
    "gnt.set_xticklabels(['', '08:00', '10:00', '12:00', '14:00', '16:00', '18:00', '20:00'])\n",
    "# Setting graph attribute\n",
    "gnt.grid(False)\n",
    " \n",
    "# Machine 1\n",
    "#gnt.broken_barh([(15, 12.5)], (50, 9), facecolors =('tab:orange'))#(start,length)(y,width)\n",
    " \n",
    "# Machine 2\n",
    "gnt.broken_barh([(15, 25)], (40, 9),facecolors ='orange')\n",
    "gnt.broken_barh([(40, 12)], (40, 9),facecolors ='crimson')\n",
    "gnt.broken_barh([(52, 40)], (40, 9),facecolors ='lightpink')\n",
    "# Machine 3\n",
    "gnt.broken_barh([(15,30)], (30, 9),facecolors =('darkblue'))\n",
    "gnt.broken_barh([(45,44)], (30, 9),facecolors =('slateblue'))\n",
    "# Machine 4\n",
    "gnt.broken_barh([(15, 34)], (20, 9),facecolors =('seagreen'))\n",
    "gnt.broken_barh([(49, 22)], (20, 9),facecolors =('springgreen'))\n",
    "gnt.broken_barh([(71, 20)], (20, 9),facecolors =('darkturquoise'))\n",
    "# Machine 5\n",
    "gnt.broken_barh([(15, 18)], (10, 9),facecolors =('purple'))\n",
    "gnt.broken_barh([(33, 26)], (10, 9),facecolors =('darkviolet'))\n",
    "gnt.broken_barh([(59, 15)], (10, 9),facecolors =('plum'))\n",
    "gnt.broken_barh([(74, 15)], (10, 9),facecolors =('hotpink'))\n",
    "plt.savefig(\"gantt1.png\")\n",
    "plt.title(\"instance1--problem1\")\n",
    "plt.show()\n",
    "## 6 4 1\n",
    "## 2 11\n",
    "## 7 8 12\n",
    "## 5 3 10 9"
   ]
  },
  {
   "cell_type": "code",
   "execution_count": 20,
   "metadata": {
    "colab": {
     "base_uri": "https://localhost:8080/",
     "height": 404
    },
    "id": "Re5S_FZKfq-u",
    "outputId": "040ae2a0-3d4e-49a1-8441-2a120feaa797"
   },
   "outputs": [
    {
     "data": {
      "image/png": "[encoded data removed]",
      "text/plain": [
       "<Figure size 600x400 with 1 Axes>"
      ]
     },
     "metadata": {
      "needs_background": "light"
     },
     "output_type": "display_data"
    }
   ],
   "source": [
    "# Importing the matplotlib.pyplot\n",
    "import matplotlib.pyplot as plt\n",
    "plt.rcParams[\"figure.dpi\"] = 100\n",
    "# Declaring a figure \"gnt\"\n",
    "fig, gnt = plt.subplots()\n",
    " \n",
    "# Setting Y-axis limits\n",
    "gnt.set_ylim(0, 70)\n",
    " \n",
    "# Setting X-axis limits\n",
    "gnt.set_xlim(0, 160)\n",
    " \n",
    "# Setting labels for x-axis and y-axis\n",
    "gnt.set_xlabel('time')\n",
    "gnt.set_ylabel('Machine')\n",
    " \n",
    "# Setting ticks on y-axis\n",
    "gnt.set_yticks([15, 25, 35, 45 ,55])\n",
    "# Labelling tickes of y-axis\n",
    "gnt.set_yticklabels(['5', '4', '3', '2', '1'])\n",
    "gnt.set_xticklabels(['', '08:00', '10:00', '12:00', '14:00', '16:00', '18:00', '20:00'])\n",
    "# Setting graph attribute\n",
    "gnt.grid(False)\n",
    " \n",
    "# Machine 1\n",
    "#gnt.broken_barh([(15, 12.5)], (50, 9), facecolors =('tab:orange'))#(start,length)(y,width)\n",
    " \n",
    "# Machine 2\n",
    "gnt.broken_barh([(15, 8)], (40, 9),facecolors ='orange') #5\n",
    "gnt.broken_barh([(23, 27)], (40, 9),facecolors ='crimson')  #1\n",
    "gnt.broken_barh([(50, 30)], (40, 9),facecolors ='lightpink')  #11\n",
    "gnt.broken_barh([(80, 11)], (40, 9),facecolors ='violet')  #20(8)\n",
    "# Machine 3\n",
    "gnt.broken_barh([(15,16)], (30, 9),facecolors =('darkblue')) # 2 \n",
    "gnt.broken_barh([(31,20)], (30, 9),facecolors =('slateblue'))#19 (7)\n",
    "gnt.broken_barh([(51,14)], (30, 9),facecolors =('darkblue'))#14 (2)\n",
    "gnt.broken_barh([(65,8)], (30, 9),facecolors =('darkslategrey'))#9 \n",
    "gnt.broken_barh([(73,10)], (30, 9),facecolors =('slategray'))#10\n",
    "gnt.broken_barh([(83,5)], (30, 9),facecolors =('slategray')) #22 (10)\n",
    "# Machine 4\n",
    "gnt.broken_barh([(15, 14)], (20, 9),facecolors =('slateblue')) #7 \n",
    "gnt.broken_barh([(29, 7)], (20, 9),facecolors =('springgreen'))#3\n",
    "gnt.broken_barh([(36, 19)], (20, 9),facecolors =('springgreen'))#15 (3)\n",
    "gnt.broken_barh([(55, 10)], (20, 9),facecolors =('orange')) #17(5)\n",
    "gnt.broken_barh([(65, 20)], (20, 9),facecolors =('lightgreen')) #24(12)\n",
    "gnt.broken_barh([(85, 7)], (20, 9),facecolors =('darkslategrey')) #21(9)\n",
    "# Machine 5\n",
    "gnt.broken_barh([(15, 5)], (10, 9),facecolors =('purple'))#4\n",
    "gnt.broken_barh([(20, 7)], (10, 9),facecolors =('purple'))#16(4)\n",
    "gnt.broken_barh([(27, 25)], (10, 9),facecolors =('plum'))#18(6)\n",
    "gnt.broken_barh([(52, 13)], (10, 9),facecolors =('crimson'))#13(1)\n",
    "gnt.broken_barh([(65, 11)], (10, 9),facecolors =('violet'))#8\n",
    "gnt.broken_barh([(76, 18)], (10, 9),facecolors =('lightpink'))#23(11)\n",
    "plt.savefig(\"gantt1.png\")\n",
    "plt.title(\"instance1--problem2\")\n",
    "plt.show()\n",
    "\n",
    "## 5 1 11 20\n",
    "## 2 19 14 9 10 22\n",
    "## 12 7 3 15 17 24 21\n",
    "## 6 4 16 18 13 8 23"
   ]
  },
  {
   "cell_type": "code",
   "execution_count": 19,
   "metadata": {
    "colab": {
     "base_uri": "https://localhost:8080/",
     "height": 404
    },
    "id": "cufm_oJPicWt",
    "outputId": "6abbed5f-b0d5-43bd-b60d-ba3ff8f369ff"
   },
   "outputs": [
    {
     "data": {
      "image/png": "[encoded data removed]",
      "text/plain": [
       "<Figure size 600x400 with 1 Axes>"
      ]
     },
     "metadata": {
      "needs_background": "light"
     },
     "output_type": "display_data"
    }
   ],
   "source": [
    "# Importing the matplotlib.pyplot\n",
    "import matplotlib.pyplot as plt\n",
    "plt.rcParams[\"figure.dpi\"] = 100\n",
    "# Declaring a figure \"gnt\"\n",
    "fig, gnt = plt.subplots()\n",
    " \n",
    "# Setting Y-axis limits\n",
    "gnt.set_ylim(0, 70)\n",
    " \n",
    "# Setting X-axis limits\n",
    "gnt.set_xlim(0, 160)\n",
    " \n",
    "# Setting labels for x-axis and y-axis\n",
    "gnt.set_xlabel('time')\n",
    "gnt.set_ylabel('Machine')\n",
    " \n",
    "# Setting ticks on y-axis\n",
    "gnt.set_yticks([15, 25, 35, 45 ,55])\n",
    "# Labelling tickes of y-axis\n",
    "gnt.set_yticklabels(['5', '4', '3', '2', '1'])\n",
    "gnt.set_xticklabels(['', '08:00', '10:00', '12:00', '14:00', '16:00', '18:00', '20:00'])\n",
    "# Setting graph attribute\n",
    "gnt.grid(False)\n",
    " \n",
    "# Machine 1\n",
    "##(start,length)(y,width)\n",
    "gnt.broken_barh([(15, 7)], (50, 9),facecolors ='springgreen') #3\n",
    "gnt.broken_barh([(22, 25)], (50, 9),facecolors ='plum')  #18(6)\n",
    "gnt.broken_barh([(47, 14)], (50, 9),facecolors ='darkblue')  #14(2)\n",
    "gnt.broken_barh([(61, 8)], (50, 9),facecolors ='lightgreen')  #9\n",
    "gnt.broken_barh([(69, 7)], (50, 9),facecolors ='slategray')  #22(10)\n",
    " \n",
    "# Machine 2\n",
    "gnt.broken_barh([(15, 16)], (40, 9),facecolors ='darkblue') #2\n",
    "gnt.broken_barh([(31, 5)], (40, 9),facecolors ='purple')  #4\n",
    "gnt.broken_barh([(36, 20)], (40, 9),facecolors ='slateblue')  #19(7)\n",
    "gnt.broken_barh([(56, 20)], (40, 9),facecolors ='lightgreen')  #24\n",
    "\n",
    "# Machine 3\n",
    "gnt.broken_barh([(15,8)], (30, 9),facecolors =('orange')) # 5 \n",
    "gnt.broken_barh([(23,27)], (30, 9),facecolors =('crimson'))#1\n",
    "gnt.broken_barh([(50,11)], (30, 9),facecolors =('violet'))#8\n",
    "gnt.broken_barh([(61,14)], (30, 9),facecolors =('lightpink'))#23(11) \n",
    "\n",
    "# Machine 4\n",
    "gnt.broken_barh([(15, 14)], (20, 9),facecolors =('slateblue')) #7 \n",
    "gnt.broken_barh([(29, 19)], (20, 9),facecolors =('springgreen'))#15\n",
    "gnt.broken_barh([(48, 10)], (20, 9),facecolors =('orange'))#17 (5)\n",
    "gnt.broken_barh([(58, 10)], (20, 9),facecolors =('slategray')) #10\n",
    "gnt.broken_barh([(68, 8)], (20, 9),facecolors =('lightgreen')) #21(9)\n",
    "# Machine 5\n",
    "gnt.broken_barh([(15, 30)], (10, 9),facecolors =('lightpink'))#11\n",
    "gnt.broken_barh([(45, 7)], (10, 9),facecolors =('purple'))#16(4)\n",
    "gnt.broken_barh([(52, 13)], (10, 9),facecolors =('crimson'))#13(1)\n",
    "gnt.broken_barh([(65, 11)], (10, 9),facecolors =('violet'))#20(8)\n",
    "\n",
    "plt.savefig(\"gantt1.png\")\n",
    "plt.title(\"instance1--problem3\")\n",
    "plt.show()\n",
    "\n",
    "## 3 18 14 9 22\n",
    "## 2 4 19 24\n",
    "## 5 1 8 23\n",
    "## 7 15 17 10 21\n",
    "## 11 16 13 20"
   ]
  },
  {
   "cell_type": "markdown",
   "metadata": {
    "id": "88QIMkJprdjc"
   },
   "source": [
    "# instance 2"
   ]
  },
  {
   "cell_type": "code",
   "execution_count": 18,
   "metadata": {
    "colab": {
     "base_uri": "https://localhost:8080/",
     "height": 404
    },
    "id": "vsMLbsc-ic_P",
    "outputId": "e266eadd-b881-48b0-9345-6b2944a22239"
   },
   "outputs": [
    {
     "data": {
      "image/png": "[encoded data removed]",
      "text/plain": [
       "<Figure size 600x400 with 1 Axes>"
      ]
     },
     "metadata": {
      "needs_background": "light"
     },
     "output_type": "display_data"
    }
   ],
   "source": [
    "# Importing the matplotlib.pyplot\n",
    "import matplotlib.pyplot as plt\n",
    "plt.rcParams[\"figure.dpi\"] = 100\n",
    "# Declaring a figure \"gnt\"\n",
    "fig, gnt = plt.subplots()\n",
    " \n",
    "# Setting Y-axis limits\n",
    "gnt.set_ylim(0, 70)\n",
    " \n",
    "# Setting X-axis limits\n",
    "gnt.set_xlim(0, 160)\n",
    " \n",
    "# Setting labels for x-axis and y-axis\n",
    "gnt.set_xlabel('time')\n",
    "gnt.set_ylabel('Machine')\n",
    " \n",
    "# Setting ticks on y-axis\n",
    "gnt.set_yticks([15, 25, 35, 45 ,55])\n",
    "# Labelling tickes of y-axis\n",
    "gnt.set_yticklabels(['5', '4', '3', '2', '1'])\n",
    "gnt.set_xticklabels(['', '08:00', '10:00', '12:00', '14:00', '16:00', '18:00', '20:00'])\n",
    "# Setting graph attribute\n",
    "gnt.grid(False)\n",
    " \n",
    "# Machine 1\n",
    "#gnt.broken_barh([(15, 12.5)], (50, 9), facecolors =('tab:orange'))#(start,length)(y,width)\n",
    " \n",
    "# Machine 2\n",
    "gnt.broken_barh([(15, 27)], (40, 9),facecolors ='orange')\n",
    "gnt.broken_barh([(42, 42)], (40, 9),facecolors ='crimson')\n",
    "gnt.broken_barh([(84, 26)], (40, 9),facecolors ='lightpink')\n",
    "# Machine 3\n",
    "gnt.broken_barh([(15,27)], (30, 9),facecolors =('darkblue'))\n",
    "gnt.broken_barh([(42,40)], (30, 9),facecolors =('slateblue'))\n",
    "gnt.broken_barh([(82,29)], (30, 9),facecolors =('blue'))\n",
    "# Machine 4\n",
    "gnt.broken_barh([(15, 39)], (20, 9),facecolors =('seagreen'))\n",
    "gnt.broken_barh([(49, 57)], (20, 9),facecolors =('springgreen'))\n",
    "# Machine 5\n",
    "gnt.broken_barh([(15, 36)], (10, 9),facecolors =('purple'))\n",
    "gnt.broken_barh([(51, 22)], (10, 9),facecolors =('darkviolet'))\n",
    "gnt.broken_barh([(73, 37)], (10, 9),facecolors =('plum'))\n",
    "\n",
    "plt.savefig(\"gantt1.png\")\n",
    "plt.title(\"instance2--problem1\")\n",
    "plt.show()\n",
    "## 5 1 9\n",
    "## 6 11 7\n",
    "## 2 10\n",
    "## 4 8 3"
   ]
  },
  {
   "cell_type": "code",
   "execution_count": 27,
   "metadata": {
    "colab": {
     "base_uri": "https://localhost:8080/",
     "height": 404
    },
    "id": "8JGRYYSbGzHY",
    "outputId": "ebdb7e7e-ed65-4089-a978-77560ea6e557"
   },
   "outputs": [
    {
     "data": {
      "image/png": "[encoded data removed]",
      "text/plain": [
       "<Figure size 600x400 with 1 Axes>"
      ]
     },
     "metadata": {
      "needs_background": "light"
     },
     "output_type": "display_data"
    }
   ],
   "source": [
    "# Importing the matplotlib.pyplot\n",
    "import matplotlib.pyplot as plt\n",
    "plt.rcParams[\"figure.dpi\"] = 100\n",
    "# Declaring a figure \"gnt\"\n",
    "fig, gnt = plt.subplots()\n",
    " \n",
    "# Setting Y-axis limits\n",
    "gnt.set_ylim(0, 70)\n",
    " \n",
    "# Setting X-axis limits\n",
    "gnt.set_xlim(0, 160)\n",
    " \n",
    "# Setting labels for x-axis and y-axis\n",
    "gnt.set_xlabel('time')\n",
    "gnt.set_ylabel('Machine')\n",
    " \n",
    "# Setting ticks on y-axis\n",
    "gnt.set_yticks([15, 25, 35, 45 ,55])\n",
    "# Labelling tickes of y-axis\n",
    "gnt.set_yticklabels(['5', '4', '3', '2', '1'])\n",
    "gnt.set_xticklabels(['', '08:00', '10:00', '12:00', '14:00', '16:00', '18:00', '20:00'])\n",
    "# Setting graph attribute\n",
    "gnt.grid(False)\n",
    " \n",
    "# Machine 1\n",
    "#gnt.broken_barh([(15, 12.5)], (50, 9), facecolors =('tab:orange'))#(start,length)(y,width)\n",
    " \n",
    "# Machine 2\n",
    "gnt.broken_barh([(15, 27)], (40, 9),facecolors ='springgreen') #17(5)\n",
    "gnt.broken_barh([(42, 15)], (40, 9),facecolors ='crimson')  #18(6)\n",
    "gnt.broken_barh([(57, 8)], (40, 9),facecolors ='darkblue')  #15(3)\n",
    "gnt.broken_barh([(65, 27)], (40, 9),facecolors ='violet')  #1\n",
    "gnt.broken_barh([(65+27+1, 15)], (40, 9),facecolors ='darkslategrey') #22(10)\n",
    "\n",
    "# Machine 3\n",
    "gnt.broken_barh([(15,10)], (30, 9),facecolors =('darkblue')) # 3\n",
    "gnt.broken_barh([(25,16)], (30, 9),facecolors =('lightpink'))#2\n",
    "gnt.broken_barh([(41,23)], (30, 9),facecolors =('violet'))#13(1)\n",
    "gnt.broken_barh([(64,22)], (30, 9),facecolors =('darkslategrey'))#10\n",
    "gnt.broken_barh([(86,22)], (30, 9),facecolors =('slategray'))#21(9)\n",
    "\n",
    "# Machine 4\n",
    "gnt.broken_barh([(15, 14)], (20, 9),facecolors =('slateblue')) #7 \n",
    "gnt.broken_barh([(29, 8)], (20, 9),facecolors =('springgreen'))#5\n",
    "gnt.broken_barh([(37, 27)], (20, 9),facecolors =('lightpink'))#14(2)\n",
    "gnt.broken_barh([(64, 25)], (20, 9),facecolors =('orange')) #11\n",
    "gnt.broken_barh([(90, 18)], (20, 9),facecolors =('lightgreen')) #20(8)\n",
    "\n",
    "# Machine 5\n",
    "gnt.broken_barh([(15, 28)], (10, 9),facecolors =('purple'))#4\n",
    "gnt.broken_barh([(43, 19)], (10, 9),facecolors =('purple'))#16(4)\n",
    "gnt.broken_barh([(63, 8)], (10, 9),facecolors =('slategray'))#9\n",
    "gnt.broken_barh([(71, 22)], (10, 9),facecolors =('slateblue'))#19(7)\n",
    "gnt.broken_barh([(93, 15)], (10, 9),facecolors =('blue'))#12\n",
    "\n",
    "plt.savefig(\"gantt1.png\")\n",
    "plt.title(\"instance2--problem2\")\n",
    "plt.show()\n",
    "\n",
    "## 17 18 15 1 22\n",
    "## 3 2 13 10 21\n",
    "## 7 5 14 11 20\n",
    "## 4 16 9 19 12\n",
    "# c[1] = 7.70\n",
    "# c[2] = 2.60\n",
    "# c[3] = 1.00\n",
    "# c[4] = 2.80\n",
    "# c[5] = 2.20\n",
    "# c[6] = 0.00\n",
    "# c[7] = 1.40\n",
    "# c[8] = 0.00\n",
    "# c[9] = 5.60\n",
    "# c[10] = 7.10\n",
    "# c[11] = 7.40\n",
    "# c[12] = 9.30\n",
    "# c[13] = 4.90\n",
    "# c[14] = 4.90\n",
    "# c[15] = 5.00\n",
    "# c[16] = 4.70\n",
    "# c[17] = 2.70\n",
    "# c[18] = 4.20\n",
    "# c[19] = 7.80\n",
    "# c[20] = 9.30\n",
    "# c[21] = 9.30\n",
    "# c[22] = 9.30"
   ]
  },
  {
   "cell_type": "code",
   "execution_count": 33,
   "metadata": {
    "colab": {
     "base_uri": "https://localhost:8080/",
     "height": 404
    },
    "id": "_65LwH32idCP",
    "outputId": "89bdea74-b6ca-46dc-ced7-ab1870749f77"
   },
   "outputs": [
    {
     "data": {
      "image/png": "[encoded data removed]",
      "text/plain": [
       "<Figure size 600x400 with 1 Axes>"
      ]
     },
     "metadata": {
      "needs_background": "light"
     },
     "output_type": "display_data"
    }
   ],
   "source": [
    "# Importing the matplotlib.pyplot\n",
    "import matplotlib.pyplot as plt\n",
    "plt.rcParams[\"figure.dpi\"] = 100\n",
    "# Declaring a figure \"gnt\"\n",
    "fig, gnt = plt.subplots()\n",
    " \n",
    "# Setting Y-axis limits\n",
    "gnt.set_ylim(0, 70)\n",
    " \n",
    "# Setting X-axis limits\n",
    "gnt.set_xlim(0, 160)\n",
    " \n",
    "# Setting labels for x-axis and y-axis\n",
    "gnt.set_xlabel('time')\n",
    "gnt.set_ylabel('Machine')\n",
    " \n",
    "# Setting ticks on y-axis\n",
    "gnt.set_yticks([15, 25, 35, 45 ,55])\n",
    "# Labelling tickes of y-axis\n",
    "gnt.set_yticklabels(['5', '4', '3', '2', '1'])\n",
    "gnt.set_xticklabels(['', '08:00', '10:00', '12:00', '14:00', '16:00', '18:00', '20:00'])\n",
    "# Setting graph attribute\n",
    "gnt.grid(False)\n",
    " \n",
    "# Machine 1\n",
    "##(start,length)(y,width)\n",
    "gnt.broken_barh([(15, 8)], (50, 9),facecolors ='springgreen') #5\n",
    "gnt.broken_barh([(23, 27)], (50, 9),facecolors ='springgreen')  #17(5)\n",
    "gnt.broken_barh([(50, 27)], (50, 9),facecolors ='darkblue')  #1\n",
    "gnt.broken_barh([(77, 15)], (50, 9),facecolors ='lightgreen')  #22(10)\n",
    " \n",
    "# Machine 2\n",
    "gnt.broken_barh([(15, 28)], (40, 9),facecolors ='blue') #4\n",
    "gnt.broken_barh([(43, 8)], (40, 9),facecolors ='purple')  #15(3)\n",
    "gnt.broken_barh([(51, 25)], (40, 9),facecolors ='slateblue')  #11\n",
    "gnt.broken_barh([(77, 15)], (40, 9),facecolors ='green')  #12\n",
    "\n",
    "# Machine 3\n",
    "gnt.broken_barh([(15,10)], (30, 9),facecolors =('purple')) # 3\n",
    "gnt.broken_barh([(25,16)], (30, 9),facecolors =('crimson'))#2\n",
    "gnt.broken_barh([(42,23)], (30, 9),facecolors =('darkblue'))#13(1)\n",
    "gnt.broken_barh([(42+23+5,22)], (30, 9),facecolors =('lightpink'))#21(9) \n",
    "\n",
    "# Machine 4\n",
    "gnt.broken_barh([(15, 22)], (20, 9),facecolors =('lightgreen')) #10\n",
    "gnt.broken_barh([(37, 29)], (20, 9),facecolors =('crimson'))#14(2)\n",
    "gnt.broken_barh([(66, 8)], (20, 9),facecolors =('lightpink'))#9\n",
    "gnt.broken_barh([(74, 18)], (20, 9),facecolors =('slategray')) #20(8)\n",
    "# Machine 5\n",
    "gnt.broken_barh([(15, 14)], (10, 9),facecolors =('black'))#7\n",
    "gnt.broken_barh([(31, 19)], (10, 9),facecolors =('blue'))#16(4)\n",
    "gnt.broken_barh([(50, 15)], (10, 9),facecolors =('violet'))#18\n",
    "gnt.broken_barh([(70, 22)], (10, 9),facecolors =('black'))#19(7)\n",
    "\n",
    "plt.savefig(\"gantt1.png\")\n",
    "plt.title(\"instance2--problem3\")\n",
    "plt.show()\n",
    "\n",
    "## 5 17 1 22\n",
    "## 4 15 11 12\n",
    "## 3 2 13 21\n",
    "## 10 14 9 20\n",
    "## 7 16 18 19\n",
    "\n",
    "# c[1] = 6.20\n",
    "# c[2] = 2.60\n",
    "# c[3] = 1.00\n",
    "# c[4] = 2.80\n",
    "# c[5] = 0.80\n",
    "# c[6] = 0.00\n",
    "# c[7] = 1.40\n",
    "# c[8] = 0.00\n",
    "# c[9] = 5.70\n",
    "# c[10] = 2.20\n",
    "# c[11] = 6.10\n",
    "# c[12] = 7.70\n",
    "# c[13] = 5.00\n",
    "# c[14] = 4.90\n",
    "# c[15] = 3.60\n",
    "# c[16] = 3.50\n",
    "# c[17] = 3.50\n",
    "# c[18] = 5.00\n",
    "# c[19] = 7.70\n",
    "# c[20] = 7.50\n",
    "# c[21] = 7.70\n",
    "# c[22] = 7.70"
   ]
  },
  {
   "cell_type": "code",
   "execution_count": null,
   "metadata": {
    "id": "VmARVAxFSW4Q"
   },
   "outputs": [],
   "source": []
  },
  {
   "cell_type": "markdown",
   "metadata": {
    "id": "BwKQ8GBfxW82"
   },
   "source": [
    "# instance 3"
   ]
  },
  {
   "cell_type": "code",
   "execution_count": 17,
   "metadata": {
    "colab": {
     "base_uri": "https://localhost:8080/",
     "height": 404
    },
    "id": "blEvt1DkidFC",
    "outputId": "8cf57882-a332-4b05-b85e-cf667c28bc67"
   },
   "outputs": [
    {
     "data": {
      "image/png": "[encoded data removed]",
      "text/plain": [
       "<Figure size 600x400 with 1 Axes>"
      ]
     },
     "metadata": {
      "needs_background": "light"
     },
     "output_type": "display_data"
    }
   ],
   "source": [
    "# Importing the matplotlib.pyplot\n",
    "import matplotlib.pyplot as plt\n",
    "plt.rcParams[\"figure.dpi\"] = 100\n",
    "# Declaring a figure \"gnt\"\n",
    "fig, gnt = plt.subplots()\n",
    " \n",
    "# Setting Y-axis limits\n",
    "gnt.set_ylim(0, 70)\n",
    " \n",
    "# Setting X-axis limits\n",
    "gnt.set_xlim(0, 160)\n",
    " \n",
    "# Setting labels for x-axis and y-axis\n",
    "gnt.set_xlabel('time')\n",
    "gnt.set_ylabel('Machine')\n",
    " \n",
    "# Setting ticks on y-axis\n",
    "gnt.set_yticks([15, 25, 35, 45 ,55])\n",
    "# Labelling tickes of y-axis\n",
    "gnt.set_yticklabels(['5', '4', '3', '2', '1'])\n",
    "gnt.set_xticklabels(['', '08:00', '10:00', '12:00', '14:00', '16:00', '18:00', '20:00'])\n",
    "# Setting graph attribute\n",
    "gnt.grid(False)\n",
    " \n",
    "# Machine 1\n",
    "#gnt.broken_barh([(15, 12.5)], (50, 9), facecolors =('tab:orange'))#(start,length)(y,width)\n",
    " \n",
    "# Machine 2\n",
    "gnt.broken_barh([(15, 45)], (40, 9),facecolors ='orange')\n",
    "gnt.broken_barh([(60, 39)], (40, 9),facecolors ='crimson')\n",
    "gnt.broken_barh([(99, 13)], (40, 9),facecolors ='lightpink')\n",
    "# Machine 3\n",
    "gnt.broken_barh([(15,33)], (30, 9),facecolors =('darkblue'))\n",
    "gnt.broken_barh([(48,32)], (30, 9),facecolors =('slateblue'))\n",
    "gnt.broken_barh([(80,36)], (30, 9),facecolors =('blue'))\n",
    "# Machine 4\n",
    "gnt.broken_barh([(15, 37)], (20, 9),facecolors =('seagreen'))\n",
    "gnt.broken_barh([(52, 64)], (20, 9),facecolors =('springgreen'))\n",
    "\n",
    "# Machine 5\n",
    "gnt.broken_barh([(15, 50)], (10, 9),facecolors =('purple'))\n",
    "gnt.broken_barh([(65, 40)], (10, 9),facecolors =('darkviolet'))\n",
    "\n",
    "plt.savefig(\"gantt1.png\")\n",
    "plt.title(\"instance3--problem1\")\n",
    "plt.show()\n",
    "## 1 10 8\n",
    "## 6 7 4\n",
    "## 5 3\n",
    "## 2 9\n",
    "\n",
    "# c[1] = 4.50\n",
    "# c[2] = 5.00\n",
    "# c[3] = 10.10\n",
    "# c[4] = 10.10\n",
    "# c[5] = 3.70\n",
    "# c[6] = 3.30\n",
    "# c[7] = 6.50\n",
    "# c[8] = 9.70\n",
    "# c[9] = 9.00\n",
    "# c[10] = 8.40\n"
   ]
  },
  {
   "cell_type": "code",
   "execution_count": 16,
   "metadata": {
    "colab": {
     "base_uri": "https://localhost:8080/",
     "height": 404
    },
    "id": "d1Qftb216MjX",
    "outputId": "f1126250-7510-44c4-fc0c-0f63e040d7be"
   },
   "outputs": [
    {
     "data": {
      "image/png": "[encoded data removed]",
      "text/plain": [
       "<Figure size 600x400 with 1 Axes>"
      ]
     },
     "metadata": {
      "needs_background": "light"
     },
     "output_type": "display_data"
    }
   ],
   "source": [
    "# Importing the matplotlib.pyplot\n",
    "import matplotlib.pyplot as plt\n",
    "plt.rcParams[\"figure.dpi\"] = 100\n",
    "# Declaring a figure \"gnt\"\n",
    "fig, gnt = plt.subplots()\n",
    " \n",
    "# Setting Y-axis limits\n",
    "gnt.set_ylim(0, 70)\n",
    " \n",
    "# Setting X-axis limits\n",
    "gnt.set_xlim(0, 160)\n",
    " \n",
    "# Setting labels for x-axis and y-axis\n",
    "gnt.set_xlabel('time')\n",
    "gnt.set_ylabel('Machine')\n",
    " \n",
    "# Setting ticks on y-axis\n",
    "gnt.set_yticks([15, 25, 35, 45 ,55])\n",
    "# Labelling tickes of y-axis\n",
    "gnt.set_yticklabels(['5', '4', '3', '2', '1'])\n",
    "gnt.set_xticklabels(['', '08:00', '10:00', '12:00', '14:00', '16:00', '18:00', '20:00'])\n",
    "# Setting graph attribute\n",
    "gnt.grid(False)\n",
    " \n",
    "# Machine 1\n",
    "#gnt.broken_barh([(15, 12.5)], (50, 9), facecolors =('tab:orange'))#(start,length)(y,width)\n",
    " \n",
    "# Machine 2\n",
    "gnt.broken_barh([(15, 30)], (40, 9),facecolors ='orange') #1\n",
    "gnt.broken_barh([(46, 15)], (40, 9),facecolors ='crimson')  #11\n",
    "gnt.broken_barh([(61, 18)], (40, 9),facecolors ='lightpink')  #9\n",
    "gnt.broken_barh([(79, 34)], (40, 9),facecolors ='orange')  #13(1)\n",
    "\n",
    "# Machine 3\n",
    "gnt.broken_barh([(15,30)], (30, 9),facecolors =('darkblue')) # 5 \n",
    "gnt.broken_barh([(45,33)], (30, 9),facecolors =('slateblue'))#16 (4)\n",
    "gnt.broken_barh([(79,30)], (30, 9),facecolors =('springgreen'))#2\n",
    "gnt.broken_barh([(109,22)], (30, 9),facecolors =('plum'))#19(7)\n",
    "\n",
    "# Machine 4\n",
    "gnt.broken_barh([(15, 13)], (20, 9),facecolors =('blue')) #18(6)\n",
    "gnt.broken_barh([(28, 25)], (20, 9),facecolors =('violet'))#15(3)\n",
    "gnt.broken_barh([(53, 6)], (20, 9),facecolors =('springgreen'))#14(2)\n",
    "gnt.broken_barh([(68, 17)], (20, 9),facecolors =('black')) #10\n",
    "gnt.broken_barh([(68+17, 13)], (20, 9),facecolors =('green'))#20(8)\n",
    "\n",
    "# Machine 5\n",
    "gnt.broken_barh([(15, 30)], (10, 9),facecolors =('slateblue'))#4\n",
    "gnt.broken_barh([(45, 30)], (10, 9),facecolors =('violet'))#3\n",
    "gnt.broken_barh([(75, 17)], (10, 9),facecolors =('plum'))#7\n",
    "gnt.broken_barh([(92, 20)], (10, 9),facecolors =('purple'))#12\n",
    "\n",
    "plt.savefig(\"gantt1.png\")\n",
    "plt.title(\"instance3--problem2\")\n",
    "plt.show()\n",
    "\n",
    "## 1 11 9 3\n",
    "## 5 16 2 19\n",
    "## 18 15 14 10 20\n",
    "## 6 8 4 3 7 12\n",
    "\n",
    "# c[1] = 3.00\n",
    "# c[2] = 7.60\n",
    "# c[3] = 6.00\n",
    "# c[4] = 3.00\n",
    "# c[5] = 1.20\n",
    "# c[6] = 0.00\n",
    "# c[7] = 7.70\n",
    "# c[8] = 0.00\n",
    "# c[9] = 6.40\n",
    "# c[10] = 7.00\n",
    "# c[11] = 4.60\n",
    "# c[12] = 9.70\n",
    "# c[13] = 9.80\n",
    "# c[14] = 4.40\n",
    "# c[15] = 3.80\n",
    "# c[16] = 4.50\n",
    "# c[17] = 9.80\n",
    "# c[18] = 1.30\n",
    "# c[19] = 9.80\n",
    "# c[20] = 8.30"
   ]
  },
  {
   "cell_type": "code",
   "execution_count": 15,
   "metadata": {
    "colab": {
     "base_uri": "https://localhost:8080/",
     "height": 404
    },
    "id": "z8iUIIXxCNbh",
    "outputId": "1d22511a-df3f-4fa5-a839-cc3d4305b4b6"
   },
   "outputs": [
    {
     "data": {
      "image/png": "[encoded data removed]",
      "text/plain": [
       "<Figure size 600x400 with 1 Axes>"
      ]
     },
     "metadata": {
      "needs_background": "light"
     },
     "output_type": "display_data"
    }
   ],
   "source": [
    "# Importing the matplotlib.pyplot\n",
    "import matplotlib.pyplot as plt\n",
    "plt.rcParams[\"figure.dpi\"] = 100\n",
    "# Declaring a figure \"gnt\"\n",
    "fig, gnt = plt.subplots()\n",
    " \n",
    "# Setting Y-axis limits\n",
    "gnt.set_ylim(0, 70)\n",
    " \n",
    "# Setting X-axis limits\n",
    "gnt.set_xlim(0, 160)\n",
    " \n",
    "# Setting labels for x-axis and y-axis\n",
    "gnt.set_xlabel('time')\n",
    "gnt.set_ylabel('Machine')\n",
    " \n",
    "# Setting ticks on y-axis\n",
    "gnt.set_yticks([15, 25, 35, 45 ,55])\n",
    "# Labelling tickes of y-axis\n",
    "gnt.set_yticklabels(['5', '4', '3', '2', '1'])\n",
    "gnt.set_xticklabels(['', '08:00', '10:00', '12:00', '14:00', '16:00', '18:00', '20:00'])\n",
    "# Setting graph attribute\n",
    "gnt.grid(False)\n",
    " \n",
    "# Machine 1\n",
    "##(start,length)(y,width)\n",
    "gnt.broken_barh([(15+5, 12)], (50, 9),facecolors ='springgreen') #5\n",
    "gnt.broken_barh([(32, 33)], (50, 9),facecolors ='plum')  #16(4)\n",
    "gnt.broken_barh([(65+13, 22)], (50, 9),facecolors ='darkblue')  #19(7)\n",
    "\n",
    "# Machine 2\n",
    "gnt.broken_barh([(15, 30)], (40, 9),facecolors ='slateblue') #1\n",
    "gnt.broken_barh([(45, 20)], (40, 9),facecolors ='purple')  #12\n",
    "gnt.broken_barh([(75, 34)], (40, 9),facecolors ='slateblue')  #13\n",
    "\n",
    "# Machine 3\n",
    "gnt.broken_barh([(15,17)], (30, 9),facecolors =('darkblue')) # 7 \n",
    "gnt.broken_barh([(32,25)], (30, 9),facecolors =('crimson'))#15(3)\n",
    "gnt.broken_barh([(57,6)], (30, 9),facecolors =('violet'))#14(2)\n",
    "gnt.broken_barh([(63,26)], (30, 9),facecolors =('lightpink'))#10\n",
    "gnt.broken_barh([(89,15)], (30, 9),facecolors =('springgreen'))#17(5) \n",
    "\n",
    "# Machine 4\n",
    "gnt.broken_barh([(15, 30)], (20, 9),facecolors =('plum')) #4 \n",
    "gnt.broken_barh([(45, 15)], (20, 9),facecolors =('blue'))#11\n",
    "gnt.broken_barh([(60, 18)], (20, 9),facecolors =('orange'))#9\n",
    "gnt.broken_barh([(78, 13)], (20, 9),facecolors =('slategray')) #18\n",
    "\n",
    "# Machine 5\n",
    "gnt.broken_barh([(15, 30)], (10, 9),facecolors =('violet'))#2\n",
    "gnt.broken_barh([(45, 30)], (10, 9),facecolors =('crimson'))#3\n",
    "gnt.broken_barh([(75+14, 13)], (10, 9),facecolors =('purple'))#20\n",
    "\n",
    "\n",
    "plt.savefig(\"gantt1.png\")\n",
    "plt.title(\"instance3--problem3\")\n",
    "plt.show()\n",
    "\n",
    "## 5 16 19\n",
    "## 1 12 13\n",
    "## 7 15 14 10 17\n",
    "## 4 11 9 18\n",
    "## 2 3 20\n",
    "\n",
    "\n",
    "# c[1] = 3.00\n",
    "# c[2] = 3.00\n",
    "# c[3] = 6.00\n",
    "# c[4] = 3.00\n",
    "# c[5] = 1.70\n",
    "# c[6] = 0.00\n",
    "# c[7] = 1.70\n",
    "# c[8] = 0.00\n",
    "# c[9] = 6.30\n",
    "# c[10] = 7.40\n",
    "# c[11] = 4.50\n",
    "# c[12] = 5.00\n",
    "# c[13] = 9.40\n",
    "# c[14] = 4.80\n",
    "# c[15] = 4.20\n",
    "# c[16] = 5.00\n",
    "# c[17] = 8.90\n",
    "# c[18] = 7.60\n",
    "# c[19] = 8.50\n",
    "# c[20] = 8.70"
   ]
  }
 ],
 "metadata": {
  "colab": {
   "collapsed_sections": [],
   "name": "or.ipynb",
   "provenance": []
  },
  "kernelspec": {
   "display_name": "Python 3",
   "language": "python",
   "name": "python3"
  },
  "language_info": {
   "codemirror_mode": {
    "name": "ipython",
    "version": 3
   },
   "file_extension": ".py",
   "mimetype": "text/x-python",
   "name": "python",
   "nbconvert_exporter": "python",
   "pygments_lexer": "ipython3",
   "version": "3.8.5"
  }
 },
 "nbformat": 4,
 "nbformat_minor": 1
}
