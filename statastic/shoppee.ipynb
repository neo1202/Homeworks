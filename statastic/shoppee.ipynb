{
 "cells": [
  {
   "cell_type": "code",
   "execution_count": 23,
   "metadata": {},
   "outputs": [
    {
     "name": "stdout",
     "output_type": "stream",
     "text": [
      "4\n",
      "1 2 3 6\n",
      "6\n"
     ]
    }
   ],
   "source": [
    "from collections import defaultdict\n",
    "\n",
    "def max_equal_sum(E):\n",
    "    D=defaultdict(int)            # Map from abs difference to largest sum\n",
    "    D[0]=0                        # Start with a sum and difference of 0\n",
    "    for a in E:                   # Iterate over each element in the array\n",
    "        D2=D.copy()               # Can keep current sum and diff if element is skipped\n",
    "        for d,s in D.items():     # d is difference, s is sum\n",
    "            s2 = s+a              # s2 is new sum\n",
    "            for d2 in [d-a,d+a]:  # d2 is new difference\n",
    "                D2[abs(d2)] = max(D2[abs(d2)],s2) # Update with largest sum\n",
    "        D=D2\n",
    "    return int(D[0]/2 )                # Answer is half the sum of A+B for a difference of 0\n",
    "\n",
    "a = int(input())\n",
    "item_tmp = input().split(' ')\n",
    "#print(item_tmp[3])\n",
    "item = list()\n",
    "for i in range(a):\n",
    "    item.append(int(item_tmp[int(i)]))\n",
    "print(max_equal_sum(item))"
   ]
  },
  {
   "cell_type": "markdown",
   "metadata": {},
   "source": [
    "## "
   ]
  }
 ],
 "metadata": {
  "kernelspec": {
   "display_name": "Python 3",
   "language": "python",
   "name": "python3"
  },
  "language_info": {
   "codemirror_mode": {
    "name": "ipython",
    "version": 3
   },
   "file_extension": ".py",
   "mimetype": "text/x-python",
   "name": "python",
   "nbconvert_exporter": "python",
   "pygments_lexer": "ipython3",
   "version": "3.8.5"
  }
 },
 "nbformat": 4,
 "nbformat_minor": 4
}
