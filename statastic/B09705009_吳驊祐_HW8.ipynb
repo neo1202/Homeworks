{
 "cells": [
  {
   "cell_type": "markdown",
   "metadata": {},
   "source": [
    "# 第八次作業"
   ]
  },
  {
   "cell_type": "code",
   "execution_count": 48,
   "metadata": {},
   "outputs": [],
   "source": [
    "# 16.5, 16.15, 16.27, 16.37, 16.43, 16.49, 16.81, 16.91, 16.99"
   ]
  },
  {
   "cell_type": "code",
   "execution_count": 49,
   "metadata": {},
   "outputs": [],
   "source": [
    "from matplotlib import pyplot as plt\n",
    "%matplotlib inline\n",
    "# 設定圖形大小; DPI越大圖越大\n",
    "plt.rcParams[\"figure.dpi\"] = 100\n",
    "import seaborn as sns\n",
    "import pandas as pd\n",
    "import numpy as np\n",
    "import scipy.stats as stats\n",
    "import statsmodels.api as sm\n",
    "import statsmodels.stats.api as sms\n",
    "import statsmodels.formula.api as smf\n",
    "import statsmodels.stats.multicomp as smm\n",
    "import statsmodels.stats.outliers_influence as sso\n",
    "import statsmodels\n",
    "\n",
    "def c_of_c_test(r, n, a):\n",
    "    t_value = r * ((n-2)/(1 - r**2)) ** 0.5\n",
    "    t_critical = stats.t.ppf(1 - a/2, n - 2)\n",
    "    pval = stats.t.sf(np.abs(t_value), n - 2)*2\n",
    "    print('r = ', r)\n",
    "    print('t_critical = ', t_critical)\n",
    "    print('t = ', t_value)\n",
    "    print('p_value = ', pval)\n",
    "    return t_value\n",
    "\n",
    "def CI_simple_regression(df,x, y, x1, a):\n",
    "    x_new = np.array([1, x1])\n",
    "    X2 = sm.add_constant(x)\n",
    "    olsmod = sm.OLS(y, X2)\n",
    "    result_reg = olsmod.fit()\n",
    "    #point prediction value\n",
    "    y_head = np.dot(df.params, x_new)\n",
    "    print(\"y_head = \", y_head)\n",
    "    (t_minus, t_plus) = stats.t.interval(alpha = (1.0 - a), df = result_reg.df_resid )\n",
    "    cov_mat1 = np.cov(y, x)\n",
    "    x_bar = x.mean()\n",
    "    core1 = (1 / result_reg.nobs + \n",
    "         (x1 - x_bar) ** 2 / (result_reg.nobs - 1) /    cov_mat1[1,1] ) ** 0.5\n",
    "    lower_bound = y_head + t_minus * (result_reg.mse_resid ** 0.5) * core1\n",
    "    upper_bound = y_head + t_plus * (result_reg.mse_resid ** 0.5) * core1\n",
    "    half_interval = t_plus * (result_reg.mse_resid ** 0.5) * core1\n",
    "    CI = np.array([lower_bound, upper_bound])\n",
    "    print(f\"{100*(1-a)}%% confidence interval for mean: [%0.4f, %0.4f]\" % (lower_bound, upper_bound))\n",
    "    print(\"    or %0.4f  +- %0.4f\" % (y_head, half_interval))\n",
    "    return CI\n",
    "\n",
    "def PI_simple_regression(df,x, y, x1, a):\n",
    "    x_new = np.array([1, x1])\n",
    "    print(\"make prediction at new x = \", x1)\n",
    "    X2 = sm.add_constant(x)\n",
    "    olsmod = sm.OLS(y, X2)\n",
    "    result_reg = olsmod.fit()\n",
    "    y_head = np.dot(df.params, x_new)\n",
    "    print(\"y_head = \", y_head)\n",
    "    (t_minus, t_plus) = stats.t.interval(alpha = (1.0 - a), df = result_reg.df_resid )\n",
    "    cov_mat1 = np.cov(y, x)\n",
    "    x_bar = x.mean()\n",
    "    core2 = (1 + 1 / result_reg.nobs + \n",
    "         (x1 - x_bar) ** 2 / (result_reg.nobs - 1) / cov_mat1[1,1] ) ** 0.5\n",
    "    lower_bound = y_head + t_minus * (result_reg.mse_resid ** 0.5) * core2\n",
    "    upper_bound = y_head + t_plus * (result_reg.mse_resid ** 0.5) * core2\n",
    "    half_interval = t_plus * (result_reg.mse_resid ** 0.5) * core2\n",
    "    PI = np.array([lower_bound, upper_bound])\n",
    "    print(f\"{100*(1-a)}%% prediction interval: [%0.4f, %0.4f]\" % (lower_bound, upper_bound))\n",
    "    print(\"    or %0.4f  +- %0.4f\" % (y_head, half_interval))\n",
    "    return PI"
   ]
  },
  {
   "cell_type": "markdown",
   "metadata": {},
   "source": [
    "<div style=\"background-color:#D9D9D9;\"><font size=\"5\"> 16.5</font></div>"
   ]
  },
  {
   "cell_type": "code",
   "execution_count": 50,
   "metadata": {},
   "outputs": [
    {
     "name": "stdout",
     "output_type": "stream",
     "text": [
      "                            OLS Regression Results                            \n",
      "==============================================================================\n",
      "Dep. Variable:                  Beers   R-squared:                       0.910\n",
      "Model:                            OLS   Adj. R-squared:                  0.898\n",
      "Method:                 Least Squares   F-statistic:                     80.61\n",
      "Date:                Wed, 20 Apr 2022   Prob (F-statistic):           1.89e-05\n",
      "Time:                        03:19:25   Log-Likelihood:                -94.740\n",
      "No. Observations:                  10   AIC:                             193.5\n",
      "Df Residuals:                       8   BIC:                             194.1\n",
      "Df Model:                           1                                         \n",
      "Covariance Type:            nonrobust                                         \n",
      "===============================================================================\n",
      "                  coef    std err          t      P>|t|      [0.025      0.975]\n",
      "-------------------------------------------------------------------------------\n",
      "Intercept   -1.007e+05   1.36e+04     -7.395      0.000   -1.32e+05   -6.93e+04\n",
      "Temperature  1513.3276    168.551      8.978      0.000    1124.648    1902.008\n",
      "==============================================================================\n",
      "Omnibus:                        0.821   Durbin-Watson:                   2.157\n",
      "Prob(Omnibus):                  0.663   Jarque-Bera (JB):                0.058\n",
      "Skew:                          -0.187   Prob(JB):                        0.971\n",
      "Kurtosis:                       2.975   Cond. No.                         988.\n",
      "==============================================================================\n",
      "\n",
      "Notes:\n",
      "[1] Standard Errors assume that the covariance matrix of the errors is correctly specified.\n",
      "\n",
      "Estimated model: y = -100678.1723 + 1513.3276 x\n",
      "Coefficients : -100678.1723 and 1513.3276\n"
     ]
    },
    {
     "name": "stderr",
     "output_type": "stream",
     "text": [
      "/opt/anaconda3/lib/python3.8/site-packages/scipy/stats/stats.py:1603: UserWarning: kurtosistest only valid for n>=20 ... continuing anyway, n=10\n",
      "  warnings.warn(\"kurtosistest only valid for n>=20 ... continuing \"\n"
     ]
    }
   ],
   "source": [
    "#(a.)\n",
    "df5 = pd.read_excel('Xr16-05.xlsx')\n",
    "#display(df5)\n",
    "# Fit regression model \n",
    "df5_result1 = smf.ols('Beers~ Temperature', data=df5).fit()\n",
    "# Inspect the results\n",
    "print(df5_result1.summary())\n",
    "\n",
    "b1 = df5_result1.params[1]\n",
    "b0 = df5_result1.params[0]\n",
    "\n",
    "print(f\"\\nEstimated model: y = {b0:.4f} + {b1:.4f} x\")\n",
    "print(f\"Coefficients : {b0:.4f} and {b1:.4f}\")"
   ]
  },
  {
   "cell_type": "markdown",
   "metadata": {},
   "source": [
    "#(b.) <br>\n",
    "The slope of the line is 1513.3276, and the y-intercept is -100678.1723.<br>\n",
    "It means that for each additional degree of temperature, beers sale increase by an average of 1513.3276."
   ]
  },
  {
   "cell_type": "markdown",
   "metadata": {},
   "source": [
    "<div style=\"background-color:#D9D9D9;\"><font size=\"5\"> 16.15</font></div>"
   ]
  },
  {
   "cell_type": "code",
   "execution_count": 51,
   "metadata": {},
   "outputs": [
    {
     "name": "stdout",
     "output_type": "stream",
     "text": [
      "                            OLS Regression Results                            \n",
      "==============================================================================\n",
      "Dep. Variable:                   Food   R-squared:                       0.246\n",
      "Model:                            OLS   Adj. R-squared:                  0.241\n",
      "Method:                 Least Squares   F-statistic:                     48.25\n",
      "Date:                Wed, 20 Apr 2022   Prob (F-statistic):           1.10e-10\n",
      "Time:                        03:19:26   Log-Likelihood:                -753.23\n",
      "No. Observations:                 150   AIC:                             1510.\n",
      "Df Residuals:                     148   BIC:                             1516.\n",
      "Df Model:                           1                                         \n",
      "Covariance Type:            nonrobust                                         \n",
      "==============================================================================\n",
      "                 coef    std err          t      P>|t|      [0.025      0.975]\n",
      "------------------------------------------------------------------------------\n",
      "Intercept    153.8986     17.020      9.042      0.000     120.265     187.532\n",
      "Income         1.9582      0.282      6.946      0.000       1.401       2.515\n",
      "==============================================================================\n",
      "Omnibus:                        1.142   Durbin-Watson:                   1.985\n",
      "Prob(Omnibus):                  0.565   Jarque-Bera (JB):                0.758\n",
      "Skew:                          -0.133   Prob(JB):                        0.685\n",
      "Kurtosis:                       3.225   Cond. No.                         341.\n",
      "==============================================================================\n",
      "\n",
      "Notes:\n",
      "[1] Standard Errors assume that the covariance matrix of the errors is correctly specified.\n",
      "\n",
      "Estimated model: y = 153.8986 + 1.9582 x\n",
      "Coefficients : 153.8986 and 1.9582\n"
     ]
    }
   ],
   "source": [
    "#(a.)\n",
    "df5 = pd.read_excel('Xr16-15.xlsx')\n",
    "# Fit regression model \n",
    "df5_result1 = smf.ols('Food~ Income', data=df5).fit()\n",
    "# Inspect the results\n",
    "print(df5_result1.summary())\n",
    "\n",
    "b1 = df5_result1.params[1]\n",
    "b0 = df5_result1.params[0]\n",
    "\n",
    "print(f\"\\nEstimated model: y = {b0:.4f} + {b1:.4f} x\")\n",
    "print(f\"Coefficients : {b0:.4f} and {b1:.4f}\")"
   ]
  },
  {
   "cell_type": "markdown",
   "metadata": {},
   "source": [
    "The slope of the line is 1.9582, and the y-intercept is 153.8986.<br>\n",
    "It means that for each additional income of 1000s, money spent on food increase by an average of 1.9582."
   ]
  },
  {
   "cell_type": "markdown",
   "metadata": {},
   "source": [
    "<div style=\"background-color:#D9D9D9;\"><font size=\"5\"> 16.27</font></div>"
   ]
  },
  {
   "cell_type": "markdown",
   "metadata": {},
   "source": [
    "H0: r = 0 <br>\n",
    "H1: r ≠ 0 <br>\n",
    "r is the  coefficient of correlation between two variables."
   ]
  },
  {
   "cell_type": "code",
   "execution_count": 52,
   "metadata": {},
   "outputs": [
    {
     "data": {
      "image/png": "[encoded data removed]",
      "text/plain": [
       "<Figure size 600x400 with 1 Axes>"
      ]
     },
     "metadata": {
      "needs_background": "light"
     },
     "output_type": "display_data"
    }
   ],
   "source": [
    "# draw plot\n",
    "df5 = pd.read_excel('Xr16-05.xlsx')\n",
    "_ = sns.regplot(x='Temperature', y= 'Beers', data = df5, color = 'b', ci = None)\n",
    "plt.title('Scatter Plot for Beers & Temperature')\n",
    "plt.xlabel('Temperature')\n",
    "plt.ylabel('Beers')\n",
    "plt.show()"
   ]
  },
  {
   "cell_type": "code",
   "execution_count": 53,
   "metadata": {},
   "outputs": [
    {
     "name": "stdout",
     "output_type": "stream",
     "text": [
      "r =  0.9537919899105398\n",
      "r^2 =  0.9097191600175073\n",
      "\n",
      "r =  0.9537919899105395\n",
      "t_critical =  2.3060041350333704\n",
      "t =  8.978439669601617\n",
      "p_value =  1.8860778146296194e-05\n"
     ]
    }
   ],
   "source": [
    "# pearson\n",
    "r, pvalue = stats.pearsonr(df5['Beers'], df5['Temperature'])\n",
    "print(\"r = \", r)\n",
    "print(\"r^2 = \", r**2)\n",
    "print(\"\")\n",
    "cor_mat = np.corrcoef(df5[['Beers', 'Temperature']].values, rowvar = False)\n",
    "n = df5['Beers'].shape[0]\n",
    "r_t_value = c_of_c_test(cor_mat[1,0], n,0.05)"
   ]
  },
  {
   "cell_type": "markdown",
   "metadata": {},
   "source": [
    "Since the p-value is lesser than 0.05 significance level, we can reject the null hypothesis in favor of the alternative one. Which show that there's strong relationship(r>0.75) between two variables.<br>\n",
    "But according to the Scatter plot, they have positive relationship rather than negative."
   ]
  },
  {
   "cell_type": "markdown",
   "metadata": {},
   "source": [
    "<div style=\"background-color:#D9D9D9;\"><font size=\"5\"> 16.37</font></div>"
   ]
  },
  {
   "cell_type": "code",
   "execution_count": 54,
   "metadata": {},
   "outputs": [
    {
     "name": "stdout",
     "output_type": "stream",
     "text": [
      "R2 =  0.24587056865702073\n"
     ]
    }
   ],
   "source": [
    "#(a.)\n",
    "df5 = pd.read_excel('Xr16-15.xlsx')\n",
    "df5_result1 = smf.ols('Food~ Income', data=df5).fit()\n",
    "R2 = df5_result1.rsquared\n",
    "print(\"R2 = \", R2)"
   ]
  },
  {
   "cell_type": "markdown",
   "metadata": {},
   "source": [
    "The coefficient of determination is 0.24587,<br> which means that about 24.587% of the money spent on food in one week is explained by the variation of income. The rest remains unexplained."
   ]
  },
  {
   "cell_type": "markdown",
   "metadata": {},
   "source": [
    "#(b.)\n",
    "β is the coefficient of x of regression line <br>\n",
    "H0: β=0 <br>\n",
    "H1: β≠0 <br>\n",
    "According to the result_summary of 16.15, the pvalue is 0.000 smaller than 0.05.rejected H0 with alpha = 0.05. We can tell there's evidence of linear relationship between between income and food budget."
   ]
  },
  {
   "cell_type": "markdown",
   "metadata": {},
   "source": [
    "<div style=\"background-color:#D9D9D9;\"><font size=\"5\"> 16.43</font></div>"
   ]
  },
  {
   "cell_type": "code",
   "execution_count": 55,
   "metadata": {},
   "outputs": [
    {
     "name": "stdout",
     "output_type": "stream",
     "text": [
      "H0: r = 0\n",
      "H1: r ≠ 0\n",
      "r is the  coefficient of correlation between two variables.\n",
      "r =  0.49585337415109\n",
      "t_critical =  1.9761224936033632\n",
      "t =  6.946422350608936\n",
      "p_value =  1.1047043543420435e-10\n",
      "Since the p-value is lesser than 0.05, H0 is rejected with alpha = 0.05. We can tell that \n",
      "there's linear relationship between money spent on food in one week & income.\n"
     ]
    }
   ],
   "source": [
    "print(\"H0: r = 0\")\n",
    "print(\"H1: r ≠ 0\")\n",
    "print(\"r is the  coefficient of correlation between two variables.\")\n",
    "cor_mat = np.corrcoef(df5[['Food', 'Income']].values, rowvar = False)\n",
    "n = df5['Food'].shape[0]\n",
    "r_t_value = c_of_c_test(cor_mat[1,0], n,0.05)\n",
    "print(\"Since the p-value is lesser than 0.05, H0 is rejected with alpha = 0.05. We can tell that \")\n",
    "print(\"there's linear relationship between money spent on food in one week & income.\")"
   ]
  },
  {
   "cell_type": "markdown",
   "metadata": {},
   "source": [
    "<div style=\"background-color:#D9D9D9;\"><font size=\"5\"> 16.49</font></div>"
   ]
  },
  {
   "cell_type": "code",
   "execution_count": 56,
   "metadata": {},
   "outputs": [
    {
     "data": {
      "text/html": [
       "<div>\n",
       "<style scoped>\n",
       "    .dataframe tbody tr th:only-of-type {\n",
       "        vertical-align: middle;\n",
       "    }\n",
       "\n",
       "    .dataframe tbody tr th {\n",
       "        vertical-align: top;\n",
       "    }\n",
       "\n",
       "    .dataframe thead th {\n",
       "        text-align: right;\n",
       "    }\n",
       "</style>\n",
       "<table border=\"1\" class=\"dataframe\">\n",
       "  <thead>\n",
       "    <tr style=\"text-align: right;\">\n",
       "      <th></th>\n",
       "      <th>Temperature</th>\n",
       "      <th>Distance</th>\n",
       "    </tr>\n",
       "  </thead>\n",
       "  <tbody>\n",
       "    <tr>\n",
       "      <th>0</th>\n",
       "      <td>68</td>\n",
       "      <td>211</td>\n",
       "    </tr>\n",
       "    <tr>\n",
       "      <th>1</th>\n",
       "      <td>58</td>\n",
       "      <td>214</td>\n",
       "    </tr>\n",
       "    <tr>\n",
       "      <th>2</th>\n",
       "      <td>68</td>\n",
       "      <td>214</td>\n",
       "    </tr>\n",
       "    <tr>\n",
       "      <th>3</th>\n",
       "      <td>71</td>\n",
       "      <td>215</td>\n",
       "    </tr>\n",
       "    <tr>\n",
       "      <th>4</th>\n",
       "      <td>77</td>\n",
       "      <td>217</td>\n",
       "    </tr>\n",
       "  </tbody>\n",
       "</table>\n",
       "</div>"
      ],
      "text/plain": [
       "   Temperature  Distance\n",
       "0           68       211\n",
       "1           58       214\n",
       "2           68       214\n",
       "3           71       215\n",
       "4           77       217"
      ]
     },
     "metadata": {},
     "output_type": "display_data"
    },
    {
     "name": "stdout",
     "output_type": "stream",
     "text": [
      "                            OLS Regression Results                            \n",
      "==============================================================================\n",
      "Dep. Variable:               Distance   R-squared:                       0.317\n",
      "Model:                            OLS   Adj. R-squared:                  0.308\n",
      "Method:                 Least Squares   F-statistic:                     34.75\n",
      "Date:                Wed, 20 Apr 2022   Prob (F-statistic):           1.00e-07\n",
      "Time:                        03:19:29   Log-Likelihood:                -164.64\n",
      "No. Observations:                  77   AIC:                             333.3\n",
      "Df Residuals:                      75   BIC:                             338.0\n",
      "Df Model:                           1                                         \n",
      "Covariance Type:            nonrobust                                         \n",
      "===============================================================================\n",
      "                  coef    std err          t      P>|t|      [0.025      0.975]\n",
      "-------------------------------------------------------------------------------\n",
      "Intercept     202.2311      2.151     94.038      0.000     197.947     206.515\n",
      "Temperature     0.1662      0.028      5.895      0.000       0.110       0.222\n",
      "==============================================================================\n",
      "Omnibus:                        0.495   Durbin-Watson:                   1.746\n",
      "Prob(Omnibus):                  0.781   Jarque-Bera (JB):                0.629\n",
      "Skew:                           0.164   Prob(JB):                        0.730\n",
      "Kurtosis:                       2.703   Cond. No.                         692.\n",
      "==============================================================================\n",
      "\n",
      "Notes:\n",
      "[1] Standard Errors assume that the covariance matrix of the errors is correctly specified.\n",
      "\n",
      "Estimated model: y = 202.2311 + 0.1662 x\n",
      "Coefficients : 202.2311 and 0.1662\n"
     ]
    }
   ],
   "source": [
    "#(a.)\n",
    "df = pd.read_excel('Xr03-71.xlsx')\n",
    "display(df.head())\n",
    "\n",
    "# Fit regression model \n",
    "df_result1 = smf.ols('Distance~ Temperature', data=df).fit()\n",
    "# Inspect the results\n",
    "print(df_result1.summary())\n",
    "\n",
    "b1 = df_result1.params[1]\n",
    "b0 = df_result1.params[0]\n",
    "\n",
    "print(f\"\\nEstimated model: y = {b0:.4f} + {b1:.4f} x\")\n",
    "print(f\"Coefficients : {b0:.4f} and {b1:.4f}\")"
   ]
  },
  {
   "cell_type": "code",
   "execution_count": 57,
   "metadata": {},
   "outputs": [
    {
     "name": "stdout",
     "output_type": "stream",
     "text": [
      "H0: r = 0\n",
      "H1: r ≠ 0\n",
      "r is the  coefficient of correlation between two variables.\n",
      "r =  0.5627027138977262\n",
      "t_critical =  1.9921021536898653\n",
      "t =  5.894989925275379\n",
      "p_value =  1.0017016662467413e-07\n",
      "Since p-value is lesser than 0.05 significance level, we reject null hypothesis in favor of the alternative one.\n",
      "there's positive relationship between distance and temperature.\n"
     ]
    }
   ],
   "source": [
    "print(\"H0: r = 0\")\n",
    "print(\"H1: r ≠ 0\")\n",
    "print(\"r is the  coefficient of correlation between two variables.\")\n",
    "cor_mat = np.corrcoef(df[['Distance', 'Temperature']].values, rowvar = False)\n",
    "n = df.shape[0]\n",
    "r_t_value = c_of_c_test(cor_mat[1,0], n,0.05)\n",
    "print(\"Since p-value is lesser than 0.05 significance level, we reject null hypothesis in favor of the alternative one.\")\n",
    "print(\"there's positive relationship between distance and temperature.\")"
   ]
  },
  {
   "cell_type": "markdown",
   "metadata": {},
   "source": [
    "#(b.)<br>\n",
    "The slope coefficient is 0.1662. For each additional temperature, the distance increases by the average of 0.1662."
   ]
  },
  {
   "cell_type": "code",
   "execution_count": 58,
   "metadata": {},
   "outputs": [
    {
     "name": "stdout",
     "output_type": "stream",
     "text": [
      "R2 =  0.31663434422786574\n"
     ]
    }
   ],
   "source": [
    "#(c.)\n",
    "R2 = df_result1.rsquared\n",
    "print(\"R2 = \", R2)"
   ]
  },
  {
   "cell_type": "markdown",
   "metadata": {},
   "source": [
    "The coefficient of determination is 0.3166,<br> which means that about 31.66% of the variation in the distance is explained by the variation of temperature. The rest remains unexplained."
   ]
  },
  {
   "cell_type": "markdown",
   "metadata": {},
   "source": [
    "<div style=\"background-color:#D9D9D9;\"><font size=\"5\"> 16.81</font></div>"
   ]
  },
  {
   "cell_type": "code",
   "execution_count": 59,
   "metadata": {},
   "outputs": [
    {
     "name": "stdout",
     "output_type": "stream",
     "text": [
      "y_head =  12821.398167239415\n",
      "90.0% confidence interval for mean: [10127.0004, 15515.7959]\n",
      "    or 12821.3982  +- 2694.3977\n",
      "[10127.00041908 15515.7959154 ]\n"
     ]
    }
   ],
   "source": [
    "df5 = pd.read_excel('Xr16-05.xlsx')\n",
    "df5_result1 = smf.ols('Beers~ Temperature', data=df5).fit()\n",
    "CI_result = CI_simple_regression(df5_result1, df5['Temperature'],df5['Beers'], 75, 0.1)\n",
    "print(CI_result)"
   ]
  },
  {
   "cell_type": "markdown",
   "metadata": {},
   "source": [
    "<div style=\"background-color:#D9D9D9;\"><font size=\"5\"> 16.91</font></div>"
   ]
  },
  {
   "cell_type": "code",
   "execution_count": 60,
   "metadata": {},
   "outputs": [
    {
     "name": "stdout",
     "output_type": "stream",
     "text": [
      "make prediction at new x =  60\n",
      "y_head =  271.3908922103403\n",
      "90.0% prediction interval: [210.0443, 332.7375]\n",
      "    or 271.3909  +- 61.3466\n",
      "[210.04432133 332.73746309]\n"
     ]
    }
   ],
   "source": [
    "df5 = pd.read_excel('Xr16-15.xlsx')\n",
    "df5_result1 = smf.ols('Food~ Income', data=df5).fit()\n",
    "PI_result = PI_simple_regression(df5_result1,df5['Income'], df5['Food'],  60, 0.1)\n",
    "print(PI_result)"
   ]
  },
  {
   "cell_type": "markdown",
   "metadata": {},
   "source": [
    "<div style=\"background-color:#D9D9D9;\"><font size=\"5\"> 16.99</font></div>"
   ]
  },
  {
   "cell_type": "code",
   "execution_count": 61,
   "metadata": {},
   "outputs": [
    {
     "name": "stdout",
     "output_type": "stream",
     "text": [
      "make prediction at new x =  80\n",
      "y_head =  215.5261364775043\n",
      "95.0% prediction interval: [211.3492, 219.7030]\n",
      "    or 215.5261  +- 4.1769\n",
      "[211.34922963 219.70304332]\n"
     ]
    }
   ],
   "source": [
    "df5 = pd.read_excel('Xr03-71.xlsx')\n",
    "df5_result1 = smf.ols('Distance~ Temperature', data=df5).fit()\n",
    "PI_result = PI_simple_regression(df5_result1,df5['Temperature'], df5['Distance'],  80, 0.05)\n",
    "print(PI_result)"
   ]
  }
 ],
 "metadata": {
  "kernelspec": {
   "display_name": "Python 3",
   "language": "python",
   "name": "python3"
  },
  "language_info": {
   "codemirror_mode": {
    "name": "ipython",
    "version": 3
   },
   "file_extension": ".py",
   "mimetype": "text/x-python",
   "name": "python",
   "nbconvert_exporter": "python",
   "pygments_lexer": "ipython3",
   "version": "3.8.5"
  }
 },
 "nbformat": 4,
 "nbformat_minor": 4
}
