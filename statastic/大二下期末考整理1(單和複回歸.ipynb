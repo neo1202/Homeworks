{
 "cells": [
  {
   "cell_type": "code",
   "execution_count": 1,
   "metadata": {},
   "outputs": [],
   "source": [
    "from matplotlib import pyplot as plt\n",
    "%matplotlib inline\n",
    "plt.rcParams[\"figure.dpi\"] = 65\n",
    "import seaborn as sns\n",
    "import pandas as pd\n",
    "import numpy as np\n",
    "import scipy.stats as stats\n",
    "import statsmodels.api as sm\n",
    "import statsmodels.stats.api as sms\n",
    "import statsmodels.formula.api as smf\n",
    "import statsmodels.stats.multicomp as smm\n",
    "import statsmodels.stats.outliers_influence as sso\n",
    "import statsmodels\n",
    "import statistics\n",
    "import math\n",
    "import warnings\n",
    "import itertools\n",
    "from statsmodels.tsa.api import Holt\n",
    "from scipy.optimize import curve_fit\n",
    "warnings.simplefilter(action='ignore', category=FutureWarning)\n",
    "warnings.simplefilter(action='ignore', category=UserWarning)"
   ]
  },
  {
   "cell_type": "code",
   "execution_count": 2,
   "metadata": {},
   "outputs": [],
   "source": [
    "#simple linear regression\n",
    "def CI_PI_simple_regression(x, y, x1, a):\n",
    "    x_new = np.array([1, x1])\n",
    "    print(\"make CI and PI predictions at mean of x = \", x1)\n",
    "    X2 = sm.add_constant(x)\n",
    "    olsmod = sm.OLS(y, X2)\n",
    "    result_reg = olsmod.fit()\n",
    "    y_head = np.dot(result_reg.params, x_new)\n",
    "    print(\"y_head = \", y_head)\n",
    "    (t_minus, t_plus) = stats.t.interval(alpha = (1.0 - a), df = result_reg.df_resid )\n",
    "    cov_mat1 = np.cov(y, x)\n",
    "    x_bar = x.mean()\n",
    "    core1 = (1 / result_reg.nobs + \n",
    "         (x1 - x_bar) ** 2 / (result_reg.nobs - 1) / cov_mat1[1,1] ) ** 0.5\n",
    "    core2 = (1 + 1 / result_reg.nobs + \n",
    "         (x1 - x_bar) ** 2 / (result_reg.nobs - 1) / cov_mat1[1,1] ) ** 0.5\n",
    "    lower_bound = y_head + t_minus * (result_reg.mse_resid ** 0.5) * core1\n",
    "    upper_bound = y_head + t_plus * (result_reg.mse_resid ** 0.5) * core1\n",
    "    half_interval = t_plus * (result_reg.mse_resid ** 0.5) * core1\n",
    "    lower_bound2 = y_head + t_minus * (result_reg.mse_resid ** 0.5) * core2\n",
    "    upper_bound2 = y_head + t_plus * (result_reg.mse_resid ** 0.5) * core2\n",
    "    half_interval2 = t_plus * (result_reg.mse_resid ** 0.5) * core2\n",
    "    print(\"confidence interval for mean: [%0.4f, %0.4f]\" % (lower_bound, upper_bound))\n",
    "    print(\"    or %0.4f  +- %0.4f\" % (y_head, half_interval))\n",
    "    print(\"Prediction interval = [%0.4f, %0.4f] \" % (lower_bound2, upper_bound2))\n",
    "    print(\"    or %0.4f  +- %0.4f\" % (y_head, half_interval2))\n",
    "    CI_PI = np.array([lower_bound, upper_bound, lower_bound2, upper_bound2])\n",
    "    return CI_PI\n",
    "def c_of_c_test(r, n):\n",
    "    t_value = r * ((n-2)/(1 - r**2)) ** 0.5\n",
    "    t_critical = stats.t.ppf(0.975, n - 2)\n",
    "    pval = stats.t.sf(np.abs(t_value), n - 2)*2\n",
    "    print('r = ', r)\n",
    "    print('t_critical = ', t_critical)\n",
    "    print('t = ', t_value)\n",
    "    print('p_value = ', pval)\n",
    "    return t_value"
   ]
  },
  {
   "cell_type": "code",
   "execution_count": 3,
   "metadata": {},
   "outputs": [],
   "source": [
    "def Normality(SD):\n",
    "    print('Normality test for errors using Shapiro Test')\n",
    "    print(' - H0: Errors are normally distributed.')\n",
    "    print(' - H1: Errors are not normally distributed.\\n')\n",
    "    stat, p = stats.shapiro(SD)\n",
    "    print('pvalue of Shapiro Test =', p)\n",
    "    if p < 0.05:\n",
    "        print('\\nSince p-value < 0.05, we reject H0 and conclude errors are not normally distributed.')\n",
    "    else:\n",
    "        print('\\nSince p-value > 0.05, we do not reject H0 and we may conclude errors are normally distributed.')\n",
    "def Homoscedasticity(data, xlabel):\n",
    "    print('Homoscedasticity Test')\n",
    "    print(' - H0: Homoscedasticity')\n",
    "    print(' - H1: Heteroscedasticity\\n')\n",
    "    y_pre = data[:, 2]\n",
    "    SD = data[:, 10]\n",
    "    plt.plot(y_pre, SD, 'o', color = 'gray')\n",
    "    plt.axhline(y=0, color = 'blue')\n",
    "    plt.axhline(y=2, color = 'red')\n",
    "    plt.axhline(y=-2, color = 'red')\n",
    "    plt.title('Standardized Residual Plot')\n",
    "    plt.xlabel(xlabel)\n",
    "    plt.ylabel('Standardized Residual')\n",
    "    plt.show()\n",
    "def Randomness(SD):\n",
    "    print('Randomness Test using Runs Test')\n",
    "    print(' - H0: Randomness exists.')\n",
    "    print(' - H1: Randomness does not exist\\n')    \n",
    "    SD_median = statistics.median(SD)    \n",
    "    runs, n1, n2 = 1, 0, 0\n",
    "    if(SD[0]) >= SD_median:\n",
    "        n1 += 1   \n",
    "    else:\n",
    "        n2 += 1     \n",
    "    # Checking for start of new run \n",
    "    for i in range(len(SD)): \n",
    "        # no. of runs \n",
    "        if (SD[i] >= SD_median and SD[i-1] < SD_median) or (SD[i] < SD_median and SD[i-1] >= SD_median):\n",
    "            runs += 1  \n",
    "            # print(i, runs)\n",
    "        # no. of positive values \n",
    "        if(SD[i]) >= SD_median: \n",
    "            n1 += 1   \n",
    "        # no. of negative values \n",
    "        else: \n",
    "            n2 += 1   \n",
    "    runs_exp = ((2*n1*n2)/(n1+n2)) + 1\n",
    "    stan_dev = math.sqrt((2*n1*n2*(2*n1*n2-n1-n2))/(((n1+n2)**2)*(n1+n2-1))) \n",
    "    z = (runs-runs_exp)/stan_dev\n",
    "    pval_z = stats.norm.sf(abs(z)) * 2\n",
    "    print('runs = ', runs)\n",
    "    print('n1 = ', n1)\n",
    "    print('n2 = ', n2)\n",
    "    if n1>20 or n2>20:\n",
    "        print('\\nruns_exp = ', runs_exp)\n",
    "        print('stan_dev = ', stan_dev)\n",
    "        print('z = ', z)\n",
    "        print('pval_z = ', pval_z)\n",
    "        \n",
    "        if pval_z < 0.05:\n",
    "            print('\\nSince p-value < 0.05, we reject H0 and conclude randomness does not exist.')\n",
    "        else:\n",
    "            print('\\nSince p-value > 0.05, we do not reject H0 and we may conclude randomness exists.')\n",
    "    else:\n",
    "        print('Since both n1 and n2 < 20, we check the Run Test table.')\n",
    "def Outlier(SD):\n",
    "    df = pd.DataFrame(SD,columns = ['SD'])\n",
    "    filter = (df['SD'] < -2) | (df['SD'] > 2)\n",
    "    outliers = df['SD'].loc[filter]\n",
    "    ids = outliers.index\n",
    "    ids = [n+1 for n in ids]\n",
    "    \n",
    "    print(\"Outliers by SD = \\n\")\n",
    "    print(outliers)\n",
    "    \n",
    "    if len(ids)== 0:\n",
    "        print(\"\\nThere isnt any oulier.\")\n",
    "    else:\n",
    "        print(\"\\nSample\", ids, \"are outliers.\")\n",
    "def Influential(x_data, y_data):\n",
    "    x_data = x_data.values\n",
    "    y_data = y_data.values\n",
    "    cov_mat = np.cov(y_data, x_data)\n",
    "    x_data_bar = x_data.mean()\n",
    "    data_nobs = len(x_data)\n",
    "    h_val = 1 / data_nobs + (x_data - x_data_bar) ** 2 / (data_nobs - 1) / cov_mat[1,1]\n",
    "    df = pd.DataFrame(h_val,columns = ['hi'])\n",
    "    filter = (df['hi'] > 6 / data_nobs )\n",
    "    influs = df['hi'].loc[filter]\n",
    "    ids = influs.index\n",
    "    ids = [n+1 for n in ids]\n",
    "    \n",
    "    print(\"Influential Observations by hi = \\n\")\n",
    "    print(influs)\n",
    "    \n",
    "    if len(ids)== 0:\n",
    "        print(\"\\nThere isn't any influential observation.\")\n",
    "    else:\n",
    "        print(\"\\nSample\", ids, \"are influential observations.\")\n",
    "def CI_PI_regression(xdata, yval, x1, a): #多變數的\n",
    "    X_data_T = xdata.T\n",
    "    X_data2 = sm.add_constant(X_data_T)\n",
    "    olsmod = sm.OLS(yval, X_data2)\n",
    "    result_reg = olsmod.fit()\n",
    "    y_head = np.dot(result_reg.params, x1)\n",
    "    \n",
    "    (t_minus, t_plus) = stats.t.interval(alpha = (1.0 - a), df = result_reg.df_resid )\n",
    "    core1 = (result_reg.mse_resid * np.matmul(x1, np.linalg.solve(np.matmul(X_data2.T, X_data2), x1))) ** 0.5\n",
    "\n",
    "    lower_bound = y_head +  t_minus * core1\n",
    "    upper_bound = y_head +  t_plus * core1\n",
    "    \n",
    "    core2 = (result_reg.mse_resid * (1 + np.matmul(x1, np.linalg.solve(np.matmul(X_data2.T, X_data2), x1)))) ** 0.5\n",
    "    lower_bound2 = y_head +  t_minus * core2\n",
    "    upper_bound2 = y_head +  t_plus * core2\n",
    "    \n",
    "    CI = [lower_bound, upper_bound]\n",
    "    PI = [lower_bound2, upper_bound2]\n",
    "    return CI, PI"
   ]
  },
  {
   "cell_type": "code",
   "execution_count": 4,
   "metadata": {},
   "outputs": [],
   "source": [
    "#multiple\n",
    "def runsTest(l, l_median): \n",
    "    runs, n1, n2 = 1, 0, 0\n",
    "    if(l[0]) >= l_median:\n",
    "        n1 += 1   \n",
    "    else:\n",
    "        n2 += 1   \n",
    "    for i in range(1, len(l)): \n",
    "        if (l[i] >= l_median and l[i-1] < l_median) or (l[i] < l_median and l[i-1] >= l_median):\n",
    "            runs += 1  \n",
    "        if(l[i]) >= l_median: \n",
    "            n1 += 1   \n",
    "        else: \n",
    "            n2 += 1   \n",
    "    runs_exp = ((2*n1*n2)/(n1+n2)) + 1\n",
    "    stan_dev = math.sqrt((2*n1*n2*(2*n1*n2-n1-n2))/(((n1+n2)**2)*(n1+n2-1))) \n",
    "    z = (runs-runs_exp)/stan_dev\n",
    "    pval_z = stats.norm.sf(abs(z)) * 2\n",
    "    print('runs = ', runs)\n",
    "    print('n1 = ', n1)\n",
    "    print('n2 = ', n2)\n",
    "    print('runs_exp = ', runs_exp)\n",
    "    print('stan_dev = ', stan_dev)\n",
    "    print('z = ', z)\n",
    "    print('pval_z = ', pval_z)\n",
    "    return pval_z\n",
    "def Durbin_Watson_test(x):\n",
    "    x_square_sum = np.vdot(x, x)\n",
    "    print(\"x_square_sum = \", x_square_sum)\n",
    "    size = x.size\n",
    "    print(\"size = \", size)\n",
    "    x_d = np.zeros((size))\n",
    "    print(\"x_d = \", x_d)\n",
    "    l_size = size - 1\n",
    "    for i in range(l_size):\n",
    "        x_d[i + 1] = x[i + 1] - x[i]\n",
    "    print(\"x_d = \", x_d)\n",
    "    d = np.vdot(x_d, x_d) / x_square_sum\n",
    "    print(\"d = \", d)\n",
    "    return(d)\n",
    "def Chi_Square_for_Normality(stand_res, N, a): \n",
    "    m = np.mean(stand_res)\n",
    "    s = np.std(stand_res)\n",
    "    prob_bins = np.zeros((N + 1))\n",
    "    z_bins = np.zeros((N + 1))\n",
    "    z_bins[0] = -4\n",
    "    z_bins[N] = 4\n",
    "    for i in range(0, N+1):\n",
    "        prob_bins[i] = i/N\n",
    "    for j in range(1, N):\n",
    "        z_bins[j] = m + stats.norm.isf(1 - prob_bins[j]) * s\n",
    "    counts, bins = np.histogram(stand_res, bins=z_bins)\n",
    "    nobs = counts.sum()\n",
    "    prob_e = np.zeros((N))\n",
    "    for i in range(1, N+1):\n",
    "        prob_e[i - 1] = prob_bins[i] - prob_bins[i - 1]   \n",
    "    freq_e = nobs * prob_e\n",
    "    freq_o = counts\n",
    "    if np.sum(freq_e < 5) > 0:\n",
    "        print(\"Rule of five is not met. \")\n",
    "    else:\n",
    "        chi_stat, pval = stats.chisquare(freq_o, freq_e)\n",
    "        chi_pval = stats.chi2.sf(chi_stat, N - 3)\n",
    "        print(\"Chi-squared test: statistics = %0.4f, p-value = %0.4f\" % (chi_stat, chi_pval))\n",
    "    df = freq_o.shape[0]-3\n",
    "    crit_value = stats.chi2.ppf(1 - a, df)\n",
    "    print(\"Critical value = %0.4f (defree of freedom = %d)\" % (crit_value, df))\n",
    "    \n",
    "    return chi_pval"
   ]
  },
  {
   "cell_type": "markdown",
   "metadata": {},
   "source": [
    "# simple Linear Regression"
   ]
  },
  {
   "cell_type": "markdown",
   "metadata": {},
   "source": [
    "* Accessing the model: \n",
    "    - standard error of estimate-> if smaller than mean of y is good\n",
    "    - see the r-squared\n",
    "    - 斜率為0=這倆係數無關則無效\n",
    "    - multiple reg時要看ANOVA F TEST"
   ]
  },
  {
   "cell_type": "markdown",
   "metadata": {},
   "source": [
    "### 16-5 溫度與啤酒的關聯\n",
    "X(independent variable) - Temperature<br>\n",
    "y(dependent variable) - Beers(Beer Sales)"
   ]
  },
  {
   "cell_type": "code",
   "execution_count": 52,
   "metadata": {},
   "outputs": [
    {
     "data": {
      "image/png": "[encoded data removed]",
      "text/plain": [
       "<Figure size 390x260 with 1 Axes>"
      ]
     },
     "metadata": {
      "needs_background": "light"
     },
     "output_type": "display_data"
    },
    {
     "name": "stdout",
     "output_type": "stream",
     "text": [
      "According to the scatter plot, we can see that there is linear relationship between Temperature and Number of Beers. Thus, we can apply Simple linear regression with OLS.\n",
      "                            OLS Regression Results                            \n",
      "==============================================================================\n",
      "Dep. Variable:                  Beers   R-squared:                       0.910\n",
      "Model:                            OLS   Adj. R-squared:                  0.898\n",
      "Method:                 Least Squares   F-statistic:                     80.61\n",
      "Date:                Sun, 29 May 2022   Prob (F-statistic):           1.89e-05\n",
      "Time:                        22:24:17   Log-Likelihood:                -94.740\n",
      "No. Observations:                  10   AIC:                             193.5\n",
      "Df Residuals:                       8   BIC:                             194.1\n",
      "Df Model:                           1                                         \n",
      "Covariance Type:            nonrobust                                         \n",
      "===============================================================================\n",
      "                  coef    std err          t      P>|t|      [0.025      0.975]\n",
      "-------------------------------------------------------------------------------\n",
      "Intercept   -1.007e+05   1.36e+04     -7.395      0.000   -1.32e+05   -6.93e+04\n",
      "Temperature  1513.3276    168.551      8.978      0.000    1124.648    1902.008\n",
      "==============================================================================\n",
      "Omnibus:                        0.821   Durbin-Watson:                   2.157\n",
      "Prob(Omnibus):                  0.663   Jarque-Bera (JB):                0.058\n",
      "Skew:                          -0.187   Prob(JB):                        0.971\n",
      "Kurtosis:                       2.975   Cond. No.                         988.\n",
      "==============================================================================\n",
      "\n",
      "Notes:\n",
      "[1] Standard Errors assume that the covariance matrix of the errors is correctly specified.\n",
      "Estimated model: y = -100678.1723 + 1513.3276 x\n",
      "Interpretation: For each additional one degree increase in temperature the number of beers sold increases on average by 1513.3276. The y-intercept is the point at which the regression line hits the y–axis; it has no practical meaning.\n",
      "make CI and PI predictions at mean of x =  75\n",
      "y_head =  12821.398167239415\n",
      "confidence interval for mean: [10127.0004, 15515.7959]\n",
      "    or 12821.3982  +- 2694.3977\n",
      "Prediction interval = [5740.3945, 19902.4019] \n",
      "    or 12821.3982  +- 7081.0037\n",
      "[10127.00041908 15515.7959154   5740.39448027 19902.40185421]\n"
     ]
    }
   ],
   "source": [
    "df16_5 = pd.read_excel('Xr16-05.xlsx')\n",
    "_ = sns.regplot(x='Temperature', y= 'Beers', data = df16_5, color = 'b', ci = None)\n",
    "plt.title('Scatter Plot for Temperature and number of beers')\n",
    "plt.xlabel('Temperature')\n",
    "plt.ylabel('Number of Beers')\n",
    "plt.show()\n",
    "print(\"According to the scatter plot, we can see that there is linear relationship between Temperature and Number of Beers. Thus, we can apply Simple linear regression with OLS.\")\n",
    "df16_result1 = smf.ols('Beers~ Temperature', data=df16_5).fit()\n",
    "print(df16_result1.summary())\n",
    "b1_1 = df16_result1.params[1]\n",
    "b0_1 = df16_result1.params[0]\n",
    "print(\"Estimated model: y = %0.4f + %0.4f x\" % (b0_1, b1_1))\n",
    "print(\"Interpretation: For each additional one degree increase in temperature the number of beers sold increases on average by 1513.3276. The y-intercept is the point at which the regression line hits the y–axis; it has no practical meaning.\")\n",
    "CI_PI_result = CI_PI_simple_regression(df16_5['Temperature'], df16_5['Beers'], 75, 0.1)\n",
    "print(CI_PI_result)\n",
    "#prediction是對於一個x，個別y點的估計比較易受其他因素影響，confidence是對於給x,y的平均比較準"
   ]
  },
  {
   "cell_type": "markdown",
   "metadata": {},
   "source": [
    "#determine有沒有negative關聯：<br>\n",
    "H0: β1 >= 0<br>\n",
    "H1: β1 < 0<br>\n",
    "According to the table. The pvalue is 1 - 0.000/2 = 1 > alpha = 0.05. Thus, we cannot reject the null hypothesis at a significance level of 0.05. There is no evidence of a negative linear relationship between temperature and the number of beers sold.<br>\n",
    "#有無正向關係，<br>\n",
    "H0:β1 <= 0<br>\n",
    "H1:β1 > 0<br>\n",
    "According to the table. The pvalue of **Temperature/2** = 0.000 < alpha = 0.05. Thus, we reject the null hypothesis at a significance level of 0.05. There is enough evidence to infer that there is a positive linear relationship between ...<br>\n",
    "#解釋rsquared<br>\n",
    "Acoording to the table, R-squared is 0.91. Therefore, 91% of the variation in beers is explained by the variation in temperature. The rest 9% remains unexplained by this model.<br>\n",
    "#有無線性關係<br>\n",
    "H0:  β1=0<br>\n",
    "H1:  β1≠0<br>\n",
    "The pvalue of Temperature = 0.000 < alpha = 0.05. Thus, we reject the null hypothesis at a significance level of 0.05. There is evidence of a linear relationship between ....."
   ]
  },
  {
   "cell_type": "code",
   "execution_count": 53,
   "metadata": {},
   "outputs": [
    {
     "data": {
      "text/html": [
       "<div>\n",
       "<style scoped>\n",
       "    .dataframe tbody tr th:only-of-type {\n",
       "        vertical-align: middle;\n",
       "    }\n",
       "\n",
       "    .dataframe tbody tr th {\n",
       "        vertical-align: top;\n",
       "    }\n",
       "\n",
       "    .dataframe thead th {\n",
       "        text-align: right;\n",
       "    }\n",
       "</style>\n",
       "<table border=\"1\" class=\"dataframe\">\n",
       "  <thead>\n",
       "    <tr style=\"text-align: right;\">\n",
       "      <th></th>\n",
       "      <th>Temperature</th>\n",
       "      <th>Beers</th>\n",
       "      <th>Predicted y</th>\n",
       "      <th>Residuals</th>\n",
       "    </tr>\n",
       "  </thead>\n",
       "  <tbody>\n",
       "    <tr>\n",
       "      <th>0</th>\n",
       "      <td>80</td>\n",
       "      <td>20533</td>\n",
       "      <td>20388.036197</td>\n",
       "      <td>144.963803</td>\n",
       "    </tr>\n",
       "    <tr>\n",
       "      <th>1</th>\n",
       "      <td>68</td>\n",
       "      <td>1439</td>\n",
       "      <td>2228.104926</td>\n",
       "      <td>-789.104926</td>\n",
       "    </tr>\n",
       "    <tr>\n",
       "      <th>2</th>\n",
       "      <td>78</td>\n",
       "      <td>13829</td>\n",
       "      <td>17361.380985</td>\n",
       "      <td>-3532.380985</td>\n",
       "    </tr>\n",
       "    <tr>\n",
       "      <th>3</th>\n",
       "      <td>79</td>\n",
       "      <td>21286</td>\n",
       "      <td>18874.708591</td>\n",
       "      <td>2411.291409</td>\n",
       "    </tr>\n",
       "    <tr>\n",
       "      <th>4</th>\n",
       "      <td>87</td>\n",
       "      <td>30985</td>\n",
       "      <td>30981.329439</td>\n",
       "      <td>3.670561</td>\n",
       "    </tr>\n",
       "    <tr>\n",
       "      <th>5</th>\n",
       "      <td>74</td>\n",
       "      <td>17187</td>\n",
       "      <td>11308.070561</td>\n",
       "      <td>5878.929439</td>\n",
       "    </tr>\n",
       "    <tr>\n",
       "      <th>6</th>\n",
       "      <td>86</td>\n",
       "      <td>30240</td>\n",
       "      <td>29468.001833</td>\n",
       "      <td>771.998167</td>\n",
       "    </tr>\n",
       "    <tr>\n",
       "      <th>7</th>\n",
       "      <td>92</td>\n",
       "      <td>37596</td>\n",
       "      <td>38547.967468</td>\n",
       "      <td>-951.967468</td>\n",
       "    </tr>\n",
       "    <tr>\n",
       "      <th>8</th>\n",
       "      <td>77</td>\n",
       "      <td>9610</td>\n",
       "      <td>15848.053379</td>\n",
       "      <td>-6238.053379</td>\n",
       "    </tr>\n",
       "    <tr>\n",
       "      <th>9</th>\n",
       "      <td>84</td>\n",
       "      <td>28742</td>\n",
       "      <td>26441.346621</td>\n",
       "      <td>2300.653379</td>\n",
       "    </tr>\n",
       "  </tbody>\n",
       "</table>\n",
       "</div>"
      ],
      "text/plain": [
       "   Temperature  Beers   Predicted y    Residuals\n",
       "0           80  20533  20388.036197   144.963803\n",
       "1           68   1439   2228.104926  -789.104926\n",
       "2           78  13829  17361.380985 -3532.380985\n",
       "3           79  21286  18874.708591  2411.291409\n",
       "4           87  30985  30981.329439     3.670561\n",
       "5           74  17187  11308.070561  5878.929439\n",
       "6           86  30240  29468.001833   771.998167\n",
       "7           92  37596  38547.967468  -951.967468\n",
       "8           77   9610  15848.053379 -6238.053379\n",
       "9           84  28742  26441.346621  2300.653379"
      ]
     },
     "metadata": {},
     "output_type": "display_data"
    },
    {
     "data": {
      "image/png": "[encoded data removed]",
      "text/plain": [
       "<Figure size 390x260 with 1 Axes>"
      ]
     },
     "metadata": {
      "needs_background": "light"
     },
     "output_type": "display_data"
    },
    {
     "name": "stdout",
     "output_type": "stream",
     "text": [
      "Outliers by SD = \n",
      "\n",
      "Series([], Name: SD, dtype: float64)\n",
      "\n",
      "There isnt any oulier.\n",
      "Influential Observations by hi = \n",
      "\n",
      "Series([], Name: hi, dtype: float64)\n",
      "\n",
      "There isn't any influential observation.\n"
     ]
    }
   ],
   "source": [
    "#參考價值低\n",
    "df16_5[\"Predicted y\"] = b0_1 + b1_1 * df16_5[\"Temperature\"]\n",
    "df16_5[\"Residuals\"] = df16_5[\"Beers\"] - df16_5[\"Predicted y\"] \n",
    "display(df16_5) #單變數預測，與尚未標準化的殘值\n",
    "_ = sns.regplot(x='Predicted y', y= 'Residuals', data = df16_5, color = 'b', ci = None)\n",
    "plt.title('Scatter Plot for Predicted y and Residuals')\n",
    "plt.xlabel('Predicted y')\n",
    "plt.ylabel('Residuals')\n",
    "plt.show()\n",
    "st5, data5, ss5 = sso.summary_table(df16_result1, alpha=0.05)\n",
    "SD5 = data5[:, 10]\n",
    "Outlier(SD5)\n",
    "Influential(df16_5[\"Temperature\"],df16_5[\"Beers\"])"
   ]
  },
  {
   "cell_type": "code",
   "execution_count": 54,
   "metadata": {},
   "outputs": [
    {
     "data": {
      "image/png": "[encoded data removed]",
      "text/plain": [
       "<Figure size 390x260 with 1 Axes>"
      ]
     },
     "metadata": {
      "needs_background": "light"
     },
     "output_type": "display_data"
    },
    {
     "name": "stdout",
     "output_type": "stream",
     "text": [
      "According to the scatter plot, it seems to be a little linear relationship between Yield and Fetilizer.\n"
     ]
    }
   ],
   "source": [
    "#完整的一次\n",
    "df16_133 = pd.read_excel('Xr16-133.xlsx')\n",
    "_ = sns.regplot(x='Fetilizer', y= 'Yield', data = df16_133, color = 'b', ci = None)\n",
    "plt.title('Scatter Plot for Fetilizer and Yield')\n",
    "plt.xlabel('Fetilizer')\n",
    "plt.ylabel('Yield')\n",
    "plt.show()\n",
    "print(\"According to the scatter plot, it seems to be a little linear relationship between Yield and Fetilizer.\")"
   ]
  },
  {
   "cell_type": "code",
   "execution_count": 55,
   "metadata": {},
   "outputs": [
    {
     "name": "stdout",
     "output_type": "stream",
     "text": [
      "                            OLS Regression Results                            \n",
      "==============================================================================\n",
      "Dep. Variable:                  Yield   R-squared:                       0.060\n",
      "Model:                            OLS   Adj. R-squared:                  0.026\n",
      "Method:                 Least Squares   F-statistic:                     1.772\n",
      "Date:                Sun, 29 May 2022   Prob (F-statistic):              0.194\n",
      "Time:                        22:24:18   Log-Likelihood:                -169.57\n",
      "No. Observations:                  30   AIC:                             343.1\n",
      "Df Residuals:                      28   BIC:                             345.9\n",
      "Df Model:                           1                                         \n",
      "Covariance Type:            nonrobust                                         \n",
      "==============================================================================\n",
      "                 coef    std err          t      P>|t|      [0.025      0.975]\n",
      "------------------------------------------------------------------------------\n",
      "Intercept    281.8000     30.561      9.221      0.000     219.199     344.401\n",
      "Fetilizer      0.1227      0.092      1.331      0.194      -0.066       0.311\n",
      "==============================================================================\n",
      "Omnibus:                        1.878   Durbin-Watson:                   1.700\n",
      "Prob(Omnibus):                  0.391   Jarque-Bera (JB):                1.708\n",
      "Skew:                          -0.528   Prob(JB):                        0.426\n",
      "Kurtosis:                       2.499   Cond. No.                         778.\n",
      "==============================================================================\n",
      "\n",
      "Notes:\n",
      "[1] Standard Errors assume that the covariance matrix of the errors is correctly specified.\n"
     ]
    }
   ],
   "source": [
    "df16_result3 = smf.ols('Yield~ Fetilizer', data=df16_133).fit()\n",
    "print(df16_result3.summary())"
   ]
  },
  {
   "cell_type": "code",
   "execution_count": 56,
   "metadata": {},
   "outputs": [
    {
     "name": "stdout",
     "output_type": "stream",
     "text": [
      "Estimated model: y = 281.8000 + 0.1227 x\n"
     ]
    }
   ],
   "source": [
    "b1_1 = df16_result3.params[1]\n",
    "b0_1 = df16_result3.params[0]\n",
    "print(\"Estimated model: y = %0.4f + %0.4f x\" % (b0_1, b1_1))"
   ]
  },
  {
   "cell_type": "markdown",
   "metadata": {},
   "source": [
    "Interpretation<br>\n",
    "The slope is .123, which tells us that for each additional unit of fertilizer, corn yield increases on average by .123. The y-intercept is 281.7, which has no real meaning.<br>\n",
    "H0: β1 = 0<br>\n",
    "H1: β1 != 0<br>\n",
    "According to the table. The pvalue is 0.194 > alpha = 0.05.<br>\n",
    "Thus, we cannot reject the null hypothesis at a significance level of 0.05.<br>\n",
    "There is no evidence of a linear relationship between Fertilizer and Yield.<br>\n",
    "r squared=0.06, 6% of the variation in corn yield is explained by the variation in amount of fertilizer.<br>\n",
    "The model is too poor to be used to predict. (原因合理即可，eg (c)R square太低、(b)非線性)"
   ]
  },
  {
   "cell_type": "code",
   "execution_count": 57,
   "metadata": {},
   "outputs": [
    {
     "name": "stdout",
     "output_type": "stream",
     "text": [
      "Normality test for errors using Shapiro Test\n",
      " - H0: Errors are normally distributed.\n",
      " - H1: Errors are not normally distributed.\n",
      "\n",
      "pvalue of Shapiro Test = 0.2068082094192505\n",
      "\n",
      "Since p-value > 0.05, we do not reject H0 and we may conclude errors are normally distributed.\n",
      "Homoscedasticity Test\n",
      " - H0: Homoscedasticity\n",
      " - H1: Heteroscedasticity\n",
      "\n"
     ]
    },
    {
     "data": {
      "image/png": "[encoded data removed]",
      "text/plain": [
       "<Figure size 390x260 with 1 Axes>"
      ]
     },
     "metadata": {
      "needs_background": "light"
     },
     "output_type": "display_data"
    },
    {
     "name": "stdout",
     "output_type": "stream",
     "text": [
      "Randomness Test using Runs Test\n",
      " - H0: Randomness exists.\n",
      " - H1: Randomness does not exist\n",
      "\n",
      "runs =  19\n",
      "n1 =  15\n",
      "n2 =  16\n",
      "Since both n1 and n2 < 20, we check the Run Test table.\n"
     ]
    }
   ],
   "source": [
    "#Residual analysis\n",
    "st133, data133, ss133 = sso.summary_table(df16_result3, alpha=0.05)\n",
    "SD133 = data133[:, 10]\n",
    "Normality(SD133)\n",
    "Homoscedasticity(data133, \"Fetilizer\") #測試肥料(x)有無隨著大小特定變化\n",
    "Randomness(SD133)"
   ]
  },
  {
   "cell_type": "markdown",
   "metadata": {},
   "source": [
    "After checking the Run Test table, we reject H0 if runs <= 10 or runs >=23.<br>\n",
    "Since 10 < runs = 19 < 23, we do not reject H0 and we may conclude Randomness exists."
   ]
  },
  {
   "cell_type": "markdown",
   "metadata": {},
   "source": [
    "# multiple "
   ]
  },
  {
   "cell_type": "markdown",
   "metadata": {},
   "source": [
    "1. Plot the scatter diagram\n",
    "2. Propose a statistical model\n",
    "3. Fit the model\n",
    "4. Regression Diagnostics (multicollinearity and autocorrelation)\n",
    "5. Residual analysis\n",
    "6. Assess the fitted model\n",
    "7. Interpretation\n",
    "8. Apply for prediction."
   ]
  },
  {
   "cell_type": "code",
   "execution_count": 58,
   "metadata": {},
   "outputs": [
    {
     "data": {
      "text/html": [
       "<div>\n",
       "<style scoped>\n",
       "    .dataframe tbody tr th:only-of-type {\n",
       "        vertical-align: middle;\n",
       "    }\n",
       "\n",
       "    .dataframe tbody tr th {\n",
       "        vertical-align: top;\n",
       "    }\n",
       "\n",
       "    .dataframe thead th {\n",
       "        text-align: right;\n",
       "    }\n",
       "</style>\n",
       "<table border=\"1\" class=\"dataframe\">\n",
       "  <thead>\n",
       "    <tr style=\"text-align: right;\">\n",
       "      <th></th>\n",
       "      <th>Price</th>\n",
       "      <th>Lot size</th>\n",
       "      <th>Trees</th>\n",
       "      <th>Distance</th>\n",
       "    </tr>\n",
       "  </thead>\n",
       "  <tbody>\n",
       "    <tr>\n",
       "      <th>0</th>\n",
       "      <td>105.4</td>\n",
       "      <td>41.2</td>\n",
       "      <td>24</td>\n",
       "      <td>42</td>\n",
       "    </tr>\n",
       "    <tr>\n",
       "      <th>1</th>\n",
       "      <td>91.2</td>\n",
       "      <td>44.8</td>\n",
       "      <td>5</td>\n",
       "      <td>71</td>\n",
       "    </tr>\n",
       "    <tr>\n",
       "      <th>2</th>\n",
       "      <td>183.3</td>\n",
       "      <td>21.3</td>\n",
       "      <td>72</td>\n",
       "      <td>43</td>\n",
       "    </tr>\n",
       "    <tr>\n",
       "      <th>3</th>\n",
       "      <td>93.8</td>\n",
       "      <td>43.9</td>\n",
       "      <td>58</td>\n",
       "      <td>14</td>\n",
       "    </tr>\n",
       "    <tr>\n",
       "      <th>4</th>\n",
       "      <td>207.5</td>\n",
       "      <td>57.7</td>\n",
       "      <td>52</td>\n",
       "      <td>12</td>\n",
       "    </tr>\n",
       "  </tbody>\n",
       "</table>\n",
       "</div>"
      ],
      "text/plain": [
       "   Price  Lot size  Trees  Distance\n",
       "0  105.4      41.2     24        42\n",
       "1   91.2      44.8      5        71\n",
       "2  183.3      21.3     72        43\n",
       "3   93.8      43.9     58        14\n",
       "4  207.5      57.7     52        12"
      ]
     },
     "metadata": {},
     "output_type": "display_data"
    }
   ],
   "source": [
    "df17_1 = pd.read_excel('Xr17-01.xlsx')\n",
    "display(df17_1.head())\n",
    "#Independent variable:\n",
    "#X1: Lot size\n",
    "#x2: Trees\n",
    "#x3: Distance\n",
    "#Dependent variable (y): Price"
   ]
  },
  {
   "cell_type": "code",
   "execution_count": 59,
   "metadata": {},
   "outputs": [
    {
     "data": {
      "image/png": "[encoded data removed]",
      "text/plain": [
       "<Figure size 390x260 with 1 Axes>"
      ]
     },
     "metadata": {
      "needs_background": "light"
     },
     "output_type": "display_data"
    },
    {
     "data": {
      "image/png": "[encoded data removed]",
      "text/plain": [
       "<Figure size 390x260 with 1 Axes>"
      ]
     },
     "metadata": {
      "needs_background": "light"
     },
     "output_type": "display_data"
    },
    {
     "data": {
      "image/png": "[encoded data removed]",
      "text/plain": [
       "<Figure size 390x260 with 1 Axes>"
      ]
     },
     "metadata": {
      "needs_background": "light"
     },
     "output_type": "display_data"
    },
    {
     "name": "stdout",
     "output_type": "stream",
     "text": [
      "According to the scatter plot, all independet variables seem to have linear relationship with Price.\n"
     ]
    },
    {
     "data": {
      "image/png": "[encoded data removed]",
      "text/plain": [
       "<Figure size 390x260 with 2 Axes>"
      ]
     },
     "metadata": {
      "needs_background": "light"
     },
     "output_type": "display_data"
    }
   ],
   "source": [
    "y_var = df17_1['Price'].values\n",
    "xnames = df17_1.columns[1:]\n",
    "for aname in xnames:\n",
    "    x_var = df17_1[aname].values\n",
    "    _ = sns.regplot(x = x_var, y = y_var, data = df17_1, color = 'b', ci = None)\n",
    "    plt.xlabel(aname)\n",
    "    plt.ylabel('Price')\n",
    "    plt.title('Scatter Plot for Price and ' +aname)\n",
    "    plt.show()\n",
    "print(\"According to the scatter plot, all independent variables seem to have linear relationship with Price.\")\n",
    "df17_1a = df17_1[df17_1.columns]\n",
    "corr1 = df17_1a.corr()\n",
    "_ = sns.heatmap(corr1, annot=True)"
   ]
  },
  {
   "cell_type": "code",
   "execution_count": 60,
   "metadata": {},
   "outputs": [
    {
     "name": "stdout",
     "output_type": "stream",
     "text": [
      "                            OLS Regression Results                            \n",
      "==============================================================================\n",
      "Dep. Variable:                  Price   R-squared:                       0.242\n",
      "Model:                            OLS   Adj. R-squared:                  0.202\n",
      "Method:                 Least Squares   F-statistic:                     5.975\n",
      "Date:                Sun, 29 May 2022   Prob (F-statistic):            0.00132\n",
      "Time:                        22:24:19   Log-Likelihood:                -304.76\n",
      "No. Observations:                  60   AIC:                             617.5\n",
      "Df Residuals:                      56   BIC:                             625.9\n",
      "Df Model:                           3                                         \n",
      "Covariance Type:            nonrobust                                         \n",
      "==============================================================================\n",
      "                 coef    std err          t      P>|t|      [0.025      0.975]\n",
      "------------------------------------------------------------------------------\n",
      "const         51.3912     23.517      2.185      0.033       4.282      98.500\n",
      "Lot size       0.6999      0.559      1.252      0.216      -0.420       1.819\n",
      "Trees          0.6788      0.229      2.960      0.004       0.219       1.138\n",
      "Distance      -0.3784      0.195     -1.938      0.058      -0.769       0.013\n",
      "==============================================================================\n",
      "Omnibus:                        3.807   Durbin-Watson:                   2.175\n",
      "Prob(Omnibus):                  0.149   Jarque-Bera (JB):                2.258\n",
      "Skew:                           0.245   Prob(JB):                        0.323\n",
      "Kurtosis:                       2.186   Cond. No.                         350.\n",
      "==============================================================================\n",
      "\n",
      "Notes:\n",
      "[1] Standard Errors assume that the covariance matrix of the errors is correctly specified.\n",
      "Estimated model: y = 51.3912 + 0.6999 x1 + 0.6788 x2 + -0.3784 x3\n",
      "standard error =  40.24352944532851\n",
      "r^2 =  0.24247188773540462\n",
      "adjusted r^2 =  0.20189002457837268\n"
     ]
    }
   ],
   "source": [
    "y_data = df17_1['Price']\n",
    "X_data_ar = np.array([df17_1['Lot size'], df17_1['Trees'], df17_1['Distance']])\n",
    "X_data_T = X_data_ar.T\n",
    "X_data = pd.DataFrame(X_data_T,columns = df17_1.columns[1:])\n",
    "X_data2 = sm.add_constant(X_data)\n",
    "olsmod = sm.OLS(y_data, X_data2)\n",
    "result_reg = olsmod.fit()\n",
    "print(result_reg.summary())\n",
    "b1_3 = result_reg.params[3]\n",
    "b1_2 = result_reg.params[2]\n",
    "b1_1 = result_reg.params[1]\n",
    "b0_1 = result_reg.params[0]\n",
    "print(\"Estimated model: y = %0.4f + %0.4f x1 + %0.4f x2 + %0.4f x3\" % (b0_1, b1_1, b1_2, b1_3))\n",
    "print(\"standard error = \", result_reg.mse_resid ** 0.5)#It is an estimate of the standard deviation of the error variable.\n",
    "r2 = result_reg.rsquared\n",
    "print(\"r^2 = \", r2)#24%能被解釋\n",
    "r2_adj = result_reg.rsquared_adj\n",
    "print(\"adjusted r^2 = \", r2_adj)#It differs because it includes an adjustment for the number of independent variables\n"
   ]
  },
  {
   "cell_type": "markdown",
   "metadata": {},
   "source": [
    "H0: beta_1 = beta_2 = beta_3 = 0<br>\n",
    "H1: At least one of the betas != 0<br>\n",
    "Since p-value for the F-test is 0.00132 < alpha = 0.05, we can reject H0.\n",
    "There is enough evidence to conclude that the model is valid.<br>\n",
    "#interpret:<br>\n",
    "b1 = .700; for each addition thousand square feet the price on average increases by .700 thousand dollars provided that the other variables remain constant.<br>\n",
    "b2 = .679; for each addition tree the price on average increases by .679 thousand dollars provided that the other variables remain constant.<br>\n",
    "b3 = –.378; for each addition foot from the lake the price on average decreases by .378 thousand dollars provided that the other variables remain constant.<br>\n",
    "**Test whether each of the independent variables is linearly related to the price of the lot in this model.**<br>\n",
    "H0: βi = 0 for i = 1, 2, 3<br>\n",
    "H1: βi ≠ 0 for i = 1, 2, 3<br>\n",
    "According to the OLS Regression Results Summary Table,<br>\n",
    "i = 1: pvalue of lot size = 0.216 > 0.05. We do not reject H0.<br>\n",
    "i = 2: pvalue of Trees = 0.004 < 0.05. We reject H0.<br>\n",
    "i = 3: pvalue of Distance = 0.058 > 0.05. We do not reject H0.<br>\n",
    "Thus, only for the number of trees is there enough evidence to infer a linear relationship with price."
   ]
  },
  {
   "cell_type": "code",
   "execution_count": 61,
   "metadata": {},
   "outputs": [
    {
     "name": "stdout",
     "output_type": "stream",
     "text": [
      "Predicted sell =  [35.49789014478607, 172.2401711730186] (thousand dollar)\n"
     ]
    }
   ],
   "source": [
    "#Predict with 90% confidence the selling price of a 40,000-square-foot lot that has 50 mature\n",
    "#trees and is 25 feet from the lake.\n",
    "x1 = [1,40,50,25]\n",
    "CI, PI = CI_PI_regression(X_data_ar, y_data, x1, 0.1)\n",
    "print(\"Predicted sell = \", PI, \"(thousand dollar)\") #問CI則改CI"
   ]
  },
  {
   "cell_type": "markdown",
   "metadata": {},
   "source": [
    "### Residual analysis"
   ]
  },
  {
   "cell_type": "code",
   "execution_count": 62,
   "metadata": {},
   "outputs": [
    {
     "name": "stdout",
     "output_type": "stream",
     "text": [
      "Normality test for errors using Shapiro Test\n",
      " - H0: Errors are normally distributed.\n",
      " - H1: Errors are not normally distributed.\n",
      "\n",
      "pvalue of Shapiro Test = 0.14052797853946686\n",
      "\n",
      "Since p-value > 0.05, we do not reject H0 and we may conclude errors are normally distributed.\n",
      "Homoscedasticity Test\n",
      " - H0: Homoscedasticity\n",
      " - H1: Heteroscedasticity\n",
      "\n"
     ]
    },
    {
     "data": {
      "image/png": "[encoded data removed]",
      "text/plain": [
       "<Figure size 390x260 with 1 Axes>"
      ]
     },
     "metadata": {
      "needs_background": "light"
     },
     "output_type": "display_data"
    },
    {
     "name": "stdout",
     "output_type": "stream",
     "text": [
      "We do not reject H0. We can assume the variation is constant and the mean is around 0.\n",
      "Randomness Test using Runs Test\n",
      " - H0: Randomness exists.\n",
      " - H1: Randomness does not exist\n",
      "\n",
      "runs =  29\n",
      "n1 =  31\n",
      "n2 =  30\n",
      "\n",
      "runs_exp =  31.491803278688526\n",
      "stan_dev =  3.8713870552803846\n",
      "z =  -0.6436461255636597\n",
      "pval_z =  0.5198049325468987\n",
      "\n",
      "Since p-value > 0.05, we do not reject H0 and we may conclude randomness exists.\n",
      "Outliers by SD = \n",
      "\n",
      "2    2.227621\n",
      "4    2.238522\n",
      "Name: SD, dtype: float64\n",
      "\n",
      "Sample [3, 5] are outliers.\n",
      "Method 1:\n",
      "h_level =  0.2\n",
      "Influential Observations by hi = \n",
      "Series([], Name: hii, dtype: float64)\n",
      "\n",
      "Method 2:\n",
      "Influential Observations by Cook's Distances = \n",
      "Series([], Name: CD, dtype: float64)\n"
     ]
    }
   ],
   "source": [
    "st, data, ss2 = sso.summary_table(result_reg, alpha=0.05)\n",
    "y_pre = data[:, 2]\n",
    "SD = data[:, 10]\n",
    "Normality(SD)\n",
    "Homoscedasticity(data,\"predicted y value\") #後面是xlabel隨便打\n",
    "print(\"We do not reject H0. We can assume the variation is constant and the mean is around 0.\")\n",
    "Randomness(SD)\n",
    "Outlier(SD)\n",
    "#influ比較麻煩\n",
    "print(\"Method 1:\")\n",
    "X_data2 = np.array(X_data2)\n",
    "H = np.matmul(X_data2, np.linalg.solve(np.matmul(X_data2.T, X_data2), X_data2.T))\n",
    "df17_1['hii'] = np.diagonal(H)\n",
    "df_h = pd.DataFrame(df17_1['hii'])\n",
    "k = result_reg.df_model\n",
    "n = len(df_h['hii'])\n",
    "h_level = 3 * (k+1) / n \n",
    "print(\"h_level = \", h_level)\n",
    "filter = (df_h['hii'] > h_level )\n",
    "print(\"Influential Observations by hi = \")\n",
    "print(df_h['hii'].loc[filter])\n",
    "\n",
    "print(\"\\nMethod 2:\")\n",
    "s2_e = result_reg.mse_resid\n",
    "k = result_reg.df_model\n",
    "y_a = data[:, 1]\n",
    "y_f = data[:, 2]\n",
    "h_i = df17_1['hii']\n",
    "CD_arr = np.square(y_a - y_f) / s2_e / (k - 1) * h_i / np.square(1 - h_i)\n",
    "CD = np.array(CD_arr)\n",
    "df_cd = pd.DataFrame(CD,columns = ['CD'])\n",
    "# display(df_cd.head())\n",
    "filter = (df_cd['CD'] > 1 )\n",
    "print(\"Influential Observations by Cook's Distances = \")\n",
    "print(df_cd['CD'].loc[filter])"
   ]
  },
  {
   "cell_type": "code",
   "execution_count": 64,
   "metadata": {},
   "outputs": [],
   "source": [
    "# multicollinearity :\n",
    "# 1.變數間相關係數有無超過0.7\n",
    "# 2.若Ｆ拒絕卻無任何一係數之Ｔ能拒絕\n",
    "# 3.coefficient正負號"
   ]
  },
  {
   "cell_type": "markdown",
   "metadata": {},
   "source": [
    "### regression diagnostics\n",
    "#multicollinearity<br>\n",
    "There is no correlation between variables bigger than 0.7 or smaller than -0.7.<br>\n",
    "The outcome of F-test and t-test are consistent.<br>\n",
    "The signs of the variable coefficients in the model are same as the correlation coefficients in heatmap.<br>\n",
    "Therefore, multicollinearity doesn't exist.<br>\n",
    "#Autocorreltaion<br>\n",
    "H0: The data are not first-order correlated<br>\n",
    "H1: The data are first-order correlated"
   ]
  },
  {
   "cell_type": "code",
   "execution_count": 65,
   "metadata": {},
   "outputs": [
    {
     "name": "stdout",
     "output_type": "stream",
     "text": [
      "x_square_sum =  60.38903386965764\n",
      "size =  60\n",
      "x_d =  [0. 0. 0. 0. 0. 0. 0. 0. 0. 0. 0. 0. 0. 0. 0. 0. 0. 0. 0. 0. 0. 0. 0. 0.\n",
      " 0. 0. 0. 0. 0. 0. 0. 0. 0. 0. 0. 0. 0. 0. 0. 0. 0. 0. 0. 0. 0. 0. 0. 0.\n",
      " 0. 0. 0. 0. 0. 0. 0. 0. 0. 0. 0. 0.]\n",
      "x_d =  [ 0.          0.21681114  1.38392769 -2.79995485  2.81085547 -1.90028362\n",
      "  1.2898011  -3.37066134  1.63935944 -1.19231335  0.37848942  0.09271198\n",
      "  1.15158396  0.65913125 -1.4549664   0.43194036 -0.78540052  0.92524969\n",
      "  0.60184696 -0.50422216  0.82231958 -0.96715857 -0.22734985 -1.00176246\n",
      "  0.70935147  1.41420182  0.29749328 -2.642224    2.47192084 -1.95816729\n",
      "  0.84323978 -1.22684923  1.60330381 -0.09030467  0.66873659 -0.5667618\n",
      " -1.41310771  1.63875129 -1.41039343 -0.15840714 -0.64014695  1.4871501\n",
      " -0.04321562  0.5480084  -1.57136746  0.28985031  2.01473851 -1.55956789\n",
      "  0.70686754  1.59423674 -2.40441221  0.66563424 -1.08613913  1.77225212\n",
      " -1.94995537 -0.23565564  2.13612725  0.91108422 -2.94849982  2.83701611]\n",
      "d =  2.1650567787398325\n",
      "2.1650567787398325\n"
     ]
    }
   ],
   "source": [
    "d_w = Durbin_Watson_test(SD)\n",
    "print(d_w)\n",
    "#此題三個x變因，k=4, T=標本數=60去查，5%的一半為2.5%的表因為是two-tail test"
   ]
  },
  {
   "cell_type": "markdown",
   "metadata": {},
   "source": [
    "dL=1.4035, dU=1.6104<br>\n",
    "Because 2 < 2.165056778739832 < 2.3896 = 4-1.6104, there is not enough evidence to infer that first order auto-correlation exists"
   ]
  },
  {
   "cell_type": "markdown",
   "metadata": {},
   "source": [
    "# autocorrelation的要如何重做"
   ]
  },
  {
   "cell_type": "code",
   "execution_count": 71,
   "metadata": {},
   "outputs": [
    {
     "name": "stdout",
     "output_type": "stream",
     "text": [
      "                            OLS Regression Results                            \n",
      "==============================================================================\n",
      "Dep. Variable:                      Y   R-squared:                       0.282\n",
      "Model:                            OLS   Adj. R-squared:                  0.268\n",
      "Method:                 Least Squares   F-statistic:                     19.09\n",
      "Date:                Sun, 29 May 2022   Prob (F-statistic):           1.02e-07\n",
      "Time:                        22:40:15   Log-Likelihood:                -725.80\n",
      "No. Observations:                 100   AIC:                             1458.\n",
      "Df Residuals:                      97   BIC:                             1465.\n",
      "Df Model:                           2                                         \n",
      "Covariance Type:            nonrobust                                         \n",
      "==============================================================================\n",
      "                 coef    std err          t      P>|t|      [0.025      0.975]\n",
      "------------------------------------------------------------------------------\n",
      "Intercept    303.2529    212.868      1.425      0.157    -119.230     725.736\n",
      "X1            14.9430     11.416      1.309      0.194      -7.714      37.600\n",
      "X2            10.5211      1.714      6.137      0.000       7.119      13.923\n",
      "==============================================================================\n",
      "Omnibus:                        1.520   Durbin-Watson:                   0.775\n",
      "Prob(Omnibus):                  0.468   Jarque-Bera (JB):                1.576\n",
      "Skew:                          -0.254   Prob(JB):                        0.455\n",
      "Kurtosis:                       2.652   Cond. No.                         409.\n",
      "==============================================================================\n",
      "\n",
      "Notes:\n",
      "[1] Standard Errors assume that the covariance matrix of the errors is correctly specified.\n"
     ]
    },
    {
     "data": {
      "image/png": "[encoded data removed]",
      "text/plain": [
       "<Figure size 390x260 with 1 Axes>"
      ]
     },
     "metadata": {
      "needs_background": "light"
     },
     "output_type": "display_data"
    },
    {
     "name": "stdout",
     "output_type": "stream",
     "text": [
      "By the graph above, autocorrelation seem to exist.\n"
     ]
    }
   ],
   "source": [
    "df = pd.read_excel('Xr17-53.xlsx')\n",
    "result_reg = smf.ols('Y~ X1 + X2', data=df).fit()\n",
    "print(result.summary())\n",
    "b2_1 = result_reg.params[2]\n",
    "b1_1 = result_reg.params[1]\n",
    "b0_1 = result_reg.params[0]\n",
    "corr = df.corr()\n",
    "st, data, ss2 = sso.summary_table(result_reg, alpha=0.1)\n",
    "y_pre = data[:, 2]\n",
    "SD = data[:, 10]\n",
    "plt.plot(df.index, data[:, 8], 'o', color = 'gray')\n",
    "plt.title('Residual v.s. Time Plot')\n",
    "plt.axhline(y=0, color = 'blue')\n",
    "plt.xlabel('Time')\n",
    "plt.ylabel('Residual')\n",
    "plt.show()\n",
    "print(\"By the graph above, autocorrelation seem to exist.\")"
   ]
  },
  {
   "cell_type": "code",
   "execution_count": 9,
   "metadata": {},
   "outputs": [
    {
     "data": {
      "image/png": "[encoded data removed]",
      "text/plain": [
       "<Figure size 390x260 with 1 Axes>"
      ]
     },
     "metadata": {
      "needs_background": "light"
     },
     "output_type": "display_data"
    },
    {
     "data": {
      "image/png": "[encoded data removed]",
      "text/plain": [
       "<Figure size 390x260 with 1 Axes>"
      ]
     },
     "metadata": {
      "needs_background": "light"
     },
     "output_type": "display_data"
    },
    {
     "data": {
      "image/png": "[encoded data removed]",
      "text/plain": [
       "<Figure size 390x260 with 1 Axes>"
      ]
     },
     "metadata": {
      "needs_background": "light"
     },
     "output_type": "display_data"
    }
   ],
   "source": [
    "#重做版本 全過程都有\n",
    "df = pd.read_excel('Xr17-53.xlsx')\n",
    "df['Period']=df.index\n",
    "_ = sns.regplot(x='X1', y= 'Y', data = df, color = 'b', ci = None)\n",
    "plt.title('Scatter Plot for X1 and Y')\n",
    "plt.xlabel('X1')\n",
    "plt.ylabel('Y')\n",
    "plt.show()\n",
    "_ = sns.regplot(x='X2', y= 'Y', data = df, color = 'b', ci = None)\n",
    "plt.title('Scatter Plot for X2 and Y')\n",
    "plt.xlabel('X2')\n",
    "plt.ylabel('Y')\n",
    "plt.show()\n",
    "_ = sns.regplot(x='Period', y= 'Y', data = df, color = 'b', ci = None)\n",
    "plt.title('Scatter Plot for Time Period and Y')\n",
    "plt.xlabel('Time Period')\n",
    "plt.ylabel('Y')\n",
    "plt.show()"
   ]
  },
  {
   "cell_type": "markdown",
   "metadata": {},
   "source": [
    "According to the scatter plot, we can see that there are linear relationships between X1 and Y, X2 and Y, and Period and Y.\n",
    "Thus, we can apply Multiple linear regression with OLS.<br>\n",
    "Propose a statistical model: y=b0+b1*x1+b2*x2+b3*period+e<br>"
   ]
  },
  {
   "cell_type": "code",
   "execution_count": 10,
   "metadata": {},
   "outputs": [
    {
     "name": "stdout",
     "output_type": "stream",
     "text": [
      "                            OLS Regression Results                            \n",
      "==============================================================================\n",
      "Dep. Variable:                      Y   R-squared:                       0.747\n",
      "Model:                            OLS   Adj. R-squared:                  0.739\n",
      "Method:                 Least Squares   F-statistic:                     94.55\n",
      "Date:                Sun, 29 May 2022   Prob (F-statistic):           1.49e-28\n",
      "Time:                        22:53:26   Log-Likelihood:                -673.65\n",
      "No. Observations:                 100   AIC:                             1355.\n",
      "Df Residuals:                      96   BIC:                             1366.\n",
      "Df Model:                           3                                         \n",
      "Covariance Type:            nonrobust                                         \n",
      "==============================================================================\n",
      "                 coef    std err          t      P>|t|      [0.025      0.975]\n",
      "------------------------------------------------------------------------------\n",
      "const         19.6437    128.803      0.153      0.879    -236.029     275.317\n",
      "X1             6.7805      6.840      0.991      0.324      -6.796      20.357\n",
      "X2             9.3716      1.027      9.129      0.000       7.334      11.409\n",
      "Period         9.6413      0.726     13.282      0.000       8.200      11.082\n",
      "==============================================================================\n",
      "Omnibus:                        7.849   Durbin-Watson:                   2.124\n",
      "Prob(Omnibus):                  0.020   Jarque-Bera (JB):                7.407\n",
      "Skew:                          -0.606   Prob(JB):                       0.0246\n",
      "Kurtosis:                       3.554   Cond. No.                         524.\n",
      "==============================================================================\n",
      "\n",
      "Notes:\n",
      "[1] Standard Errors assume that the covariance matrix of the errors is correctly specified.\n"
     ]
    }
   ],
   "source": [
    "y = df['Y']\n",
    "X_ar = np.array([df['X1'], df['X2'], df['Period']])\n",
    "X_T =X_ar.T\n",
    "xnames = ['X1', 'X2', 'Period']\n",
    "X = pd.DataFrame(X_T,columns = xnames)\n",
    "X = sm.add_constant(X)\n",
    "olsmod = sm.OLS(y, X)\n",
    "result_reg = olsmod.fit()\n",
    "print(result_reg.summary())"
   ]
  },
  {
   "cell_type": "markdown",
   "metadata": {},
   "source": [
    "### regression diagnostics\n",
    "#### multicollinearity"
   ]
  },
  {
   "cell_type": "code",
   "execution_count": 11,
   "metadata": {},
   "outputs": [
    {
     "data": {
      "image/png": "[encoded data removed]",
      "text/plain": [
       "<Figure size 390x260 with 2 Axes>"
      ]
     },
     "metadata": {
      "needs_background": "light"
     },
     "output_type": "display_data"
    }
   ],
   "source": [
    "corr = df.corr()\n",
    "_ = sns.heatmap(corr, annot=True)"
   ]
  },
  {
   "cell_type": "markdown",
   "metadata": {},
   "source": [
    "There is no correlation between variables bigger than 0.7 or smaller than -0.7.\n",
    "The outcome of F-test and t-test are consistent.\n",
    "The signs of the variable coefficients in the model are same as the correlation coefficients in heatmap.\n",
    "Therefore, multicollinearity doesn't exist.<br>\n",
    "#### Autocorreltaion\n",
    "H0: The data are not first-order correlated<br>\n",
    "H1: The data are first-order correlated"
   ]
  },
  {
   "cell_type": "code",
   "execution_count": 12,
   "metadata": {},
   "outputs": [
    {
     "name": "stdout",
     "output_type": "stream",
     "text": [
      "x_square_sum =  99.97386328649371\n",
      "size =  100\n",
      "x_d =  [0. 0. 0. 0. 0. 0. 0. 0. 0. 0. 0. 0. 0. 0. 0. 0. 0. 0. 0. 0. 0. 0. 0. 0.\n",
      " 0. 0. 0. 0. 0. 0. 0. 0. 0. 0. 0. 0. 0. 0. 0. 0. 0. 0. 0. 0. 0. 0. 0. 0.\n",
      " 0. 0. 0. 0. 0. 0. 0. 0. 0. 0. 0. 0. 0. 0. 0. 0. 0. 0. 0. 0. 0. 0. 0. 0.\n",
      " 0. 0. 0. 0. 0. 0. 0. 0. 0. 0. 0. 0. 0. 0. 0. 0. 0. 0. 0. 0. 0. 0. 0. 0.\n",
      " 0. 0. 0. 0.]\n",
      "x_d =  [ 0.         -0.00724353 -1.58622858  0.18007596  1.13208962 -2.17419147\n",
      "  2.18447088 -3.1726906   3.62055431 -1.23477932 -0.79294612  0.71979368\n",
      " -0.65915185  0.92523052 -2.41506929  1.82595681 -1.71857721  1.88217469\n",
      "  0.14803548 -0.59490872  1.29695234 -1.97451107  1.25770206 -0.62309347\n",
      "  1.0647745  -0.07750362  1.53506758 -2.0044474   1.1030932   0.09291912\n",
      " -1.92787558  1.41686448  0.04064547 -3.57670407  2.98566529  0.25810382\n",
      " -0.00785933  1.23275654  0.39423397 -3.38068369  1.37583504  1.10126275\n",
      " -0.36137125  0.11313661 -1.7383296   0.67407832 -0.70269912  2.8969867\n",
      " -0.75306104 -1.10902891 -1.11456341 -0.65267994  1.90838759  0.99972929\n",
      " -1.44259277  0.53280093 -0.54793289 -0.74906956  0.35053854  2.31088789\n",
      " -2.62718009  1.61107916 -0.71589823  0.05590288  0.52473801 -0.33819744\n",
      " -0.74717963  0.46959104 -0.11803036  0.3058964   0.25268628 -0.67326278\n",
      " -0.4730223   1.00399404  0.40804825 -0.98275348  0.40838355  0.13448358\n",
      " -1.38730992  1.46445186  0.57009018 -1.3672688   1.73178804 -0.40860843\n",
      " -1.21198403 -1.72295953  3.15908122 -1.0817966  -0.05716449 -0.32082629\n",
      " -2.54735557  3.53038765  0.60555434  0.13602741 -0.12654697 -0.32355253\n",
      " -2.35190975  1.43492437  0.42101563 -0.15648815]\n",
      "d =  2.1259112181628956\n",
      "2.1259112181628956\n"
     ]
    }
   ],
   "source": [
    "st, data, ss2 = sso.summary_table(result_reg, alpha=0.1) #注意此題的alpha=0.1\n",
    "y_pre = data[:, 2]\n",
    "SD = data[:, 10]\n",
    "d_w = Durbin_Watson_test(SD)\n",
    "print(d_w)"
   ]
  },
  {
   "cell_type": "markdown",
   "metadata": {},
   "source": [
    "dL=1.613, dU=1.736<br>\n",
    "Because 2 < 2.1259112181628956 < 2.264 = 4-dU, there is not enough evidence to infer that first order autocorrelation exists."
   ]
  },
  {
   "cell_type": "code",
   "execution_count": 15,
   "metadata": {},
   "outputs": [
    {
     "data": {
      "image/png": "[encoded data removed]",
      "text/plain": [
       "<Figure size 390x260 with 1 Axes>"
      ]
     },
     "metadata": {
      "needs_background": "light"
     },
     "output_type": "display_data"
    },
    {
     "name": "stdout",
     "output_type": "stream",
     "text": [
      "Normality test for errors using Shapiro Test\n",
      " - H0: Errors are normally distributed.\n",
      " - H1: Errors are not normally distributed.\n",
      "\n",
      "pvalue of Shapiro Test = 0.025478344410657883\n",
      "\n",
      "Since p-value < 0.05, we reject H0 and conclude errors are not normally distributed.\n",
      "Homoscedasticity Test\n",
      " - H0: Homoscedasticity\n",
      " - H1: Heteroscedasticity\n",
      "\n"
     ]
    },
    {
     "data": {
      "image/png": "[encoded data removed]",
      "text/plain": [
       "<Figure size 390x260 with 1 Axes>"
      ]
     },
     "metadata": {
      "needs_background": "light"
     },
     "output_type": "display_data"
    },
    {
     "name": "stdout",
     "output_type": "stream",
     "text": [
      "We do not reject H0. We can assume the variation is constant and the mean is around 0.\n",
      "Randomness Test using Runs Test\n",
      " - H0: Randomness exists.\n",
      " - H1: Randomness does not exist\n",
      "\n",
      "runs =  51\n",
      "n1 =  51\n",
      "n2 =  50\n",
      "\n",
      "runs_exp =  51.495049504950494\n",
      "stan_dev =  4.999254919487954\n",
      "z =  -0.09902465725856582\n",
      "pval_z =  0.9211186926579791\n",
      "\n",
      "Since p-value > 0.05, we do not reject H0 and we may conclude randomness exists.\n",
      "Outliers by SD = \n",
      "\n",
      "7    -2.252888\n",
      "14   -2.089256\n",
      "33   -2.922691\n",
      "85   -2.180681\n",
      "90   -3.028743\n",
      "Name: SD, dtype: float64\n",
      "\n",
      "Sample [8, 15, 34, 86, 91] are outliers.\n",
      "Method 1:\n",
      "h_level =  0.12\n",
      "Influential Observations by hi = \n",
      "Series([], Name: hii, dtype: float64)\n",
      "Autal ID:  Int64Index([], dtype='int64')\n",
      "\n",
      "Method 2:\n",
      "Influential Observations by Cook's Distances = \n",
      "Series([], Name: CD, dtype: float64)\n"
     ]
    }
   ],
   "source": [
    "fig, ax = plt.subplots()\n",
    "counts, bins, patches = plt.hist(SD, 8, density=False, facecolor='g', alpha=0.75)\n",
    "plt.xlabel('Standardized Residuals')\n",
    "plt.ylabel('Frequency')\n",
    "plt.title('Histogram of Standardized Residuals')\n",
    "plt.grid(True)\n",
    "bin_centers = [np.mean(k_1) for k_1 in zip(bins[:-1], bins[1:])]\n",
    "plt.show()\n",
    "\n",
    "Normality(SD)\n",
    "Homoscedasticity(data,\"predicted y value\") #後面是xlabel隨便打\n",
    "print(\"We do not reject H0. We can assume the variation is constant and the mean is around 0.\")\n",
    "Randomness(SD)\n",
    "Outlier(SD)\n",
    "#influ比較麻煩\n",
    "print(\"Method 1:\")\n",
    "X = np.array(X)\n",
    "H = np.matmul(X, np.linalg.solve(np.matmul(X.T, X), X.T))\n",
    "df['hii'] = np.diagonal(H)\n",
    "df_h = pd.DataFrame(df['hii'])\n",
    "k = result_reg.df_model\n",
    "n = len(df_h['hii'])\n",
    "h_level = 3 * (k+1) / n \n",
    "print(\"h_level = \", h_level)\n",
    "filter = (df_h['hii'] > h_level )\n",
    "print(\"Influential Observations by hi = \")\n",
    "print(df_h['hii'].loc[filter])\n",
    "print(\"Autal ID: \",df_h['hii'].loc[filter].index+1)\n",
    "\n",
    "print(\"\\nMethod 2:\")\n",
    "s2_e = result_reg.mse_resid\n",
    "k = result_reg.df_model\n",
    "y_a = data[:, 1]\n",
    "y_f = data[:, 2]\n",
    "h_i = df['hii']\n",
    "CD_arr = np.square(y_a - y_f) / s2_e / (k - 1) * h_i / np.square(1 - h_i)\n",
    "CD = np.array(CD_arr)\n",
    "df_cd = pd.DataFrame(CD,columns = ['CD'])\n",
    "filter = (df_cd['CD'] > 1 )\n",
    "print(\"Influential Observations by Cook's Distances = \")\n",
    "print(df_cd['CD'].loc[filter])"
   ]
  },
  {
   "cell_type": "markdown",
   "metadata": {},
   "source": [
    "### Assess the fitted model\n",
    "#### Standard Error of Estimate"
   ]
  },
  {
   "cell_type": "code",
   "execution_count": 17,
   "metadata": {},
   "outputs": [
    {
     "name": "stdout",
     "output_type": "stream",
     "text": [
      "standard error =  208.08604426846517\n",
      "mean of y = 1180.25\n",
      "std of y = 407.4925140292751\n"
     ]
    }
   ],
   "source": [
    "print(\"standard error = \", result_reg.mse_resid ** 0.5)\n",
    "print(\"mean of y =\", df['Y'].mean())\n",
    "print(\"std of y =\", df['Y'].std())"
   ]
  },
  {
   "cell_type": "markdown",
   "metadata": {},
   "source": [
    "SE appears to be relatively “small” (compared to 1180.25), hence the regression model is “good”.<br>\n",
    "#### R and R_Squared\n",
    "From the output table above, we can get r2 = 0.747. 74.7% of the variation in Y is explained by this regression line of the three independent variables and 25.3% remains unexplained.<br>\n",
    "Besides, ra2 = 0.739 is very close to 0.747, which indicating that the model has not problem of over-fitting.<br>\n",
    "#### F-test\n",
    "H0: β_1 = β_2 = β_3 = 0<br>\n",
    "H1: At least one of the parameters is not equal to zero.<br>\n",
    "the p-value for F-test is smaller than alpha=0.05, so we can reject H0. At least one β_i is not equal to zero, the model has some validity.<br>\n",
    "#### Testing of the Coefficients\n",
    "H0: β_i=0<br>\n",
    "H1: β_i≠0<br>\n",
    "From the output table above, p-value of β2 and p-value of β3 are smaller than 0.05, so we can reject H0.\n",
    "Therefore, we can infer that X2 and time period are linearly related to Y.\n",
    "### Interpretation\n",
    "Model: y = 19.6437 + X1 6.7805 + X2 9.3716 + Period * 9.6413<br>\n",
    "b0=19.6437: This is the intercept, the value of y when all the variables take the value zero. Since the data range of all the independent variables do not cover the value zero, do not interpret the intercept.<br>\n",
    "b1=6.7805: In this model, for each additional X1, Y would increase 6.7805. (assuming the other variables are held constant).<br>\n",
    "b2=9.3716: In this model, for each additional X2, Y would increase 9.3716. (assuming the other variables are held constant).<Br>\n",
    "b3=9.6413: In this model, for each additional time period, Y would decrease 9.6413.(assuming the other variables are held constant)."
   ]
  }
 ],
 "metadata": {
  "kernelspec": {
   "display_name": "Python 3",
   "language": "python",
   "name": "python3"
  },
  "language_info": {
   "codemirror_mode": {
    "name": "ipython",
    "version": 3
   },
   "file_extension": ".py",
   "mimetype": "text/x-python",
   "name": "python",
   "nbconvert_exporter": "python",
   "pygments_lexer": "ipython3",
   "version": "3.8.5"
  }
 },
 "nbformat": 4,
 "nbformat_minor": 4
}
