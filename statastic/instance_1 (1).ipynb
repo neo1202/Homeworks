{
 "cells": [
  {
   "cell_type": "markdown",
   "metadata": {
    "id": "6TpPdTG3ri9f"
   },
   "source": [
    "# instance 1"
   ]
  },
  {
   "cell_type": "code",
   "execution_count": 2,
   "metadata": {
    "colab": {
     "base_uri": "https://localhost:8080/",
     "height": 404
    },
    "id": "ZrxKuyeLKWgr",
    "outputId": "bbdc98af-8812-4546-a96f-c4d6726c11b9"
   },
   "outputs": [
    {
     "data": {
      "image/png": "[encoded data removed]",
      "text/plain": [
       "<Figure size 600x400 with 1 Axes>"
      ]
     },
     "metadata": {
      "needs_background": "light"
     },
     "output_type": "display_data"
    }
   ],
   "source": [
    "# Importing the matplotlib.pyplot\n",
    "import matplotlib.pyplot as plt\n",
    "plt.rcParams[\"figure.dpi\"] = 100\n",
    "# Declaring a figure \"gnt\"\n",
    "fig, gnt = plt.subplots()\n",
    " \n",
    "# Setting Y-axis limits\n",
    "gnt.set_ylim(0, 70)\n",
    " \n",
    "# Setting X-axis limits\n",
    "gnt.set_xlim(0, 160)\n",
    " \n",
    "# Setting labels for x-axis and y-axis\n",
    "gnt.set_xlabel('time')\n",
    "gnt.set_ylabel('Machine')\n",
    " \n",
    "# Setting ticks on y-axis\n",
    "gnt.set_yticks([15, 25, 35, 45 ,55])\n",
    "# Labelling tickes of y-axis\n",
    "gnt.set_yticklabels(['5', '4', '3', '2', '1'])\n",
    "gnt.set_xticklabels(['', '08:00', '10:00', '12:00', '14:00', '16:00', '18:00', '20:00'])\n",
    "# Setting graph attribute\n",
    "gnt.grid(True)\n",
    " \n",
    "# Machine 1\n",
    "#gnt.broken_barh([(15, 12.5)], (50, 9), facecolors =('tab:orange'))#(start,length)(y,width)\n",
    " \n",
    "# Machine 2\n",
    "gnt.broken_barh([(15, 25)], (40, 9),facecolors ='orange')\n",
    "gnt.broken_barh([(40, 12)], (40, 9),facecolors ='crimson')\n",
    "gnt.broken_barh([(52, 40)], (40, 9),facecolors ='lightpink')\n",
    "# Machine 3\n",
    "gnt.broken_barh([(15,30)], (30, 9),facecolors =('darkblue'))\n",
    "gnt.broken_barh([(45,44)], (30, 9),facecolors =('slateblue'))\n",
    "# Machine 4\n",
    "gnt.broken_barh([(15, 34)], (20, 9),facecolors =('seagreen'))\n",
    "gnt.broken_barh([(49, 22)], (20, 9),facecolors =('springgreen'))\n",
    "gnt.broken_barh([(71, 20)], (20, 9),facecolors =('darkturquoise'))\n",
    "# Machine 5\n",
    "gnt.broken_barh([(15, 18)], (10, 9),facecolors =('purple'))\n",
    "gnt.broken_barh([(33, 26)], (10, 9),facecolors =('darkviolet'))\n",
    "gnt.broken_barh([(59, 15)], (10, 9),facecolors =('plum'))\n",
    "gnt.broken_barh([(74, 15)], (10, 9),facecolors =('hotpink'))\n",
    "plt.savefig(\"gantt1.png\")\n",
    "plt.title(\"instance1--problem1\")\n",
    "plt.show()\n",
    "## 6 4 1\n",
    "## 2 11\n",
    "## 7 8 12\n",
    "## 5 3 10 9"
   ]
  },
  {
   "cell_type": "code",
   "execution_count": 9,
   "metadata": {
    "colab": {
     "base_uri": "https://localhost:8080/",
     "height": 404
    },
    "id": "Re5S_FZKfq-u",
    "outputId": "0586734e-77c7-433b-d618-d5c3cf9fe130"
   },
   "outputs": [
    {
     "data": {
      "image/png": "[encoded data removed]",
      "text/plain": [
       "<Figure size 600x400 with 1 Axes>"
      ]
     },
     "metadata": {
      "needs_background": "light"
     },
     "output_type": "display_data"
    }
   ],
   "source": [
    "# Importing the matplotlib.pyplot\n",
    "import matplotlib.pyplot as plt\n",
    "plt.rcParams[\"figure.dpi\"] = 100\n",
    "# Declaring a figure \"gnt\"\n",
    "fig, gnt = plt.subplots()\n",
    " \n",
    "# Setting Y-axis limits\n",
    "gnt.set_ylim(0, 70)\n",
    " \n",
    "# Setting X-axis limits\n",
    "gnt.set_xlim(0, 160)\n",
    " \n",
    "# Setting labels for x-axis and y-axis\n",
    "gnt.set_xlabel('time')\n",
    "gnt.set_ylabel('Machine')\n",
    " \n",
    "# Setting ticks on y-axis\n",
    "gnt.set_yticks([15, 25, 35, 45 ,55])\n",
    "# Labelling tickes of y-axis\n",
    "gnt.set_yticklabels(['5', '4', '3', '2', '1'])\n",
    "gnt.set_xticklabels(['', '08:00', '10:00', '12:00', '14:00', '16:00', '18:00', '20:00'])\n",
    "# Setting graph attribute\n",
    "gnt.grid(True)\n",
    " \n",
    "# Machine 1\n",
    "#gnt.broken_barh([(15, 12.5)], (50, 9), facecolors =('tab:orange'))#(start,length)(y,width)\n",
    " \n",
    "# Machine 2\n",
    "gnt.broken_barh([(15, 8)], (40, 9),facecolors ='orange') #5\n",
    "gnt.broken_barh([(23, 27)], (40, 9),facecolors ='crimson')  #1\n",
    "gnt.broken_barh([(50, 30)], (40, 9),facecolors ='lightpink')  #11\n",
    "gnt.broken_barh([(80, 11)], (40, 9),facecolors ='violet')  #20(8)\n",
    "# Machine 3\n",
    "gnt.broken_barh([(15,16)], (30, 9),facecolors =('darkblue')) # 2 \n",
    "gnt.broken_barh([(31,20)], (30, 9),facecolors =('slateblue'))#19 (7)\n",
    "gnt.broken_barh([(51,14)], (30, 9),facecolors =('darkblue'))#14 (2)\n",
    "gnt.broken_barh([(65,8)], (30, 9),facecolors =('darkslategrey'))#9 \n",
    "gnt.broken_barh([(73,10)], (30, 9),facecolors =('slategray'))#10\n",
    "gnt.broken_barh([(83,5)], (30, 9),facecolors =('slategray')) #22 (10)\n",
    "# Machine 4\n",
    "gnt.broken_barh([(15, 14)], (20, 9),facecolors =('slateblue')) #7 \n",
    "gnt.broken_barh([(29, 7)], (20, 9),facecolors =('springgreen'))#3\n",
    "gnt.broken_barh([(36, 19)], (20, 9),facecolors =('springgreen'))#15 (3)\n",
    "gnt.broken_barh([(55, 10)], (20, 9),facecolors =('orange')) #17(5)\n",
    "gnt.broken_barh([(65, 20)], (20, 9),facecolors =('lightgreen')) #24(12)\n",
    "gnt.broken_barh([(85, 7)], (20, 9),facecolors =('darkslategrey')) #21(9)\n",
    "# Machine 5\n",
    "gnt.broken_barh([(15, 5)], (10, 9),facecolors =('purple'))#4\n",
    "gnt.broken_barh([(20, 7)], (10, 9),facecolors =('purple'))#16(4)\n",
    "gnt.broken_barh([(27, 25)], (10, 9),facecolors =('plum'))#18(6)\n",
    "gnt.broken_barh([(52, 13)], (10, 9),facecolors =('crimson'))#13(1)\n",
    "gnt.broken_barh([(65, 11)], (10, 9),facecolors =('violet'))#8\n",
    "gnt.broken_barh([(76, 18)], (10, 9),facecolors =('lightpink'))#23(11)\n",
    "plt.savefig(\"gantt1.png\")\n",
    "plt.title(\"instance1--problem2\")\n",
    "plt.show()\n",
    "\n",
    "## 5 1 11 20\n",
    "## 2 19 14 9 10 22\n",
    "## 12 7 3 15 17 24 21\n",
    "## 6 4 16 18 13 8 23"
   ]
  },
  {
   "cell_type": "code",
   "execution_count": 13,
   "metadata": {
    "colab": {
     "base_uri": "https://localhost:8080/",
     "height": 404
    },
    "id": "cufm_oJPicWt",
    "outputId": "21f2428e-c90f-4969-a315-31c6c6d7084c"
   },
   "outputs": [
    {
     "data": {
      "image/png": "[encoded data removed]",
      "text/plain": [
       "<Figure size 600x400 with 1 Axes>"
      ]
     },
     "metadata": {
      "needs_background": "light"
     },
     "output_type": "display_data"
    }
   ],
   "source": [
    "# Importing the matplotlib.pyplot\n",
    "import matplotlib.pyplot as plt\n",
    "plt.rcParams[\"figure.dpi\"] = 100\n",
    "# Declaring a figure \"gnt\"\n",
    "fig, gnt = plt.subplots()\n",
    " \n",
    "# Setting Y-axis limits\n",
    "gnt.set_ylim(0, 70)\n",
    " \n",
    "# Setting X-axis limits\n",
    "gnt.set_xlim(0, 160)\n",
    " \n",
    "# Setting labels for x-axis and y-axis\n",
    "gnt.set_xlabel('time')\n",
    "gnt.set_ylabel('Machine')\n",
    " \n",
    "# Setting ticks on y-axis\n",
    "gnt.set_yticks([15, 25, 35, 45 ,55])\n",
    "# Labelling tickes of y-axis\n",
    "gnt.set_yticklabels(['5', '4', '3', '2', '1'])\n",
    "gnt.set_xticklabels(['', '08:00', '10:00', '12:00', '14:00', '16:00', '18:00', '20:00'])\n",
    "# Setting graph attribute\n",
    "gnt.grid(True)\n",
    " \n",
    "# Machine 1\n",
    "##(start,length)(y,width)\n",
    "gnt.broken_barh([(15, 7)], (50, 9),facecolors ='springgreen') #3\n",
    "gnt.broken_barh([(22, 25)], (50, 9),facecolors ='plum')  #18(6)\n",
    "gnt.broken_barh([(47, 14)], (50, 9),facecolors ='darkblue')  #14(2)\n",
    "gnt.broken_barh([(61, 8)], (50, 9),facecolors ='lightgreen')  #9\n",
    "gnt.broken_barh([(69, 7)], (50, 9),facecolors ='slategray')  #22(10)\n",
    " \n",
    "# Machine 2\n",
    "gnt.broken_barh([(15, 16)], (40, 9),facecolors ='darkblue') #2\n",
    "gnt.broken_barh([(31, 5)], (40, 9),facecolors ='purple')  #4\n",
    "gnt.broken_barh([(36, 20)], (40, 9),facecolors ='slateblue')  #19(7)\n",
    "gnt.broken_barh([(56, 20)], (40, 9),facecolors ='lightgreen')  #24\n",
    "\n",
    "# Machine 3\n",
    "gnt.broken_barh([(15,8)], (30, 9),facecolors =('orange')) # 5 \n",
    "gnt.broken_barh([(23,27)], (30, 9),facecolors =('crimson'))#1\n",
    "gnt.broken_barh([(50,11)], (30, 9),facecolors =('violet'))#8\n",
    "gnt.broken_barh([(61,14)], (30, 9),facecolors =('lightpink'))#23(11) \n",
    "\n",
    "# Machine 4\n",
    "gnt.broken_barh([(15, 14)], (20, 9),facecolors =('slateblue')) #7 \n",
    "gnt.broken_barh([(29, 19)], (20, 9),facecolors =('springgreen'))#15\n",
    "gnt.broken_barh([(48, 10)], (20, 9),facecolors =('orange'))#17 (5)\n",
    "gnt.broken_barh([(58, 10)], (20, 9),facecolors =('slategray')) #10\n",
    "gnt.broken_barh([(68, 8)], (20, 9),facecolors =('lightgreen')) #21(9)\n",
    "# Machine 5\n",
    "gnt.broken_barh([(15, 30)], (10, 9),facecolors =('lightpink'))#11\n",
    "gnt.broken_barh([(45, 7)], (10, 9),facecolors =('purple'))#16(4)\n",
    "gnt.broken_barh([(52, 13)], (10, 9),facecolors =('crimson'))#13(1)\n",
    "gnt.broken_barh([(65, 11)], (10, 9),facecolors =('violet'))#20(8)\n",
    "\n",
    "plt.savefig(\"gantt1.png\")\n",
    "plt.title(\"instance1--problem3\")\n",
    "plt.show()\n",
    "\n",
    "## 3 18 14 9 22\n",
    "## 2 4 19 24\n",
    "## 5 1 8 23\n",
    "## 7 15 17 10 21\n",
    "## 11 16 13 20"
   ]
  },
  {
   "cell_type": "markdown",
   "metadata": {
    "id": "88QIMkJprdjc"
   },
   "source": [
    "# instance 2"
   ]
  },
  {
   "cell_type": "code",
   "execution_count": 15,
   "metadata": {
    "colab": {
     "base_uri": "https://localhost:8080/",
     "height": 404
    },
    "id": "vsMLbsc-ic_P",
    "outputId": "99df1a36-ee28-46c1-e191-d10b3392ab8b"
   },
   "outputs": [
    {
     "data": {
      "image/png": "[encoded data removed]",
      "text/plain": [
       "<Figure size 600x400 with 1 Axes>"
      ]
     },
     "metadata": {
      "needs_background": "light"
     },
     "output_type": "display_data"
    }
   ],
   "source": [
    "# Importing the matplotlib.pyplot\n",
    "import matplotlib.pyplot as plt\n",
    "plt.rcParams[\"figure.dpi\"] = 100\n",
    "# Declaring a figure \"gnt\"\n",
    "fig, gnt = plt.subplots()\n",
    " \n",
    "# Setting Y-axis limits\n",
    "gnt.set_ylim(0, 70)\n",
    " \n",
    "# Setting X-axis limits\n",
    "gnt.set_xlim(0, 160)\n",
    " \n",
    "# Setting labels for x-axis and y-axis\n",
    "gnt.set_xlabel('time')\n",
    "gnt.set_ylabel('Machine')\n",
    " \n",
    "# Setting ticks on y-axis\n",
    "gnt.set_yticks([15, 25, 35, 45 ,55])\n",
    "# Labelling tickes of y-axis\n",
    "gnt.set_yticklabels(['5', '4', '3', '2', '1'])\n",
    "gnt.set_xticklabels(['', '08:00', '10:00', '12:00', '14:00', '16:00', '18:00', '20:00'])\n",
    "# Setting graph attribute\n",
    "gnt.grid(True)\n",
    " \n",
    "# Machine 1\n",
    "#gnt.broken_barh([(15, 12.5)], (50, 9), facecolors =('tab:orange'))#(start,length)(y,width)\n",
    " \n",
    "# Machine 2\n",
    "gnt.broken_barh([(15, 27)], (40, 9),facecolors ='orange')\n",
    "gnt.broken_barh([(42, 42)], (40, 9),facecolors ='crimson')\n",
    "gnt.broken_barh([(84, 26)], (40, 9),facecolors ='lightpink')\n",
    "# Machine 3\n",
    "gnt.broken_barh([(15,27)], (30, 9),facecolors =('darkblue'))\n",
    "gnt.broken_barh([(42,40)], (30, 9),facecolors =('slateblue'))\n",
    "gnt.broken_barh([(82,29)], (30, 9),facecolors =('blue'))\n",
    "# Machine 4\n",
    "gnt.broken_barh([(15, 39)], (20, 9),facecolors =('seagreen'))\n",
    "gnt.broken_barh([(49, 57)], (20, 9),facecolors =('springgreen'))\n",
    "# Machine 5\n",
    "gnt.broken_barh([(15, 36)], (10, 9),facecolors =('purple'))\n",
    "gnt.broken_barh([(51, 22)], (10, 9),facecolors =('darkviolet'))\n",
    "gnt.broken_barh([(73, 37)], (10, 9),facecolors =('plum'))\n",
    "\n",
    "plt.savefig(\"gantt1.png\")\n",
    "plt.title(\"instance2--problem1\")\n",
    "plt.show()\n",
    "## 5 1 9\n",
    "## 6 11 7\n",
    "## 2 10\n",
    "## 4 8 3"
   ]
  },
  {
   "cell_type": "code",
   "execution_count": null,
   "metadata": {
    "id": "_65LwH32idCP"
   },
   "outputs": [],
   "source": []
  },
  {
   "cell_type": "markdown",
   "metadata": {
    "id": "BwKQ8GBfxW82"
   },
   "source": [
    "# instance 3"
   ]
  },
  {
   "cell_type": "code",
   "execution_count": null,
   "metadata": {
    "id": "blEvt1DkidFC"
   },
   "outputs": [],
   "source": []
  }
 ],
 "metadata": {
  "colab": {
   "collapsed_sections": [],
   "name": "instance 1.ipynb",
   "provenance": []
  },
  "kernelspec": {
   "display_name": "Python 3",
   "language": "python",
   "name": "python3"
  },
  "language_info": {
   "codemirror_mode": {
    "name": "ipython",
    "version": 3
   },
   "file_extension": ".py",
   "mimetype": "text/x-python",
   "name": "python",
   "nbconvert_exporter": "python",
   "pygments_lexer": "ipython3",
   "version": "3.8.5"
  }
 },
 "nbformat": 4,
 "nbformat_minor": 1
}
