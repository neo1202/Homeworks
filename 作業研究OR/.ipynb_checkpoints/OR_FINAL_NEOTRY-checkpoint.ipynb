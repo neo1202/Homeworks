{
 "cells": [
  {
   "cell_type": "code",
   "execution_count": 44,
   "metadata": {},
   "outputs": [
    {
     "name": "stdout",
     "output_type": "stream",
     "text": [
      "Cost:\n",
      "[0, 0, 0, 0, 0, 0]\n",
      "[0, 0, 1, 1, 1, 0]\n",
      "[0, 1, 0, 1, 1, 0]\n",
      "[0, 1, 1, 0, 1, 0]\n",
      "[0, 1, 1, 1, 0, 0]\n",
      "[0, 0, 0, 0, 0, 0]\n"
     ]
    },
    {
     "data": {
      "text/plain": [
       "<gurobi.Constr *Awaiting Model Update*>"
      ]
     },
     "execution_count": 44,
     "metadata": {},
     "output_type": "execute_result"
    }
   ],
   "source": [
    "# -*- coding: utf-8 -*-\n",
    "\"\"\"\n",
    "OR Final Project: Group A\n",
    "\"\"\"\n",
    "# Q1(b)\n",
    "from gurobipy import*\n",
    "import pandas as pd\n",
    "import numpy as np\n",
    "\n",
    "model = Model('OR Final Project')\n",
    "\n",
    "I = 4\n",
    "# 站點 i 的停車數量\n",
    "Parked = [0,55,80,40,10,0]\n",
    "\n",
    "# 為站點 i 的車柱總數\n",
    "Capacity = [0,200,100,150,20,10000]\n",
    "\n",
    "# 調度車輛從站點 i 到站點 j 的成本 (c_ij 要等於 c_ji)\n",
    "c = [[1 if i!=I+1 and i!=0 and i!=j else 0 for i in range(I+2)] if j!=I+1 and j!=0 else [0 for k in range(I+2)]for j in range(I+2)]\n",
    "print(\"Cost:\",*c, sep='\\n')\n",
    "A = 16 # 一台調度車容量上限\n",
    "S_H = 0.7 # 停車率的安全範圍上限比率\n",
    "S_L = 0.3 # 停車率的安全範圍下限比率\n",
    "L = 60 # 調度車在單位時間內移動的距離（或時間）上限\n",
    "lambda_value = 500 #有改過 比較合理\n",
    "M=100000\n",
    "# In[] Assign variables\n",
    "a=[] #調度車從i站拿走的量\n",
    "b=[] #調度車放入i站的量\n",
    "p=[] #進i站時調度車上的腳踏車量\n",
    "q=[] #出i站時調度車上的腳踏車量\n",
    "x=[] #=1代表有經過i站\n",
    "y=[] #yij=1代表從i走到j\n",
    "w_L=[] #各點的懲罰比率\n",
    "w_H=[] #各點的懲罰比率\n",
    "u=[]\n",
    "a =   model.addVars(I+2,      lb = 0, vtype = GRB.INTEGER, name = 'a')\n",
    "b =   model.addVars(I+2,      lb = 0, vtype = GRB.INTEGER, name = 'b')\n",
    "p =   model.addVars(I+2,      lb = 0, vtype = GRB.INTEGER, name = 'p')\n",
    "q =   model.addVars(I+2,      lb = 0, vtype = GRB.INTEGER, name = 'q')\n",
    "\n",
    "x =   model.addVars(I+2,      lb = 0, vtype = GRB.BINARY,  name = 'x')\n",
    "y =   model.addVars(I+2, I+2, lb = 0, vtype = GRB.BINARY,  name = 'y') \n",
    "w_L = model.addVars(I+2,      lb = 0, vtype = GRB.INTEGER, name = 'w_L')\n",
    "w_H = model.addVars(I+2,      lb = 0, vtype = GRB.INTEGER, name = 'w_H')\n",
    "\n",
    "u =   model.addVars(I+2,      lb = 0, vtype = GRB.BINARY, name = 'u')\n",
    "#虛擬點為0是起點,n+1為終點\n",
    "#真正的點為1~n\n",
    "model.update()\n",
    "model.setObjective( quicksum(y[i,j]*c[i][j] for i in range(I+2) for j in range(I+2)) + lambda_value*quicksum(w_L[i]+w_H[i] for i in range(1,I+1)) , GRB.MINIMIZE)\n",
    "     \n",
    "\"\"\"路線限制!!!\"\"\"\n",
    "\n",
    "# 兩個點都走到才有機會連在一起\n",
    "model.addConstrs((x[i] + x[j]  >= 2*(y[i,j]+y[j,i]) for i in range(I+2) for j in range(I+2)), \"C1\")\n",
    "# 對於起終點以外，進的點=出的點(也就是都只有一個點)\n",
    "model.addConstrs(   (quicksum(y[i, k] for i in range(1,I+1))==quicksum(y[k, j] for j in range(1,I+1)) for k in range(1,I+1)   ),\"C2\")\n",
    "# 不能到自己\n",
    "model.addConstrs(   (y[i, i]==0 for i in range(I+2))   ,\"C3\")#這邊的寫法跟pdf上不一樣有小改ij to ii\n",
    "# 不能來回走\n",
    "model.addConstrs(   (y[i, j]+y[j, i] <= 1 for i in range(I+2) for j in range(I+2))   ,\"C4\")\n",
    "# 不能跑超過一小時能跑的距離(L)\n",
    "model.addConstr(   (quicksum(y[i, j]*c[i][j] for i in range(I+2) for j in range(I+2)) <= L)   ,\"C5\")\n",
    "# 一站只能進或出一次\n",
    "model.addConstrs(   (quicksum(y[i, j] for i in range(I+2))<=1 for j in range(I+2))   ,\"C6-1\")\n",
    "model.addConstrs(   (quicksum(y[i, j] for j in range(I+2))<=1 for i in range(I+2))   ,\"C6-2\")\n",
    "# x不為0時y要有東西\n",
    "model.addConstrs(   ((quicksum(y[i, j] for j in range(I+2))+quicksum(y[j, i] for j in range(I+2))) >= x[i] for i in range(I+2))   ,\"C7\")#這邊的寫法跟pdf上不一樣有小改範圍\n",
    "# 處理subtour \n",
    "#model.addConstr(   ((quicksum(y[i, j] for i in range(I+2) for j in range(I+2))+1) == quicksum(x[i] for i in range(I+2)))   ,\"ByeBye\")\n",
    "model.addConstr(  (u[0]   == 1), \"\")\n",
    "model.addConstrs( (u[i]<= (I+2)*x[i] for i in range(1,I+2)) , \"\")\n",
    "model.addConstrs( (u[i]>= 2 for i in range(1,I+2)) , \"\")\n",
    "model.addConstrs( (u[i]-u[j]+1 <= (I+2)*(1-y[i, j]) for i in range(I+2) for j in range(I+2)) , \"\")\n",
    "\n",
    "\"\"\"站點bike限制!!!\"\"\"\n",
    "# 只能拿或放，不能同時\n",
    "model.addConstrs(   (a[i]*b[i] == 0 for i in range(I+2)) , \"C8\")\n",
    "# 有經過才拿或放\n",
    "# M亂設成100000\n",
    "model.addConstrs( (M*x[i] >= a[i] for i in range(I+2)), \"C9-1\")\n",
    "model.addConstrs( (M*x[i] >= b[i] for i in range(I+2)), \"C9-2\")\n",
    "# 懲罰\n",
    "model.addConstrs((w_L[i] >= S_L - (Parked[i] - a[i] * x[i] + b[i] * x[i])/Capacity[i] for i in range(1,I+1)), \"C10-1-1\")\n",
    "model.addConstrs(((Parked[i] - a[i] * x[i] + b[i] * x[i])/Capacity[i] >= S_L for i in range(1,I+1)), \"C10-1-2\")\n",
    "model.addConstrs((w_H[i] >= (Parked[i] - a[i] * x[i] + b[i] * x[i])/Capacity[i] - S_H for i in range(1,I+1)), \"C10-2-1\")\n",
    "model.addConstrs(((Parked[i] - a[i] * x[i] + b[i] * x[i])/Capacity[i] <= S_H for i in range(1,I+1)), \"C10-2-2\")\n",
    "# 所有從各站拿走總合等於放回 卡車最後沒東西都放回虛擬點\n",
    "model.addConstr(  (quicksum(a[i]*x[i] for i in range(I+2)) == quicksum(b[i]*x[i] for i in range(I+2))), \"C11\")\n",
    "# 合理的放回車站\n",
    "model.addConstrs( (b[i] +  Parked[i] <= Capacity[i] for i in range(1,I+1)), \"C12-1\")\n",
    "# 合理地拿出車站\n",
    "model.addConstrs( (a[i] <= Parked[i]                for i in range(1,I+1)), \"C12-2\")\n",
    "\n",
    "\"\"\" trucks constraints \"\"\"\n",
    "# 進+拿-放=出\n",
    "model.addConstrs( (p[i] + a[i] - b[i] == q[i] for i in range(I+2)), \"C13\")\n",
    "# 從此站出的腳踏車量等於到下站時的腳踏車量\n",
    "model.addConstrs( (q[i]*y[i,j] == p[j]*y[i,j] for i in range(I+2) for j in range(I+2)), \"C14\")\n",
    "# 車上總車數不能超過容量\n",
    "model.addConstrs( (p[i] <= A for i in range(I+2)), \"C15-1\")\n",
    "model.addConstrs( (q[i] <= A for i in range(I+2)), \"C15-2\")\n",
    "\n",
    "\"\"\" Virtual points constraints \"\"\"\n",
    "# 起點的a,b為0\n",
    "model.addConstr(  (a[0]   == 0), \"\")\n",
    "model.addConstr(  (b[0]   == 0), \"\")\n",
    "# 終點的a為0,b都可\n",
    "model.addConstr(  (a[I+1] == 0), \"\")\n",
    "model.addConstr(  (b[I+1] >= 0), \"終點可以放車（真實的站點最後一站沒補完）\")\n",
    "# 起終點必經\n",
    "model.addConstr(  (x[0]   == 1), \"\")\n",
    "model.addConstr(  (x[I+1] == 1), \"\")\n",
    "# 起點不進，終點不出\n",
    "model.addConstrs( (y[i,   0] == 0 for i in range(1, I+1))  , \"不能進入虛擬起點\")\n",
    "model.addConstrs( (y[I+1, i] == 0 for i in range(1, I+1))  , \"虛擬終點不能出去\")\n",
    "# 起終虛擬點不能互通\n",
    "model.addConstr(  (y[0, I+1] == 0)                         , \"不能起點直接到終點\")\n",
    "model.addConstr(  (y[I+1, 0] == 0)                         , \"不能終點直接到起點\")\n",
    "# 在起點時沒車，終點時即便原本有車也要放到沒\n",
    "model.addConstr(  (p[0]   == 0), \"\")\n",
    "model.addConstr(  (q[0]   == 0), \"\")\n",
    "model.addConstr(  (p[I+1] >= 0), \"進入終點時可以有車（真實的站點最後一站沒補完）\")\n",
    "model.addConstr(  (q[I+1] == 0), \"\")\n",
    "# 起終點不懲罰\n",
    "model.addConstr(  (w_L[0]   == 0), \"\")\n",
    "model.addConstr(  (w_L[0]   == 0), \"\")\n",
    "model.addConstr(  (w_H[I+1] == 0), \"\")\n",
    "model.addConstr(  (w_H[I+1] == 0), \"\")\n"
   ]
  },
  {
   "cell_type": "code",
   "execution_count": 45,
   "metadata": {},
   "outputs": [
    {
     "name": "stdout",
     "output_type": "stream",
     "text": [
      "Gurobi Optimizer version 9.5.1 build v9.5.1rc2 (mac64[x86])\n",
      "Thread count: 4 physical cores, 8 logical processors, using up to 8 threads\n",
      "Optimize a model with 205 rows, 84 columns and 583 nonzeros\n",
      "Model fingerprint: 0x0cd1302a\n",
      "Model has 59 quadratic constraints\n",
      "Variable types: 0 continuous, 84 integer (48 binary)\n",
      "Coefficient statistics:\n",
      "  Matrix range     [1e+00, 1e+05]\n",
      "  QMatrix range    [5e-03, 1e+00]\n",
      "  QLMatrix range   [1e+00, 1e+00]\n",
      "  Objective range  [1e+00, 5e+02]\n",
      "  Bounds range     [1e+00, 1e+00]\n",
      "  RHS range        [1e+00, 1e+02]\n",
      "  QRHS range       [2e-02, 5e-01]\n",
      "Presolve removed 50 rows and 5 columns\n",
      "Presolve time: 0.00s\n",
      "\n",
      "Explored 0 nodes (0 simplex iterations) in 0.01 seconds (0.00 work units)\n",
      "Thread count was 1 (of 8 available processors)\n",
      "\n",
      "Solution count 0\n",
      "\n",
      "Model is infeasible\n",
      "Best objective -, best bound -, gap -\n"
     ]
    },
    {
     "ename": "AttributeError",
     "evalue": "Unable to retrieve attribute 'x'",
     "output_type": "error",
     "traceback": [
      "\u001b[0;31m---------------------------------------------------------------------------\u001b[0m",
      "\u001b[0;31mAttributeError\u001b[0m                            Traceback (most recent call last)",
      "\u001b[0;32m<ipython-input-45-d7457b591b31>\u001b[0m in \u001b[0;36m<module>\u001b[0;34m\u001b[0m\n\u001b[1;32m      2\u001b[0m \u001b[0;34m\u001b[0m\u001b[0m\n\u001b[1;32m      3\u001b[0m \u001b[0;32mfor\u001b[0m \u001b[0mvar\u001b[0m \u001b[0;32min\u001b[0m \u001b[0mmodel\u001b[0m\u001b[0;34m.\u001b[0m\u001b[0mgetVars\u001b[0m\u001b[0;34m(\u001b[0m\u001b[0;34m)\u001b[0m\u001b[0;34m:\u001b[0m\u001b[0;34m\u001b[0m\u001b[0;34m\u001b[0m\u001b[0m\n\u001b[0;32m----> 4\u001b[0;31m     \u001b[0mprint\u001b[0m\u001b[0;34m(\u001b[0m\u001b[0mvar\u001b[0m\u001b[0;34m.\u001b[0m\u001b[0mvarName\u001b[0m\u001b[0;34m,\u001b[0m \u001b[0;34m'='\u001b[0m\u001b[0;34m,\u001b[0m \u001b[0mvar\u001b[0m\u001b[0;34m.\u001b[0m\u001b[0mx\u001b[0m\u001b[0;34m)\u001b[0m\u001b[0;34m\u001b[0m\u001b[0;34m\u001b[0m\u001b[0m\n\u001b[0m\u001b[1;32m      5\u001b[0m \u001b[0mprint\u001b[0m\u001b[0;34m(\u001b[0m\u001b[0;34m\"objective value =\"\u001b[0m\u001b[0;34m,\u001b[0m \u001b[0mmodel\u001b[0m\u001b[0;34m.\u001b[0m\u001b[0mobjVal\u001b[0m\u001b[0;34m)\u001b[0m\u001b[0;34m\u001b[0m\u001b[0;34m\u001b[0m\u001b[0m\n",
      "\u001b[0;32msrc/gurobipy/var.pxi\u001b[0m in \u001b[0;36mgurobipy.Var.__getattr__\u001b[0;34m()\u001b[0m\n",
      "\u001b[0;32msrc/gurobipy/var.pxi\u001b[0m in \u001b[0;36mgurobipy.Var.getAttr\u001b[0;34m()\u001b[0m\n",
      "\u001b[0;32msrc/gurobipy/attrutil.pxi\u001b[0m in \u001b[0;36mgurobipy.__getattr\u001b[0;34m()\u001b[0m\n",
      "\u001b[0;31mAttributeError\u001b[0m: Unable to retrieve attribute 'x'"
     ]
    }
   ],
   "source": [
    "model.optimize()\n",
    "\n",
    "for var in model.getVars():\n",
    "    print(var.varName, '=', var.x)\n",
    "print(\"objective value =\", model.objVal)"
   ]
  },
  {
   "cell_type": "code",
   "execution_count": 21,
   "metadata": {},
   "outputs": [
    {
     "name": "stdout",
     "output_type": "stream",
     "text": [
      "Gurobi Optimizer version 9.5.1 build v9.5.1rc2 (mac64[x86])\n",
      "Thread count: 4 physical cores, 8 logical processors, using up to 8 threads\n",
      "Optimize a model with 164 rows, 78 columns and 518 nonzeros\n",
      "Model fingerprint: 0x416580fd\n",
      "Model has 59 quadratic constraints\n",
      "Variable types: 0 continuous, 78 integer (42 binary)\n",
      "Coefficient statistics:\n",
      "  Matrix range     [1e+00, 1e+05]\n",
      "  QMatrix range    [5e-03, 1e+00]\n",
      "  QLMatrix range   [1e+00, 1e+00]\n",
      "  Objective range  [1e+00, 5e+02]\n",
      "  Bounds range     [1e+00, 1e+00]\n",
      "  RHS range        [1e+00, 1e+02]\n",
      "  QRHS range       [2e-02, 5e-01]\n",
      "Presolved: 15 rows, 9 columns, 46 nonzeros\n",
      "\n",
      "Continuing optimization...\n",
      "\n",
      "\n",
      "Explored 0 nodes (0 simplex iterations) in 0.01 seconds (0.00 work units)\n",
      "Thread count was 8 (of 8 available processors)\n",
      "\n",
      "Solution count 1: 3 \n",
      "\n",
      "Optimal solution found (tolerance 1.00e-04)\n",
      "Best objective 3.000000000000e+00, best bound 3.000000000000e+00, gap 0.0000%\n",
      "Objective value: 3.000000\n",
      "       Var  Value\n",
      "1     a[0]    0.0\n",
      "2     a[1]    0.0\n",
      "3     a[2]   10.0\n",
      "4     a[3]    0.0\n",
      "5     a[4]   -0.0\n",
      "..     ...    ...\n",
      "74  w_H[1]   -0.0\n",
      "75  w_H[2]   -0.0\n",
      "76  w_H[3]   -0.0\n",
      "77  w_H[4]   -0.0\n",
      "78  w_H[5]    0.0\n",
      "\n",
      "[78 rows x 2 columns]\n"
     ]
    }
   ],
   "source": [
    "model.optimize()\n",
    "\n",
    "# In[] Export result\n",
    "print('Objective value: %2f'%(model.objVal))\n",
    "\n",
    "output = pd.DataFrame(columns = (\"Var\", \"Value\"))\n",
    "no = 1\n",
    "for _,v in enumerate(model.getVars()):\n",
    "    output.loc[no] = [v.varname, float(\"{:.4f}\".format(v.x))]\n",
    "    no += 1\n",
    "    \n",
    "output = pd.DataFrame(output)\n",
    "print(output)"
   ]
  },
  {
   "cell_type": "code",
   "execution_count": 27,
   "metadata": {},
   "outputs": [
    {
     "name": "stdout",
     "output_type": "stream",
     "text": [
      "[]\n"
     ]
    },
    {
     "data": {
      "text/plain": [
       "array([-1, -1, -1, -1, -1, -1])"
      ]
     },
     "execution_count": 27,
     "metadata": {},
     "output_type": "execute_result"
    }
   ],
   "source": [
    "u = np.full((I+2), -1) #建立一個內容為2.2 4x2 的浮點數陣列\n",
    "u"
   ]
  },
  {
   "cell_type": "code",
   "execution_count": null,
   "metadata": {},
   "outputs": [],
   "source": []
  }
 ],
 "metadata": {
  "kernelspec": {
   "display_name": "Python 3",
   "language": "python",
   "name": "python3"
  },
  "language_info": {
   "codemirror_mode": {
    "name": "ipython",
    "version": 3
   },
   "file_extension": ".py",
   "mimetype": "text/x-python",
   "name": "python",
   "nbconvert_exporter": "python",
   "pygments_lexer": "ipython3",
   "version": "3.8.5"
  }
 },
 "nbformat": 4,
 "nbformat_minor": 4
}
